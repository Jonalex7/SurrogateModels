{
 "cells": [
  {
   "cell_type": "markdown",
   "id": "2ff0bf73",
   "metadata": {},
   "source": [
    "# RP 55"
   ]
  },
  {
   "cell_type": "code",
   "execution_count": 1,
   "id": "8ed3ee4e",
   "metadata": {},
   "outputs": [],
   "source": [
    "from bayesian_models import Pbnn\n",
    "import tensorflow as tf\n",
    "import numpy as np\n",
    "import matplotlib.pyplot as plt\n",
    "from doepy import build\n",
    "import pickle\n",
    "from scipy.stats import norm"
   ]
  },
  {
   "cell_type": "code",
   "execution_count": 2,
   "id": "45bf0918",
   "metadata": {},
   "outputs": [],
   "source": [
    "# https://rprepo.readthedocs.io/en/latest/_modules/gfun_55.html#gfun_55\n",
    "# RP55\n",
    "# Table 21 – Challenge set 2.\n",
    "# set_id - problem_id\n",
    "# 2 - 4\n",
    "\n",
    "import gfun_55_mod as gfun_55_mod\n",
    "\n",
    "function = gfun_55_mod.gfun_55_mod  #assigning ground truth sim"
   ]
  },
  {
   "cell_type": "markdown",
   "id": "d12d1500",
   "metadata": {},
   "source": [
    "Active Train"
   ]
  },
  {
   "cell_type": "code",
   "execution_count": 3,
   "id": "4ef829c8",
   "metadata": {
    "scrolled": false
   },
   "outputs": [
    {
     "name": "stdout",
     "output_type": "stream",
     "text": [
      "Experiment:  1 ########################################################\n"
     ]
    },
    {
     "name": "stderr",
     "output_type": "stream",
     "text": [
      "c:\\Users\\Administrator\\anaconda3\\envs\\deep_learning\\lib\\site-packages\\tensorflow_probability\\python\\layers\\util.py:99: UserWarning: `layer.add_variable` is deprecated and will be removed in a future version. Please use the `layer.add_weight()` method instead.\n",
      "  loc = add_variable_fn(\n",
      "c:\\Users\\Administrator\\anaconda3\\envs\\deep_learning\\lib\\site-packages\\tensorflow_probability\\python\\layers\\util.py:109: UserWarning: `layer.add_variable` is deprecated and will be removed in a future version. Please use the `layer.add_weight()` method instead.\n",
      "  untransformed_scale = add_variable_fn(\n"
     ]
    },
    {
     "name": "stdout",
     "output_type": "stream",
     "text": [
      "WARNING:tensorflow:Please fix your imports. Module tensorflow.python.training.tracking.data_structures has been moved to tensorflow.python.trackable.data_structures. The old module will be deleted in version 2.11.\n",
      " \n",
      "Training BNN With 10 samples\n",
      "Training completed\n",
      "Minimum loss:  38.14536666870117\n",
      "BNN predictions with MC population...\n",
      "PF = 0.0 and B = inf with 10 training samples--------------------------------\n",
      " \n",
      "Training BNN With 11 samples\n",
      "Training completed\n",
      "Minimum loss:  28.890958786010742\n",
      "BNN predictions with MC population...\n",
      "PF = 0.006387 and B = 2.49000 with 11 training samples--------------------------------\n",
      " \n",
      "Training BNN With 12 samples\n"
     ]
    }
   ],
   "source": [
    "number_experiments = 10\n",
    "passive_samples = 10 \n",
    "active_samples = 50\n",
    "\n",
    "dim = 2\n",
    "output = 1\n",
    "layers, archit = 2 , [16,16]  #change archit size if layers are increased\n",
    "bnn_simulations = 500\n",
    "training_epochs = 15000\n",
    "n_mcs = int(1e6)\n",
    "\n",
    "for experiments in range(number_experiments):\n",
    "    print('Experiment: ', experiments+1 , '########################################################' )\n",
    "    \n",
    "    ActiveTrain_1 = {}\n",
    "\n",
    "    #PASSIVE TRAINING---------------------------------------------------\n",
    "    X = np.zeros((passive_samples, dim))\n",
    "    #-------------------------------------------------------------------LHS\n",
    "    Xdoe = build.space_filling_lhs({ 'x1':[-1, 1],      \n",
    "                                     'x2':[-1, 1],},\n",
    "                                     num_samples = passive_samples)\n",
    "    X[:,0] = Xdoe['x1']\n",
    "    X[:,1] = Xdoe['x2']\n",
    "\n",
    "    Y = function(X)\n",
    "\n",
    "    #ACTIVE TRAIN LOOP ---------------------------------------------------\n",
    "    for active in range(passive_samples, active_samples+passive_samples+1):\n",
    "\n",
    "        n_doe = len(X)\n",
    "        batch_size = [np.floor_divide(n_doe, 2)][0] + 1  # half of the DoE\n",
    "        \n",
    "        #-------------------------------------------creating bnn\n",
    "        #setting up the network architecture -----------------------------------\n",
    "        config = {\"n_infeatures\": dim,\n",
    "              \"n_outfeatures\": output,\n",
    "              \"n_samples\": n_doe,\n",
    "              \"learn_all_params\": False,  #to learn mean and sigma\n",
    "              \"fixed_param\": 0.001} \n",
    "        \n",
    "        ModelName = 'BNN_' + str(n_doe)\n",
    "        mybnn = Pbnn(config)\n",
    "        \n",
    "        mybnn.build_bnn(layers, archit) #----------------------------------------------------------MODEL ARCHITECTURE\n",
    "        #-------------------------------------------training bnn\n",
    "        train_env = {\"batch_size\": batch_size,\n",
    "                 \"learning_rate\": 0.001,\n",
    "                 \"epochs\": training_epochs,\n",
    "                 \"callback_patience\": 4000,\n",
    "                 \"verbose\": 0}\n",
    "        print(' ')\n",
    "        print('Training BNN With', active, 'samples' )\n",
    "        mybnn.train_bnn(X, Y, train_env)\n",
    "        #-------------------------------------------MC population\n",
    "        Xtest = np.random.uniform(-1.0, 1.0, size=(n_mcs, dim))\n",
    "\n",
    "        #-------------------------------------------model predictions over MC population\n",
    "        print('BNN predictions with MC population...')\n",
    "        Mean_muY_MC, Stdv_muY_MC, Mean_sigmaY_MC, Stdv_sigmaY_MC = mybnn.modeluq_bnn(Xtest, nsim = bnn_simulations)\n",
    "\n",
    "        PF = np.sum(Mean_muY_MC < 0) / n_mcs\n",
    "        B = - norm.ppf( PF )\n",
    "\n",
    "        print('PF =', PF, 'and B =',\"%.5f\" % round(B, 3) , 'with', active, 'training samples--------------------------------')\n",
    "        #-------------------------------------------Selecting new training point\n",
    "        U_f = np.abs(Mean_muY_MC) / Stdv_muY_MC\n",
    "        U_min = np.argmin(U_f)\n",
    "        X_new = Xtest[U_min]\n",
    "        X = np.concatenate((X, X_new.reshape(-1, dim)), axis=0)\n",
    "\n",
    "        Y_new = function(X_new)\n",
    "        Y = np.concatenate((Y, Y_new), axis=0)\n",
    "\n",
    "        #-------------------------------------------Saving results\n",
    "        ActiveTrain_1[ModelName] = mybnn.weights, PF, B\n",
    "        filename1 = 'Batch_'+ str(experiments+1)+'.sav'\n",
    "    \n",
    "        pickle.dump(ActiveTrain_1, open(filename1, 'wb'))\n"
   ]
  },
  {
   "cell_type": "code",
   "execution_count": null,
   "id": "2a22546c",
   "metadata": {},
   "outputs": [],
   "source": []
  }
 ],
 "metadata": {
  "kernelspec": {
   "display_name": "Python 3 (ipykernel)",
   "language": "python",
   "name": "python3"
  },
  "language_info": {
   "codemirror_mode": {
    "name": "ipython",
    "version": 3
   },
   "file_extension": ".py",
   "mimetype": "text/x-python",
   "name": "python",
   "nbconvert_exporter": "python",
   "pygments_lexer": "ipython3",
   "version": "3.9.17"
  }
 },
 "nbformat": 4,
 "nbformat_minor": 5
}
