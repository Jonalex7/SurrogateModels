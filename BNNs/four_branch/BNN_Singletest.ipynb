{
 "cells": [
  {
   "cell_type": "markdown",
   "id": "2ff0bf73",
   "metadata": {},
   "source": [
    "# BNNs"
   ]
  },
  {
   "cell_type": "code",
   "execution_count": 1,
   "id": "8ed3ee4e",
   "metadata": {},
   "outputs": [],
   "source": [
    "from bayesian_models import Pbnn\n",
    "import tensorflow as tf\n",
    "import numpy as np\n",
    "import matplotlib.pyplot as plt\n",
    "from doepy import build\n",
    "import pickle\n",
    "from scipy.stats import norm, uniform, lognorm"
   ]
  },
  {
   "cell_type": "code",
   "execution_count": 2,
   "id": "45bf0918",
   "metadata": {},
   "outputs": [],
   "source": [
    "from four_branch import four_branch\n",
    "\n",
    "function = four_branch\n",
    "\n",
    "def convert_lognormal(mean_ln, std_ln):\n",
    "    gaussian_param = np.zeros(2)\n",
    "\n",
    "    SigmaLogNormal = np.sqrt( np.log(1+(std_ln/mean_ln)**2))\n",
    "    MeanLogNormal = np.log( mean_ln ) - SigmaLogNormal**2/2\n",
    "\n",
    "    gaussian_param[0] = MeanLogNormal\n",
    "    gaussian_param[1] = SigmaLogNormal\n",
    "\n",
    "    return gaussian_param"
   ]
  },
  {
   "cell_type": "markdown",
   "id": "d12d1500",
   "metadata": {},
   "source": [
    "Active Train"
   ]
  },
  {
   "cell_type": "code",
   "execution_count": 3,
   "id": "47c9c700",
   "metadata": {},
   "outputs": [
    {
     "data": {
      "text/plain": [
       "(0.004372, 2.6219042243725723)"
      ]
     },
     "execution_count": 3,
     "metadata": {},
     "output_type": "execute_result"
    }
   ],
   "source": [
    "dim = 2\n",
    "n_mcs = int(1e6)\n",
    "x_test = np.random.normal(0, 1, size=(n_mcs, dim))\n",
    "\n",
    "exp = {'x1': [0, 1, 'normal'],\n",
    "       'x2': [0, 1, 'normal']}\n",
    "\n",
    "y_test = function(x_test)\n",
    "Pf_ref = np.sum( y_test < 0 ) / n_mcs\n",
    "B_ref= - norm.ppf( Pf_ref )\n",
    "Pf_ref, B_ref"
   ]
  },
  {
   "cell_type": "code",
   "execution_count": 4,
   "id": "2a22546c",
   "metadata": {},
   "outputs": [
    {
     "name": "stderr",
     "output_type": "stream",
     "text": [
      "C:\\Users\\Administrator\\anaconda3\\envs\\deep_learning\\lib\\site-packages\\tensorflow_probability\\python\\layers\\util.py:99: UserWarning: `layer.add_variable` is deprecated and will be removed in a future version. Please use the `layer.add_weight()` method instead.\n",
      "  loc = add_variable_fn(\n",
      "C:\\Users\\Administrator\\anaconda3\\envs\\deep_learning\\lib\\site-packages\\tensorflow_probability\\python\\layers\\util.py:109: UserWarning: `layer.add_variable` is deprecated and will be removed in a future version. Please use the `layer.add_weight()` method instead.\n",
      "  untransformed_scale = add_variable_fn(\n"
     ]
    },
    {
     "name": "stdout",
     "output_type": "stream",
     "text": [
      "WARNING:tensorflow:Please fix your imports. Module tensorflow.python.training.tracking.data_structures has been moved to tensorflow.python.trackable.data_structures. The old module will be deleted in version 2.11.\n"
     ]
    }
   ],
   "source": [
    "dim = 2\n",
    "output = 1\n",
    "layers, archit = 2 , [8, 8] #ange archit size if layers are increased\n",
    "\n",
    "passive_samples = 10\n",
    "\n",
    "\n",
    "#PASSIVE TRAINING---------------------------------------------------\n",
    "X = np.zeros((passive_samples, dim))\n",
    "\n",
    "exp_norm = {}\n",
    "for var_name in range(dim):\n",
    "    exp_norm['x'+ str(var_name+1)] = [0.000001, 0.999999]    #initial design domain for each variable (normal, uniform)\n",
    "#Latin hypercube sampling\n",
    "Xdoe = build.space_filling_lhs(exp_norm , num_samples = passive_samples)\n",
    "\n",
    "for margin in range (0, dim):\n",
    "    var = 'x' + str (margin + 1)\n",
    "\n",
    "    if exp[var][2] == 'normal':\n",
    "        loc_ = exp[var][0]\n",
    "        scale_ = exp[var][1]\n",
    "        X[:, margin] = norm.ppf(Xdoe[var], loc=loc_, scale=scale_)\n",
    "\n",
    "    elif exp[var][2] == 'uniform':\n",
    "        loc_ = exp[var][0]\n",
    "        scale_ = exp[var][1]\n",
    "        X[:, margin] = uniform.ppf(Xdoe[var], loc=loc_, scale=scale_-loc_)\n",
    "\n",
    "    elif exp[var][2] == 'lognormal':\n",
    "        xlog_mean = exp[var][0]\n",
    "        xlog_std = exp[var][1]\n",
    "        gaussian_param = convert_lognormal(xlog_mean, xlog_std)\n",
    "        X[:, margin] = lognorm.ppf(Xdoe[var], s=gaussian_param[1], scale=xlog_mean) \n",
    "\n",
    "Y = function(X)\n",
    "\n",
    "n_doe = len(X)\n",
    "#-------------------------------------------creating bnn\n",
    "#setting up the network architecture -----------------------------------\n",
    "config = {\"n_infeatures\": dim,\n",
    "        \"n_outfeatures\": output,\n",
    "        \"n_samples\": n_doe,\n",
    "        \"learn_all_params\": False,  #to learn mean and sigma\n",
    "        \"fixed_param\": 0.001} \n",
    "\n",
    "ModelName = 'BNN_' + str(n_doe)\n",
    "mybnn = Pbnn(config)\n",
    "\n",
    "mybnn.build_bnn(layers, archit) #----------------------------------------------------------MODEL ARCHITECTURE"
   ]
  },
  {
   "cell_type": "code",
   "execution_count": 39,
   "id": "34117547",
   "metadata": {},
   "outputs": [
    {
     "name": "stdout",
     "output_type": "stream",
     "text": [
      "Training BNN With 16 samples\n",
      "Training completed\n",
      "Minimum loss:  2860.498779296875\n"
     ]
    }
   ],
   "source": [
    "#ACTIVE TRAIN LOOP ---------------------------------------------------\n",
    "training_epochs = 15000\n",
    "batch_size = len(X)\n",
    "# batch_size = [np.floor_divide(len(X), 2)][0] + 1  # half of the DoE\n",
    "\n",
    "#-------------------------------------------training bnn\n",
    "train_env = {\"batch_size\": batch_size,\n",
    "            \"learning_rate\": 0.001,\n",
    "            \"epochs\": training_epochs,\n",
    "            \"callback_patience\": 4000,\n",
    "            \"verbose\": 1}\n",
    "print('Training BNN With', len(X), 'samples' )\n",
    "mybnn.train_bnn(X, Y, train_env)"
   ]
  },
  {
   "cell_type": "code",
   "execution_count": 40,
   "id": "5b20c2f8",
   "metadata": {},
   "outputs": [
    {
     "name": "stdout",
     "output_type": "stream",
     "text": [
      "BNN predictions with MC population...\n",
      "PF_ref = 0.004434 PF = 0.002098 and B = 2.86300\n"
     ]
    }
   ],
   "source": [
    "n_mcs = int(1e6)\n",
    "bnn_simulations = 500\n",
    "\n",
    "#-------------------------------------------MC population\n",
    "Xtest = np.zeros((int(n_mcs), dim))\n",
    "MCinputs_norm= np.random.uniform(0.000001, 0.999999, size=(int(n_mcs), dim))\n",
    "\n",
    "##Iso-probabilistic transformation-------------------------------------------\n",
    "for margin in range (0, dim):\n",
    "    var = 'x' + str (margin + 1)\n",
    "\n",
    "    if exp[var][2] == 'normal':\n",
    "        loc_ = exp[var][0]\n",
    "        scale_ = exp[var][1]\n",
    "        Xtest[:, margin] = norm.ppf(MCinputs_norm[:, margin], loc=loc_, scale=scale_)\n",
    "\n",
    "    elif exp[var][2] == 'uniform':\n",
    "        loc_ = exp[var][0]\n",
    "        scale_ = exp[var][1]\n",
    "        Xtest[:, margin] = uniform.ppf(MCinputs_norm[:, margin], loc=loc_, scale=scale_-loc_)\n",
    "\n",
    "    elif exp[var][2] == 'lognormal':\n",
    "        xlog_mean = exp[var][0]\n",
    "        xlog_std = exp[var][1]\n",
    "        gaussian_param = convert_lognormal(xlog_mean, xlog_std)\n",
    "        Xtest[:, margin] = lognorm.ppf(MCinputs_norm[:, margin], s=gaussian_param[1], scale=xlog_mean) \n",
    "\n",
    "#-------------------------------------------model predictions over MC population\n",
    "print('BNN predictions with MC population...')\n",
    "Mean_muY_MC, Stdv_muY_MC, Mean_sigmaY_MC, Stdv_sigmaY_MC = mybnn.modeluq_bnn(Xtest, nsim = bnn_simulations)\n",
    "y_mcs = function(Xtest)\n",
    "\n",
    "PF = np.sum(Mean_muY_MC < 0) / n_mcs\n",
    "PF_ref = np.sum(y_mcs < 0) / n_mcs\n",
    "B = - norm.ppf( PF )\n",
    "\n",
    "print('PF_ref =', PF_ref,'PF =', PF, 'and B =',\"%.5f\" % round(B, 3))"
   ]
  },
  {
   "cell_type": "code",
   "execution_count": 36,
   "id": "8e80a1d1",
   "metadata": {},
   "outputs": [
    {
     "data": {
      "text/plain": [
       "array([ 0.07487402, -0.008905  , -0.00747536, -0.00590837,  0.08573978,\n",
       "       -0.00523244, -0.00342153, -0.00150835, -0.00515859,  0.08822284,\n",
       "        0.05993528, -0.16480754, -0.00171553, -0.00483883, -0.22874546])"
      ]
     },
     "execution_count": 36,
     "metadata": {},
     "output_type": "execute_result"
    }
   ],
   "source": [
    "Mean_muY_val, Stdv_muY_val, Mean_sigmaY_val, Stdv_sigmaY_val = mybnn.modeluq_bnn(X, nsim = bnn_simulations)\n",
    "Mean_muY_val.reshape(-1) - Y"
   ]
  },
  {
   "cell_type": "code",
   "execution_count": 38,
   "id": "e5366154",
   "metadata": {},
   "outputs": [
    {
     "name": "stdout",
     "output_type": "stream",
     "text": [
      "[ 2.6398568   2.5912778  -1.2754917   2.6051097   1.894706    1.801368\n",
      "  1.9185399  -0.08005714  2.8024201  -3.7223573   0.5917287   0.3365314\n",
      "  0.33764505  1.5427594   0.46241045 -0.00950265]\n"
     ]
    }
   ],
   "source": [
    "#-------------------------------------------Selecting new training point\n",
    "U_f = np.abs(Mean_muY_MC) / Stdv_muY_MC\n",
    "U_min = np.argmin(U_f)\n",
    "X_new = Xtest[U_min].reshape(-1, dim)\n",
    "X = np.concatenate((X, X_new), axis=0)\n",
    "\n",
    "Y_new = function(X_new)\n",
    "Y = np.concatenate((Y, Y_new), axis=0)\n",
    "print(Y)"
   ]
  },
  {
   "cell_type": "code",
   "execution_count": 8,
   "id": "1b5be95e",
   "metadata": {},
   "outputs": [
    {
     "name": "stdout",
     "output_type": "stream",
     "text": [
      "PF = 0.009501 and B = 2.34500\n"
     ]
    },
    {
     "data": {
      "text/plain": [
       "10"
      ]
     },
     "execution_count": 8,
     "metadata": {},
     "output_type": "execute_result"
    }
   ],
   "source": [
    "print('PF =', PF, 'and B =',\"%.5f\" % round(B, 3))\n",
    "len(X)"
   ]
  },
  {
   "cell_type": "code",
   "execution_count": 12,
   "id": "69f12dd2",
   "metadata": {},
   "outputs": [
    {
     "name": "stdout",
     "output_type": "stream",
     "text": [
      "PF = 0.004975 and B = 2.57800\n"
     ]
    },
    {
     "data": {
      "text/plain": [
       "11"
      ]
     },
     "execution_count": 12,
     "metadata": {},
     "output_type": "execute_result"
    }
   ],
   "source": [
    "print('PF =', PF, 'and B =',\"%.5f\" % round(B, 3))\n",
    "len(X)"
   ]
  },
  {
   "cell_type": "code",
   "execution_count": 17,
   "id": "e9983d1f",
   "metadata": {},
   "outputs": [
    {
     "name": "stdout",
     "output_type": "stream",
     "text": [
      "PF = 0.005231 and B = 2.56000\n"
     ]
    },
    {
     "data": {
      "text/plain": [
       "12"
      ]
     },
     "execution_count": 17,
     "metadata": {},
     "output_type": "execute_result"
    }
   ],
   "source": [
    "print('PF =', PF, 'and B =',\"%.5f\" % round(B, 3))\n",
    "len(X)"
   ]
  },
  {
   "cell_type": "code",
   "execution_count": 24,
   "id": "db469199",
   "metadata": {},
   "outputs": [
    {
     "name": "stdout",
     "output_type": "stream",
     "text": [
      "PF = 0.003926 and B = 2.65800\n"
     ]
    },
    {
     "data": {
      "text/plain": [
       "13"
      ]
     },
     "execution_count": 24,
     "metadata": {},
     "output_type": "execute_result"
    }
   ],
   "source": [
    "print('PF =', PF, 'and B =',\"%.5f\" % round(B, 3))\n",
    "len(X)"
   ]
  },
  {
   "cell_type": "code",
   "execution_count": 28,
   "id": "778e5220",
   "metadata": {},
   "outputs": [
    {
     "name": "stdout",
     "output_type": "stream",
     "text": [
      "PF = 0.00218 and B = 2.85100\n"
     ]
    },
    {
     "data": {
      "text/plain": [
       "14"
      ]
     },
     "execution_count": 28,
     "metadata": {},
     "output_type": "execute_result"
    }
   ],
   "source": [
    "print('PF =', PF, 'and B =',\"%.5f\" % round(B, 3))\n",
    "len(X)"
   ]
  },
  {
   "cell_type": "code",
   "execution_count": 35,
   "id": "0e6e2768",
   "metadata": {},
   "outputs": [
    {
     "name": "stdout",
     "output_type": "stream",
     "text": [
      "PF = 0.00225 and B = 2.84100\n"
     ]
    },
    {
     "data": {
      "text/plain": [
       "15"
      ]
     },
     "execution_count": 35,
     "metadata": {},
     "output_type": "execute_result"
    }
   ],
   "source": [
    "print('PF =', PF, 'and B =',\"%.5f\" % round(B, 3))\n",
    "len(X)"
   ]
  },
  {
   "cell_type": "code",
   "execution_count": 41,
   "id": "403770f2",
   "metadata": {},
   "outputs": [
    {
     "name": "stdout",
     "output_type": "stream",
     "text": [
      "PF = 0.002098 and B = 2.86300\n"
     ]
    },
    {
     "data": {
      "text/plain": [
       "16"
      ]
     },
     "execution_count": 41,
     "metadata": {},
     "output_type": "execute_result"
    }
   ],
   "source": [
    "print('PF =', PF, 'and B =',\"%.5f\" % round(B, 3))\n",
    "len(X)"
   ]
  },
  {
   "cell_type": "code",
   "execution_count": null,
   "id": "bff977af",
   "metadata": {},
   "outputs": [],
   "source": [
    "print('PF =', PF, 'and B =',\"%.5f\" % round(B, 3))\n",
    "len(X)"
   ]
  },
  {
   "cell_type": "code",
   "execution_count": null,
   "id": "401b2a4f",
   "metadata": {},
   "outputs": [],
   "source": [
    "mybnn.train_bnn(X_new, Y_new, train_env)"
   ]
  }
 ],
 "metadata": {
  "kernelspec": {
   "display_name": "Python 3 (ipykernel)",
   "language": "python",
   "name": "python3"
  },
  "language_info": {
   "codemirror_mode": {
    "name": "ipython",
    "version": 3
   },
   "file_extension": ".py",
   "mimetype": "text/x-python",
   "name": "python",
   "nbconvert_exporter": "python",
   "pygments_lexer": "ipython3",
   "version": "3.9.17"
  }
 },
 "nbformat": 4,
 "nbformat_minor": 5
}
