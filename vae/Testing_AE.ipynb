{
 "cells": [
  {
   "cell_type": "code",
   "execution_count": 397,
   "id": "1b00cb5d",
   "metadata": {},
   "outputs": [],
   "source": [
    "import numpy as np\n",
    "import torch\n",
    "import torch.nn as nn\n",
    "import torch.nn.functional as F\n",
    "import torch.optim as optim\n",
    "import pickle\n",
    "import torch.utils.data as data\n",
    "import matplotlib.pyplot as plt "
   ]
  },
  {
   "cell_type": "markdown",
   "id": "e3d992ad",
   "metadata": {},
   "source": [
    "# Target high-dim performance functions"
   ]
  },
  {
   "cell_type": "code",
   "execution_count": 480,
   "id": "fe69dc96",
   "metadata": {},
   "outputs": [],
   "source": [
    "from juan_first_passage import juan_first_passage\n",
    "#https://rprepo.readthedocs.io/en/latest/reliability_problems.html#sec-rp-300\n",
    "# RP300 14 input variables - gaussian\n",
    "#set_id \t problem_id\n",
    "# 1 \t 15\n",
    "\n",
    "from gfun_213_le_frame import gfun_213_le_frame\n",
    "from le_frame import le_frame\n",
    "import le_frame_rein\n",
    "# https://rprepo.readthedocs.io/en/latest/_modules/gfun_213_le_frame.html#gfun_213_le_frame\n",
    "# set_id\tproblem_id\n",
    "# 1 \t14"
   ]
  },
  {
   "cell_type": "markdown",
   "id": "ea7d0970",
   "metadata": {},
   "source": [
    "# Creating classes for MLP and AutoEncoder (AE) and Variational AE"
   ]
  },
  {
   "cell_type": "code",
   "execution_count": 880,
   "id": "a71ca5e7",
   "metadata": {},
   "outputs": [],
   "source": [
    "# class to create an Autoencoder object\n",
    "class AE(torch.nn.Module):\n",
    "    def __init__(self, in_dim):\n",
    "        \n",
    "        super().__init__()\n",
    "         \n",
    "        # Building an linear encoder with Linear\n",
    "        # layer followed by Relu activation function\n",
    "        \n",
    "        self.encoder = torch.nn.Sequential(\n",
    "            nn.Linear(in_dim, 10),\n",
    "            nn.LeakyReLU(0.1),\n",
    "            nn.Linear(10, 7),\n",
    "            nn.LeakyReLU(0.1),\n",
    "            nn.Linear(7, 5),\n",
    "            nn.LeakyReLU(0.1),\n",
    "            nn.Linear(5, 3),\n",
    "            )\n",
    "         \n",
    "        # Building an linear decoder with Linear\n",
    "        # layer followed by Relu activation function\n",
    "        \n",
    "        self.decoder = torch.nn.Sequential(\n",
    "            nn.Linear(3, 5),\n",
    "            nn.LeakyReLU(0.1),\n",
    "            nn.Linear(5, 7),\n",
    "            nn.LeakyReLU(0.1),\n",
    "            nn.Linear(7, 10),\n",
    "            nn.LeakyReLU(0.1),\n",
    "            nn.Linear(10, in_dim),\n",
    "            )\n",
    " \n",
    "    def forward(self, x):\n",
    "        encoded = self.encoder(x)\n",
    "        decoded = self.decoder(encoded)\n",
    "        return decoded"
   ]
  },
  {
   "cell_type": "code",
   "execution_count": 678,
   "id": "a478ba65",
   "metadata": {},
   "outputs": [],
   "source": [
    "# class to create an MLP object\n",
    "class MLP(nn.Sequential):\n",
    "    def __init__(self, input_features, hidden_features, output_features):\n",
    "        super().__init__(\n",
    "            nn.Linear(input_features, hidden_features),\n",
    "            nn.ReLU(),\n",
    "            nn.Linear(hidden_features, hidden_features),\n",
    "            nn.ReLU(),\n",
    "            nn.Linear(hidden_features, hidden_features),\n",
    "            nn.ReLU(),\n",
    "            nn.Linear(hidden_features, output_features),\n",
    "        )"
   ]
  },
  {
   "cell_type": "code",
   "execution_count": 901,
   "id": "2d319c09",
   "metadata": {},
   "outputs": [],
   "source": [
    "class VariationalAutoencoder(nn.Module):\n",
    "    def __init__(self, in_dim):\n",
    "        super(VariationalAutoencoder, self).__init__()\n",
    "        self.encoder = VariationalEncoder(in_dim)\n",
    "                \n",
    "        self.decoder = torch.nn.Sequential(\n",
    "        nn.Linear(3, 5),\n",
    "        nn.LeakyReLU(0.1),\n",
    "        nn.Linear(5, 7),\n",
    "        nn.LeakyReLU(0.1),\n",
    "        nn.Linear(7, 10),\n",
    "        nn.LeakyReLU(0.1),\n",
    "        nn.Linear(10, in_dim),\n",
    "        )\n",
    "        \n",
    "    def forward(self, x):\n",
    "        z = self.encoder(x)\n",
    "        return self.decoder(z)\n",
    "\n",
    "class VariationalEncoder(nn.Module):\n",
    "    def __init__(self, in_dim):\n",
    "        super(VariationalEncoder, self).__init__()\n",
    "        self.linear1 = nn.Linear(in_dim, 8)\n",
    "        self.linear2 = nn.Linear(8, 3)\n",
    "        self.linear3 = nn.Linear(8, 3)\n",
    "\n",
    "        self.N = torch.distributions.Normal(0, 1)\n",
    "        self.N.loc = self.N.loc.cuda() # hack to get sampling on the GPU\n",
    "        self.N.scale = self.N.scale.cuda()\n",
    "        self.kl = 0\n",
    "        \n",
    "    def forward(self, x):\n",
    "#         x = torch.flatten(x, start_dim=1)\n",
    "        x = F.relu(self.linear1(x))\n",
    "        mu =  self.linear2(x)\n",
    "        sigma = torch.exp(self.linear3(x))\n",
    "        z = mu + sigma*self.N.sample(mu.shape)\n",
    "        self.kl = (sigma**2 + mu**2 - torch.log(sigma) - 1/2).sum()\n",
    "        return z"
   ]
  },
  {
   "cell_type": "code",
   "execution_count": 886,
   "id": "6121a58d",
   "metadata": {},
   "outputs": [],
   "source": [
    "# VariationalAutoencoder(14)"
   ]
  },
  {
   "cell_type": "markdown",
   "id": "e7e8e16b",
   "metadata": {},
   "source": [
    "Generating samples and splitting the data for training and test"
   ]
  },
  {
   "cell_type": "code",
   "execution_count": 623,
   "id": "0db6296e",
   "metadata": {},
   "outputs": [
    {
     "data": {
      "text/plain": [
       "5e-05"
      ]
     },
     "execution_count": 623,
     "metadata": {},
     "output_type": "execute_result"
    }
   ],
   "source": [
    "n_samples = 10**6\n",
    "\n",
    "# x_dataset_2 = np.random.normal(0, 1 , size=(n_samples, 14) )\n",
    "\n",
    "# y_dataset_2 = juan_first_passage(x_dataset_2)\n",
    "\n",
    "### pf estimation with dataset\n",
    "np.sum(y_dataset_2 < 0)/len(y_dataset_2)"
   ]
  },
  {
   "cell_type": "code",
   "execution_count": 619,
   "id": "311219f5",
   "metadata": {},
   "outputs": [],
   "source": [
    "# reading external dataset file \n",
    "# filename_data = 'DataSet_RP300_10e5.sav'\n",
    "# dataset = pickle.load(open(filename_data, 'rb'))\n",
    "# x_dataset = dataset[:, 0:14]\n",
    "# y_dataset = dataset[:, 14]"
   ]
  },
  {
   "cell_type": "code",
   "execution_count": 721,
   "id": "dfe440d2",
   "metadata": {},
   "outputs": [],
   "source": [
    "# dataset[:, 0:14] = x_dataset\n",
    "# dataset[:, 14] = y_dataset\n",
    "\n",
    "# filename_data = 'DataSet_RP300_10e5.sav'\n",
    "# pickle.dump(dataset, open(filename_data, 'wb'))\n",
    "\n",
    "n_split = int(0.3 * n_samples) #splitting 30 - 70 %\n",
    "\n",
    "x_train = torch.from_numpy(x_dataset[n_split:].astype(np.float32))\n",
    "y_train = torch.from_numpy(y_dataset[n_split:].astype(np.float32)).view(-1,1)\n",
    "\n",
    "x_test = torch.from_numpy(x_dataset[:n_split].astype(np.float32))\n",
    "y_test = torch.from_numpy(y_dataset[:n_split].astype(np.float32)).view(-1,1)"
   ]
  },
  {
   "cell_type": "markdown",
   "id": "661c7aa7",
   "metadata": {},
   "source": [
    "Setting up losses criterion, optimizer and dataloaders"
   ]
  },
  {
   "cell_type": "code",
   "execution_count": 891,
   "id": "a1dfe7d2",
   "metadata": {},
   "outputs": [
    {
     "name": "stdout",
     "output_type": "stream",
     "text": [
      "cuda\n"
     ]
    }
   ],
   "source": [
    "if torch.cuda.is_available() == True:\n",
    "    device = 'cuda'\n",
    "else:\n",
    "    device = 'cpu'\n",
    "    \n",
    "print(device)"
   ]
  },
  {
   "cell_type": "markdown",
   "id": "77bd6426",
   "metadata": {},
   "source": [
    "# Training MLP"
   ]
  },
  {
   "cell_type": "code",
   "execution_count": 809,
   "id": "6ae8df69",
   "metadata": {
    "scrolled": true
   },
   "outputs": [
    {
     "name": "stdout",
     "output_type": "stream",
     "text": [
      "MLP(\n",
      "  (0): Linear(in_features=14, out_features=28, bias=True)\n",
      "  (1): ReLU()\n",
      "  (2): Linear(in_features=28, out_features=28, bias=True)\n",
      "  (3): ReLU()\n",
      "  (4): Linear(in_features=28, out_features=28, bias=True)\n",
      "  (5): ReLU()\n",
      "  (6): Linear(in_features=28, out_features=1, bias=True)\n",
      ")\n"
     ]
    }
   ],
   "source": [
    "#  instantiate the network  \n",
    "network = MLP(14, 28, 1)    #input, hidden, output size\n",
    "\n",
    "print(network)"
   ]
  },
  {
   "cell_type": "code",
   "execution_count": 785,
   "id": "b36b9995",
   "metadata": {},
   "outputs": [],
   "source": [
    "# we use the MSE loss as criterion\n",
    "criterion = nn.MSELoss()\n",
    "\n",
    "# we create an instance of the SGD class that will make the updates for us\n",
    "# optimizer = optim.SGD(params= network.parameters(), lr=.1)\n",
    "optimizer = optim.Adam(params= network.parameters(), lr = 1e-2, weight_decay = 1e-8)\n",
    "\n",
    "train = data.TensorDataset(x_train, y_train)\n",
    "trainloader = data.DataLoader(train, batch_size=64, shuffle=True)\n",
    "\n",
    "test = data.TensorDataset(x_test, y_test)\n",
    "testloader = data.DataLoader(test, batch_size=64, shuffle=True)"
   ]
  },
  {
   "cell_type": "code",
   "execution_count": 786,
   "id": "028d9f19",
   "metadata": {},
   "outputs": [
    {
     "data": {
      "image/png": "[encoded data removed]",
      "text/plain": [
       "<Figure size 432x288 with 1 Axes>"
      ]
     },
     "metadata": {
      "needs_background": "light"
     },
     "output_type": "display_data"
    }
   ],
   "source": [
    "num_epochs = 50\n",
    "train_avg_loss = []\n",
    "test_avg_loss = []\n",
    "\n",
    "device = 'cpu'\n",
    "\n",
    "network.to(device)\n",
    "\n",
    "for i in range(num_epochs):\n",
    "\n",
    "    train_losses = []\n",
    "    test_losses = []\n",
    "\n",
    "    for x, y in trainloader:\n",
    "        x = x.to(device)\n",
    "        y = y.to(device)\n",
    "        \n",
    "        pred = network(x)\n",
    "        loss = criterion(pred, y)\n",
    "        train_losses.append(loss.detach())\n",
    "\n",
    "        optimizer.zero_grad()   #turning gradients to zero\n",
    "        loss.backward()         #to get the gradient only with respect the parameters\n",
    "        optimizer.step()        #to update the network parameters\n",
    "\n",
    "    with torch.no_grad():   \n",
    "\n",
    "        for x, y in testloader:\n",
    "            x = x.to(device)\n",
    "            y = y.to(device)\n",
    "            \n",
    "            pred = network(x)\n",
    "            loss = criterion(pred, y)\n",
    "            test_losses.append(loss)\n",
    "\n",
    "    train_avg_loss.append(sum(train_losses)/len(train_losses))\n",
    "    test_avg_loss.append(sum(test_losses)/len(test_losses))\n",
    "\n",
    "# Move everything back to the CPU\n",
    "train_avg_loss = torch.tensor(train_avg_loss, device = 'cpu')\n",
    "test_avg_loss = torch.tensor(test_avg_loss, device = 'cpu')\n",
    "\n",
    "fig, axs = plt.subplots(1, 1)\n",
    "axs.set_title('Training Loss')\n",
    "axs.plot(train_avg_loss)\n",
    "axs.plot(test_avg_loss)\n",
    "axs.set_xlabel('Iterations')\n",
    "axs.set_ylabel('Loss (MSE)')\n",
    "plt.show()"
   ]
  },
  {
   "cell_type": "code",
   "execution_count": 799,
   "id": "b264a672",
   "metadata": {},
   "outputs": [],
   "source": [
    "filename_data = 'network_MLP.sav'\n",
    "pickle.dump(network, open(filename_data, 'wb'))"
   ]
  },
  {
   "cell_type": "markdown",
   "id": "414177da",
   "metadata": {},
   "source": [
    "# Training AE"
   ]
  },
  {
   "cell_type": "code",
   "execution_count": 881,
   "id": "90cd6b19",
   "metadata": {},
   "outputs": [
    {
     "name": "stdout",
     "output_type": "stream",
     "text": [
      "AE(\n",
      "  (encoder): Sequential(\n",
      "    (0): Linear(in_features=14, out_features=10, bias=True)\n",
      "    (1): LeakyReLU(negative_slope=0.1)\n",
      "    (2): Linear(in_features=10, out_features=7, bias=True)\n",
      "    (3): LeakyReLU(negative_slope=0.1)\n",
      "    (4): Linear(in_features=7, out_features=5, bias=True)\n",
      "    (5): LeakyReLU(negative_slope=0.1)\n",
      "    (6): Linear(in_features=5, out_features=3, bias=True)\n",
      "  )\n",
      "  (decoder): Sequential(\n",
      "    (0): Linear(in_features=3, out_features=5, bias=True)\n",
      "    (1): LeakyReLU(negative_slope=0.1)\n",
      "    (2): Linear(in_features=5, out_features=7, bias=True)\n",
      "    (3): LeakyReLU(negative_slope=0.1)\n",
      "    (4): Linear(in_features=7, out_features=10, bias=True)\n",
      "    (5): LeakyReLU(negative_slope=0.1)\n",
      "    (6): Linear(in_features=10, out_features=14, bias=True)\n",
      "  )\n",
      ")\n"
     ]
    }
   ],
   "source": [
    "#model initialization\n",
    "network_AE = AE(14)   #size of high-dim input space\n",
    "print(network_AE)"
   ]
  },
  {
   "cell_type": "code",
   "execution_count": 882,
   "id": "76212817",
   "metadata": {},
   "outputs": [],
   "source": [
    "# we use the MSE loss as criterion\n",
    "criterion = nn.MSELoss()\n",
    "\n",
    "# we create an instance of the SGD class that will make the updates for us\n",
    "# optimizer = optim.SGD(params= network.parameters(), lr=.1)\n",
    "optimizer = optim.Adam(params= network_AE.parameters(), lr = 1e-3, weight_decay = 1e-8)\n",
    "\n",
    "train = data.TensorDataset(x_train, y_train)\n",
    "trainloader = data.DataLoader(train, batch_size=80, shuffle=True)\n",
    "\n",
    "test = data.TensorDataset(x_test, y_test)\n",
    "testloader = data.DataLoader(test, batch_size=80, shuffle=False)"
   ]
  },
  {
   "cell_type": "code",
   "execution_count": 883,
   "id": "b9e513b3",
   "metadata": {},
   "outputs": [
    {
     "data": {
      "image/png": "[encoded data removed]",
      "text/plain": [
       "<Figure size 432x288 with 1 Axes>"
      ]
     },
     "metadata": {
      "needs_background": "light"
     },
     "output_type": "display_data"
    }
   ],
   "source": [
    "num_epochs = 100\n",
    "train_avg_loss = []\n",
    "test_avg_loss = []\n",
    "\n",
    "for i in range(num_epochs):\n",
    "\n",
    "    train_losses = []\n",
    "    test_losses = []\n",
    "\n",
    "    for x, _ in trainloader:    #we can omit 'y' value \n",
    "\n",
    "        reconstructed = network_AE(x)\n",
    "        loss = criterion(reconstructed, x)\n",
    "        train_losses.append(loss.detach())\n",
    "\n",
    "        optimizer.zero_grad()\n",
    "        loss.backward()\n",
    "        optimizer.step()\n",
    "\n",
    "    with torch.no_grad():   \n",
    "\n",
    "        for x, _ in testloader:\n",
    "\n",
    "            reconstructed = network_AE(x)\n",
    "            loss = criterion(reconstructed, x)\n",
    "            test_losses.append(loss)\n",
    "\n",
    "    train_avg_loss.append(sum(train_losses)/len(train_losses))\n",
    "    test_avg_loss.append(sum(test_losses)/len(test_losses))\n",
    "    \n",
    "fig, axs = plt.subplots(1, 1)\n",
    "axs.set_title('Training Loss')\n",
    "axs.plot(train_avg_loss)\n",
    "axs.plot(test_avg_loss)\n",
    "axs.set_xlabel('Iterations')\n",
    "axs.set_ylabel('Loss (MSELoss)')\n",
    "plt.show()"
   ]
  },
  {
   "cell_type": "code",
   "execution_count": 838,
   "id": "5bb91d51",
   "metadata": {},
   "outputs": [
    {
     "data": {
      "image/png": "[encoded data removed]",
      "text/plain": [
       "<Figure size 432x288 with 1 Axes>"
      ]
     },
     "metadata": {
      "needs_background": "light"
     },
     "output_type": "display_data"
    }
   ],
   "source": [
    "#lr = 1e-3, batchsize=128, weight_decay = 1e-8\n",
    "#latent = 5\n",
    "\n",
    "# (encoder): Sequential(\n",
    "#     (0): Linear(in_features=14, out_features=12, bias=True)\n",
    "#     (1): LeakyReLU(negative_slope=0.1)\n",
    "#     (2): Linear(in_features=12, out_features=10, bias=True)\n",
    "#     (3): LeakyReLU(negative_slope=0.1)\n",
    "#     (4): Linear(in_features=10, out_features=7, bias=True)\n",
    "#     (5): LeakyReLU(negative_slope=0.1)\n",
    "#     (6): Linear(in_features=7, out_features=5, bias=True)\n",
    "#   )\n",
    "\n",
    "# fig, axs = plt.subplots(1, 1)\n",
    "# axs.set_title('Training Loss')\n",
    "# axs.plot(train_avg_loss)\n",
    "# axs.plot(test_avg_loss)\n",
    "# axs.set_xlabel('Iterations')\n",
    "# axs.set_ylabel('Loss (MSELoss)')\n",
    "# plt.show()"
   ]
  },
  {
   "cell_type": "markdown",
   "id": "2e6c2c31",
   "metadata": {},
   "source": [
    "# VAE"
   ]
  },
  {
   "cell_type": "code",
   "execution_count": 903,
   "id": "9842a9eb",
   "metadata": {},
   "outputs": [
    {
     "name": "stdout",
     "output_type": "stream",
     "text": [
      "VariationalAutoencoder(\n",
      "  (encoder): VariationalEncoder(\n",
      "    (linear1): Linear(in_features=14, out_features=8, bias=True)\n",
      "    (linear2): Linear(in_features=8, out_features=3, bias=True)\n",
      "    (linear3): Linear(in_features=8, out_features=3, bias=True)\n",
      "  )\n",
      "  (decoder): Sequential(\n",
      "    (0): Linear(in_features=3, out_features=5, bias=True)\n",
      "    (1): LeakyReLU(negative_slope=0.1)\n",
      "    (2): Linear(in_features=5, out_features=7, bias=True)\n",
      "    (3): LeakyReLU(negative_slope=0.1)\n",
      "    (4): Linear(in_features=7, out_features=10, bias=True)\n",
      "    (5): LeakyReLU(negative_slope=0.1)\n",
      "    (6): Linear(in_features=10, out_features=14, bias=True)\n",
      "  )\n",
      ")\n"
     ]
    }
   ],
   "source": [
    "# VariationalAutoencoder(14)\n",
    "\n",
    "#model initialization\n",
    "network_VAE = VariationalAutoencoder(14)   #size of high-dim input space\n",
    "print(network_VAE)"
   ]
  },
  {
   "cell_type": "code",
   "execution_count": 904,
   "id": "716cd466",
   "metadata": {},
   "outputs": [],
   "source": [
    "# we use the MSE loss as criterion\n",
    "criterion = nn.MSELoss()\n",
    "\n",
    "# we create an instance of the SGD class that will make the updates for us\n",
    "# optimizer = optim.SGD(params= network.parameters(), lr=.1)\n",
    "optimizer = optim.Adam(params= network_AE.parameters(), lr = 1e-3, weight_decay = 1e-8)\n",
    "\n",
    "train = data.TensorDataset(x_train, y_train)\n",
    "trainloader = data.DataLoader(train, batch_size=128, shuffle=True)\n",
    "\n",
    "test = data.TensorDataset(x_test, y_test)\n",
    "testloader = data.DataLoader(test, batch_size=128, shuffle=False)"
   ]
  },
  {
   "cell_type": "code",
   "execution_count": null,
   "id": "cb604204",
   "metadata": {},
   "outputs": [],
   "source": [
    "num_epochs = 50\n",
    "train_avg_loss = []\n",
    "test_avg_loss = []\n",
    "\n",
    "device = 'cuda'\n",
    "\n",
    "network_VAE.to(device)\n",
    "\n",
    "for i in range(num_epochs):\n",
    "\n",
    "    train_losses = []\n",
    "    test_losses = []\n",
    "\n",
    "    for x, _ in trainloader:    #we can omit 'y' value \n",
    "        x = x.to(device) # GPU\n",
    "        \n",
    "        reconstructed = network_VAE(x)\n",
    "        loss = criterion(reconstructed, x)+ network_VAE.encoder.kl\n",
    "        train_losses.append(loss.detach())\n",
    "\n",
    "        optimizer.zero_grad()\n",
    "        loss.backward()\n",
    "        optimizer.step()\n",
    "\n",
    "    with torch.no_grad():   \n",
    "\n",
    "        for x, _ in testloader:\n",
    "            x = x.to(device) # GPU\n",
    "            \n",
    "            reconstructed = network_VAE(x)\n",
    "            loss = criterion(reconstructed, x)\n",
    "            test_losses.append(loss)\n",
    "\n",
    "    train_avg_loss.append(sum(train_losses)/len(train_losses))\n",
    "    test_avg_loss.append(sum(test_losses)/len(test_losses))\n",
    "\n",
    "# Move everything back to the CPU\n",
    "train_avg_loss = torch.tensor(train_avg_loss, device = 'cpu')\n",
    "test_avg_loss = torch.tensor(test_avg_loss, device = 'cpu')\n",
    "\n",
    "fig, axs = plt.subplots(1, 1)\n",
    "axs.set_title('Training Loss')\n",
    "axs.plot(train_avg_loss)\n",
    "axs.plot(test_avg_loss)\n",
    "axs.set_xlabel('Iterations')\n",
    "axs.set_ylabel('Loss (MSELoss)')\n",
    "plt.show()"
   ]
  },
  {
   "cell_type": "code",
   "execution_count": 898,
   "id": "9e23b644",
   "metadata": {},
   "outputs": [
    {
     "data": {
      "image/png": "[encoded data removed]",
      "text/plain": [
       "<Figure size 432x288 with 1 Axes>"
      ]
     },
     "metadata": {
      "needs_background": "light"
     },
     "output_type": "display_data"
    }
   ],
   "source": [
    "fig, axs = plt.subplots(1, 1)\n",
    "axs.set_title('Training Loss')\n",
    "axs.plot(train_avg_loss)\n",
    "axs.plot(test_avg_loss)\n",
    "axs.set_xlabel('Iterations')\n",
    "axs.set_ylabel('Loss (MSELoss)')\n",
    "plt.show()"
   ]
  },
  {
   "cell_type": "markdown",
   "id": "c64bc459",
   "metadata": {},
   "source": [
    "Pf estimation"
   ]
  },
  {
   "cell_type": "code",
   "execution_count": 828,
   "id": "01e26641",
   "metadata": {},
   "outputs": [],
   "source": [
    "# #loading network\n",
    "# filename_data = 'network_MLP.sav'\n",
    "# network = pickle.load(open(filename_data, 'rb'))"
   ]
  },
  {
   "cell_type": "code",
   "execution_count": 830,
   "id": "06b6e7aa",
   "metadata": {},
   "outputs": [
    {
     "data": {
      "text/plain": [
       "(0.7378826462902384, tensor([0.7547], grad_fn=<AddBackward0>))"
      ]
     },
     "execution_count": 830,
     "metadata": {},
     "output_type": "execute_result"
    }
   ],
   "source": [
    "point = 10\n",
    "samplex = torch.from_numpy(x_dataset[point].astype(np.float32)).to(device)\n",
    "\n",
    "y_dataset[point], network(samplex)"
   ]
  },
  {
   "cell_type": "code",
   "execution_count": 831,
   "id": "734250d3",
   "metadata": {},
   "outputs": [
    {
     "data": {
      "text/plain": [
       "5e-05"
      ]
     },
     "execution_count": 831,
     "metadata": {},
     "output_type": "execute_result"
    }
   ],
   "source": [
    "np.sum(y_dataset < 0)/len(y_dataset)"
   ]
  },
  {
   "cell_type": "code",
   "execution_count": 832,
   "id": "5751b897",
   "metadata": {},
   "outputs": [
    {
     "data": {
      "text/plain": [
       "0"
      ]
     },
     "execution_count": 832,
     "metadata": {},
     "output_type": "execute_result"
    }
   ],
   "source": [
    "n_pred = 10**6\n",
    "# x_pred = np.random.rand(n_pred, 14)\n",
    "x_pred = torch.randn(n_pred, 14, device=device)\n",
    "\n",
    "y_pred = network(x_pred)   #MLP\n",
    "\n",
    "np.sum(y_pred.cpu().detach().numpy() < 0)\n",
    "\n",
    "# np.sum(y_pred < 0)/len(y_pred)"
   ]
  },
  {
   "cell_type": "code",
   "execution_count": 834,
   "id": "0637585e",
   "metadata": {},
   "outputs": [
    {
     "data": {
      "text/plain": [
       "<matplotlib.patches.StepPatch at 0x1a031612b20>"
      ]
     },
     "execution_count": 834,
     "metadata": {},
     "output_type": "execute_result"
    },
    {
     "data": {
      "image/png": "[encoded data removed]",
      "text/plain": [
       "<Figure size 432x288 with 1 Axes>"
      ]
     },
     "metadata": {
      "needs_background": "light"
     },
     "output_type": "display_data"
    }
   ],
   "source": [
    "counts, bins = np.histogram(y_pred.cpu().detach().numpy())\n",
    "plt.stairs(counts, bins)"
   ]
  },
  {
   "cell_type": "code",
   "execution_count": 587,
   "id": "76aee45c",
   "metadata": {},
   "outputs": [
    {
     "data": {
      "text/plain": [
       "0"
      ]
     },
     "execution_count": 587,
     "metadata": {},
     "output_type": "execute_result"
    }
   ],
   "source": [
    "np.sum(y_pred.cpu().detach().numpy() < 0)"
   ]
  },
  {
   "cell_type": "code",
   "execution_count": 603,
   "id": "d0308ff9",
   "metadata": {},
   "outputs": [
    {
     "data": {
      "text/plain": [
       "tensor([0])"
      ]
     },
     "execution_count": 603,
     "metadata": {},
     "output_type": "execute_result"
    }
   ],
   "source": [
    "negative = y_pred < 0\n",
    "negative.sum(dim = 0)"
   ]
  },
  {
   "cell_type": "code",
   "execution_count": 454,
   "id": "25b937b4",
   "metadata": {},
   "outputs": [],
   "source": [
    "point = 10\n",
    "samplex = x_dataset[point]\n",
    "sampley = y_dataset[point]\n",
    "\n",
    "samplex_torch = torch.from_numpy(x_dataset[point].astype(np.float32))"
   ]
  },
  {
   "cell_type": "code",
   "execution_count": 463,
   "id": "ede3e17f",
   "metadata": {},
   "outputs": [
    {
     "data": {
      "text/plain": [
       "array(0.92380366)"
      ]
     },
     "execution_count": 463,
     "metadata": {},
     "output_type": "execute_result"
    }
   ],
   "source": [
    "np.array(sampley)"
   ]
  },
  {
   "cell_type": "code",
   "execution_count": 466,
   "id": "c6f2adbe",
   "metadata": {},
   "outputs": [
    {
     "data": {
      "text/plain": [
       "tensor([0.0004], grad_fn=<PowBackward0>)"
      ]
     },
     "execution_count": 466,
     "metadata": {},
     "output_type": "execute_result"
    }
   ],
   "source": [
    "(torch.from_numpy(np.array(sampley)) - network(samplex_torch))**2"
   ]
  }
 ],
 "metadata": {
  "kernelspec": {
   "display_name": "Python 3 (ipykernel)",
   "language": "python",
   "name": "python3"
  },
  "language_info": {
   "codemirror_mode": {
    "name": "ipython",
    "version": 3
   },
   "file_extension": ".py",
   "mimetype": "text/x-python",
   "name": "python",
   "nbconvert_exporter": "python",
   "pygments_lexer": "ipython3",
   "version": "3.9.7"
  }
 },
 "nbformat": 4,
 "nbformat_minor": 5
}
