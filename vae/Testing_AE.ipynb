{
 "cells": [
  {
   "cell_type": "code",
   "execution_count": 1,
   "id": "1b00cb5d",
   "metadata": {},
   "outputs": [],
   "source": [
    "import numpy as np\n",
    "import torch\n",
    "import torch.nn as nn\n",
    "import torch.nn.functional as F\n",
    "import torch.optim as optim\n",
    "import pickle\n",
    "import torch.utils.data as data\n",
    "import matplotlib.pyplot as plt \n",
    "from sklearn.model_selection import train_test_split\n",
    "from tqdm import tqdm"
   ]
  },
  {
   "cell_type": "markdown",
   "id": "11ffb781",
   "metadata": {},
   "source": [
    "# Target high-dim performance functions"
   ]
  },
  {
   "cell_type": "code",
   "execution_count": 2,
   "id": "41f40455",
   "metadata": {},
   "outputs": [],
   "source": [
    "from juan_first_passage import juan_first_passage\n",
    "#https://rprepo.readthedocs.io/en/latest/reliability_problems.html#sec-rp-300\n",
    "# RP300 14 input variables - gaussian\n",
    "#set_id \t problem_id\n",
    "# 1 \t 15\n",
    "\n",
    "# from gfun_213_le_frame import gfun_213_le_frame\n",
    "# from le_frame import le_frame\n",
    "# import le_frame_rein\n",
    "# https://rprepo.readthedocs.io/en/latest/_modules/gfun_213_le_frame.html#gfun_213_le_frame\n",
    "# set_id\tproblem_id\n",
    "# 1 \t14"
   ]
  },
  {
   "cell_type": "code",
   "execution_count": 75,
   "id": "14e77238",
   "metadata": {},
   "outputs": [],
   "source": [
    "# reading external dataset file \n",
    "filename_data = 'DataSet_RP300_10e5.sav'\n",
    "dataset = pickle.load(open(filename_data, 'rb'))\n",
    "max_sample = 2 * 10**3\n",
    "\n",
    "x_dataset = dataset[0:max_sample, 0:15]  #15 to fuse Y in the last column of the training data\n",
    "y_dataset = dataset[0:max_sample, 14]\n",
    "\n",
    "# x_train, x_test, y_train, y_test = train_test_split(x_dataset, y_dataset, test_size=0.25, random_state=73)  # create splits"
   ]
  },
  {
   "cell_type": "code",
   "execution_count": null,
   "id": "e7af5784",
   "metadata": {},
   "outputs": [],
   "source": [
    "5*10**3"
   ]
  },
  {
   "cell_type": "code",
   "execution_count": 6,
   "id": "7e932b5b",
   "metadata": {},
   "outputs": [
    {
     "data": {
      "text/plain": [
       "0.0"
      ]
     },
     "execution_count": 6,
     "metadata": {},
     "output_type": "execute_result"
    }
   ],
   "source": [
    "# n_samples = 10**5\n",
    "# x_dataset = np.random.normal(0, 1 , size=(n_samples, 14) )\n",
    "# y_dataset = juan_first_passage(x_dataset)\n",
    "\n",
    "## pf estimation with dataset\n",
    "np.sum(y_dataset < 0)/len(y_dataset)"
   ]
  },
  {
   "cell_type": "code",
   "execution_count": 76,
   "id": "5c0e91b1",
   "metadata": {},
   "outputs": [],
   "source": [
    "x_train, x_test, y_train, y_test = train_test_split(x_dataset, y_dataset, train_size=0.5, random_state=73)  # create splits\n",
    "x_train = torch.from_numpy(x_train.astype(np.float32)).view(-1,1000,15)  #to create input batches of 100x15\n",
    "y_train = torch.from_numpy(y_train.astype(np.float32)).view(-1,1)\n",
    "\n",
    "x_test = torch.from_numpy(x_test.astype(np.float32))\n",
    "y_test = torch.from_numpy(y_test.astype(np.float32)).view(-1,1)"
   ]
  },
  {
   "cell_type": "markdown",
   "id": "691e223e",
   "metadata": {},
   "source": [
    "# Creating classes for AutoEncoder (AE) and Variational AE"
   ]
  },
  {
   "cell_type": "code",
   "execution_count": null,
   "id": "a71ca5e7",
   "metadata": {},
   "outputs": [],
   "source": [
    "# class to create an Autoencoder object\n",
    "class AE(torch.nn.Module):\n",
    "    def __init__(self, in_dim):\n",
    "        \n",
    "        super().__init__()\n",
    "         \n",
    "        # Building an linear encoder with Linear\n",
    "        # layer followed by Relu activation function\n",
    "        \n",
    "        self.encoder = torch.nn.Sequential(\n",
    "            nn.Linear(in_dim, 10),\n",
    "            nn.LeakyReLU(0.1),\n",
    "            nn.Linear(10, 7),\n",
    "            nn.LeakyReLU(0.1),\n",
    "            nn.Linear(7, 5),\n",
    "            nn.LeakyReLU(0.1),\n",
    "            nn.Linear(5, 3),\n",
    "            )\n",
    "         \n",
    "        # Building an linear decoder with Linear\n",
    "        # layer followed by Relu activation function\n",
    "        \n",
    "        self.decoder = torch.nn.Sequential(\n",
    "            nn.Linear(3, 5),\n",
    "            nn.LeakyReLU(0.1),\n",
    "            nn.Linear(5, 7),\n",
    "            nn.LeakyReLU(0.1),\n",
    "            nn.Linear(7, 10),\n",
    "            nn.LeakyReLU(0.1),\n",
    "            nn.Linear(10, in_dim),\n",
    "            )\n",
    " \n",
    "    def forward(self, x):\n",
    "        encoded = self.encoder(x)\n",
    "        decoded = self.decoder(encoded)\n",
    "        return decoded"
   ]
  },
  {
   "cell_type": "code",
   "execution_count": null,
   "id": "8123f861",
   "metadata": {},
   "outputs": [],
   "source": [
    "#to receive an individual sample estimate of 14 input dim\n",
    "class VAE_small(nn.Module):\n",
    "    def __init__(self, in_dim):\n",
    "        super().__init__()\n",
    "        \n",
    "        #encoder\n",
    "        self.x_hidd = nn.Linear(in_dim, 7)  \n",
    "        self.mu_hidd = nn.Linear(7, 3)  \n",
    "        self.sigma_hidd = nn.Linear(7, 3)\n",
    "        \n",
    "        #decoder         \n",
    "        self.decoder = torch.nn.Sequential(\n",
    "        nn.Linear(3, 5),\n",
    "        nn.ReLU(),\n",
    "        nn.Linear(5, 10),\n",
    "        nn.ReLU(),\n",
    "        nn.Linear(10, in_dim),\n",
    "        )\n",
    "        \n",
    "        self.N = torch.distributions.Normal(0, 1)\n",
    "        self.kl = 0\n",
    "        \n",
    "    def enconder(self, x):\n",
    "        h = F.relu(self.x_hidd(x))\n",
    "        mu, sigma = self.mu_hidd(h), F.relu(self.sigma_hidd(h))     #sigma should be positive\n",
    "        return mu, sigma\n",
    "        \n",
    "    def forward(self, x):\n",
    "        mu, sigma = self.enconder(x)\n",
    "#         epsilon = torch.randn_like(sigma)        #reparametrization trick?\n",
    "        epsilon = self.N.sample(mu.shape)\n",
    "        z_reparametrized = mu + sigma*epsilon\n",
    "    \n",
    "        x_reconstructed = self.decoder(z_reparametrized)\n",
    "        return x_reconstructed, mu, sigma"
   ]
  },
  {
   "cell_type": "code",
   "execution_count": 80,
   "id": "1f782e85",
   "metadata": {},
   "outputs": [],
   "source": [
    "#to receive the complete distribution of 1000X14 dim\n",
    "class VAE_large(nn.Module):\n",
    "    def __init__(self, in_dim):\n",
    "        super().__init__()\n",
    "        \n",
    "        #encoder\n",
    "        self.hidden = torch.nn.Sequential(\n",
    "        nn.Linear(in_dim, 8000),\n",
    "        nn.LeakyReLU(0.1),\n",
    "        nn.Linear(8000, 2000),\n",
    "        nn.LeakyReLU(0.1),\n",
    "        nn.Linear(2000, 1000),\n",
    "        nn.LeakyReLU(0.1),\n",
    "        nn.Linear(1000, 50),\n",
    "        nn.LeakyReLU(0.1),\n",
    "        )\n",
    "        \n",
    "        self.mu_hidd = nn.Linear(50, 2)  \n",
    "        self.sigma_hidd = nn.Linear(50, 2)\n",
    "        \n",
    "        #decoder         \n",
    "        self.decoder = torch.nn.Sequential(\n",
    "        nn.Linear(2, 100),\n",
    "        nn.LeakyReLU(0.1),\n",
    "        nn.Linear(100, 2000),\n",
    "        nn.LeakyReLU(0.1),\n",
    "        nn.Linear(2000, 8000),\n",
    "        nn.LeakyReLU(0.1),\n",
    "        nn.Linear(8000, in_dim),\n",
    "        )\n",
    "        \n",
    "        self.N = torch.distributions.Normal(0, 1)\n",
    "        self.kl = 0\n",
    "        \n",
    "    def enconder(self, x):\n",
    "#         x = torch.flatten(x, start_dim=0)\n",
    "        x_hidd = self.hidden(x)\n",
    "        \n",
    "        mu, sigma = self.mu_hidd(x_hidd), torch.exp(self.sigma_hidd(x_hidd))     #sigma should be positive\n",
    "        return mu, sigma\n",
    "        \n",
    "    def forward(self, x):\n",
    "        mu, sigma = self.enconder(x)\n",
    "#         epsilon = torch.randn_like(sigma)        #reparametrization trick?\n",
    "        epsilon = self.N.sample(mu.shape)\n",
    "    \n",
    "        z_reparametrized = mu + sigma*epsilon\n",
    "    \n",
    "        x_reconstructed = self.decoder(z_reparametrized)\n",
    "        return x_reconstructed, mu, sigma"
   ]
  },
  {
   "cell_type": "code",
   "execution_count": 54,
   "id": "9265352b",
   "metadata": {},
   "outputs": [],
   "source": [
    "#to receive batches distribution of 100X14 dim\n",
    "class VAE_semilarge(nn.Module):\n",
    "    def __init__(self, in_dim):\n",
    "        super().__init__()\n",
    "        \n",
    "        #encoder\n",
    "        self.hidden = torch.nn.Sequential(\n",
    "        nn.Linear(in_dim, 3000),\n",
    "        nn.LeakyReLU(0.1),\n",
    "        nn.Linear(3000, 1000),\n",
    "        nn.LeakyReLU(0.1),\n",
    "        nn.Linear(1000, 500),\n",
    "        nn.LeakyReLU(0.1),\n",
    "        nn.Linear(500, 50),\n",
    "        nn.LeakyReLU(0.1),\n",
    "        )\n",
    "        \n",
    "        self.mu_hidd = nn.Linear(50, 2)  \n",
    "        self.sigma_hidd = nn.Linear(50, 2)\n",
    "        \n",
    "        #decoder         \n",
    "        self.decoder = torch.nn.Sequential(\n",
    "        nn.Linear(2, 50),\n",
    "        nn.LeakyReLU(0.1),\n",
    "        nn.Linear(50, 1000),\n",
    "        nn.LeakyReLU(0.1),\n",
    "        nn.Linear(1000, 3000),\n",
    "        nn.LeakyReLU(0.1),\n",
    "        nn.Linear(3000, in_dim),\n",
    "        )\n",
    "        \n",
    "        self.N = torch.distributions.Normal(0, 1)\n",
    "        self.kl = 0\n",
    "        \n",
    "    def enconder(self, x):\n",
    "#         x = torch.flatten(x, start_dim=0)\n",
    "        x_hidd = self.hidden(x)\n",
    "        \n",
    "        mu, sigma = self.mu_hidd(x_hidd), torch.exp(self.sigma_hidd(x_hidd))     #sigma should be positive\n",
    "        return mu, sigma\n",
    "        \n",
    "    def forward(self, x):\n",
    "        mu, sigma = self.enconder(x)\n",
    "#         epsilon = torch.randn_like(sigma)        #reparametrization trick?\n",
    "        epsilon = self.N.sample(mu.shape)\n",
    "    \n",
    "        z_reparametrized = mu + sigma*epsilon\n",
    "    \n",
    "        x_reconstructed = self.decoder(z_reparametrized)\n",
    "        return x_reconstructed, mu, sigma"
   ]
  },
  {
   "cell_type": "code",
   "execution_count": 81,
   "id": "726e9ed9",
   "metadata": {},
   "outputs": [
    {
     "name": "stdout",
     "output_type": "stream",
     "text": [
      "VAE_large(\n",
      "  (hidden): Sequential(\n",
      "    (0): Linear(in_features=15000, out_features=8000, bias=True)\n",
      "    (1): LeakyReLU(negative_slope=0.1)\n",
      "    (2): Linear(in_features=8000, out_features=2000, bias=True)\n",
      "    (3): LeakyReLU(negative_slope=0.1)\n",
      "    (4): Linear(in_features=2000, out_features=1000, bias=True)\n",
      "    (5): LeakyReLU(negative_slope=0.1)\n",
      "    (6): Linear(in_features=1000, out_features=50, bias=True)\n",
      "    (7): LeakyReLU(negative_slope=0.1)\n",
      "  )\n",
      "  (mu_hidd): Linear(in_features=50, out_features=2, bias=True)\n",
      "  (sigma_hidd): Linear(in_features=50, out_features=2, bias=True)\n",
      "  (decoder): Sequential(\n",
      "    (0): Linear(in_features=2, out_features=100, bias=True)\n",
      "    (1): LeakyReLU(negative_slope=0.1)\n",
      "    (2): Linear(in_features=100, out_features=2000, bias=True)\n",
      "    (3): LeakyReLU(negative_slope=0.1)\n",
      "    (4): Linear(in_features=2000, out_features=8000, bias=True)\n",
      "    (5): LeakyReLU(negative_slope=0.1)\n",
      "    (6): Linear(in_features=8000, out_features=15000, bias=True)\n",
      "  )\n",
      ")\n"
     ]
    }
   ],
   "source": [
    "# VariationalAutoencoder(15)\n",
    "in_dim = x_train.shape[1] * 15    #complete distribution\n",
    "\n",
    "#model initialization\n",
    "network_VAE = VAE_large(in_dim)   #size of high-dim input space\n",
    "print(network_VAE)"
   ]
  },
  {
   "cell_type": "code",
   "execution_count": 82,
   "id": "c15befff",
   "metadata": {},
   "outputs": [],
   "source": [
    "train = data.TensorDataset(x_train, x_train)    #it should be (x_train, y_train) but changed to test diff dim\n",
    "trainloader = data.DataLoader(train, batch_size=1, shuffle=False)\n",
    "\n",
    "x,_ = next(iter(trainloader))  #to fix the x value in the reconstruction training"
   ]
  },
  {
   "cell_type": "markdown",
   "id": "94b4eb55",
   "metadata": {},
   "source": [
    "Train with a single large data input"
   ]
  },
  {
   "cell_type": "code",
   "execution_count": 89,
   "id": "3d21108d",
   "metadata": {
    "scrolled": true
   },
   "outputs": [
    {
     "name": "stderr",
     "output_type": "stream",
     "text": [
      "1it [00:03,  3.75s/it, KL=0.0583, recon_loss=0.00362]\n",
      "1it [00:03,  3.52s/it, KL=1.03, recon_loss=0.0209]\n",
      "1it [00:03,  3.25s/it, KL=0.298, recon_loss=0.19]\n",
      "1it [00:03,  3.15s/it, KL=0.381, recon_loss=0.0153]\n",
      "1it [00:03,  3.14s/it, KL=0.189, recon_loss=0.032]\n",
      "1it [00:03,  3.07s/it, KL=0.137, recon_loss=0.0204]\n",
      "1it [00:03,  3.21s/it, KL=0.0139, recon_loss=0.0916]\n",
      "1it [00:03,  3.18s/it, KL=0.0453, recon_loss=0.0115]\n",
      "1it [00:03,  3.12s/it, KL=0.102, recon_loss=0.0159]\n",
      "1it [00:03,  3.12s/it, KL=0.0249, recon_loss=0.0128]\n",
      "1it [00:03,  3.20s/it, KL=0.008, recon_loss=0.0286]\n",
      "1it [00:03,  3.11s/it, KL=0.0247, recon_loss=0.0207]\n",
      "1it [00:03,  3.10s/it, KL=0.0338, recon_loss=0.0158]\n",
      "1it [00:03,  3.05s/it, KL=0.0794, recon_loss=0.0354]\n",
      "1it [00:02,  2.84s/it, KL=0.155, recon_loss=0.0253]\n",
      "1it [00:03,  3.15s/it, KL=0.0108, recon_loss=0.0139]\n",
      "1it [00:03,  3.12s/it, KL=0.14, recon_loss=0.0165]\n",
      "1it [00:03,  3.15s/it, KL=0.0997, recon_loss=0.0126]\n",
      "1it [00:03,  3.24s/it, KL=0.0789, recon_loss=0.0101]\n",
      "1it [00:03,  3.25s/it, KL=0.0532, recon_loss=0.00283]\n",
      "1it [00:03,  3.34s/it, KL=0.0492, recon_loss=0.0157]\n",
      "1it [00:03,  3.40s/it, KL=0.0457, recon_loss=0.0049]\n",
      "1it [00:03,  3.27s/it, KL=0.0614, recon_loss=0.00635]\n",
      "1it [00:03,  3.15s/it, KL=0.00377, recon_loss=0.00839]\n",
      "1it [00:03,  3.23s/it, KL=0.0635, recon_loss=0.00554]\n",
      "1it [00:03,  3.94s/it, KL=0.00391, recon_loss=0.0122]\n",
      "1it [00:03,  3.48s/it, KL=0.0431, recon_loss=0.00605]\n",
      "1it [00:03,  3.45s/it, KL=0.00689, recon_loss=0.00239]\n",
      "1it [00:03,  3.35s/it, KL=0.0233, recon_loss=0.00213]\n",
      "1it [00:03,  3.27s/it, KL=0.0166, recon_loss=0.0104]\n",
      "1it [00:03,  3.30s/it, KL=0.00844, recon_loss=0.0142]\n",
      "1it [00:03,  3.23s/it, KL=0.0214, recon_loss=0.0029]\n",
      "1it [00:03,  3.14s/it, KL=0.00185, recon_loss=0.00217]\n",
      "1it [00:03,  3.12s/it, KL=0.014, recon_loss=0.00251]\n",
      "1it [00:03,  3.27s/it, KL=0.00562, recon_loss=0.0138]\n",
      "1it [00:03,  3.64s/it, KL=0.00349, recon_loss=0.0528]\n",
      "1it [00:03,  3.57s/it, KL=0.00851, recon_loss=0.00791]\n",
      "1it [00:03,  3.26s/it, KL=0.00794, recon_loss=0.0226]\n",
      "1it [00:03,  3.13s/it, KL=0.00811, recon_loss=0.00539]\n",
      "1it [00:03,  3.21s/it, KL=0.0034, recon_loss=0.0548]\n",
      "1it [00:03,  3.08s/it, KL=0.00529, recon_loss=0.0531]\n",
      "1it [00:03,  3.11s/it, KL=0.00505, recon_loss=0.162]\n",
      "1it [00:03,  3.19s/it, KL=0.0302, recon_loss=0.0387]\n",
      "1it [00:03,  3.15s/it, KL=0.0319, recon_loss=0.0308]\n",
      "1it [00:03,  3.18s/it, KL=0.0253, recon_loss=0.00157]\n",
      "1it [00:03,  3.11s/it, KL=0.00434, recon_loss=0.0154]\n",
      "1it [00:03,  3.16s/it, KL=0.0124, recon_loss=0.0172]\n",
      "1it [00:03,  3.09s/it, KL=0.0287, recon_loss=0.0191]\n",
      "1it [00:03,  3.15s/it, KL=0.0137, recon_loss=0.0122]\n",
      "1it [00:03,  3.15s/it, KL=0.00246, recon_loss=0.00351]\n",
      "1it [00:03,  3.06s/it, KL=0.00927, recon_loss=0.0171]\n",
      "1it [00:03,  3.12s/it, KL=0.0161, recon_loss=0.00188]\n",
      "1it [00:03,  3.46s/it, KL=0.016, recon_loss=0.00328]\n",
      "1it [00:03,  3.57s/it, KL=0.00415, recon_loss=0.00214]\n",
      "1it [00:03,  3.65s/it, KL=0.00235, recon_loss=0.0778]\n",
      "1it [00:03,  3.40s/it, KL=0.0107, recon_loss=0.00138]\n",
      "1it [00:03,  3.37s/it, KL=0.0152, recon_loss=0.0022]\n",
      "1it [00:03,  3.44s/it, KL=0.00915, recon_loss=0.0144]\n",
      "1it [00:03,  3.78s/it, KL=0.00257, recon_loss=0.00259]\n",
      "1it [00:03,  3.50s/it, KL=0.0035, recon_loss=0.00887]\n",
      "1it [00:03,  3.60s/it, KL=0.00781, recon_loss=0.00252]\n",
      "1it [00:04,  4.11s/it, KL=0.00777, recon_loss=0.00302]\n",
      "1it [00:05,  5.38s/it, KL=0.00439, recon_loss=0.0483]\n",
      "1it [00:04,  4.40s/it, KL=0.00253, recon_loss=0.00135]\n",
      "1it [00:04,  4.00s/it, KL=0.00345, recon_loss=0.0433]\n",
      "1it [00:03,  3.78s/it, KL=0.00308, recon_loss=0.00528]\n",
      "1it [00:04,  4.64s/it, KL=0.00195, recon_loss=0.077]\n",
      "1it [00:03,  3.55s/it, KL=0.00458, recon_loss=0.0213]\n",
      "1it [00:03,  3.59s/it, KL=0.00805, recon_loss=0.000821]\n",
      "1it [00:03,  3.40s/it, KL=0.00656, recon_loss=0.00867]\n",
      "1it [00:03,  3.47s/it, KL=0.0032, recon_loss=0.0134]\n",
      "1it [00:03,  3.41s/it, KL=0.00262, recon_loss=0.00245]\n",
      "1it [00:03,  3.53s/it, KL=0.00359, recon_loss=0.108]\n",
      "1it [00:03,  3.52s/it, KL=0.0108, recon_loss=0.0691]\n",
      "1it [00:03,  3.97s/it, KL=0.0146, recon_loss=0.0253]\n",
      "1it [00:04,  4.38s/it, KL=0.00463, recon_loss=0.000583]\n",
      "1it [00:05,  5.53s/it, KL=0.00671, recon_loss=0.000696]\n",
      "1it [00:06,  6.33s/it, KL=0.00866, recon_loss=0.00936]\n",
      "1it [00:05,  5.03s/it, KL=0.00278, recon_loss=0.0396]\n",
      "1it [00:04,  4.54s/it, KL=0.0143, recon_loss=0.0505]\n",
      "1it [00:03,  3.60s/it, KL=0.0172, recon_loss=0.0274]\n",
      "1it [00:03,  3.55s/it, KL=0.00865, recon_loss=0.0063]\n",
      "1it [00:03,  3.82s/it, KL=0.0128, recon_loss=0.00362]\n",
      "1it [00:03,  3.52s/it, KL=0.00594, recon_loss=0.00972]\n",
      "1it [00:03,  3.26s/it, KL=0.0035, recon_loss=0.0173]\n",
      "1it [00:03,  3.11s/it, KL=0.0133, recon_loss=0.0163]\n",
      "1it [00:03,  3.50s/it, KL=0.00748, recon_loss=0.0174]\n",
      "1it [00:03,  3.91s/it, KL=0.00422, recon_loss=0.0204]\n",
      "1it [00:03,  3.49s/it, KL=0.00855, recon_loss=0.192]\n",
      "1it [00:03,  3.48s/it, KL=0.000472, recon_loss=0.0164]\n",
      "1it [00:03,  3.82s/it, KL=0.00482, recon_loss=0.0136]\n",
      "1it [00:05,  5.19s/it, KL=0.00597, recon_loss=0.038]\n",
      "1it [00:05,  5.19s/it, KL=0.0014, recon_loss=0.0273]\n",
      "1it [00:04,  4.51s/it, KL=0.00318, recon_loss=0.00874]\n",
      "1it [00:04,  4.01s/it, KL=0.00286, recon_loss=0.0417]\n",
      "1it [00:03,  3.83s/it, KL=0.000561, recon_loss=0.115]\n",
      "1it [00:05,  5.34s/it, KL=0.00829, recon_loss=0.00677]\n",
      "1it [00:04,  4.55s/it, KL=0.00503, recon_loss=0.00963]\n",
      "1it [00:03,  3.79s/it, KL=0.000319, recon_loss=0.00941]\n",
      "1it [00:03,  3.53s/it, KL=0.00575, recon_loss=0.00699]\n"
     ]
    },
    {
     "data": {
      "image/png": "[encoded data removed]",
      "text/plain": [
       "<Figure size 640x480 with 1 Axes>"
      ]
     },
     "metadata": {},
     "output_type": "display_data"
    }
   ],
   "source": [
    "# we use the MSE loss as criterion\n",
    "criterion = nn.MSELoss()\n",
    "\n",
    "# we create an instance of the SGD class that will make the updates for us\n",
    "# optimizer = optim.SGD(params= network.parameters(), lr=.1)\n",
    "optimizer = optim.Adam(params= network_VAE.parameters(), lr = 2e-4)  #Karpathy constant?\n",
    "\n",
    "# train = data.TensorDataset(x_train, y_train)    #it should be (x_train, y_train) but changed to test diff dim\n",
    "# trainloader = data.DataLoader(train, batch_size=1, shuffle=False)\n",
    "\n",
    "# test = data.TensorDataset(x_test, y_test)\n",
    "# testloader = data.DataLoader(test, batch_size=32, shuffle=False)\n",
    "\n",
    "num_epochs = 100\n",
    "train_avg_loss = []\n",
    "\n",
    "device = 'cpu'\n",
    "\n",
    "network_VAE.to(device)\n",
    "\n",
    "# x = x_train\n",
    "\n",
    "for epoch in range(num_epochs):\n",
    "    \n",
    "    loop = tqdm(enumerate(trainloader))\n",
    "    train_losses = []\n",
    "    \n",
    "#     x = torch.flatten(x_train, start_dim=0)   #to output the whole training dataset\n",
    "    \n",
    "    for i, (_ , _) in loop: #call the variables needed for training (x only for reconstruction loss)\n",
    "\n",
    "#         x = x.to(device) # GPU\n",
    "\n",
    "        x = torch.flatten(x, start_dim=0)   #to output the whole training dataset\n",
    "    \n",
    "        x_reconstructed, mu, sigma = network_VAE(x)\n",
    "        \n",
    "        reconstruction_loss = criterion(x_reconstructed, x)\n",
    "        KL_div = - torch.sum( 1 + torch.log(sigma.pow(2)) - mu.pow(2) - sigma.pow(2) )\n",
    "\n",
    "        loss = reconstruction_loss + KL_div\n",
    "\n",
    "        train_losses.append(loss.detach())\n",
    "\n",
    "        optimizer.zero_grad()\n",
    "        loss.backward()\n",
    "        optimizer.step()\n",
    "\n",
    "        loop.set_postfix(recon_loss=reconstruction_loss.item(), KL=KL_div.item())\n",
    "\n",
    "    train_avg_loss.append(sum(train_losses)/len(train_losses))\n",
    "\n",
    "# Move everything back to the CPU\n",
    "train_avg_loss = torch.tensor(train_avg_loss, device = 'cpu')\n",
    "\n",
    "fig, axs = plt.subplots(1, 1)\n",
    "axs.set_title('Training Loss')\n",
    "axs.plot(train_avg_loss)\n",
    "axs.set_xlabel('Iterations')\n",
    "axs.set_ylabel('Loss (MSELoss)')\n",
    "plt.show()"
   ]
  },
  {
   "cell_type": "code",
   "execution_count": 98,
   "id": "a5e303f9",
   "metadata": {},
   "outputs": [],
   "source": [
    "reconstructed, mean, sigma = network_VAE(x)\n",
    "\n",
    "# reconstructed.view(500,15),mean, sigma"
   ]
  },
  {
   "cell_type": "code",
   "execution_count": 100,
   "id": "ddd33c73",
   "metadata": {},
   "outputs": [
    {
     "ename": "RuntimeError",
     "evalue": "shape '[500, 15]' is invalid for input of size 15000",
     "output_type": "error",
     "traceback": [
      "\u001b[0;31m---------------------------------------------------------------------------\u001b[0m",
      "\u001b[0;31mRuntimeError\u001b[0m                              Traceback (most recent call last)",
      "Cell \u001b[0;32mIn[100], line 1\u001b[0m\n\u001b[0;32m----> 1\u001b[0m \u001b[43mx\u001b[49m\u001b[38;5;241;43m.\u001b[39;49m\u001b[43mview\u001b[49m\u001b[43m(\u001b[49m\u001b[38;5;241;43m500\u001b[39;49m\u001b[43m,\u001b[49m\u001b[38;5;241;43m15\u001b[39;49m\u001b[43m)\u001b[49m\n",
      "\u001b[0;31mRuntimeError\u001b[0m: shape '[500, 15]' is invalid for input of size 15000"
     ]
    }
   ],
   "source": [
    "x.view(500,15)"
   ]
  },
  {
   "cell_type": "markdown",
   "id": "75c96f82",
   "metadata": {},
   "source": [
    "Sampling from latent space"
   ]
  },
  {
   "cell_type": "code",
   "execution_count": 101,
   "id": "2f551365",
   "metadata": {},
   "outputs": [],
   "source": [
    "mean_arr, sigma_arr = mean.cpu().detach().numpy(), sigma.cpu().detach().numpy()"
   ]
  },
  {
   "cell_type": "code",
   "execution_count": 102,
   "id": "67f28409",
   "metadata": {},
   "outputs": [],
   "source": [
    "z=np.zeros(2)\n",
    "z[0] = np.random.normal(mean_arr[0], sigma_arr[0], 1)\n",
    "z[1] = np.random.normal(mean_arr[1], sigma_arr[1], 1)"
   ]
  },
  {
   "cell_type": "code",
   "execution_count": 26,
   "id": "8604c046",
   "metadata": {},
   "outputs": [
    {
     "name": "stdout",
     "output_type": "stream",
     "text": [
      "tensor([[-0.9570,  0.7325,  0.5385,  ..., -0.2973,  0.6628,  0.8822],\n",
      "        [ 0.8396,  0.3822, -0.2837,  ..., -0.7619, -0.4144,  0.9518],\n",
      "        [ 1.3152, -1.6238,  0.4687,  ...,  1.8419,  0.7364,  0.7177],\n",
      "        ...,\n",
      "        [ 0.7534,  1.1277,  0.5747,  ...,  0.8037,  1.4336,  0.9473],\n",
      "        [ 0.3045, -1.5458,  0.2144,  ..., -0.2665, -0.7552,  0.7370],\n",
      "        [-0.0541, -0.0731,  0.2497,  ...,  0.6853,  0.7703,  0.7703]],\n",
      "       grad_fn=<ViewBackward0>)\n"
     ]
    }
   ],
   "source": [
    "z_sample = torch.from_numpy(z.astype(np.float32))\n",
    "fused_decoded = network_VAE.decoder(z_sample)\n",
    "print(fused_decoded.view(500,15))"
   ]
  },
  {
   "cell_type": "code",
   "execution_count": 103,
   "id": "6bb77b52",
   "metadata": {},
   "outputs": [
    {
     "ename": "ValueError",
     "evalue": "cannot reshape array of size 15000 into shape (100,15)",
     "output_type": "error",
     "traceback": [
      "\u001b[0;31m---------------------------------------------------------------------------\u001b[0m",
      "\u001b[0;31mValueError\u001b[0m                                Traceback (most recent call last)",
      "Cell \u001b[0;32mIn[103], line 2\u001b[0m\n\u001b[1;32m      1\u001b[0m fused_decoded_arr \u001b[38;5;241m=\u001b[39m fused_decoded\u001b[38;5;241m.\u001b[39mcpu()\u001b[38;5;241m.\u001b[39mdetach()\u001b[38;5;241m.\u001b[39mnumpy()\n\u001b[0;32m----> 2\u001b[0m fused_decoded_arr \u001b[38;5;241m=\u001b[39m \u001b[43mfused_decoded_arr\u001b[49m\u001b[38;5;241;43m.\u001b[39;49m\u001b[43mreshape\u001b[49m\u001b[43m(\u001b[49m\u001b[38;5;241;43m100\u001b[39;49m\u001b[43m,\u001b[49m\u001b[38;5;241;43m15\u001b[39;49m\u001b[43m)\u001b[49m\n\u001b[1;32m      4\u001b[0m x_decoded, y_decoded \u001b[38;5;241m=\u001b[39m fused_decoded_arr[:, \u001b[38;5;241m0\u001b[39m:\u001b[38;5;241m14\u001b[39m], fused_decoded_arr[:, \u001b[38;5;241m14\u001b[39m]\n",
      "\u001b[0;31mValueError\u001b[0m: cannot reshape array of size 15000 into shape (100,15)"
     ]
    }
   ],
   "source": [
    "fused_decoded_arr = fused_decoded.cpu().detach().numpy()\n",
    "fused_decoded_arr = fused_decoded_arr.reshape(100,15)\n",
    "\n",
    "x_decoded, y_decoded = fused_decoded_arr[:, 0:14], fused_decoded_arr[:, 14]"
   ]
  },
  {
   "cell_type": "code",
   "execution_count": 104,
   "id": "18f12220",
   "metadata": {},
   "outputs": [],
   "source": [
    "y_sim_decod = juan_first_passage(x_decoded)"
   ]
  },
  {
   "cell_type": "code",
   "execution_count": 105,
   "id": "0d6c06fa",
   "metadata": {},
   "outputs": [
    {
     "data": {
      "text/plain": [
       "0.023604962470882094"
      ]
     },
     "execution_count": 105,
     "metadata": {},
     "output_type": "execute_result"
    }
   ],
   "source": [
    "#reproduction MSE\n",
    "np.mean((y_sim_decod - y_decoded)**2)"
   ]
  },
  {
   "cell_type": "code",
   "execution_count": 106,
   "id": "b79c7be0",
   "metadata": {},
   "outputs": [
    {
     "data": {
      "image/png": "[encoded data removed]",
      "text/plain": [
       "<Figure size 640x480 with 1 Axes>"
      ]
     },
     "metadata": {},
     "output_type": "display_data"
    }
   ],
   "source": [
    "num_exp = 100\n",
    "produc_loss = []\n",
    "\n",
    "for exp in range(num_exp):\n",
    "    \n",
    "    z=np.zeros(2)\n",
    "    z[0] = np.random.normal(mean_arr[0], sigma_arr[0], 1)\n",
    "    z[1] = np.random.normal(mean_arr[1], sigma_arr[1], 1)\n",
    "    \n",
    "    z_sample = torch.from_numpy(z.astype(np.float32))\n",
    "    fused_decoded = network_VAE.decoder(z_sample)\n",
    "    \n",
    "    fused_decoded_arr = fused_decoded.cpu().detach().numpy()\n",
    "    fused_decoded_arr = fused_decoded_arr.reshape(1000,15)\n",
    "    \n",
    "    x_decoded, y_decoded = fused_decoded_arr[:, 0:14], fused_decoded_arr[:, 14]\n",
    "    \n",
    "    y_sim_decod = juan_first_passage(x_decoded)\n",
    "    \n",
    "    loss = np.mean((y_sim_decod - y_decoded)**2)\n",
    "    \n",
    "    produc_loss.append(loss.item())\n",
    "    \n",
    "# print(produc_loss)\n",
    "fig, axs = plt.subplots(1, 1)\n",
    "axs.set_title('Y - Reproduction loss')\n",
    "axs.plot(produc_loss)\n",
    "axs.set_xlabel('Iterations')\n",
    "axs.set_ylabel('Loss (MSELoss)')\n",
    "plt.show()"
   ]
  },
  {
   "cell_type": "markdown",
   "id": "6d49696d",
   "metadata": {},
   "source": [
    "Training over a stochastic gradient descent"
   ]
  },
  {
   "cell_type": "code",
   "execution_count": null,
   "id": "743ade42",
   "metadata": {},
   "outputs": [],
   "source": [
    "# we use the MSE loss as criterion\n",
    "criterion = nn.MSELoss()\n",
    "\n",
    "# we create an instance of the SGD class that will make the updates for us\n",
    "# optimizer = optim.SGD(params= network.parameters(), lr=.1)\n",
    "optimizer = optim.Adam(params= network_VAE.parameters(), lr = 5e-3)  #Karpathy constant?\n",
    "\n",
    "train = data.TensorDataset(x_train, y_train)\n",
    "trainloader = data.DataLoader(train, batch_size=32, shuffle=True)\n",
    "\n",
    "test = data.TensorDataset(x_test, y_test)\n",
    "testloader = data.DataLoader(test, batch_size=32, shuffle=False)\n",
    "\n",
    "num_epochs = 100\n",
    "train_avg_loss = []\n",
    "test_avg_loss = []\n",
    "\n",
    "device = 'cpu'\n",
    "\n",
    "network_VAE.to(device)\n",
    "\n",
    "for epoch in range(num_epochs):\n",
    "    loop = tqdm(enumerate(trainloader))\n",
    "    \n",
    "    train_losses = []\n",
    "    test_losses = []\n",
    "\n",
    "    for i, (x, _) in loop:    #we can omit 'y' value \n",
    "        x = x.to(device) # GPU\n",
    "        \n",
    "        x_reconstructed, mu, sigma = network_VAE(x)\n",
    "        \n",
    "        reconstruction_loss = criterion(x_reconstructed, x)\n",
    "        KL_div = -torch.sum(1 + torch.log(sigma.pow(2)) - mu.pow(2) - sigma.pow(2))\n",
    "\n",
    "        loss = reconstruction_loss + KL_div\n",
    "        \n",
    "        train_losses.append(loss.detach())\n",
    "\n",
    "        optimizer.zero_grad()\n",
    "        loss.backward()\n",
    "        optimizer.step()\n",
    "        \n",
    "        loop.set_postfix(loss=loss.item())\n",
    "\n",
    "    with torch.no_grad():   \n",
    "\n",
    "        for x, _ in testloader:\n",
    "            x = x.to(device) # GPU\n",
    "            \n",
    "            x_reconstructed, mu, sigma = network_VAE(x)\n",
    "            KL_div_test = torch.mean(-0.5 *torch.sum(1 + torch.log(sigma.pow(2)) - mu.pow(2) - sigma.pow(2), dim = 1), dim = 0)\n",
    "#             KL_div_test = -0.5 *torch.sum(1 + torch.log(sigma.pow(2)) - mu.pow(2) - sigma.pow(2))\n",
    "    \n",
    "            loss_test = criterion(x_reconstructed, x) + KL_div_test\n",
    "            test_losses.append(loss_test)\n",
    "        \n",
    "    train_avg_loss.append(sum(train_losses)/len(train_losses))\n",
    "    test_avg_loss.append(sum(test_losses)/len(test_losses))\n",
    "\n",
    "# Move everything back to the CPU\n",
    "train_avg_loss = torch.tensor(train_avg_loss, device = 'cpu')\n",
    "test_avg_loss = torch.tensor(test_avg_loss, device = 'cpu')\n",
    "\n",
    "fig, axs = plt.subplots(1, 1)\n",
    "axs.set_title('Training Loss')\n",
    "axs.plot(train_avg_loss)\n",
    "axs.plot(test_avg_loss)\n",
    "axs.set_xlabel('Iterations')\n",
    "axs.set_ylabel('Loss (MSELoss)')\n",
    "plt.show()"
   ]
  },
  {
   "cell_type": "code",
   "execution_count": null,
   "id": "05e92c85",
   "metadata": {},
   "outputs": [],
   "source": [
    "class VariationalEncoder(nn.Module):\n",
    "    def __init__(self, in_dim):\n",
    "        super().__init__()\n",
    "        \n",
    "        self.linear1 = nn.Linear(in_dim, 8)\n",
    "        self.linear2 = nn.Linear(8, 3)     #to output the mean\n",
    "        self.linear3 = nn.Linear(8, 3)     #to output the std. dev.\n",
    "        \n",
    "    def forward(self, x):\n",
    "        \n",
    "        x = F.relu(self.linear1(x))   \n",
    "        self.mu =  self.linear2(x)\n",
    "        self.sigma = (self.linear3(x))    #torch.exp(self.linear3(x))    #exponential to ensure positive values?\n",
    "        \n",
    "        z = self.mu + self.sigma*self.N.sample(self.mu.shape)   #reparametrization trick?\n",
    "        z = \n",
    "        \n",
    "        self.kl2 = torch.sum(((self.sigma**2 + self.mu**2)*0.5 + torch.log(1/self.sigma) ) - 1/2\n",
    "        self.kl = (self.sigma**2 + self.mu**2 - torch.log(self.sigma) - 1/2).sum()\n",
    "        \n",
    "        return z\n",
    "    \n",
    "class VariationalAutoencoder(nn.Module):\n",
    "    def __init__(self, in_dim):\n",
    "        super().__init__()\n",
    "        self.encoder = VariationalEncoder(in_dim)\n",
    "                \n",
    "        self.decoder = torch.nn.Sequential(\n",
    "        nn.Linear(3, 7),\n",
    "        nn.ReLU(),\n",
    "        nn.Linear(7, 10),\n",
    "        nn.ReLU(),\n",
    "        nn.Linear(10, in_dim),\n",
    "        )\n",
    "        \n",
    "    def forward(self, x):\n",
    "        z = self.encoder(x)\n",
    "        return self.decoder(z)"
   ]
  },
  {
   "cell_type": "markdown",
   "id": "ffc9b3ef",
   "metadata": {},
   "source": [
    "Generating samples and splitting the data for training and test"
   ]
  },
  {
   "cell_type": "code",
   "execution_count": null,
   "id": "b99bc16a",
   "metadata": {},
   "outputs": [],
   "source": [
    "# dataset[:, 0:14] = x_dataset_2\n",
    "# dataset[:, 14] = y_dataset_2\n",
    "\n",
    "# filename_data = 'DataSet_RP300_10e6.sav'\n",
    "# pickle.dump(dataset, open(filename_data, 'wb'))\n",
    "\n",
    "n_split = int(0.3 * n_samples) #splitting 30 - 70 %\n",
    "\n",
    "x_train = torch.from_numpy(x_dataset[n_split:].astype(np.float32))\n",
    "y_train = torch.from_numpy(y_dataset[n_split:].astype(np.float32)).view(-1,1)\n",
    "\n",
    "x_test = torch.from_numpy(x_dataset[:n_split].astype(np.float32))\n",
    "y_test = torch.from_numpy(y_dataset[:n_split].astype(np.float32)).view(-1,1)"
   ]
  },
  {
   "cell_type": "markdown",
   "id": "1717b27f",
   "metadata": {},
   "source": [
    "Setting up losses criterion, optimizer and dataloaders"
   ]
  },
  {
   "cell_type": "code",
   "execution_count": null,
   "id": "d98bed35",
   "metadata": {},
   "outputs": [],
   "source": [
    "if torch.cuda.is_available() == True:\n",
    "    device = 'cuda'\n",
    "else:\n",
    "    device = 'cpu'\n",
    "    \n",
    "print(device)"
   ]
  },
  {
   "cell_type": "code",
   "execution_count": null,
   "id": "c15b1e02",
   "metadata": {},
   "outputs": [],
   "source": [
    "# filename_data = 'network_MLP.sav'\n",
    "# pickle.dump(network, open(filename_data, 'wb'))"
   ]
  },
  {
   "cell_type": "markdown",
   "id": "e0858044",
   "metadata": {},
   "source": [
    "# VAE"
   ]
  },
  {
   "cell_type": "code",
   "execution_count": null,
   "id": "df317aa3",
   "metadata": {},
   "outputs": [],
   "source": [
    "# we use the MSE loss as criterion\n",
    "criterion = nn.MSELoss()\n",
    "\n",
    "# we create an instance of the SGD class that will make the updates for us\n",
    "# optimizer = optim.SGD(params= network.parameters(), lr=.1)\n",
    "optimizer = optim.Adam(params= network_VAE.parameters(), lr = 1e-3, weight_decay = 1e-8)\n",
    "\n",
    "train = data.TensorDataset(x_train, y_train)\n",
    "trainloader = data.DataLoader(train, batch_size=8, shuffle=True)\n",
    "\n",
    "test = data.TensorDataset(x_test, y_test)\n",
    "testloader = data.DataLoader(test, batch_size=8, shuffle=False)"
   ]
  },
  {
   "cell_type": "code",
   "execution_count": null,
   "id": "061c48c1",
   "metadata": {},
   "outputs": [],
   "source": [
    "num_epochs = 50\n",
    "train_avg_loss = []\n",
    "test_avg_loss = []\n",
    "\n",
    "device = 'cpu'\n",
    "\n",
    "network_VAE.to(device)\n",
    "\n",
    "for i in range(num_epochs):\n",
    "\n",
    "    train_losses = []\n",
    "    test_losses = []\n",
    "\n",
    "    for x, _ in trainloader:    #we can omit 'y' value \n",
    "        x = x.to(device) # GPU\n",
    "        \n",
    "        reconstructed = network_VAE(x)\n",
    "        loss = criterion(reconstructed, x) + network_VAE.encoder.kl\n",
    "        train_losses.append(loss.detach())\n",
    "\n",
    "        optimizer.zero_grad()\n",
    "        loss.backward()\n",
    "        optimizer.step()\n",
    "\n",
    "    with torch.no_grad():   \n",
    "\n",
    "        for x, _ in testloader:\n",
    "            x = x.to(device) # GPU\n",
    "            \n",
    "            reconstructed = network_VAE(x)\n",
    "            loss = criterion(reconstructed, x)\n",
    "            test_losses.append(loss)\n",
    "\n",
    "    train_avg_loss.append(sum(train_losses)/len(train_losses))\n",
    "    test_avg_loss.append(sum(test_losses)/len(test_losses))\n",
    "\n",
    "# Move everything back to the CPU\n",
    "train_avg_loss = torch.tensor(train_avg_loss, device = 'cpu')\n",
    "test_avg_loss = torch.tensor(test_avg_loss, device = 'cpu')\n",
    "\n",
    "fig, axs = plt.subplots(1, 1)\n",
    "axs.set_title('Training Loss')\n",
    "axs.plot(train_avg_loss)\n",
    "axs.plot(test_avg_loss)\n",
    "axs.set_xlabel('Iterations')\n",
    "axs.set_ylabel('Loss (MSELoss)')\n",
    "plt.show()"
   ]
  },
  {
   "cell_type": "code",
   "execution_count": null,
   "id": "bc914113",
   "metadata": {},
   "outputs": [],
   "source": [
    "fig, axs = plt.subplots(1, 1)\n",
    "axs.set_title('Training Loss')\n",
    "axs.plot(train_avg_loss)\n",
    "axs.plot(test_avg_loss)\n",
    "axs.set_xlabel('Iterations')\n",
    "axs.set_ylabel('Loss (MSELoss)')\n",
    "plt.show()"
   ]
  },
  {
   "cell_type": "code",
   "execution_count": null,
   "id": "6f2198fc",
   "metadata": {
    "scrolled": false
   },
   "outputs": [],
   "source": [
    "# VariationalAutoencoder(14)\n",
    "\n",
    "#model initialization\n",
    "network_VAE = VariationalAutoencoder(14)   #size of high-dim input space\n",
    "print(network_VAE)"
   ]
  },
  {
   "cell_type": "code",
   "execution_count": null,
   "id": "3988cad8",
   "metadata": {},
   "outputs": [],
   "source": [
    "torch.cuda.empty_cache()"
   ]
  },
  {
   "cell_type": "markdown",
   "id": "ac8681cc",
   "metadata": {},
   "source": [
    "# Training AE"
   ]
  },
  {
   "cell_type": "code",
   "execution_count": null,
   "id": "2affbf29",
   "metadata": {},
   "outputs": [],
   "source": [
    "#model initialization\n",
    "network_AE = AE(14)   #size of high-dim input space\n",
    "print(network_AE)"
   ]
  },
  {
   "cell_type": "code",
   "execution_count": null,
   "id": "c41fd277",
   "metadata": {},
   "outputs": [],
   "source": [
    "# we use the MSE loss as criterion\n",
    "criterion = nn.MSELoss()\n",
    "\n",
    "# we create an instance of the SGD class that will make the updates for us\n",
    "# optimizer = optim.SGD(params= network.parameters(), lr=.1)\n",
    "optimizer = optim.Adam(params= network_AE.parameters(), lr = 1e-3, weight_decay = 1e-8)\n",
    "\n",
    "train = data.TensorDataset(x_train, y_train)\n",
    "trainloader = data.DataLoader(train, batch_size=128, shuffle=True)\n",
    "\n",
    "test = data.TensorDataset(x_test, y_test)\n",
    "testloader = data.DataLoader(test, batch_size=128, shuffle=False)"
   ]
  },
  {
   "cell_type": "code",
   "execution_count": null,
   "id": "0793c50a",
   "metadata": {},
   "outputs": [],
   "source": [
    "num_epochs = 50\n",
    "train_avg_loss = []\n",
    "test_avg_loss = []\n",
    "\n",
    "# device = 'cpu'\n",
    "\n",
    "network_AE.to(device)\n",
    "\n",
    "for i in range(num_epochs):\n",
    "\n",
    "    train_losses = []\n",
    "    test_losses = []\n",
    "\n",
    "    for _, _ in trainloader:    #we can omit 'y' value \n",
    "        x = x.to(device)\n",
    "        \n",
    "        reconstructed = network_AE(x)\n",
    "        loss = criterion(reconstructed, x)\n",
    "        train_losses.append(loss.detach())\n",
    "\n",
    "        optimizer.zero_grad()\n",
    "        loss.backward()\n",
    "        optimizer.step()\n",
    "\n",
    "    with torch.no_grad():   \n",
    "\n",
    "        for _, _ in testloader:\n",
    "#             x = x.to(device)\n",
    "            \n",
    "            reconstructed = network_AE(x)\n",
    "            loss = criterion(reconstructed, x)\n",
    "            test_losses.append(loss)\n",
    "\n",
    "    train_avg_loss.append(sum(train_losses)/len(train_losses))\n",
    "    test_avg_loss.append(sum(test_losses)/len(test_losses))\n",
    "    \n",
    "# Move everything back to the CPU\n",
    "train_avg_loss = torch.tensor(train_avg_loss, device = 'cpu')\n",
    "test_avg_loss = torch.tensor(test_avg_loss, device = 'cpu')\n",
    "\n",
    "    \n",
    "fig, axs = plt.subplots(1, 1)\n",
    "axs.set_title('Training Loss')\n",
    "axs.plot(train_avg_loss)\n",
    "axs.plot(test_avg_loss)\n",
    "axs.set_xlabel('Iterations')\n",
    "axs.set_ylabel('Loss (MSELoss)')\n",
    "plt.show()"
   ]
  },
  {
   "cell_type": "code",
   "execution_count": null,
   "id": "b113708c",
   "metadata": {},
   "outputs": [],
   "source": [
    "num_epochs = 100\n",
    "train_avg_loss = []\n",
    "test_avg_loss = []\n",
    "\n",
    "# device = 'cpu'\n",
    "\n",
    "network_AE.to(device)\n",
    "\n",
    "for i in range(num_epochs):\n",
    "\n",
    "    train_losses = []\n",
    "    test_losses = []\n",
    "\n",
    "    for x, _ in trainloader:    #we can omit 'y' value \n",
    "        x = x.to(device)\n",
    "        \n",
    "        reconstructed = network_AE(x)\n",
    "        loss = criterion(reconstructed, x)\n",
    "        train_losses.append(loss.detach())\n",
    "\n",
    "        optimizer.zero_grad()\n",
    "        loss.backward()\n",
    "        optimizer.step()\n",
    "\n",
    "    with torch.no_grad():   \n",
    "\n",
    "        for x, _ in testloader:\n",
    "            x = x.to(device)\n",
    "            \n",
    "            reconstructed = network_AE(x)\n",
    "            loss = criterion(reconstructed, x)\n",
    "            test_losses.append(loss)\n",
    "\n",
    "    train_avg_loss.append(sum(train_losses)/len(train_losses))\n",
    "    test_avg_loss.append(sum(test_losses)/len(test_losses))\n",
    "    \n",
    "# Move everything back to the CPU\n",
    "train_avg_loss = torch.tensor(train_avg_loss, device = 'cpu')\n",
    "test_avg_loss = torch.tensor(test_avg_loss, device = 'cpu')\n",
    "\n",
    "    \n",
    "fig, axs = plt.subplots(1, 1)\n",
    "axs.set_title('Training Loss')\n",
    "axs.plot(train_avg_loss)\n",
    "axs.plot(test_avg_loss)\n",
    "axs.set_xlabel('Iterations')\n",
    "axs.set_ylabel('Loss (MSELoss)')\n",
    "plt.show()"
   ]
  },
  {
   "cell_type": "code",
   "execution_count": null,
   "id": "4c79c56b",
   "metadata": {},
   "outputs": [],
   "source": [
    "#lr = 1e-3, batchsize=128, weight_decay = 1e-8\n",
    "#latent = 5\n",
    "\n",
    "# (encoder): Sequential(\n",
    "#     (0): Linear(in_features=14, out_features=12, bias=True)\n",
    "#     (1): LeakyReLU(negative_slope=0.1)\n",
    "#     (2): Linear(in_features=12, out_features=10, bias=True)\n",
    "#     (3): LeakyReLU(negative_slope=0.1)\n",
    "#     (4): Linear(in_features=10, out_features=7, bias=True)\n",
    "#     (5): LeakyReLU(negative_slope=0.1)\n",
    "#     (6): Linear(in_features=7, out_features=5, bias=True)\n",
    "#   )\n",
    "\n",
    "# fig, axs = plt.subplots(1, 1)\n",
    "# axs.set_title('Training Loss')\n",
    "# axs.plot(train_avg_loss)\n",
    "# axs.plot(test_avg_loss)\n",
    "# axs.set_xlabel('Iterations')\n",
    "# axs.set_ylabel('Loss (MSELoss)')\n",
    "# plt.show()"
   ]
  },
  {
   "cell_type": "markdown",
   "id": "919c48c8",
   "metadata": {},
   "source": [
    "Pf estimation"
   ]
  },
  {
   "cell_type": "code",
   "execution_count": null,
   "id": "dc5abb02",
   "metadata": {},
   "outputs": [],
   "source": [
    "# #loading network\n",
    "# filename_data = 'network_MLP.sav'\n",
    "# network = pickle.load(open(filename_data, 'rb'))"
   ]
  },
  {
   "cell_type": "code",
   "execution_count": null,
   "id": "336a146e",
   "metadata": {},
   "outputs": [],
   "source": [
    "point = 200\n",
    "samplex = torch.from_numpy(x_dataset[point].astype(np.float32)).to(device)\n",
    "\n",
    "y_dataset[point], network(samplex)"
   ]
  },
  {
   "cell_type": "code",
   "execution_count": null,
   "id": "c62d4a03",
   "metadata": {},
   "outputs": [],
   "source": [
    "np.sum(y_dataset < 0)/len(y_dataset)"
   ]
  },
  {
   "cell_type": "code",
   "execution_count": null,
   "id": "9551a55b",
   "metadata": {},
   "outputs": [],
   "source": [
    "n_pred = 10**6\n",
    "# x_pred = np.random.rand(n_pred, 14)\n",
    "x_pred = np.random.normal(0, 1 , size=(n_samples, 14) )\n",
    "\n",
    "x_pred = torch.from_numpy(x_pred.astype(np.float32)).to(device)\n",
    "\n",
    "# x_pred = torch.randn(n_pred, 14, device=device)\n",
    "\n",
    "y_pred = network(x_pred)   #MLP\n",
    "\n",
    "np.sum(y_pred.cpu().detach().numpy() < 0)\n",
    "\n",
    "# np.sum(y_pred < 0)/len(y_pred)"
   ]
  },
  {
   "cell_type": "code",
   "execution_count": null,
   "id": "3236fb26",
   "metadata": {},
   "outputs": [],
   "source": [
    "counts, bins = np.histogram(y_pred.cpu().detach().numpy())\n",
    "plt.stairs(counts, bins)"
   ]
  },
  {
   "cell_type": "code",
   "execution_count": null,
   "id": "7334477f",
   "metadata": {},
   "outputs": [],
   "source": [
    "lat_var = 2\n",
    "counts, bins = np.histogram(y_pred_AE[:, lat_var].cpu().detach().numpy())\n",
    "plt.stairs(counts, bins)\n",
    "\n",
    "np.sum(y_pred.cpu().detach().numpy() < 0)"
   ]
  },
  {
   "cell_type": "code",
   "execution_count": null,
   "id": "df37e9fa",
   "metadata": {},
   "outputs": [],
   "source": [
    "negative = y_pred < 0\n",
    "negative.sum(dim = 0)"
   ]
  },
  {
   "cell_type": "code",
   "execution_count": null,
   "id": "631e4afc",
   "metadata": {},
   "outputs": [],
   "source": [
    "point = 10\n",
    "samplex = x_dataset[point]\n",
    "sampley = y_dataset[point]\n",
    "\n",
    "samplex_torch = torch.from_numpy(x_dataset[point].astype(np.float32))"
   ]
  }
 ],
 "metadata": {
  "kernelspec": {
   "display_name": "Python 3 (ipykernel)",
   "language": "python",
   "name": "python3"
  },
  "language_info": {
   "codemirror_mode": {
    "name": "ipython",
    "version": 3
   },
   "file_extension": ".py",
   "mimetype": "text/x-python",
   "name": "python",
   "nbconvert_exporter": "python",
   "pygments_lexer": "ipython3",
   "version": "3.9.6"
  }
 },
 "nbformat": 4,
 "nbformat_minor": 5
}
