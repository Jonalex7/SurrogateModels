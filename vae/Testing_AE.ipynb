{
 "cells": [
  {
   "cell_type": "code",
   "execution_count": 1,
   "id": "1b00cb5d",
   "metadata": {},
   "outputs": [],
   "source": [
    "import numpy as np\n",
    "import torch\n",
    "import torch.nn as nn\n",
    "import torch.nn.functional as F\n",
    "import torch.optim as optim\n",
    "import pickle\n",
    "import torch.utils.data as data\n",
    "import matplotlib.pyplot as plt \n",
    "from sklearn.model_selection import train_test_split\n",
    "from tqdm import tqdm"
   ]
  },
  {
   "cell_type": "markdown",
   "id": "11ffb781",
   "metadata": {},
   "source": [
    "# Target high-dim performance functions"
   ]
  },
  {
   "cell_type": "code",
   "execution_count": 4,
   "id": "41f40455",
   "metadata": {},
   "outputs": [],
   "source": [
    "from juan_first_passage import juan_first_passage\n",
    "#https://rprepo.readthedocs.io/en/latest/reliability_problems.html#sec-rp-300\n",
    "# RP300 14 input variables - gaussian\n",
    "#set_id \t problem_id\n",
    "# 1 \t 15\n",
    "\n",
    "from gfun_213_le_frame import gfun_213_le_frame\n",
    "from le_frame import le_frame\n",
    "import le_frame_rein\n",
    "# https://rprepo.readthedocs.io/en/latest/_modules/gfun_213_le_frame.html#gfun_213_le_frame\n",
    "# set_id\tproblem_id\n",
    "# 1 \t14"
   ]
  },
  {
   "cell_type": "code",
   "execution_count": 2,
   "id": "14e77238",
   "metadata": {},
   "outputs": [],
   "source": [
    "# reading external dataset file \n",
    "filename_data = 'DataSet_RP300_10e5.sav'\n",
    "dataset = pickle.load(open(filename_data, 'rb'))\n",
    "max_sample = 10**3\n",
    "\n",
    "x_dataset = dataset[0:max_sample, 0:14]\n",
    "y_dataset = dataset[0:max_sample, 14]\n",
    "\n",
    "# x_train, x_test, y_train, y_test = train_test_split(x_dataset, y_dataset, test_size=0.25, random_state=73)  # create splits"
   ]
  },
  {
   "cell_type": "code",
   "execution_count": 3,
   "id": "7e932b5b",
   "metadata": {},
   "outputs": [
    {
     "data": {
      "text/plain": [
       "0.0"
      ]
     },
     "execution_count": 3,
     "metadata": {},
     "output_type": "execute_result"
    }
   ],
   "source": [
    "# n_samples = 10**5\n",
    "# x_dataset_2 = np.random.normal(0, 1 , size=(n_samples, 14) )\n",
    "# y_dataset_2 = juan_first_passage(x_dataset_2)\n",
    "\n",
    "## pf estimation with dataset\n",
    "np.sum(y_dataset < 0)/len(y_dataset)"
   ]
  },
  {
   "cell_type": "code",
   "execution_count": 4,
   "id": "5c0e91b1",
   "metadata": {},
   "outputs": [],
   "source": [
    "x_train, x_test, y_train, y_test = train_test_split(x_dataset, y_dataset, train_size=0.9, random_state=73)  # create splits\n",
    "x_train = torch.from_numpy(x_train.astype(np.float32))\n",
    "y_train = torch.from_numpy(y_train.astype(np.float32)).view(-1,1)\n",
    "\n",
    "x_test = torch.from_numpy(x_test.astype(np.float32))\n",
    "y_test = torch.from_numpy(y_test.astype(np.float32)).view(-1,1)"
   ]
  },
  {
   "cell_type": "markdown",
   "id": "691e223e",
   "metadata": {},
   "source": [
    "# Creating classes for AutoEncoder (AE) and Variational AE"
   ]
  },
  {
   "cell_type": "code",
   "execution_count": null,
   "id": "a71ca5e7",
   "metadata": {},
   "outputs": [],
   "source": [
    "# class to create an Autoencoder object\n",
    "class AE(torch.nn.Module):\n",
    "    def __init__(self, in_dim):\n",
    "        \n",
    "        super().__init__()\n",
    "         \n",
    "        # Building an linear encoder with Linear\n",
    "        # layer followed by Relu activation function\n",
    "        \n",
    "        self.encoder = torch.nn.Sequential(\n",
    "            nn.Linear(in_dim, 10),\n",
    "            nn.LeakyReLU(0.1),\n",
    "            nn.Linear(10, 7),\n",
    "            nn.LeakyReLU(0.1),\n",
    "            nn.Linear(7, 5),\n",
    "            nn.LeakyReLU(0.1),\n",
    "            nn.Linear(5, 3),\n",
    "            )\n",
    "         \n",
    "        # Building an linear decoder with Linear\n",
    "        # layer followed by Relu activation function\n",
    "        \n",
    "        self.decoder = torch.nn.Sequential(\n",
    "            nn.Linear(3, 5),\n",
    "            nn.LeakyReLU(0.1),\n",
    "            nn.Linear(5, 7),\n",
    "            nn.LeakyReLU(0.1),\n",
    "            nn.Linear(7, 10),\n",
    "            nn.LeakyReLU(0.1),\n",
    "            nn.Linear(10, in_dim),\n",
    "            )\n",
    " \n",
    "    def forward(self, x):\n",
    "        encoded = self.encoder(x)\n",
    "        decoded = self.decoder(encoded)\n",
    "        return decoded"
   ]
  },
  {
   "cell_type": "code",
   "execution_count": 6,
   "id": "8123f861",
   "metadata": {},
   "outputs": [],
   "source": [
    "#to receive an individual sample estimaate of 14 input dim\n",
    "class VAE_small(nn.Module):\n",
    "    def __init__(self, in_dim):\n",
    "        super().__init__()\n",
    "        \n",
    "        #encoder\n",
    "        self.x_hidd = nn.Linear(in_dim, 7)  \n",
    "        self.mu_hidd = nn.Linear(7, 3)  \n",
    "        self.sigma_hidd = nn.Linear(7, 3)\n",
    "        \n",
    "        #decoder         \n",
    "        self.decoder = torch.nn.Sequential(\n",
    "        nn.Linear(3, 5),\n",
    "        nn.ReLU(),\n",
    "        nn.Linear(5, 10),\n",
    "        nn.ReLU(),\n",
    "        nn.Linear(10, in_dim),\n",
    "        )\n",
    "    \n",
    "    def enconder(self, x):\n",
    "        h = F.relu(self.x_hidd(x))\n",
    "        mu, sigma = self.mu_hidd(h), F.relu(self.sigma_hidd(h))     #sigma should be positive\n",
    "        return mu, sigma\n",
    "        \n",
    "    def forward(self, x):\n",
    "        mu, sigma = self.enconder(x)\n",
    "        epsilon = torch.randn_like(sigma)        #reparametrization trick?\n",
    "        z_reparametrized = mu + sigma*epsilon\n",
    "    \n",
    "        x_reconstructed = self.decoder(z_reparametrized)\n",
    "        return x_reconstructed, mu, sigma"
   ]
  },
  {
   "cell_type": "code",
   "execution_count": 420,
   "id": "1f782e85",
   "metadata": {},
   "outputs": [],
   "source": [
    "#to receive the complete distribution of 1000X14 dim\n",
    "class VAE_large(nn.Module):\n",
    "    def __init__(self, in_dim):\n",
    "        super().__init__()\n",
    "        \n",
    "        #encoder\n",
    "        self.hidden = torch.nn.Sequential(\n",
    "        nn.Linear(in_dim, 8000),\n",
    "        nn.LeakyReLU(0.1),\n",
    "        nn.Linear(8000, 2000),\n",
    "        nn.LeakyReLU(0.1),\n",
    "        nn.Linear(2000, 1000),\n",
    "        nn.LeakyReLU(0.1),\n",
    "        nn.Linear(1000, 50),\n",
    "        nn.LeakyReLU(0.1),\n",
    "        )\n",
    "        \n",
    "        self.mu_hidd = nn.Linear(50, 2)  \n",
    "        self.sigma_hidd = nn.Linear(50, 2)\n",
    "        \n",
    "        #decoder         \n",
    "        self.decoder = torch.nn.Sequential(\n",
    "        nn.Linear(2, 100),\n",
    "        nn.LeakyReLU(0.1),\n",
    "        nn.Linear(100, 2000),\n",
    "        nn.LeakyReLU(0.1),\n",
    "        nn.Linear(2000, 8000),\n",
    "        nn.LeakyReLU(0.1),\n",
    "        nn.Linear(8000, in_dim),\n",
    "        )\n",
    "        \n",
    "        self.N = torch.distributions.Normal(0, 1)\n",
    "        self.kl = 0\n",
    "        \n",
    "    def enconder(self, x):\n",
    "#         x = torch.flatten(x, start_dim=0)\n",
    "        x_hidd = self.hidden(x)\n",
    "        \n",
    "        mu, sigma = self.mu_hidd(x_hidd), torch.exp(self.sigma_hidd(x_hidd))     #sigma should be positive\n",
    "        return mu, sigma\n",
    "        \n",
    "    def forward(self, x):\n",
    "        mu, sigma = self.enconder(x)\n",
    "#         epsilon = torch.randn_like(sigma)        #reparametrization trick?\n",
    "        epsilon = self.N.sample(mu.shape)\n",
    "    \n",
    "        z_reparametrized = mu + sigma*epsilon\n",
    "    \n",
    "        x_reconstructed = self.decoder(z_reparametrized)\n",
    "        return x_reconstructed, mu, sigma"
   ]
  },
  {
   "cell_type": "code",
   "execution_count": 421,
   "id": "726e9ed9",
   "metadata": {},
   "outputs": [
    {
     "name": "stdout",
     "output_type": "stream",
     "text": [
      "VAE_large(\n",
      "  (hidden): Sequential(\n",
      "    (0): Linear(in_features=12600, out_features=8000, bias=True)\n",
      "    (1): LeakyReLU(negative_slope=0.1)\n",
      "    (2): Linear(in_features=8000, out_features=2000, bias=True)\n",
      "    (3): LeakyReLU(negative_slope=0.1)\n",
      "    (4): Linear(in_features=2000, out_features=1000, bias=True)\n",
      "    (5): LeakyReLU(negative_slope=0.1)\n",
      "    (6): Linear(in_features=1000, out_features=50, bias=True)\n",
      "    (7): LeakyReLU(negative_slope=0.1)\n",
      "  )\n",
      "  (mu_hidd): Linear(in_features=50, out_features=2, bias=True)\n",
      "  (sigma_hidd): Linear(in_features=50, out_features=2, bias=True)\n",
      "  (decoder): Sequential(\n",
      "    (0): Linear(in_features=2, out_features=100, bias=True)\n",
      "    (1): LeakyReLU(negative_slope=0.1)\n",
      "    (2): Linear(in_features=100, out_features=2000, bias=True)\n",
      "    (3): LeakyReLU(negative_slope=0.1)\n",
      "    (4): Linear(in_features=2000, out_features=8000, bias=True)\n",
      "    (5): LeakyReLU(negative_slope=0.1)\n",
      "    (6): Linear(in_features=8000, out_features=12600, bias=True)\n",
      "  )\n",
      ")\n"
     ]
    }
   ],
   "source": [
    "# VariationalAutoencoder(14)\n",
    "in_dim = x_train.shape[0] * 14    #complete distribution\n",
    "\n",
    "#model initialization\n",
    "network_VAE = VAE_large(in_dim)   #size of high-dim input space\n",
    "print(network_VAE)"
   ]
  },
  {
   "cell_type": "markdown",
   "id": "94b4eb55",
   "metadata": {},
   "source": [
    "Train with a single large data input"
   ]
  },
  {
   "cell_type": "code",
   "execution_count": 422,
   "id": "3d21108d",
   "metadata": {
    "scrolled": false
   },
   "outputs": [
    {
     "name": "stderr",
     "output_type": "stream",
     "text": [
      "113it [01:29,  1.27it/s, KL=0.00266, recon_loss=0.117]  \n",
      "113it [01:29,  1.27it/s, KL=0.000987, recon_loss=0.0537] \n",
      "113it [01:29,  1.27it/s, KL=0.00344, recon_loss=0.0118]  \n",
      "113it [01:29,  1.26it/s, KL=0.000374, recon_loss=0.0165] \n",
      "113it [01:29,  1.26it/s, KL=9.16e-5, recon_loss=0.00165]  \n",
      "113it [01:29,  1.26it/s, KL=3.26e-5, recon_loss=0.000732] \n",
      "113it [01:29,  1.26it/s, KL=6.79e-6, recon_loss=0.000898]\n",
      "113it [01:29,  1.26it/s, KL=2.09e-6, recon_loss=0.0161]  \n",
      "113it [01:29,  1.26it/s, KL=1.55e-6, recon_loss=0.00138] \n",
      "113it [01:29,  1.26it/s, KL=1.58e-5, recon_loss=0.00023] \n",
      "113it [01:29,  1.26it/s, KL=1.91e-5, recon_loss=0.000283]\n",
      "113it [01:29,  1.26it/s, KL=9.72e-6, recon_loss=0.000643]\n",
      "113it [01:30,  1.25it/s, KL=8.34e-7, recon_loss=0.000458]\n",
      "113it [01:30,  1.25it/s, KL=4.17e-7, recon_loss=7.83e-5] \n",
      "113it [01:30,  1.25it/s, KL=1.67e-5, recon_loss=8.88e-5] \n",
      "113it [01:30,  1.25it/s, KL=1.19e-7, recon_loss=4.14e-5] \n",
      "113it [01:30,  1.26it/s, KL=1.79e-7, recon_loss=0.000223]\n",
      "113it [01:29,  1.26it/s, KL=1.31e-6, recon_loss=0.000118]\n",
      "113it [01:29,  1.26it/s, KL=6.56e-7, recon_loss=0.000477]\n",
      "113it [01:30,  1.25it/s, KL=2.98e-7, recon_loss=5.69e-5] \n"
     ]
    },
    {
     "data": {
      "image/png": "[encoded data removed]",
      "text/plain": [
       "<Figure size 432x288 with 1 Axes>"
      ]
     },
     "metadata": {
      "needs_background": "light"
     },
     "output_type": "display_data"
    }
   ],
   "source": [
    "# we use the MSE loss as criterion\n",
    "criterion = nn.MSELoss()\n",
    "\n",
    "# we create an instance of the SGD class that will make the updates for us\n",
    "# optimizer = optim.SGD(params= network.parameters(), lr=.1)\n",
    "optimizer = optim.Adam(params= network_VAE.parameters(), lr = 1e-5)  #Karpathy constant?\n",
    "\n",
    "train = data.TensorDataset(x_train, y_train)\n",
    "trainloader = data.DataLoader(train, batch_size=8, shuffle=False)\n",
    "\n",
    "# test = data.TensorDataset(x_test, y_test)\n",
    "# testloader = data.DataLoader(test, batch_size=32, shuffle=False)\n",
    "\n",
    "num_epochs = 20\n",
    "train_avg_loss = []\n",
    "\n",
    "device = 'cpu'\n",
    "\n",
    "network_VAE.to(device)\n",
    "\n",
    "# x = x_train\n",
    "\n",
    "for epoch in range(num_epochs):\n",
    "    \n",
    "    loop = tqdm(enumerate(trainloader))\n",
    "    train_losses = []\n",
    "    \n",
    "#     x = torch.flatten(x_train, start_dim=0)   #to output the whole training dataset\n",
    "    \n",
    "    for i, (_ , _) in loop: \n",
    "\n",
    "#         x = x.to(device) # GPU\n",
    "\n",
    "        x_reconstructed, mu, sigma = network_VAE(x)\n",
    "        \n",
    "        reconstruction_loss = criterion(x_reconstructed, x)\n",
    "        KL_div = - torch.sum( 1 + torch.log(sigma.pow(2)) - mu.pow(2) - sigma.pow(2) )\n",
    "\n",
    "        loss = reconstruction_loss + KL_div\n",
    "\n",
    "        train_losses.append(loss.detach())\n",
    "\n",
    "        optimizer.zero_grad()\n",
    "        loss.backward()\n",
    "        optimizer.step()\n",
    "\n",
    "        loop.set_postfix(recon_loss=reconstruction_loss.item(), KL=KL_div.item())\n",
    "\n",
    "    train_avg_loss.append(sum(train_losses)/len(train_losses))\n",
    "\n",
    "# Move everything back to the CPU\n",
    "train_avg_loss = torch.tensor(train_avg_loss, device = 'cpu')\n",
    "\n",
    "fig, axs = plt.subplots(1, 1)\n",
    "axs.set_title('Training Loss')\n",
    "axs.plot(train_avg_loss)\n",
    "axs.set_xlabel('Iterations')\n",
    "axs.set_ylabel('Loss (MSELoss)')\n",
    "plt.show()"
   ]
  },
  {
   "cell_type": "code",
   "execution_count": 423,
   "id": "a5e303f9",
   "metadata": {},
   "outputs": [],
   "source": [
    "reconstructed, mean, sigma = network_VAE(x)\n",
    "\n",
    "# torch.mean(reconstructed, dim=0)"
   ]
  },
  {
   "cell_type": "code",
   "execution_count": 424,
   "id": "63ca97df",
   "metadata": {},
   "outputs": [
    {
     "data": {
      "text/plain": [
       "tensor([[-0.9440,  0.7297,  0.5266,  ...,  0.6834, -0.2935,  0.6517],\n",
       "        [ 0.8263,  0.3782, -0.2853,  ..., -2.2855, -0.7539, -0.4024],\n",
       "        [ 1.3038, -1.6090,  0.4643,  ...,  2.7065,  1.8258,  0.7249],\n",
       "        ...,\n",
       "        [ 0.9589,  0.2114, -0.3162,  ..., -0.7215,  0.3331, -1.7005],\n",
       "        [-0.9369, -0.0459, -1.0659,  ...,  0.2128, -0.4306, -0.5368],\n",
       "        [-0.2372, -0.4781, -0.1587,  ..., -0.5914,  0.5585,  1.7806]])"
      ]
     },
     "execution_count": 424,
     "metadata": {},
     "output_type": "execute_result"
    }
   ],
   "source": [
    "x_train"
   ]
  },
  {
   "cell_type": "code",
   "execution_count": 427,
   "id": "b6995797",
   "metadata": {},
   "outputs": [
    {
     "data": {
      "text/plain": [
       "tensor([-0.0195,  0.0614,  0.0186, -0.0099,  0.0080,  0.0562,  0.0284,  0.0394,\n",
       "        -0.0046, -0.0128,  0.0069, -0.0182,  0.0381,  0.0286],\n",
       "       grad_fn=<MeanBackward1>)"
      ]
     },
     "execution_count": 427,
     "metadata": {},
     "output_type": "execute_result"
    }
   ],
   "source": [
    "torch.mean(reconstructed.view(-1,14), dim=0)"
   ]
  },
  {
   "cell_type": "code",
   "execution_count": 426,
   "id": "2f551365",
   "metadata": {},
   "outputs": [
    {
     "data": {
      "text/plain": [
       "(tensor([4.1187e-05, 2.6071e-04], grad_fn=<AddBackward0>),\n",
       " tensor([0.9996, 0.9998], grad_fn=<ExpBackward0>))"
      ]
     },
     "execution_count": 426,
     "metadata": {},
     "output_type": "execute_result"
    }
   ],
   "source": [
    "mean, sigma"
   ]
  },
  {
   "cell_type": "markdown",
   "id": "6d49696d",
   "metadata": {},
   "source": [
    "Training over a stochastic gradient descent"
   ]
  },
  {
   "cell_type": "code",
   "execution_count": null,
   "id": "743ade42",
   "metadata": {},
   "outputs": [
    {
     "name": "stderr",
     "output_type": "stream",
     "text": [
      "2344it [00:11, 207.37it/s, loss=0.935]\n",
      "2344it [00:10, 222.50it/s, loss=1.03] \n",
      "2344it [00:09, 260.17it/s, loss=0.906]\n",
      "2344it [00:09, 237.74it/s, loss=0.928]\n",
      "1736it [00:07, 201.71it/s, loss=0.996]"
     ]
    }
   ],
   "source": [
    "# we use the MSE loss as criterion\n",
    "criterion = nn.MSELoss()\n",
    "\n",
    "# we create an instance of the SGD class that will make the updates for us\n",
    "# optimizer = optim.SGD(params= network.parameters(), lr=.1)\n",
    "optimizer = optim.Adam(params= network_VAE.parameters(), lr = 5e-3)  #Karpathy constant?\n",
    "\n",
    "train = data.TensorDataset(x_train, y_train)\n",
    "trainloader = data.DataLoader(train, batch_size=32, shuffle=True)\n",
    "\n",
    "test = data.TensorDataset(x_test, y_test)\n",
    "testloader = data.DataLoader(test, batch_size=32, shuffle=False)\n",
    "\n",
    "num_epochs = 100\n",
    "train_avg_loss = []\n",
    "test_avg_loss = []\n",
    "\n",
    "device = 'cpu'\n",
    "\n",
    "network_VAE.to(device)\n",
    "\n",
    "for epoch in range(num_epochs):\n",
    "    loop = tqdm(enumerate(trainloader))\n",
    "    \n",
    "    train_losses = []\n",
    "    test_losses = []\n",
    "\n",
    "    for i, (x, _) in loop:    #we can omit 'y' value \n",
    "        x = x.to(device) # GPU\n",
    "        \n",
    "        x_reconstructed, mu, sigma = network_VAE(x)\n",
    "        \n",
    "        reconstruction_loss = criterion(x_reconstructed, x)\n",
    "        KL_div = -torch.sum(1 + torch.log(sigma.pow(2)) - mu.pow(2) - sigma.pow(2))\n",
    "\n",
    "        loss = reconstruction_loss + KL_div\n",
    "        \n",
    "        train_losses.append(loss.detach())\n",
    "\n",
    "        optimizer.zero_grad()\n",
    "        loss.backward()\n",
    "        optimizer.step()\n",
    "        \n",
    "        loop.set_postfix(loss=loss.item())\n",
    "\n",
    "    with torch.no_grad():   \n",
    "\n",
    "        for x, _ in testloader:\n",
    "            x = x.to(device) # GPU\n",
    "            \n",
    "            x_reconstructed, mu, sigma = network_VAE(x)\n",
    "            KL_div_test = torch.mean(-0.5 *torch.sum(1 + torch.log(sigma.pow(2)) - mu.pow(2) - sigma.pow(2), dim = 1), dim = 0)\n",
    "#             KL_div_test = -0.5 *torch.sum(1 + torch.log(sigma.pow(2)) - mu.pow(2) - sigma.pow(2))\n",
    "    \n",
    "            loss_test = criterion(x_reconstructed, x) + KL_div_test\n",
    "            test_losses.append(loss_test)\n",
    "        \n",
    "    train_avg_loss.append(sum(train_losses)/len(train_losses))\n",
    "    test_avg_loss.append(sum(test_losses)/len(test_losses))\n",
    "\n",
    "# Move everything back to the CPU\n",
    "train_avg_loss = torch.tensor(train_avg_loss, device = 'cpu')\n",
    "test_avg_loss = torch.tensor(test_avg_loss, device = 'cpu')\n",
    "\n",
    "fig, axs = plt.subplots(1, 1)\n",
    "axs.set_title('Training Loss')\n",
    "axs.plot(train_avg_loss)\n",
    "axs.plot(test_avg_loss)\n",
    "axs.set_xlabel('Iterations')\n",
    "axs.set_ylabel('Loss (MSELoss)')\n",
    "plt.show()"
   ]
  },
  {
   "cell_type": "code",
   "execution_count": 313,
   "id": "05e92c85",
   "metadata": {},
   "outputs": [],
   "source": [
    "class VariationalEncoder(nn.Module):\n",
    "    def __init__(self, in_dim):\n",
    "        super().__init__()\n",
    "        \n",
    "        self.linear1 = nn.Linear(in_dim, 8)\n",
    "        self.linear2 = nn.Linear(8, 3)     #to output the mean\n",
    "        self.linear3 = nn.Linear(8, 3)     #to output the std. dev.\n",
    "        \n",
    "    def forward(self, x):\n",
    "        \n",
    "        x = F.relu(self.linear1(x))   \n",
    "        self.mu =  self.linear2(x)\n",
    "        self.sigma = (self.linear3(x))    #torch.exp(self.linear3(x))    #exponential to ensure positive values?\n",
    "        \n",
    "        z = self.mu + self.sigma*self.N.sample(self.mu.shape)   #reparametrization trick?\n",
    "        z = \n",
    "        \n",
    "        self.kl2 = torch.sum(((self.sigma**2 + self.mu**2)*0.5 + torch.log(1/self.sigma) ) - 1/2\n",
    "        self.kl = (self.sigma**2 + self.mu**2 - torch.log(self.sigma) - 1/2).sum()\n",
    "        \n",
    "        return z\n",
    "    \n",
    "class VariationalAutoencoder(nn.Module):\n",
    "    def __init__(self, in_dim):\n",
    "        super().__init__()\n",
    "        self.encoder = VariationalEncoder(in_dim)\n",
    "                \n",
    "        self.decoder = torch.nn.Sequential(\n",
    "        nn.Linear(3, 7),\n",
    "        nn.ReLU(),\n",
    "        nn.Linear(7, 10),\n",
    "        nn.ReLU(),\n",
    "        nn.Linear(10, in_dim),\n",
    "        )\n",
    "        \n",
    "    def forward(self, x):\n",
    "        z = self.encoder(x)\n",
    "        return self.decoder(z)"
   ]
  },
  {
   "cell_type": "markdown",
   "id": "ffc9b3ef",
   "metadata": {},
   "source": [
    "Generating samples and splitting the data for training and test"
   ]
  },
  {
   "cell_type": "code",
   "execution_count": 44,
   "id": "b99bc16a",
   "metadata": {},
   "outputs": [],
   "source": [
    "# dataset[:, 0:14] = x_dataset_2\n",
    "# dataset[:, 14] = y_dataset_2\n",
    "\n",
    "# filename_data = 'DataSet_RP300_10e6.sav'\n",
    "# pickle.dump(dataset, open(filename_data, 'wb'))\n",
    "\n",
    "n_split = int(0.3 * n_samples) #splitting 30 - 70 %\n",
    "\n",
    "x_train = torch.from_numpy(x_dataset[n_split:].astype(np.float32))\n",
    "y_train = torch.from_numpy(y_dataset[n_split:].astype(np.float32)).view(-1,1)\n",
    "\n",
    "x_test = torch.from_numpy(x_dataset[:n_split].astype(np.float32))\n",
    "y_test = torch.from_numpy(y_dataset[:n_split].astype(np.float32)).view(-1,1)"
   ]
  },
  {
   "cell_type": "markdown",
   "id": "1717b27f",
   "metadata": {},
   "source": [
    "Setting up losses criterion, optimizer and dataloaders"
   ]
  },
  {
   "cell_type": "code",
   "execution_count": null,
   "id": "d98bed35",
   "metadata": {},
   "outputs": [],
   "source": [
    "if torch.cuda.is_available() == True:\n",
    "    device = 'cuda'\n",
    "else:\n",
    "    device = 'cpu'\n",
    "    \n",
    "print(device)"
   ]
  },
  {
   "cell_type": "code",
   "execution_count": null,
   "id": "c15b1e02",
   "metadata": {},
   "outputs": [],
   "source": [
    "# filename_data = 'network_MLP.sav'\n",
    "# pickle.dump(network, open(filename_data, 'wb'))"
   ]
  },
  {
   "cell_type": "markdown",
   "id": "e0858044",
   "metadata": {},
   "source": [
    "# VAE"
   ]
  },
  {
   "cell_type": "code",
   "execution_count": 126,
   "id": "df317aa3",
   "metadata": {},
   "outputs": [],
   "source": [
    "# we use the MSE loss as criterion\n",
    "criterion = nn.MSELoss()\n",
    "\n",
    "# we create an instance of the SGD class that will make the updates for us\n",
    "# optimizer = optim.SGD(params= network.parameters(), lr=.1)\n",
    "optimizer = optim.Adam(params= network_VAE.parameters(), lr = 1e-3, weight_decay = 1e-8)\n",
    "\n",
    "train = data.TensorDataset(x_train, y_train)\n",
    "trainloader = data.DataLoader(train, batch_size=8, shuffle=True)\n",
    "\n",
    "test = data.TensorDataset(x_test, y_test)\n",
    "testloader = data.DataLoader(test, batch_size=8, shuffle=False)"
   ]
  },
  {
   "cell_type": "code",
   "execution_count": 19,
   "id": "061c48c1",
   "metadata": {},
   "outputs": [
    {
     "data": {
      "image/png": "[encoded data removed]",
      "text/plain": [
       "<Figure size 432x288 with 1 Axes>"
      ]
     },
     "metadata": {
      "needs_background": "light"
     },
     "output_type": "display_data"
    }
   ],
   "source": [
    "num_epochs = 50\n",
    "train_avg_loss = []\n",
    "test_avg_loss = []\n",
    "\n",
    "device = 'cpu'\n",
    "\n",
    "network_VAE.to(device)\n",
    "\n",
    "for i in range(num_epochs):\n",
    "\n",
    "    train_losses = []\n",
    "    test_losses = []\n",
    "\n",
    "    for x, _ in trainloader:    #we can omit 'y' value \n",
    "        x = x.to(device) # GPU\n",
    "        \n",
    "        reconstructed = network_VAE(x)\n",
    "        loss = criterion(reconstructed, x) + network_VAE.encoder.kl\n",
    "        train_losses.append(loss.detach())\n",
    "\n",
    "        optimizer.zero_grad()\n",
    "        loss.backward()\n",
    "        optimizer.step()\n",
    "\n",
    "    with torch.no_grad():   \n",
    "\n",
    "        for x, _ in testloader:\n",
    "            x = x.to(device) # GPU\n",
    "            \n",
    "            reconstructed = network_VAE(x)\n",
    "            loss = criterion(reconstructed, x)\n",
    "            test_losses.append(loss)\n",
    "\n",
    "    train_avg_loss.append(sum(train_losses)/len(train_losses))\n",
    "    test_avg_loss.append(sum(test_losses)/len(test_losses))\n",
    "\n",
    "# Move everything back to the CPU\n",
    "train_avg_loss = torch.tensor(train_avg_loss, device = 'cpu')\n",
    "test_avg_loss = torch.tensor(test_avg_loss, device = 'cpu')\n",
    "\n",
    "fig, axs = plt.subplots(1, 1)\n",
    "axs.set_title('Training Loss')\n",
    "axs.plot(train_avg_loss)\n",
    "axs.plot(test_avg_loss)\n",
    "axs.set_xlabel('Iterations')\n",
    "axs.set_ylabel('Loss (MSELoss)')\n",
    "plt.show()"
   ]
  },
  {
   "cell_type": "code",
   "execution_count": null,
   "id": "bc914113",
   "metadata": {},
   "outputs": [],
   "source": [
    "fig, axs = plt.subplots(1, 1)\n",
    "axs.set_title('Training Loss')\n",
    "axs.plot(train_avg_loss)\n",
    "axs.plot(test_avg_loss)\n",
    "axs.set_xlabel('Iterations')\n",
    "axs.set_ylabel('Loss (MSELoss)')\n",
    "plt.show()"
   ]
  },
  {
   "cell_type": "code",
   "execution_count": 17,
   "id": "6f2198fc",
   "metadata": {
    "scrolled": false
   },
   "outputs": [
    {
     "name": "stdout",
     "output_type": "stream",
     "text": [
      "VariationalAutoencoder(\n",
      "  (encoder): VariationalEncoder(\n",
      "    (linear1): Linear(in_features=14, out_features=8, bias=True)\n",
      "    (linear2): Linear(in_features=8, out_features=3, bias=True)\n",
      "    (linear3): Linear(in_features=8, out_features=3, bias=True)\n",
      "  )\n",
      "  (decoder): Sequential(\n",
      "    (0): Linear(in_features=3, out_features=5, bias=True)\n",
      "    (1): LeakyReLU(negative_slope=0.1)\n",
      "    (2): Linear(in_features=5, out_features=7, bias=True)\n",
      "    (3): LeakyReLU(negative_slope=0.1)\n",
      "    (4): Linear(in_features=7, out_features=10, bias=True)\n",
      "    (5): LeakyReLU(negative_slope=0.1)\n",
      "    (6): Linear(in_features=10, out_features=14, bias=True)\n",
      "  )\n",
      ")\n"
     ]
    }
   ],
   "source": [
    "# VariationalAutoencoder(14)\n",
    "\n",
    "#model initialization\n",
    "network_VAE = VariationalAutoencoder(14)   #size of high-dim input space\n",
    "print(network_VAE)"
   ]
  },
  {
   "cell_type": "code",
   "execution_count": null,
   "id": "3988cad8",
   "metadata": {},
   "outputs": [],
   "source": [
    "torch.cuda.empty_cache()"
   ]
  },
  {
   "cell_type": "markdown",
   "id": "ac8681cc",
   "metadata": {},
   "source": [
    "# Training AE"
   ]
  },
  {
   "cell_type": "code",
   "execution_count": null,
   "id": "2affbf29",
   "metadata": {},
   "outputs": [],
   "source": [
    "#model initialization\n",
    "network_AE = AE(14)   #size of high-dim input space\n",
    "print(network_AE)"
   ]
  },
  {
   "cell_type": "code",
   "execution_count": null,
   "id": "c41fd277",
   "metadata": {},
   "outputs": [],
   "source": [
    "# we use the MSE loss as criterion\n",
    "criterion = nn.MSELoss()\n",
    "\n",
    "# we create an instance of the SGD class that will make the updates for us\n",
    "# optimizer = optim.SGD(params= network.parameters(), lr=.1)\n",
    "optimizer = optim.Adam(params= network_AE.parameters(), lr = 1e-3, weight_decay = 1e-8)\n",
    "\n",
    "train = data.TensorDataset(x_train, y_train)\n",
    "trainloader = data.DataLoader(train, batch_size=128, shuffle=True)\n",
    "\n",
    "test = data.TensorDataset(x_test, y_test)\n",
    "testloader = data.DataLoader(test, batch_size=128, shuffle=False)"
   ]
  },
  {
   "cell_type": "code",
   "execution_count": 105,
   "id": "4f88a7fc",
   "metadata": {},
   "outputs": [
    {
     "data": {
      "text/plain": [
       "(tensor([[-0.4802, -1.2490,  1.6753, -0.8688,  0.3083, -2.2746,  1.3434, -0.4604,\n",
       "           0.1526, -0.0868,  0.1575,  1.5750,  0.3654, -0.9355],\n",
       "         [ 0.2175, -0.9641,  1.0017,  1.2289, -0.1299,  1.5098, -0.3451, -0.0402,\n",
       "           0.2424,  1.2978,  2.0415, -1.0528,  0.1025,  0.4606],\n",
       "         [ 1.5176, -0.9983,  0.4086,  0.4517,  1.3321, -1.0839,  0.4787, -0.2173,\n",
       "           0.8907,  0.4958, -0.0428,  0.0357, -1.0243, -0.8162],\n",
       "         [ 0.0281,  0.3725, -0.7837,  0.6350,  0.2843, -0.2053,  0.0142, -0.0343,\n",
       "          -1.5186,  2.1642, -0.9725,  0.7644,  0.1559,  0.3771],\n",
       "         [-0.6112, -0.5334, -0.3920, -0.2442,  1.3271,  0.9063, -0.8039, -1.9579,\n",
       "           0.6331,  0.4457, -1.1984,  1.7865, -0.6967, -0.6974],\n",
       "         [-0.9532,  0.7419,  0.2524, -0.6380,  0.4273, -2.0657, -1.0202,  0.6986,\n",
       "           2.0891, -0.0048, -1.0344,  0.1775,  0.1751,  0.8058],\n",
       "         [-2.6814,  0.7395,  0.6061, -0.9709, -1.6633,  1.0674, -1.2036, -1.3949,\n",
       "           0.2058, -0.6143, -0.3429,  0.1286, -1.4696,  0.9434],\n",
       "         [-0.3235,  0.3190, -0.5519,  0.2493,  1.1185,  0.9876,  1.5913,  0.5084,\n",
       "           0.7252,  0.9441,  0.4086, -1.1879,  0.1710, -0.2952]]),\n",
       " False)"
      ]
     },
     "execution_count": 105,
     "metadata": {},
     "output_type": "execute_result"
    }
   ],
   "source": [
    "x, _ in trainloader"
   ]
  },
  {
   "cell_type": "code",
   "execution_count": null,
   "id": "94d92427",
   "metadata": {},
   "outputs": [],
   "source": [
    "x"
   ]
  },
  {
   "cell_type": "code",
   "execution_count": null,
   "id": "0793c50a",
   "metadata": {},
   "outputs": [],
   "source": [
    "num_epochs = 50\n",
    "train_avg_loss = []\n",
    "test_avg_loss = []\n",
    "\n",
    "# device = 'cpu'\n",
    "\n",
    "network_AE.to(device)\n",
    "\n",
    "for i in range(num_epochs):\n",
    "\n",
    "    train_losses = []\n",
    "    test_losses = []\n",
    "\n",
    "    for _, _ in trainloader:    #we can omit 'y' value \n",
    "        x = x.to(device)\n",
    "        \n",
    "        reconstructed = network_AE(x)\n",
    "        loss = criterion(reconstructed, x)\n",
    "        train_losses.append(loss.detach())\n",
    "\n",
    "        optimizer.zero_grad()\n",
    "        loss.backward()\n",
    "        optimizer.step()\n",
    "\n",
    "    with torch.no_grad():   \n",
    "\n",
    "        for _, _ in testloader:\n",
    "#             x = x.to(device)\n",
    "            \n",
    "            reconstructed = network_AE(x)\n",
    "            loss = criterion(reconstructed, x)\n",
    "            test_losses.append(loss)\n",
    "\n",
    "    train_avg_loss.append(sum(train_losses)/len(train_losses))\n",
    "    test_avg_loss.append(sum(test_losses)/len(test_losses))\n",
    "    \n",
    "# Move everything back to the CPU\n",
    "train_avg_loss = torch.tensor(train_avg_loss, device = 'cpu')\n",
    "test_avg_loss = torch.tensor(test_avg_loss, device = 'cpu')\n",
    "\n",
    "    \n",
    "fig, axs = plt.subplots(1, 1)\n",
    "axs.set_title('Training Loss')\n",
    "axs.plot(train_avg_loss)\n",
    "axs.plot(test_avg_loss)\n",
    "axs.set_xlabel('Iterations')\n",
    "axs.set_ylabel('Loss (MSELoss)')\n",
    "plt.show()"
   ]
  },
  {
   "cell_type": "code",
   "execution_count": null,
   "id": "b113708c",
   "metadata": {},
   "outputs": [],
   "source": [
    "num_epochs = 100\n",
    "train_avg_loss = []\n",
    "test_avg_loss = []\n",
    "\n",
    "# device = 'cpu'\n",
    "\n",
    "network_AE.to(device)\n",
    "\n",
    "for i in range(num_epochs):\n",
    "\n",
    "    train_losses = []\n",
    "    test_losses = []\n",
    "\n",
    "    for x, _ in trainloader:    #we can omit 'y' value \n",
    "        x = x.to(device)\n",
    "        \n",
    "        reconstructed = network_AE(x)\n",
    "        loss = criterion(reconstructed, x)\n",
    "        train_losses.append(loss.detach())\n",
    "\n",
    "        optimizer.zero_grad()\n",
    "        loss.backward()\n",
    "        optimizer.step()\n",
    "\n",
    "    with torch.no_grad():   \n",
    "\n",
    "        for x, _ in testloader:\n",
    "            x = x.to(device)\n",
    "            \n",
    "            reconstructed = network_AE(x)\n",
    "            loss = criterion(reconstructed, x)\n",
    "            test_losses.append(loss)\n",
    "\n",
    "    train_avg_loss.append(sum(train_losses)/len(train_losses))\n",
    "    test_avg_loss.append(sum(test_losses)/len(test_losses))\n",
    "    \n",
    "# Move everything back to the CPU\n",
    "train_avg_loss = torch.tensor(train_avg_loss, device = 'cpu')\n",
    "test_avg_loss = torch.tensor(test_avg_loss, device = 'cpu')\n",
    "\n",
    "    \n",
    "fig, axs = plt.subplots(1, 1)\n",
    "axs.set_title('Training Loss')\n",
    "axs.plot(train_avg_loss)\n",
    "axs.plot(test_avg_loss)\n",
    "axs.set_xlabel('Iterations')\n",
    "axs.set_ylabel('Loss (MSELoss)')\n",
    "plt.show()"
   ]
  },
  {
   "cell_type": "code",
   "execution_count": null,
   "id": "4c79c56b",
   "metadata": {},
   "outputs": [],
   "source": [
    "#lr = 1e-3, batchsize=128, weight_decay = 1e-8\n",
    "#latent = 5\n",
    "\n",
    "# (encoder): Sequential(\n",
    "#     (0): Linear(in_features=14, out_features=12, bias=True)\n",
    "#     (1): LeakyReLU(negative_slope=0.1)\n",
    "#     (2): Linear(in_features=12, out_features=10, bias=True)\n",
    "#     (3): LeakyReLU(negative_slope=0.1)\n",
    "#     (4): Linear(in_features=10, out_features=7, bias=True)\n",
    "#     (5): LeakyReLU(negative_slope=0.1)\n",
    "#     (6): Linear(in_features=7, out_features=5, bias=True)\n",
    "#   )\n",
    "\n",
    "# fig, axs = plt.subplots(1, 1)\n",
    "# axs.set_title('Training Loss')\n",
    "# axs.plot(train_avg_loss)\n",
    "# axs.plot(test_avg_loss)\n",
    "# axs.set_xlabel('Iterations')\n",
    "# axs.set_ylabel('Loss (MSELoss)')\n",
    "# plt.show()"
   ]
  },
  {
   "cell_type": "markdown",
   "id": "919c48c8",
   "metadata": {},
   "source": [
    "Pf estimation"
   ]
  },
  {
   "cell_type": "code",
   "execution_count": null,
   "id": "dc5abb02",
   "metadata": {},
   "outputs": [],
   "source": [
    "# #loading network\n",
    "# filename_data = 'network_MLP.sav'\n",
    "# network = pickle.load(open(filename_data, 'rb'))"
   ]
  },
  {
   "cell_type": "code",
   "execution_count": null,
   "id": "336a146e",
   "metadata": {},
   "outputs": [],
   "source": [
    "point = 200\n",
    "samplex = torch.from_numpy(x_dataset[point].astype(np.float32)).to(device)\n",
    "\n",
    "y_dataset[point], network(samplex)"
   ]
  },
  {
   "cell_type": "code",
   "execution_count": null,
   "id": "c62d4a03",
   "metadata": {},
   "outputs": [],
   "source": [
    "np.sum(y_dataset < 0)/len(y_dataset)"
   ]
  },
  {
   "cell_type": "code",
   "execution_count": null,
   "id": "9551a55b",
   "metadata": {},
   "outputs": [],
   "source": [
    "n_pred = 10**6\n",
    "# x_pred = np.random.rand(n_pred, 14)\n",
    "x_pred = np.random.normal(0, 1 , size=(n_samples, 14) )\n",
    "\n",
    "x_pred = torch.from_numpy(x_pred.astype(np.float32)).to(device)\n",
    "\n",
    "# x_pred = torch.randn(n_pred, 14, device=device)\n",
    "\n",
    "y_pred = network(x_pred)   #MLP\n",
    "\n",
    "np.sum(y_pred.cpu().detach().numpy() < 0)\n",
    "\n",
    "# np.sum(y_pred < 0)/len(y_pred)"
   ]
  },
  {
   "cell_type": "code",
   "execution_count": null,
   "id": "4c0dbd3d",
   "metadata": {},
   "outputs": [],
   "source": []
  },
  {
   "cell_type": "code",
   "execution_count": null,
   "id": "7b2e12c0",
   "metadata": {},
   "outputs": [],
   "source": [
    "x_pred"
   ]
  },
  {
   "cell_type": "code",
   "execution_count": null,
   "id": "3236fb26",
   "metadata": {},
   "outputs": [],
   "source": [
    "counts, bins = np.histogram(y_pred.cpu().detach().numpy())\n",
    "plt.stairs(counts, bins)"
   ]
  },
  {
   "cell_type": "code",
   "execution_count": null,
   "id": "3abf8a6a",
   "metadata": {},
   "outputs": [],
   "source": [
    "network_AE = network_AE.to('cpu')\n",
    "\n",
    "y_pred_AE = network_AE.encoder(x_pred)\n",
    "\n",
    "y_pred_AE.shape"
   ]
  },
  {
   "cell_type": "code",
   "execution_count": null,
   "id": "7334477f",
   "metadata": {},
   "outputs": [],
   "source": [
    "lat_var = 2\n",
    "counts, bins = np.histogram(y_pred_AE[:, lat_var].cpu().detach().numpy())\n",
    "plt.stairs(counts, bins)\n",
    "\n",
    "np.sum(y_pred.cpu().detach().numpy() < 0)"
   ]
  },
  {
   "cell_type": "code",
   "execution_count": null,
   "id": "df37e9fa",
   "metadata": {},
   "outputs": [],
   "source": [
    "negative = y_pred < 0\n",
    "negative.sum(dim = 0)"
   ]
  },
  {
   "cell_type": "code",
   "execution_count": null,
   "id": "631e4afc",
   "metadata": {},
   "outputs": [],
   "source": [
    "point = 10\n",
    "samplex = x_dataset[point]\n",
    "sampley = y_dataset[point]\n",
    "\n",
    "samplex_torch = torch.from_numpy(x_dataset[point].astype(np.float32))"
   ]
  },
  {
   "cell_type": "code",
   "execution_count": null,
   "id": "749e3aba",
   "metadata": {},
   "outputs": [],
   "source": [
    "np.array(sampley)"
   ]
  },
  {
   "cell_type": "code",
   "execution_count": null,
   "id": "2723f581",
   "metadata": {},
   "outputs": [],
   "source": [
    "(torch.from_numpy(np.array(sampley)) - network(samplex_torch))**2"
   ]
  }
 ],
 "metadata": {
  "kernelspec": {
   "display_name": "Python 3 (ipykernel)",
   "language": "python",
   "name": "python3"
  },
  "language_info": {
   "codemirror_mode": {
    "name": "ipython",
    "version": 3
   },
   "file_extension": ".py",
   "mimetype": "text/x-python",
   "name": "python",
   "nbconvert_exporter": "python",
   "pygments_lexer": "ipython3",
   "version": "3.9.7"
  }
 },
 "nbformat": 4,
 "nbformat_minor": 5
}
