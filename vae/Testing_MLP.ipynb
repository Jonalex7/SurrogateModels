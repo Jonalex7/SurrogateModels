{
 "cells": [
  {
   "cell_type": "code",
   "execution_count": 46,
   "id": "1b00cb5d",
   "metadata": {},
   "outputs": [],
   "source": [
    "import numpy as np\n",
    "import torch\n",
    "import torch.nn as nn\n",
    "import torch.nn.functional as F\n",
    "import torch.optim as optim\n",
    "import pickle\n",
    "import torch.utils.data as data\n",
    "import matplotlib.pyplot as plt \n",
    "from tqdm import tqdm"
   ]
  },
  {
   "cell_type": "markdown",
   "id": "11ffb781",
   "metadata": {},
   "source": [
    "# Target high-dim performance functions"
   ]
  },
  {
   "cell_type": "code",
   "execution_count": 2,
   "id": "41f40455",
   "metadata": {},
   "outputs": [],
   "source": [
    "from juan_first_passage import juan_first_passage\n",
    "#https://rprepo.readthedocs.io/en/latest/reliability_problems.html#sec-rp-300\n",
    "# RP300 14 input variables - gaussian\n",
    "#set_id \t problem_id\n",
    "# 1 \t 15\n",
    "\n",
    "from gfun_213_le_frame import gfun_213_le_frame\n",
    "from le_frame import le_frame\n",
    "import le_frame_rein\n",
    "# https://rprepo.readthedocs.io/en/latest/_modules/gfun_213_le_frame.html#gfun_213_le_frame\n",
    "# set_id\tproblem_id\n",
    "# 1 \t14"
   ]
  },
  {
   "cell_type": "markdown",
   "id": "691e223e",
   "metadata": {},
   "source": [
    "# Creating classes for MLP"
   ]
  },
  {
   "cell_type": "code",
   "execution_count": 33,
   "id": "884662e3",
   "metadata": {},
   "outputs": [],
   "source": [
    "# class to create an MLP object\n",
    "class MLP(nn.Sequential):\n",
    "    def __init__(self, input_features, hidden_features, output_features):\n",
    "        super().__init__(\n",
    "            nn.Linear(input_features, hidden_features),\n",
    "            nn.LeakyReLU(0.2),\n",
    "            nn.Linear(hidden_features, hidden_features),\n",
    "            nn.LeakyReLU(0.2),\n",
    "            nn.Linear(hidden_features, hidden_features),\n",
    "            nn.LeakyReLU(0.2),\n",
    "            nn.Linear(hidden_features, hidden_features),\n",
    "            nn.LeakyReLU(0.2),\n",
    "            nn.Linear(hidden_features, hidden_features),\n",
    "            nn.LeakyReLU(0.2),\n",
    "            nn.Linear(hidden_features, output_features),\n",
    "        )"
   ]
  },
  {
   "cell_type": "markdown",
   "id": "ffc9b3ef",
   "metadata": {},
   "source": [
    "Generating samples and splitting the data for training and test"
   ]
  },
  {
   "cell_type": "code",
   "execution_count": 6,
   "id": "7e932b5b",
   "metadata": {},
   "outputs": [
    {
     "data": {
      "text/plain": [
       "5.2e-05"
      ]
     },
     "execution_count": 6,
     "metadata": {},
     "output_type": "execute_result"
    }
   ],
   "source": [
    "n_samples = 10**6\n",
    "\n",
    "# x_dataset_2 = np.random.normal(0, 1 , size=(n_samples, 14) )\n",
    "# y_dataset_2 = juan_first_passage(x_dataset_2)"
   ]
  },
  {
   "cell_type": "code",
   "execution_count": 5,
   "id": "14e77238",
   "metadata": {},
   "outputs": [],
   "source": [
    "# reading external dataset file \n",
    "filename_data = 'DataSet_RP300_10e6.sav'\n",
    "dataset = pickle.load(open(filename_data, 'rb'))\n",
    "x_dataset = dataset[:, 0:14]\n",
    "y_dataset = dataset[:, 14]\n",
    "\n",
    "## pf estimation with dataset\n",
    "np.sum(y_dataset < 0)/len(y_dataset)"
   ]
  },
  {
   "cell_type": "code",
   "execution_count": 7,
   "id": "b99bc16a",
   "metadata": {},
   "outputs": [],
   "source": [
    "# dataset[:, 0:14] = x_dataset_2\n",
    "# dataset[:, 14] = y_dataset_2\n",
    "\n",
    "# filename_data = 'DataSet_RP300_10e6.sav'\n",
    "# pickle.dump(dataset, open(filename_data, 'wb'))\n",
    "\n",
    "n_split = int(0.3 * n_samples) #splitting 30 - 70 %\n",
    "\n",
    "x_train = torch.from_numpy(x_dataset[n_split:].astype(np.float32))\n",
    "y_train = torch.from_numpy(y_dataset[n_split:].astype(np.float32)).view(-1,1)\n",
    "\n",
    "x_test = torch.from_numpy(x_dataset[:n_split].astype(np.float32))\n",
    "y_test = torch.from_numpy(y_dataset[:n_split].astype(np.float32)).view(-1,1)"
   ]
  },
  {
   "cell_type": "code",
   "execution_count": null,
   "id": "d98bed35",
   "metadata": {},
   "outputs": [],
   "source": [
    "if torch.cuda.is_available() == True:\n",
    "    device = 'cuda'\n",
    "else:\n",
    "    device = 'cpu'\n",
    "    \n",
    "print(device)"
   ]
  },
  {
   "cell_type": "markdown",
   "id": "a6ee806a",
   "metadata": {},
   "source": [
    "# Training MLP"
   ]
  },
  {
   "cell_type": "code",
   "execution_count": 43,
   "id": "ef10efef",
   "metadata": {
    "scrolled": true
   },
   "outputs": [
    {
     "name": "stdout",
     "output_type": "stream",
     "text": [
      "MLP(\n",
      "  (0): Linear(in_features=14, out_features=128, bias=True)\n",
      "  (1): LeakyReLU(negative_slope=0.2)\n",
      "  (2): Linear(in_features=128, out_features=128, bias=True)\n",
      "  (3): LeakyReLU(negative_slope=0.2)\n",
      "  (4): Linear(in_features=128, out_features=128, bias=True)\n",
      "  (5): LeakyReLU(negative_slope=0.2)\n",
      "  (6): Linear(in_features=128, out_features=128, bias=True)\n",
      "  (7): LeakyReLU(negative_slope=0.2)\n",
      "  (8): Linear(in_features=128, out_features=128, bias=True)\n",
      "  (9): LeakyReLU(negative_slope=0.2)\n",
      "  (10): Linear(in_features=128, out_features=1, bias=True)\n",
      ")\n"
     ]
    }
   ],
   "source": [
    "#  instantiate the network  \n",
    "network = MLP(14, 128, 1)    #input, hidden, output size\n",
    "\n",
    "print(network)"
   ]
  },
  {
   "cell_type": "markdown",
   "id": "1717b27f",
   "metadata": {},
   "source": [
    "Setting up losses criterion, optimizer and dataloaders"
   ]
  },
  {
   "cell_type": "code",
   "execution_count": 48,
   "id": "2e3ab8a2",
   "metadata": {},
   "outputs": [],
   "source": [
    "# we use the MSE loss as criterion\n",
    "criterion = nn.MSELoss()\n",
    "\n",
    "# we create an instance of the SGD class that will make the updates for us\n",
    "# optimizer = optim.SGD(params= network.parameters(), lr=.1)\n",
    "optimizer = optim.Adam(params= network.parameters(), lr = 1e-3, weight_decay = 1e-8)\n",
    "\n",
    "train = data.TensorDataset(x_train, y_train)\n",
    "trainloader = data.DataLoader(train, batch_size=64, shuffle=True)\n",
    "\n",
    "test = data.TensorDataset(x_test, y_test)\n",
    "testloader = data.DataLoader(test, batch_size=64, shuffle=False)"
   ]
  },
  {
   "cell_type": "code",
   "execution_count": 49,
   "id": "1d561818",
   "metadata": {},
   "outputs": [
    {
     "name": "stderr",
     "output_type": "stream",
     "text": [
      "10938it [00:56, 192.44it/s, loss=0.000119]\n",
      "10938it [01:21, 134.60it/s, loss=0.000111]\n",
      "10938it [01:13, 149.24it/s, loss=3.24e-5] \n",
      "10938it [00:59, 185.01it/s, loss=1.67e-5] \n",
      "10938it [00:57, 191.83it/s, loss=0.000161]\n",
      "10938it [00:54, 202.08it/s, loss=5.34e-5] \n",
      "10938it [01:34, 115.85it/s, loss=5.6e-5]  \n",
      "10938it [01:39, 110.46it/s, loss=4.67e-5] \n",
      "10938it [01:16, 143.02it/s, loss=3.16e-5] \n",
      "10938it [01:12, 151.19it/s, loss=3.1e-5]  \n",
      "10938it [01:27, 124.86it/s, loss=2.92e-5] \n",
      "10938it [01:14, 146.45it/s, loss=2.71e-5] \n",
      "10938it [01:10, 155.05it/s, loss=4.21e-5] \n",
      "10938it [01:16, 142.43it/s, loss=2.13e-5] \n",
      "10938it [01:09, 157.76it/s, loss=2.38e-5] \n",
      "10938it [01:14, 147.72it/s, loss=8.22e-6] \n",
      "10938it [01:17, 140.80it/s, loss=3.55e-5] \n",
      "10938it [01:26, 126.86it/s, loss=2e-5]    \n",
      "10938it [01:06, 165.11it/s, loss=2.46e-5] \n",
      "10938it [00:53, 204.27it/s, loss=2.02e-5] \n",
      "10938it [01:24, 129.30it/s, loss=2.51e-5] \n",
      "10938it [01:07, 162.33it/s, loss=2.54e-5] \n",
      "10938it [01:17, 141.99it/s, loss=2.22e-5] \n",
      "10938it [01:04, 169.06it/s, loss=2.21e-5] \n",
      "10938it [01:03, 171.21it/s, loss=3.21e-5] \n",
      "10938it [01:07, 162.07it/s, loss=2.2e-5]  \n",
      "10938it [01:02, 174.08it/s, loss=2.93e-5] \n",
      "10938it [01:19, 138.31it/s, loss=3.38e-5]\n",
      "10938it [01:46, 102.51it/s, loss=2.25e-5] \n",
      "10938it [01:27, 124.42it/s, loss=3.12e-5]\n",
      "10938it [01:14, 145.98it/s, loss=1.62e-5] \n",
      "10938it [00:56, 194.41it/s, loss=1.63e-5] \n",
      "10938it [00:59, 184.04it/s, loss=1.82e-5] \n",
      "10938it [00:57, 190.67it/s, loss=2.2e-5]  \n",
      "10938it [01:04, 170.65it/s, loss=1.51e-5] \n",
      "10938it [00:57, 190.09it/s, loss=2.18e-5] \n",
      "10938it [00:58, 186.38it/s, loss=2.73e-5] \n",
      "10938it [00:56, 195.15it/s, loss=1.49e-5] \n",
      "10938it [01:00, 181.82it/s, loss=2.29e-5] \n",
      "10938it [01:33, 117.52it/s, loss=1.82e-5] \n",
      "10938it [00:58, 188.48it/s, loss=2.67e-5] \n",
      "10938it [00:58, 188.41it/s, loss=2.29e-5] \n",
      "10938it [01:12, 150.36it/s, loss=2.22e-5] \n",
      "10938it [01:39, 109.57it/s, loss=8.71e-6] \n",
      "10938it [01:37, 112.73it/s, loss=1.35e-5] \n",
      "10938it [01:32, 118.05it/s, loss=2.13e-5]\n",
      "10938it [01:22, 133.22it/s, loss=1.83e-5] \n",
      "10938it [01:46, 102.26it/s, loss=1.63e-5]\n",
      "10938it [01:35, 114.65it/s, loss=1.2e-5]  \n",
      "10938it [01:22, 132.43it/s, loss=1.94e-5]\n"
     ]
    },
    {
     "data": {
      "image/png": "[encoded data removed]",
      "text/plain": [
       "<Figure size 432x288 with 1 Axes>"
      ]
     },
     "metadata": {
      "needs_background": "light"
     },
     "output_type": "display_data"
    }
   ],
   "source": [
    "num_epochs = 50\n",
    "train_avg_loss = []\n",
    "test_avg_loss = []\n",
    "\n",
    "device = 'cuda'\n",
    "\n",
    "network.to(device)\n",
    "\n",
    "for epoch in range(num_epochs):\n",
    "    loop = tqdm(enumerate(trainloader))\n",
    "\n",
    "    train_losses = []\n",
    "    test_losses = []\n",
    "\n",
    "    for i, (x, y) in loop:\n",
    "        \n",
    "        x = x.to(device)\n",
    "        y = y.to(device)\n",
    "        \n",
    "        pred = network(x)\n",
    "        loss = criterion(pred, y)\n",
    "        train_losses.append(loss.detach())\n",
    "\n",
    "        optimizer.zero_grad()   #turning gradients to zero\n",
    "        loss.backward()         #to get the gradient only with respect the parameters\n",
    "        optimizer.step()        #to update the network parameters\n",
    "\n",
    "        loop.set_postfix(loss=loss.item())\n",
    "        \n",
    "    with torch.no_grad():   \n",
    "\n",
    "        for x, y in testloader:\n",
    "            x = x.to(device)\n",
    "            y = y.to(device)\n",
    "            \n",
    "            pred = network(x)\n",
    "            loss = criterion(pred, y)\n",
    "            test_losses.append(loss)\n",
    "\n",
    "    train_avg_loss.append(sum(train_losses)/len(train_losses))\n",
    "    test_avg_loss.append(sum(test_losses)/len(test_losses))\n",
    "\n",
    "# Move everything back to the CPU\n",
    "train_avg_loss = torch.tensor(train_avg_loss, device = 'cpu')\n",
    "test_avg_loss = torch.tensor(test_avg_loss, device = 'cpu')\n",
    "\n",
    "fig, axs = plt.subplots(1, 1)\n",
    "axs.set_title('Training Loss')\n",
    "axs.plot(train_avg_loss)\n",
    "axs.plot(test_avg_loss)\n",
    "axs.set_xlabel('Iterations')\n",
    "axs.set_ylabel('Loss (MSE)')\n",
    "plt.show()"
   ]
  },
  {
   "cell_type": "code",
   "execution_count": null,
   "id": "c15b1e02",
   "metadata": {},
   "outputs": [],
   "source": [
    "# filename_data = 'network_MLP.sav'\n",
    "# pickle.dump(network, open(filename_data, 'wb'))"
   ]
  },
  {
   "cell_type": "markdown",
   "id": "919c48c8",
   "metadata": {},
   "source": [
    "Pf estimation"
   ]
  },
  {
   "cell_type": "code",
   "execution_count": null,
   "id": "dc5abb02",
   "metadata": {},
   "outputs": [],
   "source": [
    "# #loading network\n",
    "# filename_data = 'network_MLP.sav'\n",
    "# network = pickle.load(open(filename_data, 'rb'))"
   ]
  },
  {
   "cell_type": "code",
   "execution_count": 32,
   "id": "9551a55b",
   "metadata": {},
   "outputs": [
    {
     "data": {
      "text/plain": [
       "0.0"
      ]
     },
     "execution_count": 32,
     "metadata": {},
     "output_type": "execute_result"
    }
   ],
   "source": [
    "# Pf with MCS using the trained network\n",
    "\n",
    "n_pred = 10**6\n",
    "x_pred = np.random.normal(0, 1 , size=(n_samples, 14) )\n",
    "\n",
    "device ='cpu'\n",
    "\n",
    "x_pred = torch.from_numpy(x_pred.astype(np.float32)).to(device)\n",
    "\n",
    "network.to(device)\n",
    "\n",
    "y_pred = network(x_pred)   #MLP\n",
    "np.sum(y_pred.cpu().detach().numpy() < 0)/len(y_pred)"
   ]
  },
  {
   "cell_type": "code",
   "execution_count": 24,
   "id": "4c0dbd3d",
   "metadata": {},
   "outputs": [],
   "source": [
    "torch.cuda.empty_cache()"
   ]
  },
  {
   "cell_type": "code",
   "execution_count": null,
   "id": "7b2e12c0",
   "metadata": {},
   "outputs": [],
   "source": [
    "x_pred"
   ]
  },
  {
   "cell_type": "code",
   "execution_count": null,
   "id": "3236fb26",
   "metadata": {},
   "outputs": [],
   "source": [
    "counts, bins = np.histogram(y_pred.cpu().detach().numpy())\n",
    "plt.stairs(counts, bins)"
   ]
  },
  {
   "cell_type": "code",
   "execution_count": null,
   "id": "336a146e",
   "metadata": {},
   "outputs": [],
   "source": [
    "#to test a single point and compare it with the real output\n",
    "point = 200\n",
    "samplex = torch.from_numpy(x_dataset[point].astype(np.float32)).to(device)\n",
    "\n",
    "y_dataset[point], network(samplex)"
   ]
  },
  {
   "cell_type": "code",
   "execution_count": null,
   "id": "3abf8a6a",
   "metadata": {},
   "outputs": [],
   "source": [
    "network_AE = network_AE.to('cpu')\n",
    "\n",
    "y_pred_AE = network_AE.encoder(x_pred)\n",
    "\n",
    "y_pred_AE.shape"
   ]
  },
  {
   "cell_type": "code",
   "execution_count": null,
   "id": "7334477f",
   "metadata": {},
   "outputs": [],
   "source": [
    "lat_var = 2\n",
    "counts, bins = np.histogram(y_pred_AE[:, lat_var].cpu().detach().numpy())\n",
    "plt.stairs(counts, bins)\n",
    "\n",
    "np.sum(y_pred.cpu().detach().numpy() < 0)"
   ]
  },
  {
   "cell_type": "code",
   "execution_count": null,
   "id": "df37e9fa",
   "metadata": {},
   "outputs": [],
   "source": [
    "negative = y_pred < 0\n",
    "negative.sum(dim = 0)"
   ]
  },
  {
   "cell_type": "code",
   "execution_count": null,
   "id": "631e4afc",
   "metadata": {},
   "outputs": [],
   "source": [
    "point = 10\n",
    "samplex = x_dataset[point]\n",
    "sampley = y_dataset[point]\n",
    "\n",
    "samplex_torch = torch.from_numpy(x_dataset[point].astype(np.float32))"
   ]
  },
  {
   "cell_type": "code",
   "execution_count": null,
   "id": "749e3aba",
   "metadata": {},
   "outputs": [],
   "source": [
    "np.array(sampley)"
   ]
  },
  {
   "cell_type": "code",
   "execution_count": null,
   "id": "2723f581",
   "metadata": {},
   "outputs": [],
   "source": [
    "(torch.from_numpy(np.array(sampley)) - network(samplex_torch))**2"
   ]
  }
 ],
 "metadata": {
  "kernelspec": {
   "display_name": "Python 3 (ipykernel)",
   "language": "python",
   "name": "python3"
  },
  "language_info": {
   "codemirror_mode": {
    "name": "ipython",
    "version": 3
   },
   "file_extension": ".py",
   "mimetype": "text/x-python",
   "name": "python",
   "nbconvert_exporter": "python",
   "pygments_lexer": "ipython3",
   "version": "3.9.7"
  }
 },
 "nbformat": 4,
 "nbformat_minor": 5
}
