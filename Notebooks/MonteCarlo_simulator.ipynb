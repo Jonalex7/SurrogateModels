{
 "cells": [
  {
   "cell_type": "code",
   "execution_count": 1,
   "metadata": {},
   "outputs": [],
   "source": [
    "%matplotlib notebook\n",
    "import numpy as np\n",
    "import pandas as pd\n",
    "import pickle\n",
    "from matplotlib import pyplot as plt\n",
    "# from sklearn.gaussian_process import GaussianProcessRegressor\n",
    "# from sklearn.gaussian_process.kernels import RBF, ConstantKernel as C, RationalQuadratic as RQ\n",
    "from sklearn.preprocessing import PolynomialFeatures\n",
    "from sklearn.linear_model import LinearRegression"
   ]
  },
  {
   "cell_type": "markdown",
   "metadata": {},
   "source": [
    "## Input data"
   ]
  },
  {
   "cell_type": "code",
   "execution_count": 80,
   "metadata": {},
   "outputs": [
    {
     "name": "stderr",
     "output_type": "stream",
     "text": [
      "C:\\Users\\user\\Anaconda3\\lib\\site-packages\\sklearn\\base.py:334: UserWarning: Trying to unpickle estimator LinearRegression from version 1.0.1 when using version 0.23.1. This might lead to breaking code or invalid results. Use at your own risk.\n",
      "  UserWarning)\n"
     ]
    }
   ],
   "source": [
    "input_file_surrogate = 'Poly_2degree.sav'\n",
    "n_samples = 1e6\n",
    "ship_speed_mean = 3 # range [0.1,6]\n",
    "ship_speed_std = 0.6\n",
    "ship_angle_range = [0,45] \n",
    "diam_leg = 0.9 # range [0.8,2]\n",
    "diam_brace = 0.4 # range [0.4,0.8]\n",
    "penetr_thr = 3\n",
    "\n",
    "###################################################################\n",
    "collision_model = pickle.load(open(input_file_surrogate, 'rb'))"
   ]
  },
  {
   "cell_type": "markdown",
   "metadata": {},
   "source": [
    "## Input(s) sample generation"
   ]
  },
  {
   "cell_type": "code",
   "execution_count": 81,
   "metadata": {},
   "outputs": [
    {
     "name": "stdout",
     "output_type": "stream",
     "text": [
      "Failure probability: 0.044747\n"
     ]
    }
   ],
   "source": [
    "penetration_input = np.zeros((int(n_samples), 4))\n",
    "penetration_input[:,0] = np.random.uniform(low = ship_angle_range[0], high = ship_angle_range[1], size = int(n_samples))\n",
    "penetration_input[:,1] = np.random.normal(loc = ship_speed_mean, scale = ship_speed_std, size=int(n_samples) )\n",
    "penetration_input[:,2] = np.ones(int(n_samples))*diam_leg\n",
    "penetration_input[:,3] = np.ones(int(n_samples))*diam_brace\n",
    "\n",
    "## Forward prediction\n",
    "\n",
    "poly = PolynomialFeatures(2)\n",
    "poly_features = poly.fit_transform(penetration_input)\n",
    "penetration_output = collision_model.predict(poly_features)\n",
    "\n",
    "fail_samples = np.sum(penetration_output > penetr_thr)\n",
    "fail_prob = fail_samples/n_samples\n",
    "\n",
    "print('Failure probability:', fail_prob)"
   ]
  }
 ],
 "metadata": {
  "kernelspec": {
   "display_name": "Python 3 (ipykernel)",
   "language": "python",
   "name": "python3"
  },
  "language_info": {
   "codemirror_mode": {
    "name": "ipython",
    "version": 3
   },
   "file_extension": ".py",
   "mimetype": "text/x-python",
   "name": "python",
   "nbconvert_exporter": "python",
   "pygments_lexer": "ipython3",
   "version": "3.7.13"
  }
 },
 "nbformat": 4,
 "nbformat_minor": 4
}
