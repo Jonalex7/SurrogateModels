{
 "cells": [
  {
   "cell_type": "code",
   "execution_count": 1,
   "id": "32acac37",
   "metadata": {},
   "outputs": [],
   "source": [
    "import numpy as np\n",
    "from surrogate_models import surrogate_models\n",
    "import pickle\n",
    "from scipy.stats import norm"
   ]
  },
  {
   "cell_type": "markdown",
   "id": "5e04dff9",
   "metadata": {},
   "source": [
    "# Importing Simulator"
   ]
  },
  {
   "cell_type": "code",
   "execution_count": 2,
   "id": "f06ff8af",
   "metadata": {},
   "outputs": [],
   "source": [
    "import LStates.gfun_63 as gfun_63  # function = gfun_63.gfun_63  #assigning ground truth sim (it should return 1dim only)\n",
    "\n",
    "from LStates.HMCMC_functions import example_2, example_4\n",
    "\n",
    "#example_2 Parabolic/Concave limit-state function\n",
    "#ref. (HMCMC High Dim, Prof. Kostas) PF= 5.90E-8\n",
    "# 2 independent standard normal random variables\n",
    "\n",
    "#example_4: The Himmelblau Function\n",
    "#ref. (HMCMC High Dim, Prof. Kostas)\n",
    "# 2 independent standard normal random variables\n",
    "\n",
    "from LStates.g11D_electric import example_electric"
   ]
  },
  {
   "cell_type": "markdown",
   "id": "e47bfa35",
   "metadata": {},
   "source": [
    "Marginals for g11D_electric function"
   ]
  },
  {
   "cell_type": "code",
   "execution_count": 3,
   "id": "800d21d4",
   "metadata": {},
   "outputs": [],
   "source": [
    "# X1 = L (m) mean=4.2    cov=0.10   lognormal/R>0\n",
    "x1_mean = 4.2\n",
    "x1_std = x1_mean * 0.1\n",
    "normal_std_1 = np.sqrt(np.log(1 + (x1_std/x1_mean)**2))\n",
    "normal_mean_1 = np.log(x1_mean) - normal_std_1**2 / 2\n",
    "\n",
    "# X2 = h (m) mean=0.02    cov=0.10 lognormal /R>0\n",
    "x2_mean = 0.02\n",
    "x2_std = x2_mean * 0.1\n",
    "normal_std_2 = np.sqrt(np.log(1 + (x2_std/x2_mean)**2))\n",
    "normal_mean_2 = np.log(x2_mean) - normal_std_2**2 / 2\n",
    "\n",
    "# X3 = d (m) mean=0.001  cov=0.05 lognormal /R>0\n",
    "x3_mean = 0.001\n",
    "x3_std = x3_mean * 0.05\n",
    "normal_std_3 = np.sqrt(np.log(1 + (x3_std/x3_mean)**2))\n",
    "normal_mean_3 = np.log(x3_mean) - normal_std_3**2 / 2\n",
    "\n",
    "# X4 = ZL () mean=1000    cov=0.20 lognormal /R>0\n",
    "x4_mean = 1000\n",
    "x4_std = x4_mean * 0.2\n",
    "normal_std_4 = np.sqrt(np.log(1 + (x4_std/x4_mean)**2))\n",
    "normal_mean_4 = np.log(x4_mean) - normal_std_4**2 / 2\n",
    "\n",
    "# X5 = Z0 () mean=50   cov=0.05 lognormal /R>0\n",
    "x5_mean = 50\n",
    "x5_std = x5_mean * 0.05\n",
    "normal_std_5 = np.sqrt(np.log(1 + (x5_std/x5_mean)**2))\n",
    "normal_mean_5 = np.log(x5_mean) - normal_std_5**2 / 2\n",
    "\n",
    "# X6 = ae (V/m) mean=1  cov=0.20 lognormal /R>0\n",
    "x6_mean = 1\n",
    "x6_std = x6_mean * 0.2\n",
    "normal_std_6 = np.sqrt(np.log(1 + (x6_std/x6_mean)**2))\n",
    "normal_mean_6 = np.log(x6_mean) - normal_std_6**2 / 2\n",
    "\n",
    "# X7 = theta_e (rad) mean=pi/4    cov=0.577 uniform / [0,pi/2]\n",
    "x7_min = 0\n",
    "x7_max = np.pi / 2\n",
    "\n",
    "# X8 = theta_p (rad) mean=pi/4    cov=0.577 uniform / [0,pi/2]\n",
    "x8_min = 0\n",
    "x8_max = np.pi / 2\n",
    "\n",
    "# X9 = phi_p (rad) mean=pi   cov=0.577 uniform / [0,pi*2]\n",
    "x9_min = 0\n",
    "x9_max = np.pi*2\n",
    "\n",
    "# X10 = f (MHz) mean=30    cov=0.096 uniform / [25 ,35]\n",
    "x10_min = 25.\n",
    "x10_max = 35.\n",
    "\n",
    "# X11 = alpha (-) mean=0.0010  cov=0.289 uniform / [0.0005 , 0.0015]\n",
    "x11_min = 0.0005\n",
    "x11_max =  0.0015"
   ]
  },
  {
   "cell_type": "code",
   "execution_count": 4,
   "id": "238b86c9",
   "metadata": {},
   "outputs": [],
   "source": [
    "dim = 11\n",
    "n_mcs = int(1e8)\n",
    "X = np.zeros((n_mcs,dim))\n",
    "L = X[:,0] = np.random.lognormal(mean=normal_mean_1, sigma=normal_std_1, size=n_mcs)   #L (m)\n",
    "h = X[:,1] = np.random.lognormal(mean=normal_mean_2, sigma=normal_std_2, size=n_mcs)   #h (m)\n",
    "d = X[:,2] = np.random.lognormal(mean=normal_mean_3, sigma=normal_std_3, size=n_mcs)   #d (m)\n",
    "ZL = X[:,3] = np.random.lognormal(mean=normal_mean_4, sigma=normal_std_4, size=n_mcs)   #ZL ()\n",
    "Z0 = X[:,4] = np.random.lognormal(mean=normal_mean_5, sigma=normal_std_5, size=n_mcs)   #Z0 ()\n",
    "ae = X[:,5] = np.random.lognormal(mean=normal_mean_6, sigma=normal_std_6, size=n_mcs)   #ae (V/m)\n",
    "theta_e = X[:,6] = np.random.uniform(low=x7_min, high=x7_max, size=n_mcs)        #theta_e (rad)\n",
    "theta_p = X[:,7] = np.random.uniform(low=x8_min, high=x8_max, size=n_mcs)        #theta_p (rad)\n",
    "phi_p =  X[:,8] = np.random.uniform(low=x9_min, high=x9_max, size=n_mcs)        #phi_p (rad)\n",
    "f = X[:,9] = np.random.uniform(low=x10_min, high=x10_max, size=n_mcs)      #f (MHz)\n",
    "alpha = X[:,10] = np.random.uniform(low=x11_min, high=x11_max, size=n_mcs)     #alpha (-)"
   ]
  },
  {
   "cell_type": "code",
   "execution_count": 5,
   "id": "3b86da17",
   "metadata": {},
   "outputs": [
    {
     "data": {
      "text/plain": [
       "0.0"
      ]
     },
     "execution_count": 5,
     "metadata": {},
     "output_type": "execute_result"
    }
   ],
   "source": [
    "g_test = example_electric(X)\n",
    "np.sum(g_test < 0) / n_mcs"
   ]
  },
  {
   "cell_type": "code",
   "execution_count": null,
   "id": "b494835f",
   "metadata": {},
   "outputs": [],
   "source": [
    "function = example_4\n",
    "dim = 2\n",
    "n_mcs = int(1e6)\n",
    "Xtest = np.random.normal(0.0, 1.0, size=(n_mcs, dim))\n",
    "y_test = function(Xtest)\n",
    "\n",
    "Pf_ref = np.sum( y_test < 0 ) / n_mcs\n",
    "B_ref= - norm.ppf( Pf_ref )\n",
    "Pf_ref, B_ref"
   ]
  },
  {
   "cell_type": "markdown",
   "id": "6f0436dd",
   "metadata": {},
   "source": [
    "# Setting up training conditions"
   ]
  },
  {
   "cell_type": "code",
   "execution_count": null,
   "id": "f0e7710a",
   "metadata": {},
   "outputs": [],
   "source": [
    "#Bulding desing of experiment for LHS\n",
    "dim = 2\n",
    "marginal = 'hermite'  #random normal\n",
    "# marginal = 'legendre' #random uniform\n",
    "\n",
    "exp = {}\n",
    "for var in range(dim):\n",
    "    var_name = 'x'+str(var+1)\n",
    "    exp[var_name] = [0.0, 1.0, marginal]   #initial design domain for each variable (normal, uniform)\n",
    "                                           # {'x1':[Min, Max, 'legendre'], 'x2':[mean, std, 'hermite']}"
   ]
  },
  {
   "cell_type": "code",
   "execution_count": null,
   "id": "3a856e5c",
   "metadata": {},
   "outputs": [],
   "source": [
    "n_mcs = int(3e6)      #number of MC samples\n",
    "passive_samples = 10 \n",
    "active_samples = 50\n",
    "function = example_4\n",
    "\n",
    "#to creat PCK model--------------------------------------------\n",
    "settings_PCK = {\"metamodel\" : 'PCK',\n",
    "                     \"max_pol\": 8,  #max polynomial degree\n",
    "                     \"passive_sampling\" : [passive_samples,'LHS'] , # initial samplings [n_samples, method]\n",
    "                     \"marginals\" : [exp],   # {'x1':[Min, Max, 'legendre'], 'x2':[mean, var, hermite]}\n",
    "                     \"active_sampling\" : [function, 'U'] } #target settings [n_act, targetF, learningF(U, EFF, ULOO, EFFLOO)]                  \n",
    "\n",
    "#to creat Kriging model--------------------------------------------\n",
    "settings_GP = {\"metamodel\" : 'GP',\n",
    "               \"passive_sampling\" : [passive_samples,'LHS'] , # initial samplings [n_samples, method]\n",
    "               \"marginals\" : [exp],   # {'x1':[Min, Max], 'x2':[mean, var]}  ( if Legendre , if Hermite)\n",
    "               \"active_sampling\" : [function, 'U']} #target settings [n_act, targetF, learningF(U, EFF, ULOO, EFFLOO)]                  \n",
    "\n",
    "#creating objects\n",
    "PCK_batch = surrogate_models(settings_PCK)\n",
    "GP_batch = surrogate_models(settings_GP)"
   ]
  },
  {
   "cell_type": "markdown",
   "id": "86acff9c",
   "metadata": {},
   "source": [
    "# Active Training"
   ]
  },
  {
   "cell_type": "markdown",
   "id": "c039f270",
   "metadata": {},
   "source": [
    "Kriging model with Matern Kernel (scikit learn)"
   ]
  },
  {
   "cell_type": "code",
   "execution_count": null,
   "id": "f7414bc7",
   "metadata": {
    "scrolled": true
   },
   "outputs": [],
   "source": [
    "experiments = 5\n",
    "GP_batch.active_sampling(n_exp = experiments, n_act = active_samples, MCpool= n_mcs, GroundT=False)  "
   ]
  },
  {
   "cell_type": "markdown",
   "id": "80b95bd9",
   "metadata": {},
   "source": [
    "PCK model"
   ]
  },
  {
   "cell_type": "code",
   "execution_count": null,
   "id": "b563a0e9",
   "metadata": {},
   "outputs": [],
   "source": [
    "experiments = 5\n",
    "PCK_batch.active_sampling(n_exp = experiments, n_act = active_samples, MCpool= n_mcs, GroundT=True)  "
   ]
  },
  {
   "cell_type": "markdown",
   "id": "5ca35984",
   "metadata": {},
   "source": [
    "Loading results file"
   ]
  },
  {
   "cell_type": "code",
   "execution_count": null,
   "id": "ea0e1b16",
   "metadata": {},
   "outputs": [],
   "source": [
    "file_name = 'PCK_Batch_1.sav'\n",
    "experiment = pickle.load(open(file_name, 'rb'))"
   ]
  },
  {
   "cell_type": "code",
   "execution_count": null,
   "id": "b5950c30",
   "metadata": {},
   "outputs": [],
   "source": [
    "experiment['last']"
   ]
  },
  {
   "cell_type": "code",
   "execution_count": null,
   "id": "a62b455a",
   "metadata": {},
   "outputs": [],
   "source": [
    "dim = 2\n",
    "n_mcs = int(3e6) \n",
    "\n",
    "Xtest = np.random.normal(0.0, 1.0, size=(n_mcs, dim))\n",
    "y_test = example_4(Xtest)"
   ]
  },
  {
   "cell_type": "code",
   "execution_count": null,
   "id": "51a625d3",
   "metadata": {},
   "outputs": [],
   "source": [
    "pf = np.sum(y_test <0) / n_mcs\n",
    "pf"
   ]
  },
  {
   "cell_type": "code",
   "execution_count": null,
   "id": "12258d8c",
   "metadata": {},
   "outputs": [],
   "source": []
  }
 ],
 "metadata": {
  "kernelspec": {
   "display_name": "Python 3 (ipykernel)",
   "language": "python",
   "name": "python3"
  },
  "language_info": {
   "codemirror_mode": {
    "name": "ipython",
    "version": 3
   },
   "file_extension": ".py",
   "mimetype": "text/x-python",
   "name": "python",
   "nbconvert_exporter": "python",
   "pygments_lexer": "ipython3",
   "version": "3.7.13"
  }
 },
 "nbformat": 4,
 "nbformat_minor": 5
}
