{
 "cells": [
  {
   "cell_type": "code",
   "execution_count": 1,
   "id": "628b5b1f",
   "metadata": {},
   "outputs": [],
   "source": [
    "import numpy as np\n",
    "from surrogate_models import surrogate_models\n",
    "import pickle\n",
    "from scipy.stats import norm"
   ]
  },
  {
   "cell_type": "markdown",
   "id": "717b5c62",
   "metadata": {},
   "source": [
    "# Importing Simulator"
   ]
  },
  {
   "cell_type": "code",
   "execution_count": 2,
   "id": "7f9bc0fa",
   "metadata": {},
   "outputs": [],
   "source": [
    "import LStates.gfun_63 as gfun_63  # function = gfun_63.gfun_63  #assigning ground truth sim (it should return 1dim only)\n",
    "\n",
    "from LStates.HMCMC_functions import example_2, example_4, example_8\n",
    "\n",
    "#example_2 Parabolic/Concave limit-state function\n",
    "#ref. (HMCMC High Dim, Prof. Kostas) PF= 5.90E-8\n",
    "# 2 independent standard normal random variables\n",
    "\n",
    "#example_4: The Himmelblau Function\n",
    "#ref. (HMCMC High Dim, Prof. Kostas)\n",
    "# 2 independent standard normal random variables\n",
    "\n",
    "# Example 8: High-dimensional highly nonlinear problem - 100 D\n",
    "#ref. (HMCMC High Dim, Prof. Kostas)\n",
    "# 100 independent standard normal random variables\n",
    "\n",
    "from LStates.g11D_electric import example_electric"
   ]
  },
  {
   "cell_type": "markdown",
   "id": "9ca180f6",
   "metadata": {},
   "source": [
    "Marginals for g11D_electric function"
   ]
  },
  {
   "cell_type": "code",
   "execution_count": null,
   "id": "ebc25f52",
   "metadata": {},
   "outputs": [],
   "source": [
    "# X1 = L (m) mean=4.2    cov=0.10   lognormal/R>0\n",
    "x1_mean = 4.2\n",
    "x1_std = x1_mean * 0.1\n",
    "normal_std_1 = np.sqrt(np.log(1 + (x1_std/x1_mean)**2))\n",
    "normal_mean_1 = np.log(x1_mean) - normal_std_1**2 / 2\n",
    "\n",
    "# X2 = h (m) mean=0.02    cov=0.10 lognormal /R>0\n",
    "x2_mean = 0.02\n",
    "x2_std = x2_mean * 0.1\n",
    "normal_std_2 = np.sqrt(np.log(1 + (x2_std/x2_mean)**2))\n",
    "normal_mean_2 = np.log(x2_mean) - normal_std_2**2 / 2\n",
    "\n",
    "# X3 = d (m) mean=0.001  cov=0.05 lognormal /R>0\n",
    "x3_mean = 0.001\n",
    "x3_std = x3_mean * 0.05\n",
    "normal_std_3 = np.sqrt(np.log(1 + (x3_std/x3_mean)**2))\n",
    "normal_mean_3 = np.log(x3_mean) - normal_std_3**2 / 2\n",
    "\n",
    "# X4 = ZL () mean=1000    cov=0.20 lognormal /R>0\n",
    "x4_mean = 1000\n",
    "x4_std = x4_mean * 0.2\n",
    "normal_std_4 = np.sqrt(np.log(1 + (x4_std/x4_mean)**2))\n",
    "normal_mean_4 = np.log(x4_mean) - normal_std_4**2 / 2\n",
    "\n",
    "# X5 = Z0 () mean=50   cov=0.05 lognormal /R>0\n",
    "x5_mean = 50\n",
    "x5_std = x5_mean * 0.05\n",
    "normal_std_5 = np.sqrt(np.log(1 + (x5_std/x5_mean)**2))\n",
    "normal_mean_5 = np.log(x5_mean) - normal_std_5**2 / 2\n",
    "\n",
    "# X6 = ae (V/m) mean=1  cov=0.20 lognormal /R>0\n",
    "x6_mean = 1\n",
    "x6_std = x6_mean * 0.2\n",
    "normal_std_6 = np.sqrt(np.log(1 + (x6_std/x6_mean)**2))\n",
    "normal_mean_6 = np.log(x6_mean) - normal_std_6**2 / 2\n",
    "\n",
    "# X7 = theta_e (rad) mean=pi/4    cov=0.577 uniform / [0,pi/2]\n",
    "x7_min = 0\n",
    "x7_max = np.pi / 2\n",
    "\n",
    "# X8 = theta_p (rad) mean=pi/4    cov=0.577 uniform / [0,pi/2]\n",
    "x8_min = 0\n",
    "x8_max = np.pi / 2\n",
    "\n",
    "# X9 = phi_p (rad) mean=pi   cov=0.577 uniform / [0,pi*2]\n",
    "x9_min = 0\n",
    "x9_max = np.pi*2\n",
    "\n",
    "# X10 = f (MHz) mean=30    cov=0.096 uniform / [25 ,35]\n",
    "x10_min = 25.\n",
    "x10_max = 35.\n",
    "\n",
    "# X11 = alpha (-) mean=0.0010  cov=0.289 uniform / [0.0005 , 0.0015]\n",
    "x11_min = 0.0005\n",
    "x11_max =  0.0015"
   ]
  },
  {
   "cell_type": "code",
   "execution_count": null,
   "id": "bd85bd79",
   "metadata": {},
   "outputs": [],
   "source": [
    "dim = 11\n",
    "n_mcs = int(1e8)\n",
    "X = np.zeros((n_mcs,dim))\n",
    "L = X[:,0] = np.random.lognormal(mean=normal_mean_1, sigma=normal_std_1, size=n_mcs)   #L (m)\n",
    "h = X[:,1] = np.random.lognormal(mean=normal_mean_2, sigma=normal_std_2, size=n_mcs)   #h (m)\n",
    "d = X[:,2] = np.random.lognormal(mean=normal_mean_3, sigma=normal_std_3, size=n_mcs)   #d (m)\n",
    "ZL = X[:,3] = np.random.lognormal(mean=normal_mean_4, sigma=normal_std_4, size=n_mcs)   #ZL ()\n",
    "Z0 = X[:,4] = np.random.lognormal(mean=normal_mean_5, sigma=normal_std_5, size=n_mcs)   #Z0 ()\n",
    "ae = X[:,5] = np.random.lognormal(mean=normal_mean_6, sigma=normal_std_6, size=n_mcs)   #ae (V/m)\n",
    "theta_e = X[:,6] = np.random.uniform(low=x7_min, high=x7_max, size=n_mcs)        #theta_e (rad)\n",
    "theta_p = X[:,7] = np.random.uniform(low=x8_min, high=x8_max, size=n_mcs)        #theta_p (rad)\n",
    "phi_p =  X[:,8] = np.random.uniform(low=x9_min, high=x9_max, size=n_mcs)        #phi_p (rad)\n",
    "f = X[:,9] = np.random.uniform(low=x10_min, high=x10_max, size=n_mcs)      #f (MHz)\n",
    "alpha = X[:,10] = np.random.uniform(low=x11_min, high=x11_max, size=n_mcs)     #alpha (-)"
   ]
  },
  {
   "cell_type": "code",
   "execution_count": 6,
   "id": "0a027b4c",
   "metadata": {},
   "outputs": [
    {
     "data": {
      "text/plain": [
       "(3.06e-05, 4.008135520155705)"
      ]
     },
     "execution_count": 6,
     "metadata": {},
     "output_type": "execute_result"
    }
   ],
   "source": [
    "function = example_8\n",
    "dim = 100\n",
    "n_mcs_ref = int(1e7)\n",
    "Xtest = np.random.normal(0.0, 1.0, size=(n_mcs_ref, dim))\n",
    "y_test = function(Xtest)\n",
    "\n",
    "Pf_ref = np.sum( y_test < 0 ) / n_mcs_ref\n",
    "B_ref= - norm.ppf( Pf_ref )\n",
    "Pf_ref, B_ref"
   ]
  },
  {
   "cell_type": "markdown",
   "id": "039c5fae",
   "metadata": {},
   "source": [
    "# Setting up training conditions"
   ]
  },
  {
   "cell_type": "code",
   "execution_count": 7,
   "id": "2cb86172",
   "metadata": {},
   "outputs": [],
   "source": [
    "#Bulding desing of experiment for LHS\n",
    "dim = 100\n",
    "marginal = 'hermite'  #random normal\n",
    "# marginal = 'legendre' #random uniform\n",
    "\n",
    "exp = {}\n",
    "for var in range(dim):\n",
    "    var_name = 'x'+str(var+1)\n",
    "    exp[var_name] = [0.0, 1.0, marginal]   #initial design domain for each variable (normal, uniform)\n",
    "                                           # {'x1':[Min, Max, 'legendre'], 'x2':[mean, std, 'hermite']}"
   ]
  },
  {
   "cell_type": "code",
   "execution_count": 8,
   "id": "75e9d235",
   "metadata": {},
   "outputs": [],
   "source": [
    "n_mcs = int(1e6)      #number of MC samples\n",
    "passive_samples = 100 \n",
    "active_samples = 200\n",
    "\n",
    "#to creat PCK model--------------------------------------------\n",
    "settings_PCK = {\"metamodel\" : 'PCK',\n",
    "                     \"max_pol\": 8,  #max polynomial degree\n",
    "                     \"passive_sampling\" : [passive_samples,'LHS'] , # initial samplings [n_samples, method]\n",
    "                     \"marginals\" : [exp],   # {'x1':[Min, Max, 'legendre'], 'x2':[mean, var, hermite]}\n",
    "                     \"active_sampling\" : [function, 'U'] } #target settings [n_act, targetF, learningF(U, EFF, ULOO, EFFLOO)]                  \n",
    "\n",
    "#to creat Kriging model--------------------------------------------\n",
    "settings_GP = {\"metamodel\" : 'GP',\n",
    "               \"passive_sampling\" : [passive_samples,'LHS'] , # initial samplings [n_samples, method]\n",
    "               \"marginals\" : [exp],   # {'x1':[Min, Max], 'x2':[mean, var]}  ( if Legendre , if Hermite)\n",
    "               \"active_sampling\" : [function, 'U']} #target settings [n_act, targetF, learningF(U, EFF, ULOO, EFFLOO)]                  \n",
    "\n",
    "#creating objects\n",
    "PCK_batch = surrogate_models(settings_PCK)\n",
    "GP_batch = surrogate_models(settings_GP)"
   ]
  },
  {
   "cell_type": "markdown",
   "id": "ba14c267",
   "metadata": {},
   "source": [
    "# Active Training"
   ]
  },
  {
   "cell_type": "markdown",
   "id": "a695f5ec",
   "metadata": {},
   "source": [
    "Kriging model with Matern Kernel (scikit learn)"
   ]
  },
  {
   "cell_type": "code",
   "execution_count": null,
   "id": "9bf319aa",
   "metadata": {
    "scrolled": true
   },
   "outputs": [
    {
     "name": "stdout",
     "output_type": "stream",
     "text": [
      "Experiment:  1 ########################################################\n",
      "Training model with 100 samples..\n",
      "Model predictions with MC population...\n",
      "Pf_ref: None Pf_SuMo: 0.008155 B_sumo: 2.402 CoV_SuMo: 0.011\n",
      " \n",
      "Training model with 101 samples..\n",
      "Model predictions with MC population...\n",
      "Pf_ref: None Pf_SuMo: 0.006623 B_sumo: 2.477 CoV_SuMo: 0.012\n",
      " \n",
      "Training model with 102 samples..\n",
      "Model predictions with MC population...\n",
      "Pf_ref: None Pf_SuMo: 0.081891 B_sumo: 1.393 CoV_SuMo: 0.003\n",
      " \n",
      "Training model with 103 samples..\n",
      "Model predictions with MC population...\n",
      "Pf_ref: None Pf_SuMo: 0.071506 B_sumo: 1.465 CoV_SuMo: 0.004\n",
      " \n",
      "Training model with 104 samples..\n",
      "Model predictions with MC population...\n",
      "Pf_ref: None Pf_SuMo: 0.053964 B_sumo: 1.608 CoV_SuMo: 0.004\n",
      " \n",
      "Training model with 105 samples..\n",
      "Model predictions with MC population...\n",
      "Pf_ref: None Pf_SuMo: 0.048376 B_sumo: 1.661 CoV_SuMo: 0.004\n",
      " \n",
      "Training model with 106 samples..\n",
      "Model predictions with MC population...\n",
      "Pf_ref: None Pf_SuMo: 0.046714 B_sumo: 1.678 CoV_SuMo: 0.004\n",
      " \n",
      "Training model with 107 samples..\n",
      "Model predictions with MC population...\n",
      "Pf_ref: None Pf_SuMo: 0.038998 B_sumo: 1.762 CoV_SuMo: 0.005\n",
      " \n",
      "Training model with 108 samples..\n",
      "Model predictions with MC population...\n",
      "Pf_ref: None Pf_SuMo: 0.035462 B_sumo: 1.806 CoV_SuMo: 0.005\n",
      " \n",
      "Training model with 109 samples..\n",
      "Model predictions with MC population...\n",
      "Pf_ref: None Pf_SuMo: 0.034482 B_sumo: 1.819 CoV_SuMo: 0.005\n",
      " \n",
      "Training model with 110 samples..\n",
      "Model predictions with MC population...\n",
      "Pf_ref: None Pf_SuMo: 0.029232 B_sumo: 1.892 CoV_SuMo: 0.006\n",
      " \n",
      "Training model with 111 samples..\n",
      "Model predictions with MC population...\n",
      "Pf_ref: None Pf_SuMo: 0.019476 B_sumo: 2.065 CoV_SuMo: 0.007\n",
      " \n",
      "Training model with 112 samples..\n",
      "Model predictions with MC population...\n",
      "Pf_ref: None Pf_SuMo: 0.017913 B_sumo: 2.099 CoV_SuMo: 0.007\n",
      " \n",
      "Training model with 113 samples..\n",
      "Model predictions with MC population...\n",
      "Pf_ref: None Pf_SuMo: 0.017528 B_sumo: 2.108 CoV_SuMo: 0.007\n",
      " \n",
      "Training model with 114 samples..\n",
      "Model predictions with MC population...\n",
      "Pf_ref: None Pf_SuMo: 0.011186 B_sumo: 2.284 CoV_SuMo: 0.009\n",
      " \n",
      "Training model with 115 samples..\n"
     ]
    },
    {
     "name": "stderr",
     "output_type": "stream",
     "text": [
      "C:\\Users\\Administrator\\anaconda3\\envs\\surrogate\\lib\\site-packages\\sklearn\\gaussian_process\\kernels.py:437: ConvergenceWarning: The optimal value found for dimension 0 of parameter k1__constant_value is close to the specified upper bound 100000.0. Increasing the bound and calling fit again may find a better value.\n",
      "  ConvergenceWarning,\n"
     ]
    },
    {
     "name": "stdout",
     "output_type": "stream",
     "text": [
      "Model predictions with MC population...\n",
      "Pf_ref: None Pf_SuMo: 0.006618 B_sumo: 2.477 CoV_SuMo: 0.012\n",
      " \n",
      "Training model with 116 samples..\n"
     ]
    },
    {
     "name": "stderr",
     "output_type": "stream",
     "text": [
      "C:\\Users\\Administrator\\anaconda3\\envs\\surrogate\\lib\\site-packages\\sklearn\\gaussian_process\\kernels.py:437: ConvergenceWarning: The optimal value found for dimension 0 of parameter k1__constant_value is close to the specified upper bound 100000.0. Increasing the bound and calling fit again may find a better value.\n",
      "  ConvergenceWarning,\n"
     ]
    },
    {
     "name": "stdout",
     "output_type": "stream",
     "text": [
      "Model predictions with MC population...\n",
      "Pf_ref: None Pf_SuMo: 0.006389 B_sumo: 2.490 CoV_SuMo: 0.013\n",
      " \n",
      "Training model with 117 samples..\n"
     ]
    },
    {
     "name": "stderr",
     "output_type": "stream",
     "text": [
      "C:\\Users\\Administrator\\anaconda3\\envs\\surrogate\\lib\\site-packages\\sklearn\\gaussian_process\\kernels.py:437: ConvergenceWarning: The optimal value found for dimension 0 of parameter k1__constant_value is close to the specified upper bound 100000.0. Increasing the bound and calling fit again may find a better value.\n",
      "  ConvergenceWarning,\n"
     ]
    },
    {
     "name": "stdout",
     "output_type": "stream",
     "text": [
      "Model predictions with MC population...\n",
      "Pf_ref: None Pf_SuMo: 0.006257 B_sumo: 2.497 CoV_SuMo: 0.013\n",
      " \n",
      "Training model with 118 samples..\n"
     ]
    },
    {
     "name": "stderr",
     "output_type": "stream",
     "text": [
      "C:\\Users\\Administrator\\anaconda3\\envs\\surrogate\\lib\\site-packages\\sklearn\\gaussian_process\\kernels.py:437: ConvergenceWarning: The optimal value found for dimension 0 of parameter k1__constant_value is close to the specified upper bound 100000.0. Increasing the bound and calling fit again may find a better value.\n",
      "  ConvergenceWarning,\n"
     ]
    },
    {
     "name": "stdout",
     "output_type": "stream",
     "text": [
      "Model predictions with MC population...\n",
      "Pf_ref: None Pf_SuMo: 0.006162 B_sumo: 2.503 CoV_SuMo: 0.013\n",
      " \n",
      "Training model with 119 samples..\n"
     ]
    },
    {
     "name": "stderr",
     "output_type": "stream",
     "text": [
      "C:\\Users\\Administrator\\anaconda3\\envs\\surrogate\\lib\\site-packages\\sklearn\\gaussian_process\\kernels.py:437: ConvergenceWarning: The optimal value found for dimension 0 of parameter k1__constant_value is close to the specified upper bound 100000.0. Increasing the bound and calling fit again may find a better value.\n",
      "  ConvergenceWarning,\n"
     ]
    },
    {
     "name": "stdout",
     "output_type": "stream",
     "text": [
      "Model predictions with MC population...\n",
      "Pf_ref: None Pf_SuMo: 0.005528 B_sumo: 2.541 CoV_SuMo: 0.013\n",
      " \n",
      "Training model with 120 samples..\n"
     ]
    },
    {
     "name": "stderr",
     "output_type": "stream",
     "text": [
      "C:\\Users\\Administrator\\anaconda3\\envs\\surrogate\\lib\\site-packages\\sklearn\\gaussian_process\\kernels.py:437: ConvergenceWarning: The optimal value found for dimension 0 of parameter k1__constant_value is close to the specified upper bound 100000.0. Increasing the bound and calling fit again may find a better value.\n",
      "  ConvergenceWarning,\n"
     ]
    },
    {
     "name": "stdout",
     "output_type": "stream",
     "text": [
      "Model predictions with MC population...\n",
      "Pf_ref: None Pf_SuMo: 0.00523 B_sumo: 2.560 CoV_SuMo: 0.014\n",
      " \n",
      "Training model with 121 samples..\n",
      "Model predictions with MC population...\n",
      "Pf_ref: None Pf_SuMo: 0.004902 B_sumo: 2.583 CoV_SuMo: 0.014\n",
      " \n",
      "Training model with 122 samples..\n"
     ]
    },
    {
     "name": "stderr",
     "output_type": "stream",
     "text": [
      "C:\\Users\\Administrator\\anaconda3\\envs\\surrogate\\lib\\site-packages\\sklearn\\gaussian_process\\kernels.py:437: ConvergenceWarning: The optimal value found for dimension 0 of parameter k1__constant_value is close to the specified upper bound 100000.0. Increasing the bound and calling fit again may find a better value.\n",
      "  ConvergenceWarning,\n"
     ]
    },
    {
     "name": "stdout",
     "output_type": "stream",
     "text": [
      "Model predictions with MC population...\n",
      "Pf_ref: None Pf_SuMo: 0.004315 B_sumo: 2.626 CoV_SuMo: 0.015\n",
      " \n",
      "Training model with 123 samples..\n",
      "Model predictions with MC population...\n",
      "Pf_ref: None Pf_SuMo: 0.003654 B_sumo: 2.683 CoV_SuMo: 0.017\n",
      " \n",
      "Training model with 124 samples..\n",
      "Model predictions with MC population...\n",
      "Pf_ref: None Pf_SuMo: 0.003694 B_sumo: 2.679 CoV_SuMo: 0.016\n",
      " \n",
      "Training model with 125 samples..\n",
      "Model predictions with MC population...\n",
      "Pf_ref: None Pf_SuMo: 0.002596 B_sumo: 2.795 CoV_SuMo: 0.020\n",
      " \n",
      "Training model with 126 samples..\n",
      "Model predictions with MC population...\n",
      "Pf_ref: None Pf_SuMo: 0.002295 B_sumo: 2.834 CoV_SuMo: 0.021\n",
      " \n",
      "Training model with 127 samples..\n",
      "Model predictions with MC population...\n",
      "Pf_ref: None Pf_SuMo: 0.002212 B_sumo: 2.846 CoV_SuMo: 0.021\n",
      " \n",
      "Training model with 128 samples..\n",
      "Model predictions with MC population...\n",
      "Pf_ref: None Pf_SuMo: 0.001867 B_sumo: 2.900 CoV_SuMo: 0.023\n",
      " \n",
      "Training model with 129 samples..\n",
      "Model predictions with MC population...\n",
      "Pf_ref: None Pf_SuMo: 0.001785 B_sumo: 2.914 CoV_SuMo: 0.024\n",
      " \n",
      "Training model with 130 samples..\n",
      "Model predictions with MC population...\n",
      "Pf_ref: None Pf_SuMo: 0.001663 B_sumo: 2.936 CoV_SuMo: 0.025\n",
      " \n",
      "Training model with 131 samples..\n"
     ]
    },
    {
     "name": "stderr",
     "output_type": "stream",
     "text": [
      "C:\\Users\\Administrator\\anaconda3\\envs\\surrogate\\lib\\site-packages\\sklearn\\gaussian_process\\kernels.py:437: ConvergenceWarning: The optimal value found for dimension 0 of parameter k1__constant_value is close to the specified upper bound 100000.0. Increasing the bound and calling fit again may find a better value.\n",
      "  ConvergenceWarning,\n"
     ]
    },
    {
     "name": "stdout",
     "output_type": "stream",
     "text": [
      "Model predictions with MC population...\n",
      "Pf_ref: None Pf_SuMo: 0.00089 B_sumo: 3.125 CoV_SuMo: 0.034\n",
      " \n",
      "Training model with 132 samples..\n"
     ]
    },
    {
     "name": "stderr",
     "output_type": "stream",
     "text": [
      "C:\\Users\\Administrator\\anaconda3\\envs\\surrogate\\lib\\site-packages\\sklearn\\gaussian_process\\kernels.py:437: ConvergenceWarning: The optimal value found for dimension 0 of parameter k1__constant_value is close to the specified upper bound 100000.0. Increasing the bound and calling fit again may find a better value.\n",
      "  ConvergenceWarning,\n"
     ]
    },
    {
     "name": "stdout",
     "output_type": "stream",
     "text": [
      "Model predictions with MC population...\n",
      "Pf_ref: None Pf_SuMo: 0.000794 B_sumo: 3.158 CoV_SuMo: 0.035\n",
      " \n",
      "Training model with 133 samples..\n"
     ]
    },
    {
     "name": "stderr",
     "output_type": "stream",
     "text": [
      "C:\\Users\\Administrator\\anaconda3\\envs\\surrogate\\lib\\site-packages\\sklearn\\gaussian_process\\kernels.py:437: ConvergenceWarning: The optimal value found for dimension 0 of parameter k1__constant_value is close to the specified upper bound 100000.0. Increasing the bound and calling fit again may find a better value.\n",
      "  ConvergenceWarning,\n"
     ]
    },
    {
     "name": "stdout",
     "output_type": "stream",
     "text": [
      "Model predictions with MC population...\n",
      "Pf_ref: None Pf_SuMo: 0.000754 B_sumo: 3.173 CoV_SuMo: 0.036\n",
      " \n",
      "Training model with 134 samples..\n"
     ]
    },
    {
     "name": "stderr",
     "output_type": "stream",
     "text": [
      "C:\\Users\\Administrator\\anaconda3\\envs\\surrogate\\lib\\site-packages\\sklearn\\gaussian_process\\kernels.py:437: ConvergenceWarning: The optimal value found for dimension 0 of parameter k1__constant_value is close to the specified upper bound 100000.0. Increasing the bound and calling fit again may find a better value.\n",
      "  ConvergenceWarning,\n"
     ]
    },
    {
     "name": "stdout",
     "output_type": "stream",
     "text": [
      "Model predictions with MC population...\n",
      "Pf_ref: None Pf_SuMo: 0.000746 B_sumo: 3.176 CoV_SuMo: 0.037\n",
      " \n",
      "Training model with 135 samples..\n"
     ]
    },
    {
     "name": "stderr",
     "output_type": "stream",
     "text": [
      "C:\\Users\\Administrator\\anaconda3\\envs\\surrogate\\lib\\site-packages\\sklearn\\gaussian_process\\kernels.py:437: ConvergenceWarning: The optimal value found for dimension 0 of parameter k1__constant_value is close to the specified upper bound 100000.0. Increasing the bound and calling fit again may find a better value.\n",
      "  ConvergenceWarning,\n"
     ]
    },
    {
     "name": "stdout",
     "output_type": "stream",
     "text": [
      "Model predictions with MC population...\n",
      "Pf_ref: None Pf_SuMo: 0.000723 B_sumo: 3.185 CoV_SuMo: 0.037\n",
      " \n",
      "Training model with 136 samples..\n"
     ]
    },
    {
     "name": "stderr",
     "output_type": "stream",
     "text": [
      "C:\\Users\\Administrator\\anaconda3\\envs\\surrogate\\lib\\site-packages\\sklearn\\gaussian_process\\kernels.py:437: ConvergenceWarning: The optimal value found for dimension 0 of parameter k1__constant_value is close to the specified upper bound 100000.0. Increasing the bound and calling fit again may find a better value.\n",
      "  ConvergenceWarning,\n"
     ]
    },
    {
     "name": "stdout",
     "output_type": "stream",
     "text": [
      "Model predictions with MC population...\n",
      "Pf_ref: None Pf_SuMo: 0.000333 B_sumo: 3.403 CoV_SuMo: 0.055\n",
      " \n",
      "Training model with 137 samples..\n"
     ]
    },
    {
     "name": "stderr",
     "output_type": "stream",
     "text": [
      "C:\\Users\\Administrator\\anaconda3\\envs\\surrogate\\lib\\site-packages\\sklearn\\gaussian_process\\kernels.py:437: ConvergenceWarning: The optimal value found for dimension 0 of parameter k1__constant_value is close to the specified upper bound 100000.0. Increasing the bound and calling fit again may find a better value.\n",
      "  ConvergenceWarning,\n"
     ]
    },
    {
     "name": "stdout",
     "output_type": "stream",
     "text": [
      "Model predictions with MC population...\n",
      "Pf_ref: None Pf_SuMo: 7e-05 B_sumo: 3.808 CoV_SuMo: 0.119\n",
      " \n",
      "Training model with 138 samples..\n"
     ]
    },
    {
     "name": "stderr",
     "output_type": "stream",
     "text": [
      "C:\\Users\\Administrator\\anaconda3\\envs\\surrogate\\lib\\site-packages\\sklearn\\gaussian_process\\kernels.py:437: ConvergenceWarning: The optimal value found for dimension 0 of parameter k1__constant_value is close to the specified upper bound 100000.0. Increasing the bound and calling fit again may find a better value.\n",
      "  ConvergenceWarning,\n"
     ]
    },
    {
     "name": "stdout",
     "output_type": "stream",
     "text": [
      "Model predictions with MC population...\n",
      "Pf_ref: None Pf_SuMo: 6.9e-05 B_sumo: 3.812 CoV_SuMo: 0.120\n",
      " \n",
      "Training model with 139 samples..\n"
     ]
    },
    {
     "name": "stderr",
     "output_type": "stream",
     "text": [
      "C:\\Users\\Administrator\\anaconda3\\envs\\surrogate\\lib\\site-packages\\sklearn\\gaussian_process\\kernels.py:437: ConvergenceWarning: The optimal value found for dimension 0 of parameter k1__constant_value is close to the specified upper bound 100000.0. Increasing the bound and calling fit again may find a better value.\n",
      "  ConvergenceWarning,\n"
     ]
    },
    {
     "name": "stdout",
     "output_type": "stream",
     "text": [
      "Model predictions with MC population...\n",
      "Pf_ref: None Pf_SuMo: 8e-05 B_sumo: 3.775 CoV_SuMo: 0.112\n",
      " \n",
      "Training model with 140 samples..\n"
     ]
    },
    {
     "name": "stderr",
     "output_type": "stream",
     "text": [
      "C:\\Users\\Administrator\\anaconda3\\envs\\surrogate\\lib\\site-packages\\sklearn\\gaussian_process\\kernels.py:437: ConvergenceWarning: The optimal value found for dimension 0 of parameter k1__constant_value is close to the specified upper bound 100000.0. Increasing the bound and calling fit again may find a better value.\n",
      "  ConvergenceWarning,\n"
     ]
    },
    {
     "name": "stdout",
     "output_type": "stream",
     "text": [
      "Model predictions with MC population...\n",
      "Pf_ref: None Pf_SuMo: 7.3e-05 B_sumo: 3.798 CoV_SuMo: 0.117\n",
      " \n",
      "Training model with 141 samples..\n"
     ]
    },
    {
     "name": "stderr",
     "output_type": "stream",
     "text": [
      "C:\\Users\\Administrator\\anaconda3\\envs\\surrogate\\lib\\site-packages\\sklearn\\gaussian_process\\kernels.py:437: ConvergenceWarning: The optimal value found for dimension 0 of parameter k1__constant_value is close to the specified upper bound 100000.0. Increasing the bound and calling fit again may find a better value.\n",
      "  ConvergenceWarning,\n"
     ]
    },
    {
     "name": "stdout",
     "output_type": "stream",
     "text": [
      "Model predictions with MC population...\n",
      "Pf_ref: None Pf_SuMo: 6.9e-05 B_sumo: 3.812 CoV_SuMo: 0.120\n",
      " \n",
      "Training model with 142 samples..\n"
     ]
    },
    {
     "name": "stderr",
     "output_type": "stream",
     "text": [
      "C:\\Users\\Administrator\\anaconda3\\envs\\surrogate\\lib\\site-packages\\sklearn\\gaussian_process\\kernels.py:437: ConvergenceWarning: The optimal value found for dimension 0 of parameter k1__constant_value is close to the specified upper bound 100000.0. Increasing the bound and calling fit again may find a better value.\n",
      "  ConvergenceWarning,\n"
     ]
    },
    {
     "name": "stdout",
     "output_type": "stream",
     "text": [
      "Model predictions with MC population...\n",
      "Pf_ref: None Pf_SuMo: 4.9e-05 B_sumo: 3.896 CoV_SuMo: 0.143\n",
      " \n",
      "Training model with 143 samples..\n"
     ]
    },
    {
     "name": "stderr",
     "output_type": "stream",
     "text": [
      "C:\\Users\\Administrator\\anaconda3\\envs\\surrogate\\lib\\site-packages\\sklearn\\gaussian_process\\kernels.py:437: ConvergenceWarning: The optimal value found for dimension 0 of parameter k1__constant_value is close to the specified upper bound 100000.0. Increasing the bound and calling fit again may find a better value.\n",
      "  ConvergenceWarning,\n"
     ]
    },
    {
     "name": "stdout",
     "output_type": "stream",
     "text": [
      "Model predictions with MC population...\n",
      "Pf_ref: None Pf_SuMo: 3.9e-05 B_sumo: 3.950 CoV_SuMo: 0.160\n",
      " \n",
      "Training model with 144 samples..\n"
     ]
    },
    {
     "name": "stderr",
     "output_type": "stream",
     "text": [
      "C:\\Users\\Administrator\\anaconda3\\envs\\surrogate\\lib\\site-packages\\sklearn\\gaussian_process\\kernels.py:437: ConvergenceWarning: The optimal value found for dimension 0 of parameter k1__constant_value is close to the specified upper bound 100000.0. Increasing the bound and calling fit again may find a better value.\n",
      "  ConvergenceWarning,\n"
     ]
    },
    {
     "name": "stdout",
     "output_type": "stream",
     "text": [
      "Model predictions with MC population...\n",
      "Pf_ref: None Pf_SuMo: 3.9e-05 B_sumo: 3.950 CoV_SuMo: 0.160\n",
      " \n",
      "Training model with 145 samples..\n"
     ]
    },
    {
     "name": "stderr",
     "output_type": "stream",
     "text": [
      "C:\\Users\\Administrator\\anaconda3\\envs\\surrogate\\lib\\site-packages\\sklearn\\gaussian_process\\kernels.py:437: ConvergenceWarning: The optimal value found for dimension 0 of parameter k1__constant_value is close to the specified upper bound 100000.0. Increasing the bound and calling fit again may find a better value.\n",
      "  ConvergenceWarning,\n"
     ]
    },
    {
     "name": "stdout",
     "output_type": "stream",
     "text": [
      "Model predictions with MC population...\n",
      "Pf_ref: None Pf_SuMo: 2.8e-05 B_sumo: 4.029 CoV_SuMo: 0.189\n",
      " \n",
      "Training model with 146 samples..\n"
     ]
    },
    {
     "name": "stderr",
     "output_type": "stream",
     "text": [
      "C:\\Users\\Administrator\\anaconda3\\envs\\surrogate\\lib\\site-packages\\sklearn\\gaussian_process\\kernels.py:437: ConvergenceWarning: The optimal value found for dimension 0 of parameter k1__constant_value is close to the specified upper bound 100000.0. Increasing the bound and calling fit again may find a better value.\n",
      "  ConvergenceWarning,\n"
     ]
    },
    {
     "name": "stdout",
     "output_type": "stream",
     "text": [
      "Model predictions with MC population...\n",
      "Pf_ref: None Pf_SuMo: 2.7e-05 B_sumo: 4.038 CoV_SuMo: 0.192\n",
      " \n",
      "Training model with 147 samples..\n"
     ]
    },
    {
     "name": "stderr",
     "output_type": "stream",
     "text": [
      "C:\\Users\\Administrator\\anaconda3\\envs\\surrogate\\lib\\site-packages\\sklearn\\gaussian_process\\kernels.py:437: ConvergenceWarning: The optimal value found for dimension 0 of parameter k1__constant_value is close to the specified upper bound 100000.0. Increasing the bound and calling fit again may find a better value.\n",
      "  ConvergenceWarning,\n"
     ]
    },
    {
     "name": "stdout",
     "output_type": "stream",
     "text": [
      "Model predictions with MC population...\n",
      "Pf_ref: None Pf_SuMo: 1.9e-05 B_sumo: 4.119 CoV_SuMo: 0.229\n",
      " \n",
      "Training model with 148 samples..\n"
     ]
    },
    {
     "name": "stderr",
     "output_type": "stream",
     "text": [
      "C:\\Users\\Administrator\\anaconda3\\envs\\surrogate\\lib\\site-packages\\sklearn\\gaussian_process\\kernels.py:437: ConvergenceWarning: The optimal value found for dimension 0 of parameter k1__constant_value is close to the specified upper bound 100000.0. Increasing the bound and calling fit again may find a better value.\n",
      "  ConvergenceWarning,\n"
     ]
    },
    {
     "name": "stdout",
     "output_type": "stream",
     "text": [
      "Model predictions with MC population...\n",
      "Pf_ref: None Pf_SuMo: 1.9e-05 B_sumo: 4.119 CoV_SuMo: 0.229\n",
      " \n",
      "Training model with 149 samples..\n"
     ]
    },
    {
     "name": "stderr",
     "output_type": "stream",
     "text": [
      "C:\\Users\\Administrator\\anaconda3\\envs\\surrogate\\lib\\site-packages\\sklearn\\gaussian_process\\kernels.py:437: ConvergenceWarning: The optimal value found for dimension 0 of parameter k1__constant_value is close to the specified upper bound 100000.0. Increasing the bound and calling fit again may find a better value.\n",
      "  ConvergenceWarning,\n"
     ]
    },
    {
     "name": "stdout",
     "output_type": "stream",
     "text": [
      "Model predictions with MC population...\n",
      "Pf_ref: None Pf_SuMo: 1e-05 B_sumo: 4.265 CoV_SuMo: 0.316\n",
      " \n",
      "Training model with 150 samples..\n"
     ]
    },
    {
     "name": "stderr",
     "output_type": "stream",
     "text": [
      "C:\\Users\\Administrator\\anaconda3\\envs\\surrogate\\lib\\site-packages\\sklearn\\gaussian_process\\kernels.py:437: ConvergenceWarning: The optimal value found for dimension 0 of parameter k1__constant_value is close to the specified upper bound 100000.0. Increasing the bound and calling fit again may find a better value.\n",
      "  ConvergenceWarning,\n"
     ]
    },
    {
     "name": "stdout",
     "output_type": "stream",
     "text": [
      "Model predictions with MC population...\n",
      "Pf_ref: None Pf_SuMo: 5e-06 B_sumo: 4.417 CoV_SuMo: 0.447\n",
      " \n",
      "Training model with 151 samples..\n"
     ]
    },
    {
     "name": "stderr",
     "output_type": "stream",
     "text": [
      "C:\\Users\\Administrator\\anaconda3\\envs\\surrogate\\lib\\site-packages\\sklearn\\gaussian_process\\kernels.py:437: ConvergenceWarning: The optimal value found for dimension 0 of parameter k1__constant_value is close to the specified upper bound 100000.0. Increasing the bound and calling fit again may find a better value.\n",
      "  ConvergenceWarning,\n"
     ]
    },
    {
     "name": "stdout",
     "output_type": "stream",
     "text": [
      "Model predictions with MC population...\n"
     ]
    },
    {
     "name": "stderr",
     "output_type": "stream",
     "text": [
      "D:\\SurrogateModels_class\\Last_version\\SurrogateModels\\GP_surrogates\\surrogate_models.py:189: RuntimeWarning: divide by zero encountered in double_scalars\n",
      "  cov_pf = np.sqrt((1 - Pf_SUMO ) / (Pf_SUMO * MCpool) )\n"
     ]
    },
    {
     "name": "stdout",
     "output_type": "stream",
     "text": [
      "Pf_ref: None Pf_SuMo: 0.0 B_sumo: inf CoV_SuMo: inf\n",
      " \n",
      "Training model with 152 samples..\n"
     ]
    },
    {
     "name": "stderr",
     "output_type": "stream",
     "text": [
      "C:\\Users\\Administrator\\anaconda3\\envs\\surrogate\\lib\\site-packages\\sklearn\\gaussian_process\\kernels.py:437: ConvergenceWarning: The optimal value found for dimension 0 of parameter k1__constant_value is close to the specified upper bound 100000.0. Increasing the bound and calling fit again may find a better value.\n",
      "  ConvergenceWarning,\n"
     ]
    },
    {
     "name": "stdout",
     "output_type": "stream",
     "text": [
      "Model predictions with MC population...\n",
      "Pf_ref: None Pf_SuMo: 1e-06 B_sumo: 4.753 CoV_SuMo: 1.000\n",
      " \n",
      "Training model with 153 samples..\n"
     ]
    },
    {
     "name": "stderr",
     "output_type": "stream",
     "text": [
      "C:\\Users\\Administrator\\anaconda3\\envs\\surrogate\\lib\\site-packages\\sklearn\\gaussian_process\\kernels.py:437: ConvergenceWarning: The optimal value found for dimension 0 of parameter k1__constant_value is close to the specified upper bound 100000.0. Increasing the bound and calling fit again may find a better value.\n",
      "  ConvergenceWarning,\n"
     ]
    }
   ],
   "source": [
    "experiments = 10\n",
    "GP_batch.active_sampling(n_exp = experiments, n_act = active_samples, MCpool= n_mcs, GroundT=False)  "
   ]
  },
  {
   "cell_type": "markdown",
   "id": "92f9e7bb",
   "metadata": {},
   "source": [
    "PCK model"
   ]
  },
  {
   "cell_type": "code",
   "execution_count": null,
   "id": "d9174a90",
   "metadata": {},
   "outputs": [],
   "source": [
    "experiments = 5\n",
    "PCK_batch.active_sampling(n_exp = experiments, n_act = active_samples, MCpool= n_mcs, GroundT=True)  "
   ]
  },
  {
   "cell_type": "markdown",
   "id": "7526d473",
   "metadata": {},
   "source": [
    "Loading results file"
   ]
  },
  {
   "cell_type": "code",
   "execution_count": null,
   "id": "c5ccb493",
   "metadata": {},
   "outputs": [],
   "source": [
    "file_name = 'PCK_Batch_1.sav'\n",
    "experiment = pickle.load(open(file_name, 'rb'))"
   ]
  },
  {
   "cell_type": "code",
   "execution_count": null,
   "id": "36725bf3",
   "metadata": {},
   "outputs": [],
   "source": [
    "experiment['last']"
   ]
  },
  {
   "cell_type": "code",
   "execution_count": null,
   "id": "1129d081",
   "metadata": {},
   "outputs": [],
   "source": [
    "dim = 2\n",
    "n_mcs = int(3e6) \n",
    "\n",
    "Xtest = np.random.normal(0.0, 1.0, size=(n_mcs, dim))\n",
    "y_test = example_4(Xtest)"
   ]
  },
  {
   "cell_type": "code",
   "execution_count": null,
   "id": "34cf8f50",
   "metadata": {},
   "outputs": [],
   "source": [
    "pf = np.sum(y_test <0) / n_mcs\n",
    "pf"
   ]
  }
 ],
 "metadata": {
  "kernelspec": {
   "display_name": "Python 3 (ipykernel)",
   "language": "python",
   "name": "python3"
  },
  "language_info": {
   "codemirror_mode": {
    "name": "ipython",
    "version": 3
   },
   "file_extension": ".py",
   "mimetype": "text/x-python",
   "name": "python",
   "nbconvert_exporter": "python",
   "pygments_lexer": "ipython3",
   "version": "3.7.12"
  }
 },
 "nbformat": 4,
 "nbformat_minor": 5
}
