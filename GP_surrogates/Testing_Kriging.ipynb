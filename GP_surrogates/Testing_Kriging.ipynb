{
 "cells": [
  {
   "cell_type": "code",
   "execution_count": 1,
   "id": "1db90b85",
   "metadata": {},
   "outputs": [],
   "source": [
    "import numpy as np\n",
    "from surrogate_models import surrogate_models\n",
    "import pickle"
   ]
  },
  {
   "cell_type": "markdown",
   "id": "848a6a91",
   "metadata": {},
   "source": [
    "# Importing Simulator"
   ]
  },
  {
   "cell_type": "code",
   "execution_count": 2,
   "id": "d06aedfa",
   "metadata": {},
   "outputs": [],
   "source": [
    "import gfun_63 as gfun_63\n",
    "\n",
    "function = gfun_63.gfun_63  #assigning ground truth sim (it should return 1dim only)"
   ]
  },
  {
   "cell_type": "markdown",
   "id": "36c09efb",
   "metadata": {},
   "source": [
    "# Setting up training conditions"
   ]
  },
  {
   "cell_type": "code",
   "execution_count": 3,
   "id": "a7ae4801",
   "metadata": {},
   "outputs": [],
   "source": [
    "#Bulding desing of experiment for LHS\n",
    "dim = 100\n",
    "marginal = 'hermite'  #random normal\n",
    "# marginal = 'legendre' #random uniform\n",
    "\n",
    "exp = {}\n",
    "for var in range(dim):\n",
    "    var_name = 'x'+str(var+1)\n",
    "    exp[var_name] = [0.0, 1.0, marginal]   #initial design domain for each variable (normal, uniform)\n",
    "                                           # {'x1':[Min, Max, 'legendre'], 'x2':[mean, std, 'hermite']}"
   ]
  },
  {
   "cell_type": "code",
   "execution_count": 4,
   "id": "82102fbb",
   "metadata": {},
   "outputs": [],
   "source": [
    "n_mcs = int(1e6)      #number of MC samples\n",
    "passive_samples = 50 \n",
    "active_samples = 100\n",
    "\n",
    "#to creat PCK model--------------------------------------------\n",
    "settings_PCK = {\"metamodel\" : 'PCK',\n",
    "                     \"max_pol\": 5,  #max polynomial degree\n",
    "                     \"passive_sampling\" : [passive_samples,'LHS'] , # initial samplings [n_samples, method]\n",
    "                     \"marginals\" : [exp],   # {'x1':[Min, Max, 'legendre'], 'x2':[mean, var, hermite]}\n",
    "                     \"active_sampling\" : [function, 'U'] } #target settings [n_act, targetF, learningF(U, EFF, ULOO, EFFLOO)]                  \n",
    "\n",
    "#to creat Kriging model--------------------------------------------\n",
    "settings_GP = {\"metamodel\" : 'GP',\n",
    "               \"passive_sampling\" : [passive_samples,'LHS'] , # initial samplings [n_samples, method]\n",
    "               \"marginals\" : [exp],   # {'x1':[Min, Max], 'x2':[mean, var]}  ( if Legendre , if Hermite)\n",
    "               \"active_sampling\" : [function, 'U']} #target settings [n_act, targetF, learningF(U, EFF, ULOO, EFFLOO)]                  \n",
    "\n",
    "#creating objects\n",
    "PCK_batch = surrogate_models(settings_PCK)\n",
    "GP_batch = surrogate_models(settings_GP)"
   ]
  },
  {
   "cell_type": "markdown",
   "id": "4d4d255d",
   "metadata": {},
   "source": [
    "# Active Training"
   ]
  },
  {
   "cell_type": "markdown",
   "id": "75b367cd",
   "metadata": {},
   "source": [
    "Kriging model with Matern Kernel (scikit learn)"
   ]
  },
  {
   "cell_type": "code",
   "execution_count": 5,
   "id": "1360fc38",
   "metadata": {
    "scrolled": true
   },
   "outputs": [
    {
     "name": "stdout",
     "output_type": "stream",
     "text": [
      "Experiment:  1 ########################################################\n",
      "Training model with 50 samples..\n"
     ]
    },
    {
     "name": "stderr",
     "output_type": "stream",
     "text": [
      "C:\\Users\\Administrator\\anaconda3\\envs\\surrogate\\lib\\site-packages\\sklearn\\gaussian_process\\kernels.py:437: ConvergenceWarning: The optimal value found for dimension 0 of parameter k2__length_scale is close to the specified upper bound 10.0. Increasing the bound and calling fit again may find a better value.\n",
      "  ConvergenceWarning,\n"
     ]
    },
    {
     "name": "stdout",
     "output_type": "stream",
     "text": [
      "Model predictions with MC population...\n",
      "Pf_ref: None Pf_SuMo: 0.988552 B_sumo: -2.275 CoV_SuMo: 0.000\n",
      " \n",
      "Training model with 51 samples..\n"
     ]
    },
    {
     "name": "stderr",
     "output_type": "stream",
     "text": [
      "C:\\Users\\Administrator\\anaconda3\\envs\\surrogate\\lib\\site-packages\\sklearn\\gaussian_process\\kernels.py:437: ConvergenceWarning: The optimal value found for dimension 0 of parameter k2__length_scale is close to the specified upper bound 10.0. Increasing the bound and calling fit again may find a better value.\n",
      "  ConvergenceWarning,\n"
     ]
    },
    {
     "name": "stdout",
     "output_type": "stream",
     "text": [
      "Model predictions with MC population...\n",
      "Pf_ref: None Pf_SuMo: 0.860998 B_sumo: -1.085 CoV_SuMo: 0.000\n",
      " \n",
      "Training model with 52 samples..\n"
     ]
    },
    {
     "name": "stderr",
     "output_type": "stream",
     "text": [
      "C:\\Users\\Administrator\\anaconda3\\envs\\surrogate\\lib\\site-packages\\sklearn\\gaussian_process\\kernels.py:437: ConvergenceWarning: The optimal value found for dimension 0 of parameter k2__length_scale is close to the specified upper bound 10.0. Increasing the bound and calling fit again may find a better value.\n",
      "  ConvergenceWarning,\n"
     ]
    },
    {
     "name": "stdout",
     "output_type": "stream",
     "text": [
      "Model predictions with MC population...\n",
      "Pf_ref: None Pf_SuMo: 0.792972 B_sumo: -0.817 CoV_SuMo: 0.001\n",
      " \n",
      "Training model with 53 samples..\n"
     ]
    },
    {
     "name": "stderr",
     "output_type": "stream",
     "text": [
      "C:\\Users\\Administrator\\anaconda3\\envs\\surrogate\\lib\\site-packages\\sklearn\\gaussian_process\\kernels.py:437: ConvergenceWarning: The optimal value found for dimension 0 of parameter k2__length_scale is close to the specified upper bound 10.0. Increasing the bound and calling fit again may find a better value.\n",
      "  ConvergenceWarning,\n"
     ]
    },
    {
     "name": "stdout",
     "output_type": "stream",
     "text": [
      "Model predictions with MC population...\n",
      "Pf_ref: None Pf_SuMo: 0.728949 B_sumo: -0.610 CoV_SuMo: 0.001\n",
      " \n",
      "Training model with 54 samples..\n"
     ]
    },
    {
     "name": "stderr",
     "output_type": "stream",
     "text": [
      "C:\\Users\\Administrator\\anaconda3\\envs\\surrogate\\lib\\site-packages\\sklearn\\gaussian_process\\kernels.py:437: ConvergenceWarning: The optimal value found for dimension 0 of parameter k2__length_scale is close to the specified upper bound 10.0. Increasing the bound and calling fit again may find a better value.\n",
      "  ConvergenceWarning,\n"
     ]
    },
    {
     "name": "stdout",
     "output_type": "stream",
     "text": [
      "Model predictions with MC population...\n",
      "Pf_ref: None Pf_SuMo: 0.603043 B_sumo: -0.261 CoV_SuMo: 0.001\n",
      " \n",
      "Training model with 55 samples..\n"
     ]
    },
    {
     "name": "stderr",
     "output_type": "stream",
     "text": [
      "C:\\Users\\Administrator\\anaconda3\\envs\\surrogate\\lib\\site-packages\\sklearn\\gaussian_process\\kernels.py:437: ConvergenceWarning: The optimal value found for dimension 0 of parameter k2__length_scale is close to the specified upper bound 10.0. Increasing the bound and calling fit again may find a better value.\n",
      "  ConvergenceWarning,\n"
     ]
    },
    {
     "name": "stdout",
     "output_type": "stream",
     "text": [
      "Model predictions with MC population...\n",
      "Pf_ref: None Pf_SuMo: 0.522821 B_sumo: -0.057 CoV_SuMo: 0.001\n",
      " \n",
      "Training model with 56 samples..\n"
     ]
    },
    {
     "name": "stderr",
     "output_type": "stream",
     "text": [
      "C:\\Users\\Administrator\\anaconda3\\envs\\surrogate\\lib\\site-packages\\sklearn\\gaussian_process\\kernels.py:437: ConvergenceWarning: The optimal value found for dimension 0 of parameter k2__length_scale is close to the specified upper bound 10.0. Increasing the bound and calling fit again may find a better value.\n",
      "  ConvergenceWarning,\n"
     ]
    },
    {
     "name": "stdout",
     "output_type": "stream",
     "text": [
      "Model predictions with MC population...\n",
      "Pf_ref: None Pf_SuMo: 0.46136 B_sumo: 0.097 CoV_SuMo: 0.001\n",
      " \n",
      "Training model with 57 samples..\n"
     ]
    },
    {
     "name": "stderr",
     "output_type": "stream",
     "text": [
      "C:\\Users\\Administrator\\anaconda3\\envs\\surrogate\\lib\\site-packages\\sklearn\\gaussian_process\\kernels.py:437: ConvergenceWarning: The optimal value found for dimension 0 of parameter k2__length_scale is close to the specified upper bound 10.0. Increasing the bound and calling fit again may find a better value.\n",
      "  ConvergenceWarning,\n"
     ]
    },
    {
     "name": "stdout",
     "output_type": "stream",
     "text": [
      "Model predictions with MC population...\n",
      "Pf_ref: None Pf_SuMo: 0.420276 B_sumo: 0.201 CoV_SuMo: 0.001\n",
      " \n",
      "Training model with 58 samples..\n"
     ]
    },
    {
     "name": "stderr",
     "output_type": "stream",
     "text": [
      "C:\\Users\\Administrator\\anaconda3\\envs\\surrogate\\lib\\site-packages\\sklearn\\gaussian_process\\kernels.py:437: ConvergenceWarning: The optimal value found for dimension 0 of parameter k2__length_scale is close to the specified upper bound 10.0. Increasing the bound and calling fit again may find a better value.\n",
      "  ConvergenceWarning,\n"
     ]
    },
    {
     "name": "stdout",
     "output_type": "stream",
     "text": [
      "Model predictions with MC population...\n",
      "Pf_ref: None Pf_SuMo: 0.403519 B_sumo: 0.244 CoV_SuMo: 0.001\n",
      " \n",
      "Training model with 59 samples..\n"
     ]
    },
    {
     "name": "stderr",
     "output_type": "stream",
     "text": [
      "C:\\Users\\Administrator\\anaconda3\\envs\\surrogate\\lib\\site-packages\\sklearn\\gaussian_process\\kernels.py:437: ConvergenceWarning: The optimal value found for dimension 0 of parameter k2__length_scale is close to the specified upper bound 10.0. Increasing the bound and calling fit again may find a better value.\n",
      "  ConvergenceWarning,\n"
     ]
    },
    {
     "name": "stdout",
     "output_type": "stream",
     "text": [
      "Model predictions with MC population...\n",
      "Pf_ref: None Pf_SuMo: 0.333119 B_sumo: 0.431 CoV_SuMo: 0.001\n",
      " \n",
      "Training model with 60 samples..\n"
     ]
    },
    {
     "name": "stderr",
     "output_type": "stream",
     "text": [
      "C:\\Users\\Administrator\\anaconda3\\envs\\surrogate\\lib\\site-packages\\sklearn\\gaussian_process\\kernels.py:437: ConvergenceWarning: The optimal value found for dimension 0 of parameter k2__length_scale is close to the specified upper bound 10.0. Increasing the bound and calling fit again may find a better value.\n",
      "  ConvergenceWarning,\n"
     ]
    },
    {
     "name": "stdout",
     "output_type": "stream",
     "text": [
      "Model predictions with MC population...\n",
      "Pf_ref: None Pf_SuMo: 0.276525 B_sumo: 0.593 CoV_SuMo: 0.002\n",
      " \n",
      "Training model with 61 samples..\n"
     ]
    },
    {
     "name": "stderr",
     "output_type": "stream",
     "text": [
      "C:\\Users\\Administrator\\anaconda3\\envs\\surrogate\\lib\\site-packages\\sklearn\\gaussian_process\\kernels.py:437: ConvergenceWarning: The optimal value found for dimension 0 of parameter k2__length_scale is close to the specified upper bound 10.0. Increasing the bound and calling fit again may find a better value.\n",
      "  ConvergenceWarning,\n"
     ]
    },
    {
     "name": "stdout",
     "output_type": "stream",
     "text": [
      "Model predictions with MC population...\n",
      "Pf_ref: None Pf_SuMo: 0.224266 B_sumo: 0.758 CoV_SuMo: 0.002\n",
      " \n",
      "Training model with 62 samples..\n"
     ]
    },
    {
     "name": "stderr",
     "output_type": "stream",
     "text": [
      "C:\\Users\\Administrator\\anaconda3\\envs\\surrogate\\lib\\site-packages\\sklearn\\gaussian_process\\kernels.py:437: ConvergenceWarning: The optimal value found for dimension 0 of parameter k2__length_scale is close to the specified upper bound 10.0. Increasing the bound and calling fit again may find a better value.\n",
      "  ConvergenceWarning,\n"
     ]
    },
    {
     "name": "stdout",
     "output_type": "stream",
     "text": [
      "Model predictions with MC population...\n",
      "Pf_ref: None Pf_SuMo: 0.188061 B_sumo: 0.885 CoV_SuMo: 0.002\n",
      " \n",
      "Training model with 63 samples..\n"
     ]
    },
    {
     "name": "stderr",
     "output_type": "stream",
     "text": [
      "C:\\Users\\Administrator\\anaconda3\\envs\\surrogate\\lib\\site-packages\\sklearn\\gaussian_process\\kernels.py:437: ConvergenceWarning: The optimal value found for dimension 0 of parameter k2__length_scale is close to the specified upper bound 10.0. Increasing the bound and calling fit again may find a better value.\n",
      "  ConvergenceWarning,\n"
     ]
    },
    {
     "name": "stdout",
     "output_type": "stream",
     "text": [
      "Model predictions with MC population...\n",
      "Pf_ref: None Pf_SuMo: 0.176132 B_sumo: 0.930 CoV_SuMo: 0.002\n",
      " \n",
      "Training model with 64 samples..\n"
     ]
    },
    {
     "name": "stderr",
     "output_type": "stream",
     "text": [
      "C:\\Users\\Administrator\\anaconda3\\envs\\surrogate\\lib\\site-packages\\sklearn\\gaussian_process\\kernels.py:437: ConvergenceWarning: The optimal value found for dimension 0 of parameter k2__length_scale is close to the specified upper bound 10.0. Increasing the bound and calling fit again may find a better value.\n",
      "  ConvergenceWarning,\n"
     ]
    },
    {
     "name": "stdout",
     "output_type": "stream",
     "text": [
      "Model predictions with MC population...\n",
      "Pf_ref: None Pf_SuMo: 0.13723 B_sumo: 1.093 CoV_SuMo: 0.003\n",
      " \n",
      "Training model with 65 samples..\n"
     ]
    },
    {
     "name": "stderr",
     "output_type": "stream",
     "text": [
      "C:\\Users\\Administrator\\anaconda3\\envs\\surrogate\\lib\\site-packages\\sklearn\\gaussian_process\\kernels.py:437: ConvergenceWarning: The optimal value found for dimension 0 of parameter k2__length_scale is close to the specified upper bound 10.0. Increasing the bound and calling fit again may find a better value.\n",
      "  ConvergenceWarning,\n"
     ]
    },
    {
     "name": "stdout",
     "output_type": "stream",
     "text": [
      "Model predictions with MC population...\n",
      "Pf_ref: None Pf_SuMo: 0.123205 B_sumo: 1.159 CoV_SuMo: 0.003\n",
      " \n",
      "Training model with 66 samples..\n"
     ]
    },
    {
     "name": "stderr",
     "output_type": "stream",
     "text": [
      "C:\\Users\\Administrator\\anaconda3\\envs\\surrogate\\lib\\site-packages\\sklearn\\gaussian_process\\kernels.py:437: ConvergenceWarning: The optimal value found for dimension 0 of parameter k2__length_scale is close to the specified upper bound 10.0. Increasing the bound and calling fit again may find a better value.\n",
      "  ConvergenceWarning,\n"
     ]
    },
    {
     "name": "stdout",
     "output_type": "stream",
     "text": [
      "Model predictions with MC population...\n",
      "Pf_ref: None Pf_SuMo: 0.09085 B_sumo: 1.335 CoV_SuMo: 0.003\n",
      " \n",
      "Training model with 67 samples..\n"
     ]
    },
    {
     "name": "stderr",
     "output_type": "stream",
     "text": [
      "C:\\Users\\Administrator\\anaconda3\\envs\\surrogate\\lib\\site-packages\\sklearn\\gaussian_process\\kernels.py:437: ConvergenceWarning: The optimal value found for dimension 0 of parameter k2__length_scale is close to the specified upper bound 10.0. Increasing the bound and calling fit again may find a better value.\n",
      "  ConvergenceWarning,\n"
     ]
    },
    {
     "name": "stdout",
     "output_type": "stream",
     "text": [
      "Model predictions with MC population...\n",
      "Pf_ref: None Pf_SuMo: 0.074914 B_sumo: 1.440 CoV_SuMo: 0.004\n",
      " \n",
      "Training model with 68 samples..\n"
     ]
    },
    {
     "name": "stderr",
     "output_type": "stream",
     "text": [
      "C:\\Users\\Administrator\\anaconda3\\envs\\surrogate\\lib\\site-packages\\sklearn\\gaussian_process\\kernels.py:437: ConvergenceWarning: The optimal value found for dimension 0 of parameter k2__length_scale is close to the specified upper bound 10.0. Increasing the bound and calling fit again may find a better value.\n",
      "  ConvergenceWarning,\n"
     ]
    },
    {
     "name": "stdout",
     "output_type": "stream",
     "text": [
      "Model predictions with MC population...\n",
      "Pf_ref: None Pf_SuMo: 0.058596 B_sumo: 1.567 CoV_SuMo: 0.004\n",
      " \n",
      "Training model with 69 samples..\n"
     ]
    },
    {
     "name": "stderr",
     "output_type": "stream",
     "text": [
      "C:\\Users\\Administrator\\anaconda3\\envs\\surrogate\\lib\\site-packages\\sklearn\\gaussian_process\\kernels.py:437: ConvergenceWarning: The optimal value found for dimension 0 of parameter k2__length_scale is close to the specified upper bound 10.0. Increasing the bound and calling fit again may find a better value.\n",
      "  ConvergenceWarning,\n"
     ]
    },
    {
     "name": "stdout",
     "output_type": "stream",
     "text": [
      "Model predictions with MC population...\n",
      "Pf_ref: None Pf_SuMo: 0.048834 B_sumo: 1.656 CoV_SuMo: 0.004\n",
      " \n",
      "Training model with 70 samples..\n"
     ]
    },
    {
     "name": "stderr",
     "output_type": "stream",
     "text": [
      "C:\\Users\\Administrator\\anaconda3\\envs\\surrogate\\lib\\site-packages\\sklearn\\gaussian_process\\kernels.py:437: ConvergenceWarning: The optimal value found for dimension 0 of parameter k2__length_scale is close to the specified upper bound 10.0. Increasing the bound and calling fit again may find a better value.\n",
      "  ConvergenceWarning,\n"
     ]
    },
    {
     "name": "stdout",
     "output_type": "stream",
     "text": [
      "Model predictions with MC population...\n",
      "Pf_ref: None Pf_SuMo: 0.029671 B_sumo: 1.886 CoV_SuMo: 0.006\n",
      " \n",
      "Training model with 71 samples..\n"
     ]
    },
    {
     "name": "stderr",
     "output_type": "stream",
     "text": [
      "C:\\Users\\Administrator\\anaconda3\\envs\\surrogate\\lib\\site-packages\\sklearn\\gaussian_process\\kernels.py:437: ConvergenceWarning: The optimal value found for dimension 0 of parameter k2__length_scale is close to the specified upper bound 10.0. Increasing the bound and calling fit again may find a better value.\n",
      "  ConvergenceWarning,\n"
     ]
    },
    {
     "name": "stdout",
     "output_type": "stream",
     "text": [
      "Model predictions with MC population...\n",
      "Pf_ref: None Pf_SuMo: 0.023062 B_sumo: 1.994 CoV_SuMo: 0.006\n",
      " \n",
      "Training model with 72 samples..\n"
     ]
    },
    {
     "name": "stderr",
     "output_type": "stream",
     "text": [
      "C:\\Users\\Administrator\\anaconda3\\envs\\surrogate\\lib\\site-packages\\sklearn\\gaussian_process\\kernels.py:437: ConvergenceWarning: The optimal value found for dimension 0 of parameter k2__length_scale is close to the specified upper bound 10.0. Increasing the bound and calling fit again may find a better value.\n",
      "  ConvergenceWarning,\n"
     ]
    },
    {
     "name": "stdout",
     "output_type": "stream",
     "text": [
      "Model predictions with MC population...\n",
      "Pf_ref: None Pf_SuMo: 0.01764 B_sumo: 2.105 CoV_SuMo: 0.007\n",
      " \n",
      "Training model with 73 samples..\n"
     ]
    },
    {
     "name": "stderr",
     "output_type": "stream",
     "text": [
      "C:\\Users\\Administrator\\anaconda3\\envs\\surrogate\\lib\\site-packages\\sklearn\\gaussian_process\\kernels.py:437: ConvergenceWarning: The optimal value found for dimension 0 of parameter k2__length_scale is close to the specified upper bound 10.0. Increasing the bound and calling fit again may find a better value.\n",
      "  ConvergenceWarning,\n"
     ]
    },
    {
     "name": "stdout",
     "output_type": "stream",
     "text": [
      "Model predictions with MC population...\n",
      "Pf_ref: None Pf_SuMo: 0.013959 B_sumo: 2.198 CoV_SuMo: 0.008\n",
      " \n",
      "Training model with 74 samples..\n"
     ]
    },
    {
     "name": "stderr",
     "output_type": "stream",
     "text": [
      "C:\\Users\\Administrator\\anaconda3\\envs\\surrogate\\lib\\site-packages\\sklearn\\gaussian_process\\kernels.py:437: ConvergenceWarning: The optimal value found for dimension 0 of parameter k2__length_scale is close to the specified upper bound 10.0. Increasing the bound and calling fit again may find a better value.\n",
      "  ConvergenceWarning,\n"
     ]
    },
    {
     "name": "stdout",
     "output_type": "stream",
     "text": [
      "Model predictions with MC population...\n",
      "Pf_ref: None Pf_SuMo: 0.010411 B_sumo: 2.311 CoV_SuMo: 0.010\n",
      " \n",
      "Training model with 75 samples..\n"
     ]
    },
    {
     "name": "stderr",
     "output_type": "stream",
     "text": [
      "C:\\Users\\Administrator\\anaconda3\\envs\\surrogate\\lib\\site-packages\\sklearn\\gaussian_process\\kernels.py:437: ConvergenceWarning: The optimal value found for dimension 0 of parameter k2__length_scale is close to the specified upper bound 10.0. Increasing the bound and calling fit again may find a better value.\n",
      "  ConvergenceWarning,\n"
     ]
    },
    {
     "name": "stdout",
     "output_type": "stream",
     "text": [
      "Model predictions with MC population...\n",
      "Pf_ref: None Pf_SuMo: 0.009475 B_sumo: 2.346 CoV_SuMo: 0.010\n",
      " \n",
      "Training model with 76 samples..\n"
     ]
    },
    {
     "name": "stderr",
     "output_type": "stream",
     "text": [
      "C:\\Users\\Administrator\\anaconda3\\envs\\surrogate\\lib\\site-packages\\sklearn\\gaussian_process\\kernels.py:437: ConvergenceWarning: The optimal value found for dimension 0 of parameter k2__length_scale is close to the specified upper bound 10.0. Increasing the bound and calling fit again may find a better value.\n",
      "  ConvergenceWarning,\n"
     ]
    },
    {
     "name": "stdout",
     "output_type": "stream",
     "text": [
      "Model predictions with MC population...\n",
      "Pf_ref: None Pf_SuMo: 0.006738 B_sumo: 2.471 CoV_SuMo: 0.012\n",
      " \n",
      "Training model with 77 samples..\n"
     ]
    },
    {
     "name": "stderr",
     "output_type": "stream",
     "text": [
      "C:\\Users\\Administrator\\anaconda3\\envs\\surrogate\\lib\\site-packages\\sklearn\\gaussian_process\\kernels.py:437: ConvergenceWarning: The optimal value found for dimension 0 of parameter k2__length_scale is close to the specified upper bound 10.0. Increasing the bound and calling fit again may find a better value.\n",
      "  ConvergenceWarning,\n"
     ]
    },
    {
     "name": "stdout",
     "output_type": "stream",
     "text": [
      "Model predictions with MC population...\n",
      "Pf_ref: None Pf_SuMo: 0.002965 B_sumo: 2.752 CoV_SuMo: 0.018\n",
      " \n",
      "Training model with 78 samples..\n"
     ]
    },
    {
     "name": "stderr",
     "output_type": "stream",
     "text": [
      "C:\\Users\\Administrator\\anaconda3\\envs\\surrogate\\lib\\site-packages\\sklearn\\gaussian_process\\kernels.py:437: ConvergenceWarning: The optimal value found for dimension 0 of parameter k2__length_scale is close to the specified upper bound 10.0. Increasing the bound and calling fit again may find a better value.\n",
      "  ConvergenceWarning,\n"
     ]
    },
    {
     "name": "stdout",
     "output_type": "stream",
     "text": [
      "Model predictions with MC population...\n",
      "Pf_ref: None Pf_SuMo: 0.002324 B_sumo: 2.830 CoV_SuMo: 0.021\n",
      " \n",
      "Training model with 79 samples..\n"
     ]
    },
    {
     "name": "stderr",
     "output_type": "stream",
     "text": [
      "C:\\Users\\Administrator\\anaconda3\\envs\\surrogate\\lib\\site-packages\\sklearn\\gaussian_process\\kernels.py:437: ConvergenceWarning: The optimal value found for dimension 0 of parameter k2__length_scale is close to the specified upper bound 10.0. Increasing the bound and calling fit again may find a better value.\n",
      "  ConvergenceWarning,\n"
     ]
    },
    {
     "name": "stdout",
     "output_type": "stream",
     "text": [
      "Model predictions with MC population...\n",
      "Pf_ref: None Pf_SuMo: 0.002269 B_sumo: 2.838 CoV_SuMo: 0.021\n",
      " \n",
      "Training model with 80 samples..\n"
     ]
    },
    {
     "name": "stderr",
     "output_type": "stream",
     "text": [
      "C:\\Users\\Administrator\\anaconda3\\envs\\surrogate\\lib\\site-packages\\sklearn\\gaussian_process\\kernels.py:437: ConvergenceWarning: The optimal value found for dimension 0 of parameter k2__length_scale is close to the specified upper bound 10.0. Increasing the bound and calling fit again may find a better value.\n",
      "  ConvergenceWarning,\n"
     ]
    },
    {
     "name": "stdout",
     "output_type": "stream",
     "text": [
      "Model predictions with MC population...\n",
      "Pf_ref: None Pf_SuMo: 0.002029 B_sumo: 2.874 CoV_SuMo: 0.022\n",
      " \n",
      "Training model with 81 samples..\n"
     ]
    },
    {
     "name": "stderr",
     "output_type": "stream",
     "text": [
      "C:\\Users\\Administrator\\anaconda3\\envs\\surrogate\\lib\\site-packages\\sklearn\\gaussian_process\\kernels.py:437: ConvergenceWarning: The optimal value found for dimension 0 of parameter k2__length_scale is close to the specified upper bound 10.0. Increasing the bound and calling fit again may find a better value.\n",
      "  ConvergenceWarning,\n"
     ]
    },
    {
     "name": "stdout",
     "output_type": "stream",
     "text": [
      "Model predictions with MC population...\n",
      "Pf_ref: None Pf_SuMo: 0.001206 B_sumo: 3.034 CoV_SuMo: 0.029\n",
      " \n",
      "Training model with 82 samples..\n"
     ]
    },
    {
     "name": "stderr",
     "output_type": "stream",
     "text": [
      "C:\\Users\\Administrator\\anaconda3\\envs\\surrogate\\lib\\site-packages\\sklearn\\gaussian_process\\kernels.py:437: ConvergenceWarning: The optimal value found for dimension 0 of parameter k2__length_scale is close to the specified upper bound 10.0. Increasing the bound and calling fit again may find a better value.\n",
      "  ConvergenceWarning,\n"
     ]
    },
    {
     "name": "stdout",
     "output_type": "stream",
     "text": [
      "Model predictions with MC population...\n",
      "Pf_ref: None Pf_SuMo: 0.000834 B_sumo: 3.144 CoV_SuMo: 0.035\n",
      " \n",
      "Training model with 83 samples..\n"
     ]
    },
    {
     "name": "stderr",
     "output_type": "stream",
     "text": [
      "C:\\Users\\Administrator\\anaconda3\\envs\\surrogate\\lib\\site-packages\\sklearn\\gaussian_process\\kernels.py:437: ConvergenceWarning: The optimal value found for dimension 0 of parameter k2__length_scale is close to the specified upper bound 10.0. Increasing the bound and calling fit again may find a better value.\n",
      "  ConvergenceWarning,\n"
     ]
    },
    {
     "name": "stdout",
     "output_type": "stream",
     "text": [
      "Model predictions with MC population...\n",
      "Pf_ref: None Pf_SuMo: 0.000574 B_sumo: 3.252 CoV_SuMo: 0.042\n",
      " \n",
      "Training model with 84 samples..\n"
     ]
    },
    {
     "name": "stderr",
     "output_type": "stream",
     "text": [
      "C:\\Users\\Administrator\\anaconda3\\envs\\surrogate\\lib\\site-packages\\sklearn\\gaussian_process\\kernels.py:437: ConvergenceWarning: The optimal value found for dimension 0 of parameter k2__length_scale is close to the specified upper bound 10.0. Increasing the bound and calling fit again may find a better value.\n",
      "  ConvergenceWarning,\n"
     ]
    },
    {
     "name": "stdout",
     "output_type": "stream",
     "text": [
      "Model predictions with MC population...\n",
      "Pf_ref: None Pf_SuMo: 0.000424 B_sumo: 3.337 CoV_SuMo: 0.049\n",
      " \n",
      "Training model with 85 samples..\n"
     ]
    },
    {
     "name": "stderr",
     "output_type": "stream",
     "text": [
      "C:\\Users\\Administrator\\anaconda3\\envs\\surrogate\\lib\\site-packages\\sklearn\\gaussian_process\\kernels.py:437: ConvergenceWarning: The optimal value found for dimension 0 of parameter k2__length_scale is close to the specified upper bound 10.0. Increasing the bound and calling fit again may find a better value.\n",
      "  ConvergenceWarning,\n"
     ]
    },
    {
     "name": "stdout",
     "output_type": "stream",
     "text": [
      "Model predictions with MC population...\n",
      "Pf_ref: None Pf_SuMo: 0.000234 B_sumo: 3.498 CoV_SuMo: 0.065\n",
      " \n",
      "Training model with 86 samples..\n"
     ]
    },
    {
     "name": "stderr",
     "output_type": "stream",
     "text": [
      "C:\\Users\\Administrator\\anaconda3\\envs\\surrogate\\lib\\site-packages\\sklearn\\gaussian_process\\kernels.py:437: ConvergenceWarning: The optimal value found for dimension 0 of parameter k2__length_scale is close to the specified upper bound 10.0. Increasing the bound and calling fit again may find a better value.\n",
      "  ConvergenceWarning,\n"
     ]
    },
    {
     "name": "stdout",
     "output_type": "stream",
     "text": [
      "Model predictions with MC population...\n",
      "Pf_ref: None Pf_SuMo: 0.000191 B_sumo: 3.552 CoV_SuMo: 0.072\n",
      " \n",
      "Training model with 87 samples..\n"
     ]
    },
    {
     "name": "stderr",
     "output_type": "stream",
     "text": [
      "C:\\Users\\Administrator\\anaconda3\\envs\\surrogate\\lib\\site-packages\\sklearn\\gaussian_process\\kernels.py:437: ConvergenceWarning: The optimal value found for dimension 0 of parameter k2__length_scale is close to the specified upper bound 10.0. Increasing the bound and calling fit again may find a better value.\n",
      "  ConvergenceWarning,\n"
     ]
    },
    {
     "name": "stdout",
     "output_type": "stream",
     "text": [
      "Model predictions with MC population...\n",
      "Pf_ref: None Pf_SuMo: 0.00019 B_sumo: 3.554 CoV_SuMo: 0.072\n",
      " \n",
      "Training model with 88 samples..\n"
     ]
    },
    {
     "name": "stderr",
     "output_type": "stream",
     "text": [
      "C:\\Users\\Administrator\\anaconda3\\envs\\surrogate\\lib\\site-packages\\sklearn\\gaussian_process\\kernels.py:437: ConvergenceWarning: The optimal value found for dimension 0 of parameter k2__length_scale is close to the specified upper bound 10.0. Increasing the bound and calling fit again may find a better value.\n",
      "  ConvergenceWarning,\n"
     ]
    },
    {
     "name": "stdout",
     "output_type": "stream",
     "text": [
      "Model predictions with MC population...\n",
      "Pf_ref: None Pf_SuMo: 0.000118 B_sumo: 3.677 CoV_SuMo: 0.092\n",
      " \n",
      "Training model with 89 samples..\n"
     ]
    },
    {
     "name": "stderr",
     "output_type": "stream",
     "text": [
      "C:\\Users\\Administrator\\anaconda3\\envs\\surrogate\\lib\\site-packages\\sklearn\\gaussian_process\\kernels.py:437: ConvergenceWarning: The optimal value found for dimension 0 of parameter k2__length_scale is close to the specified upper bound 10.0. Increasing the bound and calling fit again may find a better value.\n",
      "  ConvergenceWarning,\n"
     ]
    },
    {
     "name": "stdout",
     "output_type": "stream",
     "text": [
      "Model predictions with MC population...\n",
      "Pf_ref: None Pf_SuMo: 0.000117 B_sumo: 3.679 CoV_SuMo: 0.092\n",
      " \n",
      "Training model with 90 samples..\n"
     ]
    },
    {
     "name": "stderr",
     "output_type": "stream",
     "text": [
      "C:\\Users\\Administrator\\anaconda3\\envs\\surrogate\\lib\\site-packages\\sklearn\\gaussian_process\\kernels.py:437: ConvergenceWarning: The optimal value found for dimension 0 of parameter k2__length_scale is close to the specified upper bound 10.0. Increasing the bound and calling fit again may find a better value.\n",
      "  ConvergenceWarning,\n"
     ]
    },
    {
     "name": "stdout",
     "output_type": "stream",
     "text": [
      "Model predictions with MC population...\n",
      "Pf_ref: None Pf_SuMo: 8.1e-05 B_sumo: 3.772 CoV_SuMo: 0.111\n",
      " \n",
      "Training model with 91 samples..\n"
     ]
    },
    {
     "name": "stderr",
     "output_type": "stream",
     "text": [
      "C:\\Users\\Administrator\\anaconda3\\envs\\surrogate\\lib\\site-packages\\sklearn\\gaussian_process\\kernels.py:437: ConvergenceWarning: The optimal value found for dimension 0 of parameter k2__length_scale is close to the specified upper bound 10.0. Increasing the bound and calling fit again may find a better value.\n",
      "  ConvergenceWarning,\n"
     ]
    },
    {
     "name": "stdout",
     "output_type": "stream",
     "text": [
      "Model predictions with MC population...\n",
      "Pf_ref: None Pf_SuMo: 5.4e-05 B_sumo: 3.872 CoV_SuMo: 0.136\n",
      " \n",
      "Training model with 92 samples..\n"
     ]
    },
    {
     "name": "stderr",
     "output_type": "stream",
     "text": [
      "C:\\Users\\Administrator\\anaconda3\\envs\\surrogate\\lib\\site-packages\\sklearn\\gaussian_process\\kernels.py:437: ConvergenceWarning: The optimal value found for dimension 0 of parameter k2__length_scale is close to the specified upper bound 10.0. Increasing the bound and calling fit again may find a better value.\n",
      "  ConvergenceWarning,\n"
     ]
    },
    {
     "name": "stdout",
     "output_type": "stream",
     "text": [
      "Model predictions with MC population...\n",
      "Pf_ref: None Pf_SuMo: 6e-05 B_sumo: 3.846 CoV_SuMo: 0.129\n",
      " \n",
      "Training model with 93 samples..\n"
     ]
    },
    {
     "name": "stderr",
     "output_type": "stream",
     "text": [
      "C:\\Users\\Administrator\\anaconda3\\envs\\surrogate\\lib\\site-packages\\sklearn\\gaussian_process\\kernels.py:437: ConvergenceWarning: The optimal value found for dimension 0 of parameter k2__length_scale is close to the specified upper bound 10.0. Increasing the bound and calling fit again may find a better value.\n",
      "  ConvergenceWarning,\n"
     ]
    },
    {
     "name": "stdout",
     "output_type": "stream",
     "text": [
      "Model predictions with MC population...\n",
      "Pf_ref: None Pf_SuMo: 5e-05 B_sumo: 3.891 CoV_SuMo: 0.141\n",
      " \n",
      "Training model with 94 samples..\n"
     ]
    },
    {
     "name": "stderr",
     "output_type": "stream",
     "text": [
      "C:\\Users\\Administrator\\anaconda3\\envs\\surrogate\\lib\\site-packages\\sklearn\\gaussian_process\\kernels.py:437: ConvergenceWarning: The optimal value found for dimension 0 of parameter k2__length_scale is close to the specified upper bound 10.0. Increasing the bound and calling fit again may find a better value.\n",
      "  ConvergenceWarning,\n"
     ]
    },
    {
     "name": "stdout",
     "output_type": "stream",
     "text": [
      "Model predictions with MC population...\n",
      "Pf_ref: None Pf_SuMo: 3.4e-05 B_sumo: 3.983 CoV_SuMo: 0.172\n",
      " \n",
      "Training model with 95 samples..\n"
     ]
    },
    {
     "name": "stderr",
     "output_type": "stream",
     "text": [
      "C:\\Users\\Administrator\\anaconda3\\envs\\surrogate\\lib\\site-packages\\sklearn\\gaussian_process\\kernels.py:437: ConvergenceWarning: The optimal value found for dimension 0 of parameter k2__length_scale is close to the specified upper bound 10.0. Increasing the bound and calling fit again may find a better value.\n",
      "  ConvergenceWarning,\n"
     ]
    },
    {
     "name": "stdout",
     "output_type": "stream",
     "text": [
      "Model predictions with MC population...\n",
      "Pf_ref: None Pf_SuMo: 4e-05 B_sumo: 3.944 CoV_SuMo: 0.158\n",
      " \n",
      "Training model with 96 samples..\n"
     ]
    },
    {
     "name": "stderr",
     "output_type": "stream",
     "text": [
      "C:\\Users\\Administrator\\anaconda3\\envs\\surrogate\\lib\\site-packages\\sklearn\\gaussian_process\\kernels.py:437: ConvergenceWarning: The optimal value found for dimension 0 of parameter k2__length_scale is close to the specified upper bound 10.0. Increasing the bound and calling fit again may find a better value.\n",
      "  ConvergenceWarning,\n"
     ]
    },
    {
     "name": "stdout",
     "output_type": "stream",
     "text": [
      "Model predictions with MC population...\n",
      "Pf_ref: None Pf_SuMo: 2.6e-05 B_sumo: 4.046 CoV_SuMo: 0.196\n",
      " \n",
      "Training model with 97 samples..\n"
     ]
    },
    {
     "name": "stderr",
     "output_type": "stream",
     "text": [
      "C:\\Users\\Administrator\\anaconda3\\envs\\surrogate\\lib\\site-packages\\sklearn\\gaussian_process\\kernels.py:437: ConvergenceWarning: The optimal value found for dimension 0 of parameter k2__length_scale is close to the specified upper bound 10.0. Increasing the bound and calling fit again may find a better value.\n",
      "  ConvergenceWarning,\n"
     ]
    },
    {
     "name": "stdout",
     "output_type": "stream",
     "text": [
      "Model predictions with MC population...\n",
      "Pf_ref: None Pf_SuMo: 3.1e-05 B_sumo: 4.005 CoV_SuMo: 0.180\n",
      " \n",
      "Training model with 98 samples..\n"
     ]
    },
    {
     "name": "stderr",
     "output_type": "stream",
     "text": [
      "C:\\Users\\Administrator\\anaconda3\\envs\\surrogate\\lib\\site-packages\\sklearn\\gaussian_process\\kernels.py:437: ConvergenceWarning: The optimal value found for dimension 0 of parameter k2__length_scale is close to the specified upper bound 10.0. Increasing the bound and calling fit again may find a better value.\n",
      "  ConvergenceWarning,\n"
     ]
    },
    {
     "name": "stdout",
     "output_type": "stream",
     "text": [
      "Model predictions with MC population...\n",
      "Pf_ref: None Pf_SuMo: 3.5e-05 B_sumo: 3.976 CoV_SuMo: 0.169\n",
      " \n",
      "Training model with 99 samples..\n"
     ]
    },
    {
     "name": "stderr",
     "output_type": "stream",
     "text": [
      "C:\\Users\\Administrator\\anaconda3\\envs\\surrogate\\lib\\site-packages\\sklearn\\gaussian_process\\kernels.py:437: ConvergenceWarning: The optimal value found for dimension 0 of parameter k2__length_scale is close to the specified upper bound 10.0. Increasing the bound and calling fit again may find a better value.\n",
      "  ConvergenceWarning,\n"
     ]
    },
    {
     "name": "stdout",
     "output_type": "stream",
     "text": [
      "Model predictions with MC population...\n",
      "Pf_ref: None Pf_SuMo: 2.6e-05 B_sumo: 4.046 CoV_SuMo: 0.196\n",
      " \n",
      "Training model with 100 samples..\n"
     ]
    },
    {
     "name": "stderr",
     "output_type": "stream",
     "text": [
      "C:\\Users\\Administrator\\anaconda3\\envs\\surrogate\\lib\\site-packages\\sklearn\\gaussian_process\\kernels.py:437: ConvergenceWarning: The optimal value found for dimension 0 of parameter k2__length_scale is close to the specified upper bound 10.0. Increasing the bound and calling fit again may find a better value.\n",
      "  ConvergenceWarning,\n"
     ]
    },
    {
     "name": "stdout",
     "output_type": "stream",
     "text": [
      "Model predictions with MC population...\n",
      "Pf_ref: None Pf_SuMo: 2.7e-05 B_sumo: 4.038 CoV_SuMo: 0.192\n",
      " \n",
      "Training model with 101 samples..\n"
     ]
    },
    {
     "name": "stderr",
     "output_type": "stream",
     "text": [
      "C:\\Users\\Administrator\\anaconda3\\envs\\surrogate\\lib\\site-packages\\sklearn\\gaussian_process\\kernels.py:437: ConvergenceWarning: The optimal value found for dimension 0 of parameter k2__length_scale is close to the specified upper bound 10.0. Increasing the bound and calling fit again may find a better value.\n",
      "  ConvergenceWarning,\n"
     ]
    },
    {
     "name": "stdout",
     "output_type": "stream",
     "text": [
      "Model predictions with MC population...\n",
      "Pf_ref: None Pf_SuMo: 3e-05 B_sumo: 4.013 CoV_SuMo: 0.183\n",
      " \n",
      "Training model with 102 samples..\n"
     ]
    },
    {
     "name": "stderr",
     "output_type": "stream",
     "text": [
      "C:\\Users\\Administrator\\anaconda3\\envs\\surrogate\\lib\\site-packages\\sklearn\\gaussian_process\\kernels.py:437: ConvergenceWarning: The optimal value found for dimension 0 of parameter k2__length_scale is close to the specified upper bound 10.0. Increasing the bound and calling fit again may find a better value.\n",
      "  ConvergenceWarning,\n"
     ]
    },
    {
     "name": "stdout",
     "output_type": "stream",
     "text": [
      "Model predictions with MC population...\n",
      "Pf_ref: None Pf_SuMo: 3.8e-05 B_sumo: 3.957 CoV_SuMo: 0.162\n",
      " \n",
      "Training model with 103 samples..\n"
     ]
    },
    {
     "name": "stderr",
     "output_type": "stream",
     "text": [
      "C:\\Users\\Administrator\\anaconda3\\envs\\surrogate\\lib\\site-packages\\sklearn\\gaussian_process\\kernels.py:437: ConvergenceWarning: The optimal value found for dimension 0 of parameter k2__length_scale is close to the specified upper bound 10.0. Increasing the bound and calling fit again may find a better value.\n",
      "  ConvergenceWarning,\n"
     ]
    },
    {
     "name": "stdout",
     "output_type": "stream",
     "text": [
      "Model predictions with MC population...\n",
      "Pf_ref: None Pf_SuMo: 3.2e-05 B_sumo: 3.998 CoV_SuMo: 0.177\n",
      " \n",
      "Training model with 104 samples..\n"
     ]
    },
    {
     "name": "stderr",
     "output_type": "stream",
     "text": [
      "C:\\Users\\Administrator\\anaconda3\\envs\\surrogate\\lib\\site-packages\\sklearn\\gaussian_process\\kernels.py:437: ConvergenceWarning: The optimal value found for dimension 0 of parameter k2__length_scale is close to the specified upper bound 10.0. Increasing the bound and calling fit again may find a better value.\n",
      "  ConvergenceWarning,\n"
     ]
    },
    {
     "name": "stdout",
     "output_type": "stream",
     "text": [
      "Model predictions with MC population...\n",
      "Pf_ref: None Pf_SuMo: 3.5e-05 B_sumo: 3.976 CoV_SuMo: 0.169\n",
      " \n",
      "Training model with 105 samples..\n"
     ]
    },
    {
     "name": "stderr",
     "output_type": "stream",
     "text": [
      "C:\\Users\\Administrator\\anaconda3\\envs\\surrogate\\lib\\site-packages\\sklearn\\gaussian_process\\kernels.py:437: ConvergenceWarning: The optimal value found for dimension 0 of parameter k2__length_scale is close to the specified upper bound 10.0. Increasing the bound and calling fit again may find a better value.\n",
      "  ConvergenceWarning,\n"
     ]
    },
    {
     "name": "stdout",
     "output_type": "stream",
     "text": [
      "Model predictions with MC population...\n",
      "Pf_ref: None Pf_SuMo: 2.8e-05 B_sumo: 4.029 CoV_SuMo: 0.189\n",
      " \n",
      "Training model with 106 samples..\n"
     ]
    },
    {
     "name": "stderr",
     "output_type": "stream",
     "text": [
      "C:\\Users\\Administrator\\anaconda3\\envs\\surrogate\\lib\\site-packages\\sklearn\\gaussian_process\\kernels.py:437: ConvergenceWarning: The optimal value found for dimension 0 of parameter k2__length_scale is close to the specified upper bound 10.0. Increasing the bound and calling fit again may find a better value.\n",
      "  ConvergenceWarning,\n"
     ]
    },
    {
     "name": "stdout",
     "output_type": "stream",
     "text": [
      "Model predictions with MC population...\n",
      "Pf_ref: None Pf_SuMo: 2.3e-05 B_sumo: 4.075 CoV_SuMo: 0.208\n",
      " \n",
      "Training model with 107 samples..\n"
     ]
    },
    {
     "name": "stderr",
     "output_type": "stream",
     "text": [
      "C:\\Users\\Administrator\\anaconda3\\envs\\surrogate\\lib\\site-packages\\sklearn\\gaussian_process\\kernels.py:437: ConvergenceWarning: The optimal value found for dimension 0 of parameter k2__length_scale is close to the specified upper bound 10.0. Increasing the bound and calling fit again may find a better value.\n",
      "  ConvergenceWarning,\n"
     ]
    },
    {
     "name": "stdout",
     "output_type": "stream",
     "text": [
      "Model predictions with MC population...\n",
      "Pf_ref: None Pf_SuMo: 2.2e-05 B_sumo: 4.085 CoV_SuMo: 0.213\n",
      " \n",
      "Training model with 108 samples..\n"
     ]
    },
    {
     "name": "stderr",
     "output_type": "stream",
     "text": [
      "C:\\Users\\Administrator\\anaconda3\\envs\\surrogate\\lib\\site-packages\\sklearn\\gaussian_process\\kernels.py:437: ConvergenceWarning: The optimal value found for dimension 0 of parameter k2__length_scale is close to the specified upper bound 10.0. Increasing the bound and calling fit again may find a better value.\n",
      "  ConvergenceWarning,\n"
     ]
    },
    {
     "name": "stdout",
     "output_type": "stream",
     "text": [
      "Model predictions with MC population...\n",
      "Pf_ref: None Pf_SuMo: 2.2e-05 B_sumo: 4.085 CoV_SuMo: 0.213\n",
      " \n",
      "Training model with 109 samples..\n"
     ]
    },
    {
     "name": "stderr",
     "output_type": "stream",
     "text": [
      "C:\\Users\\Administrator\\anaconda3\\envs\\surrogate\\lib\\site-packages\\sklearn\\gaussian_process\\kernels.py:437: ConvergenceWarning: The optimal value found for dimension 0 of parameter k2__length_scale is close to the specified upper bound 10.0. Increasing the bound and calling fit again may find a better value.\n",
      "  ConvergenceWarning,\n"
     ]
    },
    {
     "name": "stdout",
     "output_type": "stream",
     "text": [
      "Model predictions with MC population...\n",
      "Pf_ref: None Pf_SuMo: 2.7e-05 B_sumo: 4.038 CoV_SuMo: 0.192\n",
      " \n",
      "Training model with 110 samples..\n"
     ]
    },
    {
     "name": "stderr",
     "output_type": "stream",
     "text": [
      "C:\\Users\\Administrator\\anaconda3\\envs\\surrogate\\lib\\site-packages\\sklearn\\gaussian_process\\kernels.py:437: ConvergenceWarning: The optimal value found for dimension 0 of parameter k2__length_scale is close to the specified upper bound 10.0. Increasing the bound and calling fit again may find a better value.\n",
      "  ConvergenceWarning,\n"
     ]
    },
    {
     "name": "stdout",
     "output_type": "stream",
     "text": [
      "Model predictions with MC population...\n",
      "Pf_ref: None Pf_SuMo: 3.1e-05 B_sumo: 4.005 CoV_SuMo: 0.180\n",
      " \n",
      "Training model with 111 samples..\n"
     ]
    },
    {
     "name": "stderr",
     "output_type": "stream",
     "text": [
      "C:\\Users\\Administrator\\anaconda3\\envs\\surrogate\\lib\\site-packages\\sklearn\\gaussian_process\\kernels.py:437: ConvergenceWarning: The optimal value found for dimension 0 of parameter k2__length_scale is close to the specified upper bound 10.0. Increasing the bound and calling fit again may find a better value.\n",
      "  ConvergenceWarning,\n"
     ]
    },
    {
     "name": "stdout",
     "output_type": "stream",
     "text": [
      "Model predictions with MC population...\n",
      "Pf_ref: None Pf_SuMo: 1.7e-05 B_sumo: 4.145 CoV_SuMo: 0.242\n",
      " \n",
      "Training model with 112 samples..\n"
     ]
    },
    {
     "name": "stderr",
     "output_type": "stream",
     "text": [
      "C:\\Users\\Administrator\\anaconda3\\envs\\surrogate\\lib\\site-packages\\sklearn\\gaussian_process\\kernels.py:437: ConvergenceWarning: The optimal value found for dimension 0 of parameter k2__length_scale is close to the specified upper bound 10.0. Increasing the bound and calling fit again may find a better value.\n",
      "  ConvergenceWarning,\n"
     ]
    },
    {
     "name": "stdout",
     "output_type": "stream",
     "text": [
      "Model predictions with MC population...\n",
      "Pf_ref: None Pf_SuMo: 1.4e-05 B_sumo: 4.189 CoV_SuMo: 0.267\n",
      " \n",
      "Training model with 113 samples..\n"
     ]
    },
    {
     "name": "stderr",
     "output_type": "stream",
     "text": [
      "C:\\Users\\Administrator\\anaconda3\\envs\\surrogate\\lib\\site-packages\\sklearn\\gaussian_process\\kernels.py:437: ConvergenceWarning: The optimal value found for dimension 0 of parameter k2__length_scale is close to the specified upper bound 10.0. Increasing the bound and calling fit again may find a better value.\n",
      "  ConvergenceWarning,\n"
     ]
    },
    {
     "name": "stdout",
     "output_type": "stream",
     "text": [
      "Model predictions with MC population...\n",
      "Pf_ref: None Pf_SuMo: 2.9e-05 B_sumo: 4.021 CoV_SuMo: 0.186\n",
      " \n",
      "Training model with 114 samples..\n"
     ]
    },
    {
     "name": "stderr",
     "output_type": "stream",
     "text": [
      "C:\\Users\\Administrator\\anaconda3\\envs\\surrogate\\lib\\site-packages\\sklearn\\gaussian_process\\kernels.py:437: ConvergenceWarning: The optimal value found for dimension 0 of parameter k2__length_scale is close to the specified upper bound 10.0. Increasing the bound and calling fit again may find a better value.\n",
      "  ConvergenceWarning,\n"
     ]
    },
    {
     "name": "stdout",
     "output_type": "stream",
     "text": [
      "Model predictions with MC population...\n",
      "Pf_ref: None Pf_SuMo: 2.6e-05 B_sumo: 4.046 CoV_SuMo: 0.196\n",
      " \n",
      "Training model with 115 samples..\n"
     ]
    },
    {
     "name": "stderr",
     "output_type": "stream",
     "text": [
      "C:\\Users\\Administrator\\anaconda3\\envs\\surrogate\\lib\\site-packages\\sklearn\\gaussian_process\\kernels.py:437: ConvergenceWarning: The optimal value found for dimension 0 of parameter k2__length_scale is close to the specified upper bound 10.0. Increasing the bound and calling fit again may find a better value.\n",
      "  ConvergenceWarning,\n"
     ]
    },
    {
     "name": "stdout",
     "output_type": "stream",
     "text": [
      "Model predictions with MC population...\n",
      "Pf_ref: None Pf_SuMo: 2e-05 B_sumo: 4.107 CoV_SuMo: 0.224\n",
      " \n",
      "Training model with 116 samples..\n"
     ]
    },
    {
     "name": "stderr",
     "output_type": "stream",
     "text": [
      "C:\\Users\\Administrator\\anaconda3\\envs\\surrogate\\lib\\site-packages\\sklearn\\gaussian_process\\kernels.py:437: ConvergenceWarning: The optimal value found for dimension 0 of parameter k2__length_scale is close to the specified upper bound 10.0. Increasing the bound and calling fit again may find a better value.\n",
      "  ConvergenceWarning,\n"
     ]
    },
    {
     "name": "stdout",
     "output_type": "stream",
     "text": [
      "Model predictions with MC population...\n",
      "Pf_ref: None Pf_SuMo: 2.2e-05 B_sumo: 4.085 CoV_SuMo: 0.213\n",
      " \n",
      "Training model with 117 samples..\n"
     ]
    },
    {
     "name": "stderr",
     "output_type": "stream",
     "text": [
      "C:\\Users\\Administrator\\anaconda3\\envs\\surrogate\\lib\\site-packages\\sklearn\\gaussian_process\\kernels.py:437: ConvergenceWarning: The optimal value found for dimension 0 of parameter k2__length_scale is close to the specified upper bound 10.0. Increasing the bound and calling fit again may find a better value.\n",
      "  ConvergenceWarning,\n"
     ]
    },
    {
     "name": "stdout",
     "output_type": "stream",
     "text": [
      "Model predictions with MC population...\n",
      "Pf_ref: None Pf_SuMo: 2.7e-05 B_sumo: 4.038 CoV_SuMo: 0.192\n",
      " \n",
      "Training model with 118 samples..\n"
     ]
    },
    {
     "name": "stderr",
     "output_type": "stream",
     "text": [
      "C:\\Users\\Administrator\\anaconda3\\envs\\surrogate\\lib\\site-packages\\sklearn\\gaussian_process\\kernels.py:437: ConvergenceWarning: The optimal value found for dimension 0 of parameter k2__length_scale is close to the specified upper bound 10.0. Increasing the bound and calling fit again may find a better value.\n",
      "  ConvergenceWarning,\n"
     ]
    },
    {
     "name": "stdout",
     "output_type": "stream",
     "text": [
      "Model predictions with MC population...\n",
      "Pf_ref: None Pf_SuMo: 2.6e-05 B_sumo: 4.046 CoV_SuMo: 0.196\n",
      " \n",
      "Training model with 119 samples..\n"
     ]
    },
    {
     "name": "stderr",
     "output_type": "stream",
     "text": [
      "C:\\Users\\Administrator\\anaconda3\\envs\\surrogate\\lib\\site-packages\\sklearn\\gaussian_process\\kernels.py:437: ConvergenceWarning: The optimal value found for dimension 0 of parameter k2__length_scale is close to the specified upper bound 10.0. Increasing the bound and calling fit again may find a better value.\n",
      "  ConvergenceWarning,\n"
     ]
    },
    {
     "name": "stdout",
     "output_type": "stream",
     "text": [
      "Model predictions with MC population...\n",
      "Pf_ref: None Pf_SuMo: 1.9e-05 B_sumo: 4.119 CoV_SuMo: 0.229\n",
      " \n",
      "Training model with 120 samples..\n"
     ]
    },
    {
     "name": "stderr",
     "output_type": "stream",
     "text": [
      "C:\\Users\\Administrator\\anaconda3\\envs\\surrogate\\lib\\site-packages\\sklearn\\gaussian_process\\kernels.py:437: ConvergenceWarning: The optimal value found for dimension 0 of parameter k2__length_scale is close to the specified upper bound 10.0. Increasing the bound and calling fit again may find a better value.\n",
      "  ConvergenceWarning,\n"
     ]
    },
    {
     "name": "stdout",
     "output_type": "stream",
     "text": [
      "Model predictions with MC population...\n",
      "Pf_ref: None Pf_SuMo: 3.5e-05 B_sumo: 3.976 CoV_SuMo: 0.169\n",
      " \n",
      "Training model with 121 samples..\n"
     ]
    },
    {
     "name": "stderr",
     "output_type": "stream",
     "text": [
      "C:\\Users\\Administrator\\anaconda3\\envs\\surrogate\\lib\\site-packages\\sklearn\\gaussian_process\\kernels.py:437: ConvergenceWarning: The optimal value found for dimension 0 of parameter k2__length_scale is close to the specified upper bound 10.0. Increasing the bound and calling fit again may find a better value.\n",
      "  ConvergenceWarning,\n"
     ]
    },
    {
     "name": "stdout",
     "output_type": "stream",
     "text": [
      "Model predictions with MC population...\n",
      "Pf_ref: None Pf_SuMo: 3.5e-05 B_sumo: 3.976 CoV_SuMo: 0.169\n",
      " \n",
      "Training model with 122 samples..\n"
     ]
    },
    {
     "name": "stderr",
     "output_type": "stream",
     "text": [
      "C:\\Users\\Administrator\\anaconda3\\envs\\surrogate\\lib\\site-packages\\sklearn\\gaussian_process\\kernels.py:437: ConvergenceWarning: The optimal value found for dimension 0 of parameter k2__length_scale is close to the specified upper bound 10.0. Increasing the bound and calling fit again may find a better value.\n",
      "  ConvergenceWarning,\n"
     ]
    },
    {
     "name": "stdout",
     "output_type": "stream",
     "text": [
      "Model predictions with MC population...\n",
      "Pf_ref: None Pf_SuMo: 2.8e-05 B_sumo: 4.029 CoV_SuMo: 0.189\n",
      " \n",
      "Training model with 123 samples..\n"
     ]
    },
    {
     "name": "stderr",
     "output_type": "stream",
     "text": [
      "C:\\Users\\Administrator\\anaconda3\\envs\\surrogate\\lib\\site-packages\\sklearn\\gaussian_process\\kernels.py:437: ConvergenceWarning: The optimal value found for dimension 0 of parameter k2__length_scale is close to the specified upper bound 10.0. Increasing the bound and calling fit again may find a better value.\n",
      "  ConvergenceWarning,\n"
     ]
    },
    {
     "name": "stdout",
     "output_type": "stream",
     "text": [
      "Model predictions with MC population...\n",
      "Pf_ref: None Pf_SuMo: 3.2e-05 B_sumo: 3.998 CoV_SuMo: 0.177\n",
      " \n",
      "Training model with 124 samples..\n"
     ]
    },
    {
     "name": "stderr",
     "output_type": "stream",
     "text": [
      "C:\\Users\\Administrator\\anaconda3\\envs\\surrogate\\lib\\site-packages\\sklearn\\gaussian_process\\kernels.py:437: ConvergenceWarning: The optimal value found for dimension 0 of parameter k2__length_scale is close to the specified upper bound 10.0. Increasing the bound and calling fit again may find a better value.\n",
      "  ConvergenceWarning,\n"
     ]
    },
    {
     "name": "stdout",
     "output_type": "stream",
     "text": [
      "Model predictions with MC population...\n",
      "Pf_ref: None Pf_SuMo: 2.5e-05 B_sumo: 4.056 CoV_SuMo: 0.200\n",
      " \n",
      "Training model with 125 samples..\n"
     ]
    },
    {
     "name": "stderr",
     "output_type": "stream",
     "text": [
      "C:\\Users\\Administrator\\anaconda3\\envs\\surrogate\\lib\\site-packages\\sklearn\\gaussian_process\\kernels.py:437: ConvergenceWarning: The optimal value found for dimension 0 of parameter k2__length_scale is close to the specified upper bound 10.0. Increasing the bound and calling fit again may find a better value.\n",
      "  ConvergenceWarning,\n"
     ]
    },
    {
     "name": "stdout",
     "output_type": "stream",
     "text": [
      "Model predictions with MC population...\n",
      "Pf_ref: None Pf_SuMo: 3.6e-05 B_sumo: 3.970 CoV_SuMo: 0.167\n",
      " \n",
      "Training model with 126 samples..\n"
     ]
    },
    {
     "name": "stderr",
     "output_type": "stream",
     "text": [
      "C:\\Users\\Administrator\\anaconda3\\envs\\surrogate\\lib\\site-packages\\sklearn\\gaussian_process\\kernels.py:437: ConvergenceWarning: The optimal value found for dimension 0 of parameter k2__length_scale is close to the specified upper bound 10.0. Increasing the bound and calling fit again may find a better value.\n",
      "  ConvergenceWarning,\n"
     ]
    },
    {
     "name": "stdout",
     "output_type": "stream",
     "text": [
      "Model predictions with MC population...\n",
      "Pf_ref: None Pf_SuMo: 3e-05 B_sumo: 4.013 CoV_SuMo: 0.183\n",
      " \n",
      "Training model with 127 samples..\n"
     ]
    },
    {
     "name": "stderr",
     "output_type": "stream",
     "text": [
      "C:\\Users\\Administrator\\anaconda3\\envs\\surrogate\\lib\\site-packages\\sklearn\\gaussian_process\\kernels.py:437: ConvergenceWarning: The optimal value found for dimension 0 of parameter k2__length_scale is close to the specified upper bound 10.0. Increasing the bound and calling fit again may find a better value.\n",
      "  ConvergenceWarning,\n"
     ]
    },
    {
     "name": "stdout",
     "output_type": "stream",
     "text": [
      "Model predictions with MC population...\n",
      "Pf_ref: None Pf_SuMo: 3.6e-05 B_sumo: 3.970 CoV_SuMo: 0.167\n",
      " \n",
      "Training model with 128 samples..\n"
     ]
    },
    {
     "name": "stderr",
     "output_type": "stream",
     "text": [
      "C:\\Users\\Administrator\\anaconda3\\envs\\surrogate\\lib\\site-packages\\sklearn\\gaussian_process\\kernels.py:437: ConvergenceWarning: The optimal value found for dimension 0 of parameter k2__length_scale is close to the specified upper bound 10.0. Increasing the bound and calling fit again may find a better value.\n",
      "  ConvergenceWarning,\n"
     ]
    },
    {
     "name": "stdout",
     "output_type": "stream",
     "text": [
      "Model predictions with MC population...\n",
      "Pf_ref: None Pf_SuMo: 2.3e-05 B_sumo: 4.075 CoV_SuMo: 0.208\n",
      " \n",
      "Training model with 129 samples..\n"
     ]
    },
    {
     "name": "stderr",
     "output_type": "stream",
     "text": [
      "C:\\Users\\Administrator\\anaconda3\\envs\\surrogate\\lib\\site-packages\\sklearn\\gaussian_process\\kernels.py:437: ConvergenceWarning: The optimal value found for dimension 0 of parameter k2__length_scale is close to the specified upper bound 10.0. Increasing the bound and calling fit again may find a better value.\n",
      "  ConvergenceWarning,\n"
     ]
    },
    {
     "name": "stdout",
     "output_type": "stream",
     "text": [
      "Model predictions with MC population...\n",
      "Pf_ref: None Pf_SuMo: 3.7e-05 B_sumo: 3.963 CoV_SuMo: 0.164\n",
      " \n",
      "Training model with 130 samples..\n"
     ]
    },
    {
     "name": "stderr",
     "output_type": "stream",
     "text": [
      "C:\\Users\\Administrator\\anaconda3\\envs\\surrogate\\lib\\site-packages\\sklearn\\gaussian_process\\kernels.py:437: ConvergenceWarning: The optimal value found for dimension 0 of parameter k2__length_scale is close to the specified upper bound 10.0. Increasing the bound and calling fit again may find a better value.\n",
      "  ConvergenceWarning,\n"
     ]
    },
    {
     "name": "stdout",
     "output_type": "stream",
     "text": [
      "Model predictions with MC population...\n",
      "Pf_ref: None Pf_SuMo: 2.9e-05 B_sumo: 4.021 CoV_SuMo: 0.186\n",
      " \n",
      "Training model with 131 samples..\n"
     ]
    },
    {
     "name": "stderr",
     "output_type": "stream",
     "text": [
      "C:\\Users\\Administrator\\anaconda3\\envs\\surrogate\\lib\\site-packages\\sklearn\\gaussian_process\\kernels.py:437: ConvergenceWarning: The optimal value found for dimension 0 of parameter k2__length_scale is close to the specified upper bound 10.0. Increasing the bound and calling fit again may find a better value.\n",
      "  ConvergenceWarning,\n"
     ]
    },
    {
     "name": "stdout",
     "output_type": "stream",
     "text": [
      "Model predictions with MC population...\n",
      "Pf_ref: None Pf_SuMo: 4.3e-05 B_sumo: 3.927 CoV_SuMo: 0.152\n",
      " \n",
      "Training model with 132 samples..\n"
     ]
    },
    {
     "name": "stderr",
     "output_type": "stream",
     "text": [
      "C:\\Users\\Administrator\\anaconda3\\envs\\surrogate\\lib\\site-packages\\sklearn\\gaussian_process\\kernels.py:437: ConvergenceWarning: The optimal value found for dimension 0 of parameter k2__length_scale is close to the specified upper bound 10.0. Increasing the bound and calling fit again may find a better value.\n",
      "  ConvergenceWarning,\n"
     ]
    },
    {
     "name": "stdout",
     "output_type": "stream",
     "text": [
      "Model predictions with MC population...\n",
      "Pf_ref: None Pf_SuMo: 4.6e-05 B_sumo: 3.911 CoV_SuMo: 0.147\n",
      " \n",
      "Training model with 133 samples..\n"
     ]
    },
    {
     "name": "stderr",
     "output_type": "stream",
     "text": [
      "C:\\Users\\Administrator\\anaconda3\\envs\\surrogate\\lib\\site-packages\\sklearn\\gaussian_process\\kernels.py:437: ConvergenceWarning: The optimal value found for dimension 0 of parameter k2__length_scale is close to the specified upper bound 10.0. Increasing the bound and calling fit again may find a better value.\n",
      "  ConvergenceWarning,\n"
     ]
    },
    {
     "name": "stdout",
     "output_type": "stream",
     "text": [
      "Model predictions with MC population...\n",
      "Pf_ref: None Pf_SuMo: 4.9e-05 B_sumo: 3.896 CoV_SuMo: 0.143\n",
      " \n",
      "Training model with 134 samples..\n"
     ]
    },
    {
     "name": "stderr",
     "output_type": "stream",
     "text": [
      "C:\\Users\\Administrator\\anaconda3\\envs\\surrogate\\lib\\site-packages\\sklearn\\gaussian_process\\kernels.py:437: ConvergenceWarning: The optimal value found for dimension 0 of parameter k2__length_scale is close to the specified upper bound 10.0. Increasing the bound and calling fit again may find a better value.\n",
      "  ConvergenceWarning,\n"
     ]
    },
    {
     "name": "stdout",
     "output_type": "stream",
     "text": [
      "Model predictions with MC population...\n",
      "Pf_ref: None Pf_SuMo: 4.9e-05 B_sumo: 3.896 CoV_SuMo: 0.143\n",
      " \n",
      "Training model with 135 samples..\n"
     ]
    },
    {
     "name": "stderr",
     "output_type": "stream",
     "text": [
      "C:\\Users\\Administrator\\anaconda3\\envs\\surrogate\\lib\\site-packages\\sklearn\\gaussian_process\\kernels.py:437: ConvergenceWarning: The optimal value found for dimension 0 of parameter k2__length_scale is close to the specified upper bound 10.0. Increasing the bound and calling fit again may find a better value.\n",
      "  ConvergenceWarning,\n"
     ]
    },
    {
     "name": "stdout",
     "output_type": "stream",
     "text": [
      "Model predictions with MC population...\n",
      "Pf_ref: None Pf_SuMo: 6.9e-05 B_sumo: 3.812 CoV_SuMo: 0.120\n",
      " \n",
      "Training model with 136 samples..\n"
     ]
    },
    {
     "name": "stderr",
     "output_type": "stream",
     "text": [
      "C:\\Users\\Administrator\\anaconda3\\envs\\surrogate\\lib\\site-packages\\sklearn\\gaussian_process\\kernels.py:437: ConvergenceWarning: The optimal value found for dimension 0 of parameter k2__length_scale is close to the specified upper bound 10.0. Increasing the bound and calling fit again may find a better value.\n",
      "  ConvergenceWarning,\n"
     ]
    },
    {
     "name": "stdout",
     "output_type": "stream",
     "text": [
      "Model predictions with MC population...\n",
      "Pf_ref: None Pf_SuMo: 4e-05 B_sumo: 3.944 CoV_SuMo: 0.158\n",
      " \n",
      "Training model with 137 samples..\n"
     ]
    },
    {
     "name": "stderr",
     "output_type": "stream",
     "text": [
      "C:\\Users\\Administrator\\anaconda3\\envs\\surrogate\\lib\\site-packages\\sklearn\\gaussian_process\\kernels.py:437: ConvergenceWarning: The optimal value found for dimension 0 of parameter k2__length_scale is close to the specified upper bound 10.0. Increasing the bound and calling fit again may find a better value.\n",
      "  ConvergenceWarning,\n"
     ]
    },
    {
     "name": "stdout",
     "output_type": "stream",
     "text": [
      "Model predictions with MC population...\n",
      "Pf_ref: None Pf_SuMo: 3.9e-05 B_sumo: 3.950 CoV_SuMo: 0.160\n",
      " \n",
      "Training model with 138 samples..\n"
     ]
    },
    {
     "name": "stderr",
     "output_type": "stream",
     "text": [
      "C:\\Users\\Administrator\\anaconda3\\envs\\surrogate\\lib\\site-packages\\sklearn\\gaussian_process\\kernels.py:437: ConvergenceWarning: The optimal value found for dimension 0 of parameter k2__length_scale is close to the specified upper bound 10.0. Increasing the bound and calling fit again may find a better value.\n",
      "  ConvergenceWarning,\n"
     ]
    },
    {
     "name": "stdout",
     "output_type": "stream",
     "text": [
      "Model predictions with MC population...\n",
      "Pf_ref: None Pf_SuMo: 4.7e-05 B_sumo: 3.906 CoV_SuMo: 0.146\n",
      " \n",
      "Training model with 139 samples..\n"
     ]
    },
    {
     "name": "stderr",
     "output_type": "stream",
     "text": [
      "C:\\Users\\Administrator\\anaconda3\\envs\\surrogate\\lib\\site-packages\\sklearn\\gaussian_process\\kernels.py:437: ConvergenceWarning: The optimal value found for dimension 0 of parameter k2__length_scale is close to the specified upper bound 10.0. Increasing the bound and calling fit again may find a better value.\n",
      "  ConvergenceWarning,\n"
     ]
    },
    {
     "name": "stdout",
     "output_type": "stream",
     "text": [
      "Model predictions with MC population...\n",
      "Pf_ref: None Pf_SuMo: 5.7e-05 B_sumo: 3.859 CoV_SuMo: 0.132\n",
      " \n",
      "Training model with 140 samples..\n"
     ]
    },
    {
     "name": "stderr",
     "output_type": "stream",
     "text": [
      "C:\\Users\\Administrator\\anaconda3\\envs\\surrogate\\lib\\site-packages\\sklearn\\gaussian_process\\kernels.py:437: ConvergenceWarning: The optimal value found for dimension 0 of parameter k2__length_scale is close to the specified upper bound 10.0. Increasing the bound and calling fit again may find a better value.\n",
      "  ConvergenceWarning,\n"
     ]
    },
    {
     "name": "stdout",
     "output_type": "stream",
     "text": [
      "Model predictions with MC population...\n",
      "Pf_ref: None Pf_SuMo: 5.5e-05 B_sumo: 3.867 CoV_SuMo: 0.135\n",
      " \n",
      "Training model with 141 samples..\n"
     ]
    },
    {
     "name": "stderr",
     "output_type": "stream",
     "text": [
      "C:\\Users\\Administrator\\anaconda3\\envs\\surrogate\\lib\\site-packages\\sklearn\\gaussian_process\\kernels.py:437: ConvergenceWarning: The optimal value found for dimension 0 of parameter k2__length_scale is close to the specified upper bound 10.0. Increasing the bound and calling fit again may find a better value.\n",
      "  ConvergenceWarning,\n"
     ]
    },
    {
     "name": "stdout",
     "output_type": "stream",
     "text": [
      "Model predictions with MC population...\n",
      "Pf_ref: None Pf_SuMo: 6.2e-05 B_sumo: 3.838 CoV_SuMo: 0.127\n",
      " \n",
      "Training model with 142 samples..\n"
     ]
    },
    {
     "name": "stderr",
     "output_type": "stream",
     "text": [
      "C:\\Users\\Administrator\\anaconda3\\envs\\surrogate\\lib\\site-packages\\sklearn\\gaussian_process\\kernels.py:437: ConvergenceWarning: The optimal value found for dimension 0 of parameter k2__length_scale is close to the specified upper bound 10.0. Increasing the bound and calling fit again may find a better value.\n",
      "  ConvergenceWarning,\n"
     ]
    },
    {
     "name": "stdout",
     "output_type": "stream",
     "text": [
      "Model predictions with MC population...\n",
      "Pf_ref: None Pf_SuMo: 7.2e-05 B_sumo: 3.801 CoV_SuMo: 0.118\n",
      " \n",
      "Training model with 143 samples..\n"
     ]
    },
    {
     "name": "stderr",
     "output_type": "stream",
     "text": [
      "C:\\Users\\Administrator\\anaconda3\\envs\\surrogate\\lib\\site-packages\\sklearn\\gaussian_process\\kernels.py:437: ConvergenceWarning: The optimal value found for dimension 0 of parameter k2__length_scale is close to the specified upper bound 10.0. Increasing the bound and calling fit again may find a better value.\n",
      "  ConvergenceWarning,\n"
     ]
    },
    {
     "name": "stdout",
     "output_type": "stream",
     "text": [
      "Model predictions with MC population...\n",
      "Pf_ref: None Pf_SuMo: 4.5e-05 B_sumo: 3.916 CoV_SuMo: 0.149\n",
      " \n",
      "Training model with 144 samples..\n"
     ]
    },
    {
     "name": "stderr",
     "output_type": "stream",
     "text": [
      "C:\\Users\\Administrator\\anaconda3\\envs\\surrogate\\lib\\site-packages\\sklearn\\gaussian_process\\kernels.py:437: ConvergenceWarning: The optimal value found for dimension 0 of parameter k2__length_scale is close to the specified upper bound 10.0. Increasing the bound and calling fit again may find a better value.\n",
      "  ConvergenceWarning,\n"
     ]
    },
    {
     "name": "stdout",
     "output_type": "stream",
     "text": [
      "Model predictions with MC population...\n",
      "Pf_ref: None Pf_SuMo: 7.2e-05 B_sumo: 3.801 CoV_SuMo: 0.118\n",
      " \n",
      "Training model with 145 samples..\n"
     ]
    },
    {
     "name": "stderr",
     "output_type": "stream",
     "text": [
      "C:\\Users\\Administrator\\anaconda3\\envs\\surrogate\\lib\\site-packages\\sklearn\\gaussian_process\\kernels.py:437: ConvergenceWarning: The optimal value found for dimension 0 of parameter k2__length_scale is close to the specified upper bound 10.0. Increasing the bound and calling fit again may find a better value.\n",
      "  ConvergenceWarning,\n"
     ]
    },
    {
     "name": "stdout",
     "output_type": "stream",
     "text": [
      "Model predictions with MC population...\n",
      "Pf_ref: None Pf_SuMo: 6.2e-05 B_sumo: 3.838 CoV_SuMo: 0.127\n",
      " \n",
      "Training model with 146 samples..\n"
     ]
    },
    {
     "name": "stderr",
     "output_type": "stream",
     "text": [
      "C:\\Users\\Administrator\\anaconda3\\envs\\surrogate\\lib\\site-packages\\sklearn\\gaussian_process\\kernels.py:437: ConvergenceWarning: The optimal value found for dimension 0 of parameter k2__length_scale is close to the specified upper bound 10.0. Increasing the bound and calling fit again may find a better value.\n",
      "  ConvergenceWarning,\n"
     ]
    },
    {
     "name": "stdout",
     "output_type": "stream",
     "text": [
      "Model predictions with MC population...\n",
      "Pf_ref: None Pf_SuMo: 7.5e-05 B_sumo: 3.791 CoV_SuMo: 0.116\n",
      " \n",
      "Training model with 147 samples..\n"
     ]
    },
    {
     "name": "stderr",
     "output_type": "stream",
     "text": [
      "C:\\Users\\Administrator\\anaconda3\\envs\\surrogate\\lib\\site-packages\\sklearn\\gaussian_process\\kernels.py:437: ConvergenceWarning: The optimal value found for dimension 0 of parameter k2__length_scale is close to the specified upper bound 10.0. Increasing the bound and calling fit again may find a better value.\n",
      "  ConvergenceWarning,\n"
     ]
    },
    {
     "name": "stdout",
     "output_type": "stream",
     "text": [
      "Model predictions with MC population...\n",
      "Pf_ref: None Pf_SuMo: 7.5e-05 B_sumo: 3.791 CoV_SuMo: 0.116\n",
      " \n",
      "Training model with 148 samples..\n"
     ]
    },
    {
     "name": "stderr",
     "output_type": "stream",
     "text": [
      "C:\\Users\\Administrator\\anaconda3\\envs\\surrogate\\lib\\site-packages\\sklearn\\gaussian_process\\kernels.py:437: ConvergenceWarning: The optimal value found for dimension 0 of parameter k2__length_scale is close to the specified upper bound 10.0. Increasing the bound and calling fit again may find a better value.\n",
      "  ConvergenceWarning,\n"
     ]
    },
    {
     "name": "stdout",
     "output_type": "stream",
     "text": [
      "Model predictions with MC population...\n",
      "Pf_ref: None Pf_SuMo: 6.6e-05 B_sumo: 3.823 CoV_SuMo: 0.123\n",
      " \n",
      "Training model with 149 samples..\n"
     ]
    },
    {
     "name": "stderr",
     "output_type": "stream",
     "text": [
      "C:\\Users\\Administrator\\anaconda3\\envs\\surrogate\\lib\\site-packages\\sklearn\\gaussian_process\\kernels.py:437: ConvergenceWarning: The optimal value found for dimension 0 of parameter k2__length_scale is close to the specified upper bound 10.0. Increasing the bound and calling fit again may find a better value.\n",
      "  ConvergenceWarning,\n"
     ]
    },
    {
     "name": "stdout",
     "output_type": "stream",
     "text": [
      "Model predictions with MC population...\n",
      "Pf_ref: None Pf_SuMo: 6.2e-05 B_sumo: 3.838 CoV_SuMo: 0.127\n",
      " \n",
      "Training model with 150 samples..\n"
     ]
    },
    {
     "name": "stderr",
     "output_type": "stream",
     "text": [
      "C:\\Users\\Administrator\\anaconda3\\envs\\surrogate\\lib\\site-packages\\sklearn\\gaussian_process\\kernels.py:437: ConvergenceWarning: The optimal value found for dimension 0 of parameter k2__length_scale is close to the specified upper bound 10.0. Increasing the bound and calling fit again may find a better value.\n",
      "  ConvergenceWarning,\n"
     ]
    },
    {
     "name": "stdout",
     "output_type": "stream",
     "text": [
      "Model predictions with MC population...\n",
      "Pf_ref: None Pf_SuMo: 6.1e-05 B_sumo: 3.842 CoV_SuMo: 0.128\n",
      " \n",
      "Experiment:  2 ########################################################\n",
      "Training model with 50 samples..\n"
     ]
    },
    {
     "name": "stderr",
     "output_type": "stream",
     "text": [
      "C:\\Users\\Administrator\\anaconda3\\envs\\surrogate\\lib\\site-packages\\sklearn\\gaussian_process\\kernels.py:437: ConvergenceWarning: The optimal value found for dimension 0 of parameter k2__length_scale is close to the specified upper bound 10.0. Increasing the bound and calling fit again may find a better value.\n",
      "  ConvergenceWarning,\n"
     ]
    },
    {
     "name": "stdout",
     "output_type": "stream",
     "text": [
      "Model predictions with MC population...\n",
      "Pf_ref: None Pf_SuMo: 0.993678 B_sumo: -2.494 CoV_SuMo: 0.000\n",
      " \n",
      "Training model with 51 samples..\n"
     ]
    },
    {
     "name": "stderr",
     "output_type": "stream",
     "text": [
      "C:\\Users\\Administrator\\anaconda3\\envs\\surrogate\\lib\\site-packages\\sklearn\\gaussian_process\\kernels.py:437: ConvergenceWarning: The optimal value found for dimension 0 of parameter k2__length_scale is close to the specified upper bound 10.0. Increasing the bound and calling fit again may find a better value.\n",
      "  ConvergenceWarning,\n"
     ]
    },
    {
     "name": "stdout",
     "output_type": "stream",
     "text": [
      "Model predictions with MC population...\n",
      "Pf_ref: None Pf_SuMo: 0.870137 B_sumo: -1.127 CoV_SuMo: 0.000\n",
      " \n",
      "Training model with 52 samples..\n"
     ]
    },
    {
     "name": "stderr",
     "output_type": "stream",
     "text": [
      "C:\\Users\\Administrator\\anaconda3\\envs\\surrogate\\lib\\site-packages\\sklearn\\gaussian_process\\kernels.py:437: ConvergenceWarning: The optimal value found for dimension 0 of parameter k2__length_scale is close to the specified upper bound 10.0. Increasing the bound and calling fit again may find a better value.\n",
      "  ConvergenceWarning,\n"
     ]
    },
    {
     "name": "stdout",
     "output_type": "stream",
     "text": [
      "Model predictions with MC population...\n",
      "Pf_ref: None Pf_SuMo: 0.738222 B_sumo: -0.638 CoV_SuMo: 0.001\n",
      " \n",
      "Training model with 53 samples..\n"
     ]
    },
    {
     "name": "stderr",
     "output_type": "stream",
     "text": [
      "C:\\Users\\Administrator\\anaconda3\\envs\\surrogate\\lib\\site-packages\\sklearn\\gaussian_process\\kernels.py:437: ConvergenceWarning: The optimal value found for dimension 0 of parameter k2__length_scale is close to the specified upper bound 10.0. Increasing the bound and calling fit again may find a better value.\n",
      "  ConvergenceWarning,\n"
     ]
    },
    {
     "name": "stdout",
     "output_type": "stream",
     "text": [
      "Model predictions with MC population...\n",
      "Pf_ref: None Pf_SuMo: 0.61462 B_sumo: -0.291 CoV_SuMo: 0.001\n",
      " \n",
      "Training model with 54 samples..\n"
     ]
    },
    {
     "name": "stderr",
     "output_type": "stream",
     "text": [
      "C:\\Users\\Administrator\\anaconda3\\envs\\surrogate\\lib\\site-packages\\sklearn\\gaussian_process\\kernels.py:437: ConvergenceWarning: The optimal value found for dimension 0 of parameter k2__length_scale is close to the specified upper bound 10.0. Increasing the bound and calling fit again may find a better value.\n",
      "  ConvergenceWarning,\n"
     ]
    },
    {
     "name": "stdout",
     "output_type": "stream",
     "text": [
      "Model predictions with MC population...\n",
      "Pf_ref: None Pf_SuMo: 0.503001 B_sumo: -0.007 CoV_SuMo: 0.001\n",
      " \n",
      "Training model with 55 samples..\n"
     ]
    },
    {
     "name": "stderr",
     "output_type": "stream",
     "text": [
      "C:\\Users\\Administrator\\anaconda3\\envs\\surrogate\\lib\\site-packages\\sklearn\\gaussian_process\\kernels.py:437: ConvergenceWarning: The optimal value found for dimension 0 of parameter k2__length_scale is close to the specified upper bound 10.0. Increasing the bound and calling fit again may find a better value.\n",
      "  ConvergenceWarning,\n"
     ]
    },
    {
     "name": "stdout",
     "output_type": "stream",
     "text": [
      "Model predictions with MC population...\n",
      "Pf_ref: None Pf_SuMo: 0.442676 B_sumo: 0.144 CoV_SuMo: 0.001\n",
      " \n",
      "Training model with 56 samples..\n"
     ]
    },
    {
     "name": "stderr",
     "output_type": "stream",
     "text": [
      "C:\\Users\\Administrator\\anaconda3\\envs\\surrogate\\lib\\site-packages\\sklearn\\gaussian_process\\kernels.py:437: ConvergenceWarning: The optimal value found for dimension 0 of parameter k2__length_scale is close to the specified upper bound 10.0. Increasing the bound and calling fit again may find a better value.\n",
      "  ConvergenceWarning,\n"
     ]
    },
    {
     "name": "stdout",
     "output_type": "stream",
     "text": [
      "Model predictions with MC population...\n",
      "Pf_ref: None Pf_SuMo: 0.398628 B_sumo: 0.257 CoV_SuMo: 0.001\n",
      " \n",
      "Training model with 57 samples..\n"
     ]
    },
    {
     "name": "stderr",
     "output_type": "stream",
     "text": [
      "C:\\Users\\Administrator\\anaconda3\\envs\\surrogate\\lib\\site-packages\\sklearn\\gaussian_process\\kernels.py:437: ConvergenceWarning: The optimal value found for dimension 0 of parameter k2__length_scale is close to the specified upper bound 10.0. Increasing the bound and calling fit again may find a better value.\n",
      "  ConvergenceWarning,\n"
     ]
    },
    {
     "name": "stdout",
     "output_type": "stream",
     "text": [
      "Model predictions with MC population...\n",
      "Pf_ref: None Pf_SuMo: 0.347641 B_sumo: 0.392 CoV_SuMo: 0.001\n",
      " \n",
      "Training model with 58 samples..\n"
     ]
    },
    {
     "name": "stderr",
     "output_type": "stream",
     "text": [
      "C:\\Users\\Administrator\\anaconda3\\envs\\surrogate\\lib\\site-packages\\sklearn\\gaussian_process\\kernels.py:437: ConvergenceWarning: The optimal value found for dimension 0 of parameter k2__length_scale is close to the specified upper bound 10.0. Increasing the bound and calling fit again may find a better value.\n",
      "  ConvergenceWarning,\n"
     ]
    },
    {
     "name": "stdout",
     "output_type": "stream",
     "text": [
      "Model predictions with MC population...\n",
      "Pf_ref: None Pf_SuMo: 0.318279 B_sumo: 0.472 CoV_SuMo: 0.002\n",
      " \n",
      "Training model with 59 samples..\n"
     ]
    },
    {
     "name": "stderr",
     "output_type": "stream",
     "text": [
      "C:\\Users\\Administrator\\anaconda3\\envs\\surrogate\\lib\\site-packages\\sklearn\\gaussian_process\\kernels.py:437: ConvergenceWarning: The optimal value found for dimension 0 of parameter k2__length_scale is close to the specified upper bound 10.0. Increasing the bound and calling fit again may find a better value.\n",
      "  ConvergenceWarning,\n"
     ]
    },
    {
     "name": "stdout",
     "output_type": "stream",
     "text": [
      "Model predictions with MC population...\n",
      "Pf_ref: None Pf_SuMo: 0.278593 B_sumo: 0.587 CoV_SuMo: 0.002\n",
      " \n",
      "Training model with 60 samples..\n"
     ]
    },
    {
     "name": "stderr",
     "output_type": "stream",
     "text": [
      "C:\\Users\\Administrator\\anaconda3\\envs\\surrogate\\lib\\site-packages\\sklearn\\gaussian_process\\kernels.py:437: ConvergenceWarning: The optimal value found for dimension 0 of parameter k2__length_scale is close to the specified upper bound 10.0. Increasing the bound and calling fit again may find a better value.\n",
      "  ConvergenceWarning,\n"
     ]
    },
    {
     "name": "stdout",
     "output_type": "stream",
     "text": [
      "Model predictions with MC population...\n",
      "Pf_ref: None Pf_SuMo: 0.241472 B_sumo: 0.702 CoV_SuMo: 0.002\n",
      " \n",
      "Training model with 61 samples..\n"
     ]
    },
    {
     "name": "stderr",
     "output_type": "stream",
     "text": [
      "C:\\Users\\Administrator\\anaconda3\\envs\\surrogate\\lib\\site-packages\\sklearn\\gaussian_process\\kernels.py:437: ConvergenceWarning: The optimal value found for dimension 0 of parameter k2__length_scale is close to the specified upper bound 10.0. Increasing the bound and calling fit again may find a better value.\n",
      "  ConvergenceWarning,\n"
     ]
    },
    {
     "name": "stdout",
     "output_type": "stream",
     "text": [
      "Model predictions with MC population...\n",
      "Pf_ref: None Pf_SuMo: 0.180592 B_sumo: 0.913 CoV_SuMo: 0.002\n",
      " \n",
      "Training model with 62 samples..\n"
     ]
    },
    {
     "name": "stderr",
     "output_type": "stream",
     "text": [
      "C:\\Users\\Administrator\\anaconda3\\envs\\surrogate\\lib\\site-packages\\sklearn\\gaussian_process\\kernels.py:437: ConvergenceWarning: The optimal value found for dimension 0 of parameter k2__length_scale is close to the specified upper bound 10.0. Increasing the bound and calling fit again may find a better value.\n",
      "  ConvergenceWarning,\n"
     ]
    },
    {
     "name": "stdout",
     "output_type": "stream",
     "text": [
      "Model predictions with MC population...\n",
      "Pf_ref: None Pf_SuMo: 0.156858 B_sumo: 1.008 CoV_SuMo: 0.002\n",
      " \n",
      "Training model with 63 samples..\n"
     ]
    },
    {
     "name": "stderr",
     "output_type": "stream",
     "text": [
      "C:\\Users\\Administrator\\anaconda3\\envs\\surrogate\\lib\\site-packages\\sklearn\\gaussian_process\\kernels.py:437: ConvergenceWarning: The optimal value found for dimension 0 of parameter k2__length_scale is close to the specified upper bound 10.0. Increasing the bound and calling fit again may find a better value.\n",
      "  ConvergenceWarning,\n"
     ]
    },
    {
     "name": "stdout",
     "output_type": "stream",
     "text": [
      "Model predictions with MC population...\n",
      "Pf_ref: None Pf_SuMo: 0.144027 B_sumo: 1.062 CoV_SuMo: 0.002\n",
      " \n",
      "Training model with 64 samples..\n"
     ]
    },
    {
     "name": "stderr",
     "output_type": "stream",
     "text": [
      "C:\\Users\\Administrator\\anaconda3\\envs\\surrogate\\lib\\site-packages\\sklearn\\gaussian_process\\kernels.py:437: ConvergenceWarning: The optimal value found for dimension 0 of parameter k2__length_scale is close to the specified upper bound 10.0. Increasing the bound and calling fit again may find a better value.\n",
      "  ConvergenceWarning,\n"
     ]
    },
    {
     "name": "stdout",
     "output_type": "stream",
     "text": [
      "Model predictions with MC population...\n",
      "Pf_ref: None Pf_SuMo: 0.10875 B_sumo: 1.233 CoV_SuMo: 0.003\n",
      " \n",
      "Training model with 65 samples..\n"
     ]
    },
    {
     "name": "stderr",
     "output_type": "stream",
     "text": [
      "C:\\Users\\Administrator\\anaconda3\\envs\\surrogate\\lib\\site-packages\\sklearn\\gaussian_process\\kernels.py:437: ConvergenceWarning: The optimal value found for dimension 0 of parameter k2__length_scale is close to the specified upper bound 10.0. Increasing the bound and calling fit again may find a better value.\n",
      "  ConvergenceWarning,\n"
     ]
    },
    {
     "name": "stdout",
     "output_type": "stream",
     "text": [
      "Model predictions with MC population...\n",
      "Pf_ref: None Pf_SuMo: 0.093545 B_sumo: 1.319 CoV_SuMo: 0.003\n",
      " \n",
      "Training model with 66 samples..\n"
     ]
    },
    {
     "name": "stderr",
     "output_type": "stream",
     "text": [
      "C:\\Users\\Administrator\\anaconda3\\envs\\surrogate\\lib\\site-packages\\sklearn\\gaussian_process\\kernels.py:437: ConvergenceWarning: The optimal value found for dimension 0 of parameter k2__length_scale is close to the specified upper bound 10.0. Increasing the bound and calling fit again may find a better value.\n",
      "  ConvergenceWarning,\n"
     ]
    },
    {
     "name": "stdout",
     "output_type": "stream",
     "text": [
      "Model predictions with MC population...\n",
      "Pf_ref: None Pf_SuMo: 0.065045 B_sumo: 1.514 CoV_SuMo: 0.004\n",
      " \n",
      "Training model with 67 samples..\n"
     ]
    },
    {
     "name": "stderr",
     "output_type": "stream",
     "text": [
      "C:\\Users\\Administrator\\anaconda3\\envs\\surrogate\\lib\\site-packages\\sklearn\\gaussian_process\\kernels.py:437: ConvergenceWarning: The optimal value found for dimension 0 of parameter k2__length_scale is close to the specified upper bound 10.0. Increasing the bound and calling fit again may find a better value.\n",
      "  ConvergenceWarning,\n"
     ]
    },
    {
     "name": "stdout",
     "output_type": "stream",
     "text": [
      "Model predictions with MC population...\n",
      "Pf_ref: None Pf_SuMo: 0.057096 B_sumo: 1.580 CoV_SuMo: 0.004\n",
      " \n",
      "Training model with 68 samples..\n"
     ]
    },
    {
     "name": "stderr",
     "output_type": "stream",
     "text": [
      "C:\\Users\\Administrator\\anaconda3\\envs\\surrogate\\lib\\site-packages\\sklearn\\gaussian_process\\kernels.py:437: ConvergenceWarning: The optimal value found for dimension 0 of parameter k2__length_scale is close to the specified upper bound 10.0. Increasing the bound and calling fit again may find a better value.\n",
      "  ConvergenceWarning,\n"
     ]
    },
    {
     "name": "stdout",
     "output_type": "stream",
     "text": [
      "Model predictions with MC population...\n",
      "Pf_ref: None Pf_SuMo: 0.038023 B_sumo: 1.774 CoV_SuMo: 0.005\n",
      " \n",
      "Training model with 69 samples..\n"
     ]
    },
    {
     "name": "stderr",
     "output_type": "stream",
     "text": [
      "C:\\Users\\Administrator\\anaconda3\\envs\\surrogate\\lib\\site-packages\\sklearn\\gaussian_process\\kernels.py:437: ConvergenceWarning: The optimal value found for dimension 0 of parameter k2__length_scale is close to the specified upper bound 10.0. Increasing the bound and calling fit again may find a better value.\n",
      "  ConvergenceWarning,\n"
     ]
    },
    {
     "name": "stdout",
     "output_type": "stream",
     "text": [
      "Model predictions with MC population...\n",
      "Pf_ref: None Pf_SuMo: 0.034515 B_sumo: 1.818 CoV_SuMo: 0.005\n",
      " \n",
      "Training model with 70 samples..\n"
     ]
    },
    {
     "name": "stderr",
     "output_type": "stream",
     "text": [
      "C:\\Users\\Administrator\\anaconda3\\envs\\surrogate\\lib\\site-packages\\sklearn\\gaussian_process\\kernels.py:437: ConvergenceWarning: The optimal value found for dimension 0 of parameter k2__length_scale is close to the specified upper bound 10.0. Increasing the bound and calling fit again may find a better value.\n",
      "  ConvergenceWarning,\n"
     ]
    },
    {
     "name": "stdout",
     "output_type": "stream",
     "text": [
      "Model predictions with MC population...\n",
      "Pf_ref: None Pf_SuMo: 0.018963 B_sumo: 2.076 CoV_SuMo: 0.007\n",
      " \n",
      "Training model with 71 samples..\n"
     ]
    },
    {
     "name": "stderr",
     "output_type": "stream",
     "text": [
      "C:\\Users\\Administrator\\anaconda3\\envs\\surrogate\\lib\\site-packages\\sklearn\\gaussian_process\\kernels.py:437: ConvergenceWarning: The optimal value found for dimension 0 of parameter k2__length_scale is close to the specified upper bound 10.0. Increasing the bound and calling fit again may find a better value.\n",
      "  ConvergenceWarning,\n"
     ]
    },
    {
     "name": "stdout",
     "output_type": "stream",
     "text": [
      "Model predictions with MC population...\n",
      "Pf_ref: None Pf_SuMo: 0.015297 B_sumo: 2.162 CoV_SuMo: 0.008\n",
      " \n",
      "Training model with 72 samples..\n"
     ]
    },
    {
     "name": "stderr",
     "output_type": "stream",
     "text": [
      "C:\\Users\\Administrator\\anaconda3\\envs\\surrogate\\lib\\site-packages\\sklearn\\gaussian_process\\kernels.py:437: ConvergenceWarning: The optimal value found for dimension 0 of parameter k2__length_scale is close to the specified upper bound 10.0. Increasing the bound and calling fit again may find a better value.\n",
      "  ConvergenceWarning,\n"
     ]
    },
    {
     "name": "stdout",
     "output_type": "stream",
     "text": [
      "Model predictions with MC population...\n",
      "Pf_ref: None Pf_SuMo: 0.010067 B_sumo: 2.324 CoV_SuMo: 0.010\n",
      " \n",
      "Training model with 73 samples..\n"
     ]
    },
    {
     "name": "stderr",
     "output_type": "stream",
     "text": [
      "C:\\Users\\Administrator\\anaconda3\\envs\\surrogate\\lib\\site-packages\\sklearn\\gaussian_process\\kernels.py:437: ConvergenceWarning: The optimal value found for dimension 0 of parameter k2__length_scale is close to the specified upper bound 10.0. Increasing the bound and calling fit again may find a better value.\n",
      "  ConvergenceWarning,\n"
     ]
    },
    {
     "name": "stdout",
     "output_type": "stream",
     "text": [
      "Model predictions with MC population...\n",
      "Pf_ref: None Pf_SuMo: 0.00804 B_sumo: 2.407 CoV_SuMo: 0.011\n",
      " \n",
      "Training model with 74 samples..\n"
     ]
    },
    {
     "name": "stderr",
     "output_type": "stream",
     "text": [
      "C:\\Users\\Administrator\\anaconda3\\envs\\surrogate\\lib\\site-packages\\sklearn\\gaussian_process\\kernels.py:437: ConvergenceWarning: The optimal value found for dimension 0 of parameter k2__length_scale is close to the specified upper bound 10.0. Increasing the bound and calling fit again may find a better value.\n",
      "  ConvergenceWarning,\n"
     ]
    },
    {
     "name": "stdout",
     "output_type": "stream",
     "text": [
      "Model predictions with MC population...\n",
      "Pf_ref: None Pf_SuMo: 0.005527 B_sumo: 2.541 CoV_SuMo: 0.013\n",
      " \n",
      "Training model with 75 samples..\n"
     ]
    },
    {
     "name": "stderr",
     "output_type": "stream",
     "text": [
      "C:\\Users\\Administrator\\anaconda3\\envs\\surrogate\\lib\\site-packages\\sklearn\\gaussian_process\\kernels.py:437: ConvergenceWarning: The optimal value found for dimension 0 of parameter k2__length_scale is close to the specified upper bound 10.0. Increasing the bound and calling fit again may find a better value.\n",
      "  ConvergenceWarning,\n"
     ]
    },
    {
     "name": "stdout",
     "output_type": "stream",
     "text": [
      "Model predictions with MC population...\n",
      "Pf_ref: None Pf_SuMo: 0.004861 B_sumo: 2.586 CoV_SuMo: 0.014\n",
      " \n",
      "Training model with 76 samples..\n"
     ]
    },
    {
     "name": "stderr",
     "output_type": "stream",
     "text": [
      "C:\\Users\\Administrator\\anaconda3\\envs\\surrogate\\lib\\site-packages\\sklearn\\gaussian_process\\kernels.py:437: ConvergenceWarning: The optimal value found for dimension 0 of parameter k2__length_scale is close to the specified upper bound 10.0. Increasing the bound and calling fit again may find a better value.\n",
      "  ConvergenceWarning,\n"
     ]
    },
    {
     "name": "stdout",
     "output_type": "stream",
     "text": [
      "Model predictions with MC population...\n",
      "Pf_ref: None Pf_SuMo: 0.003288 B_sumo: 2.718 CoV_SuMo: 0.017\n",
      " \n",
      "Training model with 77 samples..\n"
     ]
    },
    {
     "name": "stderr",
     "output_type": "stream",
     "text": [
      "C:\\Users\\Administrator\\anaconda3\\envs\\surrogate\\lib\\site-packages\\sklearn\\gaussian_process\\kernels.py:437: ConvergenceWarning: The optimal value found for dimension 0 of parameter k2__length_scale is close to the specified upper bound 10.0. Increasing the bound and calling fit again may find a better value.\n",
      "  ConvergenceWarning,\n"
     ]
    },
    {
     "name": "stdout",
     "output_type": "stream",
     "text": [
      "Model predictions with MC population...\n",
      "Pf_ref: None Pf_SuMo: 0.002844 B_sumo: 2.765 CoV_SuMo: 0.019\n",
      " \n",
      "Training model with 78 samples..\n"
     ]
    },
    {
     "name": "stderr",
     "output_type": "stream",
     "text": [
      "C:\\Users\\Administrator\\anaconda3\\envs\\surrogate\\lib\\site-packages\\sklearn\\gaussian_process\\kernels.py:437: ConvergenceWarning: The optimal value found for dimension 0 of parameter k2__length_scale is close to the specified upper bound 10.0. Increasing the bound and calling fit again may find a better value.\n",
      "  ConvergenceWarning,\n"
     ]
    },
    {
     "name": "stdout",
     "output_type": "stream",
     "text": [
      "Model predictions with MC population...\n",
      "Pf_ref: None Pf_SuMo: 0.002036 B_sumo: 2.873 CoV_SuMo: 0.022\n",
      " \n",
      "Training model with 79 samples..\n"
     ]
    },
    {
     "name": "stderr",
     "output_type": "stream",
     "text": [
      "C:\\Users\\Administrator\\anaconda3\\envs\\surrogate\\lib\\site-packages\\sklearn\\gaussian_process\\kernels.py:437: ConvergenceWarning: The optimal value found for dimension 0 of parameter k2__length_scale is close to the specified upper bound 10.0. Increasing the bound and calling fit again may find a better value.\n",
      "  ConvergenceWarning,\n"
     ]
    },
    {
     "name": "stdout",
     "output_type": "stream",
     "text": [
      "Model predictions with MC population...\n",
      "Pf_ref: None Pf_SuMo: 0.001182 B_sumo: 3.040 CoV_SuMo: 0.029\n",
      " \n",
      "Training model with 80 samples..\n"
     ]
    },
    {
     "name": "stderr",
     "output_type": "stream",
     "text": [
      "C:\\Users\\Administrator\\anaconda3\\envs\\surrogate\\lib\\site-packages\\sklearn\\gaussian_process\\kernels.py:437: ConvergenceWarning: The optimal value found for dimension 0 of parameter k2__length_scale is close to the specified upper bound 10.0. Increasing the bound and calling fit again may find a better value.\n",
      "  ConvergenceWarning,\n"
     ]
    },
    {
     "name": "stdout",
     "output_type": "stream",
     "text": [
      "Model predictions with MC population...\n",
      "Pf_ref: None Pf_SuMo: 0.000692 B_sumo: 3.198 CoV_SuMo: 0.038\n",
      " \n",
      "Training model with 81 samples..\n"
     ]
    },
    {
     "name": "stderr",
     "output_type": "stream",
     "text": [
      "C:\\Users\\Administrator\\anaconda3\\envs\\surrogate\\lib\\site-packages\\sklearn\\gaussian_process\\kernels.py:437: ConvergenceWarning: The optimal value found for dimension 0 of parameter k2__length_scale is close to the specified upper bound 10.0. Increasing the bound and calling fit again may find a better value.\n",
      "  ConvergenceWarning,\n"
     ]
    },
    {
     "name": "stdout",
     "output_type": "stream",
     "text": [
      "Model predictions with MC population...\n",
      "Pf_ref: None Pf_SuMo: 0.000364 B_sumo: 3.379 CoV_SuMo: 0.052\n",
      " \n",
      "Training model with 82 samples..\n"
     ]
    },
    {
     "name": "stderr",
     "output_type": "stream",
     "text": [
      "C:\\Users\\Administrator\\anaconda3\\envs\\surrogate\\lib\\site-packages\\sklearn\\gaussian_process\\kernels.py:437: ConvergenceWarning: The optimal value found for dimension 0 of parameter k2__length_scale is close to the specified upper bound 10.0. Increasing the bound and calling fit again may find a better value.\n",
      "  ConvergenceWarning,\n"
     ]
    },
    {
     "name": "stdout",
     "output_type": "stream",
     "text": [
      "Model predictions with MC population...\n",
      "Pf_ref: None Pf_SuMo: 0.000335 B_sumo: 3.402 CoV_SuMo: 0.055\n",
      " \n",
      "Training model with 83 samples..\n"
     ]
    },
    {
     "name": "stderr",
     "output_type": "stream",
     "text": [
      "C:\\Users\\Administrator\\anaconda3\\envs\\surrogate\\lib\\site-packages\\sklearn\\gaussian_process\\kernels.py:437: ConvergenceWarning: The optimal value found for dimension 0 of parameter k2__length_scale is close to the specified upper bound 10.0. Increasing the bound and calling fit again may find a better value.\n",
      "  ConvergenceWarning,\n"
     ]
    },
    {
     "name": "stdout",
     "output_type": "stream",
     "text": [
      "Model predictions with MC population...\n",
      "Pf_ref: None Pf_SuMo: 0.000222 B_sumo: 3.512 CoV_SuMo: 0.067\n",
      " \n",
      "Training model with 84 samples..\n"
     ]
    },
    {
     "name": "stderr",
     "output_type": "stream",
     "text": [
      "C:\\Users\\Administrator\\anaconda3\\envs\\surrogate\\lib\\site-packages\\sklearn\\gaussian_process\\kernels.py:437: ConvergenceWarning: The optimal value found for dimension 0 of parameter k2__length_scale is close to the specified upper bound 10.0. Increasing the bound and calling fit again may find a better value.\n",
      "  ConvergenceWarning,\n"
     ]
    },
    {
     "name": "stdout",
     "output_type": "stream",
     "text": [
      "Model predictions with MC population...\n",
      "Pf_ref: None Pf_SuMo: 0.00023 B_sumo: 3.503 CoV_SuMo: 0.066\n",
      " \n",
      "Training model with 85 samples..\n"
     ]
    },
    {
     "name": "stderr",
     "output_type": "stream",
     "text": [
      "C:\\Users\\Administrator\\anaconda3\\envs\\surrogate\\lib\\site-packages\\sklearn\\gaussian_process\\kernels.py:437: ConvergenceWarning: The optimal value found for dimension 0 of parameter k2__length_scale is close to the specified upper bound 10.0. Increasing the bound and calling fit again may find a better value.\n",
      "  ConvergenceWarning,\n"
     ]
    },
    {
     "name": "stdout",
     "output_type": "stream",
     "text": [
      "Model predictions with MC population...\n",
      "Pf_ref: None Pf_SuMo: 0.00016 B_sumo: 3.599 CoV_SuMo: 0.079\n",
      " \n",
      "Training model with 86 samples..\n"
     ]
    },
    {
     "name": "stderr",
     "output_type": "stream",
     "text": [
      "C:\\Users\\Administrator\\anaconda3\\envs\\surrogate\\lib\\site-packages\\sklearn\\gaussian_process\\kernels.py:437: ConvergenceWarning: The optimal value found for dimension 0 of parameter k2__length_scale is close to the specified upper bound 10.0. Increasing the bound and calling fit again may find a better value.\n",
      "  ConvergenceWarning,\n"
     ]
    },
    {
     "name": "stdout",
     "output_type": "stream",
     "text": [
      "Model predictions with MC population...\n",
      "Pf_ref: None Pf_SuMo: 0.000127 B_sumo: 3.658 CoV_SuMo: 0.089\n",
      " \n",
      "Training model with 87 samples..\n"
     ]
    },
    {
     "name": "stderr",
     "output_type": "stream",
     "text": [
      "C:\\Users\\Administrator\\anaconda3\\envs\\surrogate\\lib\\site-packages\\sklearn\\gaussian_process\\kernels.py:437: ConvergenceWarning: The optimal value found for dimension 0 of parameter k2__length_scale is close to the specified upper bound 10.0. Increasing the bound and calling fit again may find a better value.\n",
      "  ConvergenceWarning,\n"
     ]
    },
    {
     "name": "stdout",
     "output_type": "stream",
     "text": [
      "Model predictions with MC population...\n",
      "Pf_ref: None Pf_SuMo: 0.000125 B_sumo: 3.662 CoV_SuMo: 0.089\n",
      " \n",
      "Training model with 88 samples..\n"
     ]
    },
    {
     "name": "stderr",
     "output_type": "stream",
     "text": [
      "C:\\Users\\Administrator\\anaconda3\\envs\\surrogate\\lib\\site-packages\\sklearn\\gaussian_process\\kernels.py:437: ConvergenceWarning: The optimal value found for dimension 0 of parameter k2__length_scale is close to the specified upper bound 10.0. Increasing the bound and calling fit again may find a better value.\n",
      "  ConvergenceWarning,\n"
     ]
    },
    {
     "name": "stdout",
     "output_type": "stream",
     "text": [
      "Model predictions with MC population...\n",
      "Pf_ref: None Pf_SuMo: 7.5e-05 B_sumo: 3.791 CoV_SuMo: 0.116\n",
      " \n",
      "Training model with 89 samples..\n"
     ]
    },
    {
     "name": "stderr",
     "output_type": "stream",
     "text": [
      "C:\\Users\\Administrator\\anaconda3\\envs\\surrogate\\lib\\site-packages\\sklearn\\gaussian_process\\kernels.py:437: ConvergenceWarning: The optimal value found for dimension 0 of parameter k2__length_scale is close to the specified upper bound 10.0. Increasing the bound and calling fit again may find a better value.\n",
      "  ConvergenceWarning,\n"
     ]
    },
    {
     "name": "stdout",
     "output_type": "stream",
     "text": [
      "Model predictions with MC population...\n",
      "Pf_ref: None Pf_SuMo: 7e-05 B_sumo: 3.808 CoV_SuMo: 0.119\n",
      " \n",
      "Training model with 90 samples..\n"
     ]
    },
    {
     "name": "stderr",
     "output_type": "stream",
     "text": [
      "C:\\Users\\Administrator\\anaconda3\\envs\\surrogate\\lib\\site-packages\\sklearn\\gaussian_process\\kernels.py:437: ConvergenceWarning: The optimal value found for dimension 0 of parameter k2__length_scale is close to the specified upper bound 10.0. Increasing the bound and calling fit again may find a better value.\n",
      "  ConvergenceWarning,\n"
     ]
    },
    {
     "name": "stdout",
     "output_type": "stream",
     "text": [
      "Model predictions with MC population...\n",
      "Pf_ref: None Pf_SuMo: 7e-05 B_sumo: 3.808 CoV_SuMo: 0.119\n",
      " \n",
      "Training model with 91 samples..\n"
     ]
    },
    {
     "name": "stderr",
     "output_type": "stream",
     "text": [
      "C:\\Users\\Administrator\\anaconda3\\envs\\surrogate\\lib\\site-packages\\sklearn\\gaussian_process\\kernels.py:437: ConvergenceWarning: The optimal value found for dimension 0 of parameter k2__length_scale is close to the specified upper bound 10.0. Increasing the bound and calling fit again may find a better value.\n",
      "  ConvergenceWarning,\n"
     ]
    },
    {
     "name": "stdout",
     "output_type": "stream",
     "text": [
      "Model predictions with MC population...\n",
      "Pf_ref: None Pf_SuMo: 5e-05 B_sumo: 3.891 CoV_SuMo: 0.141\n",
      " \n",
      "Training model with 92 samples..\n"
     ]
    },
    {
     "name": "stderr",
     "output_type": "stream",
     "text": [
      "C:\\Users\\Administrator\\anaconda3\\envs\\surrogate\\lib\\site-packages\\sklearn\\gaussian_process\\kernels.py:437: ConvergenceWarning: The optimal value found for dimension 0 of parameter k2__length_scale is close to the specified upper bound 10.0. Increasing the bound and calling fit again may find a better value.\n",
      "  ConvergenceWarning,\n"
     ]
    },
    {
     "name": "stdout",
     "output_type": "stream",
     "text": [
      "Model predictions with MC population...\n",
      "Pf_ref: None Pf_SuMo: 4.5e-05 B_sumo: 3.916 CoV_SuMo: 0.149\n",
      " \n",
      "Training model with 93 samples..\n"
     ]
    },
    {
     "name": "stderr",
     "output_type": "stream",
     "text": [
      "C:\\Users\\Administrator\\anaconda3\\envs\\surrogate\\lib\\site-packages\\sklearn\\gaussian_process\\kernels.py:437: ConvergenceWarning: The optimal value found for dimension 0 of parameter k2__length_scale is close to the specified upper bound 10.0. Increasing the bound and calling fit again may find a better value.\n",
      "  ConvergenceWarning,\n"
     ]
    },
    {
     "name": "stdout",
     "output_type": "stream",
     "text": [
      "Model predictions with MC population...\n",
      "Pf_ref: None Pf_SuMo: 5.5e-05 B_sumo: 3.867 CoV_SuMo: 0.135\n",
      " \n",
      "Training model with 94 samples..\n"
     ]
    },
    {
     "name": "stderr",
     "output_type": "stream",
     "text": [
      "C:\\Users\\Administrator\\anaconda3\\envs\\surrogate\\lib\\site-packages\\sklearn\\gaussian_process\\kernels.py:437: ConvergenceWarning: The optimal value found for dimension 0 of parameter k2__length_scale is close to the specified upper bound 10.0. Increasing the bound and calling fit again may find a better value.\n",
      "  ConvergenceWarning,\n"
     ]
    },
    {
     "name": "stdout",
     "output_type": "stream",
     "text": [
      "Model predictions with MC population...\n",
      "Pf_ref: None Pf_SuMo: 4.4e-05 B_sumo: 3.921 CoV_SuMo: 0.151\n",
      " \n",
      "Training model with 95 samples..\n"
     ]
    },
    {
     "name": "stderr",
     "output_type": "stream",
     "text": [
      "C:\\Users\\Administrator\\anaconda3\\envs\\surrogate\\lib\\site-packages\\sklearn\\gaussian_process\\kernels.py:437: ConvergenceWarning: The optimal value found for dimension 0 of parameter k2__length_scale is close to the specified upper bound 10.0. Increasing the bound and calling fit again may find a better value.\n",
      "  ConvergenceWarning,\n"
     ]
    },
    {
     "name": "stdout",
     "output_type": "stream",
     "text": [
      "Model predictions with MC population...\n",
      "Pf_ref: None Pf_SuMo: 4.4e-05 B_sumo: 3.921 CoV_SuMo: 0.151\n",
      " \n",
      "Training model with 96 samples..\n"
     ]
    },
    {
     "name": "stderr",
     "output_type": "stream",
     "text": [
      "C:\\Users\\Administrator\\anaconda3\\envs\\surrogate\\lib\\site-packages\\sklearn\\gaussian_process\\kernels.py:437: ConvergenceWarning: The optimal value found for dimension 0 of parameter k2__length_scale is close to the specified upper bound 10.0. Increasing the bound and calling fit again may find a better value.\n",
      "  ConvergenceWarning,\n"
     ]
    },
    {
     "name": "stdout",
     "output_type": "stream",
     "text": [
      "Model predictions with MC population...\n",
      "Pf_ref: None Pf_SuMo: 4.8e-05 B_sumo: 3.901 CoV_SuMo: 0.144\n",
      " \n",
      "Training model with 97 samples..\n"
     ]
    },
    {
     "name": "stderr",
     "output_type": "stream",
     "text": [
      "C:\\Users\\Administrator\\anaconda3\\envs\\surrogate\\lib\\site-packages\\sklearn\\gaussian_process\\kernels.py:437: ConvergenceWarning: The optimal value found for dimension 0 of parameter k2__length_scale is close to the specified upper bound 10.0. Increasing the bound and calling fit again may find a better value.\n",
      "  ConvergenceWarning,\n"
     ]
    },
    {
     "name": "stdout",
     "output_type": "stream",
     "text": [
      "Model predictions with MC population...\n",
      "Pf_ref: None Pf_SuMo: 5.2e-05 B_sumo: 3.881 CoV_SuMo: 0.139\n",
      " \n",
      "Training model with 98 samples..\n"
     ]
    },
    {
     "name": "stderr",
     "output_type": "stream",
     "text": [
      "C:\\Users\\Administrator\\anaconda3\\envs\\surrogate\\lib\\site-packages\\sklearn\\gaussian_process\\kernels.py:437: ConvergenceWarning: The optimal value found for dimension 0 of parameter k2__length_scale is close to the specified upper bound 10.0. Increasing the bound and calling fit again may find a better value.\n",
      "  ConvergenceWarning,\n"
     ]
    },
    {
     "name": "stdout",
     "output_type": "stream",
     "text": [
      "Model predictions with MC population...\n",
      "Pf_ref: None Pf_SuMo: 4.1e-05 B_sumo: 3.938 CoV_SuMo: 0.156\n",
      " \n",
      "Training model with 99 samples..\n"
     ]
    },
    {
     "name": "stderr",
     "output_type": "stream",
     "text": [
      "C:\\Users\\Administrator\\anaconda3\\envs\\surrogate\\lib\\site-packages\\sklearn\\gaussian_process\\kernels.py:437: ConvergenceWarning: The optimal value found for dimension 0 of parameter k2__length_scale is close to the specified upper bound 10.0. Increasing the bound and calling fit again may find a better value.\n",
      "  ConvergenceWarning,\n"
     ]
    },
    {
     "name": "stdout",
     "output_type": "stream",
     "text": [
      "Model predictions with MC population...\n",
      "Pf_ref: None Pf_SuMo: 3.1e-05 B_sumo: 4.005 CoV_SuMo: 0.180\n",
      " \n",
      "Training model with 100 samples..\n"
     ]
    },
    {
     "name": "stderr",
     "output_type": "stream",
     "text": [
      "C:\\Users\\Administrator\\anaconda3\\envs\\surrogate\\lib\\site-packages\\sklearn\\gaussian_process\\kernels.py:437: ConvergenceWarning: The optimal value found for dimension 0 of parameter k2__length_scale is close to the specified upper bound 10.0. Increasing the bound and calling fit again may find a better value.\n",
      "  ConvergenceWarning,\n"
     ]
    },
    {
     "name": "stdout",
     "output_type": "stream",
     "text": [
      "Model predictions with MC population...\n",
      "Pf_ref: None Pf_SuMo: 3.2e-05 B_sumo: 3.998 CoV_SuMo: 0.177\n",
      " \n",
      "Training model with 101 samples..\n"
     ]
    },
    {
     "name": "stderr",
     "output_type": "stream",
     "text": [
      "C:\\Users\\Administrator\\anaconda3\\envs\\surrogate\\lib\\site-packages\\sklearn\\gaussian_process\\kernels.py:437: ConvergenceWarning: The optimal value found for dimension 0 of parameter k2__length_scale is close to the specified upper bound 10.0. Increasing the bound and calling fit again may find a better value.\n",
      "  ConvergenceWarning,\n"
     ]
    },
    {
     "name": "stdout",
     "output_type": "stream",
     "text": [
      "Model predictions with MC population...\n",
      "Pf_ref: None Pf_SuMo: 4.9e-05 B_sumo: 3.896 CoV_SuMo: 0.143\n",
      " \n",
      "Training model with 102 samples..\n"
     ]
    },
    {
     "name": "stderr",
     "output_type": "stream",
     "text": [
      "C:\\Users\\Administrator\\anaconda3\\envs\\surrogate\\lib\\site-packages\\sklearn\\gaussian_process\\kernels.py:437: ConvergenceWarning: The optimal value found for dimension 0 of parameter k2__length_scale is close to the specified upper bound 10.0. Increasing the bound and calling fit again may find a better value.\n",
      "  ConvergenceWarning,\n"
     ]
    },
    {
     "name": "stdout",
     "output_type": "stream",
     "text": [
      "Model predictions with MC population...\n",
      "Pf_ref: None Pf_SuMo: 3.5e-05 B_sumo: 3.976 CoV_SuMo: 0.169\n",
      " \n",
      "Training model with 103 samples..\n"
     ]
    },
    {
     "name": "stderr",
     "output_type": "stream",
     "text": [
      "C:\\Users\\Administrator\\anaconda3\\envs\\surrogate\\lib\\site-packages\\sklearn\\gaussian_process\\kernels.py:437: ConvergenceWarning: The optimal value found for dimension 0 of parameter k2__length_scale is close to the specified upper bound 10.0. Increasing the bound and calling fit again may find a better value.\n",
      "  ConvergenceWarning,\n"
     ]
    },
    {
     "name": "stdout",
     "output_type": "stream",
     "text": [
      "Model predictions with MC population...\n",
      "Pf_ref: None Pf_SuMo: 3.4e-05 B_sumo: 3.983 CoV_SuMo: 0.172\n",
      " \n",
      "Training model with 104 samples..\n"
     ]
    },
    {
     "name": "stderr",
     "output_type": "stream",
     "text": [
      "C:\\Users\\Administrator\\anaconda3\\envs\\surrogate\\lib\\site-packages\\sklearn\\gaussian_process\\kernels.py:437: ConvergenceWarning: The optimal value found for dimension 0 of parameter k2__length_scale is close to the specified upper bound 10.0. Increasing the bound and calling fit again may find a better value.\n",
      "  ConvergenceWarning,\n"
     ]
    },
    {
     "name": "stdout",
     "output_type": "stream",
     "text": [
      "Model predictions with MC population...\n",
      "Pf_ref: None Pf_SuMo: 4.5e-05 B_sumo: 3.916 CoV_SuMo: 0.149\n",
      " \n",
      "Training model with 105 samples..\n"
     ]
    },
    {
     "name": "stderr",
     "output_type": "stream",
     "text": [
      "C:\\Users\\Administrator\\anaconda3\\envs\\surrogate\\lib\\site-packages\\sklearn\\gaussian_process\\kernels.py:437: ConvergenceWarning: The optimal value found for dimension 0 of parameter k2__length_scale is close to the specified upper bound 10.0. Increasing the bound and calling fit again may find a better value.\n",
      "  ConvergenceWarning,\n"
     ]
    },
    {
     "name": "stdout",
     "output_type": "stream",
     "text": [
      "Model predictions with MC population...\n",
      "Pf_ref: None Pf_SuMo: 3.5e-05 B_sumo: 3.976 CoV_SuMo: 0.169\n",
      " \n",
      "Training model with 106 samples..\n"
     ]
    },
    {
     "name": "stderr",
     "output_type": "stream",
     "text": [
      "C:\\Users\\Administrator\\anaconda3\\envs\\surrogate\\lib\\site-packages\\sklearn\\gaussian_process\\kernels.py:437: ConvergenceWarning: The optimal value found for dimension 0 of parameter k2__length_scale is close to the specified upper bound 10.0. Increasing the bound and calling fit again may find a better value.\n",
      "  ConvergenceWarning,\n"
     ]
    },
    {
     "name": "stdout",
     "output_type": "stream",
     "text": [
      "Model predictions with MC population...\n",
      "Pf_ref: None Pf_SuMo: 3.3e-05 B_sumo: 3.990 CoV_SuMo: 0.174\n",
      " \n",
      "Training model with 107 samples..\n"
     ]
    },
    {
     "name": "stderr",
     "output_type": "stream",
     "text": [
      "C:\\Users\\Administrator\\anaconda3\\envs\\surrogate\\lib\\site-packages\\sklearn\\gaussian_process\\kernels.py:437: ConvergenceWarning: The optimal value found for dimension 0 of parameter k2__length_scale is close to the specified upper bound 10.0. Increasing the bound and calling fit again may find a better value.\n",
      "  ConvergenceWarning,\n"
     ]
    },
    {
     "name": "stdout",
     "output_type": "stream",
     "text": [
      "Model predictions with MC population...\n",
      "Pf_ref: None Pf_SuMo: 5.7e-05 B_sumo: 3.859 CoV_SuMo: 0.132\n",
      " \n",
      "Training model with 108 samples..\n"
     ]
    },
    {
     "name": "stderr",
     "output_type": "stream",
     "text": [
      "C:\\Users\\Administrator\\anaconda3\\envs\\surrogate\\lib\\site-packages\\sklearn\\gaussian_process\\kernels.py:437: ConvergenceWarning: The optimal value found for dimension 0 of parameter k2__length_scale is close to the specified upper bound 10.0. Increasing the bound and calling fit again may find a better value.\n",
      "  ConvergenceWarning,\n"
     ]
    },
    {
     "name": "stdout",
     "output_type": "stream",
     "text": [
      "Model predictions with MC population...\n",
      "Pf_ref: None Pf_SuMo: 5.7e-05 B_sumo: 3.859 CoV_SuMo: 0.132\n",
      " \n",
      "Training model with 109 samples..\n"
     ]
    },
    {
     "name": "stderr",
     "output_type": "stream",
     "text": [
      "C:\\Users\\Administrator\\anaconda3\\envs\\surrogate\\lib\\site-packages\\sklearn\\gaussian_process\\kernels.py:437: ConvergenceWarning: The optimal value found for dimension 0 of parameter k2__length_scale is close to the specified upper bound 10.0. Increasing the bound and calling fit again may find a better value.\n",
      "  ConvergenceWarning,\n"
     ]
    },
    {
     "name": "stdout",
     "output_type": "stream",
     "text": [
      "Model predictions with MC population...\n",
      "Pf_ref: None Pf_SuMo: 4.4e-05 B_sumo: 3.921 CoV_SuMo: 0.151\n",
      " \n",
      "Training model with 110 samples..\n"
     ]
    },
    {
     "name": "stderr",
     "output_type": "stream",
     "text": [
      "C:\\Users\\Administrator\\anaconda3\\envs\\surrogate\\lib\\site-packages\\sklearn\\gaussian_process\\kernels.py:437: ConvergenceWarning: The optimal value found for dimension 0 of parameter k2__length_scale is close to the specified upper bound 10.0. Increasing the bound and calling fit again may find a better value.\n",
      "  ConvergenceWarning,\n"
     ]
    },
    {
     "name": "stdout",
     "output_type": "stream",
     "text": [
      "Model predictions with MC population...\n",
      "Pf_ref: None Pf_SuMo: 5.6e-05 B_sumo: 3.863 CoV_SuMo: 0.134\n",
      " \n",
      "Training model with 111 samples..\n"
     ]
    },
    {
     "name": "stderr",
     "output_type": "stream",
     "text": [
      "C:\\Users\\Administrator\\anaconda3\\envs\\surrogate\\lib\\site-packages\\sklearn\\gaussian_process\\kernels.py:437: ConvergenceWarning: The optimal value found for dimension 0 of parameter k2__length_scale is close to the specified upper bound 10.0. Increasing the bound and calling fit again may find a better value.\n",
      "  ConvergenceWarning,\n"
     ]
    },
    {
     "name": "stdout",
     "output_type": "stream",
     "text": [
      "Model predictions with MC population...\n",
      "Pf_ref: None Pf_SuMo: 5.2e-05 B_sumo: 3.881 CoV_SuMo: 0.139\n",
      " \n",
      "Training model with 112 samples..\n"
     ]
    },
    {
     "name": "stderr",
     "output_type": "stream",
     "text": [
      "C:\\Users\\Administrator\\anaconda3\\envs\\surrogate\\lib\\site-packages\\sklearn\\gaussian_process\\kernels.py:437: ConvergenceWarning: The optimal value found for dimension 0 of parameter k2__length_scale is close to the specified upper bound 10.0. Increasing the bound and calling fit again may find a better value.\n",
      "  ConvergenceWarning,\n"
     ]
    },
    {
     "name": "stdout",
     "output_type": "stream",
     "text": [
      "Model predictions with MC population...\n",
      "Pf_ref: None Pf_SuMo: 4.6e-05 B_sumo: 3.911 CoV_SuMo: 0.147\n",
      " \n",
      "Training model with 113 samples..\n"
     ]
    },
    {
     "name": "stderr",
     "output_type": "stream",
     "text": [
      "C:\\Users\\Administrator\\anaconda3\\envs\\surrogate\\lib\\site-packages\\sklearn\\gaussian_process\\kernels.py:437: ConvergenceWarning: The optimal value found for dimension 0 of parameter k2__length_scale is close to the specified upper bound 10.0. Increasing the bound and calling fit again may find a better value.\n",
      "  ConvergenceWarning,\n"
     ]
    },
    {
     "name": "stdout",
     "output_type": "stream",
     "text": [
      "Model predictions with MC population...\n",
      "Pf_ref: None Pf_SuMo: 5e-05 B_sumo: 3.891 CoV_SuMo: 0.141\n",
      " \n",
      "Training model with 114 samples..\n"
     ]
    },
    {
     "name": "stderr",
     "output_type": "stream",
     "text": [
      "C:\\Users\\Administrator\\anaconda3\\envs\\surrogate\\lib\\site-packages\\sklearn\\gaussian_process\\kernels.py:437: ConvergenceWarning: The optimal value found for dimension 0 of parameter k2__length_scale is close to the specified upper bound 10.0. Increasing the bound and calling fit again may find a better value.\n",
      "  ConvergenceWarning,\n"
     ]
    },
    {
     "name": "stdout",
     "output_type": "stream",
     "text": [
      "Model predictions with MC population...\n",
      "Pf_ref: None Pf_SuMo: 4.8e-05 B_sumo: 3.901 CoV_SuMo: 0.144\n",
      " \n",
      "Training model with 115 samples..\n"
     ]
    },
    {
     "name": "stderr",
     "output_type": "stream",
     "text": [
      "C:\\Users\\Administrator\\anaconda3\\envs\\surrogate\\lib\\site-packages\\sklearn\\gaussian_process\\kernels.py:437: ConvergenceWarning: The optimal value found for dimension 0 of parameter k2__length_scale is close to the specified upper bound 10.0. Increasing the bound and calling fit again may find a better value.\n",
      "  ConvergenceWarning,\n"
     ]
    },
    {
     "name": "stdout",
     "output_type": "stream",
     "text": [
      "Model predictions with MC population...\n",
      "Pf_ref: None Pf_SuMo: 6.7e-05 B_sumo: 3.819 CoV_SuMo: 0.122\n",
      " \n",
      "Training model with 116 samples..\n"
     ]
    },
    {
     "name": "stderr",
     "output_type": "stream",
     "text": [
      "C:\\Users\\Administrator\\anaconda3\\envs\\surrogate\\lib\\site-packages\\sklearn\\gaussian_process\\kernels.py:437: ConvergenceWarning: The optimal value found for dimension 0 of parameter k2__length_scale is close to the specified upper bound 10.0. Increasing the bound and calling fit again may find a better value.\n",
      "  ConvergenceWarning,\n"
     ]
    },
    {
     "name": "stdout",
     "output_type": "stream",
     "text": [
      "Model predictions with MC population...\n",
      "Pf_ref: None Pf_SuMo: 4.3e-05 B_sumo: 3.927 CoV_SuMo: 0.152\n",
      " \n",
      "Training model with 117 samples..\n"
     ]
    },
    {
     "name": "stderr",
     "output_type": "stream",
     "text": [
      "C:\\Users\\Administrator\\anaconda3\\envs\\surrogate\\lib\\site-packages\\sklearn\\gaussian_process\\kernels.py:437: ConvergenceWarning: The optimal value found for dimension 0 of parameter k2__length_scale is close to the specified upper bound 10.0. Increasing the bound and calling fit again may find a better value.\n",
      "  ConvergenceWarning,\n"
     ]
    },
    {
     "name": "stdout",
     "output_type": "stream",
     "text": [
      "Model predictions with MC population...\n",
      "Pf_ref: None Pf_SuMo: 3.4e-05 B_sumo: 3.983 CoV_SuMo: 0.172\n",
      " \n",
      "Training model with 118 samples..\n"
     ]
    },
    {
     "name": "stderr",
     "output_type": "stream",
     "text": [
      "C:\\Users\\Administrator\\anaconda3\\envs\\surrogate\\lib\\site-packages\\sklearn\\gaussian_process\\kernels.py:437: ConvergenceWarning: The optimal value found for dimension 0 of parameter k2__length_scale is close to the specified upper bound 10.0. Increasing the bound and calling fit again may find a better value.\n",
      "  ConvergenceWarning,\n"
     ]
    },
    {
     "name": "stdout",
     "output_type": "stream",
     "text": [
      "Model predictions with MC population...\n",
      "Pf_ref: None Pf_SuMo: 5.1e-05 B_sumo: 3.886 CoV_SuMo: 0.140\n",
      " \n",
      "Training model with 119 samples..\n"
     ]
    },
    {
     "name": "stderr",
     "output_type": "stream",
     "text": [
      "C:\\Users\\Administrator\\anaconda3\\envs\\surrogate\\lib\\site-packages\\sklearn\\gaussian_process\\kernels.py:437: ConvergenceWarning: The optimal value found for dimension 0 of parameter k2__length_scale is close to the specified upper bound 10.0. Increasing the bound and calling fit again may find a better value.\n",
      "  ConvergenceWarning,\n"
     ]
    },
    {
     "name": "stdout",
     "output_type": "stream",
     "text": [
      "Model predictions with MC population...\n",
      "Pf_ref: None Pf_SuMo: 6.4e-05 B_sumo: 3.830 CoV_SuMo: 0.125\n",
      " \n",
      "Training model with 120 samples..\n"
     ]
    },
    {
     "name": "stderr",
     "output_type": "stream",
     "text": [
      "C:\\Users\\Administrator\\anaconda3\\envs\\surrogate\\lib\\site-packages\\sklearn\\gaussian_process\\kernels.py:437: ConvergenceWarning: The optimal value found for dimension 0 of parameter k2__length_scale is close to the specified upper bound 10.0. Increasing the bound and calling fit again may find a better value.\n",
      "  ConvergenceWarning,\n"
     ]
    },
    {
     "name": "stdout",
     "output_type": "stream",
     "text": [
      "Model predictions with MC population...\n",
      "Pf_ref: None Pf_SuMo: 7.7e-05 B_sumo: 3.784 CoV_SuMo: 0.114\n",
      " \n",
      "Training model with 121 samples..\n"
     ]
    },
    {
     "name": "stderr",
     "output_type": "stream",
     "text": [
      "C:\\Users\\Administrator\\anaconda3\\envs\\surrogate\\lib\\site-packages\\sklearn\\gaussian_process\\kernels.py:437: ConvergenceWarning: The optimal value found for dimension 0 of parameter k2__length_scale is close to the specified upper bound 10.0. Increasing the bound and calling fit again may find a better value.\n",
      "  ConvergenceWarning,\n"
     ]
    },
    {
     "name": "stdout",
     "output_type": "stream",
     "text": [
      "Model predictions with MC population...\n",
      "Pf_ref: None Pf_SuMo: 7.8e-05 B_sumo: 3.781 CoV_SuMo: 0.113\n",
      " \n",
      "Training model with 122 samples..\n"
     ]
    },
    {
     "name": "stderr",
     "output_type": "stream",
     "text": [
      "C:\\Users\\Administrator\\anaconda3\\envs\\surrogate\\lib\\site-packages\\sklearn\\gaussian_process\\kernels.py:437: ConvergenceWarning: The optimal value found for dimension 0 of parameter k2__length_scale is close to the specified upper bound 10.0. Increasing the bound and calling fit again may find a better value.\n",
      "  ConvergenceWarning,\n"
     ]
    },
    {
     "name": "stdout",
     "output_type": "stream",
     "text": [
      "Model predictions with MC population...\n",
      "Pf_ref: None Pf_SuMo: 7e-05 B_sumo: 3.808 CoV_SuMo: 0.119\n",
      " \n",
      "Training model with 123 samples..\n"
     ]
    },
    {
     "name": "stderr",
     "output_type": "stream",
     "text": [
      "C:\\Users\\Administrator\\anaconda3\\envs\\surrogate\\lib\\site-packages\\sklearn\\gaussian_process\\kernels.py:437: ConvergenceWarning: The optimal value found for dimension 0 of parameter k2__length_scale is close to the specified upper bound 10.0. Increasing the bound and calling fit again may find a better value.\n",
      "  ConvergenceWarning,\n"
     ]
    },
    {
     "name": "stdout",
     "output_type": "stream",
     "text": [
      "Model predictions with MC population...\n",
      "Pf_ref: None Pf_SuMo: 0.000107 B_sumo: 3.702 CoV_SuMo: 0.097\n",
      " \n",
      "Training model with 124 samples..\n"
     ]
    },
    {
     "name": "stderr",
     "output_type": "stream",
     "text": [
      "C:\\Users\\Administrator\\anaconda3\\envs\\surrogate\\lib\\site-packages\\sklearn\\gaussian_process\\kernels.py:437: ConvergenceWarning: The optimal value found for dimension 0 of parameter k2__length_scale is close to the specified upper bound 10.0. Increasing the bound and calling fit again may find a better value.\n",
      "  ConvergenceWarning,\n"
     ]
    },
    {
     "name": "stdout",
     "output_type": "stream",
     "text": [
      "Model predictions with MC population...\n",
      "Pf_ref: None Pf_SuMo: 9.9e-05 B_sumo: 3.722 CoV_SuMo: 0.101\n",
      " \n",
      "Training model with 125 samples..\n"
     ]
    },
    {
     "name": "stderr",
     "output_type": "stream",
     "text": [
      "C:\\Users\\Administrator\\anaconda3\\envs\\surrogate\\lib\\site-packages\\sklearn\\gaussian_process\\kernels.py:437: ConvergenceWarning: The optimal value found for dimension 0 of parameter k2__length_scale is close to the specified upper bound 10.0. Increasing the bound and calling fit again may find a better value.\n",
      "  ConvergenceWarning,\n"
     ]
    },
    {
     "name": "stdout",
     "output_type": "stream",
     "text": [
      "Model predictions with MC population...\n",
      "Pf_ref: None Pf_SuMo: 9.1e-05 B_sumo: 3.743 CoV_SuMo: 0.105\n",
      " \n",
      "Training model with 126 samples..\n"
     ]
    },
    {
     "name": "stderr",
     "output_type": "stream",
     "text": [
      "C:\\Users\\Administrator\\anaconda3\\envs\\surrogate\\lib\\site-packages\\sklearn\\gaussian_process\\kernels.py:437: ConvergenceWarning: The optimal value found for dimension 0 of parameter k2__length_scale is close to the specified upper bound 10.0. Increasing the bound and calling fit again may find a better value.\n",
      "  ConvergenceWarning,\n"
     ]
    },
    {
     "name": "stdout",
     "output_type": "stream",
     "text": [
      "Model predictions with MC population...\n",
      "Pf_ref: None Pf_SuMo: 7.7e-05 B_sumo: 3.784 CoV_SuMo: 0.114\n",
      " \n",
      "Training model with 127 samples..\n"
     ]
    },
    {
     "name": "stderr",
     "output_type": "stream",
     "text": [
      "C:\\Users\\Administrator\\anaconda3\\envs\\surrogate\\lib\\site-packages\\sklearn\\gaussian_process\\kernels.py:437: ConvergenceWarning: The optimal value found for dimension 0 of parameter k2__length_scale is close to the specified upper bound 10.0. Increasing the bound and calling fit again may find a better value.\n",
      "  ConvergenceWarning,\n"
     ]
    },
    {
     "name": "stdout",
     "output_type": "stream",
     "text": [
      "Model predictions with MC population...\n",
      "Pf_ref: None Pf_SuMo: 7.9e-05 B_sumo: 3.778 CoV_SuMo: 0.113\n",
      " \n",
      "Training model with 128 samples..\n"
     ]
    },
    {
     "name": "stderr",
     "output_type": "stream",
     "text": [
      "C:\\Users\\Administrator\\anaconda3\\envs\\surrogate\\lib\\site-packages\\sklearn\\gaussian_process\\kernels.py:437: ConvergenceWarning: The optimal value found for dimension 0 of parameter k2__length_scale is close to the specified upper bound 10.0. Increasing the bound and calling fit again may find a better value.\n",
      "  ConvergenceWarning,\n"
     ]
    },
    {
     "name": "stdout",
     "output_type": "stream",
     "text": [
      "Model predictions with MC population...\n",
      "Pf_ref: None Pf_SuMo: 9.5e-05 B_sumo: 3.732 CoV_SuMo: 0.103\n",
      " \n",
      "Training model with 129 samples..\n"
     ]
    },
    {
     "name": "stderr",
     "output_type": "stream",
     "text": [
      "C:\\Users\\Administrator\\anaconda3\\envs\\surrogate\\lib\\site-packages\\sklearn\\gaussian_process\\kernels.py:437: ConvergenceWarning: The optimal value found for dimension 0 of parameter k2__length_scale is close to the specified upper bound 10.0. Increasing the bound and calling fit again may find a better value.\n",
      "  ConvergenceWarning,\n"
     ]
    },
    {
     "name": "stdout",
     "output_type": "stream",
     "text": [
      "Model predictions with MC population...\n",
      "Pf_ref: None Pf_SuMo: 8.8e-05 B_sumo: 3.751 CoV_SuMo: 0.107\n",
      " \n",
      "Training model with 130 samples..\n"
     ]
    },
    {
     "name": "stderr",
     "output_type": "stream",
     "text": [
      "C:\\Users\\Administrator\\anaconda3\\envs\\surrogate\\lib\\site-packages\\sklearn\\gaussian_process\\kernels.py:437: ConvergenceWarning: The optimal value found for dimension 0 of parameter k2__length_scale is close to the specified upper bound 10.0. Increasing the bound and calling fit again may find a better value.\n",
      "  ConvergenceWarning,\n"
     ]
    },
    {
     "name": "stdout",
     "output_type": "stream",
     "text": [
      "Model predictions with MC population...\n",
      "Pf_ref: None Pf_SuMo: 8.2e-05 B_sumo: 3.769 CoV_SuMo: 0.110\n",
      " \n",
      "Training model with 131 samples..\n"
     ]
    },
    {
     "name": "stderr",
     "output_type": "stream",
     "text": [
      "C:\\Users\\Administrator\\anaconda3\\envs\\surrogate\\lib\\site-packages\\sklearn\\gaussian_process\\kernels.py:437: ConvergenceWarning: The optimal value found for dimension 0 of parameter k2__length_scale is close to the specified upper bound 10.0. Increasing the bound and calling fit again may find a better value.\n",
      "  ConvergenceWarning,\n"
     ]
    },
    {
     "name": "stdout",
     "output_type": "stream",
     "text": [
      "Model predictions with MC population...\n",
      "Pf_ref: None Pf_SuMo: 0.000105 B_sumo: 3.707 CoV_SuMo: 0.098\n",
      " \n",
      "Training model with 132 samples..\n"
     ]
    },
    {
     "name": "stderr",
     "output_type": "stream",
     "text": [
      "C:\\Users\\Administrator\\anaconda3\\envs\\surrogate\\lib\\site-packages\\sklearn\\gaussian_process\\kernels.py:437: ConvergenceWarning: The optimal value found for dimension 0 of parameter k2__length_scale is close to the specified upper bound 10.0. Increasing the bound and calling fit again may find a better value.\n",
      "  ConvergenceWarning,\n"
     ]
    },
    {
     "name": "stdout",
     "output_type": "stream",
     "text": [
      "Model predictions with MC population...\n",
      "Pf_ref: None Pf_SuMo: 0.000101 B_sumo: 3.716 CoV_SuMo: 0.100\n",
      " \n",
      "Training model with 133 samples..\n"
     ]
    },
    {
     "name": "stderr",
     "output_type": "stream",
     "text": [
      "C:\\Users\\Administrator\\anaconda3\\envs\\surrogate\\lib\\site-packages\\sklearn\\gaussian_process\\kernels.py:437: ConvergenceWarning: The optimal value found for dimension 0 of parameter k2__length_scale is close to the specified upper bound 10.0. Increasing the bound and calling fit again may find a better value.\n",
      "  ConvergenceWarning,\n"
     ]
    },
    {
     "name": "stdout",
     "output_type": "stream",
     "text": [
      "Model predictions with MC population...\n",
      "Pf_ref: None Pf_SuMo: 9.2e-05 B_sumo: 3.740 CoV_SuMo: 0.104\n",
      " \n",
      "Training model with 134 samples..\n"
     ]
    },
    {
     "name": "stderr",
     "output_type": "stream",
     "text": [
      "C:\\Users\\Administrator\\anaconda3\\envs\\surrogate\\lib\\site-packages\\sklearn\\gaussian_process\\kernels.py:437: ConvergenceWarning: The optimal value found for dimension 0 of parameter k2__length_scale is close to the specified upper bound 10.0. Increasing the bound and calling fit again may find a better value.\n",
      "  ConvergenceWarning,\n"
     ]
    },
    {
     "name": "stdout",
     "output_type": "stream",
     "text": [
      "Model predictions with MC population...\n",
      "Pf_ref: None Pf_SuMo: 9.1e-05 B_sumo: 3.743 CoV_SuMo: 0.105\n",
      " \n",
      "Training model with 135 samples..\n"
     ]
    },
    {
     "name": "stderr",
     "output_type": "stream",
     "text": [
      "C:\\Users\\Administrator\\anaconda3\\envs\\surrogate\\lib\\site-packages\\sklearn\\gaussian_process\\kernels.py:437: ConvergenceWarning: The optimal value found for dimension 0 of parameter k2__length_scale is close to the specified upper bound 10.0. Increasing the bound and calling fit again may find a better value.\n",
      "  ConvergenceWarning,\n"
     ]
    },
    {
     "name": "stdout",
     "output_type": "stream",
     "text": [
      "Model predictions with MC population...\n",
      "Pf_ref: None Pf_SuMo: 0.000126 B_sumo: 3.660 CoV_SuMo: 0.089\n",
      " \n",
      "Training model with 136 samples..\n"
     ]
    },
    {
     "name": "stderr",
     "output_type": "stream",
     "text": [
      "C:\\Users\\Administrator\\anaconda3\\envs\\surrogate\\lib\\site-packages\\sklearn\\gaussian_process\\kernels.py:437: ConvergenceWarning: The optimal value found for dimension 0 of parameter k2__length_scale is close to the specified upper bound 10.0. Increasing the bound and calling fit again may find a better value.\n",
      "  ConvergenceWarning,\n"
     ]
    },
    {
     "name": "stdout",
     "output_type": "stream",
     "text": [
      "Model predictions with MC population...\n",
      "Pf_ref: None Pf_SuMo: 0.000123 B_sumo: 3.666 CoV_SuMo: 0.090\n",
      " \n",
      "Training model with 137 samples..\n"
     ]
    },
    {
     "name": "stderr",
     "output_type": "stream",
     "text": [
      "C:\\Users\\Administrator\\anaconda3\\envs\\surrogate\\lib\\site-packages\\sklearn\\gaussian_process\\kernels.py:437: ConvergenceWarning: The optimal value found for dimension 0 of parameter k2__length_scale is close to the specified upper bound 10.0. Increasing the bound and calling fit again may find a better value.\n",
      "  ConvergenceWarning,\n"
     ]
    },
    {
     "name": "stdout",
     "output_type": "stream",
     "text": [
      "Model predictions with MC population...\n",
      "Pf_ref: None Pf_SuMo: 0.000123 B_sumo: 3.666 CoV_SuMo: 0.090\n",
      " \n",
      "Training model with 138 samples..\n"
     ]
    },
    {
     "name": "stderr",
     "output_type": "stream",
     "text": [
      "C:\\Users\\Administrator\\anaconda3\\envs\\surrogate\\lib\\site-packages\\sklearn\\gaussian_process\\kernels.py:437: ConvergenceWarning: The optimal value found for dimension 0 of parameter k2__length_scale is close to the specified upper bound 10.0. Increasing the bound and calling fit again may find a better value.\n",
      "  ConvergenceWarning,\n"
     ]
    },
    {
     "name": "stdout",
     "output_type": "stream",
     "text": [
      "Model predictions with MC population...\n",
      "Pf_ref: None Pf_SuMo: 0.000104 B_sumo: 3.709 CoV_SuMo: 0.098\n",
      " \n",
      "Training model with 139 samples..\n"
     ]
    },
    {
     "name": "stderr",
     "output_type": "stream",
     "text": [
      "C:\\Users\\Administrator\\anaconda3\\envs\\surrogate\\lib\\site-packages\\sklearn\\gaussian_process\\kernels.py:437: ConvergenceWarning: The optimal value found for dimension 0 of parameter k2__length_scale is close to the specified upper bound 10.0. Increasing the bound and calling fit again may find a better value.\n",
      "  ConvergenceWarning,\n"
     ]
    },
    {
     "name": "stdout",
     "output_type": "stream",
     "text": [
      "Model predictions with MC population...\n",
      "Pf_ref: None Pf_SuMo: 0.000121 B_sumo: 3.671 CoV_SuMo: 0.091\n",
      " \n",
      "Training model with 140 samples..\n"
     ]
    },
    {
     "name": "stderr",
     "output_type": "stream",
     "text": [
      "C:\\Users\\Administrator\\anaconda3\\envs\\surrogate\\lib\\site-packages\\sklearn\\gaussian_process\\kernels.py:437: ConvergenceWarning: The optimal value found for dimension 0 of parameter k2__length_scale is close to the specified upper bound 10.0. Increasing the bound and calling fit again may find a better value.\n",
      "  ConvergenceWarning,\n"
     ]
    },
    {
     "name": "stdout",
     "output_type": "stream",
     "text": [
      "Model predictions with MC population...\n",
      "Pf_ref: None Pf_SuMo: 9.9e-05 B_sumo: 3.722 CoV_SuMo: 0.101\n",
      " \n",
      "Training model with 141 samples..\n"
     ]
    },
    {
     "name": "stderr",
     "output_type": "stream",
     "text": [
      "C:\\Users\\Administrator\\anaconda3\\envs\\surrogate\\lib\\site-packages\\sklearn\\gaussian_process\\kernels.py:437: ConvergenceWarning: The optimal value found for dimension 0 of parameter k2__length_scale is close to the specified upper bound 10.0. Increasing the bound and calling fit again may find a better value.\n",
      "  ConvergenceWarning,\n"
     ]
    },
    {
     "name": "stdout",
     "output_type": "stream",
     "text": [
      "Model predictions with MC population...\n",
      "Pf_ref: None Pf_SuMo: 0.000119 B_sumo: 3.675 CoV_SuMo: 0.092\n",
      " \n",
      "Training model with 142 samples..\n"
     ]
    },
    {
     "name": "stderr",
     "output_type": "stream",
     "text": [
      "C:\\Users\\Administrator\\anaconda3\\envs\\surrogate\\lib\\site-packages\\sklearn\\gaussian_process\\kernels.py:437: ConvergenceWarning: The optimal value found for dimension 0 of parameter k2__length_scale is close to the specified upper bound 10.0. Increasing the bound and calling fit again may find a better value.\n",
      "  ConvergenceWarning,\n"
     ]
    },
    {
     "name": "stdout",
     "output_type": "stream",
     "text": [
      "Model predictions with MC population...\n",
      "Pf_ref: None Pf_SuMo: 0.000118 B_sumo: 3.677 CoV_SuMo: 0.092\n",
      " \n",
      "Training model with 143 samples..\n"
     ]
    },
    {
     "name": "stderr",
     "output_type": "stream",
     "text": [
      "C:\\Users\\Administrator\\anaconda3\\envs\\surrogate\\lib\\site-packages\\sklearn\\gaussian_process\\kernels.py:437: ConvergenceWarning: The optimal value found for dimension 0 of parameter k2__length_scale is close to the specified upper bound 10.0. Increasing the bound and calling fit again may find a better value.\n",
      "  ConvergenceWarning,\n"
     ]
    },
    {
     "name": "stdout",
     "output_type": "stream",
     "text": [
      "Model predictions with MC population...\n",
      "Pf_ref: None Pf_SuMo: 0.000112 B_sumo: 3.690 CoV_SuMo: 0.095\n",
      " \n",
      "Training model with 144 samples..\n"
     ]
    },
    {
     "name": "stderr",
     "output_type": "stream",
     "text": [
      "C:\\Users\\Administrator\\anaconda3\\envs\\surrogate\\lib\\site-packages\\sklearn\\gaussian_process\\kernels.py:437: ConvergenceWarning: The optimal value found for dimension 0 of parameter k2__length_scale is close to the specified upper bound 10.0. Increasing the bound and calling fit again may find a better value.\n",
      "  ConvergenceWarning,\n"
     ]
    },
    {
     "name": "stdout",
     "output_type": "stream",
     "text": [
      "Model predictions with MC population...\n",
      "Pf_ref: None Pf_SuMo: 0.000127 B_sumo: 3.658 CoV_SuMo: 0.089\n",
      " \n",
      "Training model with 145 samples..\n"
     ]
    },
    {
     "name": "stderr",
     "output_type": "stream",
     "text": [
      "C:\\Users\\Administrator\\anaconda3\\envs\\surrogate\\lib\\site-packages\\sklearn\\gaussian_process\\kernels.py:437: ConvergenceWarning: The optimal value found for dimension 0 of parameter k2__length_scale is close to the specified upper bound 10.0. Increasing the bound and calling fit again may find a better value.\n",
      "  ConvergenceWarning,\n"
     ]
    },
    {
     "name": "stdout",
     "output_type": "stream",
     "text": [
      "Model predictions with MC population...\n",
      "Pf_ref: None Pf_SuMo: 9.9e-05 B_sumo: 3.722 CoV_SuMo: 0.101\n",
      " \n",
      "Training model with 146 samples..\n"
     ]
    },
    {
     "name": "stderr",
     "output_type": "stream",
     "text": [
      "C:\\Users\\Administrator\\anaconda3\\envs\\surrogate\\lib\\site-packages\\sklearn\\gaussian_process\\kernels.py:437: ConvergenceWarning: The optimal value found for dimension 0 of parameter k2__length_scale is close to the specified upper bound 10.0. Increasing the bound and calling fit again may find a better value.\n",
      "  ConvergenceWarning,\n"
     ]
    },
    {
     "name": "stdout",
     "output_type": "stream",
     "text": [
      "Model predictions with MC population...\n",
      "Pf_ref: None Pf_SuMo: 0.000101 B_sumo: 3.716 CoV_SuMo: 0.100\n",
      " \n",
      "Training model with 147 samples..\n"
     ]
    },
    {
     "name": "stderr",
     "output_type": "stream",
     "text": [
      "C:\\Users\\Administrator\\anaconda3\\envs\\surrogate\\lib\\site-packages\\sklearn\\gaussian_process\\kernels.py:437: ConvergenceWarning: The optimal value found for dimension 0 of parameter k2__length_scale is close to the specified upper bound 10.0. Increasing the bound and calling fit again may find a better value.\n",
      "  ConvergenceWarning,\n"
     ]
    },
    {
     "name": "stdout",
     "output_type": "stream",
     "text": [
      "Model predictions with MC population...\n",
      "Pf_ref: None Pf_SuMo: 9.9e-05 B_sumo: 3.722 CoV_SuMo: 0.101\n",
      " \n",
      "Training model with 148 samples..\n"
     ]
    },
    {
     "name": "stderr",
     "output_type": "stream",
     "text": [
      "C:\\Users\\Administrator\\anaconda3\\envs\\surrogate\\lib\\site-packages\\sklearn\\gaussian_process\\kernels.py:437: ConvergenceWarning: The optimal value found for dimension 0 of parameter k2__length_scale is close to the specified upper bound 10.0. Increasing the bound and calling fit again may find a better value.\n",
      "  ConvergenceWarning,\n"
     ]
    },
    {
     "name": "stdout",
     "output_type": "stream",
     "text": [
      "Model predictions with MC population...\n",
      "Pf_ref: None Pf_SuMo: 0.000123 B_sumo: 3.666 CoV_SuMo: 0.090\n",
      " \n",
      "Training model with 149 samples..\n"
     ]
    },
    {
     "name": "stderr",
     "output_type": "stream",
     "text": [
      "C:\\Users\\Administrator\\anaconda3\\envs\\surrogate\\lib\\site-packages\\sklearn\\gaussian_process\\kernels.py:437: ConvergenceWarning: The optimal value found for dimension 0 of parameter k2__length_scale is close to the specified upper bound 10.0. Increasing the bound and calling fit again may find a better value.\n",
      "  ConvergenceWarning,\n"
     ]
    },
    {
     "name": "stdout",
     "output_type": "stream",
     "text": [
      "Model predictions with MC population...\n",
      "Pf_ref: None Pf_SuMo: 0.000127 B_sumo: 3.658 CoV_SuMo: 0.089\n",
      " \n",
      "Training model with 150 samples..\n"
     ]
    },
    {
     "name": "stderr",
     "output_type": "stream",
     "text": [
      "C:\\Users\\Administrator\\anaconda3\\envs\\surrogate\\lib\\site-packages\\sklearn\\gaussian_process\\kernels.py:437: ConvergenceWarning: The optimal value found for dimension 0 of parameter k2__length_scale is close to the specified upper bound 10.0. Increasing the bound and calling fit again may find a better value.\n",
      "  ConvergenceWarning,\n"
     ]
    },
    {
     "name": "stdout",
     "output_type": "stream",
     "text": [
      "Model predictions with MC population...\n",
      "Pf_ref: None Pf_SuMo: 0.000151 B_sumo: 3.614 CoV_SuMo: 0.081\n",
      " \n",
      "Experiment:  3 ########################################################\n",
      "Training model with 50 samples..\n"
     ]
    },
    {
     "name": "stderr",
     "output_type": "stream",
     "text": [
      "C:\\Users\\Administrator\\anaconda3\\envs\\surrogate\\lib\\site-packages\\sklearn\\gaussian_process\\kernels.py:437: ConvergenceWarning: The optimal value found for dimension 0 of parameter k2__length_scale is close to the specified upper bound 10.0. Increasing the bound and calling fit again may find a better value.\n",
      "  ConvergenceWarning,\n"
     ]
    },
    {
     "name": "stdout",
     "output_type": "stream",
     "text": [
      "Model predictions with MC population...\n",
      "Pf_ref: None Pf_SuMo: 0.990433 B_sumo: -2.343 CoV_SuMo: 0.000\n",
      " \n",
      "Training model with 51 samples..\n"
     ]
    },
    {
     "name": "stderr",
     "output_type": "stream",
     "text": [
      "C:\\Users\\Administrator\\anaconda3\\envs\\surrogate\\lib\\site-packages\\sklearn\\gaussian_process\\kernels.py:437: ConvergenceWarning: The optimal value found for dimension 0 of parameter k2__length_scale is close to the specified upper bound 10.0. Increasing the bound and calling fit again may find a better value.\n",
      "  ConvergenceWarning,\n"
     ]
    },
    {
     "name": "stdout",
     "output_type": "stream",
     "text": [
      "Model predictions with MC population...\n",
      "Pf_ref: None Pf_SuMo: 0.937873 B_sumo: -1.537 CoV_SuMo: 0.000\n",
      " \n",
      "Training model with 52 samples..\n"
     ]
    },
    {
     "name": "stderr",
     "output_type": "stream",
     "text": [
      "C:\\Users\\Administrator\\anaconda3\\envs\\surrogate\\lib\\site-packages\\sklearn\\gaussian_process\\kernels.py:437: ConvergenceWarning: The optimal value found for dimension 0 of parameter k2__length_scale is close to the specified upper bound 10.0. Increasing the bound and calling fit again may find a better value.\n",
      "  ConvergenceWarning,\n"
     ]
    },
    {
     "name": "stdout",
     "output_type": "stream",
     "text": [
      "Model predictions with MC population...\n",
      "Pf_ref: None Pf_SuMo: 0.849007 B_sumo: -1.032 CoV_SuMo: 0.000\n",
      " \n",
      "Training model with 53 samples..\n"
     ]
    },
    {
     "name": "stderr",
     "output_type": "stream",
     "text": [
      "C:\\Users\\Administrator\\anaconda3\\envs\\surrogate\\lib\\site-packages\\sklearn\\gaussian_process\\kernels.py:437: ConvergenceWarning: The optimal value found for dimension 0 of parameter k2__length_scale is close to the specified upper bound 10.0. Increasing the bound and calling fit again may find a better value.\n",
      "  ConvergenceWarning,\n"
     ]
    },
    {
     "name": "stdout",
     "output_type": "stream",
     "text": [
      "Model predictions with MC population...\n",
      "Pf_ref: None Pf_SuMo: 0.729058 B_sumo: -0.610 CoV_SuMo: 0.001\n",
      " \n",
      "Training model with 54 samples..\n"
     ]
    },
    {
     "name": "stderr",
     "output_type": "stream",
     "text": [
      "C:\\Users\\Administrator\\anaconda3\\envs\\surrogate\\lib\\site-packages\\sklearn\\gaussian_process\\kernels.py:437: ConvergenceWarning: The optimal value found for dimension 0 of parameter k2__length_scale is close to the specified upper bound 10.0. Increasing the bound and calling fit again may find a better value.\n",
      "  ConvergenceWarning,\n"
     ]
    },
    {
     "name": "stdout",
     "output_type": "stream",
     "text": [
      "Model predictions with MC population...\n",
      "Pf_ref: None Pf_SuMo: 0.623062 B_sumo: -0.314 CoV_SuMo: 0.001\n",
      " \n",
      "Training model with 55 samples..\n"
     ]
    },
    {
     "name": "stderr",
     "output_type": "stream",
     "text": [
      "C:\\Users\\Administrator\\anaconda3\\envs\\surrogate\\lib\\site-packages\\sklearn\\gaussian_process\\kernels.py:437: ConvergenceWarning: The optimal value found for dimension 0 of parameter k2__length_scale is close to the specified upper bound 10.0. Increasing the bound and calling fit again may find a better value.\n",
      "  ConvergenceWarning,\n"
     ]
    },
    {
     "name": "stdout",
     "output_type": "stream",
     "text": [
      "Model predictions with MC population...\n",
      "Pf_ref: None Pf_SuMo: 0.53858 B_sumo: -0.097 CoV_SuMo: 0.001\n",
      " \n",
      "Training model with 56 samples..\n"
     ]
    },
    {
     "name": "stderr",
     "output_type": "stream",
     "text": [
      "C:\\Users\\Administrator\\anaconda3\\envs\\surrogate\\lib\\site-packages\\sklearn\\gaussian_process\\kernels.py:437: ConvergenceWarning: The optimal value found for dimension 0 of parameter k2__length_scale is close to the specified upper bound 10.0. Increasing the bound and calling fit again may find a better value.\n",
      "  ConvergenceWarning,\n"
     ]
    },
    {
     "name": "stdout",
     "output_type": "stream",
     "text": [
      "Model predictions with MC population...\n",
      "Pf_ref: None Pf_SuMo: 0.474371 B_sumo: 0.064 CoV_SuMo: 0.001\n",
      " \n",
      "Training model with 57 samples..\n"
     ]
    },
    {
     "name": "stderr",
     "output_type": "stream",
     "text": [
      "C:\\Users\\Administrator\\anaconda3\\envs\\surrogate\\lib\\site-packages\\sklearn\\gaussian_process\\kernels.py:437: ConvergenceWarning: The optimal value found for dimension 0 of parameter k2__length_scale is close to the specified upper bound 10.0. Increasing the bound and calling fit again may find a better value.\n",
      "  ConvergenceWarning,\n"
     ]
    },
    {
     "name": "stdout",
     "output_type": "stream",
     "text": [
      "Model predictions with MC population...\n",
      "Pf_ref: None Pf_SuMo: 0.42796 B_sumo: 0.182 CoV_SuMo: 0.001\n",
      " \n",
      "Training model with 58 samples..\n"
     ]
    },
    {
     "name": "stderr",
     "output_type": "stream",
     "text": [
      "C:\\Users\\Administrator\\anaconda3\\envs\\surrogate\\lib\\site-packages\\sklearn\\gaussian_process\\kernels.py:437: ConvergenceWarning: The optimal value found for dimension 0 of parameter k2__length_scale is close to the specified upper bound 10.0. Increasing the bound and calling fit again may find a better value.\n",
      "  ConvergenceWarning,\n"
     ]
    },
    {
     "name": "stdout",
     "output_type": "stream",
     "text": [
      "Model predictions with MC population...\n",
      "Pf_ref: None Pf_SuMo: 0.353306 B_sumo: 0.376 CoV_SuMo: 0.001\n",
      " \n",
      "Training model with 59 samples..\n"
     ]
    },
    {
     "name": "stderr",
     "output_type": "stream",
     "text": [
      "C:\\Users\\Administrator\\anaconda3\\envs\\surrogate\\lib\\site-packages\\sklearn\\gaussian_process\\kernels.py:437: ConvergenceWarning: The optimal value found for dimension 0 of parameter k2__length_scale is close to the specified upper bound 10.0. Increasing the bound and calling fit again may find a better value.\n",
      "  ConvergenceWarning,\n"
     ]
    },
    {
     "name": "stdout",
     "output_type": "stream",
     "text": [
      "Model predictions with MC population...\n",
      "Pf_ref: None Pf_SuMo: 0.310592 B_sumo: 0.494 CoV_SuMo: 0.002\n",
      " \n",
      "Training model with 60 samples..\n"
     ]
    },
    {
     "name": "stderr",
     "output_type": "stream",
     "text": [
      "C:\\Users\\Administrator\\anaconda3\\envs\\surrogate\\lib\\site-packages\\sklearn\\gaussian_process\\kernels.py:437: ConvergenceWarning: The optimal value found for dimension 0 of parameter k2__length_scale is close to the specified upper bound 10.0. Increasing the bound and calling fit again may find a better value.\n",
      "  ConvergenceWarning,\n"
     ]
    },
    {
     "name": "stdout",
     "output_type": "stream",
     "text": [
      "Model predictions with MC population...\n",
      "Pf_ref: None Pf_SuMo: 0.281828 B_sumo: 0.577 CoV_SuMo: 0.002\n",
      " \n",
      "Training model with 61 samples..\n"
     ]
    },
    {
     "name": "stderr",
     "output_type": "stream",
     "text": [
      "C:\\Users\\Administrator\\anaconda3\\envs\\surrogate\\lib\\site-packages\\sklearn\\gaussian_process\\kernels.py:437: ConvergenceWarning: The optimal value found for dimension 0 of parameter k2__length_scale is close to the specified upper bound 10.0. Increasing the bound and calling fit again may find a better value.\n",
      "  ConvergenceWarning,\n"
     ]
    },
    {
     "name": "stdout",
     "output_type": "stream",
     "text": [
      "Model predictions with MC population...\n",
      "Pf_ref: None Pf_SuMo: 0.226759 B_sumo: 0.750 CoV_SuMo: 0.002\n",
      " \n",
      "Training model with 62 samples..\n"
     ]
    },
    {
     "name": "stderr",
     "output_type": "stream",
     "text": [
      "C:\\Users\\Administrator\\anaconda3\\envs\\surrogate\\lib\\site-packages\\sklearn\\gaussian_process\\kernels.py:437: ConvergenceWarning: The optimal value found for dimension 0 of parameter k2__length_scale is close to the specified upper bound 10.0. Increasing the bound and calling fit again may find a better value.\n",
      "  ConvergenceWarning,\n"
     ]
    },
    {
     "name": "stdout",
     "output_type": "stream",
     "text": [
      "Model predictions with MC population...\n",
      "Pf_ref: None Pf_SuMo: 0.210162 B_sumo: 0.806 CoV_SuMo: 0.002\n",
      " \n",
      "Training model with 63 samples..\n"
     ]
    },
    {
     "name": "stderr",
     "output_type": "stream",
     "text": [
      "C:\\Users\\Administrator\\anaconda3\\envs\\surrogate\\lib\\site-packages\\sklearn\\gaussian_process\\kernels.py:437: ConvergenceWarning: The optimal value found for dimension 0 of parameter k2__length_scale is close to the specified upper bound 10.0. Increasing the bound and calling fit again may find a better value.\n",
      "  ConvergenceWarning,\n"
     ]
    },
    {
     "name": "stdout",
     "output_type": "stream",
     "text": [
      "Model predictions with MC population...\n",
      "Pf_ref: None Pf_SuMo: 0.166812 B_sumo: 0.967 CoV_SuMo: 0.002\n",
      " \n",
      "Training model with 64 samples..\n"
     ]
    },
    {
     "name": "stderr",
     "output_type": "stream",
     "text": [
      "C:\\Users\\Administrator\\anaconda3\\envs\\surrogate\\lib\\site-packages\\sklearn\\gaussian_process\\kernels.py:437: ConvergenceWarning: The optimal value found for dimension 0 of parameter k2__length_scale is close to the specified upper bound 10.0. Increasing the bound and calling fit again may find a better value.\n",
      "  ConvergenceWarning,\n"
     ]
    },
    {
     "name": "stdout",
     "output_type": "stream",
     "text": [
      "Model predictions with MC population...\n",
      "Pf_ref: None Pf_SuMo: 0.125893 B_sumo: 1.146 CoV_SuMo: 0.003\n",
      " \n",
      "Training model with 65 samples..\n"
     ]
    },
    {
     "name": "stderr",
     "output_type": "stream",
     "text": [
      "C:\\Users\\Administrator\\anaconda3\\envs\\surrogate\\lib\\site-packages\\sklearn\\gaussian_process\\kernels.py:437: ConvergenceWarning: The optimal value found for dimension 0 of parameter k2__length_scale is close to the specified upper bound 10.0. Increasing the bound and calling fit again may find a better value.\n",
      "  ConvergenceWarning,\n"
     ]
    },
    {
     "name": "stdout",
     "output_type": "stream",
     "text": [
      "Model predictions with MC population...\n",
      "Pf_ref: None Pf_SuMo: 0.108334 B_sumo: 1.235 CoV_SuMo: 0.003\n",
      " \n",
      "Training model with 66 samples..\n"
     ]
    },
    {
     "name": "stderr",
     "output_type": "stream",
     "text": [
      "C:\\Users\\Administrator\\anaconda3\\envs\\surrogate\\lib\\site-packages\\sklearn\\gaussian_process\\kernels.py:437: ConvergenceWarning: The optimal value found for dimension 0 of parameter k2__length_scale is close to the specified upper bound 10.0. Increasing the bound and calling fit again may find a better value.\n",
      "  ConvergenceWarning,\n"
     ]
    },
    {
     "name": "stdout",
     "output_type": "stream",
     "text": [
      "Model predictions with MC population...\n",
      "Pf_ref: None Pf_SuMo: 0.094457 B_sumo: 1.314 CoV_SuMo: 0.003\n",
      " \n",
      "Training model with 67 samples..\n"
     ]
    },
    {
     "name": "stderr",
     "output_type": "stream",
     "text": [
      "C:\\Users\\Administrator\\anaconda3\\envs\\surrogate\\lib\\site-packages\\sklearn\\gaussian_process\\kernels.py:437: ConvergenceWarning: The optimal value found for dimension 0 of parameter k2__length_scale is close to the specified upper bound 10.0. Increasing the bound and calling fit again may find a better value.\n",
      "  ConvergenceWarning,\n"
     ]
    },
    {
     "name": "stdout",
     "output_type": "stream",
     "text": [
      "Model predictions with MC population...\n",
      "Pf_ref: None Pf_SuMo: 0.07256 B_sumo: 1.457 CoV_SuMo: 0.004\n",
      " \n",
      "Training model with 68 samples..\n"
     ]
    },
    {
     "name": "stderr",
     "output_type": "stream",
     "text": [
      "C:\\Users\\Administrator\\anaconda3\\envs\\surrogate\\lib\\site-packages\\sklearn\\gaussian_process\\kernels.py:437: ConvergenceWarning: The optimal value found for dimension 0 of parameter k2__length_scale is close to the specified upper bound 10.0. Increasing the bound and calling fit again may find a better value.\n",
      "  ConvergenceWarning,\n"
     ]
    },
    {
     "name": "stdout",
     "output_type": "stream",
     "text": [
      "Model predictions with MC population...\n",
      "Pf_ref: None Pf_SuMo: 0.054007 B_sumo: 1.607 CoV_SuMo: 0.004\n",
      " \n",
      "Training model with 69 samples..\n"
     ]
    },
    {
     "name": "stderr",
     "output_type": "stream",
     "text": [
      "C:\\Users\\Administrator\\anaconda3\\envs\\surrogate\\lib\\site-packages\\sklearn\\gaussian_process\\kernels.py:437: ConvergenceWarning: The optimal value found for dimension 0 of parameter k2__length_scale is close to the specified upper bound 10.0. Increasing the bound and calling fit again may find a better value.\n",
      "  ConvergenceWarning,\n"
     ]
    },
    {
     "name": "stdout",
     "output_type": "stream",
     "text": [
      "Model predictions with MC population...\n",
      "Pf_ref: None Pf_SuMo: 0.048656 B_sumo: 1.658 CoV_SuMo: 0.004\n",
      " \n",
      "Training model with 70 samples..\n"
     ]
    },
    {
     "name": "stderr",
     "output_type": "stream",
     "text": [
      "C:\\Users\\Administrator\\anaconda3\\envs\\surrogate\\lib\\site-packages\\sklearn\\gaussian_process\\kernels.py:437: ConvergenceWarning: The optimal value found for dimension 0 of parameter k2__length_scale is close to the specified upper bound 10.0. Increasing the bound and calling fit again may find a better value.\n",
      "  ConvergenceWarning,\n"
     ]
    },
    {
     "name": "stdout",
     "output_type": "stream",
     "text": [
      "Model predictions with MC population...\n",
      "Pf_ref: None Pf_SuMo: 0.036796 B_sumo: 1.789 CoV_SuMo: 0.005\n",
      " \n",
      "Training model with 71 samples..\n"
     ]
    },
    {
     "name": "stderr",
     "output_type": "stream",
     "text": [
      "C:\\Users\\Administrator\\anaconda3\\envs\\surrogate\\lib\\site-packages\\sklearn\\gaussian_process\\kernels.py:437: ConvergenceWarning: The optimal value found for dimension 0 of parameter k2__length_scale is close to the specified upper bound 10.0. Increasing the bound and calling fit again may find a better value.\n",
      "  ConvergenceWarning,\n"
     ]
    },
    {
     "name": "stdout",
     "output_type": "stream",
     "text": [
      "Model predictions with MC population...\n",
      "Pf_ref: None Pf_SuMo: 0.02628 B_sumo: 1.938 CoV_SuMo: 0.006\n",
      " \n",
      "Training model with 72 samples..\n"
     ]
    },
    {
     "name": "stderr",
     "output_type": "stream",
     "text": [
      "C:\\Users\\Administrator\\anaconda3\\envs\\surrogate\\lib\\site-packages\\sklearn\\gaussian_process\\kernels.py:437: ConvergenceWarning: The optimal value found for dimension 0 of parameter k2__length_scale is close to the specified upper bound 10.0. Increasing the bound and calling fit again may find a better value.\n",
      "  ConvergenceWarning,\n"
     ]
    },
    {
     "name": "stdout",
     "output_type": "stream",
     "text": [
      "Model predictions with MC population...\n",
      "Pf_ref: None Pf_SuMo: 0.014106 B_sumo: 2.194 CoV_SuMo: 0.008\n",
      " \n",
      "Training model with 73 samples..\n"
     ]
    },
    {
     "name": "stderr",
     "output_type": "stream",
     "text": [
      "C:\\Users\\Administrator\\anaconda3\\envs\\surrogate\\lib\\site-packages\\sklearn\\gaussian_process\\kernels.py:437: ConvergenceWarning: The optimal value found for dimension 0 of parameter k2__length_scale is close to the specified upper bound 10.0. Increasing the bound and calling fit again may find a better value.\n",
      "  ConvergenceWarning,\n"
     ]
    },
    {
     "name": "stdout",
     "output_type": "stream",
     "text": [
      "Model predictions with MC population...\n",
      "Pf_ref: None Pf_SuMo: 0.010893 B_sumo: 2.294 CoV_SuMo: 0.009\n",
      " \n",
      "Training model with 74 samples..\n"
     ]
    },
    {
     "name": "stderr",
     "output_type": "stream",
     "text": [
      "C:\\Users\\Administrator\\anaconda3\\envs\\surrogate\\lib\\site-packages\\sklearn\\gaussian_process\\kernels.py:437: ConvergenceWarning: The optimal value found for dimension 0 of parameter k2__length_scale is close to the specified upper bound 10.0. Increasing the bound and calling fit again may find a better value.\n",
      "  ConvergenceWarning,\n"
     ]
    },
    {
     "name": "stdout",
     "output_type": "stream",
     "text": [
      "Model predictions with MC population...\n",
      "Pf_ref: None Pf_SuMo: 0.00837 B_sumo: 2.392 CoV_SuMo: 0.011\n",
      " \n",
      "Training model with 75 samples..\n"
     ]
    },
    {
     "name": "stderr",
     "output_type": "stream",
     "text": [
      "C:\\Users\\Administrator\\anaconda3\\envs\\surrogate\\lib\\site-packages\\sklearn\\gaussian_process\\kernels.py:437: ConvergenceWarning: The optimal value found for dimension 0 of parameter k2__length_scale is close to the specified upper bound 10.0. Increasing the bound and calling fit again may find a better value.\n",
      "  ConvergenceWarning,\n"
     ]
    },
    {
     "name": "stdout",
     "output_type": "stream",
     "text": [
      "Model predictions with MC population...\n",
      "Pf_ref: None Pf_SuMo: 0.004087 B_sumo: 2.645 CoV_SuMo: 0.016\n",
      " \n",
      "Training model with 76 samples..\n"
     ]
    },
    {
     "name": "stderr",
     "output_type": "stream",
     "text": [
      "C:\\Users\\Administrator\\anaconda3\\envs\\surrogate\\lib\\site-packages\\sklearn\\gaussian_process\\kernels.py:437: ConvergenceWarning: The optimal value found for dimension 0 of parameter k2__length_scale is close to the specified upper bound 10.0. Increasing the bound and calling fit again may find a better value.\n",
      "  ConvergenceWarning,\n"
     ]
    },
    {
     "name": "stdout",
     "output_type": "stream",
     "text": [
      "Model predictions with MC population...\n",
      "Pf_ref: None Pf_SuMo: 0.002368 B_sumo: 2.825 CoV_SuMo: 0.021\n",
      " \n",
      "Training model with 77 samples..\n"
     ]
    },
    {
     "name": "stderr",
     "output_type": "stream",
     "text": [
      "C:\\Users\\Administrator\\anaconda3\\envs\\surrogate\\lib\\site-packages\\sklearn\\gaussian_process\\kernels.py:437: ConvergenceWarning: The optimal value found for dimension 0 of parameter k2__length_scale is close to the specified upper bound 10.0. Increasing the bound and calling fit again may find a better value.\n",
      "  ConvergenceWarning,\n"
     ]
    },
    {
     "name": "stdout",
     "output_type": "stream",
     "text": [
      "Model predictions with MC population...\n",
      "Pf_ref: None Pf_SuMo: 0.002008 B_sumo: 2.877 CoV_SuMo: 0.022\n",
      " \n",
      "Training model with 78 samples..\n"
     ]
    },
    {
     "name": "stderr",
     "output_type": "stream",
     "text": [
      "C:\\Users\\Administrator\\anaconda3\\envs\\surrogate\\lib\\site-packages\\sklearn\\gaussian_process\\kernels.py:437: ConvergenceWarning: The optimal value found for dimension 0 of parameter k2__length_scale is close to the specified upper bound 10.0. Increasing the bound and calling fit again may find a better value.\n",
      "  ConvergenceWarning,\n"
     ]
    },
    {
     "name": "stdout",
     "output_type": "stream",
     "text": [
      "Model predictions with MC population...\n",
      "Pf_ref: None Pf_SuMo: 0.00121 B_sumo: 3.033 CoV_SuMo: 0.029\n",
      " \n",
      "Training model with 79 samples..\n"
     ]
    },
    {
     "name": "stderr",
     "output_type": "stream",
     "text": [
      "C:\\Users\\Administrator\\anaconda3\\envs\\surrogate\\lib\\site-packages\\sklearn\\gaussian_process\\kernels.py:437: ConvergenceWarning: The optimal value found for dimension 0 of parameter k2__length_scale is close to the specified upper bound 10.0. Increasing the bound and calling fit again may find a better value.\n",
      "  ConvergenceWarning,\n"
     ]
    },
    {
     "name": "stdout",
     "output_type": "stream",
     "text": [
      "Model predictions with MC population...\n",
      "Pf_ref: None Pf_SuMo: 0.001183 B_sumo: 3.040 CoV_SuMo: 0.029\n",
      " \n",
      "Training model with 80 samples..\n"
     ]
    },
    {
     "name": "stderr",
     "output_type": "stream",
     "text": [
      "C:\\Users\\Administrator\\anaconda3\\envs\\surrogate\\lib\\site-packages\\sklearn\\gaussian_process\\kernels.py:437: ConvergenceWarning: The optimal value found for dimension 0 of parameter k2__length_scale is close to the specified upper bound 10.0. Increasing the bound and calling fit again may find a better value.\n",
      "  ConvergenceWarning,\n"
     ]
    },
    {
     "name": "stdout",
     "output_type": "stream",
     "text": [
      "Model predictions with MC population...\n",
      "Pf_ref: None Pf_SuMo: 0.000673 B_sumo: 3.206 CoV_SuMo: 0.038\n",
      " \n",
      "Training model with 81 samples..\n"
     ]
    },
    {
     "name": "stderr",
     "output_type": "stream",
     "text": [
      "C:\\Users\\Administrator\\anaconda3\\envs\\surrogate\\lib\\site-packages\\sklearn\\gaussian_process\\kernels.py:437: ConvergenceWarning: The optimal value found for dimension 0 of parameter k2__length_scale is close to the specified upper bound 10.0. Increasing the bound and calling fit again may find a better value.\n",
      "  ConvergenceWarning,\n"
     ]
    },
    {
     "name": "stdout",
     "output_type": "stream",
     "text": [
      "Model predictions with MC population...\n",
      "Pf_ref: None Pf_SuMo: 0.000588 B_sumo: 3.245 CoV_SuMo: 0.041\n",
      " \n",
      "Training model with 82 samples..\n"
     ]
    },
    {
     "name": "stderr",
     "output_type": "stream",
     "text": [
      "C:\\Users\\Administrator\\anaconda3\\envs\\surrogate\\lib\\site-packages\\sklearn\\gaussian_process\\kernels.py:437: ConvergenceWarning: The optimal value found for dimension 0 of parameter k2__length_scale is close to the specified upper bound 10.0. Increasing the bound and calling fit again may find a better value.\n",
      "  ConvergenceWarning,\n"
     ]
    },
    {
     "name": "stdout",
     "output_type": "stream",
     "text": [
      "Model predictions with MC population...\n",
      "Pf_ref: None Pf_SuMo: 0.000422 B_sumo: 3.338 CoV_SuMo: 0.049\n",
      " \n",
      "Training model with 83 samples..\n"
     ]
    },
    {
     "name": "stderr",
     "output_type": "stream",
     "text": [
      "C:\\Users\\Administrator\\anaconda3\\envs\\surrogate\\lib\\site-packages\\sklearn\\gaussian_process\\kernels.py:437: ConvergenceWarning: The optimal value found for dimension 0 of parameter k2__length_scale is close to the specified upper bound 10.0. Increasing the bound and calling fit again may find a better value.\n",
      "  ConvergenceWarning,\n"
     ]
    },
    {
     "name": "stdout",
     "output_type": "stream",
     "text": [
      "Model predictions with MC population...\n",
      "Pf_ref: None Pf_SuMo: 0.000355 B_sumo: 3.386 CoV_SuMo: 0.053\n",
      " \n",
      "Training model with 84 samples..\n"
     ]
    },
    {
     "name": "stderr",
     "output_type": "stream",
     "text": [
      "C:\\Users\\Administrator\\anaconda3\\envs\\surrogate\\lib\\site-packages\\sklearn\\gaussian_process\\kernels.py:437: ConvergenceWarning: The optimal value found for dimension 0 of parameter k2__length_scale is close to the specified upper bound 10.0. Increasing the bound and calling fit again may find a better value.\n",
      "  ConvergenceWarning,\n"
     ]
    },
    {
     "name": "stdout",
     "output_type": "stream",
     "text": [
      "Model predictions with MC population...\n",
      "Pf_ref: None Pf_SuMo: 0.000238 B_sumo: 3.494 CoV_SuMo: 0.065\n",
      " \n",
      "Training model with 85 samples..\n"
     ]
    },
    {
     "name": "stderr",
     "output_type": "stream",
     "text": [
      "C:\\Users\\Administrator\\anaconda3\\envs\\surrogate\\lib\\site-packages\\sklearn\\gaussian_process\\kernels.py:437: ConvergenceWarning: The optimal value found for dimension 0 of parameter k2__length_scale is close to the specified upper bound 10.0. Increasing the bound and calling fit again may find a better value.\n",
      "  ConvergenceWarning,\n"
     ]
    },
    {
     "name": "stdout",
     "output_type": "stream",
     "text": [
      "Model predictions with MC population...\n",
      "Pf_ref: None Pf_SuMo: 0.000174 B_sumo: 3.577 CoV_SuMo: 0.076\n",
      " \n",
      "Training model with 86 samples..\n"
     ]
    },
    {
     "name": "stderr",
     "output_type": "stream",
     "text": [
      "C:\\Users\\Administrator\\anaconda3\\envs\\surrogate\\lib\\site-packages\\sklearn\\gaussian_process\\kernels.py:437: ConvergenceWarning: The optimal value found for dimension 0 of parameter k2__length_scale is close to the specified upper bound 10.0. Increasing the bound and calling fit again may find a better value.\n",
      "  ConvergenceWarning,\n"
     ]
    },
    {
     "name": "stdout",
     "output_type": "stream",
     "text": [
      "Model predictions with MC population...\n",
      "Pf_ref: None Pf_SuMo: 0.000191 B_sumo: 3.552 CoV_SuMo: 0.072\n",
      " \n",
      "Training model with 87 samples..\n"
     ]
    },
    {
     "name": "stderr",
     "output_type": "stream",
     "text": [
      "C:\\Users\\Administrator\\anaconda3\\envs\\surrogate\\lib\\site-packages\\sklearn\\gaussian_process\\kernels.py:437: ConvergenceWarning: The optimal value found for dimension 0 of parameter k2__length_scale is close to the specified upper bound 10.0. Increasing the bound and calling fit again may find a better value.\n",
      "  ConvergenceWarning,\n"
     ]
    },
    {
     "name": "stdout",
     "output_type": "stream",
     "text": [
      "Model predictions with MC population...\n",
      "Pf_ref: None Pf_SuMo: 0.000194 B_sumo: 3.548 CoV_SuMo: 0.072\n",
      " \n",
      "Training model with 88 samples..\n"
     ]
    },
    {
     "name": "stderr",
     "output_type": "stream",
     "text": [
      "C:\\Users\\Administrator\\anaconda3\\envs\\surrogate\\lib\\site-packages\\sklearn\\gaussian_process\\kernels.py:437: ConvergenceWarning: The optimal value found for dimension 0 of parameter k2__length_scale is close to the specified upper bound 10.0. Increasing the bound and calling fit again may find a better value.\n",
      "  ConvergenceWarning,\n"
     ]
    },
    {
     "name": "stdout",
     "output_type": "stream",
     "text": [
      "Model predictions with MC population...\n",
      "Pf_ref: None Pf_SuMo: 0.00015 B_sumo: 3.615 CoV_SuMo: 0.082\n",
      " \n",
      "Training model with 89 samples..\n"
     ]
    },
    {
     "name": "stderr",
     "output_type": "stream",
     "text": [
      "C:\\Users\\Administrator\\anaconda3\\envs\\surrogate\\lib\\site-packages\\sklearn\\gaussian_process\\kernels.py:437: ConvergenceWarning: The optimal value found for dimension 0 of parameter k2__length_scale is close to the specified upper bound 10.0. Increasing the bound and calling fit again may find a better value.\n",
      "  ConvergenceWarning,\n"
     ]
    },
    {
     "name": "stdout",
     "output_type": "stream",
     "text": [
      "Model predictions with MC population...\n",
      "Pf_ref: None Pf_SuMo: 0.000127 B_sumo: 3.658 CoV_SuMo: 0.089\n",
      " \n",
      "Training model with 90 samples..\n"
     ]
    },
    {
     "name": "stderr",
     "output_type": "stream",
     "text": [
      "C:\\Users\\Administrator\\anaconda3\\envs\\surrogate\\lib\\site-packages\\sklearn\\gaussian_process\\kernels.py:437: ConvergenceWarning: The optimal value found for dimension 0 of parameter k2__length_scale is close to the specified upper bound 10.0. Increasing the bound and calling fit again may find a better value.\n",
      "  ConvergenceWarning,\n"
     ]
    },
    {
     "name": "stdout",
     "output_type": "stream",
     "text": [
      "Model predictions with MC population...\n",
      "Pf_ref: None Pf_SuMo: 9.4e-05 B_sumo: 3.735 CoV_SuMo: 0.103\n",
      " \n",
      "Training model with 91 samples..\n"
     ]
    },
    {
     "name": "stderr",
     "output_type": "stream",
     "text": [
      "C:\\Users\\Administrator\\anaconda3\\envs\\surrogate\\lib\\site-packages\\sklearn\\gaussian_process\\kernels.py:437: ConvergenceWarning: The optimal value found for dimension 0 of parameter k2__length_scale is close to the specified upper bound 10.0. Increasing the bound and calling fit again may find a better value.\n",
      "  ConvergenceWarning,\n"
     ]
    },
    {
     "name": "stdout",
     "output_type": "stream",
     "text": [
      "Model predictions with MC population...\n",
      "Pf_ref: None Pf_SuMo: 8.8e-05 B_sumo: 3.751 CoV_SuMo: 0.107\n",
      " \n",
      "Training model with 92 samples..\n"
     ]
    },
    {
     "name": "stderr",
     "output_type": "stream",
     "text": [
      "C:\\Users\\Administrator\\anaconda3\\envs\\surrogate\\lib\\site-packages\\sklearn\\gaussian_process\\kernels.py:437: ConvergenceWarning: The optimal value found for dimension 0 of parameter k2__length_scale is close to the specified upper bound 10.0. Increasing the bound and calling fit again may find a better value.\n",
      "  ConvergenceWarning,\n"
     ]
    },
    {
     "name": "stdout",
     "output_type": "stream",
     "text": [
      "Model predictions with MC population...\n",
      "Pf_ref: None Pf_SuMo: 5.5e-05 B_sumo: 3.867 CoV_SuMo: 0.135\n",
      " \n",
      "Training model with 93 samples..\n"
     ]
    },
    {
     "name": "stderr",
     "output_type": "stream",
     "text": [
      "C:\\Users\\Administrator\\anaconda3\\envs\\surrogate\\lib\\site-packages\\sklearn\\gaussian_process\\kernels.py:437: ConvergenceWarning: The optimal value found for dimension 0 of parameter k2__length_scale is close to the specified upper bound 10.0. Increasing the bound and calling fit again may find a better value.\n",
      "  ConvergenceWarning,\n"
     ]
    },
    {
     "name": "stdout",
     "output_type": "stream",
     "text": [
      "Model predictions with MC population...\n",
      "Pf_ref: None Pf_SuMo: 4.8e-05 B_sumo: 3.901 CoV_SuMo: 0.144\n",
      " \n",
      "Training model with 94 samples..\n"
     ]
    },
    {
     "name": "stderr",
     "output_type": "stream",
     "text": [
      "C:\\Users\\Administrator\\anaconda3\\envs\\surrogate\\lib\\site-packages\\sklearn\\gaussian_process\\kernels.py:437: ConvergenceWarning: The optimal value found for dimension 0 of parameter k2__length_scale is close to the specified upper bound 10.0. Increasing the bound and calling fit again may find a better value.\n",
      "  ConvergenceWarning,\n"
     ]
    },
    {
     "name": "stdout",
     "output_type": "stream",
     "text": [
      "Model predictions with MC population...\n",
      "Pf_ref: None Pf_SuMo: 3.8e-05 B_sumo: 3.957 CoV_SuMo: 0.162\n",
      " \n",
      "Training model with 95 samples..\n"
     ]
    },
    {
     "name": "stderr",
     "output_type": "stream",
     "text": [
      "C:\\Users\\Administrator\\anaconda3\\envs\\surrogate\\lib\\site-packages\\sklearn\\gaussian_process\\kernels.py:437: ConvergenceWarning: The optimal value found for dimension 0 of parameter k2__length_scale is close to the specified upper bound 10.0. Increasing the bound and calling fit again may find a better value.\n",
      "  ConvergenceWarning,\n"
     ]
    },
    {
     "name": "stdout",
     "output_type": "stream",
     "text": [
      "Model predictions with MC population...\n",
      "Pf_ref: None Pf_SuMo: 3.6e-05 B_sumo: 3.970 CoV_SuMo: 0.167\n",
      " \n",
      "Training model with 96 samples..\n"
     ]
    },
    {
     "name": "stderr",
     "output_type": "stream",
     "text": [
      "C:\\Users\\Administrator\\anaconda3\\envs\\surrogate\\lib\\site-packages\\sklearn\\gaussian_process\\kernels.py:437: ConvergenceWarning: The optimal value found for dimension 0 of parameter k2__length_scale is close to the specified upper bound 10.0. Increasing the bound and calling fit again may find a better value.\n",
      "  ConvergenceWarning,\n"
     ]
    },
    {
     "name": "stdout",
     "output_type": "stream",
     "text": [
      "Model predictions with MC population...\n",
      "Pf_ref: None Pf_SuMo: 4.5e-05 B_sumo: 3.916 CoV_SuMo: 0.149\n",
      " \n",
      "Training model with 97 samples..\n"
     ]
    },
    {
     "name": "stderr",
     "output_type": "stream",
     "text": [
      "C:\\Users\\Administrator\\anaconda3\\envs\\surrogate\\lib\\site-packages\\sklearn\\gaussian_process\\kernels.py:437: ConvergenceWarning: The optimal value found for dimension 0 of parameter k2__length_scale is close to the specified upper bound 10.0. Increasing the bound and calling fit again may find a better value.\n",
      "  ConvergenceWarning,\n"
     ]
    },
    {
     "name": "stdout",
     "output_type": "stream",
     "text": [
      "Model predictions with MC population...\n",
      "Pf_ref: None Pf_SuMo: 3.2e-05 B_sumo: 3.998 CoV_SuMo: 0.177\n",
      " \n",
      "Training model with 98 samples..\n"
     ]
    },
    {
     "name": "stderr",
     "output_type": "stream",
     "text": [
      "C:\\Users\\Administrator\\anaconda3\\envs\\surrogate\\lib\\site-packages\\sklearn\\gaussian_process\\kernels.py:437: ConvergenceWarning: The optimal value found for dimension 0 of parameter k2__length_scale is close to the specified upper bound 10.0. Increasing the bound and calling fit again may find a better value.\n",
      "  ConvergenceWarning,\n"
     ]
    },
    {
     "name": "stdout",
     "output_type": "stream",
     "text": [
      "Model predictions with MC population...\n",
      "Pf_ref: None Pf_SuMo: 3.3e-05 B_sumo: 3.990 CoV_SuMo: 0.174\n",
      " \n",
      "Training model with 99 samples..\n"
     ]
    },
    {
     "name": "stderr",
     "output_type": "stream",
     "text": [
      "C:\\Users\\Administrator\\anaconda3\\envs\\surrogate\\lib\\site-packages\\sklearn\\gaussian_process\\kernels.py:437: ConvergenceWarning: The optimal value found for dimension 0 of parameter k2__length_scale is close to the specified upper bound 10.0. Increasing the bound and calling fit again may find a better value.\n",
      "  ConvergenceWarning,\n"
     ]
    },
    {
     "name": "stdout",
     "output_type": "stream",
     "text": [
      "Model predictions with MC population...\n",
      "Pf_ref: None Pf_SuMo: 4.5e-05 B_sumo: 3.916 CoV_SuMo: 0.149\n",
      " \n",
      "Training model with 100 samples..\n"
     ]
    },
    {
     "name": "stderr",
     "output_type": "stream",
     "text": [
      "C:\\Users\\Administrator\\anaconda3\\envs\\surrogate\\lib\\site-packages\\sklearn\\gaussian_process\\kernels.py:437: ConvergenceWarning: The optimal value found for dimension 0 of parameter k2__length_scale is close to the specified upper bound 10.0. Increasing the bound and calling fit again may find a better value.\n",
      "  ConvergenceWarning,\n"
     ]
    },
    {
     "name": "stdout",
     "output_type": "stream",
     "text": [
      "Model predictions with MC population...\n",
      "Pf_ref: None Pf_SuMo: 3.2e-05 B_sumo: 3.998 CoV_SuMo: 0.177\n",
      " \n",
      "Training model with 101 samples..\n"
     ]
    },
    {
     "name": "stderr",
     "output_type": "stream",
     "text": [
      "C:\\Users\\Administrator\\anaconda3\\envs\\surrogate\\lib\\site-packages\\sklearn\\gaussian_process\\kernels.py:437: ConvergenceWarning: The optimal value found for dimension 0 of parameter k2__length_scale is close to the specified upper bound 10.0. Increasing the bound and calling fit again may find a better value.\n",
      "  ConvergenceWarning,\n"
     ]
    },
    {
     "name": "stdout",
     "output_type": "stream",
     "text": [
      "Model predictions with MC population...\n",
      "Pf_ref: None Pf_SuMo: 3.5e-05 B_sumo: 3.976 CoV_SuMo: 0.169\n",
      " \n",
      "Training model with 102 samples..\n"
     ]
    },
    {
     "name": "stderr",
     "output_type": "stream",
     "text": [
      "C:\\Users\\Administrator\\anaconda3\\envs\\surrogate\\lib\\site-packages\\sklearn\\gaussian_process\\kernels.py:437: ConvergenceWarning: The optimal value found for dimension 0 of parameter k2__length_scale is close to the specified upper bound 10.0. Increasing the bound and calling fit again may find a better value.\n",
      "  ConvergenceWarning,\n"
     ]
    },
    {
     "name": "stdout",
     "output_type": "stream",
     "text": [
      "Model predictions with MC population...\n",
      "Pf_ref: None Pf_SuMo: 3.4e-05 B_sumo: 3.983 CoV_SuMo: 0.172\n",
      " \n",
      "Training model with 103 samples..\n"
     ]
    },
    {
     "name": "stderr",
     "output_type": "stream",
     "text": [
      "C:\\Users\\Administrator\\anaconda3\\envs\\surrogate\\lib\\site-packages\\sklearn\\gaussian_process\\kernels.py:437: ConvergenceWarning: The optimal value found for dimension 0 of parameter k2__length_scale is close to the specified upper bound 10.0. Increasing the bound and calling fit again may find a better value.\n",
      "  ConvergenceWarning,\n"
     ]
    },
    {
     "name": "stdout",
     "output_type": "stream",
     "text": [
      "Model predictions with MC population...\n",
      "Pf_ref: None Pf_SuMo: 2.5e-05 B_sumo: 4.056 CoV_SuMo: 0.200\n",
      " \n",
      "Training model with 104 samples..\n"
     ]
    },
    {
     "name": "stderr",
     "output_type": "stream",
     "text": [
      "C:\\Users\\Administrator\\anaconda3\\envs\\surrogate\\lib\\site-packages\\sklearn\\gaussian_process\\kernels.py:437: ConvergenceWarning: The optimal value found for dimension 0 of parameter k2__length_scale is close to the specified upper bound 10.0. Increasing the bound and calling fit again may find a better value.\n",
      "  ConvergenceWarning,\n"
     ]
    },
    {
     "name": "stdout",
     "output_type": "stream",
     "text": [
      "Model predictions with MC population...\n",
      "Pf_ref: None Pf_SuMo: 2.2e-05 B_sumo: 4.085 CoV_SuMo: 0.213\n",
      " \n",
      "Training model with 105 samples..\n"
     ]
    },
    {
     "name": "stderr",
     "output_type": "stream",
     "text": [
      "C:\\Users\\Administrator\\anaconda3\\envs\\surrogate\\lib\\site-packages\\sklearn\\gaussian_process\\kernels.py:437: ConvergenceWarning: The optimal value found for dimension 0 of parameter k2__length_scale is close to the specified upper bound 10.0. Increasing the bound and calling fit again may find a better value.\n",
      "  ConvergenceWarning,\n"
     ]
    },
    {
     "name": "stdout",
     "output_type": "stream",
     "text": [
      "Model predictions with MC population...\n",
      "Pf_ref: None Pf_SuMo: 2.2e-05 B_sumo: 4.085 CoV_SuMo: 0.213\n",
      " \n",
      "Training model with 106 samples..\n"
     ]
    },
    {
     "name": "stderr",
     "output_type": "stream",
     "text": [
      "C:\\Users\\Administrator\\anaconda3\\envs\\surrogate\\lib\\site-packages\\sklearn\\gaussian_process\\kernels.py:437: ConvergenceWarning: The optimal value found for dimension 0 of parameter k2__length_scale is close to the specified upper bound 10.0. Increasing the bound and calling fit again may find a better value.\n",
      "  ConvergenceWarning,\n"
     ]
    },
    {
     "name": "stdout",
     "output_type": "stream",
     "text": [
      "Model predictions with MC population...\n",
      "Pf_ref: None Pf_SuMo: 1.6e-05 B_sumo: 4.159 CoV_SuMo: 0.250\n",
      " \n",
      "Training model with 107 samples..\n"
     ]
    },
    {
     "name": "stderr",
     "output_type": "stream",
     "text": [
      "C:\\Users\\Administrator\\anaconda3\\envs\\surrogate\\lib\\site-packages\\sklearn\\gaussian_process\\kernels.py:437: ConvergenceWarning: The optimal value found for dimension 0 of parameter k2__length_scale is close to the specified upper bound 10.0. Increasing the bound and calling fit again may find a better value.\n",
      "  ConvergenceWarning,\n"
     ]
    },
    {
     "name": "stdout",
     "output_type": "stream",
     "text": [
      "Model predictions with MC population...\n",
      "Pf_ref: None Pf_SuMo: 1.3e-05 B_sumo: 4.206 CoV_SuMo: 0.277\n",
      " \n",
      "Training model with 108 samples..\n"
     ]
    },
    {
     "name": "stderr",
     "output_type": "stream",
     "text": [
      "C:\\Users\\Administrator\\anaconda3\\envs\\surrogate\\lib\\site-packages\\sklearn\\gaussian_process\\kernels.py:437: ConvergenceWarning: The optimal value found for dimension 0 of parameter k2__length_scale is close to the specified upper bound 10.0. Increasing the bound and calling fit again may find a better value.\n",
      "  ConvergenceWarning,\n"
     ]
    },
    {
     "name": "stdout",
     "output_type": "stream",
     "text": [
      "Model predictions with MC population...\n",
      "Pf_ref: None Pf_SuMo: 1.9e-05 B_sumo: 4.119 CoV_SuMo: 0.229\n",
      " \n",
      "Training model with 109 samples..\n"
     ]
    },
    {
     "name": "stderr",
     "output_type": "stream",
     "text": [
      "C:\\Users\\Administrator\\anaconda3\\envs\\surrogate\\lib\\site-packages\\sklearn\\gaussian_process\\kernels.py:437: ConvergenceWarning: The optimal value found for dimension 0 of parameter k2__length_scale is close to the specified upper bound 10.0. Increasing the bound and calling fit again may find a better value.\n",
      "  ConvergenceWarning,\n"
     ]
    },
    {
     "name": "stdout",
     "output_type": "stream",
     "text": [
      "Model predictions with MC population...\n",
      "Pf_ref: None Pf_SuMo: 1e-05 B_sumo: 4.265 CoV_SuMo: 0.316\n",
      " \n",
      "Training model with 110 samples..\n"
     ]
    },
    {
     "name": "stderr",
     "output_type": "stream",
     "text": [
      "C:\\Users\\Administrator\\anaconda3\\envs\\surrogate\\lib\\site-packages\\sklearn\\gaussian_process\\kernels.py:437: ConvergenceWarning: The optimal value found for dimension 0 of parameter k2__length_scale is close to the specified upper bound 10.0. Increasing the bound and calling fit again may find a better value.\n",
      "  ConvergenceWarning,\n"
     ]
    },
    {
     "name": "stdout",
     "output_type": "stream",
     "text": [
      "Model predictions with MC population...\n",
      "Pf_ref: None Pf_SuMo: 1e-05 B_sumo: 4.265 CoV_SuMo: 0.316\n",
      " \n",
      "Training model with 111 samples..\n"
     ]
    },
    {
     "name": "stderr",
     "output_type": "stream",
     "text": [
      "C:\\Users\\Administrator\\anaconda3\\envs\\surrogate\\lib\\site-packages\\sklearn\\gaussian_process\\kernels.py:437: ConvergenceWarning: The optimal value found for dimension 0 of parameter k2__length_scale is close to the specified upper bound 10.0. Increasing the bound and calling fit again may find a better value.\n",
      "  ConvergenceWarning,\n"
     ]
    },
    {
     "name": "stdout",
     "output_type": "stream",
     "text": [
      "Model predictions with MC population...\n",
      "Pf_ref: None Pf_SuMo: 1.9e-05 B_sumo: 4.119 CoV_SuMo: 0.229\n",
      " \n",
      "Training model with 112 samples..\n"
     ]
    },
    {
     "name": "stderr",
     "output_type": "stream",
     "text": [
      "C:\\Users\\Administrator\\anaconda3\\envs\\surrogate\\lib\\site-packages\\sklearn\\gaussian_process\\kernels.py:437: ConvergenceWarning: The optimal value found for dimension 0 of parameter k2__length_scale is close to the specified upper bound 10.0. Increasing the bound and calling fit again may find a better value.\n",
      "  ConvergenceWarning,\n"
     ]
    },
    {
     "name": "stdout",
     "output_type": "stream",
     "text": [
      "Model predictions with MC population...\n",
      "Pf_ref: None Pf_SuMo: 1.9e-05 B_sumo: 4.119 CoV_SuMo: 0.229\n",
      " \n",
      "Training model with 113 samples..\n"
     ]
    },
    {
     "name": "stderr",
     "output_type": "stream",
     "text": [
      "C:\\Users\\Administrator\\anaconda3\\envs\\surrogate\\lib\\site-packages\\sklearn\\gaussian_process\\kernels.py:437: ConvergenceWarning: The optimal value found for dimension 0 of parameter k2__length_scale is close to the specified upper bound 10.0. Increasing the bound and calling fit again may find a better value.\n",
      "  ConvergenceWarning,\n"
     ]
    },
    {
     "name": "stdout",
     "output_type": "stream",
     "text": [
      "Model predictions with MC population...\n",
      "Pf_ref: None Pf_SuMo: 1.6e-05 B_sumo: 4.159 CoV_SuMo: 0.250\n",
      " \n",
      "Training model with 114 samples..\n"
     ]
    },
    {
     "name": "stderr",
     "output_type": "stream",
     "text": [
      "C:\\Users\\Administrator\\anaconda3\\envs\\surrogate\\lib\\site-packages\\sklearn\\gaussian_process\\kernels.py:437: ConvergenceWarning: The optimal value found for dimension 0 of parameter k2__length_scale is close to the specified upper bound 10.0. Increasing the bound and calling fit again may find a better value.\n",
      "  ConvergenceWarning,\n"
     ]
    },
    {
     "name": "stdout",
     "output_type": "stream",
     "text": [
      "Model predictions with MC population...\n",
      "Pf_ref: None Pf_SuMo: 1.4e-05 B_sumo: 4.189 CoV_SuMo: 0.267\n",
      " \n",
      "Training model with 115 samples..\n"
     ]
    },
    {
     "name": "stderr",
     "output_type": "stream",
     "text": [
      "C:\\Users\\Administrator\\anaconda3\\envs\\surrogate\\lib\\site-packages\\sklearn\\gaussian_process\\kernels.py:437: ConvergenceWarning: The optimal value found for dimension 0 of parameter k2__length_scale is close to the specified upper bound 10.0. Increasing the bound and calling fit again may find a better value.\n",
      "  ConvergenceWarning,\n"
     ]
    },
    {
     "name": "stdout",
     "output_type": "stream",
     "text": [
      "Model predictions with MC population...\n",
      "Pf_ref: None Pf_SuMo: 1.3e-05 B_sumo: 4.206 CoV_SuMo: 0.277\n",
      " \n",
      "Training model with 116 samples..\n"
     ]
    },
    {
     "name": "stderr",
     "output_type": "stream",
     "text": [
      "C:\\Users\\Administrator\\anaconda3\\envs\\surrogate\\lib\\site-packages\\sklearn\\gaussian_process\\kernels.py:437: ConvergenceWarning: The optimal value found for dimension 0 of parameter k2__length_scale is close to the specified upper bound 10.0. Increasing the bound and calling fit again may find a better value.\n",
      "  ConvergenceWarning,\n"
     ]
    },
    {
     "name": "stdout",
     "output_type": "stream",
     "text": [
      "Model predictions with MC population...\n",
      "Pf_ref: None Pf_SuMo: 2.2e-05 B_sumo: 4.085 CoV_SuMo: 0.213\n",
      " \n",
      "Training model with 117 samples..\n"
     ]
    },
    {
     "name": "stderr",
     "output_type": "stream",
     "text": [
      "C:\\Users\\Administrator\\anaconda3\\envs\\surrogate\\lib\\site-packages\\sklearn\\gaussian_process\\kernels.py:437: ConvergenceWarning: The optimal value found for dimension 0 of parameter k2__length_scale is close to the specified upper bound 10.0. Increasing the bound and calling fit again may find a better value.\n",
      "  ConvergenceWarning,\n"
     ]
    },
    {
     "name": "stdout",
     "output_type": "stream",
     "text": [
      "Model predictions with MC population...\n",
      "Pf_ref: None Pf_SuMo: 2.1e-05 B_sumo: 4.096 CoV_SuMo: 0.218\n",
      " \n",
      "Training model with 118 samples..\n"
     ]
    },
    {
     "name": "stderr",
     "output_type": "stream",
     "text": [
      "C:\\Users\\Administrator\\anaconda3\\envs\\surrogate\\lib\\site-packages\\sklearn\\gaussian_process\\kernels.py:437: ConvergenceWarning: The optimal value found for dimension 0 of parameter k2__length_scale is close to the specified upper bound 10.0. Increasing the bound and calling fit again may find a better value.\n",
      "  ConvergenceWarning,\n"
     ]
    },
    {
     "name": "stdout",
     "output_type": "stream",
     "text": [
      "Model predictions with MC population...\n",
      "Pf_ref: None Pf_SuMo: 2.5e-05 B_sumo: 4.056 CoV_SuMo: 0.200\n",
      " \n",
      "Training model with 119 samples..\n"
     ]
    },
    {
     "name": "stderr",
     "output_type": "stream",
     "text": [
      "C:\\Users\\Administrator\\anaconda3\\envs\\surrogate\\lib\\site-packages\\sklearn\\gaussian_process\\kernels.py:437: ConvergenceWarning: The optimal value found for dimension 0 of parameter k2__length_scale is close to the specified upper bound 10.0. Increasing the bound and calling fit again may find a better value.\n",
      "  ConvergenceWarning,\n"
     ]
    },
    {
     "name": "stdout",
     "output_type": "stream",
     "text": [
      "Model predictions with MC population...\n",
      "Pf_ref: None Pf_SuMo: 2.1e-05 B_sumo: 4.096 CoV_SuMo: 0.218\n",
      " \n",
      "Training model with 120 samples..\n"
     ]
    },
    {
     "name": "stderr",
     "output_type": "stream",
     "text": [
      "C:\\Users\\Administrator\\anaconda3\\envs\\surrogate\\lib\\site-packages\\sklearn\\gaussian_process\\kernels.py:437: ConvergenceWarning: The optimal value found for dimension 0 of parameter k2__length_scale is close to the specified upper bound 10.0. Increasing the bound and calling fit again may find a better value.\n",
      "  ConvergenceWarning,\n"
     ]
    },
    {
     "name": "stdout",
     "output_type": "stream",
     "text": [
      "Model predictions with MC population...\n",
      "Pf_ref: None Pf_SuMo: 1.6e-05 B_sumo: 4.159 CoV_SuMo: 0.250\n",
      " \n",
      "Training model with 121 samples..\n"
     ]
    },
    {
     "name": "stderr",
     "output_type": "stream",
     "text": [
      "C:\\Users\\Administrator\\anaconda3\\envs\\surrogate\\lib\\site-packages\\sklearn\\gaussian_process\\kernels.py:437: ConvergenceWarning: The optimal value found for dimension 0 of parameter k2__length_scale is close to the specified upper bound 10.0. Increasing the bound and calling fit again may find a better value.\n",
      "  ConvergenceWarning,\n"
     ]
    },
    {
     "name": "stdout",
     "output_type": "stream",
     "text": [
      "Model predictions with MC population...\n",
      "Pf_ref: None Pf_SuMo: 1.8e-05 B_sumo: 4.132 CoV_SuMo: 0.236\n",
      " \n",
      "Training model with 122 samples..\n"
     ]
    },
    {
     "name": "stderr",
     "output_type": "stream",
     "text": [
      "C:\\Users\\Administrator\\anaconda3\\envs\\surrogate\\lib\\site-packages\\sklearn\\gaussian_process\\kernels.py:437: ConvergenceWarning: The optimal value found for dimension 0 of parameter k2__length_scale is close to the specified upper bound 10.0. Increasing the bound and calling fit again may find a better value.\n",
      "  ConvergenceWarning,\n"
     ]
    },
    {
     "name": "stdout",
     "output_type": "stream",
     "text": [
      "Model predictions with MC population...\n",
      "Pf_ref: None Pf_SuMo: 2.8e-05 B_sumo: 4.029 CoV_SuMo: 0.189\n",
      " \n",
      "Training model with 123 samples..\n"
     ]
    },
    {
     "name": "stderr",
     "output_type": "stream",
     "text": [
      "C:\\Users\\Administrator\\anaconda3\\envs\\surrogate\\lib\\site-packages\\sklearn\\gaussian_process\\kernels.py:437: ConvergenceWarning: The optimal value found for dimension 0 of parameter k2__length_scale is close to the specified upper bound 10.0. Increasing the bound and calling fit again may find a better value.\n",
      "  ConvergenceWarning,\n"
     ]
    },
    {
     "name": "stdout",
     "output_type": "stream",
     "text": [
      "Model predictions with MC population...\n",
      "Pf_ref: None Pf_SuMo: 2.6e-05 B_sumo: 4.046 CoV_SuMo: 0.196\n",
      " \n",
      "Training model with 124 samples..\n"
     ]
    },
    {
     "name": "stderr",
     "output_type": "stream",
     "text": [
      "C:\\Users\\Administrator\\anaconda3\\envs\\surrogate\\lib\\site-packages\\sklearn\\gaussian_process\\kernels.py:437: ConvergenceWarning: The optimal value found for dimension 0 of parameter k2__length_scale is close to the specified upper bound 10.0. Increasing the bound and calling fit again may find a better value.\n",
      "  ConvergenceWarning,\n"
     ]
    },
    {
     "name": "stdout",
     "output_type": "stream",
     "text": [
      "Model predictions with MC population...\n",
      "Pf_ref: None Pf_SuMo: 2.4e-05 B_sumo: 4.065 CoV_SuMo: 0.204\n",
      " \n",
      "Training model with 125 samples..\n"
     ]
    },
    {
     "name": "stderr",
     "output_type": "stream",
     "text": [
      "C:\\Users\\Administrator\\anaconda3\\envs\\surrogate\\lib\\site-packages\\sklearn\\gaussian_process\\kernels.py:437: ConvergenceWarning: The optimal value found for dimension 0 of parameter k2__length_scale is close to the specified upper bound 10.0. Increasing the bound and calling fit again may find a better value.\n",
      "  ConvergenceWarning,\n"
     ]
    },
    {
     "name": "stdout",
     "output_type": "stream",
     "text": [
      "Model predictions with MC population...\n",
      "Pf_ref: None Pf_SuMo: 2.8e-05 B_sumo: 4.029 CoV_SuMo: 0.189\n",
      " \n",
      "Training model with 126 samples..\n"
     ]
    },
    {
     "name": "stderr",
     "output_type": "stream",
     "text": [
      "C:\\Users\\Administrator\\anaconda3\\envs\\surrogate\\lib\\site-packages\\sklearn\\gaussian_process\\kernels.py:437: ConvergenceWarning: The optimal value found for dimension 0 of parameter k2__length_scale is close to the specified upper bound 10.0. Increasing the bound and calling fit again may find a better value.\n",
      "  ConvergenceWarning,\n"
     ]
    },
    {
     "name": "stdout",
     "output_type": "stream",
     "text": [
      "Model predictions with MC population...\n",
      "Pf_ref: None Pf_SuMo: 4.1e-05 B_sumo: 3.938 CoV_SuMo: 0.156\n",
      " \n",
      "Training model with 127 samples..\n"
     ]
    },
    {
     "name": "stderr",
     "output_type": "stream",
     "text": [
      "C:\\Users\\Administrator\\anaconda3\\envs\\surrogate\\lib\\site-packages\\sklearn\\gaussian_process\\kernels.py:437: ConvergenceWarning: The optimal value found for dimension 0 of parameter k2__length_scale is close to the specified upper bound 10.0. Increasing the bound and calling fit again may find a better value.\n",
      "  ConvergenceWarning,\n"
     ]
    },
    {
     "name": "stdout",
     "output_type": "stream",
     "text": [
      "Model predictions with MC population...\n",
      "Pf_ref: None Pf_SuMo: 4.4e-05 B_sumo: 3.921 CoV_SuMo: 0.151\n",
      " \n",
      "Training model with 128 samples..\n"
     ]
    },
    {
     "name": "stderr",
     "output_type": "stream",
     "text": [
      "C:\\Users\\Administrator\\anaconda3\\envs\\surrogate\\lib\\site-packages\\sklearn\\gaussian_process\\kernels.py:437: ConvergenceWarning: The optimal value found for dimension 0 of parameter k2__length_scale is close to the specified upper bound 10.0. Increasing the bound and calling fit again may find a better value.\n",
      "  ConvergenceWarning,\n"
     ]
    },
    {
     "name": "stdout",
     "output_type": "stream",
     "text": [
      "Model predictions with MC population...\n",
      "Pf_ref: None Pf_SuMo: 2.3e-05 B_sumo: 4.075 CoV_SuMo: 0.208\n",
      " \n",
      "Training model with 129 samples..\n"
     ]
    },
    {
     "name": "stderr",
     "output_type": "stream",
     "text": [
      "C:\\Users\\Administrator\\anaconda3\\envs\\surrogate\\lib\\site-packages\\sklearn\\gaussian_process\\kernels.py:437: ConvergenceWarning: The optimal value found for dimension 0 of parameter k2__length_scale is close to the specified upper bound 10.0. Increasing the bound and calling fit again may find a better value.\n",
      "  ConvergenceWarning,\n"
     ]
    },
    {
     "name": "stdout",
     "output_type": "stream",
     "text": [
      "Model predictions with MC population...\n",
      "Pf_ref: None Pf_SuMo: 3.9e-05 B_sumo: 3.950 CoV_SuMo: 0.160\n",
      " \n",
      "Training model with 130 samples..\n"
     ]
    },
    {
     "name": "stderr",
     "output_type": "stream",
     "text": [
      "C:\\Users\\Administrator\\anaconda3\\envs\\surrogate\\lib\\site-packages\\sklearn\\gaussian_process\\kernels.py:437: ConvergenceWarning: The optimal value found for dimension 0 of parameter k2__length_scale is close to the specified upper bound 10.0. Increasing the bound and calling fit again may find a better value.\n",
      "  ConvergenceWarning,\n"
     ]
    },
    {
     "name": "stdout",
     "output_type": "stream",
     "text": [
      "Model predictions with MC population...\n",
      "Pf_ref: None Pf_SuMo: 3.3e-05 B_sumo: 3.990 CoV_SuMo: 0.174\n",
      " \n",
      "Training model with 131 samples..\n"
     ]
    },
    {
     "name": "stderr",
     "output_type": "stream",
     "text": [
      "C:\\Users\\Administrator\\anaconda3\\envs\\surrogate\\lib\\site-packages\\sklearn\\gaussian_process\\kernels.py:437: ConvergenceWarning: The optimal value found for dimension 0 of parameter k2__length_scale is close to the specified upper bound 10.0. Increasing the bound and calling fit again may find a better value.\n",
      "  ConvergenceWarning,\n"
     ]
    },
    {
     "name": "stdout",
     "output_type": "stream",
     "text": [
      "Model predictions with MC population...\n",
      "Pf_ref: None Pf_SuMo: 2.6e-05 B_sumo: 4.046 CoV_SuMo: 0.196\n",
      " \n",
      "Training model with 132 samples..\n"
     ]
    },
    {
     "name": "stderr",
     "output_type": "stream",
     "text": [
      "C:\\Users\\Administrator\\anaconda3\\envs\\surrogate\\lib\\site-packages\\sklearn\\gaussian_process\\kernels.py:437: ConvergenceWarning: The optimal value found for dimension 0 of parameter k2__length_scale is close to the specified upper bound 10.0. Increasing the bound and calling fit again may find a better value.\n",
      "  ConvergenceWarning,\n"
     ]
    },
    {
     "name": "stdout",
     "output_type": "stream",
     "text": [
      "Model predictions with MC population...\n",
      "Pf_ref: None Pf_SuMo: 3.6e-05 B_sumo: 3.970 CoV_SuMo: 0.167\n",
      " \n",
      "Training model with 133 samples..\n"
     ]
    },
    {
     "name": "stderr",
     "output_type": "stream",
     "text": [
      "C:\\Users\\Administrator\\anaconda3\\envs\\surrogate\\lib\\site-packages\\sklearn\\gaussian_process\\kernels.py:437: ConvergenceWarning: The optimal value found for dimension 0 of parameter k2__length_scale is close to the specified upper bound 10.0. Increasing the bound and calling fit again may find a better value.\n",
      "  ConvergenceWarning,\n"
     ]
    },
    {
     "name": "stdout",
     "output_type": "stream",
     "text": [
      "Model predictions with MC population...\n",
      "Pf_ref: None Pf_SuMo: 5.5e-05 B_sumo: 3.867 CoV_SuMo: 0.135\n",
      " \n",
      "Training model with 134 samples..\n"
     ]
    },
    {
     "name": "stderr",
     "output_type": "stream",
     "text": [
      "C:\\Users\\Administrator\\anaconda3\\envs\\surrogate\\lib\\site-packages\\sklearn\\gaussian_process\\kernels.py:437: ConvergenceWarning: The optimal value found for dimension 0 of parameter k2__length_scale is close to the specified upper bound 10.0. Increasing the bound and calling fit again may find a better value.\n",
      "  ConvergenceWarning,\n"
     ]
    },
    {
     "name": "stdout",
     "output_type": "stream",
     "text": [
      "Model predictions with MC population...\n",
      "Pf_ref: None Pf_SuMo: 4.8e-05 B_sumo: 3.901 CoV_SuMo: 0.144\n",
      " \n",
      "Training model with 135 samples..\n"
     ]
    },
    {
     "name": "stderr",
     "output_type": "stream",
     "text": [
      "C:\\Users\\Administrator\\anaconda3\\envs\\surrogate\\lib\\site-packages\\sklearn\\gaussian_process\\kernels.py:437: ConvergenceWarning: The optimal value found for dimension 0 of parameter k2__length_scale is close to the specified upper bound 10.0. Increasing the bound and calling fit again may find a better value.\n",
      "  ConvergenceWarning,\n"
     ]
    },
    {
     "name": "stdout",
     "output_type": "stream",
     "text": [
      "Model predictions with MC population...\n",
      "Pf_ref: None Pf_SuMo: 5.9e-05 B_sumo: 3.850 CoV_SuMo: 0.130\n",
      " \n",
      "Training model with 136 samples..\n"
     ]
    },
    {
     "name": "stderr",
     "output_type": "stream",
     "text": [
      "C:\\Users\\Administrator\\anaconda3\\envs\\surrogate\\lib\\site-packages\\sklearn\\gaussian_process\\kernels.py:437: ConvergenceWarning: The optimal value found for dimension 0 of parameter k2__length_scale is close to the specified upper bound 10.0. Increasing the bound and calling fit again may find a better value.\n",
      "  ConvergenceWarning,\n"
     ]
    },
    {
     "name": "stdout",
     "output_type": "stream",
     "text": [
      "Model predictions with MC population...\n",
      "Pf_ref: None Pf_SuMo: 5.3e-05 B_sumo: 3.876 CoV_SuMo: 0.137\n",
      " \n",
      "Training model with 137 samples..\n"
     ]
    },
    {
     "name": "stderr",
     "output_type": "stream",
     "text": [
      "C:\\Users\\Administrator\\anaconda3\\envs\\surrogate\\lib\\site-packages\\sklearn\\gaussian_process\\kernels.py:437: ConvergenceWarning: The optimal value found for dimension 0 of parameter k2__length_scale is close to the specified upper bound 10.0. Increasing the bound and calling fit again may find a better value.\n",
      "  ConvergenceWarning,\n"
     ]
    },
    {
     "name": "stdout",
     "output_type": "stream",
     "text": [
      "Model predictions with MC population...\n",
      "Pf_ref: None Pf_SuMo: 5.6e-05 B_sumo: 3.863 CoV_SuMo: 0.134\n",
      " \n",
      "Training model with 138 samples..\n"
     ]
    },
    {
     "name": "stderr",
     "output_type": "stream",
     "text": [
      "C:\\Users\\Administrator\\anaconda3\\envs\\surrogate\\lib\\site-packages\\sklearn\\gaussian_process\\kernels.py:437: ConvergenceWarning: The optimal value found for dimension 0 of parameter k2__length_scale is close to the specified upper bound 10.0. Increasing the bound and calling fit again may find a better value.\n",
      "  ConvergenceWarning,\n"
     ]
    },
    {
     "name": "stdout",
     "output_type": "stream",
     "text": [
      "Model predictions with MC population...\n",
      "Pf_ref: None Pf_SuMo: 6.2e-05 B_sumo: 3.838 CoV_SuMo: 0.127\n",
      " \n",
      "Training model with 139 samples..\n"
     ]
    },
    {
     "name": "stderr",
     "output_type": "stream",
     "text": [
      "C:\\Users\\Administrator\\anaconda3\\envs\\surrogate\\lib\\site-packages\\sklearn\\gaussian_process\\kernels.py:437: ConvergenceWarning: The optimal value found for dimension 0 of parameter k2__length_scale is close to the specified upper bound 10.0. Increasing the bound and calling fit again may find a better value.\n",
      "  ConvergenceWarning,\n"
     ]
    },
    {
     "name": "stdout",
     "output_type": "stream",
     "text": [
      "Model predictions with MC population...\n",
      "Pf_ref: None Pf_SuMo: 6.9e-05 B_sumo: 3.812 CoV_SuMo: 0.120\n",
      " \n",
      "Training model with 140 samples..\n"
     ]
    },
    {
     "name": "stderr",
     "output_type": "stream",
     "text": [
      "C:\\Users\\Administrator\\anaconda3\\envs\\surrogate\\lib\\site-packages\\sklearn\\gaussian_process\\kernels.py:437: ConvergenceWarning: The optimal value found for dimension 0 of parameter k2__length_scale is close to the specified upper bound 10.0. Increasing the bound and calling fit again may find a better value.\n",
      "  ConvergenceWarning,\n"
     ]
    },
    {
     "name": "stdout",
     "output_type": "stream",
     "text": [
      "Model predictions with MC population...\n",
      "Pf_ref: None Pf_SuMo: 5.8e-05 B_sumo: 3.854 CoV_SuMo: 0.131\n",
      " \n",
      "Training model with 141 samples..\n"
     ]
    },
    {
     "name": "stderr",
     "output_type": "stream",
     "text": [
      "C:\\Users\\Administrator\\anaconda3\\envs\\surrogate\\lib\\site-packages\\sklearn\\gaussian_process\\kernels.py:437: ConvergenceWarning: The optimal value found for dimension 0 of parameter k2__length_scale is close to the specified upper bound 10.0. Increasing the bound and calling fit again may find a better value.\n",
      "  ConvergenceWarning,\n"
     ]
    },
    {
     "name": "stdout",
     "output_type": "stream",
     "text": [
      "Model predictions with MC population...\n",
      "Pf_ref: None Pf_SuMo: 7.9e-05 B_sumo: 3.778 CoV_SuMo: 0.113\n",
      " \n",
      "Training model with 142 samples..\n"
     ]
    },
    {
     "name": "stderr",
     "output_type": "stream",
     "text": [
      "C:\\Users\\Administrator\\anaconda3\\envs\\surrogate\\lib\\site-packages\\sklearn\\gaussian_process\\kernels.py:437: ConvergenceWarning: The optimal value found for dimension 0 of parameter k2__length_scale is close to the specified upper bound 10.0. Increasing the bound and calling fit again may find a better value.\n",
      "  ConvergenceWarning,\n"
     ]
    },
    {
     "name": "stdout",
     "output_type": "stream",
     "text": [
      "Model predictions with MC population...\n",
      "Pf_ref: None Pf_SuMo: 6.8e-05 B_sumo: 3.815 CoV_SuMo: 0.121\n",
      " \n",
      "Training model with 143 samples..\n"
     ]
    },
    {
     "name": "stderr",
     "output_type": "stream",
     "text": [
      "C:\\Users\\Administrator\\anaconda3\\envs\\surrogate\\lib\\site-packages\\sklearn\\gaussian_process\\kernels.py:437: ConvergenceWarning: The optimal value found for dimension 0 of parameter k2__length_scale is close to the specified upper bound 10.0. Increasing the bound and calling fit again may find a better value.\n",
      "  ConvergenceWarning,\n"
     ]
    },
    {
     "name": "stdout",
     "output_type": "stream",
     "text": [
      "Model predictions with MC population...\n",
      "Pf_ref: None Pf_SuMo: 6.2e-05 B_sumo: 3.838 CoV_SuMo: 0.127\n",
      " \n",
      "Training model with 144 samples..\n"
     ]
    },
    {
     "name": "stderr",
     "output_type": "stream",
     "text": [
      "C:\\Users\\Administrator\\anaconda3\\envs\\surrogate\\lib\\site-packages\\sklearn\\gaussian_process\\kernels.py:437: ConvergenceWarning: The optimal value found for dimension 0 of parameter k2__length_scale is close to the specified upper bound 10.0. Increasing the bound and calling fit again may find a better value.\n",
      "  ConvergenceWarning,\n"
     ]
    },
    {
     "name": "stdout",
     "output_type": "stream",
     "text": [
      "Model predictions with MC population...\n",
      "Pf_ref: None Pf_SuMo: 7.4e-05 B_sumo: 3.794 CoV_SuMo: 0.116\n",
      " \n",
      "Training model with 145 samples..\n"
     ]
    },
    {
     "name": "stderr",
     "output_type": "stream",
     "text": [
      "C:\\Users\\Administrator\\anaconda3\\envs\\surrogate\\lib\\site-packages\\sklearn\\gaussian_process\\kernels.py:437: ConvergenceWarning: The optimal value found for dimension 0 of parameter k2__length_scale is close to the specified upper bound 10.0. Increasing the bound and calling fit again may find a better value.\n",
      "  ConvergenceWarning,\n"
     ]
    },
    {
     "name": "stdout",
     "output_type": "stream",
     "text": [
      "Model predictions with MC population...\n",
      "Pf_ref: None Pf_SuMo: 7.6e-05 B_sumo: 3.788 CoV_SuMo: 0.115\n",
      " \n",
      "Training model with 146 samples..\n"
     ]
    },
    {
     "name": "stderr",
     "output_type": "stream",
     "text": [
      "C:\\Users\\Administrator\\anaconda3\\envs\\surrogate\\lib\\site-packages\\sklearn\\gaussian_process\\kernels.py:437: ConvergenceWarning: The optimal value found for dimension 0 of parameter k2__length_scale is close to the specified upper bound 10.0. Increasing the bound and calling fit again may find a better value.\n",
      "  ConvergenceWarning,\n"
     ]
    },
    {
     "name": "stdout",
     "output_type": "stream",
     "text": [
      "Model predictions with MC population...\n",
      "Pf_ref: None Pf_SuMo: 7.1e-05 B_sumo: 3.805 CoV_SuMo: 0.119\n",
      " \n",
      "Training model with 147 samples..\n"
     ]
    },
    {
     "name": "stderr",
     "output_type": "stream",
     "text": [
      "C:\\Users\\Administrator\\anaconda3\\envs\\surrogate\\lib\\site-packages\\sklearn\\gaussian_process\\kernels.py:437: ConvergenceWarning: The optimal value found for dimension 0 of parameter k2__length_scale is close to the specified upper bound 10.0. Increasing the bound and calling fit again may find a better value.\n",
      "  ConvergenceWarning,\n"
     ]
    },
    {
     "name": "stdout",
     "output_type": "stream",
     "text": [
      "Model predictions with MC population...\n",
      "Pf_ref: None Pf_SuMo: 6.5e-05 B_sumo: 3.826 CoV_SuMo: 0.124\n",
      " \n",
      "Training model with 148 samples..\n"
     ]
    },
    {
     "name": "stderr",
     "output_type": "stream",
     "text": [
      "C:\\Users\\Administrator\\anaconda3\\envs\\surrogate\\lib\\site-packages\\sklearn\\gaussian_process\\kernels.py:437: ConvergenceWarning: The optimal value found for dimension 0 of parameter k2__length_scale is close to the specified upper bound 10.0. Increasing the bound and calling fit again may find a better value.\n",
      "  ConvergenceWarning,\n"
     ]
    },
    {
     "name": "stdout",
     "output_type": "stream",
     "text": [
      "Model predictions with MC population...\n",
      "Pf_ref: None Pf_SuMo: 6.2e-05 B_sumo: 3.838 CoV_SuMo: 0.127\n",
      " \n",
      "Training model with 149 samples..\n"
     ]
    },
    {
     "name": "stderr",
     "output_type": "stream",
     "text": [
      "C:\\Users\\Administrator\\anaconda3\\envs\\surrogate\\lib\\site-packages\\sklearn\\gaussian_process\\kernels.py:437: ConvergenceWarning: The optimal value found for dimension 0 of parameter k2__length_scale is close to the specified upper bound 10.0. Increasing the bound and calling fit again may find a better value.\n",
      "  ConvergenceWarning,\n"
     ]
    },
    {
     "name": "stdout",
     "output_type": "stream",
     "text": [
      "Model predictions with MC population...\n",
      "Pf_ref: None Pf_SuMo: 6.8e-05 B_sumo: 3.815 CoV_SuMo: 0.121\n",
      " \n",
      "Training model with 150 samples..\n"
     ]
    },
    {
     "name": "stderr",
     "output_type": "stream",
     "text": [
      "C:\\Users\\Administrator\\anaconda3\\envs\\surrogate\\lib\\site-packages\\sklearn\\gaussian_process\\kernels.py:437: ConvergenceWarning: The optimal value found for dimension 0 of parameter k2__length_scale is close to the specified upper bound 10.0. Increasing the bound and calling fit again may find a better value.\n",
      "  ConvergenceWarning,\n"
     ]
    },
    {
     "name": "stdout",
     "output_type": "stream",
     "text": [
      "Model predictions with MC population...\n",
      "Pf_ref: None Pf_SuMo: 6.4e-05 B_sumo: 3.830 CoV_SuMo: 0.125\n",
      " \n",
      "Experiment:  4 ########################################################\n",
      "Training model with 50 samples..\n",
      "Model predictions with MC population...\n",
      "Pf_ref: None Pf_SuMo: 0.991976 B_sumo: -2.408 CoV_SuMo: 0.000\n",
      " \n",
      "Training model with 51 samples..\n"
     ]
    },
    {
     "name": "stderr",
     "output_type": "stream",
     "text": [
      "C:\\Users\\Administrator\\anaconda3\\envs\\surrogate\\lib\\site-packages\\sklearn\\gaussian_process\\kernels.py:437: ConvergenceWarning: The optimal value found for dimension 0 of parameter k2__length_scale is close to the specified upper bound 10.0. Increasing the bound and calling fit again may find a better value.\n",
      "  ConvergenceWarning,\n"
     ]
    },
    {
     "name": "stdout",
     "output_type": "stream",
     "text": [
      "Model predictions with MC population...\n",
      "Pf_ref: None Pf_SuMo: 0.876324 B_sumo: -1.157 CoV_SuMo: 0.000\n",
      " \n",
      "Training model with 52 samples..\n"
     ]
    },
    {
     "name": "stderr",
     "output_type": "stream",
     "text": [
      "C:\\Users\\Administrator\\anaconda3\\envs\\surrogate\\lib\\site-packages\\sklearn\\gaussian_process\\kernels.py:437: ConvergenceWarning: The optimal value found for dimension 0 of parameter k2__length_scale is close to the specified upper bound 10.0. Increasing the bound and calling fit again may find a better value.\n",
      "  ConvergenceWarning,\n"
     ]
    },
    {
     "name": "stdout",
     "output_type": "stream",
     "text": [
      "Model predictions with MC population...\n",
      "Pf_ref: None Pf_SuMo: 0.782839 B_sumo: -0.782 CoV_SuMo: 0.001\n",
      " \n",
      "Training model with 53 samples..\n"
     ]
    },
    {
     "name": "stderr",
     "output_type": "stream",
     "text": [
      "C:\\Users\\Administrator\\anaconda3\\envs\\surrogate\\lib\\site-packages\\sklearn\\gaussian_process\\kernels.py:437: ConvergenceWarning: The optimal value found for dimension 0 of parameter k2__length_scale is close to the specified upper bound 10.0. Increasing the bound and calling fit again may find a better value.\n",
      "  ConvergenceWarning,\n"
     ]
    },
    {
     "name": "stdout",
     "output_type": "stream",
     "text": [
      "Model predictions with MC population...\n",
      "Pf_ref: None Pf_SuMo: 0.700675 B_sumo: -0.526 CoV_SuMo: 0.001\n",
      " \n",
      "Training model with 54 samples..\n"
     ]
    },
    {
     "name": "stderr",
     "output_type": "stream",
     "text": [
      "C:\\Users\\Administrator\\anaconda3\\envs\\surrogate\\lib\\site-packages\\sklearn\\gaussian_process\\kernels.py:437: ConvergenceWarning: The optimal value found for dimension 0 of parameter k2__length_scale is close to the specified upper bound 10.0. Increasing the bound and calling fit again may find a better value.\n",
      "  ConvergenceWarning,\n"
     ]
    },
    {
     "name": "stdout",
     "output_type": "stream",
     "text": [
      "Model predictions with MC population...\n",
      "Pf_ref: None Pf_SuMo: 0.55875 B_sumo: -0.148 CoV_SuMo: 0.001\n",
      " \n",
      "Training model with 55 samples..\n"
     ]
    },
    {
     "name": "stderr",
     "output_type": "stream",
     "text": [
      "C:\\Users\\Administrator\\anaconda3\\envs\\surrogate\\lib\\site-packages\\sklearn\\gaussian_process\\kernels.py:437: ConvergenceWarning: The optimal value found for dimension 0 of parameter k2__length_scale is close to the specified upper bound 10.0. Increasing the bound and calling fit again may find a better value.\n",
      "  ConvergenceWarning,\n"
     ]
    },
    {
     "name": "stdout",
     "output_type": "stream",
     "text": [
      "Model predictions with MC population...\n",
      "Pf_ref: None Pf_SuMo: 0.452592 B_sumo: 0.119 CoV_SuMo: 0.001\n",
      " \n",
      "Training model with 56 samples..\n"
     ]
    },
    {
     "name": "stderr",
     "output_type": "stream",
     "text": [
      "C:\\Users\\Administrator\\anaconda3\\envs\\surrogate\\lib\\site-packages\\sklearn\\gaussian_process\\kernels.py:437: ConvergenceWarning: The optimal value found for dimension 0 of parameter k2__length_scale is close to the specified upper bound 10.0. Increasing the bound and calling fit again may find a better value.\n",
      "  ConvergenceWarning,\n"
     ]
    },
    {
     "name": "stdout",
     "output_type": "stream",
     "text": [
      "Model predictions with MC population...\n",
      "Pf_ref: None Pf_SuMo: 0.372153 B_sumo: 0.326 CoV_SuMo: 0.001\n",
      " \n",
      "Training model with 57 samples..\n"
     ]
    },
    {
     "name": "stderr",
     "output_type": "stream",
     "text": [
      "C:\\Users\\Administrator\\anaconda3\\envs\\surrogate\\lib\\site-packages\\sklearn\\gaussian_process\\kernels.py:437: ConvergenceWarning: The optimal value found for dimension 0 of parameter k2__length_scale is close to the specified upper bound 10.0. Increasing the bound and calling fit again may find a better value.\n",
      "  ConvergenceWarning,\n"
     ]
    },
    {
     "name": "stdout",
     "output_type": "stream",
     "text": [
      "Model predictions with MC population...\n",
      "Pf_ref: None Pf_SuMo: 0.299821 B_sumo: 0.525 CoV_SuMo: 0.002\n",
      " \n",
      "Training model with 58 samples..\n"
     ]
    },
    {
     "name": "stderr",
     "output_type": "stream",
     "text": [
      "C:\\Users\\Administrator\\anaconda3\\envs\\surrogate\\lib\\site-packages\\sklearn\\gaussian_process\\kernels.py:437: ConvergenceWarning: The optimal value found for dimension 0 of parameter k2__length_scale is close to the specified upper bound 10.0. Increasing the bound and calling fit again may find a better value.\n",
      "  ConvergenceWarning,\n"
     ]
    },
    {
     "name": "stdout",
     "output_type": "stream",
     "text": [
      "Model predictions with MC population...\n",
      "Pf_ref: None Pf_SuMo: 0.231977 B_sumo: 0.732 CoV_SuMo: 0.002\n",
      " \n",
      "Training model with 59 samples..\n"
     ]
    },
    {
     "name": "stderr",
     "output_type": "stream",
     "text": [
      "C:\\Users\\Administrator\\anaconda3\\envs\\surrogate\\lib\\site-packages\\sklearn\\gaussian_process\\kernels.py:437: ConvergenceWarning: The optimal value found for dimension 0 of parameter k2__length_scale is close to the specified upper bound 10.0. Increasing the bound and calling fit again may find a better value.\n",
      "  ConvergenceWarning,\n"
     ]
    },
    {
     "name": "stdout",
     "output_type": "stream",
     "text": [
      "Model predictions with MC population...\n",
      "Pf_ref: None Pf_SuMo: 0.189001 B_sumo: 0.882 CoV_SuMo: 0.002\n",
      " \n",
      "Training model with 60 samples..\n"
     ]
    },
    {
     "name": "stderr",
     "output_type": "stream",
     "text": [
      "C:\\Users\\Administrator\\anaconda3\\envs\\surrogate\\lib\\site-packages\\sklearn\\gaussian_process\\kernels.py:437: ConvergenceWarning: The optimal value found for dimension 0 of parameter k2__length_scale is close to the specified upper bound 10.0. Increasing the bound and calling fit again may find a better value.\n",
      "  ConvergenceWarning,\n"
     ]
    },
    {
     "name": "stdout",
     "output_type": "stream",
     "text": [
      "Model predictions with MC population...\n",
      "Pf_ref: None Pf_SuMo: 0.151299 B_sumo: 1.031 CoV_SuMo: 0.002\n",
      " \n",
      "Training model with 61 samples..\n"
     ]
    },
    {
     "name": "stderr",
     "output_type": "stream",
     "text": [
      "C:\\Users\\Administrator\\anaconda3\\envs\\surrogate\\lib\\site-packages\\sklearn\\gaussian_process\\kernels.py:437: ConvergenceWarning: The optimal value found for dimension 0 of parameter k2__length_scale is close to the specified upper bound 10.0. Increasing the bound and calling fit again may find a better value.\n",
      "  ConvergenceWarning,\n"
     ]
    },
    {
     "name": "stdout",
     "output_type": "stream",
     "text": [
      "Model predictions with MC population...\n",
      "Pf_ref: None Pf_SuMo: 0.125473 B_sumo: 1.148 CoV_SuMo: 0.003\n",
      " \n",
      "Training model with 62 samples..\n"
     ]
    },
    {
     "name": "stderr",
     "output_type": "stream",
     "text": [
      "C:\\Users\\Administrator\\anaconda3\\envs\\surrogate\\lib\\site-packages\\sklearn\\gaussian_process\\kernels.py:437: ConvergenceWarning: The optimal value found for dimension 0 of parameter k2__length_scale is close to the specified upper bound 10.0. Increasing the bound and calling fit again may find a better value.\n",
      "  ConvergenceWarning,\n"
     ]
    },
    {
     "name": "stdout",
     "output_type": "stream",
     "text": [
      "Model predictions with MC population...\n",
      "Pf_ref: None Pf_SuMo: 0.115799 B_sumo: 1.196 CoV_SuMo: 0.003\n",
      " \n",
      "Training model with 63 samples..\n"
     ]
    },
    {
     "name": "stderr",
     "output_type": "stream",
     "text": [
      "C:\\Users\\Administrator\\anaconda3\\envs\\surrogate\\lib\\site-packages\\sklearn\\gaussian_process\\kernels.py:437: ConvergenceWarning: The optimal value found for dimension 0 of parameter k2__length_scale is close to the specified upper bound 10.0. Increasing the bound and calling fit again may find a better value.\n",
      "  ConvergenceWarning,\n"
     ]
    },
    {
     "name": "stdout",
     "output_type": "stream",
     "text": [
      "Model predictions with MC population...\n",
      "Pf_ref: None Pf_SuMo: 0.09369 B_sumo: 1.318 CoV_SuMo: 0.003\n",
      " \n",
      "Training model with 64 samples..\n"
     ]
    },
    {
     "name": "stderr",
     "output_type": "stream",
     "text": [
      "C:\\Users\\Administrator\\anaconda3\\envs\\surrogate\\lib\\site-packages\\sklearn\\gaussian_process\\kernels.py:437: ConvergenceWarning: The optimal value found for dimension 0 of parameter k2__length_scale is close to the specified upper bound 10.0. Increasing the bound and calling fit again may find a better value.\n",
      "  ConvergenceWarning,\n"
     ]
    },
    {
     "name": "stdout",
     "output_type": "stream",
     "text": [
      "Model predictions with MC population...\n",
      "Pf_ref: None Pf_SuMo: 0.076205 B_sumo: 1.431 CoV_SuMo: 0.004\n",
      " \n",
      "Training model with 65 samples..\n"
     ]
    },
    {
     "name": "stderr",
     "output_type": "stream",
     "text": [
      "C:\\Users\\Administrator\\anaconda3\\envs\\surrogate\\lib\\site-packages\\sklearn\\gaussian_process\\kernels.py:437: ConvergenceWarning: The optimal value found for dimension 0 of parameter k2__length_scale is close to the specified upper bound 10.0. Increasing the bound and calling fit again may find a better value.\n",
      "  ConvergenceWarning,\n"
     ]
    },
    {
     "name": "stdout",
     "output_type": "stream",
     "text": [
      "Model predictions with MC population...\n",
      "Pf_ref: None Pf_SuMo: 0.052228 B_sumo: 1.624 CoV_SuMo: 0.004\n",
      " \n",
      "Training model with 66 samples..\n"
     ]
    },
    {
     "name": "stderr",
     "output_type": "stream",
     "text": [
      "C:\\Users\\Administrator\\anaconda3\\envs\\surrogate\\lib\\site-packages\\sklearn\\gaussian_process\\kernels.py:437: ConvergenceWarning: The optimal value found for dimension 0 of parameter k2__length_scale is close to the specified upper bound 10.0. Increasing the bound and calling fit again may find a better value.\n",
      "  ConvergenceWarning,\n"
     ]
    },
    {
     "name": "stdout",
     "output_type": "stream",
     "text": [
      "Model predictions with MC population...\n",
      "Pf_ref: None Pf_SuMo: 0.03883 B_sumo: 1.764 CoV_SuMo: 0.005\n",
      " \n",
      "Training model with 67 samples..\n"
     ]
    },
    {
     "name": "stderr",
     "output_type": "stream",
     "text": [
      "C:\\Users\\Administrator\\anaconda3\\envs\\surrogate\\lib\\site-packages\\sklearn\\gaussian_process\\kernels.py:437: ConvergenceWarning: The optimal value found for dimension 0 of parameter k2__length_scale is close to the specified upper bound 10.0. Increasing the bound and calling fit again may find a better value.\n",
      "  ConvergenceWarning,\n"
     ]
    },
    {
     "name": "stdout",
     "output_type": "stream",
     "text": [
      "Model predictions with MC population...\n",
      "Pf_ref: None Pf_SuMo: 0.027087 B_sumo: 1.925 CoV_SuMo: 0.006\n",
      " \n",
      "Training model with 68 samples..\n"
     ]
    },
    {
     "name": "stderr",
     "output_type": "stream",
     "text": [
      "C:\\Users\\Administrator\\anaconda3\\envs\\surrogate\\lib\\site-packages\\sklearn\\gaussian_process\\kernels.py:437: ConvergenceWarning: The optimal value found for dimension 0 of parameter k2__length_scale is close to the specified upper bound 10.0. Increasing the bound and calling fit again may find a better value.\n",
      "  ConvergenceWarning,\n"
     ]
    },
    {
     "name": "stdout",
     "output_type": "stream",
     "text": [
      "Model predictions with MC population...\n",
      "Pf_ref: None Pf_SuMo: 0.020151 B_sumo: 2.051 CoV_SuMo: 0.007\n",
      " \n",
      "Training model with 69 samples..\n"
     ]
    },
    {
     "name": "stderr",
     "output_type": "stream",
     "text": [
      "C:\\Users\\Administrator\\anaconda3\\envs\\surrogate\\lib\\site-packages\\sklearn\\gaussian_process\\kernels.py:437: ConvergenceWarning: The optimal value found for dimension 0 of parameter k2__length_scale is close to the specified upper bound 10.0. Increasing the bound and calling fit again may find a better value.\n",
      "  ConvergenceWarning,\n"
     ]
    },
    {
     "name": "stdout",
     "output_type": "stream",
     "text": [
      "Model predictions with MC population...\n",
      "Pf_ref: None Pf_SuMo: 0.015175 B_sumo: 2.166 CoV_SuMo: 0.008\n",
      " \n",
      "Training model with 70 samples..\n"
     ]
    },
    {
     "name": "stderr",
     "output_type": "stream",
     "text": [
      "C:\\Users\\Administrator\\anaconda3\\envs\\surrogate\\lib\\site-packages\\sklearn\\gaussian_process\\kernels.py:437: ConvergenceWarning: The optimal value found for dimension 0 of parameter k2__length_scale is close to the specified upper bound 10.0. Increasing the bound and calling fit again may find a better value.\n",
      "  ConvergenceWarning,\n"
     ]
    },
    {
     "name": "stdout",
     "output_type": "stream",
     "text": [
      "Model predictions with MC population...\n",
      "Pf_ref: None Pf_SuMo: 0.009443 B_sumo: 2.348 CoV_SuMo: 0.010\n",
      " \n",
      "Training model with 71 samples..\n"
     ]
    },
    {
     "name": "stderr",
     "output_type": "stream",
     "text": [
      "C:\\Users\\Administrator\\anaconda3\\envs\\surrogate\\lib\\site-packages\\sklearn\\gaussian_process\\kernels.py:437: ConvergenceWarning: The optimal value found for dimension 0 of parameter k2__length_scale is close to the specified upper bound 10.0. Increasing the bound and calling fit again may find a better value.\n",
      "  ConvergenceWarning,\n"
     ]
    },
    {
     "name": "stdout",
     "output_type": "stream",
     "text": [
      "Model predictions with MC population...\n",
      "Pf_ref: None Pf_SuMo: 0.005177 B_sumo: 2.564 CoV_SuMo: 0.014\n",
      " \n",
      "Training model with 72 samples..\n"
     ]
    },
    {
     "name": "stderr",
     "output_type": "stream",
     "text": [
      "C:\\Users\\Administrator\\anaconda3\\envs\\surrogate\\lib\\site-packages\\sklearn\\gaussian_process\\kernels.py:437: ConvergenceWarning: The optimal value found for dimension 0 of parameter k2__length_scale is close to the specified upper bound 10.0. Increasing the bound and calling fit again may find a better value.\n",
      "  ConvergenceWarning,\n"
     ]
    },
    {
     "name": "stdout",
     "output_type": "stream",
     "text": [
      "Model predictions with MC population...\n",
      "Pf_ref: None Pf_SuMo: 0.004275 B_sumo: 2.630 CoV_SuMo: 0.015\n",
      " \n",
      "Training model with 73 samples..\n"
     ]
    },
    {
     "name": "stderr",
     "output_type": "stream",
     "text": [
      "C:\\Users\\Administrator\\anaconda3\\envs\\surrogate\\lib\\site-packages\\sklearn\\gaussian_process\\kernels.py:437: ConvergenceWarning: The optimal value found for dimension 0 of parameter k2__length_scale is close to the specified upper bound 10.0. Increasing the bound and calling fit again may find a better value.\n",
      "  ConvergenceWarning,\n"
     ]
    },
    {
     "name": "stdout",
     "output_type": "stream",
     "text": [
      "Model predictions with MC population...\n",
      "Pf_ref: None Pf_SuMo: 0.003288 B_sumo: 2.718 CoV_SuMo: 0.017\n",
      " \n",
      "Training model with 74 samples..\n"
     ]
    },
    {
     "name": "stderr",
     "output_type": "stream",
     "text": [
      "C:\\Users\\Administrator\\anaconda3\\envs\\surrogate\\lib\\site-packages\\sklearn\\gaussian_process\\kernels.py:437: ConvergenceWarning: The optimal value found for dimension 0 of parameter k2__length_scale is close to the specified upper bound 10.0. Increasing the bound and calling fit again may find a better value.\n",
      "  ConvergenceWarning,\n"
     ]
    },
    {
     "name": "stdout",
     "output_type": "stream",
     "text": [
      "Model predictions with MC population...\n",
      "Pf_ref: None Pf_SuMo: 0.002523 B_sumo: 2.804 CoV_SuMo: 0.020\n",
      " \n",
      "Training model with 75 samples..\n"
     ]
    },
    {
     "name": "stderr",
     "output_type": "stream",
     "text": [
      "C:\\Users\\Administrator\\anaconda3\\envs\\surrogate\\lib\\site-packages\\sklearn\\gaussian_process\\kernels.py:437: ConvergenceWarning: The optimal value found for dimension 0 of parameter k2__length_scale is close to the specified upper bound 10.0. Increasing the bound and calling fit again may find a better value.\n",
      "  ConvergenceWarning,\n"
     ]
    },
    {
     "name": "stdout",
     "output_type": "stream",
     "text": [
      "Model predictions with MC population...\n",
      "Pf_ref: None Pf_SuMo: 0.001728 B_sumo: 2.924 CoV_SuMo: 0.024\n",
      " \n",
      "Training model with 76 samples..\n"
     ]
    },
    {
     "name": "stderr",
     "output_type": "stream",
     "text": [
      "C:\\Users\\Administrator\\anaconda3\\envs\\surrogate\\lib\\site-packages\\sklearn\\gaussian_process\\kernels.py:437: ConvergenceWarning: The optimal value found for dimension 0 of parameter k2__length_scale is close to the specified upper bound 10.0. Increasing the bound and calling fit again may find a better value.\n",
      "  ConvergenceWarning,\n"
     ]
    },
    {
     "name": "stdout",
     "output_type": "stream",
     "text": [
      "Model predictions with MC population...\n",
      "Pf_ref: None Pf_SuMo: 0.001186 B_sumo: 3.039 CoV_SuMo: 0.029\n",
      " \n",
      "Training model with 77 samples..\n"
     ]
    },
    {
     "name": "stderr",
     "output_type": "stream",
     "text": [
      "C:\\Users\\Administrator\\anaconda3\\envs\\surrogate\\lib\\site-packages\\sklearn\\gaussian_process\\kernels.py:437: ConvergenceWarning: The optimal value found for dimension 0 of parameter k2__length_scale is close to the specified upper bound 10.0. Increasing the bound and calling fit again may find a better value.\n",
      "  ConvergenceWarning,\n"
     ]
    },
    {
     "name": "stdout",
     "output_type": "stream",
     "text": [
      "Model predictions with MC population...\n",
      "Pf_ref: None Pf_SuMo: 0.000664 B_sumo: 3.210 CoV_SuMo: 0.039\n",
      " \n",
      "Training model with 78 samples..\n"
     ]
    },
    {
     "name": "stderr",
     "output_type": "stream",
     "text": [
      "C:\\Users\\Administrator\\anaconda3\\envs\\surrogate\\lib\\site-packages\\sklearn\\gaussian_process\\kernels.py:437: ConvergenceWarning: The optimal value found for dimension 0 of parameter k2__length_scale is close to the specified upper bound 10.0. Increasing the bound and calling fit again may find a better value.\n",
      "  ConvergenceWarning,\n"
     ]
    },
    {
     "name": "stdout",
     "output_type": "stream",
     "text": [
      "Model predictions with MC population...\n",
      "Pf_ref: None Pf_SuMo: 0.000389 B_sumo: 3.361 CoV_SuMo: 0.051\n",
      " \n",
      "Training model with 79 samples..\n"
     ]
    },
    {
     "name": "stderr",
     "output_type": "stream",
     "text": [
      "C:\\Users\\Administrator\\anaconda3\\envs\\surrogate\\lib\\site-packages\\sklearn\\gaussian_process\\kernels.py:437: ConvergenceWarning: The optimal value found for dimension 0 of parameter k2__length_scale is close to the specified upper bound 10.0. Increasing the bound and calling fit again may find a better value.\n",
      "  ConvergenceWarning,\n"
     ]
    },
    {
     "name": "stdout",
     "output_type": "stream",
     "text": [
      "Model predictions with MC population...\n",
      "Pf_ref: None Pf_SuMo: 0.000432 B_sumo: 3.331 CoV_SuMo: 0.048\n",
      " \n",
      "Training model with 80 samples..\n"
     ]
    },
    {
     "name": "stderr",
     "output_type": "stream",
     "text": [
      "C:\\Users\\Administrator\\anaconda3\\envs\\surrogate\\lib\\site-packages\\sklearn\\gaussian_process\\kernels.py:437: ConvergenceWarning: The optimal value found for dimension 0 of parameter k2__length_scale is close to the specified upper bound 10.0. Increasing the bound and calling fit again may find a better value.\n",
      "  ConvergenceWarning,\n"
     ]
    },
    {
     "name": "stdout",
     "output_type": "stream",
     "text": [
      "Model predictions with MC population...\n",
      "Pf_ref: None Pf_SuMo: 0.000205 B_sumo: 3.534 CoV_SuMo: 0.070\n",
      " \n",
      "Training model with 81 samples..\n"
     ]
    },
    {
     "name": "stderr",
     "output_type": "stream",
     "text": [
      "C:\\Users\\Administrator\\anaconda3\\envs\\surrogate\\lib\\site-packages\\sklearn\\gaussian_process\\kernels.py:437: ConvergenceWarning: The optimal value found for dimension 0 of parameter k2__length_scale is close to the specified upper bound 10.0. Increasing the bound and calling fit again may find a better value.\n",
      "  ConvergenceWarning,\n"
     ]
    },
    {
     "name": "stdout",
     "output_type": "stream",
     "text": [
      "Model predictions with MC population...\n",
      "Pf_ref: None Pf_SuMo: 0.000207 B_sumo: 3.531 CoV_SuMo: 0.070\n",
      " \n",
      "Training model with 82 samples..\n"
     ]
    },
    {
     "name": "stderr",
     "output_type": "stream",
     "text": [
      "C:\\Users\\Administrator\\anaconda3\\envs\\surrogate\\lib\\site-packages\\sklearn\\gaussian_process\\kernels.py:437: ConvergenceWarning: The optimal value found for dimension 0 of parameter k2__length_scale is close to the specified upper bound 10.0. Increasing the bound and calling fit again may find a better value.\n",
      "  ConvergenceWarning,\n"
     ]
    },
    {
     "name": "stdout",
     "output_type": "stream",
     "text": [
      "Model predictions with MC population...\n",
      "Pf_ref: None Pf_SuMo: 0.000154 B_sumo: 3.608 CoV_SuMo: 0.081\n",
      " \n",
      "Training model with 83 samples..\n"
     ]
    },
    {
     "name": "stderr",
     "output_type": "stream",
     "text": [
      "C:\\Users\\Administrator\\anaconda3\\envs\\surrogate\\lib\\site-packages\\sklearn\\gaussian_process\\kernels.py:437: ConvergenceWarning: The optimal value found for dimension 0 of parameter k2__length_scale is close to the specified upper bound 10.0. Increasing the bound and calling fit again may find a better value.\n",
      "  ConvergenceWarning,\n"
     ]
    },
    {
     "name": "stdout",
     "output_type": "stream",
     "text": [
      "Model predictions with MC population...\n",
      "Pf_ref: None Pf_SuMo: 0.000135 B_sumo: 3.643 CoV_SuMo: 0.086\n",
      " \n",
      "Training model with 84 samples..\n"
     ]
    },
    {
     "name": "stderr",
     "output_type": "stream",
     "text": [
      "C:\\Users\\Administrator\\anaconda3\\envs\\surrogate\\lib\\site-packages\\sklearn\\gaussian_process\\kernels.py:437: ConvergenceWarning: The optimal value found for dimension 0 of parameter k2__length_scale is close to the specified upper bound 10.0. Increasing the bound and calling fit again may find a better value.\n",
      "  ConvergenceWarning,\n"
     ]
    },
    {
     "name": "stdout",
     "output_type": "stream",
     "text": [
      "Model predictions with MC population...\n",
      "Pf_ref: None Pf_SuMo: 0.000123 B_sumo: 3.666 CoV_SuMo: 0.090\n",
      " \n",
      "Training model with 85 samples..\n"
     ]
    },
    {
     "name": "stderr",
     "output_type": "stream",
     "text": [
      "C:\\Users\\Administrator\\anaconda3\\envs\\surrogate\\lib\\site-packages\\sklearn\\gaussian_process\\kernels.py:437: ConvergenceWarning: The optimal value found for dimension 0 of parameter k2__length_scale is close to the specified upper bound 10.0. Increasing the bound and calling fit again may find a better value.\n",
      "  ConvergenceWarning,\n"
     ]
    },
    {
     "name": "stdout",
     "output_type": "stream",
     "text": [
      "Model predictions with MC population...\n",
      "Pf_ref: None Pf_SuMo: 0.000119 B_sumo: 3.675 CoV_SuMo: 0.092\n",
      " \n",
      "Training model with 86 samples..\n"
     ]
    },
    {
     "name": "stderr",
     "output_type": "stream",
     "text": [
      "C:\\Users\\Administrator\\anaconda3\\envs\\surrogate\\lib\\site-packages\\sklearn\\gaussian_process\\kernels.py:437: ConvergenceWarning: The optimal value found for dimension 0 of parameter k2__length_scale is close to the specified upper bound 10.0. Increasing the bound and calling fit again may find a better value.\n",
      "  ConvergenceWarning,\n"
     ]
    },
    {
     "name": "stdout",
     "output_type": "stream",
     "text": [
      "Model predictions with MC population...\n",
      "Pf_ref: None Pf_SuMo: 9.8e-05 B_sumo: 3.724 CoV_SuMo: 0.101\n",
      " \n",
      "Training model with 87 samples..\n"
     ]
    },
    {
     "name": "stderr",
     "output_type": "stream",
     "text": [
      "C:\\Users\\Administrator\\anaconda3\\envs\\surrogate\\lib\\site-packages\\sklearn\\gaussian_process\\kernels.py:437: ConvergenceWarning: The optimal value found for dimension 0 of parameter k2__length_scale is close to the specified upper bound 10.0. Increasing the bound and calling fit again may find a better value.\n",
      "  ConvergenceWarning,\n"
     ]
    },
    {
     "name": "stdout",
     "output_type": "stream",
     "text": [
      "Model predictions with MC population...\n",
      "Pf_ref: None Pf_SuMo: 7.8e-05 B_sumo: 3.781 CoV_SuMo: 0.113\n",
      " \n",
      "Training model with 88 samples..\n"
     ]
    },
    {
     "name": "stderr",
     "output_type": "stream",
     "text": [
      "C:\\Users\\Administrator\\anaconda3\\envs\\surrogate\\lib\\site-packages\\sklearn\\gaussian_process\\kernels.py:437: ConvergenceWarning: The optimal value found for dimension 0 of parameter k2__length_scale is close to the specified upper bound 10.0. Increasing the bound and calling fit again may find a better value.\n",
      "  ConvergenceWarning,\n"
     ]
    },
    {
     "name": "stdout",
     "output_type": "stream",
     "text": [
      "Model predictions with MC population...\n",
      "Pf_ref: None Pf_SuMo: 8.7e-05 B_sumo: 3.754 CoV_SuMo: 0.107\n",
      " \n",
      "Training model with 89 samples..\n"
     ]
    },
    {
     "name": "stderr",
     "output_type": "stream",
     "text": [
      "C:\\Users\\Administrator\\anaconda3\\envs\\surrogate\\lib\\site-packages\\sklearn\\gaussian_process\\kernels.py:437: ConvergenceWarning: The optimal value found for dimension 0 of parameter k2__length_scale is close to the specified upper bound 10.0. Increasing the bound and calling fit again may find a better value.\n",
      "  ConvergenceWarning,\n"
     ]
    },
    {
     "name": "stdout",
     "output_type": "stream",
     "text": [
      "Model predictions with MC population...\n",
      "Pf_ref: None Pf_SuMo: 7.6e-05 B_sumo: 3.788 CoV_SuMo: 0.115\n",
      " \n",
      "Training model with 90 samples..\n"
     ]
    },
    {
     "name": "stderr",
     "output_type": "stream",
     "text": [
      "C:\\Users\\Administrator\\anaconda3\\envs\\surrogate\\lib\\site-packages\\sklearn\\gaussian_process\\kernels.py:437: ConvergenceWarning: The optimal value found for dimension 0 of parameter k2__length_scale is close to the specified upper bound 10.0. Increasing the bound and calling fit again may find a better value.\n",
      "  ConvergenceWarning,\n"
     ]
    },
    {
     "name": "stdout",
     "output_type": "stream",
     "text": [
      "Model predictions with MC population...\n",
      "Pf_ref: None Pf_SuMo: 8.6e-05 B_sumo: 3.757 CoV_SuMo: 0.108\n",
      " \n",
      "Training model with 91 samples..\n"
     ]
    },
    {
     "name": "stderr",
     "output_type": "stream",
     "text": [
      "C:\\Users\\Administrator\\anaconda3\\envs\\surrogate\\lib\\site-packages\\sklearn\\gaussian_process\\kernels.py:437: ConvergenceWarning: The optimal value found for dimension 0 of parameter k2__length_scale is close to the specified upper bound 10.0. Increasing the bound and calling fit again may find a better value.\n",
      "  ConvergenceWarning,\n"
     ]
    },
    {
     "name": "stdout",
     "output_type": "stream",
     "text": [
      "Model predictions with MC population...\n",
      "Pf_ref: None Pf_SuMo: 8.7e-05 B_sumo: 3.754 CoV_SuMo: 0.107\n",
      " \n",
      "Training model with 92 samples..\n"
     ]
    },
    {
     "name": "stderr",
     "output_type": "stream",
     "text": [
      "C:\\Users\\Administrator\\anaconda3\\envs\\surrogate\\lib\\site-packages\\sklearn\\gaussian_process\\kernels.py:437: ConvergenceWarning: The optimal value found for dimension 0 of parameter k2__length_scale is close to the specified upper bound 10.0. Increasing the bound and calling fit again may find a better value.\n",
      "  ConvergenceWarning,\n"
     ]
    },
    {
     "name": "stdout",
     "output_type": "stream",
     "text": [
      "Model predictions with MC population...\n",
      "Pf_ref: None Pf_SuMo: 9e-05 B_sumo: 3.745 CoV_SuMo: 0.105\n",
      " \n",
      "Training model with 93 samples..\n"
     ]
    },
    {
     "name": "stderr",
     "output_type": "stream",
     "text": [
      "C:\\Users\\Administrator\\anaconda3\\envs\\surrogate\\lib\\site-packages\\sklearn\\gaussian_process\\kernels.py:437: ConvergenceWarning: The optimal value found for dimension 0 of parameter k2__length_scale is close to the specified upper bound 10.0. Increasing the bound and calling fit again may find a better value.\n",
      "  ConvergenceWarning,\n"
     ]
    },
    {
     "name": "stdout",
     "output_type": "stream",
     "text": [
      "Model predictions with MC population...\n",
      "Pf_ref: None Pf_SuMo: 9.8e-05 B_sumo: 3.724 CoV_SuMo: 0.101\n",
      " \n",
      "Training model with 94 samples..\n"
     ]
    },
    {
     "name": "stderr",
     "output_type": "stream",
     "text": [
      "C:\\Users\\Administrator\\anaconda3\\envs\\surrogate\\lib\\site-packages\\sklearn\\gaussian_process\\kernels.py:437: ConvergenceWarning: The optimal value found for dimension 0 of parameter k2__length_scale is close to the specified upper bound 10.0. Increasing the bound and calling fit again may find a better value.\n",
      "  ConvergenceWarning,\n"
     ]
    },
    {
     "name": "stdout",
     "output_type": "stream",
     "text": [
      "Model predictions with MC population...\n",
      "Pf_ref: None Pf_SuMo: 8.6e-05 B_sumo: 3.757 CoV_SuMo: 0.108\n",
      " \n",
      "Training model with 95 samples..\n"
     ]
    },
    {
     "name": "stderr",
     "output_type": "stream",
     "text": [
      "C:\\Users\\Administrator\\anaconda3\\envs\\surrogate\\lib\\site-packages\\sklearn\\gaussian_process\\kernels.py:437: ConvergenceWarning: The optimal value found for dimension 0 of parameter k2__length_scale is close to the specified upper bound 10.0. Increasing the bound and calling fit again may find a better value.\n",
      "  ConvergenceWarning,\n"
     ]
    },
    {
     "name": "stdout",
     "output_type": "stream",
     "text": [
      "Model predictions with MC population...\n",
      "Pf_ref: None Pf_SuMo: 0.000101 B_sumo: 3.716 CoV_SuMo: 0.100\n",
      " \n",
      "Training model with 96 samples..\n"
     ]
    },
    {
     "name": "stderr",
     "output_type": "stream",
     "text": [
      "C:\\Users\\Administrator\\anaconda3\\envs\\surrogate\\lib\\site-packages\\sklearn\\gaussian_process\\kernels.py:437: ConvergenceWarning: The optimal value found for dimension 0 of parameter k2__length_scale is close to the specified upper bound 10.0. Increasing the bound and calling fit again may find a better value.\n",
      "  ConvergenceWarning,\n"
     ]
    },
    {
     "name": "stdout",
     "output_type": "stream",
     "text": [
      "Model predictions with MC population...\n",
      "Pf_ref: None Pf_SuMo: 7.8e-05 B_sumo: 3.781 CoV_SuMo: 0.113\n",
      " \n",
      "Training model with 97 samples..\n"
     ]
    },
    {
     "name": "stderr",
     "output_type": "stream",
     "text": [
      "C:\\Users\\Administrator\\anaconda3\\envs\\surrogate\\lib\\site-packages\\sklearn\\gaussian_process\\kernels.py:437: ConvergenceWarning: The optimal value found for dimension 0 of parameter k2__length_scale is close to the specified upper bound 10.0. Increasing the bound and calling fit again may find a better value.\n",
      "  ConvergenceWarning,\n"
     ]
    },
    {
     "name": "stdout",
     "output_type": "stream",
     "text": [
      "Model predictions with MC population...\n",
      "Pf_ref: None Pf_SuMo: 8.2e-05 B_sumo: 3.769 CoV_SuMo: 0.110\n",
      " \n",
      "Training model with 98 samples..\n"
     ]
    },
    {
     "name": "stderr",
     "output_type": "stream",
     "text": [
      "C:\\Users\\Administrator\\anaconda3\\envs\\surrogate\\lib\\site-packages\\sklearn\\gaussian_process\\kernels.py:437: ConvergenceWarning: The optimal value found for dimension 0 of parameter k2__length_scale is close to the specified upper bound 10.0. Increasing the bound and calling fit again may find a better value.\n",
      "  ConvergenceWarning,\n"
     ]
    },
    {
     "name": "stdout",
     "output_type": "stream",
     "text": [
      "Model predictions with MC population...\n",
      "Pf_ref: None Pf_SuMo: 7.7e-05 B_sumo: 3.784 CoV_SuMo: 0.114\n",
      " \n",
      "Training model with 99 samples..\n"
     ]
    },
    {
     "name": "stderr",
     "output_type": "stream",
     "text": [
      "C:\\Users\\Administrator\\anaconda3\\envs\\surrogate\\lib\\site-packages\\sklearn\\gaussian_process\\kernels.py:437: ConvergenceWarning: The optimal value found for dimension 0 of parameter k2__length_scale is close to the specified upper bound 10.0. Increasing the bound and calling fit again may find a better value.\n",
      "  ConvergenceWarning,\n"
     ]
    },
    {
     "name": "stdout",
     "output_type": "stream",
     "text": [
      "Model predictions with MC population...\n",
      "Pf_ref: None Pf_SuMo: 7e-05 B_sumo: 3.808 CoV_SuMo: 0.119\n",
      " \n",
      "Training model with 100 samples..\n"
     ]
    },
    {
     "name": "stderr",
     "output_type": "stream",
     "text": [
      "C:\\Users\\Administrator\\anaconda3\\envs\\surrogate\\lib\\site-packages\\sklearn\\gaussian_process\\kernels.py:437: ConvergenceWarning: The optimal value found for dimension 0 of parameter k2__length_scale is close to the specified upper bound 10.0. Increasing the bound and calling fit again may find a better value.\n",
      "  ConvergenceWarning,\n"
     ]
    },
    {
     "name": "stdout",
     "output_type": "stream",
     "text": [
      "Model predictions with MC population...\n",
      "Pf_ref: None Pf_SuMo: 8.3e-05 B_sumo: 3.766 CoV_SuMo: 0.110\n",
      " \n",
      "Training model with 101 samples..\n"
     ]
    },
    {
     "name": "stderr",
     "output_type": "stream",
     "text": [
      "C:\\Users\\Administrator\\anaconda3\\envs\\surrogate\\lib\\site-packages\\sklearn\\gaussian_process\\kernels.py:437: ConvergenceWarning: The optimal value found for dimension 0 of parameter k2__length_scale is close to the specified upper bound 10.0. Increasing the bound and calling fit again may find a better value.\n",
      "  ConvergenceWarning,\n"
     ]
    },
    {
     "name": "stdout",
     "output_type": "stream",
     "text": [
      "Model predictions with MC population...\n",
      "Pf_ref: None Pf_SuMo: 8.7e-05 B_sumo: 3.754 CoV_SuMo: 0.107\n",
      " \n",
      "Training model with 102 samples..\n"
     ]
    },
    {
     "name": "stderr",
     "output_type": "stream",
     "text": [
      "C:\\Users\\Administrator\\anaconda3\\envs\\surrogate\\lib\\site-packages\\sklearn\\gaussian_process\\kernels.py:437: ConvergenceWarning: The optimal value found for dimension 0 of parameter k2__length_scale is close to the specified upper bound 10.0. Increasing the bound and calling fit again may find a better value.\n",
      "  ConvergenceWarning,\n"
     ]
    },
    {
     "name": "stdout",
     "output_type": "stream",
     "text": [
      "Model predictions with MC population...\n",
      "Pf_ref: None Pf_SuMo: 8.4e-05 B_sumo: 3.763 CoV_SuMo: 0.109\n",
      " \n",
      "Training model with 103 samples..\n"
     ]
    },
    {
     "name": "stderr",
     "output_type": "stream",
     "text": [
      "C:\\Users\\Administrator\\anaconda3\\envs\\surrogate\\lib\\site-packages\\sklearn\\gaussian_process\\kernels.py:437: ConvergenceWarning: The optimal value found for dimension 0 of parameter k2__length_scale is close to the specified upper bound 10.0. Increasing the bound and calling fit again may find a better value.\n",
      "  ConvergenceWarning,\n"
     ]
    },
    {
     "name": "stdout",
     "output_type": "stream",
     "text": [
      "Model predictions with MC population...\n",
      "Pf_ref: None Pf_SuMo: 0.000104 B_sumo: 3.709 CoV_SuMo: 0.098\n",
      " \n",
      "Training model with 104 samples..\n"
     ]
    },
    {
     "name": "stderr",
     "output_type": "stream",
     "text": [
      "C:\\Users\\Administrator\\anaconda3\\envs\\surrogate\\lib\\site-packages\\sklearn\\gaussian_process\\kernels.py:437: ConvergenceWarning: The optimal value found for dimension 0 of parameter k2__length_scale is close to the specified upper bound 10.0. Increasing the bound and calling fit again may find a better value.\n",
      "  ConvergenceWarning,\n"
     ]
    },
    {
     "name": "stdout",
     "output_type": "stream",
     "text": [
      "Model predictions with MC population...\n",
      "Pf_ref: None Pf_SuMo: 7.9e-05 B_sumo: 3.778 CoV_SuMo: 0.113\n",
      " \n",
      "Training model with 105 samples..\n"
     ]
    },
    {
     "name": "stderr",
     "output_type": "stream",
     "text": [
      "C:\\Users\\Administrator\\anaconda3\\envs\\surrogate\\lib\\site-packages\\sklearn\\gaussian_process\\kernels.py:437: ConvergenceWarning: The optimal value found for dimension 0 of parameter k2__length_scale is close to the specified upper bound 10.0. Increasing the bound and calling fit again may find a better value.\n",
      "  ConvergenceWarning,\n"
     ]
    },
    {
     "name": "stdout",
     "output_type": "stream",
     "text": [
      "Model predictions with MC population...\n",
      "Pf_ref: None Pf_SuMo: 8.3e-05 B_sumo: 3.766 CoV_SuMo: 0.110\n",
      " \n",
      "Training model with 106 samples..\n"
     ]
    },
    {
     "name": "stderr",
     "output_type": "stream",
     "text": [
      "C:\\Users\\Administrator\\anaconda3\\envs\\surrogate\\lib\\site-packages\\sklearn\\gaussian_process\\kernels.py:437: ConvergenceWarning: The optimal value found for dimension 0 of parameter k2__length_scale is close to the specified upper bound 10.0. Increasing the bound and calling fit again may find a better value.\n",
      "  ConvergenceWarning,\n"
     ]
    },
    {
     "name": "stdout",
     "output_type": "stream",
     "text": [
      "Model predictions with MC population...\n",
      "Pf_ref: None Pf_SuMo: 7.8e-05 B_sumo: 3.781 CoV_SuMo: 0.113\n",
      " \n",
      "Training model with 107 samples..\n"
     ]
    },
    {
     "name": "stderr",
     "output_type": "stream",
     "text": [
      "C:\\Users\\Administrator\\anaconda3\\envs\\surrogate\\lib\\site-packages\\sklearn\\gaussian_process\\kernels.py:437: ConvergenceWarning: The optimal value found for dimension 0 of parameter k2__length_scale is close to the specified upper bound 10.0. Increasing the bound and calling fit again may find a better value.\n",
      "  ConvergenceWarning,\n"
     ]
    },
    {
     "name": "stdout",
     "output_type": "stream",
     "text": [
      "Model predictions with MC population...\n",
      "Pf_ref: None Pf_SuMo: 6.7e-05 B_sumo: 3.819 CoV_SuMo: 0.122\n",
      " \n",
      "Training model with 108 samples..\n"
     ]
    },
    {
     "name": "stderr",
     "output_type": "stream",
     "text": [
      "C:\\Users\\Administrator\\anaconda3\\envs\\surrogate\\lib\\site-packages\\sklearn\\gaussian_process\\kernels.py:437: ConvergenceWarning: The optimal value found for dimension 0 of parameter k2__length_scale is close to the specified upper bound 10.0. Increasing the bound and calling fit again may find a better value.\n",
      "  ConvergenceWarning,\n"
     ]
    },
    {
     "name": "stdout",
     "output_type": "stream",
     "text": [
      "Model predictions with MC population...\n",
      "Pf_ref: None Pf_SuMo: 8.5e-05 B_sumo: 3.760 CoV_SuMo: 0.108\n",
      " \n",
      "Training model with 109 samples..\n"
     ]
    },
    {
     "name": "stderr",
     "output_type": "stream",
     "text": [
      "C:\\Users\\Administrator\\anaconda3\\envs\\surrogate\\lib\\site-packages\\sklearn\\gaussian_process\\kernels.py:437: ConvergenceWarning: The optimal value found for dimension 0 of parameter k2__length_scale is close to the specified upper bound 10.0. Increasing the bound and calling fit again may find a better value.\n",
      "  ConvergenceWarning,\n"
     ]
    },
    {
     "name": "stdout",
     "output_type": "stream",
     "text": [
      "Model predictions with MC population...\n",
      "Pf_ref: None Pf_SuMo: 9.1e-05 B_sumo: 3.743 CoV_SuMo: 0.105\n",
      " \n",
      "Training model with 110 samples..\n"
     ]
    },
    {
     "name": "stderr",
     "output_type": "stream",
     "text": [
      "C:\\Users\\Administrator\\anaconda3\\envs\\surrogate\\lib\\site-packages\\sklearn\\gaussian_process\\kernels.py:437: ConvergenceWarning: The optimal value found for dimension 0 of parameter k2__length_scale is close to the specified upper bound 10.0. Increasing the bound and calling fit again may find a better value.\n",
      "  ConvergenceWarning,\n"
     ]
    },
    {
     "name": "stdout",
     "output_type": "stream",
     "text": [
      "Model predictions with MC population...\n",
      "Pf_ref: None Pf_SuMo: 0.000108 B_sumo: 3.700 CoV_SuMo: 0.096\n",
      " \n",
      "Training model with 111 samples..\n"
     ]
    },
    {
     "name": "stderr",
     "output_type": "stream",
     "text": [
      "C:\\Users\\Administrator\\anaconda3\\envs\\surrogate\\lib\\site-packages\\sklearn\\gaussian_process\\kernels.py:437: ConvergenceWarning: The optimal value found for dimension 0 of parameter k2__length_scale is close to the specified upper bound 10.0. Increasing the bound and calling fit again may find a better value.\n",
      "  ConvergenceWarning,\n"
     ]
    },
    {
     "name": "stdout",
     "output_type": "stream",
     "text": [
      "Model predictions with MC population...\n",
      "Pf_ref: None Pf_SuMo: 0.000103 B_sumo: 3.712 CoV_SuMo: 0.099\n",
      " \n",
      "Training model with 112 samples..\n"
     ]
    },
    {
     "name": "stderr",
     "output_type": "stream",
     "text": [
      "C:\\Users\\Administrator\\anaconda3\\envs\\surrogate\\lib\\site-packages\\sklearn\\gaussian_process\\kernels.py:437: ConvergenceWarning: The optimal value found for dimension 0 of parameter k2__length_scale is close to the specified upper bound 10.0. Increasing the bound and calling fit again may find a better value.\n",
      "  ConvergenceWarning,\n"
     ]
    },
    {
     "name": "stdout",
     "output_type": "stream",
     "text": [
      "Model predictions with MC population...\n",
      "Pf_ref: None Pf_SuMo: 9.2e-05 B_sumo: 3.740 CoV_SuMo: 0.104\n",
      " \n",
      "Training model with 113 samples..\n"
     ]
    },
    {
     "name": "stderr",
     "output_type": "stream",
     "text": [
      "C:\\Users\\Administrator\\anaconda3\\envs\\surrogate\\lib\\site-packages\\sklearn\\gaussian_process\\kernels.py:437: ConvergenceWarning: The optimal value found for dimension 0 of parameter k2__length_scale is close to the specified upper bound 10.0. Increasing the bound and calling fit again may find a better value.\n",
      "  ConvergenceWarning,\n"
     ]
    },
    {
     "name": "stdout",
     "output_type": "stream",
     "text": [
      "Model predictions with MC population...\n",
      "Pf_ref: None Pf_SuMo: 9.5e-05 B_sumo: 3.732 CoV_SuMo: 0.103\n",
      " \n",
      "Training model with 114 samples..\n"
     ]
    },
    {
     "name": "stderr",
     "output_type": "stream",
     "text": [
      "C:\\Users\\Administrator\\anaconda3\\envs\\surrogate\\lib\\site-packages\\sklearn\\gaussian_process\\kernels.py:437: ConvergenceWarning: The optimal value found for dimension 0 of parameter k2__length_scale is close to the specified upper bound 10.0. Increasing the bound and calling fit again may find a better value.\n",
      "  ConvergenceWarning,\n"
     ]
    },
    {
     "name": "stdout",
     "output_type": "stream",
     "text": [
      "Model predictions with MC population...\n",
      "Pf_ref: None Pf_SuMo: 0.000114 B_sumo: 3.686 CoV_SuMo: 0.094\n",
      " \n",
      "Training model with 115 samples..\n"
     ]
    },
    {
     "name": "stderr",
     "output_type": "stream",
     "text": [
      "C:\\Users\\Administrator\\anaconda3\\envs\\surrogate\\lib\\site-packages\\sklearn\\gaussian_process\\kernels.py:437: ConvergenceWarning: The optimal value found for dimension 0 of parameter k2__length_scale is close to the specified upper bound 10.0. Increasing the bound and calling fit again may find a better value.\n",
      "  ConvergenceWarning,\n"
     ]
    },
    {
     "name": "stdout",
     "output_type": "stream",
     "text": [
      "Model predictions with MC population...\n",
      "Pf_ref: None Pf_SuMo: 0.000116 B_sumo: 3.681 CoV_SuMo: 0.093\n",
      " \n",
      "Training model with 116 samples..\n"
     ]
    },
    {
     "name": "stderr",
     "output_type": "stream",
     "text": [
      "C:\\Users\\Administrator\\anaconda3\\envs\\surrogate\\lib\\site-packages\\sklearn\\gaussian_process\\kernels.py:437: ConvergenceWarning: The optimal value found for dimension 0 of parameter k2__length_scale is close to the specified upper bound 10.0. Increasing the bound and calling fit again may find a better value.\n",
      "  ConvergenceWarning,\n"
     ]
    },
    {
     "name": "stdout",
     "output_type": "stream",
     "text": [
      "Model predictions with MC population...\n",
      "Pf_ref: None Pf_SuMo: 0.000102 B_sumo: 3.714 CoV_SuMo: 0.099\n",
      " \n",
      "Training model with 117 samples..\n"
     ]
    },
    {
     "name": "stderr",
     "output_type": "stream",
     "text": [
      "C:\\Users\\Administrator\\anaconda3\\envs\\surrogate\\lib\\site-packages\\sklearn\\gaussian_process\\kernels.py:437: ConvergenceWarning: The optimal value found for dimension 0 of parameter k2__length_scale is close to the specified upper bound 10.0. Increasing the bound and calling fit again may find a better value.\n",
      "  ConvergenceWarning,\n"
     ]
    },
    {
     "name": "stdout",
     "output_type": "stream",
     "text": [
      "Model predictions with MC population...\n",
      "Pf_ref: None Pf_SuMo: 9.8e-05 B_sumo: 3.724 CoV_SuMo: 0.101\n",
      " \n",
      "Training model with 118 samples..\n"
     ]
    },
    {
     "name": "stderr",
     "output_type": "stream",
     "text": [
      "C:\\Users\\Administrator\\anaconda3\\envs\\surrogate\\lib\\site-packages\\sklearn\\gaussian_process\\kernels.py:437: ConvergenceWarning: The optimal value found for dimension 0 of parameter k2__length_scale is close to the specified upper bound 10.0. Increasing the bound and calling fit again may find a better value.\n",
      "  ConvergenceWarning,\n"
     ]
    },
    {
     "name": "stdout",
     "output_type": "stream",
     "text": [
      "Model predictions with MC population...\n",
      "Pf_ref: None Pf_SuMo: 9.8e-05 B_sumo: 3.724 CoV_SuMo: 0.101\n",
      " \n",
      "Training model with 119 samples..\n"
     ]
    },
    {
     "name": "stderr",
     "output_type": "stream",
     "text": [
      "C:\\Users\\Administrator\\anaconda3\\envs\\surrogate\\lib\\site-packages\\sklearn\\gaussian_process\\kernels.py:437: ConvergenceWarning: The optimal value found for dimension 0 of parameter k2__length_scale is close to the specified upper bound 10.0. Increasing the bound and calling fit again may find a better value.\n",
      "  ConvergenceWarning,\n"
     ]
    },
    {
     "name": "stdout",
     "output_type": "stream",
     "text": [
      "Model predictions with MC population...\n",
      "Pf_ref: None Pf_SuMo: 9.4e-05 B_sumo: 3.735 CoV_SuMo: 0.103\n",
      " \n",
      "Training model with 120 samples..\n"
     ]
    },
    {
     "name": "stderr",
     "output_type": "stream",
     "text": [
      "C:\\Users\\Administrator\\anaconda3\\envs\\surrogate\\lib\\site-packages\\sklearn\\gaussian_process\\kernels.py:437: ConvergenceWarning: The optimal value found for dimension 0 of parameter k2__length_scale is close to the specified upper bound 10.0. Increasing the bound and calling fit again may find a better value.\n",
      "  ConvergenceWarning,\n"
     ]
    },
    {
     "name": "stdout",
     "output_type": "stream",
     "text": [
      "Model predictions with MC population...\n",
      "Pf_ref: None Pf_SuMo: 0.0001 B_sumo: 3.719 CoV_SuMo: 0.100\n",
      " \n",
      "Training model with 121 samples..\n"
     ]
    },
    {
     "name": "stderr",
     "output_type": "stream",
     "text": [
      "C:\\Users\\Administrator\\anaconda3\\envs\\surrogate\\lib\\site-packages\\sklearn\\gaussian_process\\kernels.py:437: ConvergenceWarning: The optimal value found for dimension 0 of parameter k2__length_scale is close to the specified upper bound 10.0. Increasing the bound and calling fit again may find a better value.\n",
      "  ConvergenceWarning,\n"
     ]
    },
    {
     "name": "stdout",
     "output_type": "stream",
     "text": [
      "Model predictions with MC population...\n",
      "Pf_ref: None Pf_SuMo: 0.000103 B_sumo: 3.712 CoV_SuMo: 0.099\n",
      " \n",
      "Training model with 122 samples..\n"
     ]
    },
    {
     "name": "stderr",
     "output_type": "stream",
     "text": [
      "C:\\Users\\Administrator\\anaconda3\\envs\\surrogate\\lib\\site-packages\\sklearn\\gaussian_process\\kernels.py:437: ConvergenceWarning: The optimal value found for dimension 0 of parameter k2__length_scale is close to the specified upper bound 10.0. Increasing the bound and calling fit again may find a better value.\n",
      "  ConvergenceWarning,\n"
     ]
    },
    {
     "name": "stdout",
     "output_type": "stream",
     "text": [
      "Model predictions with MC population...\n",
      "Pf_ref: None Pf_SuMo: 9.1e-05 B_sumo: 3.743 CoV_SuMo: 0.105\n",
      " \n",
      "Training model with 123 samples..\n"
     ]
    },
    {
     "name": "stderr",
     "output_type": "stream",
     "text": [
      "C:\\Users\\Administrator\\anaconda3\\envs\\surrogate\\lib\\site-packages\\sklearn\\gaussian_process\\kernels.py:437: ConvergenceWarning: The optimal value found for dimension 0 of parameter k2__length_scale is close to the specified upper bound 10.0. Increasing the bound and calling fit again may find a better value.\n",
      "  ConvergenceWarning,\n"
     ]
    },
    {
     "name": "stdout",
     "output_type": "stream",
     "text": [
      "Model predictions with MC population...\n",
      "Pf_ref: None Pf_SuMo: 0.000109 B_sumo: 3.697 CoV_SuMo: 0.096\n",
      " \n",
      "Training model with 124 samples..\n"
     ]
    },
    {
     "name": "stderr",
     "output_type": "stream",
     "text": [
      "C:\\Users\\Administrator\\anaconda3\\envs\\surrogate\\lib\\site-packages\\sklearn\\gaussian_process\\kernels.py:437: ConvergenceWarning: The optimal value found for dimension 0 of parameter k2__length_scale is close to the specified upper bound 10.0. Increasing the bound and calling fit again may find a better value.\n",
      "  ConvergenceWarning,\n"
     ]
    },
    {
     "name": "stdout",
     "output_type": "stream",
     "text": [
      "Model predictions with MC population...\n",
      "Pf_ref: None Pf_SuMo: 9.4e-05 B_sumo: 3.735 CoV_SuMo: 0.103\n",
      " \n",
      "Training model with 125 samples..\n"
     ]
    },
    {
     "name": "stderr",
     "output_type": "stream",
     "text": [
      "C:\\Users\\Administrator\\anaconda3\\envs\\surrogate\\lib\\site-packages\\sklearn\\gaussian_process\\kernels.py:437: ConvergenceWarning: The optimal value found for dimension 0 of parameter k2__length_scale is close to the specified upper bound 10.0. Increasing the bound and calling fit again may find a better value.\n",
      "  ConvergenceWarning,\n"
     ]
    },
    {
     "name": "stdout",
     "output_type": "stream",
     "text": [
      "Model predictions with MC population...\n",
      "Pf_ref: None Pf_SuMo: 0.000101 B_sumo: 3.716 CoV_SuMo: 0.100\n",
      " \n",
      "Training model with 126 samples..\n"
     ]
    },
    {
     "name": "stderr",
     "output_type": "stream",
     "text": [
      "C:\\Users\\Administrator\\anaconda3\\envs\\surrogate\\lib\\site-packages\\sklearn\\gaussian_process\\kernels.py:437: ConvergenceWarning: The optimal value found for dimension 0 of parameter k2__length_scale is close to the specified upper bound 10.0. Increasing the bound and calling fit again may find a better value.\n",
      "  ConvergenceWarning,\n"
     ]
    },
    {
     "name": "stdout",
     "output_type": "stream",
     "text": [
      "Model predictions with MC population...\n",
      "Pf_ref: None Pf_SuMo: 7.5e-05 B_sumo: 3.791 CoV_SuMo: 0.116\n",
      " \n",
      "Training model with 127 samples..\n"
     ]
    },
    {
     "name": "stderr",
     "output_type": "stream",
     "text": [
      "C:\\Users\\Administrator\\anaconda3\\envs\\surrogate\\lib\\site-packages\\sklearn\\gaussian_process\\kernels.py:437: ConvergenceWarning: The optimal value found for dimension 0 of parameter k2__length_scale is close to the specified upper bound 10.0. Increasing the bound and calling fit again may find a better value.\n",
      "  ConvergenceWarning,\n"
     ]
    },
    {
     "name": "stdout",
     "output_type": "stream",
     "text": [
      "Model predictions with MC population...\n",
      "Pf_ref: None Pf_SuMo: 7e-05 B_sumo: 3.808 CoV_SuMo: 0.119\n",
      " \n",
      "Training model with 128 samples..\n"
     ]
    },
    {
     "name": "stderr",
     "output_type": "stream",
     "text": [
      "C:\\Users\\Administrator\\anaconda3\\envs\\surrogate\\lib\\site-packages\\sklearn\\gaussian_process\\kernels.py:437: ConvergenceWarning: The optimal value found for dimension 0 of parameter k2__length_scale is close to the specified upper bound 10.0. Increasing the bound and calling fit again may find a better value.\n",
      "  ConvergenceWarning,\n"
     ]
    },
    {
     "name": "stdout",
     "output_type": "stream",
     "text": [
      "Model predictions with MC population...\n",
      "Pf_ref: None Pf_SuMo: 7.6e-05 B_sumo: 3.788 CoV_SuMo: 0.115\n",
      " \n",
      "Training model with 129 samples..\n"
     ]
    },
    {
     "name": "stderr",
     "output_type": "stream",
     "text": [
      "C:\\Users\\Administrator\\anaconda3\\envs\\surrogate\\lib\\site-packages\\sklearn\\gaussian_process\\kernels.py:437: ConvergenceWarning: The optimal value found for dimension 0 of parameter k2__length_scale is close to the specified upper bound 10.0. Increasing the bound and calling fit again may find a better value.\n",
      "  ConvergenceWarning,\n"
     ]
    },
    {
     "name": "stdout",
     "output_type": "stream",
     "text": [
      "Model predictions with MC population...\n",
      "Pf_ref: None Pf_SuMo: 6.8e-05 B_sumo: 3.815 CoV_SuMo: 0.121\n",
      " \n",
      "Training model with 130 samples..\n"
     ]
    },
    {
     "name": "stderr",
     "output_type": "stream",
     "text": [
      "C:\\Users\\Administrator\\anaconda3\\envs\\surrogate\\lib\\site-packages\\sklearn\\gaussian_process\\kernels.py:437: ConvergenceWarning: The optimal value found for dimension 0 of parameter k2__length_scale is close to the specified upper bound 10.0. Increasing the bound and calling fit again may find a better value.\n",
      "  ConvergenceWarning,\n"
     ]
    },
    {
     "name": "stdout",
     "output_type": "stream",
     "text": [
      "Model predictions with MC population...\n",
      "Pf_ref: None Pf_SuMo: 8.1e-05 B_sumo: 3.772 CoV_SuMo: 0.111\n",
      " \n",
      "Training model with 131 samples..\n"
     ]
    },
    {
     "name": "stderr",
     "output_type": "stream",
     "text": [
      "C:\\Users\\Administrator\\anaconda3\\envs\\surrogate\\lib\\site-packages\\sklearn\\gaussian_process\\kernels.py:437: ConvergenceWarning: The optimal value found for dimension 0 of parameter k2__length_scale is close to the specified upper bound 10.0. Increasing the bound and calling fit again may find a better value.\n",
      "  ConvergenceWarning,\n"
     ]
    },
    {
     "name": "stdout",
     "output_type": "stream",
     "text": [
      "Model predictions with MC population...\n",
      "Pf_ref: None Pf_SuMo: 6.4e-05 B_sumo: 3.830 CoV_SuMo: 0.125\n",
      " \n",
      "Training model with 132 samples..\n"
     ]
    },
    {
     "name": "stderr",
     "output_type": "stream",
     "text": [
      "C:\\Users\\Administrator\\anaconda3\\envs\\surrogate\\lib\\site-packages\\sklearn\\gaussian_process\\kernels.py:437: ConvergenceWarning: The optimal value found for dimension 0 of parameter k2__length_scale is close to the specified upper bound 10.0. Increasing the bound and calling fit again may find a better value.\n",
      "  ConvergenceWarning,\n"
     ]
    },
    {
     "name": "stdout",
     "output_type": "stream",
     "text": [
      "Model predictions with MC population...\n",
      "Pf_ref: None Pf_SuMo: 5.9e-05 B_sumo: 3.850 CoV_SuMo: 0.130\n",
      " \n",
      "Training model with 133 samples..\n"
     ]
    },
    {
     "name": "stderr",
     "output_type": "stream",
     "text": [
      "C:\\Users\\Administrator\\anaconda3\\envs\\surrogate\\lib\\site-packages\\sklearn\\gaussian_process\\kernels.py:437: ConvergenceWarning: The optimal value found for dimension 0 of parameter k2__length_scale is close to the specified upper bound 10.0. Increasing the bound and calling fit again may find a better value.\n",
      "  ConvergenceWarning,\n"
     ]
    },
    {
     "name": "stdout",
     "output_type": "stream",
     "text": [
      "Model predictions with MC population...\n",
      "Pf_ref: None Pf_SuMo: 7.9e-05 B_sumo: 3.778 CoV_SuMo: 0.113\n",
      " \n",
      "Training model with 134 samples..\n"
     ]
    },
    {
     "name": "stderr",
     "output_type": "stream",
     "text": [
      "C:\\Users\\Administrator\\anaconda3\\envs\\surrogate\\lib\\site-packages\\sklearn\\gaussian_process\\kernels.py:437: ConvergenceWarning: The optimal value found for dimension 0 of parameter k2__length_scale is close to the specified upper bound 10.0. Increasing the bound and calling fit again may find a better value.\n",
      "  ConvergenceWarning,\n"
     ]
    },
    {
     "name": "stdout",
     "output_type": "stream",
     "text": [
      "Model predictions with MC population...\n",
      "Pf_ref: None Pf_SuMo: 6.1e-05 B_sumo: 3.842 CoV_SuMo: 0.128\n",
      " \n",
      "Training model with 135 samples..\n"
     ]
    },
    {
     "name": "stderr",
     "output_type": "stream",
     "text": [
      "C:\\Users\\Administrator\\anaconda3\\envs\\surrogate\\lib\\site-packages\\sklearn\\gaussian_process\\kernels.py:437: ConvergenceWarning: The optimal value found for dimension 0 of parameter k2__length_scale is close to the specified upper bound 10.0. Increasing the bound and calling fit again may find a better value.\n",
      "  ConvergenceWarning,\n"
     ]
    },
    {
     "name": "stdout",
     "output_type": "stream",
     "text": [
      "Model predictions with MC population...\n",
      "Pf_ref: None Pf_SuMo: 6e-05 B_sumo: 3.846 CoV_SuMo: 0.129\n",
      " \n",
      "Training model with 136 samples..\n"
     ]
    },
    {
     "name": "stderr",
     "output_type": "stream",
     "text": [
      "C:\\Users\\Administrator\\anaconda3\\envs\\surrogate\\lib\\site-packages\\sklearn\\gaussian_process\\kernels.py:437: ConvergenceWarning: The optimal value found for dimension 0 of parameter k2__length_scale is close to the specified upper bound 10.0. Increasing the bound and calling fit again may find a better value.\n",
      "  ConvergenceWarning,\n"
     ]
    },
    {
     "name": "stdout",
     "output_type": "stream",
     "text": [
      "Model predictions with MC population...\n",
      "Pf_ref: None Pf_SuMo: 9.1e-05 B_sumo: 3.743 CoV_SuMo: 0.105\n",
      " \n",
      "Training model with 137 samples..\n"
     ]
    },
    {
     "name": "stderr",
     "output_type": "stream",
     "text": [
      "C:\\Users\\Administrator\\anaconda3\\envs\\surrogate\\lib\\site-packages\\sklearn\\gaussian_process\\kernels.py:437: ConvergenceWarning: The optimal value found for dimension 0 of parameter k2__length_scale is close to the specified upper bound 10.0. Increasing the bound and calling fit again may find a better value.\n",
      "  ConvergenceWarning,\n"
     ]
    },
    {
     "name": "stdout",
     "output_type": "stream",
     "text": [
      "Model predictions with MC population...\n",
      "Pf_ref: None Pf_SuMo: 8.4e-05 B_sumo: 3.763 CoV_SuMo: 0.109\n",
      " \n",
      "Training model with 138 samples..\n"
     ]
    },
    {
     "name": "stderr",
     "output_type": "stream",
     "text": [
      "C:\\Users\\Administrator\\anaconda3\\envs\\surrogate\\lib\\site-packages\\sklearn\\gaussian_process\\kernels.py:437: ConvergenceWarning: The optimal value found for dimension 0 of parameter k2__length_scale is close to the specified upper bound 10.0. Increasing the bound and calling fit again may find a better value.\n",
      "  ConvergenceWarning,\n"
     ]
    },
    {
     "name": "stdout",
     "output_type": "stream",
     "text": [
      "Model predictions with MC population...\n",
      "Pf_ref: None Pf_SuMo: 8.5e-05 B_sumo: 3.760 CoV_SuMo: 0.108\n",
      " \n",
      "Training model with 139 samples..\n"
     ]
    },
    {
     "name": "stderr",
     "output_type": "stream",
     "text": [
      "C:\\Users\\Administrator\\anaconda3\\envs\\surrogate\\lib\\site-packages\\sklearn\\gaussian_process\\kernels.py:437: ConvergenceWarning: The optimal value found for dimension 0 of parameter k2__length_scale is close to the specified upper bound 10.0. Increasing the bound and calling fit again may find a better value.\n",
      "  ConvergenceWarning,\n"
     ]
    },
    {
     "name": "stdout",
     "output_type": "stream",
     "text": [
      "Model predictions with MC population...\n",
      "Pf_ref: None Pf_SuMo: 8.1e-05 B_sumo: 3.772 CoV_SuMo: 0.111\n",
      " \n",
      "Training model with 140 samples..\n"
     ]
    },
    {
     "name": "stderr",
     "output_type": "stream",
     "text": [
      "C:\\Users\\Administrator\\anaconda3\\envs\\surrogate\\lib\\site-packages\\sklearn\\gaussian_process\\kernels.py:437: ConvergenceWarning: The optimal value found for dimension 0 of parameter k2__length_scale is close to the specified upper bound 10.0. Increasing the bound and calling fit again may find a better value.\n",
      "  ConvergenceWarning,\n"
     ]
    },
    {
     "name": "stdout",
     "output_type": "stream",
     "text": [
      "Model predictions with MC population...\n",
      "Pf_ref: None Pf_SuMo: 0.0001 B_sumo: 3.719 CoV_SuMo: 0.100\n",
      " \n",
      "Training model with 141 samples..\n"
     ]
    },
    {
     "name": "stderr",
     "output_type": "stream",
     "text": [
      "C:\\Users\\Administrator\\anaconda3\\envs\\surrogate\\lib\\site-packages\\sklearn\\gaussian_process\\kernels.py:437: ConvergenceWarning: The optimal value found for dimension 0 of parameter k2__length_scale is close to the specified upper bound 10.0. Increasing the bound and calling fit again may find a better value.\n",
      "  ConvergenceWarning,\n"
     ]
    },
    {
     "name": "stdout",
     "output_type": "stream",
     "text": [
      "Model predictions with MC population...\n",
      "Pf_ref: None Pf_SuMo: 9.9e-05 B_sumo: 3.722 CoV_SuMo: 0.101\n",
      " \n",
      "Training model with 142 samples..\n"
     ]
    },
    {
     "name": "stderr",
     "output_type": "stream",
     "text": [
      "C:\\Users\\Administrator\\anaconda3\\envs\\surrogate\\lib\\site-packages\\sklearn\\gaussian_process\\kernels.py:437: ConvergenceWarning: The optimal value found for dimension 0 of parameter k2__length_scale is close to the specified upper bound 10.0. Increasing the bound and calling fit again may find a better value.\n",
      "  ConvergenceWarning,\n"
     ]
    },
    {
     "name": "stdout",
     "output_type": "stream",
     "text": [
      "Model predictions with MC population...\n",
      "Pf_ref: None Pf_SuMo: 0.000102 B_sumo: 3.714 CoV_SuMo: 0.099\n",
      " \n",
      "Training model with 143 samples..\n"
     ]
    },
    {
     "name": "stderr",
     "output_type": "stream",
     "text": [
      "C:\\Users\\Administrator\\anaconda3\\envs\\surrogate\\lib\\site-packages\\sklearn\\gaussian_process\\kernels.py:437: ConvergenceWarning: The optimal value found for dimension 0 of parameter k2__length_scale is close to the specified upper bound 10.0. Increasing the bound and calling fit again may find a better value.\n",
      "  ConvergenceWarning,\n"
     ]
    },
    {
     "name": "stdout",
     "output_type": "stream",
     "text": [
      "Model predictions with MC population...\n",
      "Pf_ref: None Pf_SuMo: 0.000116 B_sumo: 3.681 CoV_SuMo: 0.093\n",
      " \n",
      "Training model with 144 samples..\n"
     ]
    },
    {
     "name": "stderr",
     "output_type": "stream",
     "text": [
      "C:\\Users\\Administrator\\anaconda3\\envs\\surrogate\\lib\\site-packages\\sklearn\\gaussian_process\\kernels.py:437: ConvergenceWarning: The optimal value found for dimension 0 of parameter k2__length_scale is close to the specified upper bound 10.0. Increasing the bound and calling fit again may find a better value.\n",
      "  ConvergenceWarning,\n"
     ]
    },
    {
     "name": "stdout",
     "output_type": "stream",
     "text": [
      "Model predictions with MC population...\n",
      "Pf_ref: None Pf_SuMo: 0.000128 B_sumo: 3.656 CoV_SuMo: 0.088\n",
      " \n",
      "Training model with 145 samples..\n"
     ]
    },
    {
     "name": "stderr",
     "output_type": "stream",
     "text": [
      "C:\\Users\\Administrator\\anaconda3\\envs\\surrogate\\lib\\site-packages\\sklearn\\gaussian_process\\kernels.py:437: ConvergenceWarning: The optimal value found for dimension 0 of parameter k2__length_scale is close to the specified upper bound 10.0. Increasing the bound and calling fit again may find a better value.\n",
      "  ConvergenceWarning,\n"
     ]
    },
    {
     "name": "stdout",
     "output_type": "stream",
     "text": [
      "Model predictions with MC population...\n",
      "Pf_ref: None Pf_SuMo: 0.000135 B_sumo: 3.643 CoV_SuMo: 0.086\n",
      " \n",
      "Training model with 146 samples..\n"
     ]
    },
    {
     "name": "stderr",
     "output_type": "stream",
     "text": [
      "C:\\Users\\Administrator\\anaconda3\\envs\\surrogate\\lib\\site-packages\\sklearn\\gaussian_process\\kernels.py:437: ConvergenceWarning: The optimal value found for dimension 0 of parameter k2__length_scale is close to the specified upper bound 10.0. Increasing the bound and calling fit again may find a better value.\n",
      "  ConvergenceWarning,\n"
     ]
    },
    {
     "name": "stdout",
     "output_type": "stream",
     "text": [
      "Model predictions with MC population...\n",
      "Pf_ref: None Pf_SuMo: 0.000146 B_sumo: 3.622 CoV_SuMo: 0.083\n",
      " \n",
      "Training model with 147 samples..\n"
     ]
    },
    {
     "name": "stderr",
     "output_type": "stream",
     "text": [
      "C:\\Users\\Administrator\\anaconda3\\envs\\surrogate\\lib\\site-packages\\sklearn\\gaussian_process\\kernels.py:437: ConvergenceWarning: The optimal value found for dimension 0 of parameter k2__length_scale is close to the specified upper bound 10.0. Increasing the bound and calling fit again may find a better value.\n",
      "  ConvergenceWarning,\n"
     ]
    },
    {
     "name": "stdout",
     "output_type": "stream",
     "text": [
      "Model predictions with MC population...\n",
      "Pf_ref: None Pf_SuMo: 0.000164 B_sumo: 3.592 CoV_SuMo: 0.078\n",
      " \n",
      "Training model with 148 samples..\n"
     ]
    },
    {
     "name": "stderr",
     "output_type": "stream",
     "text": [
      "C:\\Users\\Administrator\\anaconda3\\envs\\surrogate\\lib\\site-packages\\sklearn\\gaussian_process\\kernels.py:437: ConvergenceWarning: The optimal value found for dimension 0 of parameter k2__length_scale is close to the specified upper bound 10.0. Increasing the bound and calling fit again may find a better value.\n",
      "  ConvergenceWarning,\n"
     ]
    },
    {
     "name": "stdout",
     "output_type": "stream",
     "text": [
      "Model predictions with MC population...\n",
      "Pf_ref: None Pf_SuMo: 0.000136 B_sumo: 3.641 CoV_SuMo: 0.086\n",
      " \n",
      "Training model with 149 samples..\n"
     ]
    },
    {
     "name": "stderr",
     "output_type": "stream",
     "text": [
      "C:\\Users\\Administrator\\anaconda3\\envs\\surrogate\\lib\\site-packages\\sklearn\\gaussian_process\\kernels.py:437: ConvergenceWarning: The optimal value found for dimension 0 of parameter k2__length_scale is close to the specified upper bound 10.0. Increasing the bound and calling fit again may find a better value.\n",
      "  ConvergenceWarning,\n"
     ]
    },
    {
     "name": "stdout",
     "output_type": "stream",
     "text": [
      "Model predictions with MC population...\n",
      "Pf_ref: None Pf_SuMo: 0.000118 B_sumo: 3.677 CoV_SuMo: 0.092\n",
      " \n",
      "Training model with 150 samples..\n"
     ]
    },
    {
     "name": "stderr",
     "output_type": "stream",
     "text": [
      "C:\\Users\\Administrator\\anaconda3\\envs\\surrogate\\lib\\site-packages\\sklearn\\gaussian_process\\kernels.py:437: ConvergenceWarning: The optimal value found for dimension 0 of parameter k2__length_scale is close to the specified upper bound 10.0. Increasing the bound and calling fit again may find a better value.\n",
      "  ConvergenceWarning,\n"
     ]
    },
    {
     "name": "stdout",
     "output_type": "stream",
     "text": [
      "Model predictions with MC population...\n",
      "Pf_ref: None Pf_SuMo: 0.000144 B_sumo: 3.626 CoV_SuMo: 0.083\n",
      " \n",
      "Experiment:  5 ########################################################\n",
      "Training model with 50 samples..\n"
     ]
    },
    {
     "name": "stderr",
     "output_type": "stream",
     "text": [
      "C:\\Users\\Administrator\\anaconda3\\envs\\surrogate\\lib\\site-packages\\sklearn\\gaussian_process\\kernels.py:437: ConvergenceWarning: The optimal value found for dimension 0 of parameter k2__length_scale is close to the specified upper bound 10.0. Increasing the bound and calling fit again may find a better value.\n",
      "  ConvergenceWarning,\n"
     ]
    },
    {
     "name": "stdout",
     "output_type": "stream",
     "text": [
      "Model predictions with MC population...\n",
      "Pf_ref: None Pf_SuMo: 0.985852 B_sumo: -2.193 CoV_SuMo: 0.000\n",
      " \n",
      "Training model with 51 samples..\n"
     ]
    },
    {
     "name": "stderr",
     "output_type": "stream",
     "text": [
      "C:\\Users\\Administrator\\anaconda3\\envs\\surrogate\\lib\\site-packages\\sklearn\\gaussian_process\\kernels.py:437: ConvergenceWarning: The optimal value found for dimension 0 of parameter k2__length_scale is close to the specified upper bound 10.0. Increasing the bound and calling fit again may find a better value.\n",
      "  ConvergenceWarning,\n"
     ]
    },
    {
     "name": "stdout",
     "output_type": "stream",
     "text": [
      "Model predictions with MC population...\n",
      "Pf_ref: None Pf_SuMo: 0.908536 B_sumo: -1.332 CoV_SuMo: 0.000\n",
      " \n",
      "Training model with 52 samples..\n"
     ]
    },
    {
     "name": "stderr",
     "output_type": "stream",
     "text": [
      "C:\\Users\\Administrator\\anaconda3\\envs\\surrogate\\lib\\site-packages\\sklearn\\gaussian_process\\kernels.py:437: ConvergenceWarning: The optimal value found for dimension 0 of parameter k2__length_scale is close to the specified upper bound 10.0. Increasing the bound and calling fit again may find a better value.\n",
      "  ConvergenceWarning,\n"
     ]
    },
    {
     "name": "stdout",
     "output_type": "stream",
     "text": [
      "Model predictions with MC population...\n",
      "Pf_ref: None Pf_SuMo: 0.749542 B_sumo: -0.673 CoV_SuMo: 0.001\n",
      " \n",
      "Training model with 53 samples..\n"
     ]
    },
    {
     "name": "stderr",
     "output_type": "stream",
     "text": [
      "C:\\Users\\Administrator\\anaconda3\\envs\\surrogate\\lib\\site-packages\\sklearn\\gaussian_process\\kernels.py:437: ConvergenceWarning: The optimal value found for dimension 0 of parameter k2__length_scale is close to the specified upper bound 10.0. Increasing the bound and calling fit again may find a better value.\n",
      "  ConvergenceWarning,\n"
     ]
    },
    {
     "name": "stdout",
     "output_type": "stream",
     "text": [
      "Model predictions with MC population...\n",
      "Pf_ref: None Pf_SuMo: 0.678261 B_sumo: -0.463 CoV_SuMo: 0.001\n",
      " \n",
      "Training model with 54 samples..\n"
     ]
    },
    {
     "name": "stderr",
     "output_type": "stream",
     "text": [
      "C:\\Users\\Administrator\\anaconda3\\envs\\surrogate\\lib\\site-packages\\sklearn\\gaussian_process\\kernels.py:437: ConvergenceWarning: The optimal value found for dimension 0 of parameter k2__length_scale is close to the specified upper bound 10.0. Increasing the bound and calling fit again may find a better value.\n",
      "  ConvergenceWarning,\n"
     ]
    },
    {
     "name": "stdout",
     "output_type": "stream",
     "text": [
      "Model predictions with MC population...\n",
      "Pf_ref: None Pf_SuMo: 0.553403 B_sumo: -0.134 CoV_SuMo: 0.001\n",
      " \n",
      "Training model with 55 samples..\n"
     ]
    },
    {
     "name": "stderr",
     "output_type": "stream",
     "text": [
      "C:\\Users\\Administrator\\anaconda3\\envs\\surrogate\\lib\\site-packages\\sklearn\\gaussian_process\\kernels.py:437: ConvergenceWarning: The optimal value found for dimension 0 of parameter k2__length_scale is close to the specified upper bound 10.0. Increasing the bound and calling fit again may find a better value.\n",
      "  ConvergenceWarning,\n"
     ]
    },
    {
     "name": "stdout",
     "output_type": "stream",
     "text": [
      "Model predictions with MC population...\n",
      "Pf_ref: None Pf_SuMo: 0.456953 B_sumo: 0.108 CoV_SuMo: 0.001\n",
      " \n",
      "Training model with 56 samples..\n"
     ]
    },
    {
     "name": "stderr",
     "output_type": "stream",
     "text": [
      "C:\\Users\\Administrator\\anaconda3\\envs\\surrogate\\lib\\site-packages\\sklearn\\gaussian_process\\kernels.py:437: ConvergenceWarning: The optimal value found for dimension 0 of parameter k2__length_scale is close to the specified upper bound 10.0. Increasing the bound and calling fit again may find a better value.\n",
      "  ConvergenceWarning,\n"
     ]
    },
    {
     "name": "stdout",
     "output_type": "stream",
     "text": [
      "Model predictions with MC population...\n",
      "Pf_ref: None Pf_SuMo: 0.370458 B_sumo: 0.331 CoV_SuMo: 0.001\n",
      " \n",
      "Training model with 57 samples..\n"
     ]
    },
    {
     "name": "stderr",
     "output_type": "stream",
     "text": [
      "C:\\Users\\Administrator\\anaconda3\\envs\\surrogate\\lib\\site-packages\\sklearn\\gaussian_process\\kernels.py:437: ConvergenceWarning: The optimal value found for dimension 0 of parameter k2__length_scale is close to the specified upper bound 10.0. Increasing the bound and calling fit again may find a better value.\n",
      "  ConvergenceWarning,\n"
     ]
    },
    {
     "name": "stdout",
     "output_type": "stream",
     "text": [
      "Model predictions with MC population...\n",
      "Pf_ref: None Pf_SuMo: 0.296924 B_sumo: 0.533 CoV_SuMo: 0.002\n",
      " \n",
      "Training model with 58 samples..\n"
     ]
    },
    {
     "name": "stderr",
     "output_type": "stream",
     "text": [
      "C:\\Users\\Administrator\\anaconda3\\envs\\surrogate\\lib\\site-packages\\sklearn\\gaussian_process\\kernels.py:437: ConvergenceWarning: The optimal value found for dimension 0 of parameter k2__length_scale is close to the specified upper bound 10.0. Increasing the bound and calling fit again may find a better value.\n",
      "  ConvergenceWarning,\n"
     ]
    },
    {
     "name": "stdout",
     "output_type": "stream",
     "text": [
      "Model predictions with MC population...\n",
      "Pf_ref: None Pf_SuMo: 0.226891 B_sumo: 0.749 CoV_SuMo: 0.002\n",
      " \n",
      "Training model with 59 samples..\n"
     ]
    },
    {
     "name": "stderr",
     "output_type": "stream",
     "text": [
      "C:\\Users\\Administrator\\anaconda3\\envs\\surrogate\\lib\\site-packages\\sklearn\\gaussian_process\\kernels.py:437: ConvergenceWarning: The optimal value found for dimension 0 of parameter k2__length_scale is close to the specified upper bound 10.0. Increasing the bound and calling fit again may find a better value.\n",
      "  ConvergenceWarning,\n"
     ]
    },
    {
     "name": "stdout",
     "output_type": "stream",
     "text": [
      "Model predictions with MC population...\n",
      "Pf_ref: None Pf_SuMo: 0.193905 B_sumo: 0.864 CoV_SuMo: 0.002\n",
      " \n",
      "Training model with 60 samples..\n"
     ]
    },
    {
     "name": "stderr",
     "output_type": "stream",
     "text": [
      "C:\\Users\\Administrator\\anaconda3\\envs\\surrogate\\lib\\site-packages\\sklearn\\gaussian_process\\kernels.py:437: ConvergenceWarning: The optimal value found for dimension 0 of parameter k2__length_scale is close to the specified upper bound 10.0. Increasing the bound and calling fit again may find a better value.\n",
      "  ConvergenceWarning,\n"
     ]
    },
    {
     "name": "stdout",
     "output_type": "stream",
     "text": [
      "Model predictions with MC population...\n",
      "Pf_ref: None Pf_SuMo: 0.16558 B_sumo: 0.972 CoV_SuMo: 0.002\n",
      " \n",
      "Training model with 61 samples..\n"
     ]
    },
    {
     "name": "stderr",
     "output_type": "stream",
     "text": [
      "C:\\Users\\Administrator\\anaconda3\\envs\\surrogate\\lib\\site-packages\\sklearn\\gaussian_process\\kernels.py:437: ConvergenceWarning: The optimal value found for dimension 0 of parameter k2__length_scale is close to the specified upper bound 10.0. Increasing the bound and calling fit again may find a better value.\n",
      "  ConvergenceWarning,\n"
     ]
    },
    {
     "name": "stdout",
     "output_type": "stream",
     "text": [
      "Model predictions with MC population...\n",
      "Pf_ref: None Pf_SuMo: 0.149332 B_sumo: 1.039 CoV_SuMo: 0.002\n",
      " \n",
      "Training model with 62 samples..\n"
     ]
    },
    {
     "name": "stderr",
     "output_type": "stream",
     "text": [
      "C:\\Users\\Administrator\\anaconda3\\envs\\surrogate\\lib\\site-packages\\sklearn\\gaussian_process\\kernels.py:437: ConvergenceWarning: The optimal value found for dimension 0 of parameter k2__length_scale is close to the specified upper bound 10.0. Increasing the bound and calling fit again may find a better value.\n",
      "  ConvergenceWarning,\n"
     ]
    },
    {
     "name": "stdout",
     "output_type": "stream",
     "text": [
      "Model predictions with MC population...\n",
      "Pf_ref: None Pf_SuMo: 0.11917 B_sumo: 1.179 CoV_SuMo: 0.003\n",
      " \n",
      "Training model with 63 samples..\n"
     ]
    },
    {
     "name": "stderr",
     "output_type": "stream",
     "text": [
      "C:\\Users\\Administrator\\anaconda3\\envs\\surrogate\\lib\\site-packages\\sklearn\\gaussian_process\\kernels.py:437: ConvergenceWarning: The optimal value found for dimension 0 of parameter k2__length_scale is close to the specified upper bound 10.0. Increasing the bound and calling fit again may find a better value.\n",
      "  ConvergenceWarning,\n"
     ]
    },
    {
     "name": "stdout",
     "output_type": "stream",
     "text": [
      "Model predictions with MC population...\n",
      "Pf_ref: None Pf_SuMo: 0.097185 B_sumo: 1.298 CoV_SuMo: 0.003\n",
      " \n",
      "Training model with 64 samples..\n"
     ]
    },
    {
     "name": "stderr",
     "output_type": "stream",
     "text": [
      "C:\\Users\\Administrator\\anaconda3\\envs\\surrogate\\lib\\site-packages\\sklearn\\gaussian_process\\kernels.py:437: ConvergenceWarning: The optimal value found for dimension 0 of parameter k2__length_scale is close to the specified upper bound 10.0. Increasing the bound and calling fit again may find a better value.\n",
      "  ConvergenceWarning,\n"
     ]
    },
    {
     "name": "stdout",
     "output_type": "stream",
     "text": [
      "Model predictions with MC population...\n",
      "Pf_ref: None Pf_SuMo: 0.088006 B_sumo: 1.353 CoV_SuMo: 0.003\n",
      " \n",
      "Training model with 65 samples..\n"
     ]
    },
    {
     "name": "stderr",
     "output_type": "stream",
     "text": [
      "C:\\Users\\Administrator\\anaconda3\\envs\\surrogate\\lib\\site-packages\\sklearn\\gaussian_process\\kernels.py:437: ConvergenceWarning: The optimal value found for dimension 0 of parameter k2__length_scale is close to the specified upper bound 10.0. Increasing the bound and calling fit again may find a better value.\n",
      "  ConvergenceWarning,\n"
     ]
    },
    {
     "name": "stdout",
     "output_type": "stream",
     "text": [
      "Model predictions with MC population...\n",
      "Pf_ref: None Pf_SuMo: 0.066451 B_sumo: 1.503 CoV_SuMo: 0.004\n",
      " \n",
      "Training model with 66 samples..\n"
     ]
    },
    {
     "name": "stderr",
     "output_type": "stream",
     "text": [
      "C:\\Users\\Administrator\\anaconda3\\envs\\surrogate\\lib\\site-packages\\sklearn\\gaussian_process\\kernels.py:437: ConvergenceWarning: The optimal value found for dimension 0 of parameter k2__length_scale is close to the specified upper bound 10.0. Increasing the bound and calling fit again may find a better value.\n",
      "  ConvergenceWarning,\n"
     ]
    },
    {
     "name": "stdout",
     "output_type": "stream",
     "text": [
      "Model predictions with MC population...\n",
      "Pf_ref: None Pf_SuMo: 0.051736 B_sumo: 1.628 CoV_SuMo: 0.004\n",
      " \n",
      "Training model with 67 samples..\n"
     ]
    },
    {
     "name": "stderr",
     "output_type": "stream",
     "text": [
      "C:\\Users\\Administrator\\anaconda3\\envs\\surrogate\\lib\\site-packages\\sklearn\\gaussian_process\\kernels.py:437: ConvergenceWarning: The optimal value found for dimension 0 of parameter k2__length_scale is close to the specified upper bound 10.0. Increasing the bound and calling fit again may find a better value.\n",
      "  ConvergenceWarning,\n"
     ]
    },
    {
     "name": "stdout",
     "output_type": "stream",
     "text": [
      "Model predictions with MC population...\n",
      "Pf_ref: None Pf_SuMo: 0.040273 B_sumo: 1.748 CoV_SuMo: 0.005\n",
      " \n",
      "Training model with 68 samples..\n"
     ]
    },
    {
     "name": "stderr",
     "output_type": "stream",
     "text": [
      "C:\\Users\\Administrator\\anaconda3\\envs\\surrogate\\lib\\site-packages\\sklearn\\gaussian_process\\kernels.py:437: ConvergenceWarning: The optimal value found for dimension 0 of parameter k2__length_scale is close to the specified upper bound 10.0. Increasing the bound and calling fit again may find a better value.\n",
      "  ConvergenceWarning,\n"
     ]
    },
    {
     "name": "stdout",
     "output_type": "stream",
     "text": [
      "Model predictions with MC population...\n",
      "Pf_ref: None Pf_SuMo: 0.03516 B_sumo: 1.810 CoV_SuMo: 0.005\n",
      " \n",
      "Training model with 69 samples..\n"
     ]
    },
    {
     "name": "stderr",
     "output_type": "stream",
     "text": [
      "C:\\Users\\Administrator\\anaconda3\\envs\\surrogate\\lib\\site-packages\\sklearn\\gaussian_process\\kernels.py:437: ConvergenceWarning: The optimal value found for dimension 0 of parameter k2__length_scale is close to the specified upper bound 10.0. Increasing the bound and calling fit again may find a better value.\n",
      "  ConvergenceWarning,\n"
     ]
    },
    {
     "name": "stdout",
     "output_type": "stream",
     "text": [
      "Model predictions with MC population...\n",
      "Pf_ref: None Pf_SuMo: 0.026075 B_sumo: 1.942 CoV_SuMo: 0.006\n",
      " \n",
      "Training model with 70 samples..\n"
     ]
    },
    {
     "name": "stderr",
     "output_type": "stream",
     "text": [
      "C:\\Users\\Administrator\\anaconda3\\envs\\surrogate\\lib\\site-packages\\sklearn\\gaussian_process\\kernels.py:437: ConvergenceWarning: The optimal value found for dimension 0 of parameter k2__length_scale is close to the specified upper bound 10.0. Increasing the bound and calling fit again may find a better value.\n",
      "  ConvergenceWarning,\n"
     ]
    },
    {
     "name": "stdout",
     "output_type": "stream",
     "text": [
      "Model predictions with MC population...\n",
      "Pf_ref: None Pf_SuMo: 0.019229 B_sumo: 2.070 CoV_SuMo: 0.007\n",
      " \n",
      "Training model with 71 samples..\n"
     ]
    },
    {
     "name": "stderr",
     "output_type": "stream",
     "text": [
      "C:\\Users\\Administrator\\anaconda3\\envs\\surrogate\\lib\\site-packages\\sklearn\\gaussian_process\\kernels.py:437: ConvergenceWarning: The optimal value found for dimension 0 of parameter k2__length_scale is close to the specified upper bound 10.0. Increasing the bound and calling fit again may find a better value.\n",
      "  ConvergenceWarning,\n"
     ]
    },
    {
     "name": "stdout",
     "output_type": "stream",
     "text": [
      "Model predictions with MC population...\n",
      "Pf_ref: None Pf_SuMo: 0.015445 B_sumo: 2.159 CoV_SuMo: 0.008\n",
      " \n",
      "Training model with 72 samples..\n"
     ]
    },
    {
     "name": "stderr",
     "output_type": "stream",
     "text": [
      "C:\\Users\\Administrator\\anaconda3\\envs\\surrogate\\lib\\site-packages\\sklearn\\gaussian_process\\kernels.py:437: ConvergenceWarning: The optimal value found for dimension 0 of parameter k2__length_scale is close to the specified upper bound 10.0. Increasing the bound and calling fit again may find a better value.\n",
      "  ConvergenceWarning,\n"
     ]
    },
    {
     "name": "stdout",
     "output_type": "stream",
     "text": [
      "Model predictions with MC population...\n",
      "Pf_ref: None Pf_SuMo: 0.011521 B_sumo: 2.273 CoV_SuMo: 0.009\n",
      " \n",
      "Training model with 73 samples..\n"
     ]
    },
    {
     "name": "stderr",
     "output_type": "stream",
     "text": [
      "C:\\Users\\Administrator\\anaconda3\\envs\\surrogate\\lib\\site-packages\\sklearn\\gaussian_process\\kernels.py:437: ConvergenceWarning: The optimal value found for dimension 0 of parameter k2__length_scale is close to the specified upper bound 10.0. Increasing the bound and calling fit again may find a better value.\n",
      "  ConvergenceWarning,\n"
     ]
    },
    {
     "name": "stdout",
     "output_type": "stream",
     "text": [
      "Model predictions with MC population...\n",
      "Pf_ref: None Pf_SuMo: 0.007472 B_sumo: 2.434 CoV_SuMo: 0.011\n",
      " \n",
      "Training model with 74 samples..\n"
     ]
    },
    {
     "name": "stderr",
     "output_type": "stream",
     "text": [
      "C:\\Users\\Administrator\\anaconda3\\envs\\surrogate\\lib\\site-packages\\sklearn\\gaussian_process\\kernels.py:437: ConvergenceWarning: The optimal value found for dimension 0 of parameter k2__length_scale is close to the specified upper bound 10.0. Increasing the bound and calling fit again may find a better value.\n",
      "  ConvergenceWarning,\n"
     ]
    },
    {
     "name": "stdout",
     "output_type": "stream",
     "text": [
      "Model predictions with MC population...\n",
      "Pf_ref: None Pf_SuMo: 0.004367 B_sumo: 2.622 CoV_SuMo: 0.015\n",
      " \n",
      "Training model with 75 samples..\n"
     ]
    },
    {
     "name": "stderr",
     "output_type": "stream",
     "text": [
      "C:\\Users\\Administrator\\anaconda3\\envs\\surrogate\\lib\\site-packages\\sklearn\\gaussian_process\\kernels.py:437: ConvergenceWarning: The optimal value found for dimension 0 of parameter k2__length_scale is close to the specified upper bound 10.0. Increasing the bound and calling fit again may find a better value.\n",
      "  ConvergenceWarning,\n"
     ]
    },
    {
     "name": "stdout",
     "output_type": "stream",
     "text": [
      "Model predictions with MC population...\n",
      "Pf_ref: None Pf_SuMo: 0.002835 B_sumo: 2.766 CoV_SuMo: 0.019\n",
      " \n",
      "Training model with 76 samples..\n"
     ]
    },
    {
     "name": "stderr",
     "output_type": "stream",
     "text": [
      "C:\\Users\\Administrator\\anaconda3\\envs\\surrogate\\lib\\site-packages\\sklearn\\gaussian_process\\kernels.py:437: ConvergenceWarning: The optimal value found for dimension 0 of parameter k2__length_scale is close to the specified upper bound 10.0. Increasing the bound and calling fit again may find a better value.\n",
      "  ConvergenceWarning,\n"
     ]
    },
    {
     "name": "stdout",
     "output_type": "stream",
     "text": [
      "Model predictions with MC population...\n",
      "Pf_ref: None Pf_SuMo: 0.001809 B_sumo: 2.910 CoV_SuMo: 0.024\n",
      " \n",
      "Training model with 77 samples..\n"
     ]
    },
    {
     "name": "stderr",
     "output_type": "stream",
     "text": [
      "C:\\Users\\Administrator\\anaconda3\\envs\\surrogate\\lib\\site-packages\\sklearn\\gaussian_process\\kernels.py:437: ConvergenceWarning: The optimal value found for dimension 0 of parameter k2__length_scale is close to the specified upper bound 10.0. Increasing the bound and calling fit again may find a better value.\n",
      "  ConvergenceWarning,\n"
     ]
    },
    {
     "name": "stdout",
     "output_type": "stream",
     "text": [
      "Model predictions with MC population...\n",
      "Pf_ref: None Pf_SuMo: 0.001884 B_sumo: 2.897 CoV_SuMo: 0.023\n",
      " \n",
      "Training model with 78 samples..\n"
     ]
    },
    {
     "name": "stderr",
     "output_type": "stream",
     "text": [
      "C:\\Users\\Administrator\\anaconda3\\envs\\surrogate\\lib\\site-packages\\sklearn\\gaussian_process\\kernels.py:437: ConvergenceWarning: The optimal value found for dimension 0 of parameter k2__length_scale is close to the specified upper bound 10.0. Increasing the bound and calling fit again may find a better value.\n",
      "  ConvergenceWarning,\n"
     ]
    },
    {
     "name": "stdout",
     "output_type": "stream",
     "text": [
      "Model predictions with MC population...\n",
      "Pf_ref: None Pf_SuMo: 0.001379 B_sumo: 2.994 CoV_SuMo: 0.027\n",
      " \n",
      "Training model with 79 samples..\n"
     ]
    },
    {
     "name": "stderr",
     "output_type": "stream",
     "text": [
      "C:\\Users\\Administrator\\anaconda3\\envs\\surrogate\\lib\\site-packages\\sklearn\\gaussian_process\\kernels.py:437: ConvergenceWarning: The optimal value found for dimension 0 of parameter k2__length_scale is close to the specified upper bound 10.0. Increasing the bound and calling fit again may find a better value.\n",
      "  ConvergenceWarning,\n"
     ]
    },
    {
     "name": "stdout",
     "output_type": "stream",
     "text": [
      "Model predictions with MC population...\n",
      "Pf_ref: None Pf_SuMo: 0.00119 B_sumo: 3.038 CoV_SuMo: 0.029\n",
      " \n",
      "Training model with 80 samples..\n"
     ]
    },
    {
     "name": "stderr",
     "output_type": "stream",
     "text": [
      "C:\\Users\\Administrator\\anaconda3\\envs\\surrogate\\lib\\site-packages\\sklearn\\gaussian_process\\kernels.py:437: ConvergenceWarning: The optimal value found for dimension 0 of parameter k2__length_scale is close to the specified upper bound 10.0. Increasing the bound and calling fit again may find a better value.\n",
      "  ConvergenceWarning,\n"
     ]
    },
    {
     "name": "stdout",
     "output_type": "stream",
     "text": [
      "Model predictions with MC population...\n",
      "Pf_ref: None Pf_SuMo: 0.000863 B_sumo: 3.134 CoV_SuMo: 0.034\n",
      " \n",
      "Training model with 81 samples..\n"
     ]
    },
    {
     "name": "stderr",
     "output_type": "stream",
     "text": [
      "C:\\Users\\Administrator\\anaconda3\\envs\\surrogate\\lib\\site-packages\\sklearn\\gaussian_process\\kernels.py:437: ConvergenceWarning: The optimal value found for dimension 0 of parameter k2__length_scale is close to the specified upper bound 10.0. Increasing the bound and calling fit again may find a better value.\n",
      "  ConvergenceWarning,\n"
     ]
    },
    {
     "name": "stdout",
     "output_type": "stream",
     "text": [
      "Model predictions with MC population...\n",
      "Pf_ref: None Pf_SuMo: 0.00059 B_sumo: 3.244 CoV_SuMo: 0.041\n",
      " \n",
      "Training model with 82 samples..\n"
     ]
    },
    {
     "name": "stderr",
     "output_type": "stream",
     "text": [
      "C:\\Users\\Administrator\\anaconda3\\envs\\surrogate\\lib\\site-packages\\sklearn\\gaussian_process\\kernels.py:437: ConvergenceWarning: The optimal value found for dimension 0 of parameter k2__length_scale is close to the specified upper bound 10.0. Increasing the bound and calling fit again may find a better value.\n",
      "  ConvergenceWarning,\n"
     ]
    },
    {
     "name": "stdout",
     "output_type": "stream",
     "text": [
      "Model predictions with MC population...\n",
      "Pf_ref: None Pf_SuMo: 0.00043 B_sumo: 3.333 CoV_SuMo: 0.048\n",
      " \n",
      "Training model with 83 samples..\n"
     ]
    },
    {
     "name": "stderr",
     "output_type": "stream",
     "text": [
      "C:\\Users\\Administrator\\anaconda3\\envs\\surrogate\\lib\\site-packages\\sklearn\\gaussian_process\\kernels.py:437: ConvergenceWarning: The optimal value found for dimension 0 of parameter k2__length_scale is close to the specified upper bound 10.0. Increasing the bound and calling fit again may find a better value.\n",
      "  ConvergenceWarning,\n"
     ]
    },
    {
     "name": "stdout",
     "output_type": "stream",
     "text": [
      "Model predictions with MC population...\n",
      "Pf_ref: None Pf_SuMo: 0.000343 B_sumo: 3.395 CoV_SuMo: 0.054\n",
      " \n",
      "Training model with 84 samples..\n"
     ]
    },
    {
     "name": "stderr",
     "output_type": "stream",
     "text": [
      "C:\\Users\\Administrator\\anaconda3\\envs\\surrogate\\lib\\site-packages\\sklearn\\gaussian_process\\kernels.py:437: ConvergenceWarning: The optimal value found for dimension 0 of parameter k2__length_scale is close to the specified upper bound 10.0. Increasing the bound and calling fit again may find a better value.\n",
      "  ConvergenceWarning,\n"
     ]
    },
    {
     "name": "stdout",
     "output_type": "stream",
     "text": [
      "Model predictions with MC population...\n",
      "Pf_ref: None Pf_SuMo: 0.00032 B_sumo: 3.414 CoV_SuMo: 0.056\n",
      " \n",
      "Training model with 85 samples..\n"
     ]
    },
    {
     "name": "stderr",
     "output_type": "stream",
     "text": [
      "C:\\Users\\Administrator\\anaconda3\\envs\\surrogate\\lib\\site-packages\\sklearn\\gaussian_process\\kernels.py:437: ConvergenceWarning: The optimal value found for dimension 0 of parameter k2__length_scale is close to the specified upper bound 10.0. Increasing the bound and calling fit again may find a better value.\n",
      "  ConvergenceWarning,\n"
     ]
    },
    {
     "name": "stdout",
     "output_type": "stream",
     "text": [
      "Model predictions with MC population...\n",
      "Pf_ref: None Pf_SuMo: 0.0002 B_sumo: 3.540 CoV_SuMo: 0.071\n",
      " \n",
      "Training model with 86 samples..\n"
     ]
    },
    {
     "name": "stderr",
     "output_type": "stream",
     "text": [
      "C:\\Users\\Administrator\\anaconda3\\envs\\surrogate\\lib\\site-packages\\sklearn\\gaussian_process\\kernels.py:437: ConvergenceWarning: The optimal value found for dimension 0 of parameter k2__length_scale is close to the specified upper bound 10.0. Increasing the bound and calling fit again may find a better value.\n",
      "  ConvergenceWarning,\n"
     ]
    },
    {
     "name": "stdout",
     "output_type": "stream",
     "text": [
      "Model predictions with MC population...\n",
      "Pf_ref: None Pf_SuMo: 0.000174 B_sumo: 3.577 CoV_SuMo: 0.076\n",
      " \n",
      "Training model with 87 samples..\n"
     ]
    },
    {
     "name": "stderr",
     "output_type": "stream",
     "text": [
      "C:\\Users\\Administrator\\anaconda3\\envs\\surrogate\\lib\\site-packages\\sklearn\\gaussian_process\\kernels.py:437: ConvergenceWarning: The optimal value found for dimension 0 of parameter k2__length_scale is close to the specified upper bound 10.0. Increasing the bound and calling fit again may find a better value.\n",
      "  ConvergenceWarning,\n"
     ]
    },
    {
     "name": "stdout",
     "output_type": "stream",
     "text": [
      "Model predictions with MC population...\n",
      "Pf_ref: None Pf_SuMo: 8.7e-05 B_sumo: 3.754 CoV_SuMo: 0.107\n",
      " \n",
      "Training model with 88 samples..\n"
     ]
    },
    {
     "name": "stderr",
     "output_type": "stream",
     "text": [
      "C:\\Users\\Administrator\\anaconda3\\envs\\surrogate\\lib\\site-packages\\sklearn\\gaussian_process\\kernels.py:437: ConvergenceWarning: The optimal value found for dimension 0 of parameter k2__length_scale is close to the specified upper bound 10.0. Increasing the bound and calling fit again may find a better value.\n",
      "  ConvergenceWarning,\n"
     ]
    },
    {
     "name": "stdout",
     "output_type": "stream",
     "text": [
      "Model predictions with MC population...\n",
      "Pf_ref: None Pf_SuMo: 0.000117 B_sumo: 3.679 CoV_SuMo: 0.092\n",
      " \n",
      "Training model with 89 samples..\n"
     ]
    },
    {
     "name": "stderr",
     "output_type": "stream",
     "text": [
      "C:\\Users\\Administrator\\anaconda3\\envs\\surrogate\\lib\\site-packages\\sklearn\\gaussian_process\\kernels.py:437: ConvergenceWarning: The optimal value found for dimension 0 of parameter k2__length_scale is close to the specified upper bound 10.0. Increasing the bound and calling fit again may find a better value.\n",
      "  ConvergenceWarning,\n"
     ]
    },
    {
     "name": "stdout",
     "output_type": "stream",
     "text": [
      "Model predictions with MC population...\n",
      "Pf_ref: None Pf_SuMo: 0.000102 B_sumo: 3.714 CoV_SuMo: 0.099\n",
      " \n",
      "Training model with 90 samples..\n"
     ]
    },
    {
     "name": "stderr",
     "output_type": "stream",
     "text": [
      "C:\\Users\\Administrator\\anaconda3\\envs\\surrogate\\lib\\site-packages\\sklearn\\gaussian_process\\kernels.py:437: ConvergenceWarning: The optimal value found for dimension 0 of parameter k2__length_scale is close to the specified upper bound 10.0. Increasing the bound and calling fit again may find a better value.\n",
      "  ConvergenceWarning,\n"
     ]
    },
    {
     "name": "stdout",
     "output_type": "stream",
     "text": [
      "Model predictions with MC population...\n",
      "Pf_ref: None Pf_SuMo: 5.9e-05 B_sumo: 3.850 CoV_SuMo: 0.130\n",
      " \n",
      "Training model with 91 samples..\n"
     ]
    },
    {
     "name": "stderr",
     "output_type": "stream",
     "text": [
      "C:\\Users\\Administrator\\anaconda3\\envs\\surrogate\\lib\\site-packages\\sklearn\\gaussian_process\\kernels.py:437: ConvergenceWarning: The optimal value found for dimension 0 of parameter k2__length_scale is close to the specified upper bound 10.0. Increasing the bound and calling fit again may find a better value.\n",
      "  ConvergenceWarning,\n"
     ]
    },
    {
     "name": "stdout",
     "output_type": "stream",
     "text": [
      "Model predictions with MC population...\n",
      "Pf_ref: None Pf_SuMo: 5.1e-05 B_sumo: 3.886 CoV_SuMo: 0.140\n",
      " \n",
      "Training model with 92 samples..\n"
     ]
    },
    {
     "name": "stderr",
     "output_type": "stream",
     "text": [
      "C:\\Users\\Administrator\\anaconda3\\envs\\surrogate\\lib\\site-packages\\sklearn\\gaussian_process\\kernels.py:437: ConvergenceWarning: The optimal value found for dimension 0 of parameter k2__length_scale is close to the specified upper bound 10.0. Increasing the bound and calling fit again may find a better value.\n",
      "  ConvergenceWarning,\n"
     ]
    },
    {
     "name": "stdout",
     "output_type": "stream",
     "text": [
      "Model predictions with MC population...\n",
      "Pf_ref: None Pf_SuMo: 7.4e-05 B_sumo: 3.794 CoV_SuMo: 0.116\n",
      " \n",
      "Training model with 93 samples..\n"
     ]
    },
    {
     "name": "stderr",
     "output_type": "stream",
     "text": [
      "C:\\Users\\Administrator\\anaconda3\\envs\\surrogate\\lib\\site-packages\\sklearn\\gaussian_process\\kernels.py:437: ConvergenceWarning: The optimal value found for dimension 0 of parameter k2__length_scale is close to the specified upper bound 10.0. Increasing the bound and calling fit again may find a better value.\n",
      "  ConvergenceWarning,\n"
     ]
    },
    {
     "name": "stdout",
     "output_type": "stream",
     "text": [
      "Model predictions with MC population...\n",
      "Pf_ref: None Pf_SuMo: 5.3e-05 B_sumo: 3.876 CoV_SuMo: 0.137\n",
      " \n",
      "Training model with 94 samples..\n"
     ]
    },
    {
     "name": "stderr",
     "output_type": "stream",
     "text": [
      "C:\\Users\\Administrator\\anaconda3\\envs\\surrogate\\lib\\site-packages\\sklearn\\gaussian_process\\kernels.py:437: ConvergenceWarning: The optimal value found for dimension 0 of parameter k2__length_scale is close to the specified upper bound 10.0. Increasing the bound and calling fit again may find a better value.\n",
      "  ConvergenceWarning,\n"
     ]
    },
    {
     "name": "stdout",
     "output_type": "stream",
     "text": [
      "Model predictions with MC population...\n",
      "Pf_ref: None Pf_SuMo: 5.7e-05 B_sumo: 3.859 CoV_SuMo: 0.132\n",
      " \n",
      "Training model with 95 samples..\n"
     ]
    },
    {
     "name": "stderr",
     "output_type": "stream",
     "text": [
      "C:\\Users\\Administrator\\anaconda3\\envs\\surrogate\\lib\\site-packages\\sklearn\\gaussian_process\\kernels.py:437: ConvergenceWarning: The optimal value found for dimension 0 of parameter k2__length_scale is close to the specified upper bound 10.0. Increasing the bound and calling fit again may find a better value.\n",
      "  ConvergenceWarning,\n"
     ]
    },
    {
     "name": "stdout",
     "output_type": "stream",
     "text": [
      "Model predictions with MC population...\n",
      "Pf_ref: None Pf_SuMo: 5.5e-05 B_sumo: 3.867 CoV_SuMo: 0.135\n",
      " \n",
      "Training model with 96 samples..\n"
     ]
    },
    {
     "name": "stderr",
     "output_type": "stream",
     "text": [
      "C:\\Users\\Administrator\\anaconda3\\envs\\surrogate\\lib\\site-packages\\sklearn\\gaussian_process\\kernels.py:437: ConvergenceWarning: The optimal value found for dimension 0 of parameter k2__length_scale is close to the specified upper bound 10.0. Increasing the bound and calling fit again may find a better value.\n",
      "  ConvergenceWarning,\n"
     ]
    },
    {
     "name": "stdout",
     "output_type": "stream",
     "text": [
      "Model predictions with MC population...\n",
      "Pf_ref: None Pf_SuMo: 5.7e-05 B_sumo: 3.859 CoV_SuMo: 0.132\n",
      " \n",
      "Training model with 97 samples..\n"
     ]
    },
    {
     "name": "stderr",
     "output_type": "stream",
     "text": [
      "C:\\Users\\Administrator\\anaconda3\\envs\\surrogate\\lib\\site-packages\\sklearn\\gaussian_process\\kernels.py:437: ConvergenceWarning: The optimal value found for dimension 0 of parameter k2__length_scale is close to the specified upper bound 10.0. Increasing the bound and calling fit again may find a better value.\n",
      "  ConvergenceWarning,\n"
     ]
    },
    {
     "name": "stdout",
     "output_type": "stream",
     "text": [
      "Model predictions with MC population...\n",
      "Pf_ref: None Pf_SuMo: 5.9e-05 B_sumo: 3.850 CoV_SuMo: 0.130\n",
      " \n",
      "Training model with 98 samples..\n"
     ]
    },
    {
     "name": "stderr",
     "output_type": "stream",
     "text": [
      "C:\\Users\\Administrator\\anaconda3\\envs\\surrogate\\lib\\site-packages\\sklearn\\gaussian_process\\kernels.py:437: ConvergenceWarning: The optimal value found for dimension 0 of parameter k2__length_scale is close to the specified upper bound 10.0. Increasing the bound and calling fit again may find a better value.\n",
      "  ConvergenceWarning,\n"
     ]
    },
    {
     "name": "stdout",
     "output_type": "stream",
     "text": [
      "Model predictions with MC population...\n",
      "Pf_ref: None Pf_SuMo: 4.6e-05 B_sumo: 3.911 CoV_SuMo: 0.147\n",
      " \n",
      "Training model with 99 samples..\n"
     ]
    },
    {
     "name": "stderr",
     "output_type": "stream",
     "text": [
      "C:\\Users\\Administrator\\anaconda3\\envs\\surrogate\\lib\\site-packages\\sklearn\\gaussian_process\\kernels.py:437: ConvergenceWarning: The optimal value found for dimension 0 of parameter k2__length_scale is close to the specified upper bound 10.0. Increasing the bound and calling fit again may find a better value.\n",
      "  ConvergenceWarning,\n"
     ]
    },
    {
     "name": "stdout",
     "output_type": "stream",
     "text": [
      "Model predictions with MC population...\n",
      "Pf_ref: None Pf_SuMo: 3.6e-05 B_sumo: 3.970 CoV_SuMo: 0.167\n",
      " \n",
      "Training model with 100 samples..\n"
     ]
    },
    {
     "name": "stderr",
     "output_type": "stream",
     "text": [
      "C:\\Users\\Administrator\\anaconda3\\envs\\surrogate\\lib\\site-packages\\sklearn\\gaussian_process\\kernels.py:437: ConvergenceWarning: The optimal value found for dimension 0 of parameter k2__length_scale is close to the specified upper bound 10.0. Increasing the bound and calling fit again may find a better value.\n",
      "  ConvergenceWarning,\n"
     ]
    },
    {
     "name": "stdout",
     "output_type": "stream",
     "text": [
      "Model predictions with MC population...\n",
      "Pf_ref: None Pf_SuMo: 4.3e-05 B_sumo: 3.927 CoV_SuMo: 0.152\n",
      " \n",
      "Training model with 101 samples..\n"
     ]
    },
    {
     "name": "stderr",
     "output_type": "stream",
     "text": [
      "C:\\Users\\Administrator\\anaconda3\\envs\\surrogate\\lib\\site-packages\\sklearn\\gaussian_process\\kernels.py:437: ConvergenceWarning: The optimal value found for dimension 0 of parameter k2__length_scale is close to the specified upper bound 10.0. Increasing the bound and calling fit again may find a better value.\n",
      "  ConvergenceWarning,\n"
     ]
    },
    {
     "name": "stdout",
     "output_type": "stream",
     "text": [
      "Model predictions with MC population...\n",
      "Pf_ref: None Pf_SuMo: 4.3e-05 B_sumo: 3.927 CoV_SuMo: 0.152\n",
      " \n",
      "Training model with 102 samples..\n"
     ]
    },
    {
     "name": "stderr",
     "output_type": "stream",
     "text": [
      "C:\\Users\\Administrator\\anaconda3\\envs\\surrogate\\lib\\site-packages\\sklearn\\gaussian_process\\kernels.py:437: ConvergenceWarning: The optimal value found for dimension 0 of parameter k2__length_scale is close to the specified upper bound 10.0. Increasing the bound and calling fit again may find a better value.\n",
      "  ConvergenceWarning,\n"
     ]
    },
    {
     "name": "stdout",
     "output_type": "stream",
     "text": [
      "Model predictions with MC population...\n",
      "Pf_ref: None Pf_SuMo: 3.3e-05 B_sumo: 3.990 CoV_SuMo: 0.174\n",
      " \n",
      "Training model with 103 samples..\n"
     ]
    },
    {
     "name": "stderr",
     "output_type": "stream",
     "text": [
      "C:\\Users\\Administrator\\anaconda3\\envs\\surrogate\\lib\\site-packages\\sklearn\\gaussian_process\\kernels.py:437: ConvergenceWarning: The optimal value found for dimension 0 of parameter k2__length_scale is close to the specified upper bound 10.0. Increasing the bound and calling fit again may find a better value.\n",
      "  ConvergenceWarning,\n"
     ]
    },
    {
     "name": "stdout",
     "output_type": "stream",
     "text": [
      "Model predictions with MC population...\n",
      "Pf_ref: None Pf_SuMo: 3.3e-05 B_sumo: 3.990 CoV_SuMo: 0.174\n",
      " \n",
      "Training model with 104 samples..\n"
     ]
    },
    {
     "name": "stderr",
     "output_type": "stream",
     "text": [
      "C:\\Users\\Administrator\\anaconda3\\envs\\surrogate\\lib\\site-packages\\sklearn\\gaussian_process\\kernels.py:437: ConvergenceWarning: The optimal value found for dimension 0 of parameter k2__length_scale is close to the specified upper bound 10.0. Increasing the bound and calling fit again may find a better value.\n",
      "  ConvergenceWarning,\n"
     ]
    },
    {
     "name": "stdout",
     "output_type": "stream",
     "text": [
      "Model predictions with MC population...\n",
      "Pf_ref: None Pf_SuMo: 3.5e-05 B_sumo: 3.976 CoV_SuMo: 0.169\n",
      " \n",
      "Training model with 105 samples..\n"
     ]
    },
    {
     "name": "stderr",
     "output_type": "stream",
     "text": [
      "C:\\Users\\Administrator\\anaconda3\\envs\\surrogate\\lib\\site-packages\\sklearn\\gaussian_process\\kernels.py:437: ConvergenceWarning: The optimal value found for dimension 0 of parameter k2__length_scale is close to the specified upper bound 10.0. Increasing the bound and calling fit again may find a better value.\n",
      "  ConvergenceWarning,\n"
     ]
    },
    {
     "name": "stdout",
     "output_type": "stream",
     "text": [
      "Model predictions with MC population...\n",
      "Pf_ref: None Pf_SuMo: 3.6e-05 B_sumo: 3.970 CoV_SuMo: 0.167\n",
      " \n",
      "Training model with 106 samples..\n"
     ]
    },
    {
     "name": "stderr",
     "output_type": "stream",
     "text": [
      "C:\\Users\\Administrator\\anaconda3\\envs\\surrogate\\lib\\site-packages\\sklearn\\gaussian_process\\kernels.py:437: ConvergenceWarning: The optimal value found for dimension 0 of parameter k2__length_scale is close to the specified upper bound 10.0. Increasing the bound and calling fit again may find a better value.\n",
      "  ConvergenceWarning,\n"
     ]
    },
    {
     "name": "stdout",
     "output_type": "stream",
     "text": [
      "Model predictions with MC population...\n",
      "Pf_ref: None Pf_SuMo: 3.3e-05 B_sumo: 3.990 CoV_SuMo: 0.174\n",
      " \n",
      "Training model with 107 samples..\n"
     ]
    },
    {
     "name": "stderr",
     "output_type": "stream",
     "text": [
      "C:\\Users\\Administrator\\anaconda3\\envs\\surrogate\\lib\\site-packages\\sklearn\\gaussian_process\\kernels.py:437: ConvergenceWarning: The optimal value found for dimension 0 of parameter k2__length_scale is close to the specified upper bound 10.0. Increasing the bound and calling fit again may find a better value.\n",
      "  ConvergenceWarning,\n"
     ]
    },
    {
     "name": "stdout",
     "output_type": "stream",
     "text": [
      "Model predictions with MC population...\n",
      "Pf_ref: None Pf_SuMo: 3.6e-05 B_sumo: 3.970 CoV_SuMo: 0.167\n",
      " \n",
      "Training model with 108 samples..\n"
     ]
    },
    {
     "name": "stderr",
     "output_type": "stream",
     "text": [
      "C:\\Users\\Administrator\\anaconda3\\envs\\surrogate\\lib\\site-packages\\sklearn\\gaussian_process\\kernels.py:437: ConvergenceWarning: The optimal value found for dimension 0 of parameter k2__length_scale is close to the specified upper bound 10.0. Increasing the bound and calling fit again may find a better value.\n",
      "  ConvergenceWarning,\n"
     ]
    },
    {
     "name": "stdout",
     "output_type": "stream",
     "text": [
      "Model predictions with MC population...\n",
      "Pf_ref: None Pf_SuMo: 4.2e-05 B_sumo: 3.933 CoV_SuMo: 0.154\n",
      " \n",
      "Training model with 109 samples..\n"
     ]
    },
    {
     "name": "stderr",
     "output_type": "stream",
     "text": [
      "C:\\Users\\Administrator\\anaconda3\\envs\\surrogate\\lib\\site-packages\\sklearn\\gaussian_process\\kernels.py:437: ConvergenceWarning: The optimal value found for dimension 0 of parameter k2__length_scale is close to the specified upper bound 10.0. Increasing the bound and calling fit again may find a better value.\n",
      "  ConvergenceWarning,\n"
     ]
    },
    {
     "name": "stdout",
     "output_type": "stream",
     "text": [
      "Model predictions with MC population...\n",
      "Pf_ref: None Pf_SuMo: 4.1e-05 B_sumo: 3.938 CoV_SuMo: 0.156\n",
      " \n",
      "Training model with 110 samples..\n"
     ]
    },
    {
     "name": "stderr",
     "output_type": "stream",
     "text": [
      "C:\\Users\\Administrator\\anaconda3\\envs\\surrogate\\lib\\site-packages\\sklearn\\gaussian_process\\kernels.py:437: ConvergenceWarning: The optimal value found for dimension 0 of parameter k2__length_scale is close to the specified upper bound 10.0. Increasing the bound and calling fit again may find a better value.\n",
      "  ConvergenceWarning,\n"
     ]
    },
    {
     "name": "stdout",
     "output_type": "stream",
     "text": [
      "Model predictions with MC population...\n",
      "Pf_ref: None Pf_SuMo: 4.6e-05 B_sumo: 3.911 CoV_SuMo: 0.147\n",
      " \n",
      "Training model with 111 samples..\n"
     ]
    },
    {
     "name": "stderr",
     "output_type": "stream",
     "text": [
      "C:\\Users\\Administrator\\anaconda3\\envs\\surrogate\\lib\\site-packages\\sklearn\\gaussian_process\\kernels.py:437: ConvergenceWarning: The optimal value found for dimension 0 of parameter k2__length_scale is close to the specified upper bound 10.0. Increasing the bound and calling fit again may find a better value.\n",
      "  ConvergenceWarning,\n"
     ]
    },
    {
     "name": "stdout",
     "output_type": "stream",
     "text": [
      "Model predictions with MC population...\n",
      "Pf_ref: None Pf_SuMo: 5.6e-05 B_sumo: 3.863 CoV_SuMo: 0.134\n",
      " \n",
      "Training model with 112 samples..\n"
     ]
    },
    {
     "name": "stderr",
     "output_type": "stream",
     "text": [
      "C:\\Users\\Administrator\\anaconda3\\envs\\surrogate\\lib\\site-packages\\sklearn\\gaussian_process\\kernels.py:437: ConvergenceWarning: The optimal value found for dimension 0 of parameter k2__length_scale is close to the specified upper bound 10.0. Increasing the bound and calling fit again may find a better value.\n",
      "  ConvergenceWarning,\n"
     ]
    },
    {
     "name": "stdout",
     "output_type": "stream",
     "text": [
      "Model predictions with MC population...\n",
      "Pf_ref: None Pf_SuMo: 4.2e-05 B_sumo: 3.933 CoV_SuMo: 0.154\n",
      " \n",
      "Training model with 113 samples..\n"
     ]
    },
    {
     "name": "stderr",
     "output_type": "stream",
     "text": [
      "C:\\Users\\Administrator\\anaconda3\\envs\\surrogate\\lib\\site-packages\\sklearn\\gaussian_process\\kernels.py:437: ConvergenceWarning: The optimal value found for dimension 0 of parameter k2__length_scale is close to the specified upper bound 10.0. Increasing the bound and calling fit again may find a better value.\n",
      "  ConvergenceWarning,\n"
     ]
    },
    {
     "name": "stdout",
     "output_type": "stream",
     "text": [
      "Model predictions with MC population...\n",
      "Pf_ref: None Pf_SuMo: 3.5e-05 B_sumo: 3.976 CoV_SuMo: 0.169\n",
      " \n",
      "Training model with 114 samples..\n"
     ]
    },
    {
     "name": "stderr",
     "output_type": "stream",
     "text": [
      "C:\\Users\\Administrator\\anaconda3\\envs\\surrogate\\lib\\site-packages\\sklearn\\gaussian_process\\kernels.py:437: ConvergenceWarning: The optimal value found for dimension 0 of parameter k2__length_scale is close to the specified upper bound 10.0. Increasing the bound and calling fit again may find a better value.\n",
      "  ConvergenceWarning,\n"
     ]
    },
    {
     "name": "stdout",
     "output_type": "stream",
     "text": [
      "Model predictions with MC population...\n",
      "Pf_ref: None Pf_SuMo: 2.4e-05 B_sumo: 4.065 CoV_SuMo: 0.204\n",
      " \n",
      "Training model with 115 samples..\n"
     ]
    },
    {
     "name": "stderr",
     "output_type": "stream",
     "text": [
      "C:\\Users\\Administrator\\anaconda3\\envs\\surrogate\\lib\\site-packages\\sklearn\\gaussian_process\\kernels.py:437: ConvergenceWarning: The optimal value found for dimension 0 of parameter k2__length_scale is close to the specified upper bound 10.0. Increasing the bound and calling fit again may find a better value.\n",
      "  ConvergenceWarning,\n"
     ]
    },
    {
     "name": "stdout",
     "output_type": "stream",
     "text": [
      "Model predictions with MC population...\n",
      "Pf_ref: None Pf_SuMo: 2.2e-05 B_sumo: 4.085 CoV_SuMo: 0.213\n",
      " \n",
      "Training model with 116 samples..\n"
     ]
    },
    {
     "name": "stderr",
     "output_type": "stream",
     "text": [
      "C:\\Users\\Administrator\\anaconda3\\envs\\surrogate\\lib\\site-packages\\sklearn\\gaussian_process\\kernels.py:437: ConvergenceWarning: The optimal value found for dimension 0 of parameter k2__length_scale is close to the specified upper bound 10.0. Increasing the bound and calling fit again may find a better value.\n",
      "  ConvergenceWarning,\n"
     ]
    },
    {
     "name": "stdout",
     "output_type": "stream",
     "text": [
      "Model predictions with MC population...\n",
      "Pf_ref: None Pf_SuMo: 4.2e-05 B_sumo: 3.933 CoV_SuMo: 0.154\n",
      " \n",
      "Training model with 117 samples..\n"
     ]
    },
    {
     "name": "stderr",
     "output_type": "stream",
     "text": [
      "C:\\Users\\Administrator\\anaconda3\\envs\\surrogate\\lib\\site-packages\\sklearn\\gaussian_process\\kernels.py:437: ConvergenceWarning: The optimal value found for dimension 0 of parameter k2__length_scale is close to the specified upper bound 10.0. Increasing the bound and calling fit again may find a better value.\n",
      "  ConvergenceWarning,\n"
     ]
    },
    {
     "name": "stdout",
     "output_type": "stream",
     "text": [
      "Model predictions with MC population...\n",
      "Pf_ref: None Pf_SuMo: 2.3e-05 B_sumo: 4.075 CoV_SuMo: 0.208\n",
      " \n",
      "Training model with 118 samples..\n"
     ]
    },
    {
     "name": "stderr",
     "output_type": "stream",
     "text": [
      "C:\\Users\\Administrator\\anaconda3\\envs\\surrogate\\lib\\site-packages\\sklearn\\gaussian_process\\kernels.py:437: ConvergenceWarning: The optimal value found for dimension 0 of parameter k2__length_scale is close to the specified upper bound 10.0. Increasing the bound and calling fit again may find a better value.\n",
      "  ConvergenceWarning,\n"
     ]
    },
    {
     "name": "stdout",
     "output_type": "stream",
     "text": [
      "Model predictions with MC population...\n",
      "Pf_ref: None Pf_SuMo: 2.5e-05 B_sumo: 4.056 CoV_SuMo: 0.200\n",
      " \n",
      "Training model with 119 samples..\n"
     ]
    },
    {
     "name": "stderr",
     "output_type": "stream",
     "text": [
      "C:\\Users\\Administrator\\anaconda3\\envs\\surrogate\\lib\\site-packages\\sklearn\\gaussian_process\\kernels.py:437: ConvergenceWarning: The optimal value found for dimension 0 of parameter k2__length_scale is close to the specified upper bound 10.0. Increasing the bound and calling fit again may find a better value.\n",
      "  ConvergenceWarning,\n"
     ]
    },
    {
     "name": "stdout",
     "output_type": "stream",
     "text": [
      "Model predictions with MC population...\n",
      "Pf_ref: None Pf_SuMo: 2.2e-05 B_sumo: 4.085 CoV_SuMo: 0.213\n",
      " \n",
      "Training model with 120 samples..\n"
     ]
    },
    {
     "name": "stderr",
     "output_type": "stream",
     "text": [
      "C:\\Users\\Administrator\\anaconda3\\envs\\surrogate\\lib\\site-packages\\sklearn\\gaussian_process\\kernels.py:437: ConvergenceWarning: The optimal value found for dimension 0 of parameter k2__length_scale is close to the specified upper bound 10.0. Increasing the bound and calling fit again may find a better value.\n",
      "  ConvergenceWarning,\n"
     ]
    },
    {
     "name": "stdout",
     "output_type": "stream",
     "text": [
      "Model predictions with MC population...\n",
      "Pf_ref: None Pf_SuMo: 2.1e-05 B_sumo: 4.096 CoV_SuMo: 0.218\n",
      " \n",
      "Training model with 121 samples..\n"
     ]
    },
    {
     "name": "stderr",
     "output_type": "stream",
     "text": [
      "C:\\Users\\Administrator\\anaconda3\\envs\\surrogate\\lib\\site-packages\\sklearn\\gaussian_process\\kernels.py:437: ConvergenceWarning: The optimal value found for dimension 0 of parameter k2__length_scale is close to the specified upper bound 10.0. Increasing the bound and calling fit again may find a better value.\n",
      "  ConvergenceWarning,\n"
     ]
    },
    {
     "name": "stdout",
     "output_type": "stream",
     "text": [
      "Model predictions with MC population...\n",
      "Pf_ref: None Pf_SuMo: 3.9e-05 B_sumo: 3.950 CoV_SuMo: 0.160\n",
      " \n",
      "Training model with 122 samples..\n"
     ]
    },
    {
     "name": "stderr",
     "output_type": "stream",
     "text": [
      "C:\\Users\\Administrator\\anaconda3\\envs\\surrogate\\lib\\site-packages\\sklearn\\gaussian_process\\kernels.py:437: ConvergenceWarning: The optimal value found for dimension 0 of parameter k2__length_scale is close to the specified upper bound 10.0. Increasing the bound and calling fit again may find a better value.\n",
      "  ConvergenceWarning,\n"
     ]
    },
    {
     "name": "stdout",
     "output_type": "stream",
     "text": [
      "Model predictions with MC population...\n",
      "Pf_ref: None Pf_SuMo: 3.2e-05 B_sumo: 3.998 CoV_SuMo: 0.177\n",
      " \n",
      "Training model with 123 samples..\n"
     ]
    },
    {
     "name": "stderr",
     "output_type": "stream",
     "text": [
      "C:\\Users\\Administrator\\anaconda3\\envs\\surrogate\\lib\\site-packages\\sklearn\\gaussian_process\\kernels.py:437: ConvergenceWarning: The optimal value found for dimension 0 of parameter k2__length_scale is close to the specified upper bound 10.0. Increasing the bound and calling fit again may find a better value.\n",
      "  ConvergenceWarning,\n"
     ]
    },
    {
     "name": "stdout",
     "output_type": "stream",
     "text": [
      "Model predictions with MC population...\n",
      "Pf_ref: None Pf_SuMo: 3.3e-05 B_sumo: 3.990 CoV_SuMo: 0.174\n",
      " \n",
      "Training model with 124 samples..\n"
     ]
    },
    {
     "name": "stderr",
     "output_type": "stream",
     "text": [
      "C:\\Users\\Administrator\\anaconda3\\envs\\surrogate\\lib\\site-packages\\sklearn\\gaussian_process\\kernels.py:437: ConvergenceWarning: The optimal value found for dimension 0 of parameter k2__length_scale is close to the specified upper bound 10.0. Increasing the bound and calling fit again may find a better value.\n",
      "  ConvergenceWarning,\n"
     ]
    },
    {
     "name": "stdout",
     "output_type": "stream",
     "text": [
      "Model predictions with MC population...\n",
      "Pf_ref: None Pf_SuMo: 3.6e-05 B_sumo: 3.970 CoV_SuMo: 0.167\n",
      " \n",
      "Training model with 125 samples..\n"
     ]
    },
    {
     "name": "stderr",
     "output_type": "stream",
     "text": [
      "C:\\Users\\Administrator\\anaconda3\\envs\\surrogate\\lib\\site-packages\\sklearn\\gaussian_process\\kernels.py:437: ConvergenceWarning: The optimal value found for dimension 0 of parameter k2__length_scale is close to the specified upper bound 10.0. Increasing the bound and calling fit again may find a better value.\n",
      "  ConvergenceWarning,\n"
     ]
    },
    {
     "name": "stdout",
     "output_type": "stream",
     "text": [
      "Model predictions with MC population...\n",
      "Pf_ref: None Pf_SuMo: 3.8e-05 B_sumo: 3.957 CoV_SuMo: 0.162\n",
      " \n",
      "Training model with 126 samples..\n"
     ]
    },
    {
     "name": "stderr",
     "output_type": "stream",
     "text": [
      "C:\\Users\\Administrator\\anaconda3\\envs\\surrogate\\lib\\site-packages\\sklearn\\gaussian_process\\kernels.py:437: ConvergenceWarning: The optimal value found for dimension 0 of parameter k2__length_scale is close to the specified upper bound 10.0. Increasing the bound and calling fit again may find a better value.\n",
      "  ConvergenceWarning,\n"
     ]
    },
    {
     "name": "stdout",
     "output_type": "stream",
     "text": [
      "Model predictions with MC population...\n",
      "Pf_ref: None Pf_SuMo: 4.7e-05 B_sumo: 3.906 CoV_SuMo: 0.146\n",
      " \n",
      "Training model with 127 samples..\n"
     ]
    },
    {
     "name": "stderr",
     "output_type": "stream",
     "text": [
      "C:\\Users\\Administrator\\anaconda3\\envs\\surrogate\\lib\\site-packages\\sklearn\\gaussian_process\\kernels.py:437: ConvergenceWarning: The optimal value found for dimension 0 of parameter k2__length_scale is close to the specified upper bound 10.0. Increasing the bound and calling fit again may find a better value.\n",
      "  ConvergenceWarning,\n"
     ]
    },
    {
     "name": "stdout",
     "output_type": "stream",
     "text": [
      "Model predictions with MC population...\n",
      "Pf_ref: None Pf_SuMo: 4.5e-05 B_sumo: 3.916 CoV_SuMo: 0.149\n",
      " \n",
      "Training model with 128 samples..\n"
     ]
    },
    {
     "name": "stderr",
     "output_type": "stream",
     "text": [
      "C:\\Users\\Administrator\\anaconda3\\envs\\surrogate\\lib\\site-packages\\sklearn\\gaussian_process\\kernels.py:437: ConvergenceWarning: The optimal value found for dimension 0 of parameter k2__length_scale is close to the specified upper bound 10.0. Increasing the bound and calling fit again may find a better value.\n",
      "  ConvergenceWarning,\n"
     ]
    },
    {
     "name": "stdout",
     "output_type": "stream",
     "text": [
      "Model predictions with MC population...\n",
      "Pf_ref: None Pf_SuMo: 4.3e-05 B_sumo: 3.927 CoV_SuMo: 0.152\n",
      " \n",
      "Training model with 129 samples..\n"
     ]
    },
    {
     "name": "stderr",
     "output_type": "stream",
     "text": [
      "C:\\Users\\Administrator\\anaconda3\\envs\\surrogate\\lib\\site-packages\\sklearn\\gaussian_process\\kernels.py:437: ConvergenceWarning: The optimal value found for dimension 0 of parameter k2__length_scale is close to the specified upper bound 10.0. Increasing the bound and calling fit again may find a better value.\n",
      "  ConvergenceWarning,\n"
     ]
    },
    {
     "name": "stdout",
     "output_type": "stream",
     "text": [
      "Model predictions with MC population...\n",
      "Pf_ref: None Pf_SuMo: 3.7e-05 B_sumo: 3.963 CoV_SuMo: 0.164\n",
      " \n",
      "Training model with 130 samples..\n"
     ]
    },
    {
     "name": "stderr",
     "output_type": "stream",
     "text": [
      "C:\\Users\\Administrator\\anaconda3\\envs\\surrogate\\lib\\site-packages\\sklearn\\gaussian_process\\kernels.py:437: ConvergenceWarning: The optimal value found for dimension 0 of parameter k2__length_scale is close to the specified upper bound 10.0. Increasing the bound and calling fit again may find a better value.\n",
      "  ConvergenceWarning,\n"
     ]
    },
    {
     "name": "stdout",
     "output_type": "stream",
     "text": [
      "Model predictions with MC population...\n",
      "Pf_ref: None Pf_SuMo: 3.8e-05 B_sumo: 3.957 CoV_SuMo: 0.162\n",
      " \n",
      "Training model with 131 samples..\n"
     ]
    },
    {
     "name": "stderr",
     "output_type": "stream",
     "text": [
      "C:\\Users\\Administrator\\anaconda3\\envs\\surrogate\\lib\\site-packages\\sklearn\\gaussian_process\\kernels.py:437: ConvergenceWarning: The optimal value found for dimension 0 of parameter k2__length_scale is close to the specified upper bound 10.0. Increasing the bound and calling fit again may find a better value.\n",
      "  ConvergenceWarning,\n"
     ]
    },
    {
     "name": "stdout",
     "output_type": "stream",
     "text": [
      "Model predictions with MC population...\n",
      "Pf_ref: None Pf_SuMo: 4.2e-05 B_sumo: 3.933 CoV_SuMo: 0.154\n",
      " \n",
      "Training model with 132 samples..\n"
     ]
    },
    {
     "name": "stderr",
     "output_type": "stream",
     "text": [
      "C:\\Users\\Administrator\\anaconda3\\envs\\surrogate\\lib\\site-packages\\sklearn\\gaussian_process\\kernels.py:437: ConvergenceWarning: The optimal value found for dimension 0 of parameter k2__length_scale is close to the specified upper bound 10.0. Increasing the bound and calling fit again may find a better value.\n",
      "  ConvergenceWarning,\n"
     ]
    },
    {
     "name": "stdout",
     "output_type": "stream",
     "text": [
      "Model predictions with MC population...\n",
      "Pf_ref: None Pf_SuMo: 4.4e-05 B_sumo: 3.921 CoV_SuMo: 0.151\n",
      " \n",
      "Training model with 133 samples..\n"
     ]
    },
    {
     "name": "stderr",
     "output_type": "stream",
     "text": [
      "C:\\Users\\Administrator\\anaconda3\\envs\\surrogate\\lib\\site-packages\\sklearn\\gaussian_process\\kernels.py:437: ConvergenceWarning: The optimal value found for dimension 0 of parameter k2__length_scale is close to the specified upper bound 10.0. Increasing the bound and calling fit again may find a better value.\n",
      "  ConvergenceWarning,\n"
     ]
    },
    {
     "name": "stdout",
     "output_type": "stream",
     "text": [
      "Model predictions with MC population...\n",
      "Pf_ref: None Pf_SuMo: 3.8e-05 B_sumo: 3.957 CoV_SuMo: 0.162\n",
      " \n",
      "Training model with 134 samples..\n"
     ]
    },
    {
     "name": "stderr",
     "output_type": "stream",
     "text": [
      "C:\\Users\\Administrator\\anaconda3\\envs\\surrogate\\lib\\site-packages\\sklearn\\gaussian_process\\kernels.py:437: ConvergenceWarning: The optimal value found for dimension 0 of parameter k2__length_scale is close to the specified upper bound 10.0. Increasing the bound and calling fit again may find a better value.\n",
      "  ConvergenceWarning,\n"
     ]
    },
    {
     "name": "stdout",
     "output_type": "stream",
     "text": [
      "Model predictions with MC population...\n",
      "Pf_ref: None Pf_SuMo: 5.4e-05 B_sumo: 3.872 CoV_SuMo: 0.136\n",
      " \n",
      "Training model with 135 samples..\n"
     ]
    },
    {
     "name": "stderr",
     "output_type": "stream",
     "text": [
      "C:\\Users\\Administrator\\anaconda3\\envs\\surrogate\\lib\\site-packages\\sklearn\\gaussian_process\\kernels.py:437: ConvergenceWarning: The optimal value found for dimension 0 of parameter k2__length_scale is close to the specified upper bound 10.0. Increasing the bound and calling fit again may find a better value.\n",
      "  ConvergenceWarning,\n"
     ]
    },
    {
     "name": "stdout",
     "output_type": "stream",
     "text": [
      "Model predictions with MC population...\n",
      "Pf_ref: None Pf_SuMo: 5.6e-05 B_sumo: 3.863 CoV_SuMo: 0.134\n",
      " \n",
      "Training model with 136 samples..\n"
     ]
    },
    {
     "name": "stderr",
     "output_type": "stream",
     "text": [
      "C:\\Users\\Administrator\\anaconda3\\envs\\surrogate\\lib\\site-packages\\sklearn\\gaussian_process\\kernels.py:437: ConvergenceWarning: The optimal value found for dimension 0 of parameter k2__length_scale is close to the specified upper bound 10.0. Increasing the bound and calling fit again may find a better value.\n",
      "  ConvergenceWarning,\n"
     ]
    },
    {
     "name": "stdout",
     "output_type": "stream",
     "text": [
      "Model predictions with MC population...\n",
      "Pf_ref: None Pf_SuMo: 3.8e-05 B_sumo: 3.957 CoV_SuMo: 0.162\n",
      " \n",
      "Training model with 137 samples..\n"
     ]
    },
    {
     "name": "stderr",
     "output_type": "stream",
     "text": [
      "C:\\Users\\Administrator\\anaconda3\\envs\\surrogate\\lib\\site-packages\\sklearn\\gaussian_process\\kernels.py:437: ConvergenceWarning: The optimal value found for dimension 0 of parameter k2__length_scale is close to the specified upper bound 10.0. Increasing the bound and calling fit again may find a better value.\n",
      "  ConvergenceWarning,\n"
     ]
    },
    {
     "name": "stdout",
     "output_type": "stream",
     "text": [
      "Model predictions with MC population...\n",
      "Pf_ref: None Pf_SuMo: 5e-05 B_sumo: 3.891 CoV_SuMo: 0.141\n",
      " \n",
      "Training model with 138 samples..\n"
     ]
    },
    {
     "name": "stderr",
     "output_type": "stream",
     "text": [
      "C:\\Users\\Administrator\\anaconda3\\envs\\surrogate\\lib\\site-packages\\sklearn\\gaussian_process\\kernels.py:437: ConvergenceWarning: The optimal value found for dimension 0 of parameter k2__length_scale is close to the specified upper bound 10.0. Increasing the bound and calling fit again may find a better value.\n",
      "  ConvergenceWarning,\n"
     ]
    },
    {
     "name": "stdout",
     "output_type": "stream",
     "text": [
      "Model predictions with MC population...\n",
      "Pf_ref: None Pf_SuMo: 5.1e-05 B_sumo: 3.886 CoV_SuMo: 0.140\n",
      " \n",
      "Training model with 139 samples..\n"
     ]
    },
    {
     "name": "stderr",
     "output_type": "stream",
     "text": [
      "C:\\Users\\Administrator\\anaconda3\\envs\\surrogate\\lib\\site-packages\\sklearn\\gaussian_process\\kernels.py:437: ConvergenceWarning: The optimal value found for dimension 0 of parameter k2__length_scale is close to the specified upper bound 10.0. Increasing the bound and calling fit again may find a better value.\n",
      "  ConvergenceWarning,\n"
     ]
    },
    {
     "name": "stdout",
     "output_type": "stream",
     "text": [
      "Model predictions with MC population...\n",
      "Pf_ref: None Pf_SuMo: 4.6e-05 B_sumo: 3.911 CoV_SuMo: 0.147\n",
      " \n",
      "Training model with 140 samples..\n"
     ]
    },
    {
     "name": "stderr",
     "output_type": "stream",
     "text": [
      "C:\\Users\\Administrator\\anaconda3\\envs\\surrogate\\lib\\site-packages\\sklearn\\gaussian_process\\kernels.py:437: ConvergenceWarning: The optimal value found for dimension 0 of parameter k2__length_scale is close to the specified upper bound 10.0. Increasing the bound and calling fit again may find a better value.\n",
      "  ConvergenceWarning,\n"
     ]
    },
    {
     "name": "stdout",
     "output_type": "stream",
     "text": [
      "Model predictions with MC population...\n",
      "Pf_ref: None Pf_SuMo: 6.2e-05 B_sumo: 3.838 CoV_SuMo: 0.127\n",
      " \n",
      "Training model with 141 samples..\n"
     ]
    },
    {
     "name": "stderr",
     "output_type": "stream",
     "text": [
      "C:\\Users\\Administrator\\anaconda3\\envs\\surrogate\\lib\\site-packages\\sklearn\\gaussian_process\\kernels.py:437: ConvergenceWarning: The optimal value found for dimension 0 of parameter k2__length_scale is close to the specified upper bound 10.0. Increasing the bound and calling fit again may find a better value.\n",
      "  ConvergenceWarning,\n"
     ]
    },
    {
     "name": "stdout",
     "output_type": "stream",
     "text": [
      "Model predictions with MC population...\n",
      "Pf_ref: None Pf_SuMo: 3.3e-05 B_sumo: 3.990 CoV_SuMo: 0.174\n",
      " \n",
      "Training model with 142 samples..\n"
     ]
    },
    {
     "name": "stderr",
     "output_type": "stream",
     "text": [
      "C:\\Users\\Administrator\\anaconda3\\envs\\surrogate\\lib\\site-packages\\sklearn\\gaussian_process\\kernels.py:437: ConvergenceWarning: The optimal value found for dimension 0 of parameter k2__length_scale is close to the specified upper bound 10.0. Increasing the bound and calling fit again may find a better value.\n",
      "  ConvergenceWarning,\n"
     ]
    },
    {
     "name": "stdout",
     "output_type": "stream",
     "text": [
      "Model predictions with MC population...\n",
      "Pf_ref: None Pf_SuMo: 5.1e-05 B_sumo: 3.886 CoV_SuMo: 0.140\n",
      " \n",
      "Training model with 143 samples..\n"
     ]
    },
    {
     "name": "stderr",
     "output_type": "stream",
     "text": [
      "C:\\Users\\Administrator\\anaconda3\\envs\\surrogate\\lib\\site-packages\\sklearn\\gaussian_process\\kernels.py:437: ConvergenceWarning: The optimal value found for dimension 0 of parameter k2__length_scale is close to the specified upper bound 10.0. Increasing the bound and calling fit again may find a better value.\n",
      "  ConvergenceWarning,\n"
     ]
    },
    {
     "name": "stdout",
     "output_type": "stream",
     "text": [
      "Model predictions with MC population...\n",
      "Pf_ref: None Pf_SuMo: 7.7e-05 B_sumo: 3.784 CoV_SuMo: 0.114\n",
      " \n",
      "Training model with 144 samples..\n"
     ]
    },
    {
     "name": "stderr",
     "output_type": "stream",
     "text": [
      "C:\\Users\\Administrator\\anaconda3\\envs\\surrogate\\lib\\site-packages\\sklearn\\gaussian_process\\kernels.py:437: ConvergenceWarning: The optimal value found for dimension 0 of parameter k2__length_scale is close to the specified upper bound 10.0. Increasing the bound and calling fit again may find a better value.\n",
      "  ConvergenceWarning,\n"
     ]
    },
    {
     "name": "stdout",
     "output_type": "stream",
     "text": [
      "Model predictions with MC population...\n",
      "Pf_ref: None Pf_SuMo: 7.5e-05 B_sumo: 3.791 CoV_SuMo: 0.116\n",
      " \n",
      "Training model with 145 samples..\n"
     ]
    },
    {
     "name": "stderr",
     "output_type": "stream",
     "text": [
      "C:\\Users\\Administrator\\anaconda3\\envs\\surrogate\\lib\\site-packages\\sklearn\\gaussian_process\\kernels.py:437: ConvergenceWarning: The optimal value found for dimension 0 of parameter k2__length_scale is close to the specified upper bound 10.0. Increasing the bound and calling fit again may find a better value.\n",
      "  ConvergenceWarning,\n"
     ]
    },
    {
     "name": "stdout",
     "output_type": "stream",
     "text": [
      "Model predictions with MC population...\n",
      "Pf_ref: None Pf_SuMo: 5.4e-05 B_sumo: 3.872 CoV_SuMo: 0.136\n",
      " \n",
      "Training model with 146 samples..\n"
     ]
    },
    {
     "name": "stderr",
     "output_type": "stream",
     "text": [
      "C:\\Users\\Administrator\\anaconda3\\envs\\surrogate\\lib\\site-packages\\sklearn\\gaussian_process\\kernels.py:437: ConvergenceWarning: The optimal value found for dimension 0 of parameter k2__length_scale is close to the specified upper bound 10.0. Increasing the bound and calling fit again may find a better value.\n",
      "  ConvergenceWarning,\n"
     ]
    },
    {
     "name": "stdout",
     "output_type": "stream",
     "text": [
      "Model predictions with MC population...\n",
      "Pf_ref: None Pf_SuMo: 8.2e-05 B_sumo: 3.769 CoV_SuMo: 0.110\n",
      " \n",
      "Training model with 147 samples..\n"
     ]
    },
    {
     "name": "stderr",
     "output_type": "stream",
     "text": [
      "C:\\Users\\Administrator\\anaconda3\\envs\\surrogate\\lib\\site-packages\\sklearn\\gaussian_process\\kernels.py:437: ConvergenceWarning: The optimal value found for dimension 0 of parameter k2__length_scale is close to the specified upper bound 10.0. Increasing the bound and calling fit again may find a better value.\n",
      "  ConvergenceWarning,\n"
     ]
    },
    {
     "name": "stdout",
     "output_type": "stream",
     "text": [
      "Model predictions with MC population...\n",
      "Pf_ref: None Pf_SuMo: 8.7e-05 B_sumo: 3.754 CoV_SuMo: 0.107\n",
      " \n",
      "Training model with 148 samples..\n"
     ]
    },
    {
     "name": "stderr",
     "output_type": "stream",
     "text": [
      "C:\\Users\\Administrator\\anaconda3\\envs\\surrogate\\lib\\site-packages\\sklearn\\gaussian_process\\kernels.py:437: ConvergenceWarning: The optimal value found for dimension 0 of parameter k2__length_scale is close to the specified upper bound 10.0. Increasing the bound and calling fit again may find a better value.\n",
      "  ConvergenceWarning,\n"
     ]
    },
    {
     "name": "stdout",
     "output_type": "stream",
     "text": [
      "Model predictions with MC population...\n",
      "Pf_ref: None Pf_SuMo: 5.8e-05 B_sumo: 3.854 CoV_SuMo: 0.131\n",
      " \n",
      "Training model with 149 samples..\n"
     ]
    },
    {
     "name": "stderr",
     "output_type": "stream",
     "text": [
      "C:\\Users\\Administrator\\anaconda3\\envs\\surrogate\\lib\\site-packages\\sklearn\\gaussian_process\\kernels.py:437: ConvergenceWarning: The optimal value found for dimension 0 of parameter k2__length_scale is close to the specified upper bound 10.0. Increasing the bound and calling fit again may find a better value.\n",
      "  ConvergenceWarning,\n"
     ]
    },
    {
     "name": "stdout",
     "output_type": "stream",
     "text": [
      "Model predictions with MC population...\n",
      "Pf_ref: None Pf_SuMo: 8e-05 B_sumo: 3.775 CoV_SuMo: 0.112\n",
      " \n",
      "Training model with 150 samples..\n"
     ]
    },
    {
     "name": "stderr",
     "output_type": "stream",
     "text": [
      "C:\\Users\\Administrator\\anaconda3\\envs\\surrogate\\lib\\site-packages\\sklearn\\gaussian_process\\kernels.py:437: ConvergenceWarning: The optimal value found for dimension 0 of parameter k2__length_scale is close to the specified upper bound 10.0. Increasing the bound and calling fit again may find a better value.\n",
      "  ConvergenceWarning,\n"
     ]
    },
    {
     "name": "stdout",
     "output_type": "stream",
     "text": [
      "Model predictions with MC population...\n",
      "Pf_ref: None Pf_SuMo: 9.1e-05 B_sumo: 3.743 CoV_SuMo: 0.105\n",
      " \n"
     ]
    }
   ],
   "source": [
    "experiments = 5\n",
    "GP_batch.active_sampling(n_exp = experiments, n_act = active_samples, MCpool= n_mcs, GroundT=False)  "
   ]
  },
  {
   "cell_type": "markdown",
   "id": "7794d8c7",
   "metadata": {},
   "source": [
    "PCK model"
   ]
  },
  {
   "cell_type": "code",
   "execution_count": null,
   "id": "060d756e",
   "metadata": {},
   "outputs": [],
   "source": [
    "experiments = 5\n",
    "PCK_batch.active_sampling(n_exp = experiments, n_act = active_samples, MCpool= n_mcs, GroundT=True)  "
   ]
  },
  {
   "cell_type": "markdown",
   "id": "f9de0dcd",
   "metadata": {},
   "source": [
    "Loading results file"
   ]
  },
  {
   "cell_type": "code",
   "execution_count": null,
   "id": "55a75abb",
   "metadata": {},
   "outputs": [],
   "source": [
    "file_name = 'PCK_Batch_1.sav'\n",
    "experiment = pickle.load(open(file_name, 'rb'))"
   ]
  },
  {
   "cell_type": "code",
   "execution_count": null,
   "id": "0605d85c",
   "metadata": {},
   "outputs": [],
   "source": [
    "experiment"
   ]
  },
  {
   "cell_type": "code",
   "execution_count": null,
   "id": "d2692643",
   "metadata": {},
   "outputs": [],
   "source": [
    "experiment['last']"
   ]
  }
 ],
 "metadata": {
  "kernelspec": {
   "display_name": "Python 3 (ipykernel)",
   "language": "python",
   "name": "python3"
  },
  "language_info": {
   "codemirror_mode": {
    "name": "ipython",
    "version": 3
   },
   "file_extension": ".py",
   "mimetype": "text/x-python",
   "name": "python",
   "nbconvert_exporter": "python",
   "pygments_lexer": "ipython3",
   "version": "3.7.13"
  }
 },
 "nbformat": 4,
 "nbformat_minor": 5
}
