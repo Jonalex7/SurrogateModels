{
 "cells": [
  {
   "cell_type": "code",
   "execution_count": 4,
   "id": "1cac5301",
   "metadata": {},
   "outputs": [],
   "source": [
    "import numpy as np\n",
    "import matplotlib.pyplot as plt\n",
    "from scipy.stats import norm\n",
    "from numpy import genfromtxt\n",
    "import pickle"
   ]
  },
  {
   "cell_type": "code",
   "execution_count": 52,
   "id": "bf165d3e",
   "metadata": {},
   "outputs": [],
   "source": [
    "Pf_ref_1, Pf_ref_2 = 0.031154, 0.148128     #MCS_samples = 500000  # test points\n",
    "B_ref_1 , B_ref_2 = - norm.ppf( Pf_ref_1 ) , - norm.ppf( Pf_ref_2 )"
   ]
  },
  {
   "cell_type": "markdown",
   "id": "81e3a4f7",
   "metadata": {},
   "source": [
    "# Loading external file results"
   ]
  },
  {
   "cell_type": "markdown",
   "id": "8d23fa6f",
   "metadata": {},
   "source": [
    "Combined training with U Function"
   ]
  },
  {
   "cell_type": "code",
   "execution_count": 65,
   "id": "da825fbc",
   "metadata": {},
   "outputs": [],
   "source": [
    "# Loading final pf results for all experiments\n",
    "\n",
    "number_experiments = 15\n",
    "\n",
    "last_modelname = '39points'     #key to access dictionary\n",
    "\n",
    "Pf_results = np.zeros ((number_experiments, 2))    # 2 limit states\n",
    "\n",
    "for Batch in range (0, number_experiments):\n",
    "    \n",
    "    model_name_1 = 'Batch_' + str(Batch+1) +'_CAT_ULOO_40p_LS1.sav'\n",
    "    model_name_2 = 'Batch_' + str(Batch+1) +'_CAT_ULOO_40p_LS2.sav'\n",
    "    \n",
    "    model_1 = pickle.load(open(model_name_1, 'rb'))\n",
    "    model_2 = pickle.load(open(model_name_2, 'rb'))\n",
    "    \n",
    "    #results file ['# total training points'] = { Surrogate , Pf, CoV_Pf , eLoo , mse } \n",
    "    \n",
    "    Pf_results [Batch, 0] = model_1[last_modelname][1]\n",
    "    Pf_results [Batch, 1] = model_2[last_modelname][1]"
   ]
  },
  {
   "cell_type": "code",
   "execution_count": 66,
   "id": "89990b8d",
   "metadata": {},
   "outputs": [
    {
     "name": "stdout",
     "output_type": "stream",
     "text": [
      "0.13931185121075923 0.009429234576106763\n",
      "0.12953247897580064 0.008413583243523556\n"
     ]
    }
   ],
   "source": [
    "B_results = - norm.ppf( Pf_results )    #reliability index\n",
    "\n",
    "B1_error = abs(B_results[ : , 0] - B_ref_1 ) / B_ref_1\n",
    "B2_error = abs(B_results[ : , 1] - B_ref_2 ) / B_ref_2\n",
    "\n",
    "B1_error_mean = np.mean (B1_error)\n",
    "B1_error_var = np.var (B1_error)\n",
    "\n",
    "B2_error_mean = np.mean (B2_error)\n",
    "B2_error_var = np.var (B2_error)\n",
    "\n",
    "print (B1_error_mean, B1_error_var)    # error B1 - mean, variance\n",
    "print (B2_error_mean, B2_error_var)    # error B2 - mean, variance"
   ]
  },
  {
   "cell_type": "markdown",
   "id": "200457b8",
   "metadata": {},
   "source": [
    "Single training with 2LS"
   ]
  },
  {
   "cell_type": "code",
   "execution_count": 74,
   "id": "ff974914",
   "metadata": {},
   "outputs": [],
   "source": [
    "# Loading final pf results for all experiments\n",
    "\n",
    "number_experiments = 15\n",
    "\n",
    "last_modelname = '39points'     #key to access dictionary\n",
    "\n",
    "Pf_results = np.zeros ((number_experiments, 2))    # 2 limit states\n",
    "\n",
    "for Batch in range (0, number_experiments):\n",
    "    \n",
    "    model_name_1 = 'Batch_' + str(Batch+1) +'_AT1_EFF_40p_LS1.sav'\n",
    "    model_name_2 = 'Batch_' + str(Batch+1) +'_AT1_EFF_40p_LS2.sav'\n",
    "    \n",
    "    model_1 = pickle.load(open(model_name_1, 'rb'))\n",
    "    model_2 = pickle.load(open(model_name_2, 'rb'))\n",
    "    \n",
    "    #results file ['# total training points'] = { Surrogate , Pf, CoV_Pf , eLoo , mse } \n",
    "    \n",
    "    Pf_results [Batch, 0] = model_1[last_modelname][1]\n",
    "    Pf_results [Batch, 1] = model_2[last_modelname][1]"
   ]
  },
  {
   "cell_type": "code",
   "execution_count": 75,
   "id": "b9be19ae",
   "metadata": {},
   "outputs": [
    {
     "name": "stdout",
     "output_type": "stream",
     "text": [
      "0.15222722705237465 0.00924154084503917\n",
      "0.5984978185134636 0.502623419085861\n"
     ]
    }
   ],
   "source": [
    "B_results = - norm.ppf( Pf_results )    #reliability index\n",
    "\n",
    "B1_error = abs(B_results[ : , 0] - B_ref_1 ) / B_ref_1\n",
    "B2_error = abs(B_results[ : , 1] - B_ref_2 ) / B_ref_2\n",
    "\n",
    "B1_error_mean = np.mean (B1_error)\n",
    "B1_error_var = np.var (B1_error)\n",
    "\n",
    "B2_error_mean = np.mean (B2_error)\n",
    "B2_error_var = np.var (B2_error)\n",
    "\n",
    "print (B1_error_mean, B1_error_var)    # error B1 - mean, variance\n",
    "print (B2_error_mean, B2_error_var)    # error B2 - mean, variance"
   ]
  },
  {
   "cell_type": "markdown",
   "id": "d13fcfbc",
   "metadata": {},
   "source": [
    "Single training with 1LS (Only RP53 ref problem)"
   ]
  },
  {
   "cell_type": "code",
   "execution_count": 79,
   "id": "af3916e7",
   "metadata": {},
   "outputs": [],
   "source": [
    "# Loading final pf results for all experiments\n",
    "\n",
    "number_experiments = 15\n",
    "\n",
    "last_modelname = '39points'     #key to access dictionary\n",
    "\n",
    "Pf_results = np.zeros (number_experiments)    \n",
    "\n",
    "for Batch in range (0, number_experiments):\n",
    "    \n",
    "    model_name_1 = 'Batch_' + str(Batch+1) +'_AT_U_TEST40p_LS1.sav'\n",
    "    \n",
    "    model_1 = pickle.load(open(model_name_1, 'rb'))\n",
    "    \n",
    "    #results file ['# total training points'] = { Surrogate , Pf, CoV_Pf , eLoo , mse } \n",
    "    \n",
    "    Pf_results [Batch] = model_1[last_modelname][1]"
   ]
  },
  {
   "cell_type": "code",
   "execution_count": 81,
   "id": "db383652",
   "metadata": {},
   "outputs": [
    {
     "name": "stdout",
     "output_type": "stream",
     "text": [
      "0.0433117028820691 0.007605484583671194\n"
     ]
    }
   ],
   "source": [
    "B_results = - norm.ppf( Pf_results )    #reliability index\n",
    "\n",
    "B1_error = abs(B_results- B_ref_1 ) / B_ref_1\n",
    "\n",
    "B1_error_mean = np.mean (B1_error)\n",
    "B1_error_var = np.var (B1_error)\n",
    "\n",
    "print (B1_error_mean, B1_error_var)    # error B1 - mean, variance"
   ]
  },
  {
   "cell_type": "markdown",
   "id": "a8bd4c81",
   "metadata": {},
   "source": [
    "# Check a single model result"
   ]
  },
  {
   "cell_type": "code",
   "execution_count": 60,
   "id": "ce3df3e0",
   "metadata": {},
   "outputs": [
    {
     "data": {
      "text/plain": [
       "0.1521"
      ]
     },
     "execution_count": 60,
     "metadata": {},
     "output_type": "execute_result"
    }
   ],
   "source": [
    "#load model\n",
    "filename = 'Batch_1_CAT_ULOO_40p_LS2.sav'\n",
    "loaded_model = pickle.load(open(filename, 'rb'))\n",
    "\n",
    "#after loading the results file - each dictionary key means:\n",
    "#results file ['# total training points'] = { Surrogate , Pf, CoV_Pf , eLoo , mse } \n",
    "\n",
    "loaded_model['39points'][1]"
   ]
  }
 ],
 "metadata": {
  "kernelspec": {
   "display_name": "Python 3 (ipykernel)",
   "language": "python",
   "name": "python3"
  },
  "language_info": {
   "codemirror_mode": {
    "name": "ipython",
    "version": 3
   },
   "file_extension": ".py",
   "mimetype": "text/x-python",
   "name": "python",
   "nbconvert_exporter": "python",
   "pygments_lexer": "ipython3",
   "version": "3.7.13"
  }
 },
 "nbformat": 4,
 "nbformat_minor": 5
}
