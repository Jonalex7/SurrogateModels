{
 "cells": [
  {
   "cell_type": "code",
   "execution_count": 1,
   "id": "f7880572",
   "metadata": {},
   "outputs": [],
   "source": [
    "import numpy as np\n",
    "import matplotlib.pyplot as plt\n",
    "from scipy.stats import norm\n",
    "from numpy import genfromtxt\n",
    "import pickle"
   ]
  },
  {
   "cell_type": "code",
   "execution_count": 2,
   "id": "092c2c80",
   "metadata": {},
   "outputs": [],
   "source": [
    "Pf_ref_1, Pf_ref_2 = 0.031154, 0.148128     #MCS_samples = 500000  # test points\n",
    "B_ref_1 , B_ref_2 = - norm.ppf( Pf_ref_1 ) , - norm.ppf( Pf_ref_2 )"
   ]
  },
  {
   "cell_type": "markdown",
   "id": "3c37b797",
   "metadata": {},
   "source": [
    "# Mean and Variance reliability index error"
   ]
  },
  {
   "cell_type": "markdown",
   "id": "a2351eee",
   "metadata": {},
   "source": [
    "Combined training with U Function"
   ]
  },
  {
   "cell_type": "code",
   "execution_count": 58,
   "id": "19c7cf7e",
   "metadata": {},
   "outputs": [],
   "source": [
    "# Loading final pf results for all experiments\n",
    "\n",
    "number_experiments = 14\n",
    "\n",
    "last_modelname = '39points'     #key to access dictionary\n",
    "\n",
    "Pf_results = np.zeros ((number_experiments, 2))    # 2 limit states\n",
    "\n",
    "for Batch in range (0, number_experiments):\n",
    "    \n",
    "    model_name_1 = 'Batch_' + str(Batch+1) +'_CATseq_ULOO_40p_LS1.sav'\n",
    "    model_name_2 = 'Batch_' + str(Batch+1) +'_CATseq_ULOO_40p_LS2.sav'\n",
    "    \n",
    "    model_1 = pickle.load(open(model_name_1, 'rb'))\n",
    "    model_2 = pickle.load(open(model_name_2, 'rb'))\n",
    "    \n",
    "    #results file ['# total training points'] = { Surrogate , Pf, CoV_Pf , eLoo , mse } \n",
    "    \n",
    "    Pf_results [Batch, 0] = model_1[last_modelname][1]\n",
    "    Pf_results [Batch, 1] = model_2[last_modelname][1]"
   ]
  },
  {
   "cell_type": "code",
   "execution_count": 63,
   "id": "0d644361",
   "metadata": {},
   "outputs": [
    {
     "name": "stdout",
     "output_type": "stream",
     "text": [
      "0.04151840965911842 0.0011508415598879252\n",
      "0.018912582344786814 0.00015548684898736962\n"
     ]
    }
   ],
   "source": [
    "B_results = - norm.ppf( Pf_results )    #reliability index\n",
    "\n",
    "B1_error = abs(B_results[ : , 0] - B_ref_1 ) / B_ref_1\n",
    "B2_error = abs(B_results[ : , 1] - B_ref_2 ) / B_ref_2\n",
    "\n",
    "B1_error_mean = np.mean (B1_error)\n",
    "B1_error_var = np.var (B1_error)\n",
    "\n",
    "B2_error_mean = np.mean (B2_error)\n",
    "B2_error_var = np.var (B2_error)\n",
    "\n",
    "print (B1_error_mean, B1_error_var)    # error B1 - mean, variance\n",
    "print (B2_error_mean, B2_error_var)    # error B2 - mean, variance"
   ]
  },
  {
   "cell_type": "code",
   "execution_count": 64,
   "id": "536b6449",
   "metadata": {},
   "outputs": [
    {
     "data": {
      "text/plain": [
       "0.030215496001952617"
      ]
     },
     "execution_count": 64,
     "metadata": {},
     "output_type": "execute_result"
    }
   ],
   "source": [
    "(B1_error_mean+B2_error_mean)/2"
   ]
  },
  {
   "cell_type": "markdown",
   "id": "da6d7e15",
   "metadata": {},
   "source": [
    "Single training with 2LS"
   ]
  },
  {
   "cell_type": "code",
   "execution_count": 75,
   "id": "b32946e1",
   "metadata": {},
   "outputs": [],
   "source": [
    "# Loading final pf results for all experiments\n",
    "\n",
    "number_experiments = 15\n",
    "\n",
    "last_modelname = '39points'     #key to access dictionary\n",
    "\n",
    "Pf_results = np.zeros ((number_experiments, 2))    # 2 limit states\n",
    "B_error = np.zeros ((number_experiments, 2))\n",
    "\n",
    "for Batch in range (0, number_experiments):\n",
    "    \n",
    "    model_name_1 = 'Batch_' + str(Batch+1) +'_AT1_EFFLOO_40p_LS1.sav'\n",
    "    model_name_2 = 'Batch_' + str(Batch+1) +'_AT1_EFFLOO_40p_LS2.sav'\n",
    "    model_1 = pickle.load(open(model_name_1, 'rb'))\n",
    "    model_2 = pickle.load(open(model_name_2, 'rb'))\n",
    "    \n",
    "    #results file ['# total training points'] = { Surrogate , Pf, CoV_Pf , eLoo , mse } \n",
    "    \n",
    "    Pf_results [Batch, 0] = model_1[last_modelname][1]\n",
    "    Pf_results [Batch, 1] = model_2[last_modelname][1]"
   ]
  },
  {
   "cell_type": "code",
   "execution_count": 76,
   "id": "327efa36",
   "metadata": {},
   "outputs": [
    {
     "name": "stdout",
     "output_type": "stream",
     "text": [
      "LS1:  0.16729722503453762 0.0043921931318678005\n",
      "LS2:  0.4725936211940431 0.1527611625795213\n"
     ]
    }
   ],
   "source": [
    "B_results = - norm.ppf( Pf_results )    #reliability index\n",
    "\n",
    "B_error[:,0] = abs(B_results[ : , 0] - B_ref_1 ) / B_ref_1     #limit state 1\n",
    "B_error[:,1] = abs(B_results[ : , 1] - B_ref_2 ) / B_ref_2     #limit state 2\n",
    "\n",
    "print ('LS1: ', np.mean(B_error[:,0]), np.var (B_error[:,0])) \n",
    "print ('LS2: ', np.mean(B_error[:,1]), np.var (B_error[:,1]))"
   ]
  },
  {
   "cell_type": "code",
   "execution_count": 77,
   "id": "be1a4911",
   "metadata": {},
   "outputs": [],
   "source": [
    "#saving results---------------------------------------------\n",
    "\n",
    "filename1 = 'MeanVar_AT1_EFF_LOO_2LS.sav'\n",
    "pickle.dump(B_error, open(filename1, 'wb'))"
   ]
  },
  {
   "cell_type": "markdown",
   "id": "22ad2647",
   "metadata": {},
   "source": [
    "Single training with 1LS (Only RP53 ref problem)"
   ]
  },
  {
   "cell_type": "code",
   "execution_count": 99,
   "id": "57c738c1",
   "metadata": {},
   "outputs": [],
   "source": [
    "# Loading final pf results for all experiments\n",
    "\n",
    "number_experiments = 15\n",
    "\n",
    "last_modelname = '39points'     #key to access dictionary\n",
    "\n",
    "Pf_results = np.zeros (number_experiments)\n",
    "error_1LS = np.zeros((2))   # error results for U, EFF, ULOO, ELOO  (mean and variance)\n",
    "\n",
    "B_error = np.zeros (number_experiments)\n",
    "\n",
    "for Batch in range (0, number_experiments):\n",
    "    \n",
    "    model_name_1 = 'Batch_' + str(Batch+1) +'_AT_U_Loo_40p_LS1.sav'\n",
    "    \n",
    "    model_1 = pickle.load(open(model_name_1, 'rb'))\n",
    "    \n",
    "    #results file ['# total training points'] = { Surrogate , Pf, CoV_Pf , eLoo , mse } \n",
    "    \n",
    "    Pf_results [Batch] = model_1[last_modelname][1]"
   ]
  },
  {
   "cell_type": "code",
   "execution_count": 100,
   "id": "83cc565e",
   "metadata": {},
   "outputs": [
    {
     "name": "stdout",
     "output_type": "stream",
     "text": [
      "LS1:  0.012998031078550607 0.0006409618003775601\n"
     ]
    }
   ],
   "source": [
    "B_results = - norm.ppf( Pf_results )    #reliability index\n",
    "\n",
    "B_error = abs(B_results - B_ref_1 ) / B_ref_1     #limit state 1\n",
    "\n",
    "print ('LS1: ', np.mean(B_error), np.var (B_error)) "
   ]
  },
  {
   "cell_type": "code",
   "execution_count": 101,
   "id": "c12ae246",
   "metadata": {},
   "outputs": [
    {
     "name": "stdout",
     "output_type": "stream",
     "text": [
      "0.012998031078550607 0.0006409618003775601\n"
     ]
    }
   ],
   "source": [
    "B_results = - norm.ppf( Pf_results )    #reliability index\n",
    "\n",
    "B1_error = abs(B_results- B_ref_1 ) / B_ref_1\n",
    "\n",
    "B1_error_mean = np.mean (B1_error)\n",
    "B1_error_var = np.var (B1_error)\n",
    "\n",
    "print (B1_error_mean, B1_error_var)    # error B1 - mean, variance"
   ]
  },
  {
   "cell_type": "code",
   "execution_count": 102,
   "id": "74853159",
   "metadata": {},
   "outputs": [],
   "source": [
    "#saving results---------------------------------------------\n",
    "\n",
    "filename1 = 'MeanVar_U_LOO_1LS.sav'\n",
    "pickle.dump(B_error, open(filename1, 'wb'))"
   ]
  },
  {
   "cell_type": "markdown",
   "id": "90e36b60",
   "metadata": {},
   "source": [
    "# Check a single model result"
   ]
  },
  {
   "cell_type": "code",
   "execution_count": 53,
   "id": "1540d2bc",
   "metadata": {},
   "outputs": [
    {
     "data": {
      "text/plain": [
       "array([[0.02409, 0.14561],\n",
       "       [0.03347, 0.14145],\n",
       "       [0.03083, 0.1495 ],\n",
       "       [0.02561, 0.14427],\n",
       "       [0.02429, 0.14557],\n",
       "       [0.02686, 0.13845],\n",
       "       [0.02355, 0.14813],\n",
       "       [0.01733, 0.15314],\n",
       "       [0.02534, 0.13746],\n",
       "       [0.03146, 0.15199],\n",
       "       [0.03087, 0.15207],\n",
       "       [0.02624, 0.1443 ],\n",
       "       [0.02408, 0.15042],\n",
       "       [0.02967, 0.14112],\n",
       "       [0.00919, 0.13432]])"
      ]
     },
     "execution_count": 53,
     "metadata": {},
     "output_type": "execute_result"
    }
   ],
   "source": [
    "Pf_results"
   ]
  },
  {
   "cell_type": "code",
   "execution_count": 55,
   "id": "19abc974",
   "metadata": {},
   "outputs": [
    {
     "data": {
      "text/plain": [
       "0.02408"
      ]
     },
     "execution_count": 55,
     "metadata": {},
     "output_type": "execute_result"
    }
   ],
   "source": [
    "#load model\n",
    "filename = 'Batch_13_CATseq_ULOO_40p_LS1.sav'\n",
    "loaded_model = pickle.load(open(filename, 'rb'))\n",
    "\n",
    "#after loading the results file - each dictionary key means:\n",
    "#results file ['# total training points'] = { Surrogate , Pf, CoV_Pf , eLoo , mse } \n",
    "\n",
    "loaded_model['39points'][1]"
   ]
  },
  {
   "cell_type": "code",
   "execution_count": 66,
   "id": "a33701e1",
   "metadata": {
    "scrolled": false
   },
   "outputs": [
    {
     "data": {
      "text/plain": [
       "{'10points': (<pc_kriging.PC_Kriging at 0x20b58640408>,\n",
       "  0.04427,\n",
       "  0.014693080171438798,\n",
       "  0.004769197629918848,\n",
       "  0.7620394009130401),\n",
       " '11points': (<pc_kriging.PC_Kriging at 0x20b58646a88>,\n",
       "  0.04672,\n",
       "  0.01428429542856108,\n",
       "  0.0020154427941194565,\n",
       "  0.8095970016747015),\n",
       " '12points': (<pc_kriging.PC_Kriging at 0x20b574cdb48>,\n",
       "  0.09028,\n",
       "  0.010038252049491842,\n",
       "  0.00013242109990491756,\n",
       "  0.9416713327160491),\n",
       " '13points': (<pc_kriging.PC_Kriging at 0x20b574cd188>,\n",
       "  0.00406,\n",
       "  0.04952831702361911,\n",
       "  0.01868444060347287,\n",
       "  0.30967040969855286),\n",
       " '14points': (<pc_kriging.PC_Kriging at 0x20b574b5848>,\n",
       "  0.00065,\n",
       "  0.12399441674775273,\n",
       "  0.018823417843266767,\n",
       "  0.2970670711615261),\n",
       " '15points': (<pc_kriging.PC_Kriging at 0x20b574fff08>,\n",
       "  0.06239,\n",
       "  0.012258959845346673,\n",
       "  0.015739251565942358,\n",
       "  0.3058810783666764),\n",
       " '16points': (<pc_kriging.PC_Kriging at 0x20b574ffa08>,\n",
       "  0.06237,\n",
       "  0.012261055976824631,\n",
       "  0.0003298205968881996,\n",
       "  0.31295770779176457),\n",
       " '17points': (<pc_kriging.PC_Kriging at 0x20b574ff9c8>,\n",
       "  0.05954,\n",
       "  0.012567987763597327,\n",
       "  0.0027263654837269957,\n",
       "  0.30150000352401657),\n",
       " '18points': (<pc_kriging.PC_Kriging at 0x20b574ff388>,\n",
       "  0.07644,\n",
       "  0.010991886070779118,\n",
       "  0.002396181413289001,\n",
       "  0.3178679526533253),\n",
       " '19points': (<pc_kriging.PC_Kriging at 0x20b5866ba48>,\n",
       "  0.01101,\n",
       "  0.029971072944463054,\n",
       "  3.2900216848062984e-05,\n",
       "  0.2765604047154954),\n",
       " '20points': (<pc_kriging.PC_Kriging at 0x20b5751f548>,\n",
       "  0.00517,\n",
       "  0.04386611422030869,\n",
       "  0.0006055220786925785,\n",
       "  0.2330516622136237),\n",
       " '21points': (<pc_kriging.PC_Kriging at 0x20b5859df08>,\n",
       "  0.0122,\n",
       "  0.028454738289914756,\n",
       "  0.0012387188705221324,\n",
       "  0.23582688020356204),\n",
       " '22points': (<pc_kriging.PC_Kriging at 0x20b586829c8>,\n",
       "  0.012,\n",
       "  0.02869378562220979,\n",
       "  0.0005260764863539007,\n",
       "  0.20715874069814127),\n",
       " '23points': (<pc_kriging.PC_Kriging at 0x20b574f3188>,\n",
       "  0.00935,\n",
       "  0.03255024910162041,\n",
       "  0.000667245935365183,\n",
       "  0.18771660884157437),\n",
       " '24points': (<pc_kriging.PC_Kriging at 0x20b586041c8>,\n",
       "  0.00939,\n",
       "  0.03248018975167139,\n",
       "  0.0002772676755079854,\n",
       "  0.19301172493014843),\n",
       " '25points': (<pc_kriging.PC_Kriging at 0x20b58521408>,\n",
       "  0.01097,\n",
       "  0.03002627230041864,\n",
       "  0.00012534623948995592,\n",
       "  0.21339151735823647),\n",
       " '26points': (<pc_kriging.PC_Kriging at 0x20b58521048>,\n",
       "  0.01286,\n",
       "  0.02770568491612959,\n",
       "  4.5738125976397135e-05,\n",
       "  0.17480591970093223),\n",
       " '27points': (<pc_kriging.PC_Kriging at 0x20b58521a08>,\n",
       "  0.0164,\n",
       "  0.02448991828408122,\n",
       "  1.8273699596967223e-05,\n",
       "  0.17234777764277615),\n",
       " '28points': (<pc_kriging.PC_Kriging at 0x20b585c7b08>,\n",
       "  0.01624,\n",
       "  0.02461226415423883,\n",
       "  0.00012715032863486913,\n",
       "  0.16155567188849432),\n",
       " '29points': (<pc_kriging.PC_Kriging at 0x20b585c7dc8>,\n",
       "  0.02382,\n",
       "  0.02024389491368295,\n",
       "  5.4617745552961614e-05,\n",
       "  0.1429983475903909),\n",
       " '30points': (<pc_kriging.PC_Kriging at 0x20b58696f88>,\n",
       "  0.02347,\n",
       "  0.020397937187367425,\n",
       "  3.723267984314784e-05,\n",
       "  0.1375017197384581),\n",
       " '31points': (<pc_kriging.PC_Kriging at 0x20b574e6e88>,\n",
       "  0.02232,\n",
       "  0.020929134569664495,\n",
       "  0.0006950700408054195,\n",
       "  0.15401046999627616),\n",
       " '32points': (<pc_kriging.PC_Kriging at 0x20b574e6748>,\n",
       "  0.02345,\n",
       "  0.020406842783962972,\n",
       "  0.0018356126023783643,\n",
       "  0.13043304301523875),\n",
       " '33points': (<pc_kriging.PC_Kriging at 0x20b2825e1c8>,\n",
       "  0.01584,\n",
       "  0.024926153560329588,\n",
       "  0.0021217231946233607,\n",
       "  0.11447692957798654),\n",
       " '34points': (<pc_kriging.PC_Kriging at 0x20b58598408>,\n",
       "  0.01639,\n",
       "  0.024497512667751607,\n",
       "  0.0026945767514524053,\n",
       "  0.098524544100412),\n",
       " '35points': (<pc_kriging.PC_Kriging at 0x20b585e7608>,\n",
       "  0.01584,\n",
       "  0.024926153560329588,\n",
       "  0.002403784137753781,\n",
       "  0.08561252196033006),\n",
       " '36points': (<pc_kriging.PC_Kriging at 0x20b574a3908>,\n",
       "  0.01676,\n",
       "  0.02422103860731789,\n",
       "  0.0027688567461295406,\n",
       "  0.08209204795740933),\n",
       " '37points': (<pc_kriging.PC_Kriging at 0x20b58559b88>,\n",
       "  0.02328,\n",
       "  0.020482999404501556,\n",
       "  0.0028043953933044544,\n",
       "  0.07730615813161132),\n",
       " '38points': (<pc_kriging.PC_Kriging at 0x20b58561cc8>,\n",
       "  0.02248,\n",
       "  0.020852814142250573,\n",
       "  0.0033636168268227937,\n",
       "  0.07482641914960796),\n",
       " '39points': (<pc_kriging.PC_Kriging at 0x20b585617c8>,\n",
       "  0.02408,\n",
       "  0.02013162666121588,\n",
       "  0.003043311205126151,\n",
       "  0.07348484053074862),\n",
       " '40points': (<pc_kriging.PC_Kriging at 0x20b57497a48>,\n",
       "  0.02472,\n",
       "  0.01986279799868512,\n",
       "  0.0022164019570503997,\n",
       "  0.07354545174296279),\n",
       " '41points': (<pc_kriging.PC_Kriging at 0x20b57497048>,\n",
       "  0.02778,\n",
       "  0.018707517267232864,\n",
       "  0.0035023538622243277,\n",
       "  0.052413424909284606),\n",
       " '42points': (<pc_kriging.PC_Kriging at 0x20b57497848>,\n",
       "  0.02909,\n",
       "  0.018269119916493073,\n",
       "  0.0006973053379560883,\n",
       "  0.04952898369379331),\n",
       " '43points': (<pc_kriging.PC_Kriging at 0x20b57497c48>,\n",
       "  0.02846,\n",
       "  0.01847621022674665,\n",
       "  0.0009011827105636313,\n",
       "  0.04995937917820285),\n",
       " '44points': (<pc_kriging.PC_Kriging at 0x20b57497988>,\n",
       "  0.02845,\n",
       "  0.01847955218228096,\n",
       "  0.000880111222775849,\n",
       "  0.05136468728841317),\n",
       " '45points': (<pc_kriging.PC_Kriging at 0x20b586510c8>,\n",
       "  0.02716,\n",
       "  0.018925868870897564,\n",
       "  0.0014832591249257312,\n",
       "  0.05086948818618244),\n",
       " '46points': (<pc_kriging.PC_Kriging at 0x20b573e7a88>,\n",
       "  0.02722,\n",
       "  0.01890441558813379,\n",
       "  0.002411704185068452,\n",
       "  0.04489639854450605),\n",
       " '47points': (<pc_kriging.PC_Kriging at 0x20b573e7948>,\n",
       "  0.02826,\n",
       "  0.018543382694512105,\n",
       "  0.0008309854636513716,\n",
       "  0.032434092904281085),\n",
       " '48points': (<pc_kriging.PC_Kriging at 0x20b573e7688>,\n",
       "  0.02881,\n",
       "  0.01836032953948087,\n",
       "  5.7206830863257035e-05,\n",
       "  0.03356851636599079),\n",
       " '49points': (<pc_kriging.PC_Kriging at 0x20b573e7748>,\n",
       "  0.02845,\n",
       "  0.01847955218228096,\n",
       "  0.0018554320478157984,\n",
       "  0.02763542060974431)}"
      ]
     },
     "execution_count": 66,
     "metadata": {},
     "output_type": "execute_result"
    }
   ],
   "source": [
    "loaded_model"
   ]
  },
  {
   "cell_type": "code",
   "execution_count": 49,
   "id": "90a573ee",
   "metadata": {},
   "outputs": [
    {
     "data": {
      "text/plain": [
       "0.007061847857113323"
      ]
     },
     "execution_count": 49,
     "metadata": {},
     "output_type": "execute_result"
    }
   ],
   "source": [
    "abs(-norm.ppf(0.14984)- B_ref_2 ) / B_ref_2"
   ]
  }
 ],
 "metadata": {
  "kernelspec": {
   "display_name": "Python 3",
   "language": "python",
   "name": "python3"
  },
  "language_info": {
   "codemirror_mode": {
    "name": "ipython",
    "version": 3
   },
   "file_extension": ".py",
   "mimetype": "text/x-python",
   "name": "python",
   "nbconvert_exporter": "python",
   "pygments_lexer": "ipython3",
   "version": "3.10.0 (tags/v3.10.0:b494f59, Oct  4 2021, 19:00:18) [MSC v.1929 64 bit (AMD64)]"
  },
  "vscode": {
   "interpreter": {
    "hash": "3196968d684371006099b3d55edeef8ed90365227a30deaef86e5d4aa8519be0"
   }
  }
 },
 "nbformat": 4,
 "nbformat_minor": 5
}
