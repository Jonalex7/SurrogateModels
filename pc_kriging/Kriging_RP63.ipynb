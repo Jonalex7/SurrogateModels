{
 "cells": [
  {
   "cell_type": "code",
   "execution_count": 1,
   "id": "20a8a8ba",
   "metadata": {},
   "outputs": [],
   "source": [
    "import numpy as np\n",
    "from surrogate_models import surrogate_models\n",
    "import pickle"
   ]
  },
  {
   "cell_type": "markdown",
   "id": "98ba5943",
   "metadata": {},
   "source": [
    "# Importing Simulator"
   ]
  },
  {
   "cell_type": "code",
   "execution_count": 2,
   "id": "63aadbc9",
   "metadata": {},
   "outputs": [],
   "source": [
    "import gfun_63 as gfun_63\n",
    "\n",
    "function = gfun_63.gfun_63  #assigning ground truth sim (it should return 1dim only)"
   ]
  },
  {
   "cell_type": "markdown",
   "id": "59a45217",
   "metadata": {},
   "source": [
    "# Setting up training conditions"
   ]
  },
  {
   "cell_type": "code",
   "execution_count": 3,
   "id": "ce1e4503",
   "metadata": {},
   "outputs": [],
   "source": [
    "#Bulding desing of experiment for LHS\n",
    "dim = 100\n",
    "marginal = 'hermite'  #random normal\n",
    "# marginal = 'legendre' #random uniform\n",
    "\n",
    "exp = {}\n",
    "for var in range(dim):\n",
    "    var_name = 'x'+str(var+1)\n",
    "    exp[var_name] = [0.0, 1.0, marginal]   #initial design domain for each variable (normal, uniform)\n",
    "                                           # {'x1':[Min, Max, 'legendre'], 'x2':[mean, std, 'hermite']}"
   ]
  },
  {
   "cell_type": "code",
   "execution_count": 4,
   "id": "f0254e6c",
   "metadata": {},
   "outputs": [],
   "source": [
    "n_mcs = int(1e6)      #number of MC samples\n",
    "passive_samples = 50 \n",
    "active_samples = 100\n",
    "\n",
    "#to creat PCK model--------------------------------------------\n",
    "settings_PCK = {\"metamodel\" : 'PCK',\n",
    "                     \"max_pol\": 5,  #max polynomial degree\n",
    "                     \"passive_sampling\" : [passive_samples,'LHS'] , # initial samplings [n_samples, method]\n",
    "                     \"marginals\" : [exp],   # {'x1':[Min, Max, 'legendre'], 'x2':[mean, var, hermite]}\n",
    "                     \"active_sampling\" : [function, 'U'] } #target settings [n_act, targetF, learningF(U, EFF, ULOO, EFFLOO)]                  \n",
    "\n",
    "#to creat Kriging model--------------------------------------------\n",
    "settings_GP = {\"metamodel\" : 'GP',\n",
    "               \"passive_sampling\" : [passive_samples,'LHS'] , # initial samplings [n_samples, method]\n",
    "               \"marginals\" : [exp],   # {'x1':[Min, Max], 'x2':[mean, var]}  ( if Legendre , if Hermite)\n",
    "               \"active_sampling\" : [function, 'U']} #target settings [n_act, targetF, learningF(U, EFF, ULOO, EFFLOO)]                  \n",
    "\n",
    "#creating objects\n",
    "PCK_batch = surrogate_models(settings_PCK)\n",
    "GP_batch = surrogate_models(settings_GP)"
   ]
  },
  {
   "cell_type": "markdown",
   "id": "80527313",
   "metadata": {},
   "source": [
    "# Active Training"
   ]
  },
  {
   "cell_type": "markdown",
   "id": "48a6c52b",
   "metadata": {},
   "source": [
    "Kriging model with Matern Kernel (scikit learn)"
   ]
  },
  {
   "cell_type": "code",
   "execution_count": null,
   "id": "c473f1eb",
   "metadata": {
    "scrolled": true
   },
   "outputs": [
    {
     "name": "stdout",
     "output_type": "stream",
     "text": [
      "Experiment:  1 ########################################################\n",
      "Training model with 50 samples..\n"
     ]
    },
    {
     "name": "stderr",
     "output_type": "stream",
     "text": [
      "C:\\Users\\Administrator\\anaconda3\\envs\\surrogate\\lib\\site-packages\\sklearn\\gaussian_process\\kernels.py:437: ConvergenceWarning: The optimal value found for dimension 0 of parameter k2__length_scale is close to the specified upper bound 10.0. Increasing the bound and calling fit again may find a better value.\n",
      "  ConvergenceWarning,\n"
     ]
    },
    {
     "name": "stdout",
     "output_type": "stream",
     "text": [
      "Model predictions with MC population...\n",
      "Pf_ref: None Pf_SuMo: 0.988552 B_sumo: -2.275 CoV_SuMo: 0.000\n",
      " \n",
      "Training model with 51 samples..\n"
     ]
    },
    {
     "name": "stderr",
     "output_type": "stream",
     "text": [
      "C:\\Users\\Administrator\\anaconda3\\envs\\surrogate\\lib\\site-packages\\sklearn\\gaussian_process\\kernels.py:437: ConvergenceWarning: The optimal value found for dimension 0 of parameter k2__length_scale is close to the specified upper bound 10.0. Increasing the bound and calling fit again may find a better value.\n",
      "  ConvergenceWarning,\n"
     ]
    },
    {
     "name": "stdout",
     "output_type": "stream",
     "text": [
      "Model predictions with MC population...\n",
      "Pf_ref: None Pf_SuMo: 0.860998 B_sumo: -1.085 CoV_SuMo: 0.000\n",
      " \n",
      "Training model with 52 samples..\n"
     ]
    },
    {
     "name": "stderr",
     "output_type": "stream",
     "text": [
      "C:\\Users\\Administrator\\anaconda3\\envs\\surrogate\\lib\\site-packages\\sklearn\\gaussian_process\\kernels.py:437: ConvergenceWarning: The optimal value found for dimension 0 of parameter k2__length_scale is close to the specified upper bound 10.0. Increasing the bound and calling fit again may find a better value.\n",
      "  ConvergenceWarning,\n"
     ]
    },
    {
     "name": "stdout",
     "output_type": "stream",
     "text": [
      "Model predictions with MC population...\n",
      "Pf_ref: None Pf_SuMo: 0.792972 B_sumo: -0.817 CoV_SuMo: 0.001\n",
      " \n",
      "Training model with 53 samples..\n"
     ]
    },
    {
     "name": "stderr",
     "output_type": "stream",
     "text": [
      "C:\\Users\\Administrator\\anaconda3\\envs\\surrogate\\lib\\site-packages\\sklearn\\gaussian_process\\kernels.py:437: ConvergenceWarning: The optimal value found for dimension 0 of parameter k2__length_scale is close to the specified upper bound 10.0. Increasing the bound and calling fit again may find a better value.\n",
      "  ConvergenceWarning,\n"
     ]
    },
    {
     "name": "stdout",
     "output_type": "stream",
     "text": [
      "Model predictions with MC population...\n",
      "Pf_ref: None Pf_SuMo: 0.728949 B_sumo: -0.610 CoV_SuMo: 0.001\n",
      " \n",
      "Training model with 54 samples..\n"
     ]
    },
    {
     "name": "stderr",
     "output_type": "stream",
     "text": [
      "C:\\Users\\Administrator\\anaconda3\\envs\\surrogate\\lib\\site-packages\\sklearn\\gaussian_process\\kernels.py:437: ConvergenceWarning: The optimal value found for dimension 0 of parameter k2__length_scale is close to the specified upper bound 10.0. Increasing the bound and calling fit again may find a better value.\n",
      "  ConvergenceWarning,\n"
     ]
    },
    {
     "name": "stdout",
     "output_type": "stream",
     "text": [
      "Model predictions with MC population...\n",
      "Pf_ref: None Pf_SuMo: 0.603043 B_sumo: -0.261 CoV_SuMo: 0.001\n",
      " \n",
      "Training model with 55 samples..\n"
     ]
    },
    {
     "name": "stderr",
     "output_type": "stream",
     "text": [
      "C:\\Users\\Administrator\\anaconda3\\envs\\surrogate\\lib\\site-packages\\sklearn\\gaussian_process\\kernels.py:437: ConvergenceWarning: The optimal value found for dimension 0 of parameter k2__length_scale is close to the specified upper bound 10.0. Increasing the bound and calling fit again may find a better value.\n",
      "  ConvergenceWarning,\n"
     ]
    },
    {
     "name": "stdout",
     "output_type": "stream",
     "text": [
      "Model predictions with MC population...\n",
      "Pf_ref: None Pf_SuMo: 0.522821 B_sumo: -0.057 CoV_SuMo: 0.001\n",
      " \n",
      "Training model with 56 samples..\n"
     ]
    },
    {
     "name": "stderr",
     "output_type": "stream",
     "text": [
      "C:\\Users\\Administrator\\anaconda3\\envs\\surrogate\\lib\\site-packages\\sklearn\\gaussian_process\\kernels.py:437: ConvergenceWarning: The optimal value found for dimension 0 of parameter k2__length_scale is close to the specified upper bound 10.0. Increasing the bound and calling fit again may find a better value.\n",
      "  ConvergenceWarning,\n"
     ]
    },
    {
     "name": "stdout",
     "output_type": "stream",
     "text": [
      "Model predictions with MC population...\n",
      "Pf_ref: None Pf_SuMo: 0.46136 B_sumo: 0.097 CoV_SuMo: 0.001\n",
      " \n",
      "Training model with 57 samples..\n"
     ]
    },
    {
     "name": "stderr",
     "output_type": "stream",
     "text": [
      "C:\\Users\\Administrator\\anaconda3\\envs\\surrogate\\lib\\site-packages\\sklearn\\gaussian_process\\kernels.py:437: ConvergenceWarning: The optimal value found for dimension 0 of parameter k2__length_scale is close to the specified upper bound 10.0. Increasing the bound and calling fit again may find a better value.\n",
      "  ConvergenceWarning,\n"
     ]
    },
    {
     "name": "stdout",
     "output_type": "stream",
     "text": [
      "Model predictions with MC population...\n",
      "Pf_ref: None Pf_SuMo: 0.420276 B_sumo: 0.201 CoV_SuMo: 0.001\n",
      " \n",
      "Training model with 58 samples..\n"
     ]
    },
    {
     "name": "stderr",
     "output_type": "stream",
     "text": [
      "C:\\Users\\Administrator\\anaconda3\\envs\\surrogate\\lib\\site-packages\\sklearn\\gaussian_process\\kernels.py:437: ConvergenceWarning: The optimal value found for dimension 0 of parameter k2__length_scale is close to the specified upper bound 10.0. Increasing the bound and calling fit again may find a better value.\n",
      "  ConvergenceWarning,\n"
     ]
    },
    {
     "name": "stdout",
     "output_type": "stream",
     "text": [
      "Model predictions with MC population...\n",
      "Pf_ref: None Pf_SuMo: 0.403519 B_sumo: 0.244 CoV_SuMo: 0.001\n",
      " \n",
      "Training model with 59 samples..\n"
     ]
    },
    {
     "name": "stderr",
     "output_type": "stream",
     "text": [
      "C:\\Users\\Administrator\\anaconda3\\envs\\surrogate\\lib\\site-packages\\sklearn\\gaussian_process\\kernels.py:437: ConvergenceWarning: The optimal value found for dimension 0 of parameter k2__length_scale is close to the specified upper bound 10.0. Increasing the bound and calling fit again may find a better value.\n",
      "  ConvergenceWarning,\n"
     ]
    },
    {
     "name": "stdout",
     "output_type": "stream",
     "text": [
      "Model predictions with MC population...\n",
      "Pf_ref: None Pf_SuMo: 0.333119 B_sumo: 0.431 CoV_SuMo: 0.001\n",
      " \n",
      "Training model with 60 samples..\n"
     ]
    },
    {
     "name": "stderr",
     "output_type": "stream",
     "text": [
      "C:\\Users\\Administrator\\anaconda3\\envs\\surrogate\\lib\\site-packages\\sklearn\\gaussian_process\\kernels.py:437: ConvergenceWarning: The optimal value found for dimension 0 of parameter k2__length_scale is close to the specified upper bound 10.0. Increasing the bound and calling fit again may find a better value.\n",
      "  ConvergenceWarning,\n"
     ]
    },
    {
     "name": "stdout",
     "output_type": "stream",
     "text": [
      "Model predictions with MC population...\n",
      "Pf_ref: None Pf_SuMo: 0.276525 B_sumo: 0.593 CoV_SuMo: 0.002\n",
      " \n",
      "Training model with 61 samples..\n"
     ]
    },
    {
     "name": "stderr",
     "output_type": "stream",
     "text": [
      "C:\\Users\\Administrator\\anaconda3\\envs\\surrogate\\lib\\site-packages\\sklearn\\gaussian_process\\kernels.py:437: ConvergenceWarning: The optimal value found for dimension 0 of parameter k2__length_scale is close to the specified upper bound 10.0. Increasing the bound and calling fit again may find a better value.\n",
      "  ConvergenceWarning,\n"
     ]
    },
    {
     "name": "stdout",
     "output_type": "stream",
     "text": [
      "Model predictions with MC population...\n",
      "Pf_ref: None Pf_SuMo: 0.224266 B_sumo: 0.758 CoV_SuMo: 0.002\n",
      " \n",
      "Training model with 62 samples..\n"
     ]
    },
    {
     "name": "stderr",
     "output_type": "stream",
     "text": [
      "C:\\Users\\Administrator\\anaconda3\\envs\\surrogate\\lib\\site-packages\\sklearn\\gaussian_process\\kernels.py:437: ConvergenceWarning: The optimal value found for dimension 0 of parameter k2__length_scale is close to the specified upper bound 10.0. Increasing the bound and calling fit again may find a better value.\n",
      "  ConvergenceWarning,\n"
     ]
    },
    {
     "name": "stdout",
     "output_type": "stream",
     "text": [
      "Model predictions with MC population...\n",
      "Pf_ref: None Pf_SuMo: 0.188061 B_sumo: 0.885 CoV_SuMo: 0.002\n",
      " \n",
      "Training model with 63 samples..\n"
     ]
    },
    {
     "name": "stderr",
     "output_type": "stream",
     "text": [
      "C:\\Users\\Administrator\\anaconda3\\envs\\surrogate\\lib\\site-packages\\sklearn\\gaussian_process\\kernels.py:437: ConvergenceWarning: The optimal value found for dimension 0 of parameter k2__length_scale is close to the specified upper bound 10.0. Increasing the bound and calling fit again may find a better value.\n",
      "  ConvergenceWarning,\n"
     ]
    },
    {
     "name": "stdout",
     "output_type": "stream",
     "text": [
      "Model predictions with MC population...\n",
      "Pf_ref: None Pf_SuMo: 0.176132 B_sumo: 0.930 CoV_SuMo: 0.002\n",
      " \n",
      "Training model with 64 samples..\n"
     ]
    },
    {
     "name": "stderr",
     "output_type": "stream",
     "text": [
      "C:\\Users\\Administrator\\anaconda3\\envs\\surrogate\\lib\\site-packages\\sklearn\\gaussian_process\\kernels.py:437: ConvergenceWarning: The optimal value found for dimension 0 of parameter k2__length_scale is close to the specified upper bound 10.0. Increasing the bound and calling fit again may find a better value.\n",
      "  ConvergenceWarning,\n"
     ]
    },
    {
     "name": "stdout",
     "output_type": "stream",
     "text": [
      "Model predictions with MC population...\n",
      "Pf_ref: None Pf_SuMo: 0.13723 B_sumo: 1.093 CoV_SuMo: 0.003\n",
      " \n",
      "Training model with 65 samples..\n"
     ]
    },
    {
     "name": "stderr",
     "output_type": "stream",
     "text": [
      "C:\\Users\\Administrator\\anaconda3\\envs\\surrogate\\lib\\site-packages\\sklearn\\gaussian_process\\kernels.py:437: ConvergenceWarning: The optimal value found for dimension 0 of parameter k2__length_scale is close to the specified upper bound 10.0. Increasing the bound and calling fit again may find a better value.\n",
      "  ConvergenceWarning,\n"
     ]
    },
    {
     "name": "stdout",
     "output_type": "stream",
     "text": [
      "Model predictions with MC population...\n",
      "Pf_ref: None Pf_SuMo: 0.123205 B_sumo: 1.159 CoV_SuMo: 0.003\n",
      " \n",
      "Training model with 66 samples..\n"
     ]
    },
    {
     "name": "stderr",
     "output_type": "stream",
     "text": [
      "C:\\Users\\Administrator\\anaconda3\\envs\\surrogate\\lib\\site-packages\\sklearn\\gaussian_process\\kernels.py:437: ConvergenceWarning: The optimal value found for dimension 0 of parameter k2__length_scale is close to the specified upper bound 10.0. Increasing the bound and calling fit again may find a better value.\n",
      "  ConvergenceWarning,\n"
     ]
    },
    {
     "name": "stdout",
     "output_type": "stream",
     "text": [
      "Model predictions with MC population...\n",
      "Pf_ref: None Pf_SuMo: 0.09085 B_sumo: 1.335 CoV_SuMo: 0.003\n",
      " \n",
      "Training model with 67 samples..\n"
     ]
    },
    {
     "name": "stderr",
     "output_type": "stream",
     "text": [
      "C:\\Users\\Administrator\\anaconda3\\envs\\surrogate\\lib\\site-packages\\sklearn\\gaussian_process\\kernels.py:437: ConvergenceWarning: The optimal value found for dimension 0 of parameter k2__length_scale is close to the specified upper bound 10.0. Increasing the bound and calling fit again may find a better value.\n",
      "  ConvergenceWarning,\n"
     ]
    },
    {
     "name": "stdout",
     "output_type": "stream",
     "text": [
      "Model predictions with MC population...\n",
      "Pf_ref: None Pf_SuMo: 0.074914 B_sumo: 1.440 CoV_SuMo: 0.004\n",
      " \n",
      "Training model with 68 samples..\n"
     ]
    },
    {
     "name": "stderr",
     "output_type": "stream",
     "text": [
      "C:\\Users\\Administrator\\anaconda3\\envs\\surrogate\\lib\\site-packages\\sklearn\\gaussian_process\\kernels.py:437: ConvergenceWarning: The optimal value found for dimension 0 of parameter k2__length_scale is close to the specified upper bound 10.0. Increasing the bound and calling fit again may find a better value.\n",
      "  ConvergenceWarning,\n"
     ]
    },
    {
     "name": "stdout",
     "output_type": "stream",
     "text": [
      "Model predictions with MC population...\n",
      "Pf_ref: None Pf_SuMo: 0.058596 B_sumo: 1.567 CoV_SuMo: 0.004\n",
      " \n",
      "Training model with 69 samples..\n"
     ]
    },
    {
     "name": "stderr",
     "output_type": "stream",
     "text": [
      "C:\\Users\\Administrator\\anaconda3\\envs\\surrogate\\lib\\site-packages\\sklearn\\gaussian_process\\kernels.py:437: ConvergenceWarning: The optimal value found for dimension 0 of parameter k2__length_scale is close to the specified upper bound 10.0. Increasing the bound and calling fit again may find a better value.\n",
      "  ConvergenceWarning,\n"
     ]
    },
    {
     "name": "stdout",
     "output_type": "stream",
     "text": [
      "Model predictions with MC population...\n",
      "Pf_ref: None Pf_SuMo: 0.048834 B_sumo: 1.656 CoV_SuMo: 0.004\n",
      " \n",
      "Training model with 70 samples..\n"
     ]
    },
    {
     "name": "stderr",
     "output_type": "stream",
     "text": [
      "C:\\Users\\Administrator\\anaconda3\\envs\\surrogate\\lib\\site-packages\\sklearn\\gaussian_process\\kernels.py:437: ConvergenceWarning: The optimal value found for dimension 0 of parameter k2__length_scale is close to the specified upper bound 10.0. Increasing the bound and calling fit again may find a better value.\n",
      "  ConvergenceWarning,\n"
     ]
    },
    {
     "name": "stdout",
     "output_type": "stream",
     "text": [
      "Model predictions with MC population...\n",
      "Pf_ref: None Pf_SuMo: 0.029671 B_sumo: 1.886 CoV_SuMo: 0.006\n",
      " \n",
      "Training model with 71 samples..\n"
     ]
    },
    {
     "name": "stderr",
     "output_type": "stream",
     "text": [
      "C:\\Users\\Administrator\\anaconda3\\envs\\surrogate\\lib\\site-packages\\sklearn\\gaussian_process\\kernels.py:437: ConvergenceWarning: The optimal value found for dimension 0 of parameter k2__length_scale is close to the specified upper bound 10.0. Increasing the bound and calling fit again may find a better value.\n",
      "  ConvergenceWarning,\n"
     ]
    },
    {
     "name": "stdout",
     "output_type": "stream",
     "text": [
      "Model predictions with MC population...\n",
      "Pf_ref: None Pf_SuMo: 0.023062 B_sumo: 1.994 CoV_SuMo: 0.006\n",
      " \n",
      "Training model with 72 samples..\n"
     ]
    },
    {
     "name": "stderr",
     "output_type": "stream",
     "text": [
      "C:\\Users\\Administrator\\anaconda3\\envs\\surrogate\\lib\\site-packages\\sklearn\\gaussian_process\\kernels.py:437: ConvergenceWarning: The optimal value found for dimension 0 of parameter k2__length_scale is close to the specified upper bound 10.0. Increasing the bound and calling fit again may find a better value.\n",
      "  ConvergenceWarning,\n"
     ]
    },
    {
     "name": "stdout",
     "output_type": "stream",
     "text": [
      "Model predictions with MC population...\n",
      "Pf_ref: None Pf_SuMo: 0.01764 B_sumo: 2.105 CoV_SuMo: 0.007\n",
      " \n",
      "Training model with 73 samples..\n"
     ]
    },
    {
     "name": "stderr",
     "output_type": "stream",
     "text": [
      "C:\\Users\\Administrator\\anaconda3\\envs\\surrogate\\lib\\site-packages\\sklearn\\gaussian_process\\kernels.py:437: ConvergenceWarning: The optimal value found for dimension 0 of parameter k2__length_scale is close to the specified upper bound 10.0. Increasing the bound and calling fit again may find a better value.\n",
      "  ConvergenceWarning,\n"
     ]
    },
    {
     "name": "stdout",
     "output_type": "stream",
     "text": [
      "Model predictions with MC population...\n",
      "Pf_ref: None Pf_SuMo: 0.013959 B_sumo: 2.198 CoV_SuMo: 0.008\n",
      " \n",
      "Training model with 74 samples..\n"
     ]
    },
    {
     "name": "stderr",
     "output_type": "stream",
     "text": [
      "C:\\Users\\Administrator\\anaconda3\\envs\\surrogate\\lib\\site-packages\\sklearn\\gaussian_process\\kernels.py:437: ConvergenceWarning: The optimal value found for dimension 0 of parameter k2__length_scale is close to the specified upper bound 10.0. Increasing the bound and calling fit again may find a better value.\n",
      "  ConvergenceWarning,\n"
     ]
    },
    {
     "name": "stdout",
     "output_type": "stream",
     "text": [
      "Model predictions with MC population...\n",
      "Pf_ref: None Pf_SuMo: 0.010411 B_sumo: 2.311 CoV_SuMo: 0.010\n",
      " \n",
      "Training model with 75 samples..\n"
     ]
    },
    {
     "name": "stderr",
     "output_type": "stream",
     "text": [
      "C:\\Users\\Administrator\\anaconda3\\envs\\surrogate\\lib\\site-packages\\sklearn\\gaussian_process\\kernels.py:437: ConvergenceWarning: The optimal value found for dimension 0 of parameter k2__length_scale is close to the specified upper bound 10.0. Increasing the bound and calling fit again may find a better value.\n",
      "  ConvergenceWarning,\n"
     ]
    },
    {
     "name": "stdout",
     "output_type": "stream",
     "text": [
      "Model predictions with MC population...\n",
      "Pf_ref: None Pf_SuMo: 0.009475 B_sumo: 2.346 CoV_SuMo: 0.010\n",
      " \n",
      "Training model with 76 samples..\n"
     ]
    },
    {
     "name": "stderr",
     "output_type": "stream",
     "text": [
      "C:\\Users\\Administrator\\anaconda3\\envs\\surrogate\\lib\\site-packages\\sklearn\\gaussian_process\\kernels.py:437: ConvergenceWarning: The optimal value found for dimension 0 of parameter k2__length_scale is close to the specified upper bound 10.0. Increasing the bound and calling fit again may find a better value.\n",
      "  ConvergenceWarning,\n"
     ]
    }
   ],
   "source": [
    "experiments = 5\n",
    "GP_batch.active_sampling(n_exp = experiments, n_act = active_samples, MCpool= n_mcs, GroundT=False)  "
   ]
  },
  {
   "cell_type": "markdown",
   "id": "124b6679",
   "metadata": {},
   "source": [
    "PCK model"
   ]
  },
  {
   "cell_type": "code",
   "execution_count": null,
   "id": "f7dcf28a",
   "metadata": {},
   "outputs": [],
   "source": [
    "experiments = 5\n",
    "PCK_batch.active_sampling(n_exp = experiments, n_act = active_samples, MCpool= n_mcs, GroundT=True)  "
   ]
  },
  {
   "cell_type": "markdown",
   "id": "7ae80b96",
   "metadata": {},
   "source": [
    "Loading results file"
   ]
  },
  {
   "cell_type": "code",
   "execution_count": null,
   "id": "56ca3f13",
   "metadata": {},
   "outputs": [],
   "source": [
    "file_name = 'PCK_Batch_1.sav'\n",
    "experiment = pickle.load(open(file_name, 'rb'))"
   ]
  },
  {
   "cell_type": "code",
   "execution_count": null,
   "id": "c3c1786f",
   "metadata": {},
   "outputs": [],
   "source": [
    "experiment"
   ]
  },
  {
   "cell_type": "code",
   "execution_count": null,
   "id": "74eb2665",
   "metadata": {},
   "outputs": [],
   "source": [
    "experiment['last']"
   ]
  }
 ],
 "metadata": {
  "kernelspec": {
   "display_name": "Python 3 (ipykernel)",
   "language": "python",
   "name": "python3"
  },
  "language_info": {
   "codemirror_mode": {
    "name": "ipython",
    "version": 3
   },
   "file_extension": ".py",
   "mimetype": "text/x-python",
   "name": "python",
   "nbconvert_exporter": "python",
   "pygments_lexer": "ipython3",
   "version": "3.7.13"
  }
 },
 "nbformat": 4,
 "nbformat_minor": 5
}
