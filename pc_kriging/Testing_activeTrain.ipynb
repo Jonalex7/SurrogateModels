{
 "cells": [
  {
   "cell_type": "code",
   "execution_count": 2,
   "id": "bf7630b9",
   "metadata": {},
   "outputs": [],
   "source": [
    "import numpy as np\n",
    "from ActiveTraining import Active_Training"
   ]
  },
  {
   "cell_type": "code",
   "execution_count": 3,
   "id": "972bd2fc",
   "metadata": {},
   "outputs": [],
   "source": [
    "# #ground truth function ----------------------------------------------------\n",
    "# https://rprepo.readthedocs.io/en/latest/reliability_problems.html#rp201\n",
    "\n",
    "def gfun_53(x):\n",
    "    \"\"\"Performance function for reliability problem 53.\n",
    "\n",
    "    Parameters\n",
    "    ----------\n",
    "        x : numpy.array of float(s)\n",
    "            Values of independent variables: columns are the different parameters/random variables (x1, x2,...xn) and rows are different parameter/random variables sets for different calls.\n",
    "\n",
    "    Returns\n",
    "    -------\n",
    "        g_val_sys : numpy.array of float(s)\n",
    "            Performance function value for the system.\n",
    "        g_val_comp : numpy.array of float(s)\n",
    "            Performance function value for each component.\n",
    "        msg : str\n",
    "            Accompanying diagnostic message, e.g. warning.\n",
    "    \"\"\"\n",
    "#     import numpy as np\n",
    "    # expected number of random variables/columns\n",
    "    nrv_e = 2\n",
    "\n",
    "    g = float('nan')\n",
    "    msg = 'Ok'\n",
    "    x = np.array(x, dtype='f')\n",
    "\n",
    "    n_dim = len(x.shape)\n",
    "    if n_dim == 1:\n",
    "        x = np.array(x)[np.newaxis]\n",
    "    elif n_dim > 2:\n",
    "        msg = 'Only available for 1D and 2D arrays.'\n",
    "        return float('nan'), float('nan'), msg\n",
    "\n",
    "    nrv_p = x.shape[1]\n",
    "    if nrv_p != nrv_e:\n",
    "        msg = f'The number of random variables (x, columns) is expected to be {nrv_e} but {nrv_p} is provided!'\n",
    "    else:\n",
    "        g = np.sin(5*x[:, 0]/2) + 2 - (x[:, 0]**2 + 4)*(x[:, 1] - 1)/20\n",
    "\n",
    "    g_val_sys = g\n",
    "    \n",
    "    return g_val_sys\n",
    "\n",
    "def LS1(x):                   #Definition of target limit state\n",
    "    \n",
    "#     return x*np.sin(x)\n",
    "    return x[:,0]**3 +x[:,1]+x[:,2]"
   ]
  },
  {
   "cell_type": "code",
   "execution_count": 3,
   "id": "af3dd4e3",
   "metadata": {},
   "outputs": [],
   "source": [
    "model = {\"metamodel\" : 'PCK'}\n",
    "\n",
    "training_settings = {\"passive_sampling\" : [10,'LHS'] , # initial samplings [n, dim, method]\n",
    "                     \"marginals_R\" : [{'x1':[1.5, 1.0, 'hermite'],\n",
    "                                       'x2':[2.5, 1.0, 'hermite']}],   # {'x1':[Min, Max], 'x2':[mean, var]}  ( if Legendre , if Hermite)\n",
    "                     \"active_sampling\" : [gfun_53, 'U'], #target settings [n_act, targetF, learningF(U, EFF, ULOO, EFFLOO)]\n",
    "                     \"model\": [5/2, 5]}                  #matern coeff, max polynomial degree\n",
    "\n",
    "# create object\n",
    "PCK_batch = Active_Training(model, training_settings)"
   ]
  },
  {
   "cell_type": "code",
   "execution_count": 4,
   "id": "4c406e81",
   "metadata": {},
   "outputs": [
    {
     "name": "stdout",
     "output_type": "stream",
     "text": [
      "N° Training Samples:  10\n",
      "Degree 1 e_LOO 0.25280 Pf_ref 0.03046 Pf_SuMo 0.06636 CoV_SuMo 0.01680\n",
      "N° Training Samples:  11\n",
      "Degree 1 e_LOO 0.29050 Pf_ref 0.03178 Pf_SuMo 0.0068 CoV_SuMo 0.05400\n",
      "N° Training Samples:  12\n",
      "Degree 1 e_LOO 0.20750 Pf_ref 0.03268 Pf_SuMo 0.00352 CoV_SuMo 0.07520\n",
      "N° Training Samples:  13\n",
      "Degree 1 e_LOO 0.51480 Pf_ref 0.03034 Pf_SuMo 0.01804 CoV_SuMo 0.03300\n",
      "N° Training Samples:  14\n",
      "Degree 1 e_LOO 0.36800 Pf_ref 0.0326 Pf_SuMo 0.0121 CoV_SuMo 0.04040\n",
      "N° Training Samples:  15\n",
      "Degree 1 e_LOO 0.36280 Pf_ref 0.03168 Pf_SuMo 0.0123 CoV_SuMo 0.04010\n",
      "N° Training Samples:  16\n",
      "Degree 1 e_LOO 0.27620 Pf_ref 0.0317 Pf_SuMo 0.01306 CoV_SuMo 0.03890\n",
      "N° Training Samples:  17\n",
      "Degree 1 e_LOO 0.26700 Pf_ref 0.03252 Pf_SuMo 0.0096 CoV_SuMo 0.04540\n",
      "N° Training Samples:  18\n",
      "Degree 1 e_LOO 0.21170 Pf_ref 0.03316 Pf_SuMo 0.0097 CoV_SuMo 0.04520\n",
      "N° Training Samples:  19\n",
      "Degree 1 e_LOO 0.19220 Pf_ref 0.0318 Pf_SuMo 0.0087 CoV_SuMo 0.04770\n",
      "N° Training Samples:  20\n",
      "Degree 2 e_LOO 0.27010 Pf_ref 0.03128 Pf_SuMo 0.0081 CoV_SuMo 0.04950\n",
      "N° Training Samples:  21\n",
      "Degree 2 e_LOO 0.19580 Pf_ref 0.03158 Pf_SuMo 0.00858 CoV_SuMo 0.04810\n",
      "N° Training Samples:  22\n",
      "Degree 1 e_LOO 0.22330 Pf_ref 0.03058 Pf_SuMo 0.00804 CoV_SuMo 0.04970\n",
      "N° Training Samples:  23\n",
      "Degree 1 e_LOO 0.24430 Pf_ref 0.0316 Pf_SuMo 0.01248 CoV_SuMo 0.03980\n",
      "N° Training Samples:  24\n",
      "Degree 2 e_LOO 0.30920 Pf_ref 0.03102 Pf_SuMo 0.0094 CoV_SuMo 0.04590\n",
      "N° Training Samples:  25\n",
      "Degree 2 e_LOO 0.28450 Pf_ref 0.03088 Pf_SuMo 0.00972 CoV_SuMo 0.04510\n",
      "N° Training Samples:  26\n",
      "Degree 2 e_LOO 0.20570 Pf_ref 0.03158 Pf_SuMo 0.0102 CoV_SuMo 0.04410\n",
      "N° Training Samples:  27\n",
      "Degree 2 e_LOO 0.20250 Pf_ref 0.03102 Pf_SuMo 0.01012 CoV_SuMo 0.04420\n",
      "N° Training Samples:  28\n",
      "Degree 2 e_LOO 0.20570 Pf_ref 0.03112 Pf_SuMo 0.01546 CoV_SuMo 0.03570\n",
      "N° Training Samples:  29\n",
      "Degree 2 e_LOO 0.18550 Pf_ref 0.03082 Pf_SuMo 0.01762 CoV_SuMo 0.03340\n",
      "N° Training Samples:  30\n",
      "Degree 2 e_LOO 0.16390 Pf_ref 0.03034 Pf_SuMo 0.02808 CoV_SuMo 0.02630\n",
      "N° Training Samples:  31\n",
      "Degree 2 e_LOO 0.15340 Pf_ref 0.03056 Pf_SuMo 0.02656 CoV_SuMo 0.02710\n",
      "N° Training Samples:  32\n",
      "Degree 2 e_LOO 0.14720 Pf_ref 0.03098 Pf_SuMo 0.02888 CoV_SuMo 0.02590\n",
      "N° Training Samples:  33\n",
      "Degree 2 e_LOO 0.14180 Pf_ref 0.03102 Pf_SuMo 0.0308 CoV_SuMo 0.02510\n",
      "N° Training Samples:  34\n",
      "Degree 2 e_LOO 0.13720 Pf_ref 0.03184 Pf_SuMo 0.0318 CoV_SuMo 0.02470\n",
      "N° Training Samples:  35\n"
     ]
    },
    {
     "name": "stderr",
     "output_type": "stream",
     "text": [
      "/Users/jonathan/environments/surrogate/lib/python3.9/site-packages/scipy/optimize/_optimize.py:284: RuntimeWarning: Values in x were outside bounds during a minimize step, clipping to bounds\n",
      "  warnings.warn(\"Values in x were outside bounds during a \"\n"
     ]
    },
    {
     "name": "stdout",
     "output_type": "stream",
     "text": [
      "Degree 1 e_LOO 0.13160 Pf_ref 0.03064 Pf_SuMo 0.03002 CoV_SuMo 0.02540\n",
      "N° Training Samples:  36\n",
      "Degree 1 e_LOO 0.12530 Pf_ref 0.03052 Pf_SuMo 0.02982 CoV_SuMo 0.02550\n",
      "N° Training Samples:  37\n",
      "Degree 2 e_LOO 0.11770 Pf_ref 0.0315 Pf_SuMo 0.03108 CoV_SuMo 0.02500\n",
      "N° Training Samples:  38\n",
      "Degree 1 e_LOO 0.08590 Pf_ref 0.0314 Pf_SuMo 0.03038 CoV_SuMo 0.02530\n",
      "N° Training Samples:  39\n",
      "Degree 1 e_LOO 0.08340 Pf_ref 0.03082 Pf_SuMo 0.0301 CoV_SuMo 0.02540\n",
      "N° Training Samples:  40\n",
      "Degree 1 e_LOO 0.08130 Pf_ref 0.03206 Pf_SuMo 0.0314 CoV_SuMo 0.02480\n"
     ]
    }
   ],
   "source": [
    "PCK_batch.active_sampling(30, 50000, True)  \n",
    "#active samples, number of MC samples, wheter ground truth is cheap to evaluate"
   ]
  },
  {
   "cell_type": "code",
   "execution_count": 5,
   "id": "ffd9f11b",
   "metadata": {},
   "outputs": [
    {
     "data": {
      "text/plain": [
       "(2, 0.9965191003457536, 0.1639456260388695, 0.02808, 0.026310657769252222)"
      ]
     },
     "execution_count": 5,
     "metadata": {},
     "output_type": "execute_result"
    }
   ],
   "source": [
    "PCK_batch.training_results['30_points']\n",
    "#opt. degree, opt length, eloo , Pf_SUMO, cov_pf "
   ]
  },
  {
   "cell_type": "code",
   "execution_count": 8,
   "id": "f2d8e0f8",
   "metadata": {},
   "outputs": [
    {
     "data": {
      "text/plain": [
       "array([[ 0.33333333,  0.77777778],\n",
       "       [ 0.11111111,  0.11111111],\n",
       "       [ 0.77777778,  0.55555556],\n",
       "       [-0.33333333, -1.        ],\n",
       "       [ 1.        , -0.11111111],\n",
       "       [ 0.55555556, -0.77777778],\n",
       "       [-1.        , -0.55555556],\n",
       "       [-0.77777778,  1.        ],\n",
       "       [-0.55555556,  0.33333333],\n",
       "       [-0.11111111, -0.33333333],\n",
       "       [ 1.28719831,  0.91199304],\n",
       "       [ 2.46286457, -0.1854605 ],\n",
       "       [ 2.5780426 ,  1.30207074],\n",
       "       [ 1.92177674,  0.94431262],\n",
       "       [ 2.60892062, -0.88944905],\n",
       "       [ 2.38756526,  0.4850957 ],\n",
       "       [ 1.25138883,  2.01193453],\n",
       "       [ 1.89029505,  1.63943785],\n",
       "       [ 1.07790294,  2.87812164],\n",
       "       [ 3.22390683, -1.67127411],\n",
       "       [ 2.24421613,  0.75439202],\n",
       "       [ 3.68874357, -0.77473373],\n",
       "       [ 0.48830984,  2.96495684],\n",
       "       [-0.54955427,  2.7461118 ],\n",
       "       [ 3.26100285,  0.15943333],\n",
       "       [ 1.4205767 ,  2.56653289],\n",
       "       [ 0.01982784,  4.36767909],\n",
       "       [ 0.59942045,  2.38077841],\n",
       "       [ 0.18394447,  2.09163522],\n",
       "       [ 0.37617394,  1.68208724],\n",
       "       [ 0.2448621 ,  1.41571617],\n",
       "       [ 0.1539352 ,  1.85465114],\n",
       "       [ 0.40634547,  1.19654789],\n",
       "       [ 0.81911003,  1.7382368 ],\n",
       "       [ 0.85290219,  1.88845508],\n",
       "       [ 0.57417809,  1.16296208],\n",
       "       [ 1.9880156 ,  2.00879286],\n",
       "       [-0.03881426,  3.08384074],\n",
       "       [ 0.20933281,  1.66673304],\n",
       "       [ 0.69028943,  1.4112387 ]])"
      ]
     },
     "execution_count": 8,
     "metadata": {},
     "output_type": "execute_result"
    }
   ],
   "source": [
    "PCK_batch.surrogate.doe"
   ]
  },
  {
   "cell_type": "code",
   "execution_count": null,
   "id": "c1df1d80",
   "metadata": {},
   "outputs": [],
   "source": []
  }
 ],
 "metadata": {
  "kernelspec": {
   "display_name": "Python 3 (ipykernel)",
   "language": "python",
   "name": "python3"
  },
  "language_info": {
   "codemirror_mode": {
    "name": "ipython",
    "version": 3
   },
   "file_extension": ".py",
   "mimetype": "text/x-python",
   "name": "python",
   "nbconvert_exporter": "python",
   "pygments_lexer": "ipython3",
   "version": "3.9.6"
  }
 },
 "nbformat": 4,
 "nbformat_minor": 5
}
