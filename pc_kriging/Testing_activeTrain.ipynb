{
 "cells": [
  {
   "cell_type": "code",
   "execution_count": 2,
   "id": "fc794d89",
   "metadata": {},
   "outputs": [],
   "source": [
    "import numpy as np\n",
    "from surrogate_models import surrogate_models\n",
    "import pickle"
   ]
  },
  {
   "cell_type": "code",
   "execution_count": 3,
   "id": "f78dbf8f",
   "metadata": {},
   "outputs": [],
   "source": [
    "# https://rprepo.readthedocs.io/en/latest/_modules/gfun_55.html#gfun_55\n",
    "# RP55\n",
    "# Table 21 – Challenge set 2.\n",
    "# set_id - problem_id\n",
    "# 2 - 4\n",
    "\n",
    "import gfun_55_mod as gfun_55_mod\n",
    "\n",
    "simulator = gfun_55_mod.gfun_55  #assigning ground truth sim"
   ]
  },
  {
   "cell_type": "code",
   "execution_count": 4,
   "id": "f10882ec",
   "metadata": {},
   "outputs": [],
   "source": [
    "active_samples = 50   #active samples\n",
    "n_mcs = int(1e5)      #number of MC samples\n",
    "\n",
    "settings_PCK = {\"metamodel\" : 'PCK',\n",
    "                     \"max_pol\": 5,  #max polynomial degree\n",
    "                     \"passive_sampling\" : [10,'LHS'] , # initial samplings [n_samples, method]\n",
    "                     \"marginals\" : [{'x1':[-1.0, 1.0, 'legendre'],\n",
    "                                     'x2':[-1.0, 1.0, 'legendre']}],   # {'x1':[Min, Max], 'x2':[mean, var]}  ( if Legendre , if Hermite)\n",
    "                     \"active_sampling\" : [simulator, 'U'] } #target settings [n_act, targetF, learningF(U, EFF, ULOO, EFFLOO)]                  \n",
    "\n",
    "settings_GP = {\"metamodel\" : 'GP',\n",
    "               \"passive_sampling\" : [10,'LHS'] , # initial samplings [n_samples, method]\n",
    "               \"marginals\" : [{'x1':[-1.0, 1.0, 'legendre'],\n",
    "                               'x2':[-1.0, 1.0, 'legendre']}],   # {'x1':[Min, Max], 'x2':[mean, var]}  ( if Legendre , if Hermite)\n",
    "               \"active_sampling\" : [simulator, 'U']} #target settings [n_act, targetF, learningF(U, EFF, ULOO, EFFLOO)]                  \n",
    "\n",
    "PCK_batch = surrogate_models(settings_PCK)\n",
    "GP_batch = surrogate_models(settings_GP)"
   ]
  },
  {
   "cell_type": "code",
   "execution_count": 5,
   "id": "3002275d",
   "metadata": {
    "scrolled": true
   },
   "outputs": [
    {
     "name": "stdout",
     "output_type": "stream",
     "text": [
      "Experiment:  1 ########################################################\n",
      "N° Training Samples:  10\n",
      "Pf_ref 0.02935 Pf_SuMo 0.0 B_sumo inf CoV_SuMo inf\n",
      " \n",
      "N° Training Samples:  11\n",
      "Pf_ref 0.0298 Pf_SuMo 0.01963 B_sumo 2.062 CoV_SuMo 0.022\n",
      " \n",
      "N° Training Samples:  12\n"
     ]
    },
    {
     "name": "stderr",
     "output_type": "stream",
     "text": [
      "D:\\SurrogateModels_class\\Last_version\\SurrogateModels\\BNNs\\RP55_2D\\surrogate_models.py:189: RuntimeWarning: divide by zero encountered in double_scalars\n",
      "  cov_pf = np.sqrt((1 - Pf_SUMO ) / (Pf_SUMO * MCpool) )\n"
     ]
    },
    {
     "name": "stdout",
     "output_type": "stream",
     "text": [
      "Pf_ref 0.0298 Pf_SuMo 0.01802 B_sumo 2.096 CoV_SuMo 0.023\n",
      " \n",
      "N° Training Samples:  13\n",
      "Pf_ref 0.02934 Pf_SuMo 0.01501 B_sumo 2.170 CoV_SuMo 0.026\n",
      " \n",
      "N° Training Samples:  14\n",
      "Pf_ref 0.02969 Pf_SuMo 0.01506 B_sumo 2.168 CoV_SuMo 0.026\n",
      " \n",
      "N° Training Samples:  15\n",
      "Pf_ref 0.029 Pf_SuMo 0.01474 B_sumo 2.177 CoV_SuMo 0.026\n",
      " \n",
      "N° Training Samples:  16\n",
      "Pf_ref 0.03032 Pf_SuMo 0.01441 B_sumo 2.186 CoV_SuMo 0.026\n",
      " \n",
      "N° Training Samples:  17\n",
      "Pf_ref 0.02946 Pf_SuMo 0.01483 B_sumo 2.175 CoV_SuMo 0.026\n",
      " \n",
      "N° Training Samples:  18\n",
      "Pf_ref 0.02965 Pf_SuMo 0.0146 B_sumo 2.181 CoV_SuMo 0.026\n",
      " \n",
      "N° Training Samples:  19\n",
      "Pf_ref 0.03046 Pf_SuMo 0.01506 B_sumo 2.168 CoV_SuMo 0.026\n",
      " \n",
      "N° Training Samples:  20\n",
      "Pf_ref 0.02976 Pf_SuMo 0.01461 B_sumo 2.180 CoV_SuMo 0.026\n",
      " \n",
      "N° Training Samples:  21\n",
      "Pf_ref 0.03026 Pf_SuMo 0.01509 B_sumo 2.168 CoV_SuMo 0.025\n",
      " \n",
      "N° Training Samples:  22\n",
      "Pf_ref 0.03011 Pf_SuMo 0.01474 B_sumo 2.177 CoV_SuMo 0.026\n",
      " \n",
      "N° Training Samples:  23\n",
      "Pf_ref 0.02961 Pf_SuMo 0.01492 B_sumo 2.172 CoV_SuMo 0.026\n",
      " \n",
      "N° Training Samples:  24\n",
      "Pf_ref 0.02978 Pf_SuMo 0.01485 B_sumo 2.174 CoV_SuMo 0.026\n",
      " \n",
      "N° Training Samples:  25\n",
      "Pf_ref 0.0299 Pf_SuMo 0.01516 B_sumo 2.166 CoV_SuMo 0.025\n",
      " \n",
      "N° Training Samples:  26\n",
      "Pf_ref 0.03039 Pf_SuMo 0.0148 B_sumo 2.175 CoV_SuMo 0.026\n",
      " \n",
      "N° Training Samples:  27\n",
      "Pf_ref 0.02919 Pf_SuMo 0.01443 B_sumo 2.185 CoV_SuMo 0.026\n",
      " \n",
      "N° Training Samples:  28\n",
      "Pf_ref 0.02923 Pf_SuMo 0.01443 B_sumo 2.185 CoV_SuMo 0.026\n"
     ]
    },
    {
     "name": "stderr",
     "output_type": "stream",
     "text": [
      "C:\\Users\\Administrator\\anaconda3\\envs\\surrogate\\lib\\site-packages\\sklearn\\gaussian_process\\_gpr.py:610: ConvergenceWarning: lbfgs failed to converge (status=2):\n",
      "ABNORMAL_TERMINATION_IN_LNSRCH.\n",
      "\n",
      "Increase the number of iterations (max_iter) or scale the data as shown in:\n",
      "    https://scikit-learn.org/stable/modules/preprocessing.html\n",
      "  _check_optimize_result(\"lbfgs\", opt_res)\n"
     ]
    },
    {
     "name": "stdout",
     "output_type": "stream",
     "text": [
      " \n",
      "N° Training Samples:  29\n",
      "Pf_ref 0.02899 Pf_SuMo 0.01411 B_sumo 2.194 CoV_SuMo 0.026\n",
      " \n",
      "N° Training Samples:  30\n",
      "Pf_ref 0.02915 Pf_SuMo 0.01439 B_sumo 2.187 CoV_SuMo 0.026\n",
      " \n",
      "N° Training Samples:  31\n",
      "Pf_ref 0.03004 Pf_SuMo 0.02444 B_sumo 1.970 CoV_SuMo 0.020\n",
      " \n",
      "N° Training Samples:  32\n"
     ]
    },
    {
     "name": "stderr",
     "output_type": "stream",
     "text": [
      "C:\\Users\\Administrator\\anaconda3\\envs\\surrogate\\lib\\site-packages\\sklearn\\gaussian_process\\_gpr.py:610: ConvergenceWarning: lbfgs failed to converge (status=2):\n",
      "ABNORMAL_TERMINATION_IN_LNSRCH.\n",
      "\n",
      "Increase the number of iterations (max_iter) or scale the data as shown in:\n",
      "    https://scikit-learn.org/stable/modules/preprocessing.html\n",
      "  _check_optimize_result(\"lbfgs\", opt_res)\n"
     ]
    },
    {
     "name": "stdout",
     "output_type": "stream",
     "text": [
      "Pf_ref 0.03083 Pf_SuMo 0.02391 B_sumo 1.979 CoV_SuMo 0.020\n",
      " \n",
      "N° Training Samples:  33\n",
      "Pf_ref 0.0306 Pf_SuMo 0.0263 B_sumo 1.938 CoV_SuMo 0.019\n",
      " \n",
      "N° Training Samples:  34\n",
      "Pf_ref 0.02929 Pf_SuMo 0.02824 B_sumo 1.907 CoV_SuMo 0.019\n",
      " \n",
      "N° Training Samples:  35\n",
      "Pf_ref 0.02887 Pf_SuMo 0.02873 B_sumo 1.900 CoV_SuMo 0.018\n",
      " \n",
      "N° Training Samples:  36\n"
     ]
    },
    {
     "name": "stderr",
     "output_type": "stream",
     "text": [
      "C:\\Users\\Administrator\\anaconda3\\envs\\surrogate\\lib\\site-packages\\sklearn\\gaussian_process\\_gpr.py:610: ConvergenceWarning: lbfgs failed to converge (status=2):\n",
      "ABNORMAL_TERMINATION_IN_LNSRCH.\n",
      "\n",
      "Increase the number of iterations (max_iter) or scale the data as shown in:\n",
      "    https://scikit-learn.org/stable/modules/preprocessing.html\n",
      "  _check_optimize_result(\"lbfgs\", opt_res)\n"
     ]
    },
    {
     "name": "stdout",
     "output_type": "stream",
     "text": [
      "Pf_ref 0.02991 Pf_SuMo 0.02961 B_sumo 1.887 CoV_SuMo 0.018\n",
      " \n",
      "N° Training Samples:  37\n"
     ]
    },
    {
     "name": "stderr",
     "output_type": "stream",
     "text": [
      "C:\\Users\\Administrator\\anaconda3\\envs\\surrogate\\lib\\site-packages\\sklearn\\gaussian_process\\_gpr.py:610: ConvergenceWarning: lbfgs failed to converge (status=2):\n",
      "ABNORMAL_TERMINATION_IN_LNSRCH.\n",
      "\n",
      "Increase the number of iterations (max_iter) or scale the data as shown in:\n",
      "    https://scikit-learn.org/stable/modules/preprocessing.html\n",
      "  _check_optimize_result(\"lbfgs\", opt_res)\n"
     ]
    },
    {
     "name": "stdout",
     "output_type": "stream",
     "text": [
      "Pf_ref 0.03026 Pf_SuMo 0.03035 B_sumo 1.876 CoV_SuMo 0.018\n",
      " \n",
      "N° Training Samples:  38\n"
     ]
    },
    {
     "name": "stderr",
     "output_type": "stream",
     "text": [
      "C:\\Users\\Administrator\\anaconda3\\envs\\surrogate\\lib\\site-packages\\sklearn\\gaussian_process\\_gpr.py:610: ConvergenceWarning: lbfgs failed to converge (status=2):\n",
      "ABNORMAL_TERMINATION_IN_LNSRCH.\n",
      "\n",
      "Increase the number of iterations (max_iter) or scale the data as shown in:\n",
      "    https://scikit-learn.org/stable/modules/preprocessing.html\n",
      "  _check_optimize_result(\"lbfgs\", opt_res)\n"
     ]
    },
    {
     "name": "stdout",
     "output_type": "stream",
     "text": [
      "Pf_ref 0.02897 Pf_SuMo 0.029 B_sumo 1.896 CoV_SuMo 0.018\n",
      " \n",
      "N° Training Samples:  39\n",
      "Pf_ref 0.02987 Pf_SuMo 0.02987 B_sumo 1.883 CoV_SuMo 0.018\n",
      " \n",
      "N° Training Samples:  40\n",
      "Pf_ref 0.0295 Pf_SuMo 0.02949 B_sumo 1.888 CoV_SuMo 0.018\n",
      " \n",
      "N° Training Samples:  41\n",
      "Pf_ref 0.02881 Pf_SuMo 0.02883 B_sumo 1.898 CoV_SuMo 0.018\n",
      " \n",
      "N° Training Samples:  42\n",
      "Pf_ref 0.03048 Pf_SuMo 0.03048 B_sumo 1.874 CoV_SuMo 0.018\n",
      " \n",
      "N° Training Samples:  43\n",
      "Pf_ref 0.02926 Pf_SuMo 0.02925 B_sumo 1.892 CoV_SuMo 0.018\n",
      " \n",
      "N° Training Samples:  44\n",
      "Pf_ref 0.0307 Pf_SuMo 0.0307 B_sumo 1.871 CoV_SuMo 0.018\n",
      " \n",
      "N° Training Samples:  45\n",
      "Pf_ref 0.02896 Pf_SuMo 0.02896 B_sumo 1.896 CoV_SuMo 0.018\n",
      " \n",
      "N° Training Samples:  46\n",
      "Pf_ref 0.03014 Pf_SuMo 0.03015 B_sumo 1.879 CoV_SuMo 0.018\n",
      " \n",
      "N° Training Samples:  47\n",
      "Pf_ref 0.02982 Pf_SuMo 0.02985 B_sumo 1.883 CoV_SuMo 0.018\n",
      " \n",
      "N° Training Samples:  48\n",
      "Pf_ref 0.02934 Pf_SuMo 0.02935 B_sumo 1.890 CoV_SuMo 0.018\n",
      " \n",
      "N° Training Samples:  49\n",
      "Pf_ref 0.0296 Pf_SuMo 0.0296 B_sumo 1.887 CoV_SuMo 0.018\n",
      " \n",
      "N° Training Samples:  50\n",
      "Pf_ref 0.02839 Pf_SuMo 0.02839 B_sumo 1.905 CoV_SuMo 0.018\n",
      " \n",
      "N° Training Samples:  51\n",
      "Pf_ref 0.03034 Pf_SuMo 0.03034 B_sumo 1.876 CoV_SuMo 0.018\n",
      " \n",
      "N° Training Samples:  52\n",
      "Pf_ref 0.02855 Pf_SuMo 0.02855 B_sumo 1.903 CoV_SuMo 0.018\n",
      " \n",
      "N° Training Samples:  53\n"
     ]
    },
    {
     "name": "stderr",
     "output_type": "stream",
     "text": [
      "C:\\Users\\Administrator\\anaconda3\\envs\\surrogate\\lib\\site-packages\\sklearn\\gaussian_process\\_gpr.py:610: ConvergenceWarning: lbfgs failed to converge (status=2):\n",
      "ABNORMAL_TERMINATION_IN_LNSRCH.\n",
      "\n",
      "Increase the number of iterations (max_iter) or scale the data as shown in:\n",
      "    https://scikit-learn.org/stable/modules/preprocessing.html\n",
      "  _check_optimize_result(\"lbfgs\", opt_res)\n"
     ]
    },
    {
     "name": "stdout",
     "output_type": "stream",
     "text": [
      "Pf_ref 0.0304 Pf_SuMo 0.0304 B_sumo 1.875 CoV_SuMo 0.018\n",
      " \n",
      "N° Training Samples:  54\n"
     ]
    },
    {
     "name": "stderr",
     "output_type": "stream",
     "text": [
      "C:\\Users\\Administrator\\anaconda3\\envs\\surrogate\\lib\\site-packages\\sklearn\\gaussian_process\\_gpr.py:610: ConvergenceWarning: lbfgs failed to converge (status=2):\n",
      "ABNORMAL_TERMINATION_IN_LNSRCH.\n",
      "\n",
      "Increase the number of iterations (max_iter) or scale the data as shown in:\n",
      "    https://scikit-learn.org/stable/modules/preprocessing.html\n",
      "  _check_optimize_result(\"lbfgs\", opt_res)\n"
     ]
    },
    {
     "name": "stdout",
     "output_type": "stream",
     "text": [
      "Pf_ref 0.02938 Pf_SuMo 0.02938 B_sumo 1.890 CoV_SuMo 0.018\n",
      " \n",
      "N° Training Samples:  55\n"
     ]
    },
    {
     "name": "stderr",
     "output_type": "stream",
     "text": [
      "C:\\Users\\Administrator\\anaconda3\\envs\\surrogate\\lib\\site-packages\\sklearn\\gaussian_process\\_gpr.py:610: ConvergenceWarning: lbfgs failed to converge (status=2):\n",
      "ABNORMAL_TERMINATION_IN_LNSRCH.\n",
      "\n",
      "Increase the number of iterations (max_iter) or scale the data as shown in:\n",
      "    https://scikit-learn.org/stable/modules/preprocessing.html\n",
      "  _check_optimize_result(\"lbfgs\", opt_res)\n"
     ]
    },
    {
     "name": "stdout",
     "output_type": "stream",
     "text": [
      "Pf_ref 0.02922 Pf_SuMo 0.02922 B_sumo 1.892 CoV_SuMo 0.018\n",
      " \n",
      "N° Training Samples:  56\n"
     ]
    },
    {
     "name": "stderr",
     "output_type": "stream",
     "text": [
      "C:\\Users\\Administrator\\anaconda3\\envs\\surrogate\\lib\\site-packages\\sklearn\\gaussian_process\\_gpr.py:610: ConvergenceWarning: lbfgs failed to converge (status=2):\n",
      "ABNORMAL_TERMINATION_IN_LNSRCH.\n",
      "\n",
      "Increase the number of iterations (max_iter) or scale the data as shown in:\n",
      "    https://scikit-learn.org/stable/modules/preprocessing.html\n",
      "  _check_optimize_result(\"lbfgs\", opt_res)\n"
     ]
    },
    {
     "name": "stdout",
     "output_type": "stream",
     "text": [
      "Pf_ref 0.03015 Pf_SuMo 0.03015 B_sumo 1.879 CoV_SuMo 0.018\n",
      " \n",
      "N° Training Samples:  57\n",
      "Pf_ref 0.02936 Pf_SuMo 0.02936 B_sumo 1.890 CoV_SuMo 0.018\n",
      " \n",
      "N° Training Samples:  58\n"
     ]
    },
    {
     "name": "stderr",
     "output_type": "stream",
     "text": [
      "C:\\Users\\Administrator\\anaconda3\\envs\\surrogate\\lib\\site-packages\\sklearn\\gaussian_process\\_gpr.py:610: ConvergenceWarning: lbfgs failed to converge (status=2):\n",
      "ABNORMAL_TERMINATION_IN_LNSRCH.\n",
      "\n",
      "Increase the number of iterations (max_iter) or scale the data as shown in:\n",
      "    https://scikit-learn.org/stable/modules/preprocessing.html\n",
      "  _check_optimize_result(\"lbfgs\", opt_res)\n"
     ]
    },
    {
     "name": "stdout",
     "output_type": "stream",
     "text": [
      "Pf_ref 0.02948 Pf_SuMo 0.02948 B_sumo 1.889 CoV_SuMo 0.018\n",
      " \n",
      "N° Training Samples:  59\n"
     ]
    },
    {
     "name": "stderr",
     "output_type": "stream",
     "text": [
      "C:\\Users\\Administrator\\anaconda3\\envs\\surrogate\\lib\\site-packages\\sklearn\\gaussian_process\\_gpr.py:610: ConvergenceWarning: lbfgs failed to converge (status=2):\n",
      "ABNORMAL_TERMINATION_IN_LNSRCH.\n",
      "\n",
      "Increase the number of iterations (max_iter) or scale the data as shown in:\n",
      "    https://scikit-learn.org/stable/modules/preprocessing.html\n",
      "  _check_optimize_result(\"lbfgs\", opt_res)\n"
     ]
    },
    {
     "name": "stdout",
     "output_type": "stream",
     "text": [
      "Pf_ref 0.02991 Pf_SuMo 0.02991 B_sumo 1.882 CoV_SuMo 0.018\n",
      " \n",
      "N° Training Samples:  60\n"
     ]
    },
    {
     "name": "stderr",
     "output_type": "stream",
     "text": [
      "C:\\Users\\Administrator\\anaconda3\\envs\\surrogate\\lib\\site-packages\\sklearn\\gaussian_process\\_gpr.py:610: ConvergenceWarning: lbfgs failed to converge (status=2):\n",
      "ABNORMAL_TERMINATION_IN_LNSRCH.\n",
      "\n",
      "Increase the number of iterations (max_iter) or scale the data as shown in:\n",
      "    https://scikit-learn.org/stable/modules/preprocessing.html\n",
      "  _check_optimize_result(\"lbfgs\", opt_res)\n"
     ]
    },
    {
     "name": "stdout",
     "output_type": "stream",
     "text": [
      "Pf_ref 0.02949 Pf_SuMo 0.02949 B_sumo 1.888 CoV_SuMo 0.018\n",
      " \n"
     ]
    }
   ],
   "source": [
    "GP_batch.active_sampling(n_exp = 1, n_act = active_samples, MCpool= n_mcs, GroundT=True)  "
   ]
  },
  {
   "cell_type": "code",
   "execution_count": 8,
   "id": "cc3865be",
   "metadata": {},
   "outputs": [
    {
     "name": "stdout",
     "output_type": "stream",
     "text": [
      "Experiment:  1 ########################################################\n",
      "N° Training Samples:  10\n",
      "Degree 1 e_LOO 0.1101 Pf_ref 0.02976 Pf_SuMo 0.01795 B_sumo 2.098 CoV_SuMo 0.023\n",
      " \n",
      "N° Training Samples:  11\n",
      "Degree 1 e_LOO 0.0615 Pf_ref 0.02936 Pf_SuMo 0.01657 B_sumo 2.130 CoV_SuMo 0.024\n",
      " \n",
      "N° Training Samples:  12\n",
      "Degree 1 e_LOO 0.0511 Pf_ref 0.02868 Pf_SuMo 0.01512 B_sumo 2.167 CoV_SuMo 0.025\n",
      " \n",
      "N° Training Samples:  13\n",
      "Degree 1 e_LOO 0.0354 Pf_ref 0.02945 Pf_SuMo 0.01481 B_sumo 2.175 CoV_SuMo 0.026\n",
      " \n",
      "N° Training Samples:  14\n",
      "Degree 1 e_LOO 0.0269 Pf_ref 0.02985 Pf_SuMo 0.01534 B_sumo 2.161 CoV_SuMo 0.025\n",
      " \n",
      "N° Training Samples:  15\n",
      "Degree 1 e_LOO 0.0200 Pf_ref 0.02882 Pf_SuMo 0.01459 B_sumo 2.181 CoV_SuMo 0.026\n",
      " \n",
      "N° Training Samples:  16\n",
      "Degree 1 e_LOO 0.0189 Pf_ref 0.02902 Pf_SuMo 0.01464 B_sumo 2.180 CoV_SuMo 0.026\n",
      " \n",
      "N° Training Samples:  17\n",
      "Degree 1 e_LOO 0.0168 Pf_ref 0.02982 Pf_SuMo 0.0153 B_sumo 2.162 CoV_SuMo 0.025\n",
      " \n",
      "N° Training Samples:  18\n",
      "Degree 1 e_LOO 0.0533 Pf_ref 0.02997 Pf_SuMo 0.01484 B_sumo 2.174 CoV_SuMo 0.026\n",
      " \n",
      "N° Training Samples:  19\n",
      "Degree 1 e_LOO 0.0507 Pf_ref 0.02922 Pf_SuMo 0.01467 B_sumo 2.179 CoV_SuMo 0.026\n",
      " \n",
      "N° Training Samples:  20\n",
      "Degree 2 e_LOO 0.0950 Pf_ref 0.03025 Pf_SuMo 0.039 B_sumo 1.762 CoV_SuMo 0.016\n",
      " \n",
      "N° Training Samples:  21\n",
      "Degree 2 e_LOO 0.0375 Pf_ref 0.02853 Pf_SuMo 0.03688 B_sumo 1.788 CoV_SuMo 0.016\n",
      " \n",
      "N° Training Samples:  22\n",
      "Degree 3 e_LOO 0.0332 Pf_ref 0.02958 Pf_SuMo 0.02802 B_sumo 1.911 CoV_SuMo 0.019\n",
      " \n",
      "N° Training Samples:  23\n",
      "Degree 3 e_LOO 0.0267 Pf_ref 0.02831 Pf_SuMo 0.0272 B_sumo 1.924 CoV_SuMo 0.019\n",
      " \n",
      "N° Training Samples:  24\n",
      "Degree 3 e_LOO 0.0234 Pf_ref 0.02984 Pf_SuMo 0.02897 B_sumo 1.896 CoV_SuMo 0.018\n",
      " \n",
      "N° Training Samples:  25\n",
      "Degree 3 e_LOO 0.0233 Pf_ref 0.03017 Pf_SuMo 0.03009 B_sumo 1.879 CoV_SuMo 0.018\n",
      " \n",
      "N° Training Samples:  26\n",
      "Degree 3 e_LOO 0.0199 Pf_ref 0.02989 Pf_SuMo 0.02985 B_sumo 1.883 CoV_SuMo 0.018\n",
      " \n",
      "N° Training Samples:  27\n",
      "Degree 3 e_LOO 0.0193 Pf_ref 0.02916 Pf_SuMo 0.0291 B_sumo 1.894 CoV_SuMo 0.018\n",
      " \n",
      "N° Training Samples:  28\n",
      "Degree 3 e_LOO 0.0196 Pf_ref 0.03039 Pf_SuMo 0.03038 B_sumo 1.875 CoV_SuMo 0.018\n",
      " \n",
      "N° Training Samples:  29\n",
      "Degree 3 e_LOO 0.0187 Pf_ref 0.03034 Pf_SuMo 0.03033 B_sumo 1.876 CoV_SuMo 0.018\n",
      " \n",
      "N° Training Samples:  30\n",
      "Degree 3 e_LOO 0.0180 Pf_ref 0.02917 Pf_SuMo 0.02918 B_sumo 1.893 CoV_SuMo 0.018\n",
      " \n"
     ]
    }
   ],
   "source": [
    "PCK_batch.active_sampling(n_exp = 1, n_act = 20, MCpool= n_mcs, GroundT=True)  "
   ]
  },
  {
   "cell_type": "code",
   "execution_count": 13,
   "id": "1f06a0de",
   "metadata": {},
   "outputs": [],
   "source": [
    "file_name = 'PCK_Batch_1.sav'\n",
    "experiment = pickle.load(open(file_name, 'rb'))"
   ]
  },
  {
   "cell_type": "code",
   "execution_count": 18,
   "id": "58bc0872",
   "metadata": {},
   "outputs": [
    {
     "data": {
      "text/plain": [
       "{'PCK_10': (0.01795,\n",
       "  0.023390234373918795,\n",
       "  0.3142696805273544,\n",
       "  1,\n",
       "  0.11013144072340961),\n",
       " 'PCK_11': (0.01657,\n",
       "  0.024361861623245273,\n",
       "  0.3142696805273544,\n",
       "  1,\n",
       "  0.06152825593272982),\n",
       " 'PCK_12': (0.01512,\n",
       "  0.02552206224770368,\n",
       "  0.3001132053283026,\n",
       "  1,\n",
       "  0.05109135421872371),\n",
       " 'PCK_13': (0.01481,\n",
       "  0.025791848447136435,\n",
       "  0.3422232771054368,\n",
       "  1,\n",
       "  0.035412945210856556),\n",
       " 'PCK_14': (0.01534,\n",
       "  0.025335557668994715,\n",
       "  0.3913550313023853,\n",
       "  1,\n",
       "  0.02689274372702169),\n",
       " 'PCK_15': (0.01459,\n",
       "  0.025988477438306064,\n",
       "  0.44483254224015134,\n",
       "  1,\n",
       "  0.020019694670989577),\n",
       " 'PCK_16': (0.01464,\n",
       "  0.025943402037697707,\n",
       "  0.4755932824050729,\n",
       "  1,\n",
       "  0.018897999267582684),\n",
       " 'PCK_17': (0.0153,\n",
       "  0.025369169699496083,\n",
       "  0.5128833218384268,\n",
       "  1,\n",
       "  0.016766143535893056),\n",
       " 'PCK_18': (0.01484,\n",
       "  0.025765373031247832,\n",
       "  0.5636294158282342,\n",
       "  1,\n",
       "  0.053306467508712915),\n",
       " 'PCK_19': (0.01467,\n",
       "  0.025916466934178643,\n",
       "  0.6120173744779508,\n",
       "  1,\n",
       "  0.05072336503025359),\n",
       " 'PCK_20': (0.039,\n",
       "  0.01569746018979683,\n",
       "  0.5067425654204775,\n",
       "  2,\n",
       "  0.0950476356049503),\n",
       " 'PCK_21': (0.03688,\n",
       "  0.01616012607068368,\n",
       "  0.5106464466948447,\n",
       "  2,\n",
       "  0.03745229148652281),\n",
       " 'PCK_22': (0.02802,\n",
       "  0.018624927843825946,\n",
       "  0.4233944032059607,\n",
       "  3,\n",
       "  0.033162430112952605),\n",
       " 'PCK_23': (0.0272,\n",
       "  0.018911558868150703,\n",
       "  0.43276457721681755,\n",
       "  3,\n",
       "  0.026712510501529955),\n",
       " 'PCK_24': (0.02897,\n",
       "  0.018308049426426706,\n",
       "  0.4418078656529467,\n",
       "  3,\n",
       "  0.023404072022122028),\n",
       " 'PCK_25': (0.03009,\n",
       "  0.01795372731106977,\n",
       "  0.439032664598973,\n",
       "  3,\n",
       "  0.023346385620679172),\n",
       " 'PCK_26': (0.02985,\n",
       "  0.018027988662337797,\n",
       "  0.4523741761211853,\n",
       "  3,\n",
       "  0.019864522731207215),\n",
       " 'PCK_27': (0.0291,\n",
       "  0.01826588655619674,\n",
       "  0.47142478185597136,\n",
       "  3,\n",
       "  0.019302509894090568),\n",
       " 'PCK_28': (0.03038,\n",
       "  0.01786515949086293,\n",
       "  0.4868371171166047,\n",
       "  3,\n",
       "  0.019609733867585393),\n",
       " 'PCK_29': (0.03033,\n",
       "  0.017880340073962997,\n",
       "  0.480771114649145,\n",
       "  3,\n",
       "  0.018656426314025434),\n",
       " 'PCK_30': (0.02918,\n",
       "  0.018240078941185307,\n",
       "  0.5008458884564095,\n",
       "  3,\n",
       "  0.018009750760079393),\n",
       " 'last': (<pc_kriging.PC_Kriging at 0x263b1843e48>,\n",
       "  array([[ 1.        , -1.        ],\n",
       "         [ 0.77777778,  1.        ],\n",
       "         [-0.11111111, -0.11111111],\n",
       "         [ 0.11111111,  0.77777778],\n",
       "         [-1.        ,  0.55555556],\n",
       "         [-0.55555556,  0.11111111],\n",
       "         [ 0.55555556, -0.55555556],\n",
       "         [-0.33333333, -0.33333333],\n",
       "         [-0.77777778,  0.33333333],\n",
       "         [ 0.33333333, -0.77777778],\n",
       "         [ 0.96361939, -0.58884504],\n",
       "         [ 0.89358912, -0.70762794],\n",
       "         [ 0.77433024, -0.89145788],\n",
       "         [ 0.74456882, -0.97820403],\n",
       "         [ 0.91713569, -0.69500797],\n",
       "         [ 0.77207265, -0.93352814],\n",
       "         [ 0.99744742, -0.54041878],\n",
       "         [ 0.99951975,  0.25752224],\n",
       "         [ 0.84911025, -0.80748611],\n",
       "         [-0.98251939, -0.99993527],\n",
       "         [-0.85923102, -0.78805596],\n",
       "         [-0.66457637, -0.8601507 ],\n",
       "         [-0.93094897, -0.68524734],\n",
       "         [-0.94966986, -0.64159123],\n",
       "         [-0.78553851, -0.96207486],\n",
       "         [-0.99655388, -0.55904218],\n",
       "         [-0.83842932, -0.83147489],\n",
       "         [-0.74494476, -0.9873877 ],\n",
       "         [-0.67335736,  0.99970562],\n",
       "         [ 0.95731779, -0.62014441],\n",
       "         [-0.97776096, -0.57914333]]),\n",
       "  array([[ 1.        , -1.        ],\n",
       "         [ 0.77777778,  1.        ],\n",
       "         [-0.11111111, -0.11111111],\n",
       "         [ 0.11111111,  0.77777778],\n",
       "         [-1.        ,  0.55555556],\n",
       "         [-0.55555556,  0.11111111],\n",
       "         [ 0.55555556, -0.55555556],\n",
       "         [-0.33333333, -0.33333333],\n",
       "         [-0.77777778,  0.33333333],\n",
       "         [ 0.33333333, -0.77777778],\n",
       "         [ 0.96361939, -0.58884504],\n",
       "         [ 0.89358912, -0.70762794],\n",
       "         [ 0.77433024, -0.89145788],\n",
       "         [ 0.74456882, -0.97820403],\n",
       "         [ 0.91713569, -0.69500797],\n",
       "         [ 0.77207265, -0.93352814],\n",
       "         [ 0.99744742, -0.54041878],\n",
       "         [ 0.99951975,  0.25752224],\n",
       "         [ 0.84911025, -0.80748611],\n",
       "         [-0.98251939, -0.99993527],\n",
       "         [-0.85923102, -0.78805596],\n",
       "         [-0.66457637, -0.8601507 ],\n",
       "         [-0.93094897, -0.68524734],\n",
       "         [-0.94966986, -0.64159123],\n",
       "         [-0.78553851, -0.96207486],\n",
       "         [-0.99655388, -0.55904218],\n",
       "         [-0.83842932, -0.83147489],\n",
       "         [-0.74494476, -0.9873877 ],\n",
       "         [-0.67335736,  0.99970562],\n",
       "         [ 0.95731779, -0.62014441],\n",
       "         [-0.97776096, -0.57914333]]),\n",
       "  array([-4.6446609e-01,  3.5993576e-01,  5.0000000e-01,  7.7010179e-01,\n",
       "          1.0910895e+00,  1.3380029e+00,  6.7133617e-01,  5.0000000e-01,\n",
       "          1.2639289e+00,  6.4664507e-01,  1.8126488e-02,  2.9404402e-02,\n",
       "          4.4488668e-02,  2.9470921e-03, -6.1202049e-04,  5.9094429e-03,\n",
       "          2.1362305e-04,  7.9401636e-01,  7.0595741e-03, -4.2974567e-01,\n",
       "          9.2000961e-03,  2.3372149e-01, -1.6379476e-02, -7.9301596e-03,\n",
       "         -4.3611765e-02, -1.6627908e-02,  1.0952950e-03, -6.7964792e-03,\n",
       "          9.8923850e-01, -1.0678768e-03,  3.7407875e-04], dtype=float32))}"
      ]
     },
     "execution_count": 18,
     "metadata": {},
     "output_type": "execute_result"
    }
   ],
   "source": [
    "experiment"
   ]
  },
  {
   "cell_type": "code",
   "execution_count": 11,
   "id": "bb587de3",
   "metadata": {},
   "outputs": [
    {
     "data": {
      "text/plain": [
       "(<pc_kriging.PC_Kriging at 0x263b1843fc8>,\n",
       " array([[ 1.        , -1.        ],\n",
       "        [ 0.77777778,  1.        ],\n",
       "        [-0.11111111, -0.11111111],\n",
       "        [ 0.11111111,  0.77777778],\n",
       "        [-1.        ,  0.55555556],\n",
       "        [-0.55555556,  0.11111111],\n",
       "        [ 0.55555556, -0.55555556],\n",
       "        [-0.33333333, -0.33333333],\n",
       "        [-0.77777778,  0.33333333],\n",
       "        [ 0.33333333, -0.77777778],\n",
       "        [ 0.96361939, -0.58884504],\n",
       "        [ 0.89358912, -0.70762794],\n",
       "        [ 0.77433024, -0.89145788],\n",
       "        [ 0.74456882, -0.97820403],\n",
       "        [ 0.91713569, -0.69500797],\n",
       "        [ 0.77207265, -0.93352814],\n",
       "        [ 0.99744742, -0.54041878],\n",
       "        [ 0.99951975,  0.25752224],\n",
       "        [ 0.84911025, -0.80748611],\n",
       "        [-0.98251939, -0.99993527],\n",
       "        [-0.85923102, -0.78805596],\n",
       "        [-0.66457637, -0.8601507 ],\n",
       "        [-0.93094897, -0.68524734],\n",
       "        [-0.94966986, -0.64159123],\n",
       "        [-0.78553851, -0.96207486],\n",
       "        [-0.99655388, -0.55904218],\n",
       "        [-0.83842932, -0.83147489],\n",
       "        [-0.74494476, -0.9873877 ],\n",
       "        [-0.67335736,  0.99970562],\n",
       "        [ 0.95731779, -0.62014441],\n",
       "        [-0.97776096, -0.57914333]]),\n",
       " array([[ 1.        , -1.        ],\n",
       "        [ 0.77777778,  1.        ],\n",
       "        [-0.11111111, -0.11111111],\n",
       "        [ 0.11111111,  0.77777778],\n",
       "        [-1.        ,  0.55555556],\n",
       "        [-0.55555556,  0.11111111],\n",
       "        [ 0.55555556, -0.55555556],\n",
       "        [-0.33333333, -0.33333333],\n",
       "        [-0.77777778,  0.33333333],\n",
       "        [ 0.33333333, -0.77777778],\n",
       "        [ 0.96361939, -0.58884504],\n",
       "        [ 0.89358912, -0.70762794],\n",
       "        [ 0.77433024, -0.89145788],\n",
       "        [ 0.74456882, -0.97820403],\n",
       "        [ 0.91713569, -0.69500797],\n",
       "        [ 0.77207265, -0.93352814],\n",
       "        [ 0.99744742, -0.54041878],\n",
       "        [ 0.99951975,  0.25752224],\n",
       "        [ 0.84911025, -0.80748611],\n",
       "        [-0.98251939, -0.99993527],\n",
       "        [-0.85923102, -0.78805596],\n",
       "        [-0.66457637, -0.8601507 ],\n",
       "        [-0.93094897, -0.68524734],\n",
       "        [-0.94966986, -0.64159123],\n",
       "        [-0.78553851, -0.96207486],\n",
       "        [-0.99655388, -0.55904218],\n",
       "        [-0.83842932, -0.83147489],\n",
       "        [-0.74494476, -0.9873877 ],\n",
       "        [-0.67335736,  0.99970562],\n",
       "        [ 0.95731779, -0.62014441],\n",
       "        [-0.97776096, -0.57914333]]),\n",
       " array([-4.6446609e-01,  3.5993576e-01,  5.0000000e-01,  7.7010179e-01,\n",
       "         1.0910895e+00,  1.3380029e+00,  6.7133617e-01,  5.0000000e-01,\n",
       "         1.2639289e+00,  6.4664507e-01,  1.8126488e-02,  2.9404402e-02,\n",
       "         4.4488668e-02,  2.9470921e-03, -6.1202049e-04,  5.9094429e-03,\n",
       "         2.1362305e-04,  7.9401636e-01,  7.0595741e-03, -4.2974567e-01,\n",
       "         9.2000961e-03,  2.3372149e-01, -1.6379476e-02, -7.9301596e-03,\n",
       "        -4.3611765e-02, -1.6627908e-02,  1.0952950e-03, -6.7964792e-03,\n",
       "         9.8923850e-01, -1.0678768e-03,  3.7407875e-04], dtype=float32))"
      ]
     },
     "execution_count": 11,
     "metadata": {},
     "output_type": "execute_result"
    }
   ],
   "source": [
    "experiment['last']"
   ]
  }
 ],
 "metadata": {
  "kernelspec": {
   "display_name": "Python 3 (ipykernel)",
   "language": "python",
   "name": "python3"
  },
  "language_info": {
   "codemirror_mode": {
    "name": "ipython",
    "version": 3
   },
   "file_extension": ".py",
   "mimetype": "text/x-python",
   "name": "python",
   "nbconvert_exporter": "python",
   "pygments_lexer": "ipython3",
   "version": "3.7.13"
  }
 },
 "nbformat": 4,
 "nbformat_minor": 5
}
