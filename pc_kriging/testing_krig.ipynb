{
 "cells": [
  {
   "cell_type": "code",
   "execution_count": 1,
   "metadata": {},
   "outputs": [],
   "source": [
    "import numpy as np\n",
    "from pc_kriging import PC_Kriging"
   ]
  },
  {
   "cell_type": "markdown",
   "metadata": {},
   "source": [
    "## Reference function"
   ]
  },
  {
   "cell_type": "markdown",
   "metadata": {},
   "source": [
    "One dimension"
   ]
  },
  {
   "cell_type": "code",
   "execution_count": 2,
   "metadata": {},
   "outputs": [],
   "source": [
    "def sin_invented(x):\n",
    "    dimension = x.shape[1]\n",
    "    datapoints = x.shape[1]\n",
    "    result = np.zeros((datapoints, dimension))\n",
    "    result = 3*np.sin(x[:, 0])\n",
    "    return result"
   ]
  },
  {
   "cell_type": "markdown",
   "metadata": {},
   "source": [
    "Two dimensions"
   ]
  },
  {
   "cell_type": "code",
   "execution_count": 3,
   "metadata": {},
   "outputs": [],
   "source": [
    "def gfun_53(x):\n",
    "    \"\"\"Performance function for reliability problem 53.\n",
    "\n",
    "    Parameters\n",
    "    ----------\n",
    "        x : numpy.array of float(s)\n",
    "            Values of independent variables: columns are the different parameters/random variables (x1, x2,...xn) and rows are different parameter/random variables sets for different calls.\n",
    "\n",
    "    Returns\n",
    "    -------\n",
    "        g_val_sys : numpy.array of float(s)\n",
    "            Performance function value for the system.\n",
    "        g_val_comp : numpy.array of float(s)\n",
    "            Performance function value for each component.\n",
    "        msg : str\n",
    "            Accompanying diagnostic message, e.g. warning.\n",
    "    \"\"\"\n",
    "#     import numpy as np\n",
    "    # expected number of random variables/columns\n",
    "    nrv_e = 2\n",
    "\n",
    "    g = float('nan')\n",
    "    msg = 'Ok'\n",
    "    x = np.array(x, dtype='f')\n",
    "\n",
    "    n_dim = len(x.shape)\n",
    "    if n_dim == 1:\n",
    "        x = np.array(x)[np.newaxis]\n",
    "    elif n_dim > 2:\n",
    "        msg = 'Only available for 1D and 2D arrays.'\n",
    "        return float('nan'), float('nan'), msg\n",
    "\n",
    "    nrv_p = x.shape[1]\n",
    "    if nrv_p != nrv_e:\n",
    "        msg = f'The number of random variables (x, columns) is expected to be {nrv_e} but {nrv_p} is provided!'\n",
    "    else:\n",
    "        g = np.sin(5*x[:, 0]/2) + 2 - (x[:, 0]**2 + 4)*(x[:, 1] - 1)/20\n",
    "\n",
    "    g_val_sys = g\n",
    "    g_val_comp = g\n",
    "    return g_val_sys, g_val_comp, msg"
   ]
  },
  {
   "cell_type": "markdown",
   "metadata": {},
   "source": [
    "### Creating object"
   ]
  },
  {
   "cell_type": "code",
   "execution_count": 3,
   "metadata": {},
   "outputs": [],
   "source": [
    "config = {\"pol_type\": ['hermite']}"
   ]
  },
  {
   "cell_type": "code",
   "execution_count": 4,
   "metadata": {},
   "outputs": [],
   "source": [
    "config = {\"pol_type\": ['hermite', 'hermite']}"
   ]
  },
  {
   "cell_type": "code",
   "execution_count": 4,
   "metadata": {},
   "outputs": [],
   "source": [
    "krig = PC_Kriging(config)"
   ]
  },
  {
   "cell_type": "code",
   "execution_count": null,
   "metadata": {},
   "outputs": [],
   "source": [
    "krig = PC_Kriging()"
   ]
  },
  {
   "cell_type": "markdown",
   "metadata": {},
   "source": [
    "### Creating and evaluating ref function"
   ]
  },
  {
   "cell_type": "markdown",
   "metadata": {},
   "source": [
    "Two dimensions"
   ]
  },
  {
   "cell_type": "code",
   "execution_count": 6,
   "metadata": {},
   "outputs": [],
   "source": [
    "function = gfun_53   #choose the ground truth function\n",
    "\n",
    "dim = 2       # dimensionality\n",
    "n = 40         # observations\n",
    "seed = 0      # fixing seed random number generator\n",
    "\n",
    "np.random.seed(seed)         #fixing seed random number generator\n",
    "\n",
    "xn = np.zeros((int(n), dim))      #normalized training points\n",
    "xr = np.zeros((int(n), dim))      #scaled training points\n",
    "\n",
    "#-----------------------------------------------------random Variable 1\n",
    "x1mean = 1.5                           \n",
    "x1sigma = 1.0\n",
    "\n",
    "xn[:,0] = np.random.normal(0, 1, n)                             \n",
    "xr[:,0] = krig.scalehermite(xn[:,0], x1mean, x1sigma) \n",
    " \n",
    "#-----------------------------------------------------random Variable 2\n",
    "\n",
    "x2mean = 2.5              \n",
    "x2sigma = 1.0  \n",
    "\n",
    "xn[:,1] = np.random.normal(0, 1, n)                             \n",
    "xr[:,1] = krig.scalehermite(xn[:,1], x2mean, x2sigma) \n",
    "\n",
    "#=====================================================\n",
    "# Evaluation of observations \n",
    "y = function(xr)          #Observations\n",
    "y = y[0]"
   ]
  },
  {
   "cell_type": "markdown",
   "metadata": {},
   "source": [
    "One dimension"
   ]
  },
  {
   "cell_type": "code",
   "execution_count": 5,
   "metadata": {},
   "outputs": [],
   "source": [
    "function = sin_invented   #choose the ground truth function\n",
    "\n",
    "dim = 1       # dimensionality\n",
    "n = 5         # observations\n",
    "seed = 0      # fixing seed random number generator\n",
    "\n",
    "np.random.seed(seed)         #fixing seed random number generator\n",
    "\n",
    "xn = np.zeros((int(n), dim))      #normalized training points\n",
    "xr = np.zeros((int(n), dim))      #scaled training points\n",
    "\n",
    "#-----------------------------------------------------random Variable 1\n",
    "x1mean = 1.5                           \n",
    "x1sigma = 1.0\n",
    "\n",
    "xn[:,0] = np.random.normal(0, 1, n)                             \n",
    "xr[:,0] = krig.scalehermite(xn[:,0], x1mean, x1sigma) \n",
    "\n",
    "#=====================================================\n",
    "# Evaluation of observations \n",
    "y = function(xr)          #Observations\n",
    "# y = y[0]"
   ]
  },
  {
   "cell_type": "markdown",
   "metadata": {},
   "source": [
    "## Training the model"
   ]
  },
  {
   "cell_type": "code",
   "execution_count": 6,
   "metadata": {},
   "outputs": [
    {
     "data": {
      "text/plain": [
       "array([-0.36646154,  2.83874776,  1.84610855, -1.69219515, -0.67214179])"
      ]
     },
     "execution_count": 6,
     "metadata": {},
     "output_type": "execute_result"
    }
   ],
   "source": [
    "y"
   ]
  },
  {
   "cell_type": "code",
   "execution_count": 7,
   "metadata": {},
   "outputs": [
    {
     "data": {
      "text/plain": [
       "(array([ 2.9336282 , -1.34599544, -0.49265239]), 0.11419275619841965)"
      ]
     },
     "execution_count": 7,
     "metadata": {},
     "output_type": "execute_result"
    }
   ],
   "source": [
    "#train model -----------------------------------------\n",
    "\n",
    "# kernel hyperparameters------------------------------\n",
    "l = 1.21   #length scale\n",
    "v = 5/2    #matern coefficient\n",
    "theta = np.array([l,v])\n",
    "\n",
    "#truncation term-------------------------------------\n",
    "p = 2  #for each variable → same truncation , degree of expansion\n",
    "\n",
    "modelpar1 = krig.train(xn, y, p, theta)    # returns B, sig2, InfoMatrix(phi) , PolyIndices(alpha)\n",
    "modelpar1[0], modelpar1[1]   ## B, sig2,"
   ]
  },
  {
   "cell_type": "markdown",
   "metadata": {},
   "source": [
    "### Generating prediction points"
   ]
  },
  {
   "cell_type": "code",
   "execution_count": null,
   "metadata": {},
   "outputs": [],
   "source": [
    "# model predictions -----------------------------------------\n",
    "\n",
    "ntest = 20  # test points\n",
    "seed = 0      # fixing seed random number generator\n",
    "np.random.seed(seed)         #fixing seed random number generator\n",
    "\n",
    "# test points -------------------------------------------------\n",
    "XR = np.zeros((int(ntest), dim))   #normalized test points\n",
    "XN = np.zeros((int(ntest), dim))  #scaled test points\n",
    "#variable 1 ---------------------------------------------------\n",
    "XN[:,0] = np.random.normal(0,1,ntest)  \n",
    "XR[:,0] = krig.scalehermite(XN[:,0],x1mean,x1sigma)  \n",
    "#variable 2 ---------------------------------------------------\n",
    "XN[:,1] = np.random.normal(0,1,ntest)  \n",
    "XR[:,1] = krig.scalehermite(XN[:,1],x2mean,x2sigma)  \n",
    "\n",
    "# mean1,var1 = PCK_predict(XN,xn,y,theta,modelpar1)"
   ]
  },
  {
   "cell_type": "markdown",
   "metadata": {},
   "source": [
    "### Predicting"
   ]
  },
  {
   "cell_type": "code",
   "execution_count": null,
   "metadata": {},
   "outputs": [],
   "source": [
    "#predictions over a grid (for plotting)--------------------------------------------------\n",
    "\n",
    "X1t, X2t = np.meshgrid(np.sort(XN[:,0]), np.sort(XN[:,1])) #grid over normalized points\n",
    "Xt = np.stack((X1t,X2t),axis=2).reshape(-1,2) #sorting the random sampling (graphing purpose)\n",
    "\n",
    "X1m, X2m = np.meshgrid(np.sort(XR[:,0]), np.sort(XR[:,1])) #grid over non-normalized points\n",
    "Xtm = np.stack((X1m,X2m),axis=2).reshape(-1,2) #sorting the random sampling (graphing purpose)\n",
    "\n",
    "yt = function(Xtm)    #test points\n",
    "Mtest = yt[0]\n",
    "\n",
    "response1 = krig.predict(Xt, xn, y, theta, modelpar1)   #model predictions over (ntest x ntest) points\n",
    "mean1 = response1[0]\n",
    "var1 = response1[1]"
   ]
  },
  {
   "cell_type": "code",
   "execution_count": null,
   "metadata": {},
   "outputs": [],
   "source": [
    "mean1"
   ]
  }
 ],
 "metadata": {
  "kernelspec": {
   "display_name": "Python 3",
   "language": "python",
   "name": "python3"
  },
  "language_info": {
   "codemirror_mode": {
    "name": "ipython",
    "version": 3
   },
   "file_extension": ".py",
   "mimetype": "text/x-python",
   "name": "python",
   "nbconvert_exporter": "python",
   "pygments_lexer": "ipython3",
   "version": "3.7.7"
  }
 },
 "nbformat": 4,
 "nbformat_minor": 5
}
