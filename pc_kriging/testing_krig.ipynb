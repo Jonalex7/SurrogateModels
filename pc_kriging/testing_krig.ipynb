{
 "cells": [
  {
   "cell_type": "code",
   "execution_count": 1,
   "id": "20836ce1",
   "metadata": {},
   "outputs": [],
   "source": [
    "import numpy as np\n",
    "from pc_kriging import PC_Kriging"
   ]
  },
  {
   "cell_type": "markdown",
   "id": "ffeab4a7",
   "metadata": {},
   "source": [
    "## Reference function"
   ]
  },
  {
   "cell_type": "code",
   "execution_count": 4,
   "id": "2c0b8aa4",
   "metadata": {},
   "outputs": [],
   "source": [
    "def gfun_53(x):\n",
    "    \"\"\"Performance function for reliability problem 53.\n",
    "\n",
    "    Parameters\n",
    "    ----------\n",
    "        x : numpy.array of float(s)\n",
    "            Values of independent variables: columns are the different parameters/random variables (x1, x2,...xn) and rows are different parameter/random variables sets for different calls.\n",
    "\n",
    "    Returns\n",
    "    -------\n",
    "        g_val_sys : numpy.array of float(s)\n",
    "            Performance function value for the system.\n",
    "        g_val_comp : numpy.array of float(s)\n",
    "            Performance function value for each component.\n",
    "        msg : str\n",
    "            Accompanying diagnostic message, e.g. warning.\n",
    "    \"\"\"\n",
    "#     import numpy as np\n",
    "    # expected number of random variables/columns\n",
    "    nrv_e = 2\n",
    "\n",
    "    g = float('nan')\n",
    "    msg = 'Ok'\n",
    "    x = np.array(x, dtype='f')\n",
    "\n",
    "    n_dim = len(x.shape)\n",
    "    if n_dim == 1:\n",
    "        x = np.array(x)[np.newaxis]\n",
    "    elif n_dim > 2:\n",
    "        msg = 'Only available for 1D and 2D arrays.'\n",
    "        return float('nan'), float('nan'), msg\n",
    "\n",
    "    nrv_p = x.shape[1]\n",
    "    if nrv_p != nrv_e:\n",
    "        msg = f'The number of random variables (x, columns) is expected to be {nrv_e} but {nrv_p} is provided!'\n",
    "    else:\n",
    "        g = np.sin(5*x[:, 0]/2) + 2 - (x[:, 0]**2 + 4)*(x[:, 1] - 1)/20\n",
    "\n",
    "    g_val_sys = g\n",
    "    g_val_comp = g\n",
    "    return g_val_sys, g_val_comp, msg"
   ]
  },
  {
   "cell_type": "markdown",
   "id": "833ab5d6",
   "metadata": {},
   "source": [
    "### Creating object"
   ]
  },
  {
   "cell_type": "code",
   "execution_count": 3,
   "id": "61e25718",
   "metadata": {},
   "outputs": [],
   "source": [
    "krig = PC_Kriging()"
   ]
  },
  {
   "cell_type": "markdown",
   "id": "b93f203d",
   "metadata": {},
   "source": [
    "### Creating and evaluating ref function"
   ]
  },
  {
   "cell_type": "code",
   "execution_count": 6,
   "id": "24f0cc75",
   "metadata": {},
   "outputs": [],
   "source": [
    "function = gfun_53   #choose the ground truth function\n",
    "\n",
    "dim = 2       # dimensionality\n",
    "n = 40         # observations\n",
    "seed = 0      # fixing seed random number generator\n",
    "\n",
    "np.random.seed(seed)         #fixing seed random number generator\n",
    "\n",
    "xn = np.zeros((int(n), dim))      #normalized training points\n",
    "xr = np.zeros((int(n), dim))      #scaled training points\n",
    "\n",
    "#-----------------------------------------------------random Variable 1\n",
    "x1mean = 1.5                           \n",
    "x1sigma = 1.0\n",
    "\n",
    "xn[:,0] = np.random.normal(0, 1, n)                             \n",
    "xr[:,0] = krig.scalehermite(xn[:,0], x1mean, x1sigma) \n",
    " \n",
    "#-----------------------------------------------------random Variable 2\n",
    "\n",
    "x2mean = 2.5              \n",
    "x2sigma = 1.0  \n",
    "\n",
    "xn[:,1] = np.random.normal(0, 1, n)                             \n",
    "xr[:,1] = krig.scalehermite(xn[:,1], x2mean, x2sigma) \n",
    "\n",
    "#=====================================================\n",
    "# Evaluation of observations \n",
    "y = function(xr)          #Observations\n",
    "y = y[0]"
   ]
  },
  {
   "cell_type": "markdown",
   "id": "0f4af985",
   "metadata": {},
   "source": [
    "## Training the model"
   ]
  },
  {
   "cell_type": "code",
   "execution_count": 8,
   "id": "721688a5",
   "metadata": {},
   "outputs": [
    {
     "data": {
      "text/plain": [
       "(array([ 1.65634426, -0.2110505 ,  0.14910452, -0.41959025, -0.34930416,\n",
       "        -0.14402763]),\n",
       " 0.8052781950202355)"
      ]
     },
     "execution_count": 8,
     "metadata": {},
     "output_type": "execute_result"
    }
   ],
   "source": [
    "#train model -----------------------------------------\n",
    "\n",
    "# kernel hyperparameters------------------------------\n",
    "l = 1.21   #length scale\n",
    "v = 5/2    #matern coefficient\n",
    "theta = np.array([l,v])\n",
    "\n",
    "#truncation term-------------------------------------\n",
    "p = 2  #for each variable → same truncation , degree of expansion\n",
    "\n",
    "modelpar1 = krig.train(xn, y, p, theta)    # returns B, sig2, InfoMatrix(phi) , PolyIndices(alpha)\n",
    "modelpar1[0], modelpar1[1]   ## B, sig2,"
   ]
  },
  {
   "cell_type": "markdown",
   "id": "e15de9a8",
   "metadata": {},
   "source": [
    "### Generating prediction points"
   ]
  },
  {
   "cell_type": "code",
   "execution_count": 9,
   "id": "5beed505",
   "metadata": {},
   "outputs": [],
   "source": [
    "# model predictions -----------------------------------------\n",
    "\n",
    "ntest = 20  # test points\n",
    "seed = 0      # fixing seed random number generator\n",
    "np.random.seed(seed)         #fixing seed random number generator\n",
    "\n",
    "# test points -------------------------------------------------\n",
    "XR = np.zeros((int(ntest), dim))   #normalized test points\n",
    "XN = np.zeros((int(ntest), dim))  #scaled test points\n",
    "#variable 1 ---------------------------------------------------\n",
    "XN[:,0] = np.random.normal(0,1,ntest)  \n",
    "XR[:,0] = krig.scalehermite(XN[:,0],x1mean,x1sigma)  \n",
    "#variable 2 ---------------------------------------------------\n",
    "XN[:,1] = np.random.normal(0,1,ntest)  \n",
    "XR[:,1] = krig.scalehermite(XN[:,1],x2mean,x2sigma)  \n",
    "\n",
    "# mean1,var1 = PCK_predict(XN,xn,y,theta,modelpar1)"
   ]
  },
  {
   "cell_type": "markdown",
   "id": "c806e695",
   "metadata": {},
   "source": [
    "### Predicting"
   ]
  },
  {
   "cell_type": "code",
   "execution_count": 10,
   "id": "8a00fc3d",
   "metadata": {},
   "outputs": [],
   "source": [
    "#predictions over a grid (for plotting)--------------------------------------------------\n",
    "\n",
    "X1t, X2t = np.meshgrid(np.sort(XN[:,0]), np.sort(XN[:,1])) #grid over normalized points\n",
    "Xt = np.stack((X1t,X2t),axis=2).reshape(-1,2) #sorting the random sampling (graphing purpose)\n",
    "\n",
    "X1m, X2m = np.meshgrid(np.sort(XR[:,0]), np.sort(XR[:,1])) #grid over non-normalized points\n",
    "Xtm = np.stack((X1m,X2m),axis=2).reshape(-1,2) #sorting the random sampling (graphing purpose)\n",
    "\n",
    "yt = function(Xtm)    #test points\n",
    "Mtest = yt[0]\n",
    "\n",
    "response1 = krig.predict(Xt, xn, y, theta, modelpar1)   #model predictions over (ntest x ntest) points\n",
    "mean1 = response1[0]\n",
    "var1 = response1[1]"
   ]
  },
  {
   "cell_type": "code",
   "execution_count": 11,
   "id": "2ab9fc1d",
   "metadata": {
    "collapsed": true
   },
   "outputs": [
    {
     "data": {
      "text/plain": [
       "array([ 2.87307293,  2.91507091,  2.61851801,  2.57826372,  2.5439993 ,\n",
       "        2.42480707,  2.4179066 ,  2.40142991,  2.40389639,  2.41850319,\n",
       "        2.42170699,  2.43352236,  2.65114148,  2.83922529,  2.86920084,\n",
       "        3.32509367,  3.35512939,  3.51299246,  3.55235411,  3.61033203,\n",
       "        2.99719827,  3.02852398,  2.14402188,  2.03684614,  1.94474691,\n",
       "        1.60655096,  1.58416822,  1.49476785,  1.4936922 ,  1.50442834,\n",
       "        1.50803533,  1.52287441,  1.87095002,  2.17741778,  2.22498306,\n",
       "        2.8676489 ,  2.90164665,  3.04008325,  3.0539135 ,  2.97116705,\n",
       "        2.94324706,  2.98765709,  1.89390565,  1.75570997,  1.63548887,\n",
       "        1.17408406,  1.14128153,  0.99203126,  0.98638664,  0.98709005,\n",
       "        0.98979668,  1.00301419,  1.42180264,  1.81730806,  1.87910403,\n",
       "        2.67661957,  2.71094011,  2.79007865,  2.75811809,  2.46546405,\n",
       "        2.80380098,  2.85264268,  1.74044306,  1.60229858,  1.48174134,\n",
       "        1.0063189 ,  0.97063623,  0.7916528 ,  0.78156257,  0.7670823 ,\n",
       "        0.76731696,  0.77257439,  1.13335395,  1.53657665,  1.60300151,\n",
       "        2.50438645,  2.53796991,  2.52843095,  2.43262153,  1.86947823,\n",
       "        2.78823536,  2.83436421,  1.69620491,  1.55711894,  1.43581561,\n",
       "        0.95734681,  0.92129799,  0.73848582,  0.72781051,  0.71129033,\n",
       "        0.7111848 ,  0.71532625,  1.06492232,  1.46370519,  1.52967275,\n",
       "        2.41694932,  2.44824105,  2.41813083,  2.31017483,  1.68924757,\n",
       "        2.72452466,  2.75615345,  1.59394093,  1.45403934,  1.33181719,\n",
       "        0.84540886,  0.80813204,  0.61344202,  0.60107911,  0.57894227,\n",
       "        0.57794098,  0.57922358,  0.90324836,  1.2841393 ,  1.34675654,\n",
       "        2.15471883,  2.17892393,  2.09911093,  1.96547672,  1.21857365,\n",
       "        2.71288567,  2.74276256,  1.58267042,  1.44262576,  1.3202122 ,\n",
       "        0.83238428,  0.79493841,  0.59893227,  0.58640977,  0.56376648,\n",
       "        0.56268704,  0.56372337,  0.88538727,  1.26420885,  1.32642609,\n",
       "        2.12677602,  2.15039199,  2.06513574,  1.92823196,  1.16623434,\n",
       "        2.69899386,  2.72682294,  1.56959806,  1.42933495,  1.3066507 ,\n",
       "        0.81702336,  0.77937778,  0.58190079,  0.56921002,  0.54604668,\n",
       "        0.54488874,  0.5456804 ,  0.86497736,  1.24155804,  1.30334386,\n",
       "        2.09574354,  2.11873578,  2.02707822,  1.88618403,  1.10624633,\n",
       "        2.66501239,  2.68702794,  1.536397  ,  1.39528875,  1.27167575,\n",
       "        0.77692878,  0.73878474,  0.5380088 ,  0.52498736,  0.50087478,\n",
       "        0.49958341,  0.49997525,  0.81537945,  1.18735954,  1.24825686,\n",
       "        2.02471773,  2.04633164,  1.93750709,  1.78554584,  0.9587222 ,\n",
       "        2.61681825,  2.62209554,  1.46770158,  1.32376763,  1.19753226,\n",
       "        0.69247301,  0.65361167,  0.44949864,  0.43631259,  0.41198141,\n",
       "        0.41069365,  0.41114971,  0.72583139,  1.09301166,  1.15296228,\n",
       "        1.90889101,  1.92740616,  1.77630618,  1.6003668 ,  0.68553819,\n",
       "        2.60532358,  2.60055266,  1.43517606,  1.28969925,  1.16214398,\n",
       "        0.65296257,  0.61394185,  0.40997851,  0.39692438,  0.37307339,\n",
       "        0.37186225,  0.37255174,  0.6870632 ,  1.05199719,  1.11153545,\n",
       "        1.85516242,  1.87124181,  1.69886043,  1.51423365,  0.57243875,\n",
       "        2.60521206,  2.60030471,  1.4347631 ,  1.28926625,  1.16169374,\n",
       "        0.65245828,  0.61343576,  0.40947834,  0.39642639,  0.37258251,\n",
       "        0.37137239,  0.37206484,  0.68656441,  1.05145917,  1.1109903 ,\n",
       "        1.8544107 ,  1.87045444,  1.69781548,  1.51309963,  0.57105349,\n",
       "        2.59324115,  2.56474368,  1.3721935 ,  1.2236727 ,  1.09314992,\n",
       "        0.5726785 ,  0.53317736,  0.32961823,  0.31689541,  0.29406281,\n",
       "        0.29298376,  0.29401047,  0.60179484,  0.95388897,  1.01104855,\n",
       "        1.69939789,  1.70943198,  1.50648061,  1.31652822,  0.36933551,\n",
       "        2.57261662,  2.51041716,  1.28977443,  1.1418953 ,  1.0110036 ,\n",
       "        0.48254961,  0.44237682,  0.23690618,  0.22413202,  0.20082111,\n",
       "        0.19958873,  0.19991746,  0.47512135,  0.7835474 ,  0.83287698,\n",
       "        1.38908294,  1.3924931 ,  1.18572804,  1.01094536,  0.13819343,\n",
       "        2.54355907,  2.45498185,  1.23245875,  1.09231135,  0.96827012,\n",
       "        0.46360226,  0.42458947,  0.21907986,  0.2052496 ,  0.17701053,\n",
       "        0.1747934 ,  0.17160188,  0.38411951,  0.63421622,  0.67392657,\n",
       "        1.09639729,  1.09516698,  0.896677  ,  0.74028111, -0.04719716,\n",
       "        2.49776596,  2.37478936,  1.21261778,  1.09446411,  0.99056133,\n",
       "        0.56319672,  0.52856043,  0.32816171,  0.31156234,  0.26974158,\n",
       "        0.26477794,  0.25179414,  0.30886101,  0.43573717,  0.45636285,\n",
       "        0.63635664,  0.62657541,  0.42997897,  0.29758689, -0.36403326,\n",
       "        2.49556803,  2.37042033,  1.2160597 ,  1.09982327,  0.99764501,\n",
       "        0.57676663,  0.54250347,  0.3426348 ,  0.32581157,  0.28285326,\n",
       "        0.27765535,  0.26382955,  0.30722055,  0.42341963,  0.44241541,\n",
       "        0.60187821,  0.59129549,  0.39367682,  0.26263701, -0.39058984,\n",
       "        2.49456957,  2.35514149,  1.27439402,  1.17317981,  1.08433489,\n",
       "        0.71238214,  0.68086314,  0.48418113,  0.46551016,  0.41330086,\n",
       "        0.40620529,  0.38556062,  0.31712736,  0.3452855 ,  0.35082202,\n",
       "        0.33784442,  0.31988012,  0.10586317, -0.01797196, -0.61517976,\n",
       "        2.50038778,  2.35833306,  1.29739249,  1.19958361,  1.11371558,\n",
       "        0.75230374,  0.7213422 ,  0.52490974,  0.50576051,  0.45124684,\n",
       "        0.44368553,  0.42137476,  0.3256897 ,  0.33217869,  0.3343857 ,\n",
       "        0.27756309,  0.25752208,  0.03707217, -0.0861045 , -0.6732294 ,\n",
       "        2.75796187,  2.60233983,  1.68765906,  1.60997299,  1.54103409,\n",
       "        1.23042214,  1.20086658,  0.98717553,  0.962348  ,  0.88410374,\n",
       "        0.8720716 ,  0.83419667,  0.50394243,  0.32470803,  0.29793411,\n",
       "       -0.17371742, -0.21804829, -0.54915972, -0.69144911, -1.27652276])"
      ]
     },
     "execution_count": 11,
     "metadata": {},
     "output_type": "execute_result"
    }
   ],
   "source": [
    "mean1"
   ]
  }
 ],
 "metadata": {
  "kernelspec": {
   "display_name": "Python 3 (ipykernel)",
   "language": "python",
   "name": "python3"
  },
  "language_info": {
   "codemirror_mode": {
    "name": "ipython",
    "version": 3
   },
   "file_extension": ".py",
   "mimetype": "text/x-python",
   "name": "python",
   "nbconvert_exporter": "python",
   "pygments_lexer": "ipython3",
   "version": "3.9.6"
  }
 },
 "nbformat": 4,
 "nbformat_minor": 5
}
