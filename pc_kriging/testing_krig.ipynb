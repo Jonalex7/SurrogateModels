{
 "cells": [
  {
   "cell_type": "code",
   "execution_count": 1,
<<<<<<< HEAD
   "id": "ce4e289a",
=======
>>>>>>> main
   "metadata": {},
   "outputs": [],
   "source": [
    "import numpy as np\n",
    "from pc_kriging import PC_Kriging\n",
    "from sklearn.gaussian_process import GaussianProcessRegressor # is it needed?\n",
    "from sklearn.gaussian_process.kernels import RBF # is it needed?\n",
    "import matplotlib.pyplot as plt\n",
    "from scipy.stats import norm\n",
    "from doepy import build\n",
    "from scipy import optimize"
   ]
  },
  {
   "cell_type": "markdown",
<<<<<<< HEAD
   "id": "ca7ce660",
=======
>>>>>>> main
   "metadata": {},
   "source": [
    "## Reference function"
   ]
  },
  {
   "cell_type": "markdown",
   "metadata": {},
   "source": [
    "One dimension"
   ]
  },
  {
   "cell_type": "code",
   "execution_count": 2,
<<<<<<< HEAD
   "id": "7aee80b5",
=======
   "metadata": {},
   "outputs": [],
   "source": [
    "def sin_invented(x):\n",
    "    dimension = x.shape[1]\n",
    "    datapoints = x.shape[1]\n",
    "    result = np.zeros((datapoints, dimension))\n",
    "    result = 3*np.sin(x[:, 0])\n",
    "    return result"
   ]
  },
  {
   "cell_type": "markdown",
   "metadata": {},
   "source": [
    "Two dimensions"
   ]
  },
  {
   "cell_type": "code",
   "execution_count": 3,
>>>>>>> main
   "metadata": {},
   "outputs": [],
   "source": [
    "def UQLab(x):\n",
    "    return x*np.sin(x)\n",
    "    \n",
    "def VoronoiCell(x,xn):   #given x [single value] return the index of the closest xn [1D array]\n",
    "    dist=abs(distance(x,xn))\n",
    "    voro=np.argmin(np.squeeze(dist))\n",
    "    return voro\n",
    "\n",
    "# adaptive learning - expected feasiability function --------------------------------------------------------------\n",
    "\n",
    "def EFF(u,v,z):\n",
    "    zl=-2*v\n",
    "    zh=2*v\n",
    "    return ((u-z)*( 2*norm.cdf((z-u)/v) - norm.cdf((zl-u)/v) - norm.cdf((zh-u)/v)) \n",
    "           -(v)*( 2*norm.pdf((z-u)/v) - norm.pdf((zl-u)/v) - norm.pdf((zh-u)/v))  \n",
    "           +(2*v)*(norm.cdf((zh-u)/v) - norm.cdf((zl-u)/v)))\n",
    "\n",
    "def U_function(u, v):\n",
    "    return np.abs(u)/v"
   ]
  },
  {
   "cell_type": "markdown",
<<<<<<< HEAD
   "id": "71715050",
=======
>>>>>>> main
   "metadata": {},
   "source": [
    "Objective function"
   ]
  },
  {
   "cell_type": "code",
   "execution_count": 3,
<<<<<<< HEAD
   "id": "06a0fa51",
   "metadata": {},
   "outputs": [],
   "source": [
    "# objective function to optimize length scale --------------------------------------------------------\n",
    "def L_Object (l):\n",
    "    v=5/2\n",
    "    N=len(xn)\n",
    "    R = PCK1.matern(xn , xn, l, v)\n",
    "    detR = np.linalg.det(R)\n",
    "    \n",
    "    modelpar2 = PCK1.train(xn, y, p, np.array([l,v]))    # returns B, sig2, InfoMatrix(phi) , PolyIndices(alpha)\n",
    "    ### ------------------Theta_ by UQLab User Manual PCK(C. Lataniotis, D. Wicaksono, S. Marelli, B. Sudret)------------------------------\n",
    "    sig2 = modelpar2[1].reshape(-1)\n",
    "    # return 0.5*(np.log(detR)+ N*np.log(2*np.pi*sig2)+ N)\n",
    "\n",
    "    ### ------------------Theta_ by MLE PCK(Schobi,Sudret,Wiart)------------------------------\n",
    "    FB = modelpar2[2] @ modelpar2[0]\n",
    "    ins = (y-FB).reshape(-1)\n",
    "    R_1 = np.linalg.inv(R)\n",
    "    return ((ins.T) @ R_1 @ ins) * (1/N) * (detR**(1/N))"
   ]
  },
  {
   "cell_type": "markdown",
   "id": "593b0885",
   "metadata": {},
   "source": [
    "### Creating object"
=======
   "metadata": {},
   "outputs": [],
   "source": [
    "config = {\"pol_type\": ['hermite']}"
   ]
  },
  {
   "cell_type": "code",
   "execution_count": 4,
   "metadata": {},
   "outputs": [],
   "source": [
    "config = {\"pol_type\": ['hermite', 'hermite']}"
>>>>>>> main
   ]
  },
  {
   "cell_type": "code",
   "execution_count": 4,
<<<<<<< HEAD
   "id": "885cb2b6",
=======
   "metadata": {},
   "outputs": [],
   "source": [
    "krig = PC_Kriging(config)"
   ]
  },
  {
   "cell_type": "code",
   "execution_count": null,
>>>>>>> main
   "metadata": {},
   "outputs": [],
   "source": [
    "PCK1 = PC_Kriging()"
   ]
  },
  {
   "cell_type": "markdown",
<<<<<<< HEAD
   "id": "42833e83",
=======
>>>>>>> main
   "metadata": {},
   "source": [
    "### Creating and evaluating ref function"
   ]
  },
  {
   "cell_type": "markdown",
   "metadata": {},
   "source": [
    "Two dimensions"
   ]
  },
  {
   "cell_type": "code",
<<<<<<< HEAD
   "execution_count": 5,
   "id": "d018cce2",
=======
   "execution_count": 6,
>>>>>>> main
   "metadata": {},
   "outputs": [],
   "source": [
    "function = UQLab   #choose the ground truth function\n",
    "\n",
    "dim = 1       # dimensionality\n",
    "n = 6   # observations\n",
    "seed = 0      # fixing seed random number generator\n",
    "\n",
    "np.random.seed(seed)         #fixing seed random number generator\n",
    "\n",
    "xn = np.zeros((int(n), dim))      #normalized training points\n",
    "xr = np.zeros((int(n), dim))      #scaled training points\n",
    "\n",
    "#LatinHypercubeSampling-----------------------------------------------\n",
    "Xdoe=build.space_filling_lhs({'X':[-1,1]}, num_samples = n )   # variables may increase...{'X2':[min2, max2],'X3':[min2, max2]}\n",
    "#-----------------------------------------------------random Variable 1\n",
    "# x1mean = 1.5                           \n",
    "# x1sigma = 1.0\n",
    "x1min=0\n",
    "x1max=15\n",
    "# xn[:,0] = np.random.normal(0, 1, n)\n",
    "#        \n",
    "xn[:,0] = np.sort(Xdoe,0).reshape(-1)             \n",
    "xr[:,0] = PCK1.scalelegendre(xn[:,0], x1min, x1max)\n",
    " \n",
    "#-----------------------------------------------------random Variable 2\n",
    "\n",
    "# x2mean = 2.5              \n",
    "# x2sigma = 1.0  \n",
    "\n",
    "# xn[:,1] = np.random.normal(0, 1, n)                             \n",
    "# xr[:,1] = PCK1.scalehermite(xn[:,1], x2mean, x2sigma) \n",
    "\n",
    "#=====================================================\n",
    "# Evaluation of observations \n",
    "y = function(xr)          #Observations\n",
    "# y = y[0]"
   ]
  },
  {
   "cell_type": "code",
   "execution_count": 6,
   "id": "057a42aa",
   "metadata": {},
   "outputs": [
    {
     "name": "stdout",
     "output_type": "stream",
     "text": [
      "kernel 1   : 5.06**2 * RBF(length_scale=0.01)\n"
     ]
    },
    {
     "name": "stderr",
     "output_type": "stream",
     "text": [
      "c:\\Users\\Administrator\\anaconda3\\envs\\surrogate\\lib\\site-packages\\sklearn\\gaussian_process\\kernels.py:427: ConvergenceWarning: The optimal value found for dimension 0 of parameter k2__length_scale is close to the specified lower bound 0.01. Decreasing the bound and calling fit again may find a better value.\n",
      "  ConvergenceWarning,\n"
     ]
    }
   ],
   "source": [
    "#optimizing kernell-hyperparameters and fitting GP regressor with Scikit-learn package----------------------------\n",
    "kernel = 1 * RBF(length_scale=1.5, length_scale_bounds=(1e-2, 1e2))\n",
    "gaussian_process = GaussianProcessRegressor(kernel=kernel, n_restarts_optimizer=9)\n",
    "gaussian_process.fit(xn, y)\n",
    "ke= gaussian_process.kernel_\n",
    "print(\"kernel 1   :\",ke)"
   ]
  },
  {
   "cell_type": "markdown",
<<<<<<< HEAD
   "id": "f9425e0f",
=======
   "metadata": {},
   "source": [
    "One dimension"
   ]
  },
  {
   "cell_type": "code",
   "execution_count": 5,
   "metadata": {},
   "outputs": [],
   "source": [
    "function = sin_invented   #choose the ground truth function\n",
    "\n",
    "dim = 1       # dimensionality\n",
    "n = 5         # observations\n",
    "seed = 0      # fixing seed random number generator\n",
    "\n",
    "np.random.seed(seed)         #fixing seed random number generator\n",
    "\n",
    "xn = np.zeros((int(n), dim))      #normalized training points\n",
    "xr = np.zeros((int(n), dim))      #scaled training points\n",
    "\n",
    "#-----------------------------------------------------random Variable 1\n",
    "x1mean = 1.5                           \n",
    "x1sigma = 1.0\n",
    "\n",
    "xn[:,0] = np.random.normal(0, 1, n)                             \n",
    "xr[:,0] = krig.scalehermite(xn[:,0], x1mean, x1sigma) \n",
    "\n",
    "#=====================================================\n",
    "# Evaluation of observations \n",
    "y = function(xr)          #Observations\n",
    "# y = y[0]"
   ]
  },
  {
   "cell_type": "markdown",
>>>>>>> main
   "metadata": {},
   "source": [
    "## Training the model"
   ]
  },
  {
   "cell_type": "code",
<<<<<<< HEAD
   "execution_count": 10,
   "id": "36aec70d",
=======
   "execution_count": 6,
>>>>>>> main
   "metadata": {},
   "outputs": [
    {
     "data": {
      "text/plain": [
<<<<<<< HEAD
       "(array([[-15.92369777],\n",
       "        [ 44.55051244],\n",
       "        [  9.08835011]]),\n",
       " array([[135543.64169548]]))"
      ]
     },
     "execution_count": 10,
=======
       "array([-0.36646154,  2.83874776,  1.84610855, -1.69219515, -0.67214179])"
      ]
     },
     "execution_count": 6,
     "metadata": {},
     "output_type": "execute_result"
    }
   ],
   "source": [
    "y"
   ]
  },
  {
   "cell_type": "code",
   "execution_count": 7,
   "metadata": {},
   "outputs": [
    {
     "data": {
      "text/plain": [
       "(array([ 2.9336282 , -1.34599544, -0.49265239]), 0.11419275619841965)"
      ]
     },
     "execution_count": 7,
>>>>>>> main
     "metadata": {},
     "output_type": "execute_result"
    }
   ],
   "source": [
    "#train model -----------------------------------------\n",
    "\n",
    "# kernel hyperparameters------------------------------\n",
    "l = 3.0 #length scale\n",
    "v = 5/2    #matern coefficient\n",
    "theta = np.array([l,v])\n",
    "\n",
    "#truncation term-------------------------------------\n",
    "p = 2  #for each variable → same truncation , degree of expansion\n",
    "\n",
    "modelpar1 = PCK1.train(xn, y, p, theta)    # returns B, sig2, InfoMatrix(phi) , PolyIndices(alpha)\n",
    "modelpar1[0], modelpar1[1]   ## B, sig2,"
   ]
  },
  {
   "cell_type": "code",
   "execution_count": 9,
   "id": "17c204ab",
   "metadata": {},
   "outputs": [
    {
     "name": "stderr",
     "output_type": "stream",
     "text": [
      "c:\\Users\\Administrator\\anaconda3\\envs\\surrogate\\lib\\site-packages\\ipykernel_launcher.py:8: VisibleDeprecationWarning: Creating an ndarray from ragged nested sequences (which is a list-or-tuple of lists-or-tuples-or ndarrays with different lengths or shapes) is deprecated. If you meant to do this, you must specify 'dtype=object' when creating the ndarray.\n",
      "  \n"
     ]
    },
    {
     "data": {
      "text/plain": [
       "([(3.0, 15.0)], array([3.]), array([3.]), array([3.]))"
      ]
     },
     "execution_count": 9,
     "metadata": {},
     "output_type": "execute_result"
    }
   ],
   "source": [
    "dist = PCK1.distance(xr, xr)\n",
    "lmax = np.max(dist)\n",
    "lmin = np.min(dist[dist!=0])\n",
    "\n",
    "results = dict()\n",
    "bounds = [(lmin, lmax)]\n",
    "\n",
    "results['shgo'] = optimize.shgo(L_Object, bounds)   #bounds must be a list [lmin, lmax]\n",
    "results['DA'] = optimize.dual_annealing(L_Object, bounds)\n",
    "results['DE'] = optimize.differential_evolution(L_Object, bounds)\n",
    "\n",
    "bounds, results['shgo']['x'], results['DA']['x'],results['DE']['x']"
   ]
  },
  {
   "cell_type": "markdown",
<<<<<<< HEAD
   "id": "da2817fd",
=======
>>>>>>> main
   "metadata": {},
   "source": [
    "### Generating prediction points"
   ]
  },
  {
   "cell_type": "code",
<<<<<<< HEAD
   "execution_count": 11,
   "id": "d4d380ef",
=======
   "execution_count": null,
>>>>>>> main
   "metadata": {},
   "outputs": [],
   "source": [
    "# model predictions -----------------------------------------\n",
    "\n",
    "ntest = 200  # test points\n",
    "seed = 0      # fixing seed random number generator\n",
    "np.random.seed(seed)         #fixing seed random number generator\n",
    "\n",
    "# test points -------------------------------------------------\n",
    "XN = np.zeros((int(ntest), dim))  #normalized test points\n",
    "XR = np.zeros((int(ntest), dim))  #scaled test points \n",
    "#variable 1 ---------------------------------------------------\n",
    "# XN[:,0] = np.random.uniform(-1,1,ntest)\n",
    "XN[:,0] = np.linspace(-0.99,0.99,ntest)\n",
    "XR[:,0] = PCK1.scalelegendre(XN[:,0].reshape(-1,), x1min, x1max) \n",
    "#variable 2 ---------------------------------------------------\n",
    "# XN[:,1] = np.random.normal(0,1,ntest)  \n",
    "# XR[:,1] = PCK1.scalehermite(XN[:,1],x2mean,x2sigma)  \n",
    "\n",
    "Mtest = function(XR)    #test points\n",
    "mean1,var1 = PCK1.predict(XN,xn,y,theta,modelpar1)"
   ]
  },
  {
   "cell_type": "markdown",
<<<<<<< HEAD
   "id": "1de7b867",
=======
>>>>>>> main
   "metadata": {},
   "source": [
    "### Predicting"
   ]
  },
  {
   "cell_type": "code",
   "execution_count": null,
<<<<<<< HEAD
   "id": "f946cd41",
=======
>>>>>>> main
   "metadata": {},
   "outputs": [],
   "source": [
    "#predictions over a grid (for plotting)--------------------------------------------------\n",
    "\n",
    "# X1t, X2t = np.meshgrid(np.sort(XN[:,0]), np.sort(XN[:,1])) #grid over normalized points\n",
    "# Xt = np.stack((X1t,X2t),axis=2).reshape(-1,2) #sorting the random sampling (graphing purpose)\n",
    "\n",
    "# X1m, X2m = np.meshgrid(np.sort(XR[:,0]), np.sort(XR[:,1])) #grid over non-normalized points\n",
    "# Xtm = np.stack((X1m,X2m),axis=2).reshape(-1,2) #sorting the random sampling (graphing purpose)\n",
    "\n",
    "# yt = function(Xtm)    #test points\n",
    "# Mtest = yt[0]\n",
    "\n",
    "# response1 = PCK1.predict(Xt, xn, y, theta, modelpar1)   #model predictions over (ntest x ntest) points\n",
    "# mean1 = response1[0]\n",
    "# var1 = response1[1]"
   ]
  },
  {
   "cell_type": "code",
<<<<<<< HEAD
   "execution_count": 12,
   "id": "e797702b",
   "metadata": {},
   "outputs": [],
   "source": [
    "z=0    #target value\n",
    "\n",
    "eff1 = np.zeros(ntest)\n",
    "\n",
    "eff1 = EFF(np.squeeze(mean1),var1,z)\n",
    "\n",
    "U_f = U_function(mean1.reshape(-1), var1.reshape(-1))\n",
    "\n",
    "# mean1[-1], var1[-1], U_f[-1]\n",
    "\n",
    "# mean1[0], var1[0], U_f[0]"
   ]
  },
  {
   "cell_type": "code",
   "execution_count": 13,
   "id": "e7dd68b7",
   "metadata": {},
   "outputs": [
    {
     "data": {
      "text/plain": [
       "<matplotlib.legend.Legend at 0x23cf9313188>"
      ]
     },
     "execution_count": 13,
     "metadata": {},
     "output_type": "execute_result"
    },
    {
     "data": {
      "image/png": "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",
      "text/plain": [
       "<Figure size 1152x720 with 2 Axes>"
      ]
     },
     "metadata": {
      "needs_background": "light"
     },
     "output_type": "display_data"
    }
   ],
=======
   "execution_count": null,
   "metadata": {},
   "outputs": [],
>>>>>>> main
   "source": [
    "ymin=(mean1 - 1.96*(var1.reshape(-1,1))**0.5)\n",
    "ymax=(mean1 + 1.96*(var1.reshape(-1,1))**0.5)\n",
    "\n",
    "# sorting in case of random samples for ploting\n",
    "\n",
    "ind=np.argsort(np.squeeze(XR))\n",
    "a,b,c=np.asarray(XR)[ind], np.asarray(ymin)[ind], np.asarray(ymax)[ind]\n",
    "\n",
    "#%matplotlib notebook \n",
    "fig, ax1 = plt.subplots(figsize=(16,10))\n",
    "\n",
    "ax2=ax1.twinx()\n",
    "\n",
    "\n",
    "# fig = plt.figure(figsize=(15,8))\n",
    "# ax=fig.add_axes([0,0,1,1])\n",
    "ax1.scatter(XR,Mtest,label=r\"trueF\",color='grey',s=5)\n",
    "# plt.scatter(XR,mean1,label=r\"PC trend\",color='blue',s=5)\n",
    "ax1.scatter(XR,mean1,label=r\"PCK\",color='g',s=7)\n",
    "ax1.scatter(xr, y, label=\"Observations\",marker=\"x\",color='r',s=200)\n",
    "ax1.legend(prop={'size': 10})\n",
    "ax1.fill_between(\n",
    "    a.ravel(),\n",
    "    b.ravel(),\n",
    "    c.ravel(),\n",
    "    alpha=0.3,\n",
    "    label=r\"95% Confidence interval\",\n",
    ")\n",
    "\n",
    "ax2.plot(XR,eff1,label=\"EFF\",linestyle='dashed',linewidth=1,color='k')\n",
    "# ax2.plot(XR,U_f,label=\"U\",linestyle='dashed',linewidth=1,color='b')\n",
    "\n",
    "ax1.axhline(z,label=\"Target\", color='red', linestyle='dashed',linewidth=1)\n",
    "ax1.legend(prop={'size': 11})\n",
    "ax2.legend(prop={'size': 11})\n",
    "# ax2.set_ylim(0,1)\n",
    "# plt.xlim([0, 1.75])\n",
    "# plt.ylim([-20.0, 20.0])"
   ]
  },
  {
   "cell_type": "markdown",
   "id": "5a7cc79c",
   "metadata": {},
   "source": [
    "Function to graph the evolution Theta varying 'length scale'"
   ]
  },
  {
   "cell_type": "code",
   "execution_count": null,
   "id": "60cb3f53",
   "metadata": {},
   "outputs": [],
   "source": [
    "\n",
    "def Lscale (l):\n",
    "    v=5/2\n",
    "    detR = np.zeros(len(l))\n",
    "    theta = np.zeros(len(l))\n",
    "    sig2 = np.zeros(len(l))\n",
    "    \n",
    "    N=len(xn)\n",
    "    \n",
    "\n",
    "    for i in range(0, len(l)):       \n",
    "        R = PCK1.matern(xn , xn, l[i], v)\n",
    "        detR[i] = np.linalg.det(R)\n",
    "        modelpar2 = PCK1.train(xn, y, p, np.array([l[i],v]))    # returns B, sig2, InfoMatrix(phi) , PolyIndices(alpha)\n",
    "        sig2[i] = modelpar2[1].reshape(-1)\n",
    "        \n",
    "        # theta[i] = 0.5*(np.log(detR[i])+ N*np.log(2*np.pi*sig2[i])+ N)\n",
    "\n",
    "        ### ------------------Theta_ by MLE PCK(Schobi,Sudret,Wiart)------------------------------\n",
    "        FB = modelpar2[2] @ modelpar2[0]\n",
    "        ins = (y-FB).reshape(-1)\n",
    "        R_1 = np.linalg.inv(R)\n",
    "        theta[i] = ((ins.T) @ R_1 @ ins) * (1/N) * (detR[i]**(1/N))\n",
    "\n",
    "    return theta , detR, sig2"
   ]
  },
  {
   "cell_type": "code",
   "execution_count": null,
   "id": "2d685511",
   "metadata": {},
   "outputs": [],
   "source": [
    "def L_Object (l):\n",
    "    v=5/2\n",
    "    N=len(xn)\n",
    "    R = PCK1.matern(xn , xn, l, v)\n",
    "    detR = np.linalg.det(R)\n",
    "\n",
    "    modelpar2 = PCK1.train(xn, y, p, np.array([l,v]))    # returns B, sig2, InfoMatrix(phi) , PolyIndices(alpha)\n",
    "\n",
    "    sig2 = modelpar2[1].reshape(-1)\n",
    "    # return 0.5*(np.log(detR)+ N*np.log(2*np.pi*sig2)+ N)\n",
    "\n",
    "    ### ------------------Theta_ by MLE PCK(Schobi,Sudret,Wiart)------------------------------\n",
    "    FB = modelpar2[2] @ modelpar2[0]\n",
    "    ins = (y-FB).reshape(-1)\n",
    "    R_1 = np.linalg.inv(R)\n",
    "    return ((ins.T) @ R_1 @ ins) * (1/N) * (detR**(1/N))"
   ]
  },
  {
   "cell_type": "code",
   "execution_count": null,
   "id": "9b46d84b",
   "metadata": {},
   "outputs": [],
   "source": [
    "Graph_bound = np.array([lmin, lmax])\n",
    "xlength=np.linspace(Graph_bound[0], Graph_bound[1], 1000)\n",
    "theta, detR, sig2 = Lscale(xlength)\n",
    "\n",
    "\n",
    "fig = plt.figure(figsize=(15,8))\n",
    "plt.plot(xlength, theta)\n",
    "plt.grid()\n",
    "plt.show"
   ]
  },
  {
   "cell_type": "code",
   "execution_count": null,
   "id": "30c366ab",
   "metadata": {},
   "outputs": [],
   "source": [
    "results = dict()\n",
    "bounds = [(lmin, lmax)]\n",
    "\n",
    "results['shgo'] = optimize.shgo(L_Object, bounds)   #bounds must be a list [lmin, lmax]\n",
    "results['DA'] = optimize.dual_annealing(L_Object, bounds)\n",
    "results['DE'] = optimize.differential_evolution(L_Object, bounds)\n",
    "\n",
    "bounds, results['shgo']['x'], results['DA']['x'],results['DE']['x']"
   ]
  },
  {
   "cell_type": "code",
   "execution_count": null,
   "id": "26c8cf83",
   "metadata": {},
   "outputs": [],
   "source": [
    "results['shgo_sobol'] = optimize.shgo(L_Object, bounds, n=200, iters=5,\n",
    "                                      sampling_method='sobol')\n",
    "results['shgo_sobol']                               "
   ]
  }
 ],
 "metadata": {
  "kernelspec": {
<<<<<<< HEAD
   "display_name": "Python 3.7.13 ('surrogate')",
=======
   "display_name": "Python 3",
>>>>>>> main
   "language": "python",
   "name": "python3"
  },
  "language_info": {
   "codemirror_mode": {
    "name": "ipython",
    "version": 3
   },
   "file_extension": ".py",
   "mimetype": "text/x-python",
   "name": "python",
   "nbconvert_exporter": "python",
   "pygments_lexer": "ipython3",
<<<<<<< HEAD
   "version": "3.7.13"
  },
  "vscode": {
   "interpreter": {
    "hash": "fcaf520de8922068463cfafc41a7750ae3c51c1c987bfba8ad58100498b05857"
   }
=======
   "version": "3.7.7"
>>>>>>> main
  }
 },
 "nbformat": 4,
 "nbformat_minor": 5
}
