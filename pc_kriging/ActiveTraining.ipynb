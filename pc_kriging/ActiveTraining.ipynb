{
 "cells": [
  {
   "cell_type": "code",
   "execution_count": 360,
   "metadata": {},
   "outputs": [],
   "source": [
    "import numpy as np\n",
    "from pc_kriging import PC_Kriging\n",
    "from datetime import datetime\n",
    "# import matplotlib.pyplot as plt\n",
    "from scipy.stats import norm\n",
    "from doepy import build\n",
    "from scipy import optimize\n",
    "import pandas as pd\n",
    "from numpy import genfromtxt\n",
    "import pickle\n",
    "\n",
    "class Active_Training():\n",
    "\n",
    "    def __init__(self, model=None, settings=None):\n",
    "        if model is None:\n",
    "            model = {\"metamodel\" : 'PCK'}\n",
    "        assert \"metamodel\" in model and \\\n",
    "            \"Missing model type\"\n",
    "        \n",
    "        self.date_record = datetime.now().strftime(\"%Y_%m_%d_%H%M%S\")\n",
    "\n",
    "        #----------------------------------------------------------------------\n",
    "        self.doe_limits = {}              #dict with marginals limits (for initial sampling)\n",
    "        self.config = {}\n",
    "        poly_type = []\n",
    "\n",
    "        self.n_o = settings[\"passive_sampling\"][0]        #DoE size\n",
    "        dim = len(settings[\"marginals_R\"][0])      #Input dimensions\n",
    "        self.n_act = settings[\"active_sampling\"][0]     #Number of active samples\n",
    "        self.passive_strat = settings[\"passive_sampling\"][1]\n",
    "\n",
    "        self.xn_o = np.zeros((self.n_o, dim))      #normalized samples\n",
    "        self.xr_o = np.zeros((self.n_o, dim))      #scaled samples\n",
    "        self.yn_o = np.zeros((self.n_o))           #observations\n",
    "\n",
    "        self.MaternCoef = settings[\"model\"][0]\n",
    "        self.p_max = settings[\"model\"][1]\n",
    "        #----------------------------------------------------------------------\n",
    "        for margin in range (0, dim):\n",
    "            doe_limits['x' + str (margin+1)] = [-1, 1]\n",
    "            poly_type.append(settings[\"marginals_R\"][0]['x' + str (margin + 1)][2])\n",
    "\n",
    "        self.config[\"pol_type\"] = poly_type\n",
    "\n",
    "        #----------------------------------------------------------------------\n",
    "        if model[\"metamodel\"] == 'PCK':\n",
    "            self.surrogate = PC_Kriging(self.config)\n",
    "\n",
    "        # if settings[\"passive_sampling\"][1] == 'LHS':   #Latin hypercube sampling\n",
    "        #     Xdoe_N = build.space_filling_lhs( doe_limits , num_samples = self.n_o )\n",
    "        Xdoe_N = self.passive_sampling(self.n_o)\n",
    "        # # else WE SHOULD ADD 'RND' in case of random sampling  \n",
    "\n",
    "        #----------------------------------------------------------------------\n",
    "        for margin in range (0, dim):\n",
    "            self.xn_o[:, margin] = Xdoe_N['x' + str (margin+1)]\n",
    "            \n",
    "            if self.config[\"pol_type\"][margin] == 'hermite':\n",
    "                mean_ = settings[\"marginals_R\"][0]['x' + str (margin + 1)][0]\n",
    "                var_ = settings[\"marginals_R\"][0]['x' + str (margin + 1)][1]\n",
    "                self.xr_o[:, margin] = self.surrogate.scalehermite( self.xn_o[:, margin], mean_, var_ )\n",
    "            else:\n",
    "                min_ = settings[\"marginals_R\"][0]['x' + str (margin + 1)][0]\n",
    "                max_ = settings[\"marginals_R\"][0]['x' + str (margin + 1)][1]\n",
    "                self.xr_o[:, margin] = self.surrogate.scalelegendre( self.xn_o[:, margin], min_, max_ )\n",
    "        #----------------------------------------------------------------------\n",
    "        self.yn_o = settings[\"active_sampling\"][1](self.xr_o)\n",
    "\n",
    "    def passive_sampling (self, n):\n",
    "        if  self.passive_strat == 'LHS':   #Latin hypercube sampling\n",
    "\n",
    "            return  build.space_filling_lhs( self.doe_limits , num_samples = n )\n",
    "        \n",
    "            # else WE SHOULD ADD 'RND' in case of random sampling  \n",
    "\n",
    "    def active_sampling(self, number_experiments):\n",
    "        if number_experiments is None:\n",
    "            number_experiments = 1\n",
    "\n",
    "        for experiments in range(number_experiments):     \n",
    "\n",
    "            experiment_results = {}   #results file { Surrogate , Pf, CoV_Pf , eLoo , mse }\n",
    "            \n",
    "            for points in range(self.n_act):\n",
    "\n",
    "                mse_results = np.zeros(self.p_max - 1)\n",
    "                opt_length_it = np.zeros(self.p_max - 1)\n",
    "                eloo_results = np.zeros(self.p_max - 1)\n",
    "                \n",
    "                mean_loo = np.zeros(len(xn))\n",
    "                var_loo = np.zeros(len(xn))\n",
    "\n",
    "\n",
    "    def EFF(self, u, v, z):\n",
    "        zl=-2*v\n",
    "        zh=2*v\n",
    "        return ((u-z)*( 2*norm.cdf((z-u)/v) - norm.cdf((zl-u)/v) - norm.cdf((zh-u)/v)) \n",
    "                -(v)*( 2*norm.pdf((z-u)/v) - norm.pdf((zl-u)/v) - norm.pdf((zh-u)/v))  \n",
    "                +(2*v)*(norm.cdf((zh-u)/v) - norm.cdf((zl-u)/v)))\n",
    "    \n",
    "    def U_function(self, u, v):\n",
    "        return np.abs(u)/v\n",
    "    \n",
    "    def VoronoiCell(self, x,xn):   #given x [single value] return the index of the closest xn [array]\n",
    "        dist = self.surrogate.distance(x.reshape(1,-1),xn)\n",
    "        return np.argmin(dist)\n",
    "    \n",
    "    \n",
    "    "
   ]
  },
  {
   "cell_type": "code",
   "execution_count": null,
   "metadata": {},
   "outputs": [],
   "source": []
  },
  {
   "cell_type": "code",
   "execution_count": 359,
   "metadata": {},
   "outputs": [
    {
     "data": {
      "text/plain": [
       "5"
      ]
     },
     "execution_count": 359,
     "metadata": {},
     "output_type": "execute_result"
    }
   ],
   "source": [
    "training_settings[\"model\"][1]"
   ]
  },
  {
   "cell_type": "code",
   "execution_count": 356,
   "metadata": {},
   "outputs": [],
   "source": [
    "def LS1(x):                   #Definition of target limit state\n",
    "    return x*np.sin(x)\n",
    "\n",
    "model = {\"metamodel\" : 'PCK'}\n",
    "training_settings = {\"passive_sampling\" : [20,'LHS'] , # initial samplings [n, dim, method]\n",
    "                     \"marginals_R\" : [{'x1':[0, 15, 'legendre']}],   # {'x1':[Min, Max], 'x2':[mean, var]}  ( if Legendre , if Hermite)\n",
    "                     \"active_sampling\" : [2, LS1, 'U'], #target settings [n_act, targetF, learningF]\n",
    "                     \"model\": [5/2, 5]}                  #modelparameters, matern coeff, max polynomial degree\n",
    "\n",
    "PCK1 = Active_Training(model, training_settings)"
   ]
  },
  {
   "cell_type": "code",
   "execution_count": 351,
   "metadata": {},
   "outputs": [
    {
     "data": {
      "text/plain": [
       "<pc_kriging.PC_Kriging at 0x25afe68db08>"
      ]
     },
     "execution_count": 351,
     "metadata": {},
     "output_type": "execute_result"
    }
   ],
   "source": [
    "n_act = 5\n",
    "experiments = 1\n",
    "\n",
    "def launch_training(number_experiments):\n",
    "    if number_experiments is None:\n",
    "        number_experiments = 1\n",
    "\n",
    "    for experiments in range(number_experiments):     \n",
    "\n",
    "        experiment_results = {}   #results file { Surrogate , Pf, CoV_Pf , eLoo , mse }\n",
    "\n",
    "        for points in range(n_act):\n",
    "\n",
    "            mse_results = np.zeros(p_max-1)\n",
    "            opt_length_it = np.zeros(p_max-1)\n",
    "            eloo_results = np.zeros(p_max-1)\n",
    "        \n",
    "        \n"
   ]
  },
  {
   "cell_type": "code",
   "execution_count": 283,
   "metadata": {},
   "outputs": [
    {
     "data": {
      "text/plain": [
       "'hermite'"
      ]
     },
     "execution_count": 283,
     "metadata": {},
     "output_type": "execute_result"
    }
   ],
   "source": [
    "training_settings[\"marginals_R\"][0]['x' + str (2)][2]"
   ]
  },
  {
   "cell_type": "code",
   "execution_count": 199,
   "metadata": {},
   "outputs": [
    {
     "data": {
      "text/plain": [
       "{'x1': [0, 15, 'legendre']}"
      ]
     },
     "execution_count": 199,
     "metadata": {},
     "output_type": "execute_result"
    }
   ],
   "source": [
    "training_settings[\"marginals_R\"][0]"
   ]
  },
  {
   "cell_type": "code",
   "execution_count": 306,
   "metadata": {},
   "outputs": [],
   "source": [
    "#active training\n",
    "\n",
    "def launch_training(settings):\n",
    "\n",
    "    n = settings[\"passive_sampling\"][0]        #DoE size\n",
    "    dim = len(settings[\"marginals_R\"][0])      #Input dimensions\n",
    "    n_act = settings[\"active_sampling\"][0]     #Number of active samples\n",
    "\n",
    "    xn = np.zeros((n, dim))      #normalized samples\n",
    "    xr = np.zeros((n, dim))      #scaled samples\n",
    "    yn = np.zeros((n))           #observations\n",
    "    #----------------------------------------------------------------------\n",
    "    doe_limits = {}              #dict with marginals limits (for initial sampling)\n",
    "    config = {}\n",
    "    poly_type = []\n",
    "    # marginals_N = {}             #dict for marginals normaliz parameters following 'config'\n",
    "    #----------------------------------------------------------------------\n",
    "    for margin in range (0, dim):\n",
    "        doe_limits['x' + str (margin+1)] = [-1, 1]\n",
    "        poly_type.append(training_settings[\"marginals_R\"][0]['x' + str (margin + 1)][2])\n",
    "\n",
    "    config[\"pol_type\"] = poly_type\n",
    "\n",
    "    if settings[\"passive_sampling\"][1] == 'LHS':\n",
    "        Xdoe_N = build.space_filling_lhs( doe_limits , num_samples = n )\n",
    "    #----------------------------------------------------------------------\n",
    "    for margin in range (0, dim):\n",
    "        xn[:, margin] = Xdoe_N['x' + str (margin+1)]\n",
    "        \n",
    "        if config[\"pol_type\"][margin] == 'hermite':\n",
    "            mean_ = settings[\"marginals_R\"][0]['x' + str (margin + 1)][0]\n",
    "            var_ = settings[\"marginals_R\"][0]['x' + str (margin + 1)][1]\n",
    "            xr[:, margin] = PCK1.surrogate.scalehermite( xn[:, margin], mean_, var_ )\n",
    "        else:\n",
    "            min_ = settings[\"marginals_R\"][0]['x' + str (margin + 1)][0]\n",
    "            max_ = settings[\"marginals_R\"][0]['x' + str (margin + 1)][1]\n",
    "            xr[:, margin] = PCK1.surrogate.scalelegendre( xn[:, margin], min_, max_ )\n",
    "    #----------------------------------------------------------------------\n",
    "    yn = settings[\"active_sampling\"][1](xr)\n",
    "\n",
    "    # for points in range(n_act):\n"
   ]
  },
  {
   "cell_type": "code",
   "execution_count": 290,
   "metadata": {},
   "outputs": [],
   "source": [
    "config1 = {}"
   ]
  },
  {
   "cell_type": "code",
   "execution_count": 299,
   "metadata": {},
   "outputs": [],
   "source": [
    "poly_type = []"
   ]
  },
  {
   "cell_type": "code",
   "execution_count": 302,
   "metadata": {},
   "outputs": [],
   "source": [
    "poly_type.append('legendre')"
   ]
  },
  {
   "cell_type": "code",
   "execution_count": 304,
   "metadata": {},
   "outputs": [],
   "source": [
    "poly_type.append('hermite')"
   ]
  },
  {
   "cell_type": "code",
   "execution_count": 305,
   "metadata": {},
   "outputs": [
    {
     "data": {
      "text/plain": [
       "['legendre', 'hermite']"
      ]
     },
     "execution_count": 305,
     "metadata": {},
     "output_type": "execute_result"
    }
   ],
   "source": [
    "poly_type"
   ]
  },
  {
   "cell_type": "code",
   "execution_count": 284,
   "metadata": {},
   "outputs": [
    {
     "data": {
      "text/plain": [
       "{'pol_type': ['legendre']}"
      ]
     },
     "execution_count": 284,
     "metadata": {},
     "output_type": "execute_result"
    }
   ],
   "source": []
  },
  {
   "cell_type": "code",
   "execution_count": 254,
   "metadata": {},
   "outputs": [
    {
     "data": {
      "text/plain": [
       "<function __main__.LS1(x)>"
      ]
     },
     "execution_count": 254,
     "metadata": {},
     "output_type": "execute_result"
    }
   ],
   "source": [
    "training_settings[\"active_sampling\"][1]"
   ]
  },
  {
   "cell_type": "code",
   "execution_count": 307,
   "metadata": {},
   "outputs": [
    {
     "data": {
      "text/plain": [
       "{'pol_type': ['legendre', 'hermite']}"
      ]
     },
     "execution_count": 307,
     "metadata": {},
     "output_type": "execute_result"
    }
   ],
   "source": [
    "launch_training(training_settings)"
   ]
  },
  {
   "cell_type": "code",
   "execution_count": 212,
   "metadata": {},
   "outputs": [
    {
     "data": {
      "text/plain": [
       "{'pol_type': ['legendre']}"
      ]
     },
     "execution_count": 212,
     "metadata": {},
     "output_type": "execute_result"
    }
   ],
   "source": [
    "config"
   ]
  },
  {
   "cell_type": "code",
   "execution_count": 192,
   "metadata": {},
   "outputs": [
    {
     "ename": "NameError",
     "evalue": "name 'yn' is not defined",
     "output_type": "error",
     "traceback": [
      "\u001b[1;31m---------------------------------------------------------------------------\u001b[0m",
      "\u001b[1;31mNameError\u001b[0m                                 Traceback (most recent call last)",
      "\u001b[1;32m~\\AppData\\Local\\Temp\\ipykernel_9036\\3322290710.py\u001b[0m in \u001b[0;36m<module>\u001b[1;34m\u001b[0m\n\u001b[1;32m----> 1\u001b[1;33m \u001b[0myn\u001b[0m\u001b[1;33m\u001b[0m\u001b[1;33m\u001b[0m\u001b[0m\n\u001b[0m",
      "\u001b[1;31mNameError\u001b[0m: name 'yn' is not defined"
     ]
    }
   ],
   "source": [
    "yn"
   ]
  },
  {
   "cell_type": "code",
   "execution_count": 142,
   "metadata": {},
   "outputs": [],
   "source": [
    "doe_limits = {}\n",
    "marginals_N = {}\n",
    "\n",
    "for margin in range (0, len(config[\"pol_type\"])):\n",
    "    doe_limits['x' + str (margin+1)] = [-1, 1]\n",
    "\n",
    "    if config[\"pol_type\"][margin] == 'hermite':\n",
    "        marginals_N['x' + str (margin+1)] = [0 , 1]\n",
    "    else:\n",
    "        marginals_N['x' + str (margin+1)] = [-1 , 1]"
   ]
  },
  {
   "cell_type": "code",
   "execution_count": 19,
   "metadata": {},
   "outputs": [
    {
     "data": {
      "text/plain": [
       "<bound method PC_Kriging.hermite of <pc_kriging.PC_Kriging object at 0x0000025AFE471688>>"
      ]
     },
     "execution_count": 19,
     "metadata": {},
     "output_type": "execute_result"
    }
   ],
   "source": [
    "PCK1.surrogate.polynomials[0]"
   ]
  },
  {
   "cell_type": "code",
   "execution_count": 6,
   "metadata": {},
   "outputs": [],
   "source": [
    "xr1 = np.array( [9.60173493460726,\n",
    "14.0942931914357,\n",
    "13.3422784718819,\n",
    "6.92708483258534,\n",
    "4.44528591511115,\n",
    "7.66438265483689,\n",
    "0.0286187144815328,\n",
    "5.91008701677294,\n",
    "10.6641810829072,\n",
    "2.13464775089995]).reshape(-1,1)\n",
    "\n",
    "xn1 = PCK1.surrogate.LinearNorm(xr1, 0.0, 15.0, -1.0, 1.0)\n",
    "\n",
    "y1 = LS1(xr1) "
   ]
  }
 ],
 "metadata": {
  "kernelspec": {
   "display_name": "surrogate",
   "language": "python",
   "name": "python3"
  },
  "language_info": {
   "codemirror_mode": {
    "name": "ipython",
    "version": 3
   },
   "file_extension": ".py",
   "mimetype": "text/x-python",
   "name": "python",
   "nbconvert_exporter": "python",
   "pygments_lexer": "ipython3",
   "version": "3.7.13"
  },
  "orig_nbformat": 4
 },
 "nbformat": 4,
 "nbformat_minor": 2
}
