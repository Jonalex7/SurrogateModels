{
 "cells": [
  {
   "cell_type": "code",
   "execution_count": 19,
   "metadata": {},
   "outputs": [],
   "source": [
    "import numpy as np\n",
    "from pc_kriging import PC_Kriging\n",
    "from datetime import datetime\n",
    "# import matplotlib.pyplot as plt\n",
    "from scipy.stats import norm\n",
    "from doepy import build\n",
    "from scipy import optimize\n",
    "import pandas as pd\n",
    "from numpy import genfromtxt\n",
    "import pickle"
   ]
  },
  {
   "cell_type": "code",
   "execution_count": 32,
   "metadata": {},
   "outputs": [],
   "source": [
    "class Active_train():\n",
    "    def __init__(self, model=None, config=None):\n",
    "        if model is None:\n",
    "            model = {\"metamodel\" : ['PCK']}\n",
    "        assert \"metamodel\" in model and \\\n",
    "            \"Missing model type\"\n",
    "        \n",
    "        if config is None:\n",
    "            config = {\"pol_type\": ['hermite', 'legendre']}\n",
    "        assert \"pol_type\" in config and \\\n",
    "            \"Missing config\"\n",
    "        \n",
    "        self.date_record = datetime.now().strftime(\"%Y_%m_%d_%H%M%S\")\n",
    "\n",
    "        self.surrogate = \n",
    "    \n",
    "\n"
   ]
  },
  {
   "cell_type": "code",
   "execution_count": 4,
   "metadata": {},
   "outputs": [],
   "source": [
    "model = {\"metamodel\" : ['PCK']}"
   ]
  },
  {
   "cell_type": "code",
   "execution_count": 11,
   "metadata": {},
   "outputs": [
    {
     "data": {
      "text/plain": [
       "True"
      ]
     },
     "execution_count": 11,
     "metadata": {},
     "output_type": "execute_result"
    }
   ],
   "source": [
    "model[\"metamodel\"][0] == 'PCK'"
   ]
  },
  {
   "cell_type": "code",
   "execution_count": 33,
   "metadata": {},
   "outputs": [],
   "source": [
    "model = {\"metamodel\" : ['PCK']}\n",
    "config = {\"pol_type\": ['hermite', 'hermite']} \n",
    "\n",
    "surrogate = Active_train(model, config)"
   ]
  },
  {
   "cell_type": "code",
   "execution_count": 37,
   "metadata": {},
   "outputs": [
    {
     "data": {
      "text/plain": [
       "<__main__.Active_train at 0x23bf0038508>"
      ]
     },
     "execution_count": 37,
     "metadata": {},
     "output_type": "execute_result"
    }
   ],
   "source": [
    "surrogate"
   ]
  }
 ],
 "metadata": {
  "kernelspec": {
   "display_name": "surrogate",
   "language": "python",
   "name": "python3"
  },
  "language_info": {
   "codemirror_mode": {
    "name": "ipython",
    "version": 3
   },
   "file_extension": ".py",
   "mimetype": "text/x-python",
   "name": "python",
   "nbconvert_exporter": "python",
   "pygments_lexer": "ipython3",
   "version": "3.7.13"
  },
  "orig_nbformat": 4
 },
 "nbformat": 4,
 "nbformat_minor": 2
}
