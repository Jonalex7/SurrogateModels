{
 "cells": [
  {
   "cell_type": "code",
   "execution_count": 1,
   "id": "b1eb3c14",
   "metadata": {},
   "outputs": [],
   "source": [
    "import numpy as np\n",
    "from pc_kriging import PC_Kriging\n",
    "from sklearn.gaussian_process import GaussianProcessRegressor # is it needed?\n",
    "from sklearn.gaussian_process.kernels import RBF # is it needed?\n",
    "import matplotlib.pyplot as plt\n",
    "from scipy.stats import norm\n",
    "from doepy import build\n",
    "from scipy import optimize"
   ]
  },
  {
   "cell_type": "markdown",
   "id": "c18b1947",
   "metadata": {},
   "source": [
    "## Reference function"
   ]
  },
  {
   "cell_type": "code",
   "execution_count": 55,
   "id": "cbf0650d",
   "metadata": {},
   "outputs": [],
   "source": [
    "def UQLab(x):\n",
    "    return x*np.sin(x)\n",
    "    \n",
    "# adaptive learning - expected feasiability function --------------------------------------------------------------\n",
    "\n",
    "def EFF(u,v,z):\n",
    "    zl=-2*v\n",
    "    zh=2*v\n",
    "    return ((u-z)*( 2*norm.cdf((z-u)/v) - norm.cdf((zl-u)/v) - norm.cdf((zh-u)/v)) \n",
    "           -(v)*( 2*norm.pdf((z-u)/v) - norm.pdf((zl-u)/v) - norm.pdf((zh-u)/v))  \n",
    "           +(2*v)*(norm.cdf((zh-u)/v) - norm.cdf((zl-u)/v)))\n",
    "\n",
    "def U_function(u, v):\n",
    "    return np.abs(u)/v\n",
    "\n",
    "def VoronoiCell(x,xn):   #given x [single value] return the index of the closest xn [array]\n",
    "    dist=PCK1.distance(x.reshape(1,-1),xn)\n",
    "    return np.argmin(dist)"
   ]
  },
  {
   "cell_type": "markdown",
   "id": "adf739bb",
   "metadata": {},
   "source": [
    "Objective function"
   ]
  },
  {
   "cell_type": "code",
   "execution_count": 17,
   "id": "839b7e5c",
   "metadata": {},
   "outputs": [],
   "source": [
    "# objective function to optimize length scale --------------------------------------------------------\n",
    "def L_Object (l):\n",
    "    v=5/2\n",
    "    N=len(xn)\n",
    "    R = PCK1.matern(xn , xn, l, v)\n",
    "    detR = np.linalg.det(R)\n",
    "    \n",
    "    modelpar2 = PCK1.train(xn, y, p, np.array([l,v]))    # returns B, sig2, InfoMatrix(phi) , PolyIndices(alpha)\n",
    "    ### ------------------Theta_ by UQLab User Manual PCK(C. Lataniotis, D. Wicaksono, S. Marelli, B. Sudret)------------------------------\n",
    "    sig2 = modelpar2[1].reshape(-1)\n",
    "    # return 0.5*(np.log(detR)+ N*np.log(2*np.pi*sig2)+ N)\n",
    "\n",
    "    ### ------------------Theta_ by MLE PCK(Schobi,Sudret,Wiart)------------------------------\n",
    "    FB = PCK1.InfoMat @ modelpar2[0]\n",
    "    ins = (y-FB).reshape(-1)\n",
    "    R_1 = np.linalg.inv(R)\n",
    "    return ((ins.T) @ R_1 @ ins) * (1/N) * (detR**(1/N))"
   ]
  },
  {
   "cell_type": "markdown",
   "id": "95528f9d",
   "metadata": {},
   "source": [
    "### Creating object"
   ]
  },
  {
   "cell_type": "code",
   "execution_count": 12,
   "id": "0dd57f41",
   "metadata": {},
   "outputs": [],
   "source": [
    "config = {\"pol_type\": ['legendre']}   #design variables following normal distribution\n",
    "PCK1 = PC_Kriging(config)"
   ]
  },
  {
   "cell_type": "markdown",
   "id": "9f9cbad9",
   "metadata": {},
   "source": [
    "### Creating and evaluating ref function"
   ]
  },
  {
   "cell_type": "code",
   "execution_count": 13,
   "id": "8a81acb0",
   "metadata": {},
   "outputs": [],
   "source": [
    "function = UQLab   #choose the ground truth function\n",
    "\n",
    "dim = 1       # dimensionality\n",
    "n = 6   # observations\n",
    "seed = 0      # fixing seed random number generator\n",
    "\n",
    "np.random.seed(seed)         #fixing seed random number generator\n",
    "\n",
    "xn = np.zeros((int(n), dim))      #normalized training points\n",
    "xr = np.zeros((int(n), dim))      #scaled training points\n",
    "\n",
    "#LatinHypercubeSampling-----------------------------------------------\n",
    "Xdoe=build.space_filling_lhs({'X':[-1,1]}, num_samples = n )   # variables may increase...{'X2':[min2, max2],'X3':[min2, max2]}\n",
    "#-----------------------------------------------------random Variable 1\n",
    "# x1mean = 1.5                           \n",
    "# x1sigma = 1.0\n",
    "x1min=0\n",
    "x1max=15\n",
    "# xn[:,0] = np.random.normal(0, 1, n)\n",
    "#        \n",
    "xn[:,0] = np.sort(Xdoe,0).reshape(-1)             \n",
    "xr[:,0] = PCK1.scalelegendre(xn[:,0], x1min, x1max)\n",
    " \n",
    "#-----------------------------------------------------random Variable 2\n",
    "\n",
    "# x2mean = 2.5              \n",
    "# x2sigma = 1.0  \n",
    "\n",
    "# xn[:,1] = np.random.normal(0, 1, n)                             \n",
    "# xr[:,1] = PCK1.scalehermite(xn[:,1], x2mean, x2sigma) \n",
    "\n",
    "#=====================================================\n",
    "# Evaluation of observations \n",
    "y = function(xr)          #Observations\n",
    "# y = y[0]"
   ]
  },
  {
   "cell_type": "code",
   "execution_count": 10,
   "id": "753c34cc",
   "metadata": {},
   "outputs": [
    {
     "name": "stdout",
     "output_type": "stream",
     "text": [
      "kernel 1   : 5.06**2 * RBF(length_scale=0.0432)\n"
     ]
    }
   ],
   "source": [
    "#optimizing kernell-hyperparameters and fitting GP regressor with Scikit-learn package----------------------------\n",
    "kernel = 1 * RBF(length_scale=1.5, length_scale_bounds=(1e-2, 1e2))\n",
    "gaussian_process = GaussianProcessRegressor(kernel=kernel, n_restarts_optimizer=9)\n",
    "gaussian_process.fit(xn, y)\n",
    "ke= gaussian_process.kernel_\n",
    "print(\"kernel 1   :\",ke)"
   ]
  },
  {
   "cell_type": "markdown",
   "id": "d1704c27",
   "metadata": {},
   "source": [
    "## Training the model"
   ]
  },
  {
   "cell_type": "code",
   "execution_count": 19,
   "id": "47f27025",
   "metadata": {},
   "outputs": [
    {
     "data": {
      "text/plain": [
       "(array([[-15.92373931],\n",
       "        [ 44.55105983],\n",
       "        [  9.08836944]]),\n",
       " array([[135545.64961953]]))"
      ]
     },
     "execution_count": 19,
     "metadata": {},
     "output_type": "execute_result"
    }
   ],
   "source": [
    "#train model -----------------------------------------\n",
    "\n",
    "# kernel hyperparameters------------------------------\n",
    "l = 3 #length scale\n",
    "v = 5/2    #matern coefficient\n",
    "theta = np.array([l,v])\n",
    "\n",
    "#truncation term-------------------------------------\n",
    "p = 2  #for each variable → same truncation , degree of expansion\n",
    "\n",
    "modelpar1 = PCK1.train(xn, y, p, theta)    # returns B, sig2, InfoMatrix(phi) , PolyIndices(alpha)\n",
    "modelpar1[0], modelpar1[1]   ## B, sig2"
   ]
  },
  {
   "cell_type": "code",
   "execution_count": 18,
   "id": "dcab8dea",
   "metadata": {},
   "outputs": [
    {
     "name": "stderr",
     "output_type": "stream",
     "text": [
      "C:\\Users\\Administrator\\anaconda3\\envs\\surrogate\\lib\\site-packages\\ipykernel_launcher.py:8: VisibleDeprecationWarning: Creating an ndarray from ragged nested sequences (which is a list-or-tuple of lists-or-tuples-or ndarrays with different lengths or shapes) is deprecated. If you meant to do this, you must specify 'dtype=object' when creating the ndarray.\n",
      "  \n"
     ]
    },
    {
     "data": {
      "text/plain": [
       "([(3.0, 15.0)], array([3.]), array([3.]), array([3.]))"
      ]
     },
     "execution_count": 18,
     "metadata": {},
     "output_type": "execute_result"
    }
   ],
   "source": [
    "dist = PCK1.distance(xr, xr)\n",
    "lmax = np.max(dist)\n",
    "lmin = np.min(dist[dist!=0])\n",
    "\n",
    "results = dict()\n",
    "bounds = [(lmin, lmax)]\n",
    "\n",
    "results['shgo'] = optimize.shgo(L_Object, bounds)   #bounds must be a list [lmin, lmax]\n",
    "results['DA'] = optimize.dual_annealing(L_Object, bounds)\n",
    "results['DE'] = optimize.differential_evolution(L_Object, bounds)\n",
    "\n",
    "bounds, results['shgo']['x'], results['DA']['x'],results['DE']['x']"
   ]
  },
  {
   "cell_type": "markdown",
   "id": "e93a2882",
   "metadata": {},
   "source": [
    "### Generating prediction points"
   ]
  },
  {
   "cell_type": "code",
   "execution_count": 21,
   "id": "b5ac4e85",
   "metadata": {},
   "outputs": [],
   "source": [
    "# model predictions -----------------------------------------\n",
    "\n",
    "ntest = 200  # test points\n",
    "seed = 0      # fixing seed random number generator\n",
    "np.random.seed(seed)         #fixing seed random number generator\n",
    "\n",
    "# test points -------------------------------------------------\n",
    "XN = np.zeros((int(ntest), dim))  #normalized test points\n",
    "XR = np.zeros((int(ntest), dim))  #scaled test points \n",
    "#variable 1 ---------------------------------------------------\n",
    "# XN[:,0] = np.random.uniform(-1,1,ntest)\n",
    "XN[:,0] = np.linspace(-0.99,0.99,ntest)\n",
    "XR[:,0] = PCK1.scalelegendre(XN[:,0].reshape(-1,), x1min, x1max) \n",
    "#variable 2 ---------------------------------------------------\n",
    "# XN[:,1] = np.random.normal(0,1,ntest)  \n",
    "# XR[:,1] = PCK1.scalehermite(XN[:,1],x2mean,x2sigma)  \n",
    "\n",
    "Mtest = function(XR)    #test points\n",
    "mean1,var1 = PCK1.predict(XN)"
   ]
  },
  {
   "cell_type": "markdown",
   "id": "c783de4d",
   "metadata": {},
   "source": [
    "### Variance enhancement (LOOcv)"
   ]
  },
  {
   "cell_type": "code",
   "execution_count": 87,
   "id": "2a4fb3ab",
   "metadata": {},
   "outputs": [],
   "source": [
    "#Generating PCK models for each reduced design of experiments \n",
    "PCK_loo = PC_Kriging(config)    # same 'config' as specified in the original model\n",
    "\n",
    "mean_loo = np.zeros(n)\n",
    "var_loo = np.zeros(n)\n",
    "\n",
    "for i in range (0,n):             \n",
    "    yn_loo =  np.delete(y,[i])                              #y_n-i      leaving element i out the observations \n",
    "    xr_loo= np.delete(xr,i).reshape(-1,dim)      #x1r_n-i   leaving element i out the inputs (xr)\n",
    "    xn_loo= np.delete(xn,i).reshape(-1,dim)      #x_n-i     leaving element i out the nomalized inputs (xn)\n",
    "\n",
    "    #training LOO\n",
    "    modelpar_loo = PCK_loo.train (xn_loo,yn_loo,p,theta)   # same (p, theta) as specified in the original model\n",
    "     \n",
    "    #predicting LOO\n",
    "    mean_loo[i], var_loo[i] = PCK_loo.predict(xn[i].reshape(1,-1))\n",
    "               \n",
    "e_loo = (y - mean_loo.reshape(-1,dim))**2              #LOO CV squared errors\n",
    "sumat = np.divide(e_loo,var_loo).reshape(-1,dim)        #vector (e_loo / s_loo) for each observed point\n",
    "\n",
    "LOOCV=np.zeros(ntest)\n",
    "\n",
    "for k in range (0,ntest):               #variance enhancement based LOO CV erros around voronoi cells\n",
    "    voro = VoronoiCell(XR[k],xr)\n",
    "    \n",
    "    LOOCV[k]= var1[k]*(1+sumat[voro])   "
   ]
  },
  {
   "cell_type": "code",
   "execution_count": 90,
   "id": "2a4cfb4f",
   "metadata": {},
   "outputs": [],
   "source": [
    "z=0    #target value\n",
    "\n",
    "eff1 = np.zeros(ntest)\n",
    "\n",
    "eff1 = EFF(np.squeeze(mean1),LOOCV,z)\n",
    "\n",
    "U_f = U_function(mean1.reshape(-1), LOOCV.reshape(-1))"
   ]
  },
  {
   "cell_type": "code",
   "execution_count": 92,
   "id": "ae54e930",
   "metadata": {},
   "outputs": [
    {
     "data": {
      "text/plain": [
       "<matplotlib.legend.Legend at 0x1519d5b90c8>"
      ]
     },
     "execution_count": 92,
     "metadata": {},
     "output_type": "execute_result"
    },
    {
     "data": {
      "image/png": "[encoded data removed]",
      "text/plain": [
       "<Figure size 1152x720 with 2 Axes>"
      ]
     },
     "metadata": {
      "needs_background": "light"
     },
     "output_type": "display_data"
    }
   ],
   "source": [
    "ymin=(mean1 - 1.96*(LOOCV.reshape(-1,1))**0.5)\n",
    "ymax=(mean1 + 1.96*(LOOCV.reshape(-1,1))**0.5)\n",
    "\n",
    "# sorting in case of random samples for ploting\n",
    "\n",
    "ind=np.argsort(np.squeeze(XR))\n",
    "a,b,c=np.asarray(XR)[ind], np.asarray(ymin)[ind], np.asarray(ymax)[ind]\n",
    "\n",
    "#%matplotlib notebook \n",
    "fig, ax1 = plt.subplots(figsize=(16,10))\n",
    "\n",
    "ax2=ax1.twinx()\n",
    "\n",
    "\n",
    "# fig = plt.figure(figsize=(15,8))\n",
    "# ax=fig.add_axes([0,0,1,1])\n",
    "ax1.scatter(XR,Mtest,label=r\"trueF\",color='grey',s=5)\n",
    "# plt.scatter(XR,mean1,label=r\"PC trend\",color='blue',s=5)\n",
    "ax1.scatter(XR,mean1,label=r\"PCK\",color='g',s=7)\n",
    "ax1.scatter(xr, y, label=\"Observations\",marker=\"x\",color='r',s=200)\n",
    "ax1.legend(prop={'size': 10})\n",
    "ax1.fill_between(\n",
    "    a.ravel(),\n",
    "    b.ravel(),\n",
    "    c.ravel(),\n",
    "    alpha=0.3,\n",
    "    label=r\"95% Confidence interval\",\n",
    ")\n",
    "\n",
    "# ax2.plot(XR,eff1,label=\"EFF\",linestyle='dashed',linewidth=1,color='k')\n",
    "ax2.plot(XR,U_f,label=\"U\",linestyle='dashed',linewidth=1,color='b')\n",
    "\n",
    "ax1.axhline(z,label=\"Target\", color='red', linestyle='dashed',linewidth=1)\n",
    "ax1.legend(prop={'size': 11})\n",
    "ax2.legend(prop={'size': 11})\n",
    "# ax2.set_ylim(0,1)\n",
    "# plt.xlim([0, 1.75])\n",
    "# plt.ylim([-20.0, 20.0])"
   ]
  },
  {
   "cell_type": "code",
   "execution_count": null,
   "id": "09c35546",
   "metadata": {},
   "outputs": [],
   "source": [
    "ymin=(mean1 - 1.96*(var1.reshape(-1,1))**0.5)\n",
    "ymax=(mean1 + 1.96*(var1.reshape(-1,1))**0.5)\n",
    "\n",
    "# sorting in case of random samples for ploting\n",
    "\n",
    "ind=np.argsort(np.squeeze(XR))\n",
    "a,b,c=np.asarray(XR)[ind], np.asarray(ymin)[ind], np.asarray(ymax)[ind]\n",
    "\n",
    "#%matplotlib notebook \n",
    "fig, ax1 = plt.subplots(figsize=(16,10))\n",
    "\n",
    "ax2=ax1.twinx()\n",
    "\n",
    "\n",
    "# fig = plt.figure(figsize=(15,8))\n",
    "# ax=fig.add_axes([0,0,1,1])\n",
    "ax1.scatter(XR,Mtest,label=r\"trueF\",color='grey',s=5)\n",
    "# plt.scatter(XR,mean1,label=r\"PC trend\",color='blue',s=5)\n",
    "ax1.scatter(XR,mean1,label=r\"PCK\",color='g',s=7)\n",
    "ax1.scatter(xr, y, label=\"Observations\",marker=\"x\",color='r',s=200)\n",
    "ax1.legend(prop={'size': 10})\n",
    "ax1.fill_between(\n",
    "    a.ravel(),\n",
    "    b.ravel(),\n",
    "    c.ravel(),\n",
    "    alpha=0.3,\n",
    "    label=r\"95% Confidence interval\",\n",
    ")\n",
    "\n",
    "ax2.plot(XR,eff1,label=\"EFF\",linestyle='dashed',linewidth=1,color='k')\n",
    "# ax2.plot(XR,U_f,label=\"U\",linestyle='dashed',linewidth=1,color='b')\n",
    "\n",
    "ax1.axhline(z,label=\"Target\", color='red', linestyle='dashed',linewidth=1)\n",
    "ax1.legend(prop={'size': 11})\n",
    "ax2.legend(prop={'size': 11})\n",
    "# ax2.set_ylim(0,1)\n",
    "# plt.xlim([0, 1.75])\n",
    "# plt.ylim([-20.0, 20.0])"
   ]
  },
  {
   "cell_type": "markdown",
   "id": "33d62d31",
   "metadata": {},
   "source": [
    "Function to graph the evolution Theta varying 'length scale'"
   ]
  },
  {
   "cell_type": "code",
   "execution_count": null,
   "id": "bf2ba1c6",
   "metadata": {},
   "outputs": [],
   "source": [
    "\n",
    "def Lscale (l):\n",
    "    v=5/2\n",
    "    detR = np.zeros(len(l))\n",
    "    theta = np.zeros(len(l))\n",
    "    sig2 = np.zeros(len(l))\n",
    "    \n",
    "    N=len(xn)\n",
    "    \n",
    "\n",
    "    for i in range(0, len(l)):       \n",
    "        R = PCK1.matern(xn , xn, l[i], v)\n",
    "        detR[i] = np.linalg.det(R)\n",
    "        modelpar2 = PCK1.train(xn, y, p, np.array([l[i],v]))    # returns B, sig2, InfoMatrix(phi) , PolyIndices(alpha)\n",
    "        sig2[i] = modelpar2[1].reshape(-1)\n",
    "        \n",
    "        # theta[i] = 0.5*(np.log(detR[i])+ N*np.log(2*np.pi*sig2[i])+ N)\n",
    "\n",
    "        ### ------------------Theta_ by MLE PCK(Schobi,Sudret,Wiart)------------------------------\n",
    "        FB = modelpar2[2] @ modelpar2[0]\n",
    "        ins = (y-FB).reshape(-1)\n",
    "        R_1 = np.linalg.inv(R)\n",
    "        theta[i] = ((ins.T) @ R_1 @ ins) * (1/N) * (detR[i]**(1/N))\n",
    "\n",
    "    return theta , detR, sig2"
   ]
  },
  {
   "cell_type": "code",
   "execution_count": null,
   "id": "ba2ec84c",
   "metadata": {},
   "outputs": [],
   "source": [
    "def L_Object (l):\n",
    "    v=5/2\n",
    "    N=len(xn)\n",
    "    R = PCK1.matern(xn , xn, l, v)\n",
    "    detR = np.linalg.det(R)\n",
    "\n",
    "    modelpar2 = PCK1.train(xn, y, p, np.array([l,v]))    # returns B, sig2, InfoMatrix(phi) , PolyIndices(alpha)\n",
    "\n",
    "    sig2 = modelpar2[1].reshape(-1)\n",
    "    # return 0.5*(np.log(detR)+ N*np.log(2*np.pi*sig2)+ N)\n",
    "\n",
    "    ### ------------------Theta_ by MLE PCK(Schobi,Sudret,Wiart)------------------------------\n",
    "    FB = modelpar2[2] @ modelpar2[0]\n",
    "    ins = (y-FB).reshape(-1)\n",
    "    R_1 = np.linalg.inv(R)\n",
    "    return ((ins.T) @ R_1 @ ins) * (1/N) * (detR**(1/N))"
   ]
  },
  {
   "cell_type": "code",
   "execution_count": null,
   "id": "758a4654",
   "metadata": {},
   "outputs": [],
   "source": [
    "Graph_bound = np.array([lmin, lmax])\n",
    "xlength=np.linspace(Graph_bound[0], Graph_bound[1], 1000)\n",
    "theta, detR, sig2 = Lscale(xlength)\n",
    "\n",
    "\n",
    "fig = plt.figure(figsize=(15,8))\n",
    "plt.plot(xlength, theta)\n",
    "plt.grid()\n",
    "plt.show"
   ]
  },
  {
   "cell_type": "code",
   "execution_count": null,
   "id": "d470c260",
   "metadata": {},
   "outputs": [],
   "source": [
    "results = dict()\n",
    "bounds = [(lmin, lmax)]\n",
    "\n",
    "results['shgo'] = optimize.shgo(L_Object, bounds)   #bounds must be a list [lmin, lmax]\n",
    "results['DA'] = optimize.dual_annealing(L_Object, bounds)\n",
    "results['DE'] = optimize.differential_evolution(L_Object, bounds)\n",
    "\n",
    "bounds, results['shgo']['x'], results['DA']['x'],results['DE']['x']"
   ]
  },
  {
   "cell_type": "code",
   "execution_count": null,
   "id": "89718197",
   "metadata": {},
   "outputs": [],
   "source": [
    "results['shgo_sobol'] = optimize.shgo(L_Object, bounds, n=200, iters=5,\n",
    "                                      sampling_method='sobol')\n",
    "results['shgo_sobol']                               "
   ]
  }
 ],
 "metadata": {
  "kernelspec": {
   "display_name": "Python 3 (ipykernel)",
   "language": "python",
   "name": "python3"
  },
  "language_info": {
   "codemirror_mode": {
    "name": "ipython",
    "version": 3
   },
   "file_extension": ".py",
   "mimetype": "text/x-python",
   "name": "python",
   "nbconvert_exporter": "python",
   "pygments_lexer": "ipython3",
   "version": "3.7.13"
  },
  "vscode": {
   "interpreter": {
    "hash": "fcaf520de8922068463cfafc41a7750ae3c51c1c987bfba8ad58100498b05857"
   }
  }
 },
 "nbformat": 4,
 "nbformat_minor": 5
}
